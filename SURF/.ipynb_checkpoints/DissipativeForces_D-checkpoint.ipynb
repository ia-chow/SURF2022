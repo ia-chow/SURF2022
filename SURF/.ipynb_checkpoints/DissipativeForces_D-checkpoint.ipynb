{
 "cells": [
  {
   "cell_type": "code",
   "execution_count": 1,
   "metadata": {},
   "outputs": [],
   "source": [
    "import rebound as rb\n",
    "from matplotlib import pyplot as plt\n",
    "import celmech as cm\n",
    "import numpy as np\n",
    "import sympy as sp\n",
    "import radvel\n",
    "import pandas as pd\n",
    "import h5py"
   ]
  },
  {
   "cell_type": "code",
   "execution_count": 2,
   "metadata": {},
   "outputs": [],
   "source": [
    "#Least squares fit: \n",
    "fit_params = [ 2.28513053e+02, 7.27743508e+00, 5.39371890e+04, -1.78110513e-01, \n",
    "              -4.66450116e-02, 3.43378023e+02, 1.78603199e+01, 5.40186750e+04,\n",
    "               1.32165040e-01, 9.73129308e-02, -5.29039776e-01] \n",
    "\n",
    "# star mass, g and auday to m/s conversion factor\n",
    "STAR_MASS = 920  # 920 jupiter masses\n",
    "G = 2.825e-7  # converting G to jupiter masses, au, and days\n",
    "AUDAY_MS = 1.731e6  # conversion factor for au/day to m/s\n",
    "\n",
    "def mass_to_semiamp(planet_mass, star_mass, period, eccentricity, inclination):\n",
    "    \"\"\"\n",
    "    planet mass (jupiter masses) to semi amplitude\n",
    "    \"\"\"\n",
    "    return ((2 * np.pi * G/period) ** (1/3) * (planet_mass * np.sin(inclination) / star_mass ** (2/3)) * (1/np.sqrt(1 - eccentricity ** 2)))\n",
    "\n",
    "def semiamp_to_mass(semiamp, star_mass, period, eccentricity, inclination):\n",
    "    \"\"\"\n",
    "    semi amplitude to planet mass (jupiter masses)\n",
    "    \"\"\"\n",
    "    return (((2 * np.pi * G/period) ** (-1/3)) * (semiamp / np.sin(inclination)) * np.sqrt(1 - eccentricity ** 2) * (star_mass ** (2/3)))\n",
    "\n",
    "\n",
    "def get_sim_from_params(params, inclination, integrator, time_base, star_mass = STAR_MASS, auday_ms = AUDAY_MS):\n",
    "    \"\"\"\n",
    "    takes in params array, returns a rebound Simulation object with those parameters\n",
    "    \n",
    "    param params: numpy array of params:\n",
    "    \n",
    "    for i in range(0, num_planets):\n",
    "    \n",
    "    params[i + 0] is period\n",
    "    params[i + 1] is semiamp\n",
    "    params[i + 2] is tc (time of conjunction)\n",
    "    params[i + 3] is sqrt(e) * cos(omega)\n",
    "    params[i + 4] is sqrt(e) * sin(omega)\n",
    "    \n",
    "    params[5 * num_planets] is rv offset\n",
    "    params[5 * num_planets + 1] is jit\n",
    "    \n",
    "    param inclination: inclination of system in the observation plane (pi/2 is in the plane of the sky, 0 is edge-on)\n",
    "    param integrator: integrator to use, one of 'whfast' or 'ias15'\n",
    "    param time_base: base time (to begin integration from) in the simulation\n",
    "    \"\"\"\n",
    "    \n",
    "    num_planets = int((len(params) - 1) / 5) # -2 because there are rv_offset and jit parameters:\n",
    "    \n",
    "    sim = rb.Simulation()\n",
    "    sim.integrator = integrator\n",
    "    sim.t = time_base  # keplerian and n-body models initialized at the same time offset\n",
    "    # print(sim.t)\n",
    "    if integrator == 'whfast':  # if using whfast integrator, set timestep\n",
    "        sim.dt = 1/50 * min(params[0::5][:-1])  # timestep is 1/20th of the shortest orbital period of any planet\n",
    "        # print(sim.dt)\n",
    "    sim.units = ('AU', 'Mjupiter', 'day')\n",
    "\n",
    "    sim.add(m = star_mass)  # star mass as a constant\n",
    "        \n",
    "    for i in range (0, num_planets):\n",
    "        # print(i)\n",
    "        # planet parameters\n",
    "        period = params[5*i]  # in days\n",
    "        semiamp = params[5*i + 1] / auday_ms # divide by auday_ms because semiamp given in m/s\n",
    "        eccentricity = params[5*i + 3] ** 2 + params[5*i + 4] ** 2  # eccentricity from secos, sesin\n",
    "        omega = np.arctan2(params[5*i + 4], params[5*i + 3])  # omega from arctan of sesin, secos\n",
    "        # get tp by converting from tc\n",
    "        tp = radvel.orbit.timetrans_to_timeperi(params[5*i + 2], per = period, ecc = eccentricity, omega = omega)\n",
    "        \n",
    "        # mass\n",
    "        mass = semiamp_to_mass(semiamp = semiamp, star_mass = star_mass, period = period, eccentricity = eccentricity, inclination = inclination)\n",
    "        \n",
    "        # adding to simulation\n",
    "        sim.add(m = mass, P = period, e = eccentricity, T = tp, omega = omega, inc = inclination)\n",
    "        \n",
    "    sim.move_to_com()  # move to center of mass\n",
    "    \n",
    "    return sim\n",
    "\n",
    "def get_simple_sim(masses, integrator = 'ias15', period_ratio = 3/2, epsilon=0.01):\n",
    "    \"\"\"\n",
    "    gets simple sim (for eccentricity track stuff)\n",
    "    param masses: array of planet masses\n",
    "    param integrator: integrator\n",
    "    param epsilon: amount by which the resonant period ratio should be offset from the equilibrium in the simulation\n",
    "    \"\"\"\n",
    "    sim = rb.Simulation()\n",
    "    sim.integrator = integrator\n",
    "    # central star\n",
    "    sim.add(m = 1)\n",
    "    \n",
    "    sim.add(m = masses[0], P = 1)\n",
    "    sim.add(m = masses[1], P = period_ratio * (1 + epsilon))\n",
    "\n",
    "    sim.move_to_com()\n",
    "    if integrator == 'whfast':\n",
    "        sim.dt = 1/50 * 1  # dy default use 1/50th of the inner planet's orbital period for the timestep if using whfast\n",
    "    return sim"
   ]
  },
  {
   "cell_type": "code",
   "execution_count": 3,
   "metadata": {},
   "outputs": [],
   "source": [
    "# sim=rb.Simulation()\n",
    "# sim.add(m=1)\n",
    "# sim.add(m=1e-4,P=1)\n",
    "# sim.add(m=1e-4,P=1.5)\n",
    "\n",
    "gsim = get_sim_from_params(fit_params, inclination = np.pi/2, integrator= 'ias15', time_base = 0)\n",
    "\n",
    "masses = np.array([gsim.particles[1].m, gsim.particles[2].m])/gsim.particles[0].m  # divide by star mass!\n",
    "sim = get_simple_sim(masses, integrator = 'ias15')\n",
    "\n",
    "pvars = cm.Poincare.from_Simulation(sim)\n",
    "pham = cm.PoincareHamiltonian(pvars)"
   ]
  },
  {
   "cell_type": "markdown",
   "metadata": {},
   "source": [
    "Add MMR terms:"
   ]
  },
  {
   "cell_type": "code",
   "execution_count": 4,
   "metadata": {},
   "outputs": [],
   "source": [
    "pham.add_MMR_terms(3, 1, max_order = 1, inclinations=False)  # try adding max order up to 3"
   ]
  },
  {
   "cell_type": "code",
   "execution_count": 5,
   "metadata": {},
   "outputs": [],
   "source": [
    "A = np.eye(pham.N_dof,dtype = int)\n",
    "A[0,:4] = [-2,3,1,0]\n",
    "A[1,:4] = [-2,3,0,1]\n",
    "A[2,:4] = [1,-1,0,0]\n",
    "A[3,:4] = [-2,3,0,0]\n",
    "angvars=sp.symbols(\"theta1,theta2,psi,l,phi1,phi2\",real=True)\n",
    "actions=sp.symbols(\"p1,p2,Psi,L,Phi1,Phi2\",positive=True)\n",
    "_,_,Psi,L,_,_=actions\n",
    "ct1 = cm.CanonicalTransformation.from_poincare_angles_matrix(pvars,A,new_qp_pairs=list(zip(angvars,actions)))"
   ]
  },
  {
   "cell_type": "markdown",
   "metadata": {},
   "source": [
    "'ham1' will be the Hamiltonian in the resonant variables you're used to"
   ]
  },
  {
   "cell_type": "code",
   "execution_count": 6,
   "metadata": {},
   "outputs": [
    {
     "data": {
      "text/latex": [
       "$\\displaystyle - \\frac{\\sqrt{2} C_{(3,-2,-1,0,0,0)}^{(0,0,0,0),(0,0)}(\\alpha_{1,2}) G m_{1} m_{2} \\sqrt{p_{1}} \\cos{\\left(\\theta_{1} \\right)}}{\\sqrt{\\Lambda_{1,0}} a_{2,0}} - \\frac{\\sqrt{2} C_{(3,-2,0,-1,0,0)}^{(0,0,0,0),(0,0)}(\\alpha_{1,2}) G m_{1} m_{2} \\sqrt{p_{2}} \\cos{\\left(\\theta_{2} \\right)}}{\\sqrt{\\Lambda_{2,0}} a_{2,0}} - \\frac{G^{2} M_{1}^{2} \\mu_{1}^{3}}{2 \\left(- 2 L + \\Psi - 2 p_{1} - 2 p_{2}\\right)^{2}} - \\frac{G^{2} M_{2}^{2} \\mu_{2}^{3}}{2 \\left(3 L - \\Psi + 3 p_{1} + 3 p_{2}\\right)^{2}}$"
      ],
      "text/plain": [
       "                                                                    ____      \n",
       "  √2⋅C_{(3,-2,-1,0,0,0)}_{1,2})__{(0,0,0,0),(0,0)}(\\alpha⋅G⋅m₁⋅m₂⋅╲╱ p₁ ⋅cos(θ\n",
       "- ────────────────────────────────────────────────────────────────────────────\n",
       "                              _______________                                 \n",
       "                            ╲╱ \\Lambda_{1,0} ⋅a_{2,0}                         \n",
       "\n",
       "                                                                       ____   \n",
       "₁)   √2⋅C_{(3,-2,0,-1,0,0)}_{1,2})__{(0,0,0,0),(0,0)}(\\alpha⋅G⋅m₁⋅m₂⋅╲╱ p₂ ⋅co\n",
       "── - ─────────────────────────────────────────────────────────────────────────\n",
       "                                 _______________                              \n",
       "                               ╲╱ \\Lambda_{2,0} ⋅a_{2,0}                      \n",
       "\n",
       "                  2   2   3                    2   2   3        \n",
       "s(θ₂)            G ⋅M₁ ⋅μ₁                    G ⋅M₂ ⋅μ₂         \n",
       "───── - ─────────────────────────── - ──────────────────────────\n",
       "                                  2                            2\n",
       "        2⋅(-2⋅L + Ψ - 2⋅p₁ - 2⋅p₂)    2⋅(3⋅L - Ψ + 3⋅p₁ + 3⋅p₂) "
      ]
     },
     "execution_count": 6,
     "metadata": {},
     "output_type": "execute_result"
    }
   ],
   "source": [
    "ham1=ct1.old_to_new_hamiltonian(pham,do_reduction=True)\n",
    "ham1.H"
   ]
  },
  {
   "cell_type": "markdown",
   "metadata": {},
   "source": [
    "'ham2' transforms from polar $(\\theta_i,p_i)$ variables to cartesian $(y_i,x_i)$ variables. These are usually more convenient for numerical integration and root-finding"
   ]
  },
  {
   "cell_type": "code",
   "execution_count": 7,
   "metadata": {},
   "outputs": [
    {
     "data": {
      "text/latex": [
       "$\\displaystyle - \\frac{C_{(3,-2,-1,0,0,0)}^{(0,0,0,0),(0,0)}(\\alpha_{1,2}) G m_{1} m_{2} x_{1}}{\\sqrt{\\Lambda_{1,0}} a_{2,0}} - \\frac{C_{(3,-2,0,-1,0,0)}^{(0,0,0,0),(0,0)}(\\alpha_{1,2}) G m_{1} m_{2} x_{2}}{\\sqrt{\\Lambda_{2,0}} a_{2,0}} - \\frac{G^{2} M_{1}^{2} \\mu_{1}^{3}}{8 L^{2} - 8 L \\Psi + 8 L x_{1}^{2} + 8 L x_{2}^{2} + 8 L y_{1}^{2} + 8 L y_{2}^{2} + 2 \\Psi^{2} - 4 \\Psi x_{1}^{2} - 4 \\Psi x_{2}^{2} - 4 \\Psi y_{1}^{2} - 4 \\Psi y_{2}^{2} + 2 x_{1}^{4} + 4 x_{1}^{2} x_{2}^{2} + 4 x_{1}^{2} y_{1}^{2} + 4 x_{1}^{2} y_{2}^{2} + 2 x_{2}^{4} + 4 x_{2}^{2} y_{1}^{2} + 4 x_{2}^{2} y_{2}^{2} + 2 y_{1}^{4} + 4 y_{1}^{2} y_{2}^{2} + 2 y_{2}^{4}} - \\frac{2 G^{2} M_{2}^{2} \\mu_{2}^{3}}{36 L^{2} - 24 L \\Psi + 36 L x_{1}^{2} + 36 L x_{2}^{2} + 36 L y_{1}^{2} + 36 L y_{2}^{2} + 4 \\Psi^{2} - 12 \\Psi x_{1}^{2} - 12 \\Psi x_{2}^{2} - 12 \\Psi y_{1}^{2} - 12 \\Psi y_{2}^{2} + 9 x_{1}^{4} + 18 x_{1}^{2} x_{2}^{2} + 18 x_{1}^{2} y_{1}^{2} + 18 x_{1}^{2} y_{2}^{2} + 9 x_{2}^{4} + 18 x_{2}^{2} y_{1}^{2} + 18 x_{2}^{2} y_{2}^{2} + 9 y_{1}^{4} + 18 y_{1}^{2} y_{2}^{2} + 9 y_{2}^{4}}$"
      ],
      "text/plain": [
       "                                                                              \n",
       "  C_{(3,-2,-1,0,0,0)}_{1,2})__{(0,0,0,0),(0,0)}(\\alpha⋅G⋅m₁⋅m₂⋅x₁   C_{(3,-2,0\n",
       "- ─────────────────────────────────────────────────────────────── - ──────────\n",
       "                       _______________                                        \n",
       "                     ╲╱ \\Lambda_{1,0} ⋅a_{2,0}                                \n",
       "\n",
       "                                                                              \n",
       ",-1,0,0)}_{1,2})__{(0,0,0,0),(0,0)}(\\alpha⋅G⋅m₁⋅m₂⋅x₂                         \n",
       "───────────────────────────────────────────────────── - ──────────────────────\n",
       "           _______________                                 2                 2\n",
       "         ╲╱ \\Lambda_{2,0} ⋅a_{2,0}                      8⋅L  - 8⋅L⋅Ψ + 8⋅L⋅x₁ \n",
       "\n",
       "                                                                            2 \n",
       "                                                                           G ⋅\n",
       "──────────────────────────────────────────────────────────────────────────────\n",
       "         2         2         2      2         2         2         2         2 \n",
       " + 8⋅L⋅x₂  + 8⋅L⋅y₁  + 8⋅L⋅y₂  + 2⋅Ψ  - 4⋅Ψ⋅x₁  - 4⋅Ψ⋅x₂  - 4⋅Ψ⋅y₁  - 4⋅Ψ⋅y₂  \n",
       "\n",
       "  2   3                                                                       \n",
       "M₁ ⋅μ₁                                                                        \n",
       "──────────────────────────────────────────────────────────────────────────────\n",
       "      4       2   2       2   2       2   2       4       2   2       2   2   \n",
       "+ 2⋅x₁  + 4⋅x₁ ⋅x₂  + 4⋅x₁ ⋅y₁  + 4⋅x₁ ⋅y₂  + 2⋅x₂  + 4⋅x₂ ⋅y₁  + 4⋅x₂ ⋅y₂  + \n",
       "\n",
       "                                                                              \n",
       "                                                                              \n",
       "───────────────────────── - ──────────────────────────────────────────────────\n",
       "    4       2   2       4       2                   2          2          2   \n",
       "2⋅y₁  + 4⋅y₁ ⋅y₂  + 2⋅y₂    36⋅L  - 24⋅L⋅Ψ + 36⋅L⋅x₁  + 36⋅L⋅x₂  + 36⋅L⋅y₁  + \n",
       "\n",
       "                                                         2   2   3            \n",
       "                                                      2⋅G ⋅M₂ ⋅μ₂             \n",
       "──────────────────────────────────────────────────────────────────────────────\n",
       "       2      2          2          2          2          2       4        2  \n",
       "36⋅L⋅y₂  + 4⋅Ψ  - 12⋅Ψ⋅x₁  - 12⋅Ψ⋅x₂  - 12⋅Ψ⋅y₁  - 12⋅Ψ⋅y₂  + 9⋅x₁  + 18⋅x₁ ⋅x\n",
       "\n",
       "                                                                              \n",
       "                                                                              \n",
       "──────────────────────────────────────────────────────────────────────────────\n",
       " 2        2   2        2   2       4        2   2        2   2       4        \n",
       "₂  + 18⋅x₁ ⋅y₁  + 18⋅x₁ ⋅y₂  + 9⋅x₂  + 18⋅x₂ ⋅y₁  + 18⋅x₂ ⋅y₂  + 9⋅y₁  + 18⋅y₁\n",
       "\n",
       "             \n",
       "             \n",
       "─────────────\n",
       "2   2       4\n",
       " ⋅y₂  + 9⋅y₂ "
      ]
     },
     "execution_count": 7,
     "metadata": {},
     "output_type": "execute_result"
    }
   ],
   "source": [
    "ct2 = cm.CanonicalTransformation.polar_to_cartesian(ham1.full_qp_vars,indices=[0,1])\n",
    "\n",
    "ham2=ct2.old_to_new_hamiltonian(ham1)\n",
    "ham2.H"
   ]
  },
  {
   "cell_type": "markdown",
   "metadata": {},
   "source": [
    "A composite transformation representing all the transformations so far"
   ]
  },
  {
   "cell_type": "code",
   "execution_count": 8,
   "metadata": {},
   "outputs": [],
   "source": [
    "ct_all = cm.CanonicalTransformation.composite([ct1,ct2])"
   ]
  },
  {
   "cell_type": "code",
   "execution_count": 9,
   "metadata": {},
   "outputs": [],
   "source": [
    "oldvars = ct_all.old_qp_vars\n",
    "_,eta1,_,_,eta2,_,L1,kappa1,_,L2,kappa2,_= oldvars\n",
    "newvars = ct_all.new_qp_vars\n",
    "y1,y2,_,_,_,_,x1,x2,Psi,L,_,_ = newvars"
   ]
  },
  {
   "cell_type": "markdown",
   "metadata": {},
   "source": [
    "Conserved quantities after transformation:"
   ]
  },
  {
   "cell_type": "code",
   "execution_count": 10,
   "metadata": {},
   "outputs": [
    {
     "data": {
      "text/latex": [
       "$\\displaystyle \\left( L, \\  \\Lambda_{1} + \\Lambda_{2} - \\frac{\\eta_{1}^{2}}{2} - \\frac{\\eta_{2}^{2}}{2} - \\frac{\\kappa_{1}^{2}}{2} - \\frac{\\kappa_{2}^{2}}{2}\\right)$"
      ],
      "text/plain": [
       "⎛               2     2     2     2⎞\n",
       "⎜             η₁    η₂    κ₁    κ₂ ⎟\n",
       "⎜L, Λ₁ + Λ₂ - ─── - ─── - ─── - ───⎟\n",
       "⎝              2     2     2     2 ⎠"
      ]
     },
     "execution_count": 10,
     "metadata": {},
     "output_type": "execute_result"
    }
   ],
   "source": [
    "L,ct_all.new_to_old(L)"
   ]
  },
  {
   "cell_type": "code",
   "execution_count": 11,
   "metadata": {},
   "outputs": [
    {
     "data": {
      "text/latex": [
       "$\\displaystyle \\left( \\Psi, \\  3 \\Lambda_{1} + 2 \\Lambda_{2}\\right)$"
      ],
      "text/plain": [
       "(Ψ, 3⋅Λ₁ + 2⋅Λ₂)"
      ]
     },
     "execution_count": 11,
     "metadata": {},
     "output_type": "execute_result"
    }
   ],
   "source": [
    "Psi,ct_all.new_to_old(Psi)"
   ]
  },
  {
   "cell_type": "markdown",
   "metadata": {},
   "source": [
    "## dissipation\n",
    "The effect of dissipation, written in terms of the original variables"
   ]
  },
  {
   "cell_type": "code",
   "execution_count": 12,
   "metadata": {},
   "outputs": [
    {
     "data": {
      "text/latex": [
       "$\\displaystyle \\left[\\begin{matrix}0\\\\- \\frac{\\eta_{1}}{\\tau_{e1}}\\\\0\\\\0\\\\- \\frac{\\eta_{2}}{\\tau_{e2}}\\\\0\\\\- \\frac{\\Lambda_{1}}{2 \\tau_{a1}}\\\\- \\frac{\\kappa_{1}}{\\tau_{e1}}\\\\0\\\\- \\frac{\\Lambda_{2}}{2 \\tau_{a2}}\\\\- \\frac{\\kappa_{2}}{\\tau_{e2}}\\\\0\\end{matrix}\\right]$"
      ],
      "text/plain": [
       "⎡  0  ⎤\n",
       "⎢     ⎥\n",
       "⎢-η₁  ⎥\n",
       "⎢──── ⎥\n",
       "⎢τₑ₁  ⎥\n",
       "⎢     ⎥\n",
       "⎢  0  ⎥\n",
       "⎢     ⎥\n",
       "⎢  0  ⎥\n",
       "⎢     ⎥\n",
       "⎢-η₂  ⎥\n",
       "⎢──── ⎥\n",
       "⎢τₑ₂  ⎥\n",
       "⎢     ⎥\n",
       "⎢  0  ⎥\n",
       "⎢     ⎥\n",
       "⎢ -Λ₁ ⎥\n",
       "⎢─────⎥\n",
       "⎢2⋅τₐ₁⎥\n",
       "⎢     ⎥\n",
       "⎢-κ₁  ⎥\n",
       "⎢──── ⎥\n",
       "⎢τₑ₁  ⎥\n",
       "⎢     ⎥\n",
       "⎢  0  ⎥\n",
       "⎢     ⎥\n",
       "⎢ -Λ₂ ⎥\n",
       "⎢─────⎥\n",
       "⎢2⋅τₐ₂⎥\n",
       "⎢     ⎥\n",
       "⎢-κ₂  ⎥\n",
       "⎢──── ⎥\n",
       "⎢τₑ₂  ⎥\n",
       "⎢     ⎥\n",
       "⎣  0  ⎦"
      ]
     },
     "execution_count": 12,
     "metadata": {},
     "output_type": "execute_result"
    }
   ],
   "source": [
    "tau_a1,tau_a2,tau_e1,tau_e2 = sp.symbols(\"tau_a1,tau_a2,tau_e1,tau_e2\")\n",
    "disflow = sp.Matrix(np.zeros(pham.N_dim))\n",
    "for hk,tau in zip([(eta1,kappa1),(eta2,kappa2)],(tau_e1,tau_e2)):\n",
    "    h,k = hk\n",
    "    disflow[oldvars.index(h)] = -h/tau\n",
    "    disflow[oldvars.index(k)] = -k/tau\n",
    "disflow[oldvars.index(L1)] = -L1/tau_a1/sp.S(2)\n",
    "disflow[oldvars.index(L2)] = -L2/tau_a2/sp.S(2)\n",
    "disflow"
   ]
  },
  {
   "cell_type": "markdown",
   "metadata": {},
   "source": [
    "Define $(D, L_2)$ new variables s.t.\n",
    "$$\n",
    "\\begin{pmatrix}\n",
    "L\\\\\n",
    "\\Psi\n",
    "\\end{pmatrix}\n",
    "= \n",
    "\\begin{pmatrix}\n",
    "-1 & 1+\\rho\\\\\n",
    "0 & j\\rho+(j-1)\n",
    "\\end{pmatrix}\n",
    "\\cdot\n",
    "\\begin{pmatrix}\n",
    "D\\\\\n",
    "L_2\n",
    "\\end{pmatrix}\n",
    "$$\n",
    "where $\\rho = \\left(\\frac{\\Lambda_1}{\\Lambda_2}\\right)_\\mathrm{res} \\approx \\frac{m_1}{m_2}\\left(\\frac{j-1}{j}\\right)^{1/3}$.\n",
    "\n",
    "In terms of old variables,\n",
    "$$\n",
    "L = \\Lambda_{1} + \\Lambda_{2} - \\frac{\\eta_{1}^{2}}{2} - \\frac{\\eta_{2}^{2}}{2} - \\frac{\\kappa_{1}^{2}}{2} - \\frac{\\kappa_{2}^{2}}{2} = (1 + \\rho)L_2 - D\\\\\n",
    "\\Psi = j \\Lambda_{1} + (j-1) \\Lambda_{2} = (j\\rho+(j-1))L_2~.\n",
    "$$\n",
    "In other words, $L_2$ represents the value of $\\Lambda_2$ when the planets' instantaneous period ratio is at the exact resonant value and $D$ is the value of $(p_1+p_2)$ when $\\Lambda_2 = L_2$.\n",
    "\n",
    "The planets' period ratio can be expressed in terms of \n",
    "$$\n",
    "\\Delta = \\frac{j-1}{j}\\frac{P_2}{P_1} - 1 \\approx 3\\left(\\frac{\\Lambda_2 - L_2}{L_2} - \\frac{\\Lambda_1 - \\rho L_2}{\\rho L_2}\\right) = 3\\frac{\\delta\\Lambda_2}{L_2}\\left(1+\\frac{j-1}{j\\rho}\\right)\n",
    "$$\n",
    "where $\\delta\\Lambda_2 = \\Lambda_2 - L_2$\n",
    "\n",
    "Therefore, we can write \n",
    "$$\n",
    "D = p_1+p_2+(1+\\rho)L_2-\\Lambda_1 - \\Lambda_2\n",
    "$$\n",
    "Or\n",
    "$$\n",
    "\\begin{eqnarray}\n",
    "D &=& p_1+p_2 - \\frac{1}{j}\\delta\\Lambda_2\\\\\n",
    "  &=& p_1+p_2 + \\frac{1}{3}\\left(\\frac{\\rho L_2}{j\\rho+j-1}\\right)\\Delta\n",
    "\\end{eqnarray}\n",
    "$$\n",
    "\n",
    "The dissipative evolution of $D$ is therefore\n",
    "$$\n",
    "\\begin{eqnarray}\n",
    "\\dot{D}\\big|_\\mathrm{dis} &=&-\\frac{p_1}{\\tau_{e1}}-\\frac{p_2}{\\tau_{e2}}- \\frac{1}{3}\\left(\\frac{\\rho L_2}{j\\rho+j-1}\\right)\\dot{\\Delta}\\big|_\\mathrm{dis}\\\\\n",
    "&=&\n",
    "-\\frac{p_1}{\\tau_{e1}}-\\frac{p_2}{\\tau_{e2}}-\\frac{1}{2}\\left(\\frac{\\rho L_2}{j\\rho+j-1}\\right)\\frac{1}{\\tau_\\alpha}\n",
    "\\end{eqnarray}\n",
    "$$\n",
    "where I've used $\\dot{\\Delta}\\big|_\\mathrm{dis}=\\frac{2}{3}\\frac{1}{\\tau_\\alpha}$ with $\\tau_\\alpha^{-1} = \\tau_{a,1}^{-1}- \\tau_{a,2}^{-1}$"
   ]
  },
  {
   "cell_type": "markdown",
   "metadata": {},
   "source": [
    "Convert from $L,\\Psi$ to $D,L_2$"
   ]
  },
  {
   "cell_type": "code",
   "execution_count": 13,
   "metadata": {},
   "outputs": [],
   "source": [
    "D,L2res,rho = sp.symbols(\"D,L2,rho\")\n",
    "rho_val = (pham.particles[1].m/pham.particles[2].m) * (2/3)**(1/3) \n",
    "mtrx = sp.Matrix([[-1,1+rho],[0,3*rho + 2]]) \n",
    "D_exprn,L2res_exprn = mtrx.inv() * sp.Matrix([L,Psi])\n",
    "Dval,L2val = [float(s.subs(ham2.full_qp).subs({rho:rho_val})) for s in (D_exprn,L2res_exprn)]\n",
    "newvars = [y1,y2,x1,x2,D_exprn]\n",
    "subsrule = dict(zip([L,Psi],mtrx * sp.Matrix([D,L2res])))\n"
   ]
  },
  {
   "cell_type": "code",
   "execution_count": 14,
   "metadata": {},
   "outputs": [
    {
     "data": {
      "text/latex": [
       "$\\displaystyle \\left( - L + \\frac{\\Psi \\left(\\rho + 1\\right)}{3 \\rho + 2}, \\  \\frac{\\Psi}{3 \\rho + 2}\\right)$"
      ],
      "text/plain": [
       "⎛     Ψ⋅(ρ + 1)     Ψ   ⎞\n",
       "⎜-L + ─────────, ───────⎟\n",
       "⎝      3⋅ρ + 2   3⋅ρ + 2⎠"
      ]
     },
     "execution_count": 14,
     "metadata": {},
     "output_type": "execute_result"
    }
   ],
   "source": [
    "D_exprn, L2res_exprn"
   ]
  },
  {
   "cell_type": "markdown",
   "metadata": {},
   "source": [
    " Initial value of $D$"
   ]
  },
  {
   "cell_type": "code",
   "execution_count": 15,
   "metadata": {},
   "outputs": [
    {
     "data": {
      "text/latex": [
       "$\\displaystyle - \\frac{L_{2} \\rho \\left(- \\frac{1}{\\tau_{a2}} + \\frac{1}{\\tau_{a1}}\\right)}{2 \\left(3 \\rho + 2\\right)} - \\frac{\\frac{x_{2}^{2}}{2} + \\frac{y_{2}^{2}}{2}}{\\tau_{e2}} - \\frac{\\frac{x_{1}^{2}}{2} + \\frac{y_{1}^{2}}{2}}{\\tau_{e1}}$"
      ],
      "text/plain": [
       "                         2     2     2     2\n",
       "       ⎛   1     1 ⎞   x₂    y₂    x₁    y₁ \n",
       "  L₂⋅ρ⋅⎜- ─── + ───⎟   ─── + ───   ─── + ───\n",
       "       ⎝  τₐ₂   τₐ₁⎠    2     2     2     2 \n",
       "- ────────────────── - ───────── - ─────────\n",
       "     2⋅(3⋅ρ + 2)          τₑ₂         τₑ₁   "
      ]
     },
     "execution_count": 15,
     "metadata": {},
     "output_type": "execute_result"
    }
   ],
   "source": [
    "from sympy.simplify.fu import TR10,TR10i,TR11\n",
    "mtrx_func = lambda i,j: sp.simplify(TR10i(TR10(sp.diff(ct_all.new_to_old(newvars[i]),oldvars[j]))))\n",
    "jac_old = sp.Matrix(len(newvars),len(oldvars),mtrx_func)\n",
    "newdisflow = sp.simplify(ct_all.old_to_new(jac_old * disflow))\n",
    "\n",
    "newdisflow = newdisflow.subs(subsrule)\n",
    "\n",
    "p1 = (x1*x1 + y1*y1)/sp.S(2)\n",
    "p2 = (x2*x2 + y2*y2)/sp.S(2)\n",
    "factor = rho * L2res / (3*rho+2)\n",
    "tau_alpha = 1/(1/tau_a1 - 1/tau_a2)\n",
    "Ddot_dis = -1*factor *(1/sp.S(2))* 1/tau_alpha - p1/tau_e1 - p2/tau_e2\n",
    "newdisflow_approx = sp.Matrix([(newdisflow[i] if i<4 else Ddot_dis) for i in range(5)])\n",
    "\n",
    "Ddot_dis"
   ]
  },
  {
   "cell_type": "code",
   "execution_count": 16,
   "metadata": {},
   "outputs": [
    {
     "data": {
      "text/latex": [
       "$\\displaystyle \\left[\\begin{matrix}- \\frac{y_{1}}{\\tau_{e1}}\\\\- \\frac{y_{2}}{\\tau_{e2}}\\\\- \\frac{x_{1}}{\\tau_{e1}}\\\\- \\frac{x_{2}}{\\tau_{e2}}\\\\- \\frac{L_{2} \\rho \\left(- \\frac{1}{\\tau_{a2}} + \\frac{1}{\\tau_{a1}}\\right)}{2 \\left(3 \\rho + 2\\right)} - \\frac{\\frac{x_{2}^{2}}{2} + \\frac{y_{2}^{2}}{2}}{\\tau_{e2}} - \\frac{\\frac{x_{1}^{2}}{2} + \\frac{y_{1}^{2}}{2}}{\\tau_{e1}}\\end{matrix}\\right]$"
      ],
      "text/plain": [
       "⎡                    -y₁                     ⎤\n",
       "⎢                    ────                    ⎥\n",
       "⎢                    τₑ₁                     ⎥\n",
       "⎢                                            ⎥\n",
       "⎢                    -y₂                     ⎥\n",
       "⎢                    ────                    ⎥\n",
       "⎢                    τₑ₂                     ⎥\n",
       "⎢                                            ⎥\n",
       "⎢                    -x₁                     ⎥\n",
       "⎢                    ────                    ⎥\n",
       "⎢                    τₑ₁                     ⎥\n",
       "⎢                                            ⎥\n",
       "⎢                    -x₂                     ⎥\n",
       "⎢                    ────                    ⎥\n",
       "⎢                    τₑ₂                     ⎥\n",
       "⎢                                            ⎥\n",
       "⎢                         2     2     2     2⎥\n",
       "⎢       ⎛   1     1 ⎞   x₂    y₂    x₁    y₁ ⎥\n",
       "⎢  L₂⋅ρ⋅⎜- ─── + ───⎟   ─── + ───   ─── + ───⎥\n",
       "⎢       ⎝  τₐ₂   τₐ₁⎠    2     2     2     2 ⎥\n",
       "⎢- ────────────────── - ───────── - ─────────⎥\n",
       "⎣     2⋅(3⋅ρ + 2)          τₑ₂         τₑ₁   ⎦"
      ]
     },
     "execution_count": 16,
     "metadata": {},
     "output_type": "execute_result"
    }
   ],
   "source": [
    "newdisflow_approx"
   ]
  },
  {
   "cell_type": "markdown",
   "metadata": {},
   "source": [
    "We'll need to substitute the following numerical values into our equations of motion in a few places:"
   ]
  },
  {
   "cell_type": "code",
   "execution_count": 17,
   "metadata": {},
   "outputs": [
    {
     "data": {
      "text/latex": [
       "$\\displaystyle \\left\\{ L_{2} : 0.000381298367157599, \\  \\rho : 0.310703495100216\\right\\}$"
      ],
      "text/plain": [
       "{L₂: 0.000381298367157599, ρ: 0.3107034951002157}"
      ]
     },
     "execution_count": 17,
     "metadata": {},
     "output_type": "execute_result"
    }
   ],
   "source": [
    "newpars = {L2res:L2val,rho:rho_val}\n",
    "newpars"
   ]
  },
  {
   "cell_type": "markdown",
   "metadata": {},
   "source": [
    "conservative flow expressed in term of dynamical variables (need to augment with $\\dot{D}=0$)"
   ]
  },
  {
   "cell_type": "code",
   "execution_count": 18,
   "metadata": {},
   "outputs": [
    {
     "data": {
      "text/latex": [
       "$\\displaystyle \\left\\{D, L_{2}, \\rho, x_{1}, x_{2}, y_{1}, y_{2}\\right\\}$"
      ],
      "text/plain": [
       "{D, L₂, ρ, x₁, x₂, y₁, y₂}"
      ]
     },
     "execution_count": 18,
     "metadata": {},
     "output_type": "execute_result"
    }
   ],
   "source": [
    "newflow = ham2.flow.subs(subsrule).subs(ham2.H_params)\n",
    "newflow.free_symbols"
   ]
  },
  {
   "cell_type": "markdown",
   "metadata": {},
   "source": [
    "dissipative flow in terms of new dynamical varaibles:"
   ]
  },
  {
   "cell_type": "code",
   "execution_count": 19,
   "metadata": {},
   "outputs": [
    {
     "data": {
      "text/latex": [
       "$\\displaystyle \\left[ y_{1}, \\  y_{2}, \\  x_{1}, \\  x_{2}\\right]$"
      ],
      "text/plain": [
       "[y₁, y₂, x₁, x₂]"
      ]
     },
     "execution_count": 19,
     "metadata": {},
     "output_type": "execute_result"
    }
   ],
   "source": [
    "ham2.qp_vars"
   ]
  },
  {
   "cell_type": "code",
   "execution_count": 20,
   "metadata": {},
   "outputs": [
    {
     "data": {
      "text/latex": [
       "$\\displaystyle \\left[\\begin{matrix}- \\frac{C_{(3,-2,-1,0,0,0)}^{(0,0,0,0),(0,0)}(\\alpha_{1,2}) G m_{1} m_{2}}{\\sqrt{\\Lambda_{1,0}} a_{2,0}} - \\frac{G^{2} M_{1}^{2} \\mu_{1}^{3} \\left(- 16 L x_{1} + 8 \\Psi x_{1} - 8 x_{1}^{3} - 8 x_{1} x_{2}^{2} - 8 x_{1} y_{1}^{2} - 8 x_{1} y_{2}^{2}\\right)}{\\left(8 L^{2} - 8 L \\Psi + 8 L x_{1}^{2} + 8 L x_{2}^{2} + 8 L y_{1}^{2} + 8 L y_{2}^{2} + 2 \\Psi^{2} - 4 \\Psi x_{1}^{2} - 4 \\Psi x_{2}^{2} - 4 \\Psi y_{1}^{2} - 4 \\Psi y_{2}^{2} + 2 x_{1}^{4} + 4 x_{1}^{2} x_{2}^{2} + 4 x_{1}^{2} y_{1}^{2} + 4 x_{1}^{2} y_{2}^{2} + 2 x_{2}^{4} + 4 x_{2}^{2} y_{1}^{2} + 4 x_{2}^{2} y_{2}^{2} + 2 y_{1}^{4} + 4 y_{1}^{2} y_{2}^{2} + 2 y_{2}^{4}\\right)^{2}} - \\frac{2 G^{2} M_{2}^{2} \\mu_{2}^{3} \\left(- 72 L x_{1} + 24 \\Psi x_{1} - 36 x_{1}^{3} - 36 x_{1} x_{2}^{2} - 36 x_{1} y_{1}^{2} - 36 x_{1} y_{2}^{2}\\right)}{\\left(36 L^{2} - 24 L \\Psi + 36 L x_{1}^{2} + 36 L x_{2}^{2} + 36 L y_{1}^{2} + 36 L y_{2}^{2} + 4 \\Psi^{2} - 12 \\Psi x_{1}^{2} - 12 \\Psi x_{2}^{2} - 12 \\Psi y_{1}^{2} - 12 \\Psi y_{2}^{2} + 9 x_{1}^{4} + 18 x_{1}^{2} x_{2}^{2} + 18 x_{1}^{2} y_{1}^{2} + 18 x_{1}^{2} y_{2}^{2} + 9 x_{2}^{4} + 18 x_{2}^{2} y_{1}^{2} + 18 x_{2}^{2} y_{2}^{2} + 9 y_{1}^{4} + 18 y_{1}^{2} y_{2}^{2} + 9 y_{2}^{4}\\right)^{2}}\\\\- \\frac{C_{(3,-2,0,-1,0,0)}^{(0,0,0,0),(0,0)}(\\alpha_{1,2}) G m_{1} m_{2}}{\\sqrt{\\Lambda_{2,0}} a_{2,0}} - \\frac{G^{2} M_{1}^{2} \\mu_{1}^{3} \\left(- 16 L x_{2} + 8 \\Psi x_{2} - 8 x_{1}^{2} x_{2} - 8 x_{2}^{3} - 8 x_{2} y_{1}^{2} - 8 x_{2} y_{2}^{2}\\right)}{\\left(8 L^{2} - 8 L \\Psi + 8 L x_{1}^{2} + 8 L x_{2}^{2} + 8 L y_{1}^{2} + 8 L y_{2}^{2} + 2 \\Psi^{2} - 4 \\Psi x_{1}^{2} - 4 \\Psi x_{2}^{2} - 4 \\Psi y_{1}^{2} - 4 \\Psi y_{2}^{2} + 2 x_{1}^{4} + 4 x_{1}^{2} x_{2}^{2} + 4 x_{1}^{2} y_{1}^{2} + 4 x_{1}^{2} y_{2}^{2} + 2 x_{2}^{4} + 4 x_{2}^{2} y_{1}^{2} + 4 x_{2}^{2} y_{2}^{2} + 2 y_{1}^{4} + 4 y_{1}^{2} y_{2}^{2} + 2 y_{2}^{4}\\right)^{2}} - \\frac{2 G^{2} M_{2}^{2} \\mu_{2}^{3} \\left(- 72 L x_{2} + 24 \\Psi x_{2} - 36 x_{1}^{2} x_{2} - 36 x_{2}^{3} - 36 x_{2} y_{1}^{2} - 36 x_{2} y_{2}^{2}\\right)}{\\left(36 L^{2} - 24 L \\Psi + 36 L x_{1}^{2} + 36 L x_{2}^{2} + 36 L y_{1}^{2} + 36 L y_{2}^{2} + 4 \\Psi^{2} - 12 \\Psi x_{1}^{2} - 12 \\Psi x_{2}^{2} - 12 \\Psi y_{1}^{2} - 12 \\Psi y_{2}^{2} + 9 x_{1}^{4} + 18 x_{1}^{2} x_{2}^{2} + 18 x_{1}^{2} y_{1}^{2} + 18 x_{1}^{2} y_{2}^{2} + 9 x_{2}^{4} + 18 x_{2}^{2} y_{1}^{2} + 18 x_{2}^{2} y_{2}^{2} + 9 y_{1}^{4} + 18 y_{1}^{2} y_{2}^{2} + 9 y_{2}^{4}\\right)^{2}}\\\\\\frac{G^{2} M_{1}^{2} \\mu_{1}^{3} \\left(- 16 L y_{1} + 8 \\Psi y_{1} - 8 x_{1}^{2} y_{1} - 8 x_{2}^{2} y_{1} - 8 y_{1}^{3} - 8 y_{1} y_{2}^{2}\\right)}{\\left(8 L^{2} - 8 L \\Psi + 8 L x_{1}^{2} + 8 L x_{2}^{2} + 8 L y_{1}^{2} + 8 L y_{2}^{2} + 2 \\Psi^{2} - 4 \\Psi x_{1}^{2} - 4 \\Psi x_{2}^{2} - 4 \\Psi y_{1}^{2} - 4 \\Psi y_{2}^{2} + 2 x_{1}^{4} + 4 x_{1}^{2} x_{2}^{2} + 4 x_{1}^{2} y_{1}^{2} + 4 x_{1}^{2} y_{2}^{2} + 2 x_{2}^{4} + 4 x_{2}^{2} y_{1}^{2} + 4 x_{2}^{2} y_{2}^{2} + 2 y_{1}^{4} + 4 y_{1}^{2} y_{2}^{2} + 2 y_{2}^{4}\\right)^{2}} + \\frac{2 G^{2} M_{2}^{2} \\mu_{2}^{3} \\left(- 72 L y_{1} + 24 \\Psi y_{1} - 36 x_{1}^{2} y_{1} - 36 x_{2}^{2} y_{1} - 36 y_{1}^{3} - 36 y_{1} y_{2}^{2}\\right)}{\\left(36 L^{2} - 24 L \\Psi + 36 L x_{1}^{2} + 36 L x_{2}^{2} + 36 L y_{1}^{2} + 36 L y_{2}^{2} + 4 \\Psi^{2} - 12 \\Psi x_{1}^{2} - 12 \\Psi x_{2}^{2} - 12 \\Psi y_{1}^{2} - 12 \\Psi y_{2}^{2} + 9 x_{1}^{4} + 18 x_{1}^{2} x_{2}^{2} + 18 x_{1}^{2} y_{1}^{2} + 18 x_{1}^{2} y_{2}^{2} + 9 x_{2}^{4} + 18 x_{2}^{2} y_{1}^{2} + 18 x_{2}^{2} y_{2}^{2} + 9 y_{1}^{4} + 18 y_{1}^{2} y_{2}^{2} + 9 y_{2}^{4}\\right)^{2}}\\\\\\frac{G^{2} M_{1}^{2} \\mu_{1}^{3} \\left(- 16 L y_{2} + 8 \\Psi y_{2} - 8 x_{1}^{2} y_{2} - 8 x_{2}^{2} y_{2} - 8 y_{1}^{2} y_{2} - 8 y_{2}^{3}\\right)}{\\left(8 L^{2} - 8 L \\Psi + 8 L x_{1}^{2} + 8 L x_{2}^{2} + 8 L y_{1}^{2} + 8 L y_{2}^{2} + 2 \\Psi^{2} - 4 \\Psi x_{1}^{2} - 4 \\Psi x_{2}^{2} - 4 \\Psi y_{1}^{2} - 4 \\Psi y_{2}^{2} + 2 x_{1}^{4} + 4 x_{1}^{2} x_{2}^{2} + 4 x_{1}^{2} y_{1}^{2} + 4 x_{1}^{2} y_{2}^{2} + 2 x_{2}^{4} + 4 x_{2}^{2} y_{1}^{2} + 4 x_{2}^{2} y_{2}^{2} + 2 y_{1}^{4} + 4 y_{1}^{2} y_{2}^{2} + 2 y_{2}^{4}\\right)^{2}} + \\frac{2 G^{2} M_{2}^{2} \\mu_{2}^{3} \\left(- 72 L y_{2} + 24 \\Psi y_{2} - 36 x_{1}^{2} y_{2} - 36 x_{2}^{2} y_{2} - 36 y_{1}^{2} y_{2} - 36 y_{2}^{3}\\right)}{\\left(36 L^{2} - 24 L \\Psi + 36 L x_{1}^{2} + 36 L x_{2}^{2} + 36 L y_{1}^{2} + 36 L y_{2}^{2} + 4 \\Psi^{2} - 12 \\Psi x_{1}^{2} - 12 \\Psi x_{2}^{2} - 12 \\Psi y_{1}^{2} - 12 \\Psi y_{2}^{2} + 9 x_{1}^{4} + 18 x_{1}^{2} x_{2}^{2} + 18 x_{1}^{2} y_{1}^{2} + 18 x_{1}^{2} y_{2}^{2} + 9 x_{2}^{4} + 18 x_{2}^{2} y_{1}^{2} + 18 x_{2}^{2} y_{2}^{2} + 9 y_{1}^{4} + 18 y_{1}^{2} y_{2}^{2} + 9 y_{2}^{4}\\right)^{2}}\\end{matrix}\\right]$"
      ],
      "text/plain": [
       "⎡                                                                             \n",
       "⎢  C_{(3,-2,-1,0,0,0)}_{1,2})__{(0,0,0,0),(0,0)}(\\alpha⋅G⋅m₁⋅m₂               \n",
       "⎢- ──────────────────────────────────────────────────────────── - ────────────\n",
       "⎢                     _______________                                         \n",
       "⎢                   ╲╱ \\Lambda_{1,0} ⋅a_{2,0}                     ⎛   2       \n",
       "⎢                                                                 ⎝8⋅L  - 8⋅L⋅\n",
       "⎢                                                                             \n",
       "⎢                                                                             \n",
       "⎢  C_{(3,-2,0,-1,0,0)}_{1,2})__{(0,0,0,0),(0,0)}(\\alpha⋅G⋅m₁⋅m₂               \n",
       "⎢- ──────────────────────────────────────────────────────────── - ────────────\n",
       "⎢                     _______________                                         \n",
       "⎢                   ╲╱ \\Lambda_{2,0} ⋅a_{2,0}                     ⎛   2       \n",
       "⎢                                                                 ⎝8⋅L  - 8⋅L⋅\n",
       "⎢                                                                             \n",
       "⎢                                                                             \n",
       "⎢                                                                             \n",
       "⎢                                ─────────────────────────────────────────────\n",
       "⎢                                                                             \n",
       "⎢                                ⎛   2                 2         2         2  \n",
       "⎢                                ⎝8⋅L  - 8⋅L⋅Ψ + 8⋅L⋅x₁  + 8⋅L⋅x₂  + 8⋅L⋅y₁  +\n",
       "⎢                                                                             \n",
       "⎢                                                                             \n",
       "⎢                                                                             \n",
       "⎢                                ─────────────────────────────────────────────\n",
       "⎢                                                                             \n",
       "⎢                                ⎛   2                 2         2         2  \n",
       "⎣                                ⎝8⋅L  - 8⋅L⋅Ψ + 8⋅L⋅x₁  + 8⋅L⋅x₂  + 8⋅L⋅y₁  +\n",
       "\n",
       "                                                        2   2   3 ⎛           \n",
       "                                                       G ⋅M₁ ⋅μ₁ ⋅⎝-16⋅L⋅x₁ + \n",
       "──────────────────────────────────────────────────────────────────────────────\n",
       "                                                                              \n",
       "          2         2         2         2      2         2         2         2\n",
       "Ψ + 8⋅L⋅x₁  + 8⋅L⋅x₂  + 8⋅L⋅y₁  + 8⋅L⋅y₂  + 2⋅Ψ  - 4⋅Ψ⋅x₁  - 4⋅Ψ⋅x₂  - 4⋅Ψ⋅y₁ \n",
       "                                                                              \n",
       "                                                        2   2   3 ⎛           \n",
       "                                                       G ⋅M₁ ⋅μ₁ ⋅⎝-16⋅L⋅x₂ + \n",
       "──────────────────────────────────────────────────────────────────────────────\n",
       "                                                                              \n",
       "          2         2         2         2      2         2         2         2\n",
       "Ψ + 8⋅L⋅x₁  + 8⋅L⋅x₂  + 8⋅L⋅y₁  + 8⋅L⋅y₂  + 2⋅Ψ  - 4⋅Ψ⋅x₁  - 4⋅Ψ⋅x₂  - 4⋅Ψ⋅y₁ \n",
       "                                                                              \n",
       "                       2   2   3 ⎛                        2          2        \n",
       "                      G ⋅M₁ ⋅μ₁ ⋅⎝-16⋅L⋅y₁ + 8⋅Ψ⋅y₁ - 8⋅x₁ ⋅y₁ - 8⋅x₂ ⋅y₁ - 8⋅\n",
       "──────────────────────────────────────────────────────────────────────────────\n",
       "                                                                              \n",
       "       2      2         2         2         2         2       4       2   2   \n",
       " 8⋅L⋅y₂  + 2⋅Ψ  - 4⋅Ψ⋅x₁  - 4⋅Ψ⋅x₂  - 4⋅Ψ⋅y₁  - 4⋅Ψ⋅y₂  + 2⋅x₁  + 4⋅x₁ ⋅x₂  + \n",
       "                                                                              \n",
       "                       2   2   3 ⎛                        2          2        \n",
       "                      G ⋅M₁ ⋅μ₁ ⋅⎝-16⋅L⋅y₂ + 8⋅Ψ⋅y₂ - 8⋅x₁ ⋅y₂ - 8⋅x₂ ⋅y₂ - 8⋅\n",
       "──────────────────────────────────────────────────────────────────────────────\n",
       "                                                                              \n",
       "       2      2         2         2         2         2       4       2   2   \n",
       " 8⋅L⋅y₂  + 2⋅Ψ  - 4⋅Ψ⋅x₁  - 4⋅Ψ⋅x₂  - 4⋅Ψ⋅y₁  - 4⋅Ψ⋅y₂  + 2⋅x₁  + 4⋅x₁ ⋅x₂  + \n",
       "\n",
       "             3          2          2          2⎞                              \n",
       "8⋅Ψ⋅x₁ - 8⋅x₁  - 8⋅x₁⋅x₂  - 8⋅x₁⋅y₁  - 8⋅x₁⋅y₂ ⎠                              \n",
       "──────────────────────────────────────────────────────────────────────────────\n",
       "                                                                              \n",
       "         2       4       2   2       2   2       2   2       4       2   2    \n",
       " - 4⋅Ψ⋅y₂  + 2⋅x₁  + 4⋅x₁ ⋅x₂  + 4⋅x₁ ⋅y₁  + 4⋅x₁ ⋅y₂  + 2⋅x₂  + 4⋅x₂ ⋅y₁  + 4\n",
       "                                                                              \n",
       "             2          3          2          2⎞                              \n",
       "8⋅Ψ⋅x₂ - 8⋅x₁ ⋅x₂ - 8⋅x₂  - 8⋅x₂⋅y₁  - 8⋅x₂⋅y₂ ⎠                              \n",
       "──────────────────────────────────────────────────────────────────────────────\n",
       "                                                                              \n",
       "         2       4       2   2       2   2       2   2       4       2   2    \n",
       " - 4⋅Ψ⋅y₂  + 2⋅x₁  + 4⋅x₁ ⋅x₂  + 4⋅x₁ ⋅y₁  + 4⋅x₁ ⋅y₂  + 2⋅x₂  + 4⋅x₂ ⋅y₁  + 4\n",
       "                                                                              \n",
       "  3          2⎞                                                               \n",
       "y₁  - 8⋅y₁⋅y₂ ⎠                                                               \n",
       "──────────────────────────────────────────────────────────────────────────────\n",
       "                                                                              \n",
       "    2   2       2   2       4       2   2       2   2       4       2   2     \n",
       "4⋅x₁ ⋅y₁  + 4⋅x₁ ⋅y₂  + 2⋅x₂  + 4⋅x₂ ⋅y₁  + 4⋅x₂ ⋅y₂  + 2⋅y₁  + 4⋅y₁ ⋅y₂  + 2⋅\n",
       "                                                                              \n",
       "  2          3⎞                                                               \n",
       "y₁ ⋅y₂ - 8⋅y₂ ⎠                                                               \n",
       "──────────────────────────────────────────────────────────────────────────────\n",
       "                                                                              \n",
       "    2   2       2   2       4       2   2       2   2       4       2   2     \n",
       "4⋅x₁ ⋅y₁  + 4⋅x₁ ⋅y₂  + 2⋅x₂  + 4⋅x₂ ⋅y₁  + 4⋅x₂ ⋅y₂  + 2⋅y₁  + 4⋅y₁ ⋅y₂  + 2⋅\n",
       "\n",
       "                                                                              \n",
       "                                                                              \n",
       "────────────────────────────────────── - ─────────────────────────────────────\n",
       "                                     2                                        \n",
       "   2   2       4       2   2       4⎞    ⎛    2                   2          2\n",
       "⋅x₂ ⋅y₂  + 2⋅y₁  + 4⋅y₁ ⋅y₂  + 2⋅y₂ ⎠    ⎝36⋅L  - 24⋅L⋅Ψ + 36⋅L⋅x₁  + 36⋅L⋅x₂ \n",
       "                                                                              \n",
       "                                                                              \n",
       "                                                                              \n",
       "────────────────────────────────────── - ─────────────────────────────────────\n",
       "                                     2                                        \n",
       "   2   2       4       2   2       4⎞    ⎛    2                   2          2\n",
       "⋅x₂ ⋅y₂  + 2⋅y₁  + 4⋅y₁ ⋅y₂  + 2⋅y₂ ⎠    ⎝36⋅L  - 24⋅L⋅Ψ + 36⋅L⋅x₁  + 36⋅L⋅x₂ \n",
       "                                                                              \n",
       "                                                                              \n",
       "                                                                              \n",
       "───── + ──────────────────────────────────────────────────────────────────────\n",
       "    2                                                                         \n",
       "  4⎞    ⎛    2                   2          2          2          2      2    \n",
       "y₂ ⎠    ⎝36⋅L  - 24⋅L⋅Ψ + 36⋅L⋅x₁  + 36⋅L⋅x₂  + 36⋅L⋅y₁  + 36⋅L⋅y₂  + 4⋅Ψ  - 1\n",
       "                                                                              \n",
       "                                                                              \n",
       "                                                                              \n",
       "───── + ──────────────────────────────────────────────────────────────────────\n",
       "    2                                                                         \n",
       "  4⎞    ⎛    2                   2          2          2          2      2    \n",
       "y₂ ⎠    ⎝36⋅L  - 24⋅L⋅Ψ + 36⋅L⋅x₁  + 36⋅L⋅x₂  + 36⋅L⋅y₁  + 36⋅L⋅y₂  + 4⋅Ψ  - 1\n",
       "\n",
       "                                      2   2   3 ⎛                          3  \n",
       "                                   2⋅G ⋅M₂ ⋅μ₂ ⋅⎝-72⋅L⋅x₁ + 24⋅Ψ⋅x₁ - 36⋅x₁  -\n",
       "──────────────────────────────────────────────────────────────────────────────\n",
       "                                                                              \n",
       "          2          2      2          2          2          2          2     \n",
       " + 36⋅L⋅y₁  + 36⋅L⋅y₂  + 4⋅Ψ  - 12⋅Ψ⋅x₁  - 12⋅Ψ⋅x₂  - 12⋅Ψ⋅y₁  - 12⋅Ψ⋅y₂  + 9⋅\n",
       "                                                                              \n",
       "                                      2   2   3 ⎛                          2  \n",
       "                                   2⋅G ⋅M₂ ⋅μ₂ ⋅⎝-72⋅L⋅x₂ + 24⋅Ψ⋅x₂ - 36⋅x₁ ⋅x\n",
       "──────────────────────────────────────────────────────────────────────────────\n",
       "                                                                              \n",
       "          2          2      2          2          2          2          2     \n",
       " + 36⋅L⋅y₁  + 36⋅L⋅y₂  + 4⋅Ψ  - 12⋅Ψ⋅x₁  - 12⋅Ψ⋅x₂  - 12⋅Ψ⋅y₁  - 12⋅Ψ⋅y₂  + 9⋅\n",
       "                                                                              \n",
       "     2   2   3 ⎛                          2           2           3           \n",
       "  2⋅G ⋅M₂ ⋅μ₂ ⋅⎝-72⋅L⋅y₁ + 24⋅Ψ⋅y₁ - 36⋅x₁ ⋅y₁ - 36⋅x₂ ⋅y₁ - 36⋅y₁  - 36⋅y₁⋅y₂\n",
       "──────────────────────────────────────────────────────────────────────────────\n",
       "                                                                              \n",
       "      2          2          2          2       4        2   2        2   2    \n",
       "2⋅Ψ⋅x₁  - 12⋅Ψ⋅x₂  - 12⋅Ψ⋅y₁  - 12⋅Ψ⋅y₂  + 9⋅x₁  + 18⋅x₁ ⋅x₂  + 18⋅x₁ ⋅y₁  + 1\n",
       "                                                                              \n",
       "     2   2   3 ⎛                          2           2           2           \n",
       "  2⋅G ⋅M₂ ⋅μ₂ ⋅⎝-72⋅L⋅y₂ + 24⋅Ψ⋅y₂ - 36⋅x₁ ⋅y₂ - 36⋅x₂ ⋅y₂ - 36⋅y₁ ⋅y₂ - 36⋅y₂\n",
       "──────────────────────────────────────────────────────────────────────────────\n",
       "                                                                              \n",
       "      2          2          2          2       4        2   2        2   2    \n",
       "2⋅Ψ⋅x₁  - 12⋅Ψ⋅x₂  - 12⋅Ψ⋅y₁  - 12⋅Ψ⋅y₂  + 9⋅x₁  + 18⋅x₁ ⋅x₂  + 18⋅x₁ ⋅y₁  + 1\n",
       "\n",
       "         2           2           2⎞                                           \n",
       " 36⋅x₁⋅x₂  - 36⋅x₁⋅y₁  - 36⋅x₁⋅y₂ ⎠                                           \n",
       "──────────────────────────────────────────────────────────────────────────────\n",
       "                                                                              \n",
       "  4        2   2        2   2        2   2       4        2   2        2   2  \n",
       "x₁  + 18⋅x₁ ⋅x₂  + 18⋅x₁ ⋅y₁  + 18⋅x₁ ⋅y₂  + 9⋅x₂  + 18⋅x₂ ⋅y₁  + 18⋅x₂ ⋅y₂  +\n",
       "                                                                              \n",
       "         3           2           2⎞                                           \n",
       "₂ - 36⋅x₂  - 36⋅x₂⋅y₁  - 36⋅x₂⋅y₂ ⎠                                           \n",
       "──────────────────────────────────────────────────────────────────────────────\n",
       "                                                                              \n",
       "  4        2   2        2   2        2   2       4        2   2        2   2  \n",
       "x₁  + 18⋅x₁ ⋅x₂  + 18⋅x₁ ⋅y₁  + 18⋅x₁ ⋅y₂  + 9⋅x₂  + 18⋅x₂ ⋅y₁  + 18⋅x₂ ⋅y₂  +\n",
       "                                                                              \n",
       "2⎞                                                                            \n",
       " ⎠                                                                            \n",
       "──────────────────────────────────────────────────────────────────────────    \n",
       "                                                                         2    \n",
       "    2   2       4        2   2        2   2       4        2   2       4⎞     \n",
       "8⋅x₁ ⋅y₂  + 9⋅x₂  + 18⋅x₂ ⋅y₁  + 18⋅x₂ ⋅y₂  + 9⋅y₁  + 18⋅y₁ ⋅y₂  + 9⋅y₂ ⎠     \n",
       "                                                                              \n",
       "3⎞                                                                            \n",
       " ⎠                                                                            \n",
       "──────────────────────────────────────────────────────────────────────────    \n",
       "                                                                         2    \n",
       "    2   2       4        2   2        2   2       4        2   2       4⎞     \n",
       "8⋅x₁ ⋅y₂  + 9⋅x₂  + 18⋅x₂ ⋅y₁  + 18⋅x₂ ⋅y₂  + 9⋅y₁  + 18⋅y₁ ⋅y₂  + 9⋅y₂ ⎠     \n",
       "\n",
       "                             ⎤\n",
       "                             ⎥\n",
       "─────────────────────────────⎥\n",
       "                            2⎥\n",
       "     4        2   2       4⎞ ⎥\n",
       " 9⋅y₁  + 18⋅y₁ ⋅y₂  + 9⋅y₂ ⎠ ⎥\n",
       "                             ⎥\n",
       "                             ⎥\n",
       "                             ⎥\n",
       "─────────────────────────────⎥\n",
       "                            2⎥\n",
       "     4        2   2       4⎞ ⎥\n",
       " 9⋅y₁  + 18⋅y₁ ⋅y₂  + 9⋅y₂ ⎠ ⎥\n",
       "                             ⎥\n",
       "                             ⎥\n",
       "                             ⎥\n",
       "                             ⎥\n",
       "                             ⎥\n",
       "                             ⎥\n",
       "                             ⎥\n",
       "                             ⎥\n",
       "                             ⎥\n",
       "                             ⎥\n",
       "                             ⎥\n",
       "                             ⎥\n",
       "                             ⎥\n",
       "                             ⎦"
      ]
     },
     "execution_count": 20,
     "metadata": {},
     "output_type": "execute_result"
    }
   ],
   "source": [
    "ham2.flow"
   ]
  },
  {
   "cell_type": "code",
   "execution_count": 21,
   "metadata": {},
   "outputs": [],
   "source": [
    "def get_tau_alphas(tau_alpha, m_inner, m_outer, period_ratio):\n",
    "    # use Kepler's third law to compute the ratio of semi-major axes in resonance from the period ratio in resonance\n",
    "    sma_ratio = period_ratio ** (2/3)  # ratio of outer planet's semi-major axis to inner\n",
    "    # define matrix A\n",
    "    A = np.array([[-1, 1],\n",
    "                 [m_outer, m_inner * sma_ratio]])\n",
    "    # compute gamma_1 and gamma_2\n",
    "    gammas = np.matmul(np.linalg.inv(A), np.array([-1/tau_alpha, 0]))\n",
    "    # gamma = 1/tau\n",
    "    taus = 1/gammas\n",
    "    \n",
    "    return tuple(taus)  # returns (tau_alpha_outer, tau_alpha_inner) as a tuple"
   ]
  },
  {
   "cell_type": "code",
   "execution_count": 22,
   "metadata": {},
   "outputs": [
    {
     "data": {
      "text/latex": [
       "$\\displaystyle \\left\\{D, L_{2}, \\rho, x_{1}, x_{2}, y_{1}, y_{2}\\right\\}$"
      ],
      "text/plain": [
       "{D, L₂, ρ, x₁, x₂, y₁, y₂}"
      ]
     },
     "execution_count": 22,
     "metadata": {},
     "output_type": "execute_result"
    }
   ],
   "source": [
    "newflow.free_symbols"
   ]
  },
  {
   "cell_type": "code",
   "execution_count": 23,
   "metadata": {},
   "outputs": [
    {
     "data": {
      "text/latex": [
       "$\\displaystyle \\left\\{ L_{2} : 0.000381298367157599, \\  \\rho : 0.310703495100216\\right\\}$"
      ],
      "text/plain": [
       "{L₂: 0.000381298367157599, ρ: 0.3107034951002157}"
      ]
     },
     "execution_count": 23,
     "metadata": {},
     "output_type": "execute_result"
    }
   ],
   "source": [
    "# newpars = {L2res:L2val,rho:rho_val}\n",
    "newpars"
   ]
  },
  {
   "cell_type": "code",
   "execution_count": 24,
   "metadata": {},
   "outputs": [],
   "source": [
    "# full flow is the conservative flow matrix augmented with Ddot = 0 plus the dissipative flow matrix\n",
    "# also with rho and L2 substitute dinto the conservative flow matrix\n",
    "newflow_N = newflow.subs(newpars)\n",
    "newdisflow_approx_N = newdisflow_approx.subs(newpars)\n",
    "# full flow\n",
    "fullflow = sp.Matrix(list(newflow_N) + [0]) + newdisflow_approx_N\n",
    "\n",
    "taus = [tau_a1,tau_a2,tau_e1,tau_e2]\n",
    "dyvars = [y1, y2, x1, x2, D]\n",
    "\n",
    "flow_fn=sp.lambdify(dyvars+taus,fullflow)\n",
    "\n",
    "jac_fn=sp.lambdify(\n",
    "    dyvars+taus,\n",
    "    sp.Matrix(5,5,lambda i,j : sp.diff(fullflow[i],dyvars[j]) )\n",
    ")\n",
    "\n",
    "# negative so it works properly\n",
    "tauvals = list(get_tau_alphas(-50 * 1e3, masses[0], masses[1], period_ratio=3/2)) + [1e3, 1e3]\n",
    "\n",
    "# tauvals = [-1e5,+1e5,1e3,1e3]\n",
    "# tauvals, list(get_tau_alphas(-50 * 1e3, masses[0], masses[1], period_ratio=3/2)) + [1e3, 1e3]"
   ]
  },
  {
   "cell_type": "code",
   "execution_count": 25,
   "metadata": {},
   "outputs": [
    {
     "name": "stdout",
     "output_type": "stream",
     "text": [
      "  message: 'The solver successfully reached the end of the integration interval.'\n",
      "     nfev: 11716\n",
      "     njev: 545\n",
      "      nlu: 2238\n",
      "      sol: None\n",
      "   status: 0\n",
      "  success: True\n",
      "        t: array([   0.        ,   30.15075377,   60.30150754,   90.45226131,\n",
      "        120.60301508,  150.75376884,  180.90452261,  211.05527638,\n",
      "        241.20603015,  271.35678392,  301.50753769,  331.65829146,\n",
      "        361.80904523,  391.95979899,  422.11055276,  452.26130653,\n",
      "        482.4120603 ,  512.56281407,  542.71356784,  572.86432161,\n",
      "        603.01507538,  633.16582915,  663.31658291,  693.46733668,\n",
      "        723.61809045,  753.76884422,  783.91959799,  814.07035176,\n",
      "        844.22110553,  874.3718593 ,  904.52261307,  934.67336683,\n",
      "        964.8241206 ,  994.97487437, 1025.12562814, 1055.27638191,\n",
      "       1085.42713568, 1115.57788945, 1145.72864322, 1175.87939698,\n",
      "       1206.03015075, 1236.18090452, 1266.33165829, 1296.48241206,\n",
      "       1326.63316583, 1356.7839196 , 1386.93467337, 1417.08542714,\n",
      "       1447.2361809 , 1477.38693467, 1507.53768844, 1537.68844221,\n",
      "       1567.83919598, 1597.98994975, 1628.14070352, 1658.29145729,\n",
      "       1688.44221106, 1718.59296482, 1748.74371859, 1778.89447236,\n",
      "       1809.04522613, 1839.1959799 , 1869.34673367, 1899.49748744,\n",
      "       1929.64824121, 1959.79899497, 1989.94974874, 2020.10050251,\n",
      "       2050.25125628, 2080.40201005, 2110.55276382, 2140.70351759,\n",
      "       2170.85427136, 2201.00502513, 2231.15577889, 2261.30653266,\n",
      "       2291.45728643, 2321.6080402 , 2351.75879397, 2381.90954774,\n",
      "       2412.06030151, 2442.21105528, 2472.36180905, 2502.51256281,\n",
      "       2532.66331658, 2562.81407035, 2592.96482412, 2623.11557789,\n",
      "       2653.26633166, 2683.41708543, 2713.5678392 , 2743.71859296,\n",
      "       2773.86934673, 2804.0201005 , 2834.17085427, 2864.32160804,\n",
      "       2894.47236181, 2924.62311558, 2954.77386935, 2984.92462312,\n",
      "       3015.07537688, 3045.22613065, 3075.37688442, 3105.52763819,\n",
      "       3135.67839196, 3165.82914573, 3195.9798995 , 3226.13065327,\n",
      "       3256.28140704, 3286.4321608 , 3316.58291457, 3346.73366834,\n",
      "       3376.88442211, 3407.03517588, 3437.18592965, 3467.33668342,\n",
      "       3497.48743719, 3527.63819095, 3557.78894472, 3587.93969849,\n",
      "       3618.09045226, 3648.24120603, 3678.3919598 , 3708.54271357,\n",
      "       3738.69346734, 3768.84422111, 3798.99497487, 3829.14572864,\n",
      "       3859.29648241, 3889.44723618, 3919.59798995, 3949.74874372,\n",
      "       3979.89949749, 4010.05025126, 4040.20100503, 4070.35175879,\n",
      "       4100.50251256, 4130.65326633, 4160.8040201 , 4190.95477387,\n",
      "       4221.10552764, 4251.25628141, 4281.40703518, 4311.55778894,\n",
      "       4341.70854271, 4371.85929648, 4402.01005025, 4432.16080402,\n",
      "       4462.31155779, 4492.46231156, 4522.61306533, 4552.7638191 ,\n",
      "       4582.91457286, 4613.06532663, 4643.2160804 , 4673.36683417,\n",
      "       4703.51758794, 4733.66834171, 4763.81909548, 4793.96984925,\n",
      "       4824.12060302, 4854.27135678, 4884.42211055, 4914.57286432,\n",
      "       4944.72361809, 4974.87437186, 5005.02512563, 5035.1758794 ,\n",
      "       5065.32663317, 5095.47738693, 5125.6281407 , 5155.77889447,\n",
      "       5185.92964824, 5216.08040201, 5246.23115578, 5276.38190955,\n",
      "       5306.53266332, 5336.68341709, 5366.83417085, 5396.98492462,\n",
      "       5427.13567839, 5457.28643216, 5487.43718593, 5517.5879397 ,\n",
      "       5547.73869347, 5577.88944724, 5608.04020101, 5638.19095477,\n",
      "       5668.34170854, 5698.49246231, 5728.64321608, 5758.79396985,\n",
      "       5788.94472362, 5819.09547739, 5849.24623116, 5879.39698492,\n",
      "       5909.54773869, 5939.69849246, 5969.84924623, 6000.        ])\n",
      " t_events: None\n",
      "        y: array([[ 0.00000000e+00,  2.84012818e-04, -2.35240085e-04,\n",
      "        -1.25570969e-04,  1.89123359e-04,  2.15506789e-04,\n",
      "        -1.88829864e-04, -2.16821882e-04, -1.22548226e-05,\n",
      "         1.86674554e-04,  2.46336717e-04,  3.67006818e-05,\n",
      "        -2.05366188e-04, -2.17329311e-04, -9.16287609e-05,\n",
      "         6.67035804e-05,  1.97351727e-04,  2.28701592e-04,\n",
      "         9.14552784e-05, -1.23748421e-04, -2.16317218e-04,\n",
      "        -1.59058712e-04, -2.57258580e-05,  1.19045961e-04,\n",
      "         2.10349053e-04,  1.71321034e-04, -1.24124874e-05,\n",
      "        -1.74423443e-04, -1.78136426e-04, -6.12058747e-05,\n",
      "         9.22281026e-05,  1.93317040e-04,  1.49689070e-04,\n",
      "        -4.02282268e-05, -1.74040877e-04, -1.33290420e-04,\n",
      "         1.43835706e-05,  1.54858833e-04,  1.67039029e-04,\n",
      "         3.25204359e-06, -1.52649820e-04, -1.25439753e-04,\n",
      "         2.52716807e-05,  1.56785966e-04,  1.30249790e-04,\n",
      "        -5.34429979e-05, -1.51061848e-04, -5.88917230e-05,\n",
      "         1.00401937e-04,  1.54480117e-04,  1.50495909e-05,\n",
      "        -1.31922943e-04, -8.55485279e-05,  7.11109881e-05,\n",
      "         1.46990919e-04,  2.74578908e-05, -1.19719549e-04,\n",
      "        -7.64004222e-05,  7.58268071e-05,  1.33637831e-04,\n",
      "        -4.16070708e-08, -1.17361182e-04, -4.11519114e-05,\n",
      "         1.01061676e-04,  1.03454650e-04, -5.06608455e-05,\n",
      "        -1.02454852e-04,  1.77117519e-05,  1.19832446e-04,\n",
      "         4.04646224e-05, -9.31389520e-05, -5.20146646e-05,\n",
      "         8.18188913e-05,  9.36733093e-05, -4.50609981e-05,\n",
      "        -8.40902280e-05,  3.21396353e-05,  1.06039670e-04,\n",
      "         7.24778918e-06, -8.73369192e-05, -1.01176052e-05,\n",
      "         9.57069183e-05,  4.51587681e-05, -7.24121770e-05,\n",
      "        -3.78933290e-05,  7.53325098e-05,  6.62337228e-05,\n",
      "        -5.15112941e-05, -5.21057993e-05,  5.51821195e-05,\n",
      "         7.47263155e-05, -3.27554022e-05, -5.74278943e-05,\n",
      "         3.98084708e-05,  7.60822295e-05, -1.85603628e-05,\n",
      "        -5.70160715e-05,  2.96516936e-05,  7.35365404e-05,\n",
      "        -9.71591082e-06, -5.42092972e-05,  2.38976878e-05,\n",
      "         7.01411278e-05, -6.68478909e-06, -5.03018702e-05,\n",
      "         2.24578140e-05,  6.56224901e-05, -6.27957985e-06,\n",
      "        -4.60962452e-05,  2.29810620e-05,  6.11352081e-05,\n",
      "        -7.86095476e-06, -4.08735330e-05,  2.58301987e-05,\n",
      "         5.60648025e-05, -1.06253944e-05, -3.54351015e-05,\n",
      "         2.88869610e-05,  5.05530624e-05, -1.44325212e-05,\n",
      "        -2.95898059e-05,  3.19390044e-05,  4.43283339e-05,\n",
      "        -1.74864780e-05, -2.27143804e-05,  3.54556038e-05,\n",
      "         3.66847814e-05, -1.98062476e-05, -1.52255746e-05,\n",
      "         3.77330788e-05,  2.87191080e-05, -2.13377528e-05,\n",
      "        -7.13487249e-06,  3.89665633e-05,  2.07902351e-05,\n",
      "        -2.12008182e-05,  8.83380525e-07,  3.80251541e-05,\n",
      "         1.29984002e-05, -1.97440999e-05,  8.65841876e-06,\n",
      "         3.58940987e-05,  5.52151416e-06, -1.64498372e-05,\n",
      "         1.48453487e-05,  3.19952913e-05, -6.46401971e-07,\n",
      "        -1.16860926e-05,  1.93486264e-05,  2.60295199e-05,\n",
      "        -3.50740240e-06, -5.57365493e-06,  2.04824136e-05,\n",
      "         2.09338461e-05, -2.76248663e-06, -4.49508287e-07,\n",
      "         1.92905682e-05,  1.53768915e-05, -9.77929821e-07,\n",
      "         3.82570322e-06,  1.64881853e-05,  1.22364864e-05,\n",
      "         3.06903918e-06,  6.00508083e-06,  1.17521008e-05,\n",
      "         1.09760247e-05,  7.16486261e-06,  7.21079708e-06,\n",
      "         9.03486949e-06,  9.32560861e-06,  8.94460007e-06,\n",
      "         8.79644037e-06,  8.78372949e-06,  8.81822957e-06,\n",
      "         8.80842196e-06,  8.81098839e-06,  8.81753679e-06,\n",
      "         8.82018269e-06,  8.82031820e-06,  8.81933546e-06,\n",
      "         8.81862657e-06,  8.81958365e-06,  8.82226929e-06,\n",
      "         8.82373396e-06,  8.82509538e-06,  8.82636205e-06,\n",
      "         8.82754253e-06,  8.82864533e-06,  8.82967899e-06,\n",
      "         8.83065203e-06,  8.83157299e-06,  8.83245040e-06,\n",
      "         8.83329278e-06,  8.83410867e-06,  8.83490659e-06,\n",
      "         8.83569507e-06,  8.83648265e-06,  8.83727786e-06,\n",
      "         8.83808922e-06,  8.83892526e-06],\n",
      "       [ 0.00000000e+00, -1.95401346e-04,  1.61845615e-04,\n",
      "         8.63930597e-05, -1.30117222e-04, -1.48269071e-04,\n",
      "         1.29915297e-04,  1.49173857e-04,  8.43134066e-06,\n",
      "        -1.28432440e-04, -1.69480118e-04, -2.52501372e-05,\n",
      "         1.41292318e-04,  1.49522969e-04,  6.30407574e-05,\n",
      "        -4.58921870e-05, -1.35778354e-04, -1.57347119e-04,\n",
      "        -6.29214011e-05,  8.51391433e-05,  1.48826647e-04,\n",
      "         1.09432689e-04,  1.76994380e-05, -8.19038416e-05,\n",
      "        -1.44720539e-04, -1.17869189e-04,  8.53981433e-06,\n",
      "         1.20003652e-04,  1.22558192e-04,  4.21097553e-05,\n",
      "        -6.34531056e-05, -1.33002482e-04, -1.02986358e-04,\n",
      "         2.76770946e-05,  1.19740446e-04,  9.17040565e-05,\n",
      "        -9.89592321e-06, -1.06543164e-04, -1.14923161e-04,\n",
      "        -2.23741202e-06,  1.05023359e-04,  8.63027825e-05,\n",
      "        -1.73869632e-05, -1.07869035e-04, -8.96120971e-05,\n",
      "         3.67688817e-05,  1.03930831e-04,  4.05176146e-05,\n",
      "        -6.90767187e-05, -1.06282607e-04, -1.03541464e-05,\n",
      "         9.07632297e-05,  5.88575458e-05, -4.89244917e-05,\n",
      "        -1.01130025e-04, -1.88910798e-05,  8.23672715e-05,\n",
      "         5.25636321e-05, -5.21689839e-05, -9.19430753e-05,\n",
      "         2.86257421e-08,  8.07447109e-05,  2.83125914e-05,\n",
      "        -6.95306203e-05, -7.11769913e-05,  3.48547556e-05,\n",
      "         7.04891282e-05, -1.21857182e-05, -8.24449452e-05,\n",
      "        -2.78397352e-05,  6.40797717e-05,  3.57861857e-05,\n",
      "        -5.62915489e-05, -6.44474105e-05,  3.10020503e-05,\n",
      "         5.78542328e-05, -2.21121287e-05, -7.29554896e-05,\n",
      "        -4.98649240e-06,  6.00879624e-05,  6.96093116e-06,\n",
      "        -6.58465372e-05, -3.10693162e-05,  4.98197120e-05,\n",
      "         2.60706806e-05, -5.18289064e-05, -4.55689241e-05,\n",
      "         3.54398658e-05,  3.58488865e-05, -3.79654005e-05,\n",
      "        -5.14118436e-05,  2.25357775e-05,  3.95104978e-05,\n",
      "        -2.73883017e-05, -5.23447150e-05,  1.27695640e-05,\n",
      "         3.92271629e-05, -2.04004202e-05, -5.05932761e-05,\n",
      "         6.68456466e-06,  3.72960970e-05, -1.64416535e-05,\n",
      "        -4.82572260e-05,  4.59914729e-06,  3.46077799e-05,\n",
      "        -1.54510177e-05, -4.51483949e-05,  4.32036258e-06,\n",
      "         3.17143022e-05, -1.58110133e-05, -4.20611365e-05,\n",
      "         5.40835145e-06,  2.81210665e-05, -1.77712246e-05,\n",
      "        -3.85726881e-05,  7.31029103e-06,  2.43794155e-05,\n",
      "        -1.98742827e-05, -3.47806007e-05,  9.92960134e-06,\n",
      "         2.03578413e-05, -2.19740943e-05, -3.04979759e-05,\n",
      "         1.20307293e-05,  1.56275359e-05, -2.43935212e-05,\n",
      "        -2.52391976e-05,  1.36267351e-05,  1.04752235e-05,\n",
      "        -2.59604282e-05, -1.97587995e-05,  1.46804135e-05,\n",
      "         4.90880550e-06, -2.68090678e-05, -1.43037203e-05,\n",
      "         1.45862022e-05, -6.07767439e-07, -2.61613765e-05,\n",
      "        -8.94292344e-06,  1.35839773e-05, -5.95700816e-06,\n",
      "        -2.46952065e-05, -3.79881198e-06,  1.13175185e-05,\n",
      "        -1.02136274e-05, -2.20128197e-05,  4.44725755e-07,\n",
      "         8.04005340e-06, -1.33118908e-05, -1.79083580e-05,\n",
      "         2.41309935e-06,  3.83468492e-06, -1.40919385e-05,\n",
      "        -1.44025249e-05,  1.90059592e-06,  3.09262535e-07,\n",
      "        -1.32719467e-05, -1.05793298e-05,  6.72817530e-07,\n",
      "        -2.63209091e-06, -1.13439021e-05, -8.41872533e-06,\n",
      "        -2.11150465e-06, -4.13150674e-06, -8.08546714e-06,\n",
      "        -7.55152534e-06, -4.92943876e-06, -4.96104176e-06,\n",
      "        -6.21600696e-06, -6.41603602e-06, -6.15390143e-06,\n",
      "        -6.05196728e-06, -6.04322218e-06, -6.06695830e-06,\n",
      "        -6.06021064e-06, -6.06197635e-06, -6.06648166e-06,\n",
      "        -6.06830204e-06, -6.06839528e-06, -6.06771915e-06,\n",
      "        -6.06723143e-06, -6.06788990e-06, -6.06973763e-06,\n",
      "        -6.07074533e-06, -6.07168198e-06, -6.07255346e-06,\n",
      "        -6.07336563e-06, -6.07412436e-06, -6.07483552e-06,\n",
      "        -6.07550497e-06, -6.07613860e-06, -6.07674225e-06,\n",
      "        -6.07732181e-06, -6.07788314e-06, -6.07843211e-06,\n",
      "        -6.07897459e-06, -6.07951645e-06, -6.08006355e-06,\n",
      "        -6.08062177e-06, -6.08119697e-06],\n",
      "       [ 0.00000000e+00,  3.04625715e-04,  3.93254096e-04,\n",
      "         7.46077212e-05,  1.18865945e-04,  4.22673980e-04,\n",
      "         4.46162575e-04,  1.99614311e-04,  1.38823618e-04,\n",
      "         1.97944616e-04,  3.75175071e-04,  5.32803243e-04,\n",
      "         4.43995946e-04,  2.96699799e-04,  2.41680224e-04,\n",
      "         2.49462582e-04,  3.05744345e-04,  4.27092432e-04,\n",
      "         5.51697600e-04,  5.39900407e-04,  4.28980172e-04,\n",
      "         3.54219060e-04,  3.38310441e-04,  3.58161274e-04,\n",
      "         4.23368745e-04,  5.37449636e-04,  5.99265735e-04,\n",
      "         5.32246939e-04,  4.44815978e-04,  4.14343789e-04,\n",
      "         4.24103519e-04,  4.77819218e-04,  5.80356728e-04,\n",
      "         6.23432386e-04,  5.48219587e-04,  4.80779156e-04,\n",
      "         4.68946795e-04,  4.96952631e-04,  5.81792003e-04,\n",
      "         6.46348017e-04,  5.89642200e-04,  5.21998267e-04,\n",
      "         5.10151425e-04,  5.42727535e-04,  6.27399864e-04,\n",
      "         6.56691545e-04,  5.85148351e-04,  5.42865595e-04,\n",
      "         5.50748007e-04,  6.12193942e-04,  6.74911976e-04,\n",
      "         6.27776275e-04,  5.73062217e-04,  5.71011002e-04,\n",
      "         6.21339355e-04,  6.84482551e-04,  6.45538770e-04,\n",
      "         5.93521305e-04,  5.93156161e-04,  6.45081784e-04,\n",
      "         6.94300540e-04,  6.46867136e-04,  6.07079386e-04,\n",
      "         6.17654311e-04,  6.76944488e-04,  6.95162072e-04,\n",
      "         6.40219284e-04,  6.20248204e-04,  6.49999129e-04,\n",
      "         7.04912840e-04,  6.79810042e-04,  6.36800051e-04,\n",
      "         6.41103778e-04,  6.91498149e-04,  7.07060856e-04,\n",
      "         6.59236643e-04,  6.45002933e-04,  6.78113010e-04,\n",
      "         7.17485760e-04,  6.82525315e-04,  6.53853578e-04,\n",
      "         6.71673244e-04,  7.17233089e-04,  7.01559251e-04,\n",
      "         6.65127276e-04,  6.71316968e-04,  7.13586450e-04,\n",
      "         7.14466886e-04,  6.76863519e-04,  6.74429010e-04,\n",
      "         7.10707988e-04,  7.22397666e-04,  6.87018916e-04,\n",
      "         6.79018766e-04,  7.09725961e-04,  7.27027850e-04,\n",
      "         6.95374231e-04,  6.84030030e-04,  7.10633821e-04,\n",
      "         7.29870866e-04,  7.01655048e-04,  6.89050963e-04,\n",
      "         7.12836801e-04,  7.31843029e-04,  7.06032786e-04,\n",
      "         6.93730543e-04,  7.16105710e-04,  7.33453538e-04,\n",
      "         7.09223404e-04,  6.98137974e-04,  7.19540965e-04,\n",
      "         7.34225705e-04,  7.11479526e-04,  7.02378052e-04,\n",
      "         7.23315195e-04,  7.34930876e-04,  7.13113306e-04,\n",
      "         7.06387579e-04,  7.26948001e-04,  7.35013253e-04,\n",
      "         7.14475586e-04,  7.10340195e-04,  7.30377849e-04,\n",
      "         7.34728464e-04,  7.15429603e-04,  7.14376945e-04,\n",
      "         7.33448741e-04,  7.33894592e-04,  7.16625348e-04,\n",
      "         7.18418835e-04,  7.35988638e-04,  7.32768457e-04,\n",
      "         7.17801456e-04,  7.22474437e-04,  7.37876823e-04,\n",
      "         7.31526339e-04,  7.19276467e-04,  7.26416571e-04,\n",
      "         7.38873635e-04,  7.30381651e-04,  7.21105119e-04,\n",
      "         7.30145189e-04,  7.39193360e-04,  7.29312124e-04,\n",
      "         7.23369299e-04,  7.33300889e-04,  7.38801913e-04,\n",
      "         7.28805118e-04,  7.25872311e-04,  7.35636363e-04,\n",
      "         7.37918698e-04,  7.29013938e-04,  7.28585758e-04,\n",
      "         7.36759383e-04,  7.36835276e-04,  7.30259795e-04,\n",
      "         7.31085144e-04,  7.37030098e-04,  7.36096658e-04,\n",
      "         7.31526476e-04,  7.33071224e-04,  7.36808231e-04,\n",
      "         7.35791661e-04,  7.33740695e-04,  7.34314736e-04,\n",
      "         7.36048567e-04,  7.36019228e-04,  7.35300930e-04,\n",
      "         7.35370538e-04,  7.35753965e-04,  7.35921487e-04,\n",
      "         7.36059352e-04,  7.36216408e-04,  7.36318990e-04,\n",
      "         7.36441271e-04,  7.36547051e-04,  7.36653847e-04,\n",
      "         7.36757934e-04,  7.36859328e-04,  7.36958047e-04,\n",
      "         7.37054107e-04,  7.37147523e-04,  7.37238243e-04,\n",
      "         7.37326418e-04,  7.37412304e-04,  7.37495948e-04,\n",
      "         7.37577397e-04,  7.37656697e-04,  7.37733895e-04,\n",
      "         7.37809038e-04,  7.37882173e-04,  7.37953347e-04,\n",
      "         7.38022606e-04,  7.38089998e-04,  7.38155569e-04,\n",
      "         7.38219366e-04,  7.38281436e-04,  7.38341825e-04,\n",
      "         7.38400582e-04,  7.38457751e-04],\n",
      "       [ 0.00000000e+00, -2.09583057e-04, -2.70559547e-04,\n",
      "        -5.13302505e-05, -8.17799904e-05, -2.90800482e-04,\n",
      "        -3.06960679e-04, -1.37335016e-04, -9.55109068e-05,\n",
      "        -1.36186263e-04, -2.58121145e-04, -3.66569619e-04,\n",
      "        -3.05470034e-04, -2.04130012e-04, -1.66276442e-04,\n",
      "        -1.71630719e-04, -2.10352676e-04, -2.93840385e-04,\n",
      "        -3.79568972e-04, -3.71452481e-04, -2.95139154e-04,\n",
      "        -2.43703370e-04, -2.32758211e-04, -2.46415621e-04,\n",
      "        -2.91278482e-04, -3.69766346e-04, -4.12295937e-04,\n",
      "        -3.66186881e-04, -3.06034218e-04, -2.85069295e-04,\n",
      "        -2.91784007e-04, -3.28740508e-04, -3.99286505e-04,\n",
      "        -4.28922638e-04, -3.77176092e-04, -3.30776951e-04,\n",
      "        -3.22636264e-04, -3.41904332e-04, -4.00273977e-04,\n",
      "        -4.44688634e-04, -4.05674927e-04, -3.59135776e-04,\n",
      "        -3.50985126e-04, -3.73397550e-04, -4.31652270e-04,\n",
      "        -4.51805000e-04, -4.02583150e-04, -3.73492536e-04,\n",
      "        -3.78915650e-04, -4.21190567e-04, -4.64340691e-04,\n",
      "        -4.31911241e-04, -3.94267868e-04, -3.92856628e-04,\n",
      "        -4.27482628e-04, -4.70925264e-04, -4.44131871e-04,\n",
      "        -4.08343758e-04, -4.08092539e-04, -4.43817463e-04,\n",
      "        -4.77680059e-04, -4.45045789e-04, -4.17671743e-04,\n",
      "        -4.24947311e-04, -4.65739063e-04, -4.78272795e-04,\n",
      "        -4.40472055e-04, -4.26731915e-04, -4.47200606e-04,\n",
      "        -4.84981341e-04, -4.67710569e-04, -4.38119616e-04,\n",
      "        -4.41080588e-04, -4.75752009e-04, -4.86459180e-04,\n",
      "        -4.53556033e-04, -4.43763214e-04, -4.66543008e-04,\n",
      "        -4.93631533e-04, -4.69578682e-04, -4.49852474e-04,\n",
      "        -4.62112437e-04, -4.93457695e-04, -4.82674066e-04,\n",
      "        -4.57608799e-04, -4.61867319e-04, -4.90948801e-04,\n",
      "        -4.91554543e-04, -4.65683356e-04, -4.64008410e-04,\n",
      "        -4.88968414e-04, -4.97010934e-04, -4.72670288e-04,\n",
      "        -4.67166170e-04, -4.88292777e-04, -5.00196509e-04,\n",
      "        -4.78418760e-04, -4.70613929e-04, -4.88917387e-04,\n",
      "        -5.02152509e-04, -4.82739974e-04, -4.74068341e-04,\n",
      "        -4.90433041e-04, -5.03509361e-04, -4.85751866e-04,\n",
      "        -4.77287900e-04, -4.92682056e-04, -5.04617394e-04,\n",
      "        -4.87947017e-04, -4.80320220e-04, -4.95045518e-04,\n",
      "        -5.05148646e-04, -4.89499233e-04, -4.83237402e-04,\n",
      "        -4.97642195e-04, -5.05633806e-04, -4.90623277e-04,\n",
      "        -4.85995964e-04, -5.00141573e-04, -5.05690481e-04,\n",
      "        -4.91560528e-04, -4.88715371e-04, -5.02501315e-04,\n",
      "        -5.05494546e-04, -4.92216893e-04, -4.91492663e-04,\n",
      "        -5.04614094e-04, -5.04920840e-04, -4.93039568e-04,\n",
      "        -4.94273490e-04, -5.06361548e-04, -5.04146057e-04,\n",
      "        -4.93848732e-04, -4.97063752e-04, -5.07660622e-04,\n",
      "        -5.03291478e-04, -4.94863543e-04, -4.99775948e-04,\n",
      "        -5.08346431e-04, -5.02503930e-04, -4.96121659e-04,\n",
      "        -5.02341244e-04, -5.08566403e-04, -5.01768093e-04,\n",
      "        -4.97679419e-04, -5.04512371e-04, -5.08297086e-04,\n",
      "        -5.01419273e-04, -4.99401496e-04, -5.06119181e-04,\n",
      "        -5.07689432e-04, -5.01562941e-04, -5.01268352e-04,\n",
      "        -5.06891822e-04, -5.06944036e-04, -5.02420093e-04,\n",
      "        -5.02987935e-04, -5.07078074e-04, -5.06435866e-04,\n",
      "        -5.03291572e-04, -5.04354362e-04, -5.06925429e-04,\n",
      "        -5.06226027e-04, -5.04814959e-04, -5.05209900e-04,\n",
      "        -5.06402779e-04, -5.06382594e-04, -5.05888403e-04,\n",
      "        -5.05936294e-04, -5.06200092e-04, -5.06315348e-04,\n",
      "        -5.06410199e-04, -5.06518254e-04, -5.06588831e-04,\n",
      "        -5.06672960e-04, -5.06745737e-04, -5.06819212e-04,\n",
      "        -5.06890824e-04, -5.06960584e-04, -5.07028503e-04,\n",
      "        -5.07094592e-04, -5.07158863e-04, -5.07221278e-04,\n",
      "        -5.07281943e-04, -5.07341033e-04, -5.07398580e-04,\n",
      "        -5.07454617e-04, -5.07509175e-04, -5.07562288e-04,\n",
      "        -5.07613986e-04, -5.07664303e-04, -5.07713271e-04,\n",
      "        -5.07760922e-04, -5.07807287e-04, -5.07852400e-04,\n",
      "        -5.07896293e-04, -5.07938997e-04, -5.07980545e-04,\n",
      "        -5.08020969e-04, -5.08060302e-04],\n",
      "       [-1.62587180e-07, -1.52749090e-07, -1.43818646e-07,\n",
      "        -1.34272274e-07, -1.24349660e-07, -1.15000687e-07,\n",
      "        -1.06170893e-07, -9.70373264e-08, -8.75543271e-08,\n",
      "        -7.81491148e-08, -6.91559106e-08, -6.06143476e-08,\n",
      "        -5.22206865e-08, -4.36870195e-08, -3.50165968e-08,\n",
      "        -2.63752170e-08, -1.79509918e-08, -9.88164818e-09,\n",
      "        -2.18684359e-09,  5.28304860e-09,  1.27430688e-08,\n",
      "         2.02863014e-08,  2.78527287e-08,  3.52988309e-08,\n",
      "         4.24667356e-08,  4.92594463e-08,  5.57276722e-08,\n",
      "         6.20773651e-08,  6.84946386e-08,  7.49912908e-08,\n",
      "         8.14257215e-08,  8.76043441e-08,  9.33996558e-08,\n",
      "         9.88764388e-08,  1.04288871e-07,  1.09821641e-07,\n",
      "         1.15424401e-07,  1.20882533e-07,  1.25984972e-07,\n",
      "         1.30726339e-07,  1.35360365e-07,  1.40131560e-07,\n",
      "         1.45002731e-07,  1.49721950e-07,  1.54070194e-07,\n",
      "         1.58106016e-07,  1.62146136e-07,  1.66365456e-07,\n",
      "         1.70599676e-07,  1.74552424e-07,  1.78135924e-07,\n",
      "         1.81617831e-07,  1.85275868e-07,  1.89024332e-07,\n",
      "         1.92546667e-07,  1.95703772e-07,  1.98743933e-07,\n",
      "         2.01963763e-07,  2.05276069e-07,  2.08356205e-07,\n",
      "         2.11094268e-07,  2.13780322e-07,  2.16664937e-07,\n",
      "         2.19581311e-07,  2.22213530e-07,  2.24571101e-07,\n",
      "         2.26996241e-07,  2.29607080e-07,  2.32125088e-07,\n",
      "         2.34322942e-07,  2.36392774e-07,  2.38640455e-07,\n",
      "         2.40969653e-07,  2.43061245e-07,  2.44899635e-07,\n",
      "         2.46815902e-07,  2.48902251e-07,  2.50874375e-07,\n",
      "         2.52560337e-07,  2.54205570e-07,  2.56040120e-07,\n",
      "         2.57870602e-07,  2.59436341e-07,  2.60873591e-07,\n",
      "         2.62472311e-07,  2.64142944e-07,  2.65599440e-07,\n",
      "         2.66875711e-07,  2.68268430e-07,  2.69776464e-07,\n",
      "         2.71122953e-07,  2.72267215e-07,  2.73485935e-07,\n",
      "         2.74840865e-07,  2.76076332e-07,  2.77106553e-07,\n",
      "         2.78179938e-07,  2.79395097e-07,  2.80520219e-07,\n",
      "         2.81447480e-07,  2.82398580e-07,  2.83489489e-07,\n",
      "         2.84509149e-07,  2.85339495e-07,  2.86188810e-07,\n",
      "         2.87171592e-07,  2.88089150e-07,  2.88830767e-07,\n",
      "         2.89592397e-07,  2.90479493e-07,  2.91302282e-07,\n",
      "         2.91962519e-07,  2.92649985e-07,  2.93452471e-07,\n",
      "         2.94185324e-07,  2.94771883e-07,  2.95395470e-07,\n",
      "         2.96121525e-07,  2.96771807e-07,  2.97291800e-07,\n",
      "         2.97860828e-07,  2.98517362e-07,  2.99091487e-07,\n",
      "         2.99553771e-07,  3.00075682e-07,  3.00668642e-07,\n",
      "         3.01170743e-07,  3.01584301e-07,  3.02064964e-07,\n",
      "         3.02597827e-07,  3.03035000e-07,  3.03406985e-07,\n",
      "         3.03851704e-07,  3.04327713e-07,  3.04706756e-07,\n",
      "         3.05044394e-07,  3.05455905e-07,  3.05877139e-07,\n",
      "         3.06205925e-07,  3.06515309e-07,  3.06896003e-07,\n",
      "         3.07265612e-07,  3.07550392e-07,  3.07837656e-07,\n",
      "         3.08186883e-07,  3.08508745e-07,  3.08757303e-07,\n",
      "         3.09026419e-07,  3.09343619e-07,  3.09620870e-07,\n",
      "         3.09843574e-07,  3.10095354e-07,  3.10377452e-07,\n",
      "         3.10618845e-07,  3.10822317e-07,  3.11053649e-07,\n",
      "         3.11301812e-07,  3.11512745e-07,  3.11701701e-07,\n",
      "         3.11912815e-07,  3.12128755e-07,  3.12317043e-07,\n",
      "         3.12493759e-07,  3.12681336e-07,  3.12867672e-07,\n",
      "         3.13040617e-07,  3.13204957e-07,  3.13369843e-07,\n",
      "         3.13532651e-07,  3.13689155e-07,  3.13840606e-07,\n",
      "         3.13988304e-07,  3.14132227e-07,  3.14272367e-07,\n",
      "         3.14408704e-07,  3.14541406e-07,  3.14670575e-07,\n",
      "         3.14796293e-07,  3.14918646e-07,  3.15037725e-07,\n",
      "         3.15153616e-07,  3.15266410e-07,  3.15376145e-07,\n",
      "         3.15482910e-07,  3.15586872e-07,  3.15688093e-07,\n",
      "         3.15786634e-07,  3.15882555e-07,  3.15975917e-07,\n",
      "         3.16066782e-07,  3.16155210e-07,  3.16241262e-07,\n",
      "         3.16325000e-07,  3.16406483e-07,  3.16485774e-07,\n",
      "         3.16562933e-07,  3.16638021e-07,  3.16711098e-07,\n",
      "         3.16782227e-07,  3.16851467e-07]])\n",
      " y_events: None\n"
     ]
    }
   ],
   "source": [
    "from scipy.integrate import solve_ivp\n",
    "\n",
    "times = np.linspace(0,6e3,200)\n",
    "f=lambda t,x: flow_fn(*x,*tauvals).reshape(-1)\n",
    "Df = lambda t,x: jac_fn(*x,*tauvals)\n",
    "soln=solve_ivp(f,(times[0],times[-1]),[0,0,0,0,float(Dval)],method='Radau',t_eval=times,jac=Df)\n",
    "print(soln)\n",
    "# root=newton_solve(f,Df,soln.y.T[-1])"
   ]
  },
  {
   "cell_type": "code",
   "execution_count": 26,
   "metadata": {},
   "outputs": [
    {
     "data": {
      "text/plain": [
       "[<matplotlib.lines.Line2D at 0x7ff102f7ceb0>]"
      ]
     },
     "execution_count": 26,
     "metadata": {},
     "output_type": "execute_result"
    },
    {
     "data": {
      "image/png": "[encoded data removed]",
      "text/plain": [
       "<Figure size 432x288 with 2 Axes>"
      ]
     },
     "metadata": {
      "needs_background": "light"
     },
     "output_type": "display_data"
    }
   ],
   "source": [
    "fig,ax= plt.subplots(2,1,sharex=True)\n",
    "ax[0].plot(times,soln.y[-1])\n",
    "ax[1].plot(soln.t,soln.y[0])\n",
    "ax[1].plot(soln.t,soln.y[1])\n",
    "ax[1].plot(soln.t,soln.y[2])\n",
    "ax[1].plot(soln.t,soln.y[3])"
   ]
  },
  {
   "cell_type": "code",
   "execution_count": 27,
   "metadata": {},
   "outputs": [],
   "source": [
    "import warnings\n",
    "#warnings.filterwarnings(\"ignore\")\n",
    "from scipy.linalg import solve as lin_solve\n",
    "def newton_solve(fun,Dfun,guess,max_iter=100,rtol=1e-6,atol=1e-12):\n",
    "    y = guess.copy()\n",
    "    for itr in range(max_iter):\n",
    "        f = fun(y)\n",
    "        Df = Dfun(y)\n",
    "        dy = -1 * lin_solve(Df,f)\n",
    "        y+=dy\n",
    "        if np.alltrue( np.abs(dy) < rtol * np.abs(y) + atol ):\n",
    "            break\n",
    "    else:\n",
    "        warnings.warn(\"did not converge\")\n",
    "    return y"
   ]
  },
  {
   "cell_type": "code",
   "execution_count": 28,
   "metadata": {},
   "outputs": [
    {
     "name": "stdout",
     "output_type": "stream",
     "text": [
      "[ 8.83892526e-06 -6.08119697e-06  7.38457751e-04 -5.08060302e-04\n",
      "  3.16851467e-07]\n"
     ]
    }
   ],
   "source": [
    "print(soln.y.T[-1])"
   ]
  },
  {
   "cell_type": "code",
   "execution_count": 29,
   "metadata": {},
   "outputs": [
    {
     "data": {
      "text/plain": [
       "<matplotlib.legend.Legend at 0x7ff1032d5c70>"
      ]
     },
     "execution_count": 29,
     "metadata": {},
     "output_type": "execute_result"
    },
    {
     "data": {
      "image/png": "[encoded data removed]",
      "text/plain": [
       "<Figure size 432x288 with 1 Axes>"
      ]
     },
     "metadata": {
      "needs_background": "light"
     },
     "output_type": "display_data"
    }
   ],
   "source": [
    "f=lambda x: flow_fn(*x,*tauvals).reshape(-1)\n",
    "Df = lambda x: jac_fn(*x,*tauvals)\n",
    "root=newton_solve(f,Df,soln.y.T[-1])\n",
    "\n",
    "plt.plot(soln.t,soln.y[0], label = 'y1')\n",
    "plt.plot(soln.t,soln.y[1], label = 'y2')\n",
    "plt.plot(soln.t,soln.y[2], label= 'x1')\n",
    "plt.plot(soln.t,soln.y[3], label = 'x2')\n",
    "for i, r in enumerate(root[:4]):\n",
    "    plt.axhline(r,color='k')\n",
    "plt.legend()"
   ]
  },
  {
   "cell_type": "code",
   "execution_count": 30,
   "metadata": {},
   "outputs": [
    {
     "data": {
      "text/latex": [
       "$\\displaystyle \\left[ 50.0 \\tau_{e}\\right]$"
      ],
      "text/plain": [
       "[50.0⋅τₑ]"
      ]
     },
     "execution_count": 30,
     "metadata": {},
     "output_type": "execute_result"
    }
   ],
   "source": [
    "tau_alpha_sym, tau_e = sp.symbols('tau_alpha, tau_e')\n",
    "\n",
    "xydict = dict(zip(dyvars, root))    \n",
    "# sub with the equilibrium values of d, y1, y2, x1, x2, set ddot = 0 and set tau a1 equal to tau a2\n",
    "fullflow_N = fullflow.subs(xydict).subs([(-tau_e2, tau_e), (-tau_e1, tau_e)])[4]\n",
    "\n",
    "# substitute 1/tau_a = 1/tau_a1 - 1/tau_a2 usign the coefficient\n",
    "\n",
    "ddot_eq = fullflow_N.subs(-fullflow_N.coeff(1/tau_a2)/tau_alpha, -fullflow_N.coeff(1/tau_a2)/tau_alpha_sym)\n",
    "sp.solve(ddot_eq, tau_alpha_sym)"
   ]
  },
  {
   "cell_type": "code",
   "execution_count": 31,
   "metadata": {},
   "outputs": [
    {
     "data": {
      "text/plain": [
       "True"
      ]
     },
     "execution_count": 31,
     "metadata": {},
     "output_type": "execute_result"
    }
   ],
   "source": [
    "tau_a1 in fullflow_N.free_symbols"
   ]
  },
  {
   "cell_type": "code",
   "execution_count": 32,
   "metadata": {},
   "outputs": [
    {
     "data": {
      "text/latex": [
       "$\\displaystyle \\left[ 50.0\\right]$"
      ],
      "text/plain": [
       "[50.0]"
      ]
     },
     "execution_count": 32,
     "metadata": {},
     "output_type": "execute_result"
    }
   ],
   "source": [
    "K = sp.symbols('K')\n",
    "\n",
    "sp.solve(sp.simplify(fullflow_N.subs(tau_a1, 1/(1/tau_alpha_sym + 1/tau_a2)).subs(tau_alpha_sym, K * tau_e)), K)"
   ]
  },
  {
   "cell_type": "code",
   "execution_count": 33,
   "metadata": {},
   "outputs": [],
   "source": [
    "def D_to_K(flow_mat, root, dyvars=dyvars):\n",
    "    \"\"\"\n",
    "    Computes K = tau_a/tau_e using the flow matrix and its roots\n",
    "    \n",
    "    Flow matrix is in the form zdot = d/dt[y1, y2, x1, x2, D] and settting D_dot to 0   \n",
    "    Root is vector in the from z = [y1, y2, x1, x2, D]\n",
    "    \n",
    "    Flow matrix should have free symbols for tau_a1, tau_a2, tau_e1, tau_e2, x1, x2, y1, y2, D\n",
    "    (rho and L2 values should be replaced before passing to the function)\n",
    "    \"\"\"\n",
    "    tau_alpha_sym, tau_e, K = sp.symbols('tau_alpha, tau_e, K')\n",
    "    # sub with equilibrium values of y1, y2, x1, x2, d, and set tau_e1 = tau_e2 = tau_e\n",
    "    xydict = dict(zip(dyvars, root))    \n",
    "    # tau_e1, tau_e2, tau_a1, tau_a2 need to be defined\n",
    "    flow_mat_N = flow_mat.subs(xydict).subs([(-tau_e2, tau_e), (-tau_e1, tau_e)])[-1]  # D entry is at the end of the matrix\n",
    "    # substitute tau_a1 = 1/(1/tau_a + 1/tau_a2) and them sub in tau_a = K * tau_e into the sympy expression\n",
    "    ddot_eq = flow_mat_N.subs(tau_a1, 1/(1/tau_alpha_sym + 1/tau_a2)).subs(tau_alpha_sym, K * tau_e)\n",
    "    # return solving for tau_a in terms of tau_e (coefficient is equal to K)\n",
    "    return sp.solve(ddot_eq, K)[0]  # since sp.solve returns a singleton list"
   ]
  },
  {
   "cell_type": "code",
   "execution_count": 34,
   "metadata": {},
   "outputs": [],
   "source": [
    "Ddot_dis = -1*factor *(1/sp.S(2))* 1/tau_alpha - p1/tau_e1 - p2/tau_e2\n",
    "newdisflow_approx = sp.Matrix([(newdisflow[i] if i<4 else Ddot_dis) for i in range(5)])\n",
    "fullflow = sp.Matrix(list(newflow) + [0]) + newdisflow_approx# .subs(newpars) \n",
    "\n",
    "flow_fn=sp.lambdify(dyvars+taus,fullflow.subs(newpars))  # sub in newpars for this case\n",
    "jac_fn=sp.lambdify(dyvars+taus, sp.Matrix(5,5,lambda i,j : sp.diff(fullflow.subs(newpars)[i],dyvars[j]))) # sub newpars here too\n"
   ]
  },
  {
   "cell_type": "code",
   "execution_count": 35,
   "metadata": {},
   "outputs": [
    {
     "data": {
      "text/latex": [
       "$\\displaystyle \\left( \\left[\\begin{matrix}- \\frac{1.03782688905983 \\cdot 10^{-11} \\left(8 L_{2} x_{1} \\left(3 \\rho + 2\\right) - 8 x_{1}^{3} - 8 x_{1} x_{2}^{2} - 8 x_{1} y_{1}^{2} - 8 x_{1} y_{2}^{2} - 16 x_{1} \\left(- D + L_{2} \\left(\\rho + 1\\right)\\right)\\right)}{\\left(2 L_{2}^{2} \\left(3 \\rho + 2\\right)^{2} - 4 L_{2} x_{1}^{2} \\left(3 \\rho + 2\\right) - 4 L_{2} x_{2}^{2} \\left(3 \\rho + 2\\right) - 4 L_{2} y_{1}^{2} \\left(3 \\rho + 2\\right) - 4 L_{2} y_{2}^{2} \\left(3 \\rho + 2\\right) - 8 L_{2} \\left(- D + L_{2} \\left(\\rho + 1\\right)\\right) \\left(3 \\rho + 2\\right) + 2 x_{1}^{4} + 4 x_{1}^{2} x_{2}^{2} + 4 x_{1}^{2} y_{1}^{2} + 4 x_{1}^{2} y_{2}^{2} + 8 x_{1}^{2} \\left(- D + L_{2} \\left(\\rho + 1\\right)\\right) + 2 x_{2}^{4} + 4 x_{2}^{2} y_{1}^{2} + 4 x_{2}^{2} y_{2}^{2} + 8 x_{2}^{2} \\left(- D + L_{2} \\left(\\rho + 1\\right)\\right) + 2 y_{1}^{4} + 4 y_{1}^{2} y_{2}^{2} + 8 y_{1}^{2} \\left(- D + L_{2} \\left(\\rho + 1\\right)\\right) + 2 y_{2}^{4} + 8 y_{2}^{2} \\left(- D + L_{2} \\left(\\rho + 1\\right)\\right) + 8 \\left(- D + L_{2} \\left(\\rho + 1\\right)\\right)^{2}\\right)^{2}} - \\frac{4.61162177613911 \\cdot 10^{-10} \\left(24 L_{2} x_{1} \\left(3 \\rho + 2\\right) - 36 x_{1}^{3} - 36 x_{1} x_{2}^{2} - 36 x_{1} y_{1}^{2} - 36 x_{1} y_{2}^{2} - 72 x_{1} \\left(- D + L_{2} \\left(\\rho + 1\\right)\\right)\\right)}{\\left(4 L_{2}^{2} \\left(3 \\rho + 2\\right)^{2} - 12 L_{2} x_{1}^{2} \\left(3 \\rho + 2\\right) - 12 L_{2} x_{2}^{2} \\left(3 \\rho + 2\\right) - 12 L_{2} y_{1}^{2} \\left(3 \\rho + 2\\right) - 12 L_{2} y_{2}^{2} \\left(3 \\rho + 2\\right) - 24 L_{2} \\left(- D + L_{2} \\left(\\rho + 1\\right)\\right) \\left(3 \\rho + 2\\right) + 9 x_{1}^{4} + 18 x_{1}^{2} x_{2}^{2} + 18 x_{1}^{2} y_{1}^{2} + 18 x_{1}^{2} y_{2}^{2} + 36 x_{1}^{2} \\left(- D + L_{2} \\left(\\rho + 1\\right)\\right) + 9 x_{2}^{4} + 18 x_{2}^{2} y_{1}^{2} + 18 x_{2}^{2} y_{2}^{2} + 36 x_{2}^{2} \\left(- D + L_{2} \\left(\\rho + 1\\right)\\right) + 9 y_{1}^{4} + 18 y_{1}^{2} y_{2}^{2} + 36 y_{1}^{2} \\left(- D + L_{2} \\left(\\rho + 1\\right)\\right) + 9 y_{2}^{4} + 36 y_{2}^{2} \\left(- D + L_{2} \\left(\\rho + 1\\right)\\right) + 36 \\left(- D + L_{2} \\left(\\rho + 1\\right)\\right)^{2}\\right)^{2}} + 6.18604945527417 \\cdot 10^{-5} - \\frac{y_{1}}{\\tau_{e1}}\\\\- \\frac{1.03782688905983 \\cdot 10^{-11} \\left(8 L_{2} x_{2} \\left(3 \\rho + 2\\right) - 8 x_{1}^{2} x_{2} - 8 x_{2}^{3} - 8 x_{2} y_{1}^{2} - 8 x_{2} y_{2}^{2} - 16 x_{2} \\left(- D + L_{2} \\left(\\rho + 1\\right)\\right)\\right)}{\\left(2 L_{2}^{2} \\left(3 \\rho + 2\\right)^{2} - 4 L_{2} x_{1}^{2} \\left(3 \\rho + 2\\right) - 4 L_{2} x_{2}^{2} \\left(3 \\rho + 2\\right) - 4 L_{2} y_{1}^{2} \\left(3 \\rho + 2\\right) - 4 L_{2} y_{2}^{2} \\left(3 \\rho + 2\\right) - 8 L_{2} \\left(- D + L_{2} \\left(\\rho + 1\\right)\\right) \\left(3 \\rho + 2\\right) + 2 x_{1}^{4} + 4 x_{1}^{2} x_{2}^{2} + 4 x_{1}^{2} y_{1}^{2} + 4 x_{1}^{2} y_{2}^{2} + 8 x_{1}^{2} \\left(- D + L_{2} \\left(\\rho + 1\\right)\\right) + 2 x_{2}^{4} + 4 x_{2}^{2} y_{1}^{2} + 4 x_{2}^{2} y_{2}^{2} + 8 x_{2}^{2} \\left(- D + L_{2} \\left(\\rho + 1\\right)\\right) + 2 y_{1}^{4} + 4 y_{1}^{2} y_{2}^{2} + 8 y_{1}^{2} \\left(- D + L_{2} \\left(\\rho + 1\\right)\\right) + 2 y_{2}^{4} + 8 y_{2}^{2} \\left(- D + L_{2} \\left(\\rho + 1\\right)\\right) + 8 \\left(- D + L_{2} \\left(\\rho + 1\\right)\\right)^{2}\\right)^{2}} - \\frac{4.61162177613911 \\cdot 10^{-10} \\left(24 L_{2} x_{2} \\left(3 \\rho + 2\\right) - 36 x_{1}^{2} x_{2} - 36 x_{2}^{3} - 36 x_{2} y_{1}^{2} - 36 x_{2} y_{2}^{2} - 72 x_{2} \\left(- D + L_{2} \\left(\\rho + 1\\right)\\right)\\right)}{\\left(4 L_{2}^{2} \\left(3 \\rho + 2\\right)^{2} - 12 L_{2} x_{1}^{2} \\left(3 \\rho + 2\\right) - 12 L_{2} x_{2}^{2} \\left(3 \\rho + 2\\right) - 12 L_{2} y_{1}^{2} \\left(3 \\rho + 2\\right) - 12 L_{2} y_{2}^{2} \\left(3 \\rho + 2\\right) - 24 L_{2} \\left(- D + L_{2} \\left(\\rho + 1\\right)\\right) \\left(3 \\rho + 2\\right) + 9 x_{1}^{4} + 18 x_{1}^{2} x_{2}^{2} + 18 x_{1}^{2} y_{1}^{2} + 18 x_{1}^{2} y_{2}^{2} + 36 x_{1}^{2} \\left(- D + L_{2} \\left(\\rho + 1\\right)\\right) + 9 x_{2}^{4} + 18 x_{2}^{2} y_{1}^{2} + 18 x_{2}^{2} y_{2}^{2} + 36 x_{2}^{2} \\left(- D + L_{2} \\left(\\rho + 1\\right)\\right) + 9 y_{1}^{4} + 18 y_{1}^{2} y_{2}^{2} + 36 y_{1}^{2} \\left(- D + L_{2} \\left(\\rho + 1\\right)\\right) + 9 y_{2}^{4} + 36 y_{2}^{2} \\left(- D + L_{2} \\left(\\rho + 1\\right)\\right) + 36 \\left(- D + L_{2} \\left(\\rho + 1\\right)\\right)^{2}\\right)^{2}} - 4.25601349576217 \\cdot 10^{-5} - \\frac{y_{2}}{\\tau_{e2}}\\\\\\frac{1.03782688905983 \\cdot 10^{-11} \\left(8 L_{2} y_{1} \\left(3 \\rho + 2\\right) - 8 x_{1}^{2} y_{1} - 8 x_{2}^{2} y_{1} - 8 y_{1}^{3} - 8 y_{1} y_{2}^{2} - 16 y_{1} \\left(- D + L_{2} \\left(\\rho + 1\\right)\\right)\\right)}{\\left(2 L_{2}^{2} \\left(3 \\rho + 2\\right)^{2} - 4 L_{2} x_{1}^{2} \\left(3 \\rho + 2\\right) - 4 L_{2} x_{2}^{2} \\left(3 \\rho + 2\\right) - 4 L_{2} y_{1}^{2} \\left(3 \\rho + 2\\right) - 4 L_{2} y_{2}^{2} \\left(3 \\rho + 2\\right) - 8 L_{2} \\left(- D + L_{2} \\left(\\rho + 1\\right)\\right) \\left(3 \\rho + 2\\right) + 2 x_{1}^{4} + 4 x_{1}^{2} x_{2}^{2} + 4 x_{1}^{2} y_{1}^{2} + 4 x_{1}^{2} y_{2}^{2} + 8 x_{1}^{2} \\left(- D + L_{2} \\left(\\rho + 1\\right)\\right) + 2 x_{2}^{4} + 4 x_{2}^{2} y_{1}^{2} + 4 x_{2}^{2} y_{2}^{2} + 8 x_{2}^{2} \\left(- D + L_{2} \\left(\\rho + 1\\right)\\right) + 2 y_{1}^{4} + 4 y_{1}^{2} y_{2}^{2} + 8 y_{1}^{2} \\left(- D + L_{2} \\left(\\rho + 1\\right)\\right) + 2 y_{2}^{4} + 8 y_{2}^{2} \\left(- D + L_{2} \\left(\\rho + 1\\right)\\right) + 8 \\left(- D + L_{2} \\left(\\rho + 1\\right)\\right)^{2}\\right)^{2}} + \\frac{4.61162177613911 \\cdot 10^{-10} \\left(24 L_{2} y_{1} \\left(3 \\rho + 2\\right) - 36 x_{1}^{2} y_{1} - 36 x_{2}^{2} y_{1} - 36 y_{1}^{3} - 36 y_{1} y_{2}^{2} - 72 y_{1} \\left(- D + L_{2} \\left(\\rho + 1\\right)\\right)\\right)}{\\left(4 L_{2}^{2} \\left(3 \\rho + 2\\right)^{2} - 12 L_{2} x_{1}^{2} \\left(3 \\rho + 2\\right) - 12 L_{2} x_{2}^{2} \\left(3 \\rho + 2\\right) - 12 L_{2} y_{1}^{2} \\left(3 \\rho + 2\\right) - 12 L_{2} y_{2}^{2} \\left(3 \\rho + 2\\right) - 24 L_{2} \\left(- D + L_{2} \\left(\\rho + 1\\right)\\right) \\left(3 \\rho + 2\\right) + 9 x_{1}^{4} + 18 x_{1}^{2} x_{2}^{2} + 18 x_{1}^{2} y_{1}^{2} + 18 x_{1}^{2} y_{2}^{2} + 36 x_{1}^{2} \\left(- D + L_{2} \\left(\\rho + 1\\right)\\right) + 9 x_{2}^{4} + 18 x_{2}^{2} y_{1}^{2} + 18 x_{2}^{2} y_{2}^{2} + 36 x_{2}^{2} \\left(- D + L_{2} \\left(\\rho + 1\\right)\\right) + 9 y_{1}^{4} + 18 y_{1}^{2} y_{2}^{2} + 36 y_{1}^{2} \\left(- D + L_{2} \\left(\\rho + 1\\right)\\right) + 9 y_{2}^{4} + 36 y_{2}^{2} \\left(- D + L_{2} \\left(\\rho + 1\\right)\\right) + 36 \\left(- D + L_{2} \\left(\\rho + 1\\right)\\right)^{2}\\right)^{2}} - \\frac{x_{1}}{\\tau_{e1}}\\\\\\frac{1.03782688905983 \\cdot 10^{-11} \\left(8 L_{2} y_{2} \\left(3 \\rho + 2\\right) - 8 x_{1}^{2} y_{2} - 8 x_{2}^{2} y_{2} - 8 y_{1}^{2} y_{2} - 8 y_{2}^{3} - 16 y_{2} \\left(- D + L_{2} \\left(\\rho + 1\\right)\\right)\\right)}{\\left(2 L_{2}^{2} \\left(3 \\rho + 2\\right)^{2} - 4 L_{2} x_{1}^{2} \\left(3 \\rho + 2\\right) - 4 L_{2} x_{2}^{2} \\left(3 \\rho + 2\\right) - 4 L_{2} y_{1}^{2} \\left(3 \\rho + 2\\right) - 4 L_{2} y_{2}^{2} \\left(3 \\rho + 2\\right) - 8 L_{2} \\left(- D + L_{2} \\left(\\rho + 1\\right)\\right) \\left(3 \\rho + 2\\right) + 2 x_{1}^{4} + 4 x_{1}^{2} x_{2}^{2} + 4 x_{1}^{2} y_{1}^{2} + 4 x_{1}^{2} y_{2}^{2} + 8 x_{1}^{2} \\left(- D + L_{2} \\left(\\rho + 1\\right)\\right) + 2 x_{2}^{4} + 4 x_{2}^{2} y_{1}^{2} + 4 x_{2}^{2} y_{2}^{2} + 8 x_{2}^{2} \\left(- D + L_{2} \\left(\\rho + 1\\right)\\right) + 2 y_{1}^{4} + 4 y_{1}^{2} y_{2}^{2} + 8 y_{1}^{2} \\left(- D + L_{2} \\left(\\rho + 1\\right)\\right) + 2 y_{2}^{4} + 8 y_{2}^{2} \\left(- D + L_{2} \\left(\\rho + 1\\right)\\right) + 8 \\left(- D + L_{2} \\left(\\rho + 1\\right)\\right)^{2}\\right)^{2}} + \\frac{4.61162177613911 \\cdot 10^{-10} \\left(24 L_{2} y_{2} \\left(3 \\rho + 2\\right) - 36 x_{1}^{2} y_{2} - 36 x_{2}^{2} y_{2} - 36 y_{1}^{2} y_{2} - 36 y_{2}^{3} - 72 y_{2} \\left(- D + L_{2} \\left(\\rho + 1\\right)\\right)\\right)}{\\left(4 L_{2}^{2} \\left(3 \\rho + 2\\right)^{2} - 12 L_{2} x_{1}^{2} \\left(3 \\rho + 2\\right) - 12 L_{2} x_{2}^{2} \\left(3 \\rho + 2\\right) - 12 L_{2} y_{1}^{2} \\left(3 \\rho + 2\\right) - 12 L_{2} y_{2}^{2} \\left(3 \\rho + 2\\right) - 24 L_{2} \\left(- D + L_{2} \\left(\\rho + 1\\right)\\right) \\left(3 \\rho + 2\\right) + 9 x_{1}^{4} + 18 x_{1}^{2} x_{2}^{2} + 18 x_{1}^{2} y_{1}^{2} + 18 x_{1}^{2} y_{2}^{2} + 36 x_{1}^{2} \\left(- D + L_{2} \\left(\\rho + 1\\right)\\right) + 9 x_{2}^{4} + 18 x_{2}^{2} y_{1}^{2} + 18 x_{2}^{2} y_{2}^{2} + 36 x_{2}^{2} \\left(- D + L_{2} \\left(\\rho + 1\\right)\\right) + 9 y_{1}^{4} + 18 y_{1}^{2} y_{2}^{2} + 36 y_{1}^{2} \\left(- D + L_{2} \\left(\\rho + 1\\right)\\right) + 9 y_{2}^{4} + 36 y_{2}^{2} \\left(- D + L_{2} \\left(\\rho + 1\\right)\\right) + 36 \\left(- D + L_{2} \\left(\\rho + 1\\right)\\right)^{2}\\right)^{2}} - \\frac{x_{2}}{\\tau_{e2}}\\\\- \\frac{L_{2} \\rho \\left(- \\frac{1}{\\tau_{a2}} + \\frac{1}{\\tau_{a1}}\\right)}{2 \\left(3 \\rho + 2\\right)} - \\frac{\\frac{x_{2}^{2}}{2} + \\frac{y_{2}^{2}}{2}}{\\tau_{e2}} - \\frac{\\frac{x_{1}^{2}}{2} + \\frac{y_{1}^{2}}{2}}{\\tau_{e1}}\\end{matrix}\\right], \\  \\left\\{D, L_{2}, \\rho, \\tau_{a1}, \\tau_{a2}, \\tau_{e1}, \\tau_{e2}, x_{1}, x_{2}, y_{1}, y_{2}\\right\\}\\right)$"
      ],
      "text/plain": [
       "⎛⎡                                                                            \n",
       "⎜⎢                                                                            \n",
       "⎜⎢- ──────────────────────────────────────────────────────────────────────────\n",
       "⎜⎢                                                                            \n",
       "⎜⎢  ⎛    2          2          2                    2                    2    \n",
       "⎜⎢  ⎝2⋅L₂ ⋅(3⋅ρ + 2)  - 4⋅L₂⋅x₁ ⋅(3⋅ρ + 2) - 4⋅L₂⋅x₂ ⋅(3⋅ρ + 2) - 4⋅L₂⋅y₁ ⋅(3⋅\n",
       "⎜⎢                                                                            \n",
       "⎜⎢                                                                            \n",
       "⎜⎢                                                                            \n",
       "⎜⎢- ──────────────────────────────────────────────────────────────────────────\n",
       "⎜⎢                                                                            \n",
       "⎜⎢  ⎛    2          2          2                    2                    2    \n",
       "⎜⎢  ⎝2⋅L₂ ⋅(3⋅ρ + 2)  - 4⋅L₂⋅x₁ ⋅(3⋅ρ + 2) - 4⋅L₂⋅x₂ ⋅(3⋅ρ + 2) - 4⋅L₂⋅y₁ ⋅(3⋅\n",
       "⎜⎢                                                                            \n",
       "⎜⎢                                                                            \n",
       "⎜⎢                                                                            \n",
       "⎜⎢            ────────────────────────────────────────────────────────────────\n",
       "⎜⎢                                                                            \n",
       "⎜⎢            ⎛    2          2          2                    2               \n",
       "⎜⎢            ⎝2⋅L₂ ⋅(3⋅ρ + 2)  - 4⋅L₂⋅x₁ ⋅(3⋅ρ + 2) - 4⋅L₂⋅x₂ ⋅(3⋅ρ + 2) - 4⋅\n",
       "⎜⎢                                                                            \n",
       "⎜⎢                                                                            \n",
       "⎜⎢                                                                            \n",
       "⎜⎢            ────────────────────────────────────────────────────────────────\n",
       "⎜⎢                                                                            \n",
       "⎜⎢            ⎛    2          2          2                    2               \n",
       "⎜⎢            ⎝2⋅L₂ ⋅(3⋅ρ + 2)  - 4⋅L₂⋅x₁ ⋅(3⋅ρ + 2) - 4⋅L₂⋅x₂ ⋅(3⋅ρ + 2) - 4⋅\n",
       "⎜⎢                                                                            \n",
       "⎜⎢                                                                            \n",
       "⎜⎢                                                                            \n",
       "⎜⎢                                                                            \n",
       "⎜⎢                                                                            \n",
       "⎜⎢                                                                            \n",
       "⎝⎣                                                                            \n",
       "\n",
       "                                                                              \n",
       "                                                         1.03782688905983e-11⋅\n",
       "──────────────────────────────────────────────────────────────────────────────\n",
       "                                                                              \n",
       "                2                                                    4       2\n",
       "ρ + 2) - 4⋅L₂⋅y₂ ⋅(3⋅ρ + 2) - 8⋅L₂⋅(-D + L₂⋅(ρ + 1))⋅(3⋅ρ + 2) + 2⋅x₁  + 4⋅x₁ \n",
       "                                                                              \n",
       "                                                                              \n",
       "                                                         1.03782688905983e-11⋅\n",
       "──────────────────────────────────────────────────────────────────────────────\n",
       "                                                                              \n",
       "                2                                                    4       2\n",
       "ρ + 2) - 4⋅L₂⋅y₂ ⋅(3⋅ρ + 2) - 8⋅L₂⋅(-D + L₂⋅(ρ + 1))⋅(3⋅ρ + 2) + 2⋅x₁  + 4⋅x₁ \n",
       "                                                                              \n",
       "                                                                              \n",
       "                                                                   1.037826889\n",
       "──────────────────────────────────────────────────────────────────────────────\n",
       "                                                                              \n",
       "     2                    2                                                   \n",
       "L₂⋅y₁ ⋅(3⋅ρ + 2) - 4⋅L₂⋅y₂ ⋅(3⋅ρ + 2) - 8⋅L₂⋅(-D + L₂⋅(ρ + 1))⋅(3⋅ρ + 2) + 2⋅x\n",
       "                                                                              \n",
       "                                                                              \n",
       "                                                                   1.037826889\n",
       "──────────────────────────────────────────────────────────────────────────────\n",
       "                                                                              \n",
       "     2                    2                                                   \n",
       "L₂⋅y₁ ⋅(3⋅ρ + 2) - 4⋅L₂⋅y₂ ⋅(3⋅ρ + 2) - 8⋅L₂⋅(-D + L₂⋅(ρ + 1))⋅(3⋅ρ + 2) + 2⋅x\n",
       "                                                                              \n",
       "                                                                              \n",
       "                                                                              \n",
       "                                                                              \n",
       "                                                                              \n",
       "                                                                              \n",
       "                                                                              \n",
       "\n",
       "⎛                        3          2          2          2                   \n",
       "⎝8⋅L₂⋅x₁⋅(3⋅ρ + 2) - 8⋅x₁  - 8⋅x₁⋅x₂  - 8⋅x₁⋅y₁  - 8⋅x₁⋅y₂  - 16⋅x₁⋅(-D + L₂⋅(\n",
       "──────────────────────────────────────────────────────────────────────────────\n",
       "                                                                              \n",
       "   2       2   2       2   2       2                         4       2   2    \n",
       "⋅x₂  + 4⋅x₁ ⋅y₁  + 4⋅x₁ ⋅y₂  + 8⋅x₁ ⋅(-D + L₂⋅(ρ + 1)) + 2⋅x₂  + 4⋅x₂ ⋅y₁  + 4\n",
       "                                                                              \n",
       "⎛                        2          3          2          2                   \n",
       "⎝8⋅L₂⋅x₂⋅(3⋅ρ + 2) - 8⋅x₁ ⋅x₂ - 8⋅x₂  - 8⋅x₂⋅y₁  - 8⋅x₂⋅y₂  - 16⋅x₂⋅(-D + L₂⋅(\n",
       "──────────────────────────────────────────────────────────────────────────────\n",
       "                                                                              \n",
       "   2       2   2       2   2       2                         4       2   2    \n",
       "⋅x₂  + 4⋅x₁ ⋅y₁  + 4⋅x₁ ⋅y₂  + 8⋅x₁ ⋅(-D + L₂⋅(ρ + 1)) + 2⋅x₂  + 4⋅x₂ ⋅y₁  + 4\n",
       "                                                                              \n",
       "          ⎛                        2          2          3          2         \n",
       "05983e-11⋅⎝8⋅L₂⋅y₁⋅(3⋅ρ + 2) - 8⋅x₁ ⋅y₁ - 8⋅x₂ ⋅y₁ - 8⋅y₁  - 8⋅y₁⋅y₂  - 16⋅y₁⋅\n",
       "──────────────────────────────────────────────────────────────────────────────\n",
       "                                                                              \n",
       " 4       2   2       2   2       2   2       2                         4      \n",
       "₁  + 4⋅x₁ ⋅x₂  + 4⋅x₁ ⋅y₁  + 4⋅x₁ ⋅y₂  + 8⋅x₁ ⋅(-D + L₂⋅(ρ + 1)) + 2⋅x₂  + 4⋅x\n",
       "                                                                              \n",
       "          ⎛                        2          2          2          3         \n",
       "05983e-11⋅⎝8⋅L₂⋅y₂⋅(3⋅ρ + 2) - 8⋅x₁ ⋅y₂ - 8⋅x₂ ⋅y₂ - 8⋅y₁ ⋅y₂ - 8⋅y₂  - 16⋅y₂⋅\n",
       "──────────────────────────────────────────────────────────────────────────────\n",
       "                                                                              \n",
       " 4       2   2       2   2       2   2       2                         4      \n",
       "₁  + 4⋅x₁ ⋅x₂  + 4⋅x₁ ⋅y₁  + 4⋅x₁ ⋅y₂  + 8⋅x₁ ⋅(-D + L₂⋅(ρ + 1)) + 2⋅x₂  + 4⋅x\n",
       "                                                                              \n",
       "                                                                              \n",
       "                                                                              \n",
       "                                                                              \n",
       "                                                                              \n",
       "                                                                              \n",
       "                                                                              \n",
       "\n",
       "       ⎞                                                                      \n",
       "ρ + 1))⎠                                                                      \n",
       "──────────────────────────────────────────────────────────────────────────────\n",
       "                                                                              \n",
       "   2   2       2                         4       2   2       2                \n",
       "⋅x₂ ⋅y₂  + 8⋅x₂ ⋅(-D + L₂⋅(ρ + 1)) + 2⋅y₁  + 4⋅y₁ ⋅y₂  + 8⋅y₁ ⋅(-D + L₂⋅(ρ + 1\n",
       "                                                                              \n",
       "       ⎞                                                                      \n",
       "ρ + 1))⎠                                                                      \n",
       "──────────────────────────────────────────────────────────────────────────────\n",
       "                                                                              \n",
       "   2   2       2                         4       2   2       2                \n",
       "⋅x₂ ⋅y₂  + 8⋅x₂ ⋅(-D + L₂⋅(ρ + 1)) + 2⋅y₁  + 4⋅y₁ ⋅y₂  + 8⋅y₁ ⋅(-D + L₂⋅(ρ + 1\n",
       "                                                                              \n",
       "                 ⎞                                                            \n",
       "(-D + L₂⋅(ρ + 1))⎠                                                            \n",
       "──────────────────────────────────────────────────────────────────────────────\n",
       "                                                                              \n",
       " 2   2       2   2       2                         4       2   2       2      \n",
       "₂ ⋅y₁  + 4⋅x₂ ⋅y₂  + 8⋅x₂ ⋅(-D + L₂⋅(ρ + 1)) + 2⋅y₁  + 4⋅y₁ ⋅y₂  + 8⋅y₁ ⋅(-D +\n",
       "                                                                              \n",
       "                 ⎞                                                            \n",
       "(-D + L₂⋅(ρ + 1))⎠                                                            \n",
       "──────────────────────────────────────────────────────────────────────────────\n",
       "                                                                              \n",
       " 2   2       2   2       2                         4       2   2       2      \n",
       "₂ ⋅y₁  + 4⋅x₂ ⋅y₂  + 8⋅x₂ ⋅(-D + L₂⋅(ρ + 1)) + 2⋅y₁  + 4⋅y₁ ⋅y₂  + 8⋅y₁ ⋅(-D +\n",
       "                                                                              \n",
       "                                                                              \n",
       "                                                                              \n",
       "                                                                              \n",
       "                                                                              \n",
       "                                                                              \n",
       "                                                                              \n",
       "\n",
       "                                                                              \n",
       "                                                                              \n",
       "───────────────────────────────────────────────────────────── - ──────────────\n",
       "                                                            2                 \n",
       "         4       2                                        2⎞    ⎛    2        \n",
       ")) + 2⋅y₂  + 8⋅y₂ ⋅(-D + L₂⋅(ρ + 1)) + 8⋅(-D + L₂⋅(ρ + 1)) ⎠    ⎝4⋅L₂ ⋅(3⋅ρ + \n",
       "                                                                              \n",
       "                                                                              \n",
       "                                                                              \n",
       "───────────────────────────────────────────────────────────── - ──────────────\n",
       "                                                            2                 \n",
       "         4       2                                        2⎞    ⎛    2        \n",
       ")) + 2⋅y₂  + 8⋅y₂ ⋅(-D + L₂⋅(ρ + 1)) + 8⋅(-D + L₂⋅(ρ + 1)) ⎠    ⎝4⋅L₂ ⋅(3⋅ρ + \n",
       "                                                                              \n",
       "                                                                              \n",
       "                                                                              \n",
       "─────────────────────────────────────────────────────────────────────── + ────\n",
       "                                                                      2       \n",
       "                   4       2                                        2⎞    ⎛   \n",
       " L₂⋅(ρ + 1)) + 2⋅y₂  + 8⋅y₂ ⋅(-D + L₂⋅(ρ + 1)) + 8⋅(-D + L₂⋅(ρ + 1)) ⎠    ⎝4⋅L\n",
       "                                                                              \n",
       "                                                                              \n",
       "                                                                              \n",
       "─────────────────────────────────────────────────────────────────────── + ────\n",
       "                                                                      2       \n",
       "                   4       2                                        2⎞    ⎛   \n",
       " L₂⋅(ρ + 1)) + 2⋅y₂  + 8⋅y₂ ⋅(-D + L₂⋅(ρ + 1)) + 8⋅(-D + L₂⋅(ρ + 1)) ⎠    ⎝4⋅L\n",
       "                                                                              \n",
       "                                                                              \n",
       "                                                                    ⎛   1     \n",
       "                                                               L₂⋅ρ⋅⎜- ─── + ─\n",
       "                                                                    ⎝  τₐ₂   τ\n",
       "                                                             - ───────────────\n",
       "                                                                  2⋅(3⋅ρ + 2) \n",
       "\n",
       "                                                                              \n",
       "                                                                              \n",
       "──────────────────────────────────────────────────────────────────────────────\n",
       "                                                                              \n",
       "  2           2                     2                     2                   \n",
       "2)  - 12⋅L₂⋅x₁ ⋅(3⋅ρ + 2) - 12⋅L₂⋅x₂ ⋅(3⋅ρ + 2) - 12⋅L₂⋅y₁ ⋅(3⋅ρ + 2) - 12⋅L₂⋅\n",
       "                                                                              \n",
       "                                                                              \n",
       "                                                                              \n",
       "──────────────────────────────────────────────────────────────────────────────\n",
       "                                                                              \n",
       "  2           2                     2                     2                   \n",
       "2)  - 12⋅L₂⋅x₁ ⋅(3⋅ρ + 2) - 12⋅L₂⋅x₂ ⋅(3⋅ρ + 2) - 12⋅L₂⋅y₁ ⋅(3⋅ρ + 2) - 12⋅L₂⋅\n",
       "                                                                              \n",
       "                                                                              \n",
       "                                                                              \n",
       "──────────────────────────────────────────────────────────────────────────────\n",
       "                                                                              \n",
       " 2          2           2                     2                     2         \n",
       "₂ ⋅(3⋅ρ + 2)  - 12⋅L₂⋅x₁ ⋅(3⋅ρ + 2) - 12⋅L₂⋅x₂ ⋅(3⋅ρ + 2) - 12⋅L₂⋅y₁ ⋅(3⋅ρ + 2\n",
       "                                                                              \n",
       "                                                                              \n",
       "                                                                              \n",
       "──────────────────────────────────────────────────────────────────────────────\n",
       "                                                                              \n",
       " 2          2           2                     2                     2         \n",
       "₂ ⋅(3⋅ρ + 2)  - 12⋅L₂⋅x₁ ⋅(3⋅ρ + 2) - 12⋅L₂⋅x₂ ⋅(3⋅ρ + 2) - 12⋅L₂⋅y₁ ⋅(3⋅ρ + 2\n",
       "                                                                              \n",
       "        2     2     2     2                                                   \n",
       "1 ⎞   x₂    y₂    x₁    y₁                                                    \n",
       "──⎟   ─── + ───   ─── + ───                                                   \n",
       "ₐ₁⎠    2     2     2     2                                                    \n",
       "─── - ───────── - ─────────                                                   \n",
       "         τₑ₂         τₑ₁                                                      \n",
       "\n",
       "                                                                  ⎛           \n",
       "                                             4.61162177613911e-10⋅⎝24⋅L₂⋅x₁⋅(3\n",
       "──────────────────────────────────────────────────────────────────────────────\n",
       "                                                                              \n",
       "  2                                                     4        2   2        \n",
       "y₂ ⋅(3⋅ρ + 2) - 24⋅L₂⋅(-D + L₂⋅(ρ + 1))⋅(3⋅ρ + 2) + 9⋅x₁  + 18⋅x₁ ⋅x₂  + 18⋅x₁\n",
       "                                                                              \n",
       "                                                                  ⎛           \n",
       "                                             4.61162177613911e-10⋅⎝24⋅L₂⋅x₂⋅(3\n",
       "──────────────────────────────────────────────────────────────────────────────\n",
       "                                                                              \n",
       "  2                                                     4        2   2        \n",
       "y₂ ⋅(3⋅ρ + 2) - 24⋅L₂⋅(-D + L₂⋅(ρ + 1))⋅(3⋅ρ + 2) + 9⋅x₁  + 18⋅x₁ ⋅x₂  + 18⋅x₁\n",
       "                                                                              \n",
       "                                                                            ⎛ \n",
       "                                                       4.61162177613911e-10⋅⎝2\n",
       "──────────────────────────────────────────────────────────────────────────────\n",
       "                                                                              \n",
       "            2                                                     4        2  \n",
       ") - 12⋅L₂⋅y₂ ⋅(3⋅ρ + 2) - 24⋅L₂⋅(-D + L₂⋅(ρ + 1))⋅(3⋅ρ + 2) + 9⋅x₁  + 18⋅x₁ ⋅x\n",
       "                                                                              \n",
       "                                                                            ⎛ \n",
       "                                                       4.61162177613911e-10⋅⎝2\n",
       "──────────────────────────────────────────────────────────────────────────────\n",
       "                                                                              \n",
       "            2                                                     4        2  \n",
       ") - 12⋅L₂⋅y₂ ⋅(3⋅ρ + 2) - 24⋅L₂⋅(-D + L₂⋅(ρ + 1))⋅(3⋅ρ + 2) + 9⋅x₁  + 18⋅x₁ ⋅x\n",
       "                                                                              \n",
       "                                                                              \n",
       "                                                                              \n",
       "                                                                              \n",
       "                                                                              \n",
       "                                                                              \n",
       "                                                                              \n",
       "\n",
       "               3           2           2           2                          \n",
       "⋅ρ + 2) - 36⋅x₁  - 36⋅x₁⋅x₂  - 36⋅x₁⋅y₁  - 36⋅x₁⋅y₂  - 72⋅x₁⋅(-D + L₂⋅(ρ + 1))\n",
       "──────────────────────────────────────────────────────────────────────────────\n",
       "                                                                              \n",
       "2   2        2   2        2                         4        2   2        2   \n",
       " ⋅y₁  + 18⋅x₁ ⋅y₂  + 36⋅x₁ ⋅(-D + L₂⋅(ρ + 1)) + 9⋅x₂  + 18⋅x₂ ⋅y₁  + 18⋅x₂ ⋅y₂\n",
       "                                                                              \n",
       "               2           3           2           2                          \n",
       "⋅ρ + 2) - 36⋅x₁ ⋅x₂ - 36⋅x₂  - 36⋅x₂⋅y₁  - 36⋅x₂⋅y₂  - 72⋅x₂⋅(-D + L₂⋅(ρ + 1))\n",
       "──────────────────────────────────────────────────────────────────────────────\n",
       "                                                                              \n",
       "2   2        2   2        2                         4        2   2        2   \n",
       " ⋅y₁  + 18⋅x₁ ⋅y₂  + 36⋅x₁ ⋅(-D + L₂⋅(ρ + 1)) + 9⋅x₂  + 18⋅x₂ ⋅y₁  + 18⋅x₂ ⋅y₂\n",
       "                                                                              \n",
       "                         2           2           3           2                \n",
       "4⋅L₂⋅y₁⋅(3⋅ρ + 2) - 36⋅x₁ ⋅y₁ - 36⋅x₂ ⋅y₁ - 36⋅y₁  - 36⋅y₁⋅y₂  - 72⋅y₁⋅(-D + L\n",
       "──────────────────────────────────────────────────────────────────────────────\n",
       "                                                                              \n",
       " 2        2   2        2   2        2                         4        2   2  \n",
       "₂  + 18⋅x₁ ⋅y₁  + 18⋅x₁ ⋅y₂  + 36⋅x₁ ⋅(-D + L₂⋅(ρ + 1)) + 9⋅x₂  + 18⋅x₂ ⋅y₁  +\n",
       "                                                                              \n",
       "                         2           2           2           3                \n",
       "4⋅L₂⋅y₂⋅(3⋅ρ + 2) - 36⋅x₁ ⋅y₂ - 36⋅x₂ ⋅y₂ - 36⋅y₁ ⋅y₂ - 36⋅y₂  - 72⋅y₂⋅(-D + L\n",
       "──────────────────────────────────────────────────────────────────────────────\n",
       "                                                                              \n",
       " 2        2   2        2   2        2                         4        2   2  \n",
       "₂  + 18⋅x₁ ⋅y₁  + 18⋅x₁ ⋅y₂  + 36⋅x₁ ⋅(-D + L₂⋅(ρ + 1)) + 9⋅x₂  + 18⋅x₂ ⋅y₁  +\n",
       "                                                                              \n",
       "                                                                              \n",
       "                                                                              \n",
       "                                                                              \n",
       "                                                                              \n",
       "                                                                              \n",
       "                                                                              \n",
       "\n",
       "⎞                                                                             \n",
       "⎠                                                                             \n",
       "──────────────────────────────────────────────────────────────────────────────\n",
       "                                                                              \n",
       "2        2                         4        2   2        2                    \n",
       "  + 36⋅x₂ ⋅(-D + L₂⋅(ρ + 1)) + 9⋅y₁  + 18⋅y₁ ⋅y₂  + 36⋅y₁ ⋅(-D + L₂⋅(ρ + 1)) +\n",
       "                                                                              \n",
       "⎞                                                                             \n",
       "⎠                                                                             \n",
       "──────────────────────────────────────────────────────────────────────────────\n",
       "                                                                              \n",
       "2        2                         4        2   2        2                    \n",
       "  + 36⋅x₂ ⋅(-D + L₂⋅(ρ + 1)) + 9⋅y₁  + 18⋅y₁ ⋅y₂  + 36⋅y₁ ⋅(-D + L₂⋅(ρ + 1)) +\n",
       "                                                                              \n",
       "          ⎞                                                                   \n",
       "₂⋅(ρ + 1))⎠                                                                   \n",
       "──────────────────────────────────────────────────────────────────────────────\n",
       "                                                                              \n",
       "      2   2        2                         4        2   2        2          \n",
       " 18⋅x₂ ⋅y₂  + 36⋅x₂ ⋅(-D + L₂⋅(ρ + 1)) + 9⋅y₁  + 18⋅y₁ ⋅y₂  + 36⋅y₁ ⋅(-D + L₂⋅\n",
       "                                                                              \n",
       "          ⎞                                                                   \n",
       "₂⋅(ρ + 1))⎠                                                                   \n",
       "──────────────────────────────────────────────────────────────────────────────\n",
       "                                                                              \n",
       "      2   2        2                         4        2   2        2          \n",
       " 18⋅x₂ ⋅y₂  + 36⋅x₂ ⋅(-D + L₂⋅(ρ + 1)) + 9⋅y₁  + 18⋅y₁ ⋅y₂  + 36⋅y₁ ⋅(-D + L₂⋅\n",
       "                                                                              \n",
       "                                                                              \n",
       "                                                                              \n",
       "                                                                              \n",
       "                                                                              \n",
       "                                                                              \n",
       "                                                                              \n",
       "\n",
       "                                                                              \n",
       "                                                                              \n",
       "─────────────────────────────────────────────────────────── + 6.18604945527417\n",
       "                                                          2                   \n",
       "     4        2                                         2⎞                    \n",
       " 9⋅y₂  + 36⋅y₂ ⋅(-D + L₂⋅(ρ + 1)) + 36⋅(-D + L₂⋅(ρ + 1)) ⎠                    \n",
       "                                                                              \n",
       "                                                                              \n",
       "                                                                              \n",
       "─────────────────────────────────────────────────────────── - 4.25601349576217\n",
       "                                                          2                   \n",
       "     4        2                                         2⎞                    \n",
       " 9⋅y₂  + 36⋅y₂ ⋅(-D + L₂⋅(ρ + 1)) + 36⋅(-D + L₂⋅(ρ + 1)) ⎠                    \n",
       "                                                                              \n",
       "                                                                              \n",
       "                                                                         x₁   \n",
       "───────────────────────────────────────────────────────────────────── - ───   \n",
       "                                                                    2   τₑ₁   \n",
       "               4        2                                         2⎞          \n",
       "(ρ + 1)) + 9⋅y₂  + 36⋅y₂ ⋅(-D + L₂⋅(ρ + 1)) + 36⋅(-D + L₂⋅(ρ + 1)) ⎠          \n",
       "                                                                              \n",
       "                                                                              \n",
       "                                                                         x₂   \n",
       "───────────────────────────────────────────────────────────────────── - ───   \n",
       "                                                                    2   τₑ₂   \n",
       "               4        2                                         2⎞          \n",
       "(ρ + 1)) + 9⋅y₂  + 36⋅y₂ ⋅(-D + L₂⋅(ρ + 1)) + 36⋅(-D + L₂⋅(ρ + 1)) ⎠          \n",
       "                                                                              \n",
       "                                                                              \n",
       "                                                                              \n",
       "                                                                              \n",
       "                                                                              \n",
       "                                                                              \n",
       "                                                                              \n",
       "\n",
       "         ⎤                                                ⎞\n",
       "       y₁⎥                                                ⎟\n",
       "e-5 - ───⎥                                                ⎟\n",
       "      τₑ₁⎥                                                ⎟\n",
       "         ⎥                                                ⎟\n",
       "         ⎥                                                ⎟\n",
       "         ⎥                                                ⎟\n",
       "         ⎥                                                ⎟\n",
       "       y₂⎥                                                ⎟\n",
       "e-5 - ───⎥                                                ⎟\n",
       "      τₑ₂⎥                                                ⎟\n",
       "         ⎥                                                ⎟\n",
       "         ⎥                                                ⎟\n",
       "         ⎥                                                ⎟\n",
       "         ⎥                                                ⎟\n",
       "         ⎥                                                ⎟\n",
       "         ⎥                                                ⎟\n",
       "         ⎥, {D, L₂, ρ, τₐ₁, τₐ₂, τₑ₁, τₑ₂, x₁, x₂, y₁, y₂}⎟\n",
       "         ⎥                                                ⎟\n",
       "         ⎥                                                ⎟\n",
       "         ⎥                                                ⎟\n",
       "         ⎥                                                ⎟\n",
       "         ⎥                                                ⎟\n",
       "         ⎥                                                ⎟\n",
       "         ⎥                                                ⎟\n",
       "         ⎥                                                ⎟\n",
       "         ⎥                                                ⎟\n",
       "         ⎥                                                ⎟\n",
       "         ⎥                                                ⎟\n",
       "         ⎥                                                ⎟\n",
       "         ⎥                                                ⎟\n",
       "         ⎥                                                ⎟\n",
       "         ⎥                                                ⎟\n",
       "         ⎦                                                ⎠"
      ]
     },
     "execution_count": 35,
     "metadata": {},
     "output_type": "execute_result"
    }
   ],
   "source": [
    "fullflow, fullflow.free_symbols"
   ]
  },
  {
   "cell_type": "code",
   "execution_count": 36,
   "metadata": {},
   "outputs": [
    {
     "name": "stderr",
     "output_type": "stream",
     "text": [
      "100it [07:52,  4.72s/it]\n"
     ]
    }
   ],
   "source": [
    "# number of d values\n",
    "nsims = int(1e2)\n",
    "# array of roots\n",
    "roots = np.zeros((nsims, len(dyvars)))\n",
    "\n",
    "# this is constant, tau_e = tau_e1 = tau_e2\n",
    "tau_e_val = 1e3\n",
    "\n",
    "# tau_alpha_vals are K * tau_e_val\n",
    "tau_alpha_vals = np.logspace(0, 4, nsims) * tau_e_val\n",
    "\n",
    "from tqdm import tqdm\n",
    "for i, tau_alpha_val in tqdm(enumerate(tau_alpha_vals)):\n",
    "    # tau_a1, tau_a2 from tau_a, as well as tau_e1, tau_e2 set to the tau_e_val\n",
    "    tauvals = list(get_tau_alphas(-tau_alpha_val, masses[0], masses[1], period_ratio=3/2)) + [tau_e_val, tau_e_val]\n",
    "    f=lambda t,x: flow_fn(*x,*tauvals).reshape(-1)\n",
    "    Df = lambda t,x: jac_fn(*x,*tauvals)\n",
    "    soln=solve_ivp(f,(times[0],times[-1]),[0,0,0,0,float(Dval)],method='Radau',t_eval=times,jac=Df)\n",
    "    f=lambda x: flow_fn(*x,*tauvals).reshape(-1)\n",
    "    Df = lambda x: jac_fn(*x,*tauvals)\n",
    "    # record roots\n",
    "    roots[i] = newton_solve(f,Df,soln.y.T[-1])\n",
    "    \n",
    "# for i, D_val in tqdm(enumerate(np.linspace(lb, ub, nds))):\n",
    "#     f=lambda t,x: flow_fn(*x,*tauvals).reshape(-1)\n",
    "#     Df = lambda t,x: jac_fn(*x,*tauvals)\n",
    "#     soln=solve_ivp(f,(times[0],times[-1]),[0,0,0,0,float(D_val)],method='Radau',t_eval=times,jac=Df)\n",
    "#     f=lambda x: flow_fn(*x,*tauvals).reshape(-1)\n",
    "#     Df = lambda x: jac_fn(*x,*tauvals)\n",
    "#     # record roots\n",
    "#     roots[i] =newton_solve(f,Df,soln.y.T[-1])"
   ]
  },
  {
   "cell_type": "code",
   "execution_count": 37,
   "metadata": {},
   "outputs": [
    {
     "data": {
      "text/latex": [
       "$\\displaystyle \\left[ 1.0, \\  1.09749876549305, \\  1.20450354025878, \\  1.32194114846603, \\  1.45082877849594, \\  1.59228279334109, \\  1.74752840000768, \\  1.91791026167248, \\  2.10490414451202, \\  2.31012970008316, \\  2.53536449397011, \\  2.78255940220712, \\  3.05385550883342, \\  3.35160265093884, \\  3.67837977182863, \\  4.03701725859656, \\  4.43062145758388, \\  4.86260158006536, \\  5.33669923120631, \\  5.85702081805667, \\  6.42807311728433, \\  7.05480231071866, \\  7.74263682681128, \\  8.49753435908644, \\  9.32603346883218, \\  10.2353102189903, \\  11.2332403297803, \\  12.3284673944207, \\  13.5304777457981, \\  14.8496826225446, \\  16.2975083462064, \\  17.8864952905743, \\  19.6304065004027, \\  21.5443469003188, \\  23.6448941264541, \\  25.9502421139974, \\  28.480358684358, \\  31.2571584968824, \\  34.3046928631492, \\  37.6493580679247, \\  41.3201240011534, \\  45.3487850812858, \\  49.7702356433211, \\  54.6227721768435, \\  59.9484250318942, \\  65.7933224657568, \\  72.2080901838547, \\  79.2482898353919, \\  86.9749002617785, \\  95.4548456661833, \\  104.761575278967, \\  114.975699539774, \\  126.185688306602, \\  138.488637139387, \\  151.991108295293, \\  166.810053720006, \\  183.073828029538, \\  200.923300256505, \\  220.513073990305, \\  242.012826479438, \\  265.608778294669, \\  291.505306282518, \\  319.926713779738, \\  351.119173421513, \\  385.352859371053, \\  422.924287438949, \\  464.158883361276, \\  509.413801481588, \\  559.081018251223, \\  613.590727341318, \\  673.415065775084, \\  739.072203352578, \\  811.130830789688, \\  890.21508544504, \\  977.009957299224, \\  1072.26722201032, \\  1176.811952435, \\  1291.54966501488, \\  1417.47416292681, \\  1555.67614393047, \\  1707.35264747069, \\  1873.81742286038, \\  2056.51230834865, \\  2257.01971963392, \\  2477.07635599171, \\  2718.58824273294, \\  2983.64724028334, \\  3274.54916287773, \\  3593.81366380463, \\  3944.20605943766, \\  4328.76128108306, \\  4750.81016210279, \\  5214.00828799969, \\  5722.36765935022, \\  6280.29144183425, \\  6892.61210434971, \\  7564.63327554628, \\  8302.17568131976, \\  9111.62756115489, \\  10000.0\\right]$"
      ],
      "text/plain": [
       "[1.0, 1.09749876549305, 1.20450354025878, 1.32194114846603, 1.45082877849594, \n",
       "1.59228279334109, 1.74752840000768, 1.91791026167248, 2.10490414451202, 2.3101\n",
       "2970008316, 2.53536449397011, 2.78255940220712, 3.05385550883342, 3.3516026509\n",
       "3884, 3.67837977182863, 4.03701725859656, 4.43062145758388, 4.86260158006536, \n",
       "5.33669923120631, 5.85702081805667, 6.42807311728433, 7.05480231071866, 7.7426\n",
       "3682681128, 8.49753435908644, 9.32603346883218, 10.2353102189903, 11.233240329\n",
       "7803, 12.3284673944207, 13.5304777457981, 14.8496826225446, 16.2975083462064, \n",
       "17.8864952905743, 19.6304065004027, 21.5443469003188, 23.6448941264541, 25.950\n",
       "2421139974, 28.480358684358, 31.2571584968824, 34.3046928631492, 37.6493580679\n",
       "247, 41.3201240011534, 45.3487850812858, 49.7702356433211, 54.6227721768435, 5\n",
       "9.9484250318942, 65.7933224657568, 72.2080901838547, 79.2482898353919, 86.9749\n",
       "002617785, 95.4548456661833, 104.761575278967, 114.975699539774, 126.185688306\n",
       "602, 138.488637139387, 151.991108295293, 166.810053720006, 183.073828029538, 2\n",
       "00.923300256505, 220.513073990305, 242.012826479438, 265.608778294669, 291.505\n",
       "306282518, 319.926713779738, 351.119173421513, 385.352859371053, 422.924287438\n",
       "949, 464.158883361276, 509.413801481588, 559.081018251223, 613.590727341318, 6\n",
       "73.415065775084, 739.072203352578, 811.130830789688, 890.21508544504, 977.0099\n",
       "57299224, 1072.26722201032, 1176.811952435, 1291.54966501488, 1417.47416292681\n",
       ", 1555.67614393047, 1707.35264747069, 1873.81742286038, 2056.51230834865, 2257\n",
       ".01971963392, 2477.07635599171, 2718.58824273294, 2983.64724028334, 3274.54916\n",
       "287773, 3593.81366380463, 3944.20605943766, 4328.76128108306, 4750.81016210279\n",
       ", 5214.00828799969, 5722.36765935022, 6280.29144183425, 6892.61210434971, 7564\n",
       ".63327554628, 8302.17568131976, 9111.62756115489, 10000.0]"
      ]
     },
     "execution_count": 37,
     "metadata": {},
     "output_type": "execute_result"
    }
   ],
   "source": [
    "# check to see if these match the Ks\n",
    "# substitute newpars into fullflow\n",
    "Ks = [D_to_K(fullflow.subs(newpars), root) for root in roots]\n",
    "Ks"
   ]
  },
  {
   "cell_type": "markdown",
   "metadata": {},
   "source": [
    "Get pvars from ham2, the (x, y) Hamiltonian:"
   ]
  },
  {
   "cell_type": "code",
   "execution_count": 38,
   "metadata": {},
   "outputs": [
    {
     "data": {
      "text/latex": [
       "$\\displaystyle \\left( \\left[ \\lambda_{1}, \\  \\eta_{1}, \\  \\rho_{1}, \\  \\lambda_{2}, \\  \\eta_{2}, \\  \\rho_{2}, \\  \\Lambda_{1}, \\  \\kappa_{1}, \\  \\sigma_{1}, \\  \\Lambda_{2}, \\  \\kappa_{2}, \\  \\sigma_{2}\\right], \\  \\left[ \\theta_{1}, \\  \\theta_{2}, \\  \\psi, \\  l, \\  \\phi_{1}, \\  \\phi_{2}, \\  p_{1}, \\  p_{2}, \\  \\Psi, \\  L, \\  \\Phi_{1}, \\  \\Phi_{2}\\right]\\right)$"
      ],
      "text/plain": [
       "([λ₁, η₁, ρ₁, λ₂, η₂, ρ₂, Λ₁, κ₁, σ₁, Λ₂, κ₂, σ₂], [θ₁, θ₂, ψ, l, φ₁, φ₂, p₁, \n",
       "p₂, Ψ, L, Φ₁, Φ₂])"
      ]
     },
     "execution_count": 38,
     "metadata": {},
     "output_type": "execute_result"
    }
   ],
   "source": [
    "ct1.old_qp_vars, ct1.new_qp_vars"
   ]
  },
  {
   "cell_type": "code",
   "execution_count": 39,
   "metadata": {},
   "outputs": [
    {
     "data": {
      "text/latex": [
       "$\\displaystyle \\left[ - 2 \\lambda_{1} + 3 \\lambda_{2} + \\operatorname{atan_{2}}{\\left(\\eta_{1},\\kappa_{1} \\right)}, \\  - 2 \\lambda_{1} + 3 \\lambda_{2} + \\operatorname{atan_{2}}{\\left(\\eta_{2},\\kappa_{2} \\right)}, \\  \\lambda_{1} - \\lambda_{2}, \\  - 2 \\lambda_{1} + 3 \\lambda_{2}, \\  \\operatorname{atan_{2}}{\\left(\\rho_{1},\\sigma_{1} \\right)}, \\  \\operatorname{atan_{2}}{\\left(\\rho_{2},\\sigma_{2} \\right)}, \\  \\frac{\\eta_{1}^{2}}{2} + \\frac{\\kappa_{1}^{2}}{2}, \\  \\frac{\\eta_{2}^{2}}{2} + \\frac{\\kappa_{2}^{2}}{2}, \\  3 \\Lambda_{1} + 2 \\Lambda_{2}, \\  \\Lambda_{1} + \\Lambda_{2} - \\frac{\\eta_{1}^{2}}{2} - \\frac{\\eta_{2}^{2}}{2} - \\frac{\\kappa_{1}^{2}}{2} - \\frac{\\kappa_{2}^{2}}{2}, \\  \\frac{\\rho_{1}^{2}}{2} + \\frac{\\sigma_{1}^{2}}{2}, \\  \\frac{\\rho_{2}^{2}}{2} + \\frac{\\sigma_{2}^{2}}{2}\\right]$"
      ],
      "text/plain": [
       "⎡                                                                             \n",
       "⎢                                                                             \n",
       "⎢-2⋅λ₁ + 3⋅λ₂ + atan2(η₁, κ₁), -2⋅λ₁ + 3⋅λ₂ + atan2(η₂, κ₂), λ₁ - λ₂, -2⋅λ₁ + \n",
       "⎣                                                                             \n",
       "\n",
       "                                      2     2    2     2                      \n",
       "                                    η₁    κ₁   η₂    κ₂                       \n",
       "3⋅λ₂, atan2(ρ₁, σ₁), atan2(ρ₂, σ₂), ─── + ───, ─── + ───, 3⋅Λ₁ + 2⋅Λ₂, Λ₁ + Λ₂\n",
       "                                     2     2    2     2                       \n",
       "\n",
       "     2     2     2     2    2     2    2     2⎤\n",
       "   η₁    η₂    κ₁    κ₂   ρ₁    σ₁   ρ₂    σ₂ ⎥\n",
       " - ─── - ─── - ─── - ───, ─── + ───, ─── + ───⎥\n",
       "    2     2     2     2    2     2    2     2 ⎦"
      ]
     },
     "execution_count": 39,
     "metadata": {},
     "output_type": "execute_result"
    }
   ],
   "source": [
    "[ct1.new_to_old(var) for var in ct1.new_qp_vars]"
   ]
  },
  {
   "cell_type": "code",
   "execution_count": 40,
   "metadata": {},
   "outputs": [
    {
     "data": {
      "text/latex": [
       "$\\displaystyle \\left( \\left[ -1.83873508689674 \\cdot 10^{-11}, \\  1.18801311147697 \\cdot 10^{-11}, \\  -5.2831604335779 \\cdot 10^{-7}, \\  1.58494813007337 \\cdot 10^{-6}, \\  0.0, \\  0.0, \\  -1.16012319385367 \\cdot 10^{-5}, \\  7.49559615822238 \\cdot 10^{-6}, \\  0.00111800894037081, \\  0.000499931689689205, \\  0.0, \\  0.0\\right], \\  \\left[ y_{1}, \\  y_{2}, \\  \\psi, \\  l, \\  \\phi_{1}, \\  \\phi_{2}, \\  x_{1}, \\  x_{2}, \\  \\Psi, \\  L, \\  \\Phi_{1}, \\  \\Phi_{2}\\right]\\right)$"
      ],
      "text/plain": [
       "([-1.8387350868967372e-11, 1.1880131114769659e-11, -5.283160433577905e-07, 1.5\n",
       "849481300733714e-06, -0.0, -0.0, -1.1601231938536712e-05, 7.495596158222382e-0\n",
       "6, 0.001118008940370812, 0.0004999316896892047, 0.0, 0.0], [y₁, y₂, ψ, l, φ₁, \n",
       "φ₂, x₁, x₂, Ψ, L, Φ₁, Φ₂])"
      ]
     },
     "execution_count": 40,
     "metadata": {},
     "output_type": "execute_result"
    }
   ],
   "source": [
    "ham2.full_values, ham2.full_qp_vars"
   ]
  },
  {
   "cell_type": "code",
   "execution_count": 41,
   "metadata": {},
   "outputs": [],
   "source": [
    "e_inner, e_outer = np.zeros(len(roots)), np.zeros(len(roots))\n",
    "\n",
    "# make a sim to get pvars from:\n",
    "sim2 = get_simple_sim(masses, integrator = 'ias15')\n",
    "pvars2 = cm.Poincare.from_Simulation(sim)\n",
    "\n",
    "# indices of dynamical variables y1, y2, x1, x2\n",
    "indices = np.array([ct_all.new_qp_vars.index(v) for v in ham2.qp_vars])\n",
    "# transofmring pvarsfrom old to new values\n",
    "y0 = ct_all.old_to_new_array(pvars2.values)\n",
    "    \n",
    "for i, val in enumerate(roots):\n",
    "    # for each value, take the 4 dynamical variables y1, y2, x1, and x2 (not including D) and set those as our y0 values\n",
    "    y0[indices] = val[0:4]\n",
    "    # then transform all the way from new y, x to old eta, kappa, and then making them pvars\n",
    "    pvars2.values = ct_all.new_to_old_array(y0)\n",
    "    # now record the eccentricities\n",
    "    e_inner[i] = pvars2.particles[1].e\n",
    "    e_outer[i] = pvars2.particles[2].e"
   ]
  },
  {
   "cell_type": "code",
   "execution_count": 42,
   "metadata": {},
   "outputs": [
    {
     "data": {
      "text/plain": [
       "(array([0.56714002, 0.53257449, 0.50101071, 0.47205956, 0.44539749,\n",
       "        0.42075431, 0.3979031 , 0.37665196, 0.35683755, 0.33831987,\n",
       "        0.32097814, 0.3047075 , 0.28941638, 0.27502434, 0.26146031,\n",
       "        0.24866124, 0.23657084, 0.22513869, 0.2143194 , 0.20407194,\n",
       "        0.19435911, 0.18514699, 0.17640463, 0.16810365, 0.16021794,\n",
       "        0.15272346, 0.14559795, 0.13882082, 0.13237292, 0.12623644,\n",
       "        0.12039475, 0.11483235, 0.10953468, 0.10448814, 0.09967994,\n",
       "        0.09509805, 0.09073116, 0.08656861, 0.08260032, 0.07881682,\n",
       "        0.0752091 , 0.07176869, 0.06848753, 0.06535802, 0.06237293,\n",
       "        0.05952541, 0.05680895, 0.05421739, 0.05174487, 0.0493858 ,\n",
       "        0.04713489, 0.04498711, 0.04293766, 0.04098197, 0.03911571,\n",
       "        0.03733473, 0.03563511, 0.0340131 , 0.03246511, 0.03098774,\n",
       "        0.02957776, 0.02823206, 0.0269477 , 0.02572187, 0.02455189,\n",
       "        0.0234352 , 0.02236937, 0.02135207, 0.02038108, 0.01945429,\n",
       "        0.01856968, 0.01772533, 0.01691939, 0.01615013, 0.01541586,\n",
       "        0.014715  , 0.01404601, 0.01340746, 0.01279794, 0.01221615,\n",
       "        0.01166081, 0.01113073, 0.01062475, 0.01014177, 0.00968076,\n",
       "        0.00924071, 0.00882066, 0.00841971, 0.00803699, 0.00767167,\n",
       "        0.00732296, 0.0069901 , 0.00667237, 0.00636909, 0.00607959,\n",
       "        0.00580325, 0.00553947, 0.00528769, 0.00504735, 0.00481793]),\n",
       " array([0.17066702, 0.16395743, 0.15743331, 0.15109869, 0.14495631,\n",
       "        0.1390078 , 0.13325373, 0.12769372, 0.1223266 , 0.11715045,\n",
       "        0.11216273, 0.10736036, 0.10273981, 0.09829714, 0.09402815,\n",
       "        0.08992835, 0.08599308, 0.08221753, 0.07859681, 0.07512594,\n",
       "        0.07179996, 0.06861388, 0.06556275, 0.06264169, 0.05984587,\n",
       "        0.05717054, 0.05461107, 0.05216291, 0.04982166, 0.047583  ,\n",
       "        0.04544277, 0.04339691, 0.04144151, 0.03957278, 0.03778707,\n",
       "        0.03608085, 0.03445072, 0.03289341, 0.03140578, 0.0299848 ,\n",
       "        0.02862757, 0.0273313 , 0.02609331, 0.02491103, 0.02378201,\n",
       "        0.02270389, 0.0216744 , 0.02069139, 0.01975278, 0.0188566 ,\n",
       "        0.01800093, 0.01718398, 0.016404  , 0.01565933, 0.01494839,\n",
       "        0.01426966, 0.01362169, 0.01300309, 0.01241254, 0.01184877,\n",
       "        0.01131057, 0.01079679, 0.01030632, 0.00983811, 0.00939115,\n",
       "        0.00896448, 0.00855718, 0.00816838, 0.00779723, 0.00744293,\n",
       "        0.00710472, 0.00678188, 0.00647369, 0.00617951, 0.00589869,\n",
       "        0.00563063, 0.00537475, 0.00513049, 0.00489733, 0.00467476,\n",
       "        0.00446231, 0.00425951, 0.00406592, 0.00388113, 0.00370474,\n",
       "        0.00353637, 0.00337564, 0.00322222, 0.00307578, 0.00293598,\n",
       "        0.00280254, 0.00267517, 0.00255358, 0.00243752, 0.00232673,\n",
       "        0.00222098, 0.00212004, 0.00202368, 0.0019317 , 0.00184391]))"
      ]
     },
     "execution_count": 42,
     "metadata": {},
     "output_type": "execute_result"
    }
   ],
   "source": [
    "e_inner, e_outer  # Ks increase from 1 to 1000 from the beginning to the end of the array"
   ]
  },
  {
   "cell_type": "markdown",
   "metadata": {},
   "source": [
    "$c$ from analytical ecc track:"
   ]
  },
  {
   "cell_type": "code",
   "execution_count": 43,
   "metadata": {},
   "outputs": [],
   "source": [
    "c = np.zeros(len(e_inner))\n",
    "\n",
    "for i in range(0, len(e_inner)):\n",
    "    c[i] = (e_inner[i] * masses[0])/(e_outer[i] * masses[1])"
   ]
  },
  {
   "cell_type": "code",
   "execution_count": 44,
   "metadata": {},
   "outputs": [
    {
     "data": {
      "text/latex": [
       "$\\displaystyle 0.931400213252622$"
      ],
      "text/plain": [
       "0.9314002132526222"
      ]
     },
     "execution_count": 44,
     "metadata": {},
     "output_type": "execute_result"
    }
   ],
   "source": [
    "np.median(c)"
   ]
  },
  {
   "cell_type": "code",
   "execution_count": 45,
   "metadata": {},
   "outputs": [
    {
     "data": {
      "text/plain": [
       "(array([77.,  7.,  4.,  3.,  2.,  2.,  1.,  1.,  2.,  1.]),\n",
       " array([0.92931893, 0.9545779 , 0.97983687, 1.00509584, 1.03035481,\n",
       "        1.05561378, 1.08087275, 1.10613172, 1.13139069, 1.15664966,\n",
       "        1.18190863]),\n",
       " <BarContainer object of 10 artists>)"
      ]
     },
     "execution_count": 45,
     "metadata": {},
     "output_type": "execute_result"
    },
    {
     "data": {
      "image/png": "[encoded data removed]",
      "text/plain": [
       "<Figure size 432x288 with 1 Axes>"
      ]
     },
     "metadata": {
      "needs_background": "light"
     },
     "output_type": "display_data"
    }
   ],
   "source": [
    "plt.hist(c)"
   ]
  },
  {
   "cell_type": "code",
   "execution_count": 46,
   "metadata": {},
   "outputs": [],
   "source": [
    "nsims = 100\n",
    "Ks_orig = np.logspace(0, 5, nsims)\n",
    "ecc_sims_location = 'hd_max_mass'  # folder that the ecc sims are in\n",
    "\n",
    "e1_track_orig, e2_track_orig = np.zeros(len(Ks_orig)), np.zeros(len(Ks_orig))\n",
    "\n",
    "for i in range(0, len(Ks_orig)):\n",
    "    ecc_sim = rb.Simulation(f'{ecc_sims_location}/ecc_track_archive_cluster_{i}.bin')  # get the ith eccentricity simulation from the ecc sims folder\n",
    "    inner = ecc_sim.particles[1]\n",
    "    outer = ecc_sim.particles[2]\n",
    "    \n",
    "    e1_track_orig[i] = inner.e  # add the e1/e2 values for that simulation\n",
    "    e2_track_orig[i] = outer.e\n",
    "    \n",
    "# 10^1 to 10^2.5\n",
    "\n",
    "Ks_1025 = np.logspace(1, 2.5, nsims)\n",
    "ecc_sims_location_1025 = 'hd_eccentricity'  # folder that the ecc sims are in\n",
    "\n",
    "e1_track_1025, e2_track_1025 = np.zeros(len(Ks_1025)), np.zeros(len(Ks_1025))\n",
    "\n",
    "for i in range(0, len(Ks_1025)):\n",
    "    ecc_sim_1025 = rb.Simulation(f'{ecc_sims_location_1025}/ecc_track_archive_cluster_101_1025_{i}.bin')  # get the ith eccentricity simulation from the ecc sims folder\n",
    "    # print(ecc_sim_1025)\n",
    "    inner = ecc_sim_1025.particles[1]\n",
    "    outer = ecc_sim_1025.particles[2]\n",
    "    e1_track_1025[i] = inner.e  # add the e1/e2 values for that simulation\n",
    "    e2_track_1025[i] = outer.e\n",
    "\n",
    "# 10^0 to 10^1\n",
    "    \n",
    "Ks_101 = np.logspace(0, 1, nsims)\n",
    "ecc_sims_location_101 = 'hd_eccentricity'  # folder that the ecc sims are in\n",
    "\n",
    "e1_track_101, e2_track_101 = np.zeros(len(Ks_101)), np.zeros(len(Ks_101))\n",
    "\n",
    "for i in range(0, len(Ks_101)):\n",
    "    ecc_sim_101 = rb.Simulation(f'{ecc_sims_location_101}/ecc_track_archive_cluster_100_101_{i}.bin')  # get the ith eccentricity simulation from the ecc sims folder\n",
    "    # print(ecc_sim_1025)\n",
    "    inner = ecc_sim_101.particles[1]\n",
    "    outer = ecc_sim_101.particles[2]\n",
    "    e1_track_101[i] = inner.e  # add the e1/e2 values for that simulation\n",
    "    e2_track_101[i] = outer.e\n",
    "\n",
    "Ks, e1_track, e2_track = np.concatenate((Ks_orig, Ks_1025, Ks_101)), np.concatenate((e1_track_orig, e1_track_1025, e1_track_101)), np.concatenate((e2_track_orig, e2_track_1025, e2_track_101))"
   ]
  },
  {
   "cell_type": "code",
   "execution_count": 47,
   "metadata": {},
   "outputs": [
    {
     "data": {
      "text/latex": [
       "$\\displaystyle 2.81162097791829$"
      ],
      "text/plain": [
       "2.811620977918289"
      ]
     },
     "execution_count": 47,
     "metadata": {},
     "output_type": "execute_result"
    }
   ],
   "source": [
    "masses[1]/masses[0]"
   ]
  },
  {
   "cell_type": "code",
   "execution_count": 48,
   "metadata": {},
   "outputs": [
    {
     "data": {
      "text/plain": [
       "array([0.20069091, 0.56426678])"
      ]
     },
     "execution_count": 48,
     "metadata": {},
     "output_type": "execute_result"
    }
   ],
   "source": [
    "masses * STAR_MASS"
   ]
  },
  {
   "cell_type": "code",
   "execution_count": 49,
   "metadata": {},
   "outputs": [
    {
     "data": {
      "image/png": "[encoded data removed]",
      "text/plain": [
       "<Figure size 864x576 with 1 Axes>"
      ]
     },
     "metadata": {
      "needs_background": "light"
     },
     "output_type": "display_data"
    }
   ],
   "source": [
    "fig = plt.figure(figsize = (12, 8))\n",
    "ax = fig.add_subplot(111)\n",
    "plt.rc('font', size=18)  # fontsize larger\n",
    "# 10^5 annotation\n",
    "# ax.annotate(fr'$K = 10^5$', xy=(np.delete(e1_track, [1, 2])[np.where(np.delete(Ks, [1, 2]) == 10 ** 5)][0], \n",
    "#                                 np.delete(e2_track, [1, 2])[np.where(np.delete(Ks, [1, 2]) == 10 ** 5)][0]), xycoords='data', \n",
    "#             textcoords='axes fraction', xytext=(0.1, 0.3), arrowprops=dict(facecolor='red', shrink=0.01), color ='red')\n",
    "# 10^0 = 1 annotation\n",
    "# ax.annotate(fr'$K = 1$', xy=(np.delete(e1_track, [1, 2])[np.where(np.delete(Ks, [1, 2]) == 1)][0], \n",
    "#                              np.delete(e2_track, [1, 2])[np.where(np.delete(Ks, [1, 2]) == 1)][0]), xycoords='data', \n",
    "#             textcoords='axes fraction', xytext=(0.5, 0.95), arrowprops=dict(facecolor='red', shrink=0.01), color ='red')\n",
    "# pl.scatter(e1_track, e2_track)\n",
    "plt.scatter(np.delete(e1_track, [1, 2]), np.delete(e2_track, [1, 2]), label = 'rebound')\n",
    "\n",
    "e1s = np.linspace(0, 0.1, 100)\n",
    "e2s = e1s * masses[0]/masses[1] * 1.07\n",
    "plt.plot(e1s, e2s)\n",
    "plt.xlabel(r'$e_{inner}$'), plt.ylabel(r'$e_{outer}$')\n",
    "# pl.savefig('ecc_track.png', fmt='png')\n",
    "plt.scatter(e_inner, e_outer, label = 'root finding')\n",
    "plt.xlim(0, 0.1), plt.ylim(0, 0.06)\n",
    "plt.legend()\n",
    "# plt.savefig('order_1.png', fmt='png')\n",
    "plt.show()"
   ]
  },
  {
   "cell_type": "markdown",
   "metadata": {},
   "source": [
    "Compares favourably to `rebound` at low eccentricity values:"
   ]
  },
  {
   "cell_type": "markdown",
   "metadata": {},
   "source": [
    "## Converting posterior distributions to D values:"
   ]
  },
  {
   "cell_type": "markdown",
   "metadata": {},
   "source": [
    "First import hd data:"
   ]
  },
  {
   "cell_type": "code",
   "execution_count": 50,
   "metadata": {},
   "outputs": [],
   "source": [
    "hd_data = pd.read_csv('hd45364_rvs.csv', sep = ';')\n",
    "hd_data.BJD -= 2.4e6"
   ]
  },
  {
   "cell_type": "markdown",
   "metadata": {},
   "source": [
    "Convert posterior distributions to get a distribution of D values:"
   ]
  },
  {
   "cell_type": "code",
   "execution_count": 52,
   "metadata": {},
   "outputs": [],
   "source": [
    "cluster_data = h5py.File('2021_fall-2022_winter/hd_mcmc_cluster.h5', 'r')  # import the posterior distribution data from the cluster\n",
    "accepted, samples, log_prob = np.array(cluster_data['mcmc']['accepted']), np.array(cluster_data['mcmc']['chain']), np.array(cluster_data['mcmc']['log_prob'])"
   ]
  },
  {
   "cell_type": "markdown",
   "metadata": {},
   "source": [
    "Reshape the samples and discard some number of burn-in samples:"
   ]
  },
  {
   "cell_type": "code",
   "execution_count": 53,
   "metadata": {},
   "outputs": [],
   "source": [
    "n_burn_in = 200  # discard the first 200 samples as burn-in time\n",
    "# reshape the chain to flatten it out\n",
    "flat_samples = samples[n_burn_in:].reshape(-1, samples[n_burn_in:].shape[-1])"
   ]
  },
  {
   "cell_type": "markdown",
   "metadata": {},
   "source": [
    "Test with downsampled posterior:"
   ]
  },
  {
   "cell_type": "code",
   "execution_count": 54,
   "metadata": {},
   "outputs": [
    {
     "data": {
      "text/latex": [
       "$\\displaystyle \\left( \\left( 2490000, \\  11\\right), \\  \\left( 2490, \\  11\\right)\\right)$"
      ],
      "text/plain": [
       "((2490000, 11), (2490, 11))"
      ]
     },
     "execution_count": 54,
     "metadata": {},
     "output_type": "execute_result"
    }
   ],
   "source": [
    "downsampled_flat_samples = flat_samples[::1000]\n",
    "# 10 times fewer samples in the downsampling\n",
    "flat_samples.shape, downsampled_flat_samples.shape"
   ]
  },
  {
   "cell_type": "code",
   "execution_count": 55,
   "metadata": {},
   "outputs": [
    {
     "data": {
      "text/plain": [
       "(array([9, 8]), array([0, 1, 6, 7]))"
      ]
     },
     "execution_count": 55,
     "metadata": {},
     "output_type": "execute_result"
    }
   ],
   "source": [
    "L_Psi_indices = np.array([ct_all.new_qp_vars.index(v) for v in [L, Psi]])\n",
    "xy_indices = np.array([ct_all.new_qp_vars.index(v) for v in [y1, y2, x1, x2]])\n",
    "\n",
    "L_Psi_indices, xy_indices"
   ]
  },
  {
   "cell_type": "markdown",
   "metadata": {},
   "source": [
    "Try with the first flat sample:"
   ]
  },
  {
   "cell_type": "code",
   "execution_count": 56,
   "metadata": {},
   "outputs": [
    {
     "data": {
      "text/latex": [
       "$\\displaystyle 67.404116315164$"
      ],
      "text/plain": [
       "67.4041163151640"
      ]
     },
     "execution_count": 56,
     "metadata": {},
     "output_type": "execute_result"
    }
   ],
   "source": [
    "test_sim = get_sim_from_params(flat_samples[0], inclination = np.pi/2, integrator = 'ias15', time_base = np.median(hd_data.BJD))\n",
    "inner_mass = test_sim.particles[1].m\n",
    "outer_mass = test_sim.particles[2].m\n",
    "\n",
    "test_pvars = cm.Poincare.from_Simulation(test_sim)\n",
    "test_rho_val = (inner_mass/outer_mass) * (2/3)**(1/3) \n",
    "\n",
    "test_L_Psi_vals = ct_all.old_to_new_array(test_pvars.values)[L_Psi_indices]  # values of L and Psi in that order\n",
    "test_xy_vals = ct_all.old_to_new_array(test_pvars.values)[xy_indices]  # values y1, y2, x1, x2 in that order\n",
    "\n",
    "test_D_val = D_exprn.subs(zip([L, Psi], test_L_Psi_vals)).subs(rho, test_rho_val)  # use L and Psi to compute the D value\n",
    "test_L2_val = L2res_exprn.subs(zip([L, Psi], test_L_Psi_vals)).subs(rho, test_rho_val)  # use L and Psi to compute the L2 value as well\n",
    "\n",
    "# pass root using parameters [y1, y2, x1, x2, D]\n",
    "test_root = np.append(test_xy_vals, test_D_val)\n",
    "\n",
    "# now compute K from D, substituting rho and L2 values into fullflow as well (since fullflow should have those numerical values in it)\n",
    "rho_L2_pars = dict(zip([rho, L2res], [test_rho_val, test_L2_val]))\n",
    "# compute K from D, substituting in rho and L2\n",
    "D_to_K(fullflow.subs(rho_L2_pars), test_root)"
   ]
  },
  {
   "cell_type": "code",
   "execution_count": 57,
   "metadata": {},
   "outputs": [
    {
     "data": {
      "text/latex": [
       "$\\displaystyle \\left\\{D, \\tau_{a1}, \\tau_{a2}, \\tau_{e1}, \\tau_{e2}, x_{1}, x_{2}, y_{1}, y_{2}\\right\\}$"
      ],
      "text/plain": [
       "{D, τₐ₁, τₐ₂, τₑ₁, τₑ₂, x₁, x₂, y₁, y₂}"
      ]
     },
     "execution_count": 57,
     "metadata": {},
     "output_type": "execute_result"
    }
   ],
   "source": [
    "fullflow.subs(rho_L2_pars).free_symbols  # should only be D, taus and xs, ys"
   ]
  },
  {
   "cell_type": "code",
   "execution_count": 58,
   "metadata": {},
   "outputs": [
    {
     "data": {
      "text/latex": [
       "$\\displaystyle - L + \\frac{\\Psi \\left(\\rho + 1\\right)}{3 \\rho + 2}$"
      ],
      "text/plain": [
       "     Ψ⋅(ρ + 1)\n",
       "-L + ─────────\n",
       "      3⋅ρ + 2 "
      ]
     },
     "execution_count": 58,
     "metadata": {},
     "output_type": "execute_result"
    }
   ],
   "source": [
    "D_exprn"
   ]
  },
  {
   "cell_type": "markdown",
   "metadata": {},
   "source": [
    "D-value for each downsampled sample:"
   ]
  },
  {
   "cell_type": "code",
   "execution_count": 59,
   "metadata": {},
   "outputs": [
    {
     "data": {
      "text/plain": [
       "(array([9, 8]), array([0, 1, 6, 7]))"
      ]
     },
     "execution_count": 59,
     "metadata": {},
     "output_type": "execute_result"
    }
   ],
   "source": [
    "# indices of [L, Psi] as well as [y1, y2, x1, x2] in the ct_all canonical transformation new qp vars object\n",
    "\n",
    "L_Psi_indices = np.array([ct_all.new_qp_vars.index(v) for v in [L, Psi]])\n",
    "xy_indices = np.array([ct_all.new_qp_vars.index(v) for v in [y1, y2, x1, x2]])\n",
    "\n",
    "L_Psi_indices, xy_indices"
   ]
  },
  {
   "cell_type": "markdown",
   "metadata": {},
   "source": [
    "$c$ for each downsampled posterior sample:"
   ]
  },
  {
   "cell_type": "code",
   "execution_count": 60,
   "metadata": {},
   "outputs": [
    {
     "name": "stderr",
     "output_type": "stream",
     "text": [
      "2490it [00:00, 5246.14it/s]\n"
     ]
    }
   ],
   "source": [
    "cs = np.zeros(len(downsampled_flat_samples))\n",
    "\n",
    "for i, sample in tqdm(enumerate(downsampled_flat_samples)):\n",
    "    samp_sim = get_sim_from_params(sample, inclination=np.pi/2, integrator='ias15', time_base=np.median(hd_data.BJD))\n",
    "    samp_inner = samp_sim.particles[1]\n",
    "    samp_outer = samp_sim.particles[2]\n",
    "    # compute c from inner, outer masses\n",
    "    cs[i] = (samp_inner.e * samp_inner.m)/(samp_outer.e * samp_outer.m)"
   ]
  },
  {
   "cell_type": "code",
   "execution_count": 61,
   "metadata": {},
   "outputs": [
    {
     "data": {
      "text/plain": [
       "(array([4.300e+02, 1.119e+03, 6.480e+02, 2.220e+02, 5.500e+01, 1.200e+01,\n",
       "        2.000e+00, 1.000e+00, 0.000e+00, 1.000e+00]),\n",
       " array([0.04164082, 0.27193796, 0.50223511, 0.73253225, 0.96282939,\n",
       "        1.19312653, 1.42342367, 1.65372082, 1.88401796, 2.1143151 ,\n",
       "        2.34461224]),\n",
       " <BarContainer object of 10 artists>)"
      ]
     },
     "execution_count": 61,
     "metadata": {},
     "output_type": "execute_result"
    },
    {
     "data": {
      "image/png": "[encoded data removed]",
      "text/plain": [
       "<Figure size 432x288 with 1 Axes>"
      ]
     },
     "metadata": {
      "needs_background": "light"
     },
     "output_type": "display_data"
    }
   ],
   "source": [
    "plt.hist(cs)"
   ]
  },
  {
   "cell_type": "markdown",
   "metadata": {},
   "source": [
    "Copute $D$-value:"
   ]
  },
  {
   "cell_type": "code",
   "execution_count": 62,
   "metadata": {},
   "outputs": [
    {
     "name": "stderr",
     "output_type": "stream",
     "text": [
      "2490it [06:44,  6.15it/s]\n"
     ]
    }
   ],
   "source": [
    "D_values = np.zeros(len(downsampled_flat_samples))\n",
    "K_values = np.zeros(len(downsampled_flat_samples))\n",
    "\n",
    "from tqdm import tqdm\n",
    "\n",
    "for i, sample in tqdm(enumerate(downsampled_flat_samples)):\n",
    "    # get rebound simulation from sample:\n",
    "    samp_sim = get_sim_from_params(sample, inclination=np.pi/2, integrator='ias15', time_base=np.median(hd_data.BJD))\n",
    "    # masses of inner, outer planets:\n",
    "    inner_mass = samp_sim.particles[1].m\n",
    "    outer_mass = samp_sim.particles[2].m\n",
    "    # convert to pvars\n",
    "    samp_pvars = cm.Poincare.from_Simulation(samp_sim)\n",
    "    # compute rho value using the equation above:\n",
    "    samp_rho_val = (inner_mass/outer_mass) * ((2/3) ** (1/3))\n",
    "    # get L and Psi values, as well as x and y values, by transforming from samp_pvars (eta, kappa) -> (y, x)\n",
    "    samp_L_Psi_vals = ct_all.old_to_new_array(samp_pvars.values)[L_Psi_indices]  # values of L and Psi in that order\n",
    "    samp_xy_vals = ct_all.old_to_new_array(samp_pvars.values)[xy_indices]  # values y1, y2, x1, x2 in that order\n",
    "    # get D and L2 values using L and Psi, as well as the rho value computed earlier, from the D_exprn expression\n",
    "    samp_D_val = D_exprn.subs(zip([L, Psi], samp_L_Psi_vals)).subs(rho, samp_rho_val)  # use L and Psi to compute the D value\n",
    "    samp_L2_val = L2res_exprn.subs(zip([L, Psi], samp_L_Psi_vals)).subs(rho, samp_rho_val)  # also use L and Psi to compute L2 value\n",
    "    # parameterize root as [y1, y2, x1, x2, D]\n",
    "    samp_root = np.append(samp_xy_vals, samp_D_val)\n",
    "    # compute rho, L2 for this sample for substituting into fullflow\n",
    "    samp_rho_L2_pars = dict(zip([rho, L2res], [samp_rho_val, samp_L2_val]))\n",
    "    # finally, convert from D to K using the D_to_K function:\n",
    "    D_values[i] = samp_D_val  # record sample D value as well as K value from D\n",
    "    # make sure to substitute in rho and L2 for this specific(!) sample into the D to K values\n",
    "    K_values[i] = D_to_K(fullflow.subs(samp_rho_L2_pars), samp_root)  # use the fullflow function from earlier since that doesn't change (two planets and only considering 1st order terms)\n",
    "    "
   ]
  },
  {
   "cell_type": "code",
   "execution_count": 63,
   "metadata": {},
   "outputs": [
    {
     "data": {
      "text/plain": [
       "(array([109., 750., 791., 464., 232.,  87.,  35.,  15.,   6.,   1.]),\n",
       " array([1.93592959e-06, 2.75544004e-06, 3.57495049e-06, 4.39446095e-06,\n",
       "        5.21397140e-06, 6.03348185e-06, 6.85299230e-06, 7.67250275e-06,\n",
       "        8.49201321e-06, 9.31152366e-06, 1.01310341e-05]),\n",
       " <BarContainer object of 10 artists>)"
      ]
     },
     "execution_count": 63,
     "metadata": {},
     "output_type": "execute_result"
    },
    {
     "data": {
      "image/png": "[encoded data removed]",
      "text/plain": [
       "<Figure size 432x288 with 1 Axes>"
      ]
     },
     "metadata": {
      "needs_background": "light"
     },
     "output_type": "display_data"
    }
   ],
   "source": [
    "plt.hist(D_values)"
   ]
  },
  {
   "cell_type": "code",
   "execution_count": 64,
   "metadata": {},
   "outputs": [
    {
     "data": {
      "text/latex": [
       "$\\displaystyle \\left( 40.7528464071911, \\  172.032671272351\\right)$"
      ],
      "text/plain": [
       "(40.75284640719108, 172.03267127235102)"
      ]
     },
     "execution_count": 64,
     "metadata": {},
     "output_type": "execute_result"
    }
   ],
   "source": [
    "np.min(K_values), np.max(K_values)  # minimum, maximum values from downsampled"
   ]
  },
  {
   "cell_type": "code",
   "execution_count": 65,
   "metadata": {},
   "outputs": [
    {
     "data": {
      "image/png": "[encoded data removed]",
      "text/plain": [
       "<Figure size 864x576 with 1 Axes>"
      ]
     },
     "metadata": {
      "needs_background": "light"
     },
     "output_type": "display_data"
    }
   ],
   "source": [
    "plt.figure(figsize = (12, 8))\n",
    "plt.hist(K_values)\n",
    "plt.xlabel(r'$K$'), plt.ylabel('count')\n",
    "plt.show()"
   ]
  },
  {
   "cell_type": "markdown",
   "metadata": {},
   "source": [
    "Test with known $K$:"
   ]
  },
  {
   "cell_type": "code",
   "execution_count": null,
   "metadata": {},
   "outputs": [],
   "source": [
    "Ks_orig[80]"
   ]
  },
  {
   "cell_type": "code",
   "execution_count": null,
   "metadata": {},
   "outputs": [],
   "source": [
    "test_sim = rb.Simulation(f'{ecc_sims_location}/ecc_track_archive_cluster_{80}.bin')\n",
    "# test_sim = get_sim_from_params(flat_samples[0], inclination = np.pi/2, integrator = 'ias15', time_base = np.median(hd_data.BJD))\n",
    "inner_mass = test_sim.particles[1].m\n",
    "outer_mass = test_sim.particles[2].m\n",
    "\n",
    "test_pvars = cm.Poincare.from_Simulation(test_sim)\n",
    "test_rho_val = (inner_mass/outer_mass) * (2/3)**(1/3) \n",
    "\n",
    "test_L_Psi_vals = ct_all.old_to_new_array(test_pvars.values)[L_Psi_indices]  # values of L and Psi in that order\n",
    "test_xy_vals = ct_all.old_to_new_array(test_pvars.values)[xy_indices]  # values y1, y2, x1, x2 in that order\n",
    "\n",
    "test_D_val = D_exprn.subs(zip([L, Psi], test_L_Psi_vals)).subs(rho, test_rho_val)  # use L and Psi to compute the D value\n",
    "test_L2_val = L2res_exprn.subs(zip([L, Psi], test_L_Psi_vals)).subs(rho, test_rho_val)  # use L and Psi to compute the L2 value\n",
    "\n",
    "# pass root using parameters [y1, y2, x1, x2, D]\n",
    "test_root = np.append(test_xy_vals, test_D_val)\n",
    "rho_L2_vals = zip([rho, L2res], [test_rho_val, test_L2_val])\n",
    "\n",
    "D_to_K(fullflow.subs(rho_L2_vals), test_root)"
   ]
  },
  {
   "cell_type": "code",
   "execution_count": null,
   "metadata": {},
   "outputs": [],
   "source": [
    "Ks = np.zeros(len(Ks_orig))\n",
    "\n",
    "for i in range(0, len(Ks_orig)):\n",
    "    test_sim = rb.Simulation(f'{ecc_sims_location}/ecc_track_archive_cluster_{i}.bin')  # get the ith eccentricity simulation from the ecc sims folder\n",
    "    \n",
    "    inner_mass = test_sim.particles[1].m\n",
    "    outer_mass = test_sim.particles[2].m\n",
    "\n",
    "    test_pvars = cm.Poincare.from_Simulation(test_sim)\n",
    "    test_rho_val = (inner_mass/outer_mass) * (2/3)**(1/3) \n",
    "\n",
    "    test_L_Psi_vals = ct_all.old_to_new_array(test_pvars.values)[L_Psi_indices]  # values of L and Psi in that order\n",
    "    test_xy_vals = ct_all.old_to_new_array(test_pvars.values)[xy_indices]  # values y1, y2, x1, x2 in that order\n",
    "\n",
    "    test_D_val = D_exprn.subs(zip([L, Psi], test_L_Psi_vals)).subs(rho, test_rho_val)  # use L and Psi to compute the D value\n",
    "    test_L2_val = L2res_exprn.subs(zip([L, Psi], test_L_Psi_vals)).subs(rho, test_rho_val)  # use L and Psi to compute the L2 value\n",
    "\n",
    "    # pass root using parameters [y1, y2, x1, x2, D]\n",
    "    test_root = np.append(test_xy_vals, test_D_val)\n",
    "    rho_L2_vals = zip([rho, L2res], [test_rho_val, test_L2_val])\n",
    "\n",
    "    Ks[i] = D_to_K(fullflow.subs(rho_L2_vals), test_root)"
   ]
  },
  {
   "cell_type": "code",
   "execution_count": null,
   "metadata": {},
   "outputs": [],
   "source": [
    "plt.figure(figsize = (12, 8))\n",
    "plt.scatter(Ks_orig, Ks, label = 'root-finding')\n",
    "plt.scatter(Ks_orig, Ks_orig, label = 'K')\n",
    "plt.xscale('log'), plt.yscale('log')\n",
    "plt.xlabel(r'$K$'), plt.ylabel(r'$K$')\n",
    "plt.legend()"
   ]
  },
  {
   "cell_type": "markdown",
   "metadata": {},
   "source": [
    "Integrate starting from the end of several randomly chosen posterior points. Plot Libration angles, eccentricities and period ratios:"
   ]
  },
  {
   "cell_type": "markdown",
   "metadata": {},
   "source": [
    "Select $n$ random samples:"
   ]
  },
  {
   "cell_type": "code",
   "execution_count": 69,
   "metadata": {},
   "outputs": [],
   "source": [
    "np.random.seed(1234)  # seed\n",
    "n = 100  # number of samples\n",
    "\n",
    "# sample randomly from flat_samples\n",
    "rand_samples = flat_samples[np.random.choice(range(0, len(flat_samples)), n)]"
   ]
  },
  {
   "cell_type": "markdown",
   "metadata": {},
   "source": [
    "For each sample, integrate and plot the libration angles, eccentricities and period ratios:"
   ]
  },
  {
   "cell_type": "code",
   "execution_count": 70,
   "metadata": {},
   "outputs": [
    {
     "data": {
      "text/latex": [
       "$\\displaystyle \\left( 0.000218144101680577, \\  0.000613335144756027\\right)$"
      ],
      "text/plain": [
       "(0.00021814410168057689, 0.0006133351447560272)"
      ]
     },
     "execution_count": 70,
     "metadata": {},
     "output_type": "execute_result"
    }
   ],
   "source": [
    "inner_mass, outer_mass"
   ]
  },
  {
   "cell_type": "code",
   "execution_count": 71,
   "metadata": {},
   "outputs": [],
   "source": [
    "# Dval, D_val, float(D_val)"
   ]
  },
  {
   "cell_type": "markdown",
   "metadata": {},
   "source": [
    "**This thing down here works?**"
   ]
  },
  {
   "cell_type": "code",
   "execution_count": 72,
   "metadata": {},
   "outputs": [],
   "source": [
    "# list(root) + [D_val]"
   ]
  },
  {
   "cell_type": "code",
   "execution_count": 73,
   "metadata": {},
   "outputs": [
    {
     "ename": "TypeError",
     "evalue": "can't convert expression to float",
     "output_type": "error",
     "traceback": [
      "\u001b[0;31m---------------------------------------------------------------------------\u001b[0m",
      "\u001b[0;31mTypeError\u001b[0m                                 Traceback (most recent call last)",
      "\u001b[0;32m<ipython-input-73-dde169ac3862>\u001b[0m in \u001b[0;36m<module>\u001b[0;34m\u001b[0m\n\u001b[1;32m     29\u001b[0m \u001b[0mDf\u001b[0m \u001b[0;34m=\u001b[0m \u001b[0;32mlambda\u001b[0m \u001b[0mt\u001b[0m\u001b[0;34m,\u001b[0m \u001b[0mx\u001b[0m\u001b[0;34m:\u001b[0m \u001b[0mconsjac_fn\u001b[0m\u001b[0;34m(\u001b[0m\u001b[0;34m*\u001b[0m\u001b[0mx\u001b[0m\u001b[0;34m)\u001b[0m\u001b[0;34m\u001b[0m\u001b[0;34m\u001b[0m\u001b[0m\n\u001b[1;32m     30\u001b[0m \u001b[0;31m# integrate the equations of motion\u001b[0m\u001b[0;34m\u001b[0m\u001b[0;34m\u001b[0m\u001b[0;34m\u001b[0m\u001b[0m\n\u001b[0;32m---> 31\u001b[0;31m \u001b[0msoln\u001b[0m \u001b[0;34m=\u001b[0m \u001b[0msolve_ivp\u001b[0m\u001b[0;34m(\u001b[0m\u001b[0mf\u001b[0m\u001b[0;34m,\u001b[0m \u001b[0;34m(\u001b[0m\u001b[0mtimes\u001b[0m\u001b[0;34m[\u001b[0m\u001b[0;36m0\u001b[0m\u001b[0;34m]\u001b[0m\u001b[0;34m,\u001b[0m \u001b[0mtimes\u001b[0m\u001b[0;34m[\u001b[0m\u001b[0;34m-\u001b[0m\u001b[0;36m1\u001b[0m\u001b[0;34m]\u001b[0m\u001b[0;34m)\u001b[0m\u001b[0;34m,\u001b[0m \u001b[0mxy_vals\u001b[0m\u001b[0;34m,\u001b[0m \u001b[0mmethod\u001b[0m \u001b[0;34m=\u001b[0m \u001b[0;34m'Radau'\u001b[0m\u001b[0;34m,\u001b[0m \u001b[0mjac\u001b[0m \u001b[0;34m=\u001b[0m \u001b[0mDf\u001b[0m\u001b[0;34m)\u001b[0m\u001b[0;34m\u001b[0m\u001b[0;34m\u001b[0m\u001b[0m\n\u001b[0m\u001b[1;32m     32\u001b[0m \u001b[0;34m\u001b[0m\u001b[0m\n\u001b[1;32m     33\u001b[0m \u001b[0;31m# now solve using newton's method\u001b[0m\u001b[0;34m\u001b[0m\u001b[0;34m\u001b[0m\u001b[0;34m\u001b[0m\u001b[0m\n",
      "\u001b[0;32m~/.local/lib/python3.8/site-packages/scipy/integrate/_ivp/ivp.py\u001b[0m in \u001b[0;36msolve_ivp\u001b[0;34m(fun, t_span, y0, method, t_eval, dense_output, events, vectorized, args, **options)\u001b[0m\n\u001b[1;32m    540\u001b[0m         \u001b[0mmethod\u001b[0m \u001b[0;34m=\u001b[0m \u001b[0mMETHODS\u001b[0m\u001b[0;34m[\u001b[0m\u001b[0mmethod\u001b[0m\u001b[0;34m]\u001b[0m\u001b[0;34m\u001b[0m\u001b[0;34m\u001b[0m\u001b[0m\n\u001b[1;32m    541\u001b[0m \u001b[0;34m\u001b[0m\u001b[0m\n\u001b[0;32m--> 542\u001b[0;31m     \u001b[0msolver\u001b[0m \u001b[0;34m=\u001b[0m \u001b[0mmethod\u001b[0m\u001b[0;34m(\u001b[0m\u001b[0mfun\u001b[0m\u001b[0;34m,\u001b[0m \u001b[0mt0\u001b[0m\u001b[0;34m,\u001b[0m \u001b[0my0\u001b[0m\u001b[0;34m,\u001b[0m \u001b[0mtf\u001b[0m\u001b[0;34m,\u001b[0m \u001b[0mvectorized\u001b[0m\u001b[0;34m=\u001b[0m\u001b[0mvectorized\u001b[0m\u001b[0;34m,\u001b[0m \u001b[0;34m**\u001b[0m\u001b[0moptions\u001b[0m\u001b[0;34m)\u001b[0m\u001b[0;34m\u001b[0m\u001b[0;34m\u001b[0m\u001b[0m\n\u001b[0m\u001b[1;32m    543\u001b[0m \u001b[0;34m\u001b[0m\u001b[0m\n\u001b[1;32m    544\u001b[0m     \u001b[0;32mif\u001b[0m \u001b[0mt_eval\u001b[0m \u001b[0;32mis\u001b[0m \u001b[0;32mNone\u001b[0m\u001b[0;34m:\u001b[0m\u001b[0;34m\u001b[0m\u001b[0;34m\u001b[0m\u001b[0m\n",
      "\u001b[0;32m~/.local/lib/python3.8/site-packages/scipy/integrate/_ivp/radau.py\u001b[0m in \u001b[0;36m__init__\u001b[0;34m(self, fun, t0, y0, t_bound, max_step, rtol, atol, jac, jac_sparsity, vectorized, first_step, **extraneous)\u001b[0m\n\u001b[1;32m    288\u001b[0m         \u001b[0mself\u001b[0m\u001b[0;34m.\u001b[0m\u001b[0mmax_step\u001b[0m \u001b[0;34m=\u001b[0m \u001b[0mvalidate_max_step\u001b[0m\u001b[0;34m(\u001b[0m\u001b[0mmax_step\u001b[0m\u001b[0;34m)\u001b[0m\u001b[0;34m\u001b[0m\u001b[0;34m\u001b[0m\u001b[0m\n\u001b[1;32m    289\u001b[0m         \u001b[0mself\u001b[0m\u001b[0;34m.\u001b[0m\u001b[0mrtol\u001b[0m\u001b[0;34m,\u001b[0m \u001b[0mself\u001b[0m\u001b[0;34m.\u001b[0m\u001b[0matol\u001b[0m \u001b[0;34m=\u001b[0m \u001b[0mvalidate_tol\u001b[0m\u001b[0;34m(\u001b[0m\u001b[0mrtol\u001b[0m\u001b[0;34m,\u001b[0m \u001b[0matol\u001b[0m\u001b[0;34m,\u001b[0m \u001b[0mself\u001b[0m\u001b[0;34m.\u001b[0m\u001b[0mn\u001b[0m\u001b[0;34m)\u001b[0m\u001b[0;34m\u001b[0m\u001b[0;34m\u001b[0m\u001b[0m\n\u001b[0;32m--> 290\u001b[0;31m         \u001b[0mself\u001b[0m\u001b[0;34m.\u001b[0m\u001b[0mf\u001b[0m \u001b[0;34m=\u001b[0m \u001b[0mself\u001b[0m\u001b[0;34m.\u001b[0m\u001b[0mfun\u001b[0m\u001b[0;34m(\u001b[0m\u001b[0mself\u001b[0m\u001b[0;34m.\u001b[0m\u001b[0mt\u001b[0m\u001b[0;34m,\u001b[0m \u001b[0mself\u001b[0m\u001b[0;34m.\u001b[0m\u001b[0my\u001b[0m\u001b[0;34m)\u001b[0m\u001b[0;34m\u001b[0m\u001b[0;34m\u001b[0m\u001b[0m\n\u001b[0m\u001b[1;32m    291\u001b[0m         \u001b[0;31m# Select initial step assuming the same order which is used to control\u001b[0m\u001b[0;34m\u001b[0m\u001b[0;34m\u001b[0m\u001b[0;34m\u001b[0m\u001b[0m\n\u001b[1;32m    292\u001b[0m         \u001b[0;31m# the error.\u001b[0m\u001b[0;34m\u001b[0m\u001b[0;34m\u001b[0m\u001b[0;34m\u001b[0m\u001b[0m\n",
      "\u001b[0;32m~/.local/lib/python3.8/site-packages/scipy/integrate/_ivp/base.py\u001b[0m in \u001b[0;36mfun\u001b[0;34m(t, y)\u001b[0m\n\u001b[1;32m    136\u001b[0m         \u001b[0;32mdef\u001b[0m \u001b[0mfun\u001b[0m\u001b[0;34m(\u001b[0m\u001b[0mt\u001b[0m\u001b[0;34m,\u001b[0m \u001b[0my\u001b[0m\u001b[0;34m)\u001b[0m\u001b[0;34m:\u001b[0m\u001b[0;34m\u001b[0m\u001b[0;34m\u001b[0m\u001b[0m\n\u001b[1;32m    137\u001b[0m             \u001b[0mself\u001b[0m\u001b[0;34m.\u001b[0m\u001b[0mnfev\u001b[0m \u001b[0;34m+=\u001b[0m \u001b[0;36m1\u001b[0m\u001b[0;34m\u001b[0m\u001b[0;34m\u001b[0m\u001b[0m\n\u001b[0;32m--> 138\u001b[0;31m             \u001b[0;32mreturn\u001b[0m \u001b[0mself\u001b[0m\u001b[0;34m.\u001b[0m\u001b[0mfun_single\u001b[0m\u001b[0;34m(\u001b[0m\u001b[0mt\u001b[0m\u001b[0;34m,\u001b[0m \u001b[0my\u001b[0m\u001b[0;34m)\u001b[0m\u001b[0;34m\u001b[0m\u001b[0;34m\u001b[0m\u001b[0m\n\u001b[0m\u001b[1;32m    139\u001b[0m \u001b[0;34m\u001b[0m\u001b[0m\n\u001b[1;32m    140\u001b[0m         \u001b[0mself\u001b[0m\u001b[0;34m.\u001b[0m\u001b[0mfun\u001b[0m \u001b[0;34m=\u001b[0m \u001b[0mfun\u001b[0m\u001b[0;34m\u001b[0m\u001b[0;34m\u001b[0m\u001b[0m\n",
      "\u001b[0;32m~/.local/lib/python3.8/site-packages/scipy/integrate/_ivp/base.py\u001b[0m in \u001b[0;36mfun_wrapped\u001b[0;34m(t, y)\u001b[0m\n\u001b[1;32m     18\u001b[0m \u001b[0;34m\u001b[0m\u001b[0m\n\u001b[1;32m     19\u001b[0m     \u001b[0;32mdef\u001b[0m \u001b[0mfun_wrapped\u001b[0m\u001b[0;34m(\u001b[0m\u001b[0mt\u001b[0m\u001b[0;34m,\u001b[0m \u001b[0my\u001b[0m\u001b[0;34m)\u001b[0m\u001b[0;34m:\u001b[0m\u001b[0;34m\u001b[0m\u001b[0;34m\u001b[0m\u001b[0m\n\u001b[0;32m---> 20\u001b[0;31m         \u001b[0;32mreturn\u001b[0m \u001b[0mnp\u001b[0m\u001b[0;34m.\u001b[0m\u001b[0masarray\u001b[0m\u001b[0;34m(\u001b[0m\u001b[0mfun\u001b[0m\u001b[0;34m(\u001b[0m\u001b[0mt\u001b[0m\u001b[0;34m,\u001b[0m \u001b[0my\u001b[0m\u001b[0;34m)\u001b[0m\u001b[0;34m,\u001b[0m \u001b[0mdtype\u001b[0m\u001b[0;34m=\u001b[0m\u001b[0mdtype\u001b[0m\u001b[0;34m)\u001b[0m\u001b[0;34m\u001b[0m\u001b[0;34m\u001b[0m\u001b[0m\n\u001b[0m\u001b[1;32m     21\u001b[0m \u001b[0;34m\u001b[0m\u001b[0m\n\u001b[1;32m     22\u001b[0m     \u001b[0;32mreturn\u001b[0m \u001b[0mfun_wrapped\u001b[0m\u001b[0;34m,\u001b[0m \u001b[0my0\u001b[0m\u001b[0;34m\u001b[0m\u001b[0;34m\u001b[0m\u001b[0m\n",
      "\u001b[0;32m~/.local/lib/python3.8/site-packages/numpy/core/_asarray.py\u001b[0m in \u001b[0;36masarray\u001b[0;34m(a, dtype, order, like)\u001b[0m\n\u001b[1;32m    100\u001b[0m         \u001b[0;32mreturn\u001b[0m \u001b[0m_asarray_with_like\u001b[0m\u001b[0;34m(\u001b[0m\u001b[0ma\u001b[0m\u001b[0;34m,\u001b[0m \u001b[0mdtype\u001b[0m\u001b[0;34m=\u001b[0m\u001b[0mdtype\u001b[0m\u001b[0;34m,\u001b[0m \u001b[0morder\u001b[0m\u001b[0;34m=\u001b[0m\u001b[0morder\u001b[0m\u001b[0;34m,\u001b[0m \u001b[0mlike\u001b[0m\u001b[0;34m=\u001b[0m\u001b[0mlike\u001b[0m\u001b[0;34m)\u001b[0m\u001b[0;34m\u001b[0m\u001b[0;34m\u001b[0m\u001b[0m\n\u001b[1;32m    101\u001b[0m \u001b[0;34m\u001b[0m\u001b[0m\n\u001b[0;32m--> 102\u001b[0;31m     \u001b[0;32mreturn\u001b[0m \u001b[0marray\u001b[0m\u001b[0;34m(\u001b[0m\u001b[0ma\u001b[0m\u001b[0;34m,\u001b[0m \u001b[0mdtype\u001b[0m\u001b[0;34m,\u001b[0m \u001b[0mcopy\u001b[0m\u001b[0;34m=\u001b[0m\u001b[0;32mFalse\u001b[0m\u001b[0;34m,\u001b[0m \u001b[0morder\u001b[0m\u001b[0;34m=\u001b[0m\u001b[0morder\u001b[0m\u001b[0;34m)\u001b[0m\u001b[0;34m\u001b[0m\u001b[0;34m\u001b[0m\u001b[0m\n\u001b[0m\u001b[1;32m    103\u001b[0m \u001b[0;34m\u001b[0m\u001b[0m\n\u001b[1;32m    104\u001b[0m \u001b[0;34m\u001b[0m\u001b[0m\n",
      "\u001b[0;32m~/.local/lib/python3.8/site-packages/sympy/core/expr.py\u001b[0m in \u001b[0;36m__float__\u001b[0;34m(self)\u001b[0m\n\u001b[1;32m    357\u001b[0m         \u001b[0;32mif\u001b[0m \u001b[0mresult\u001b[0m\u001b[0;34m.\u001b[0m\u001b[0mis_number\u001b[0m \u001b[0;32mand\u001b[0m \u001b[0mresult\u001b[0m\u001b[0;34m.\u001b[0m\u001b[0mas_real_imag\u001b[0m\u001b[0;34m(\u001b[0m\u001b[0;34m)\u001b[0m\u001b[0;34m[\u001b[0m\u001b[0;36m1\u001b[0m\u001b[0;34m]\u001b[0m\u001b[0;34m:\u001b[0m\u001b[0;34m\u001b[0m\u001b[0;34m\u001b[0m\u001b[0m\n\u001b[1;32m    358\u001b[0m             \u001b[0;32mraise\u001b[0m \u001b[0mTypeError\u001b[0m\u001b[0;34m(\u001b[0m\u001b[0;34m\"can't convert complex to float\"\u001b[0m\u001b[0;34m)\u001b[0m\u001b[0;34m\u001b[0m\u001b[0;34m\u001b[0m\u001b[0m\n\u001b[0;32m--> 359\u001b[0;31m         \u001b[0;32mraise\u001b[0m \u001b[0mTypeError\u001b[0m\u001b[0;34m(\u001b[0m\u001b[0;34m\"can't convert expression to float\"\u001b[0m\u001b[0;34m)\u001b[0m\u001b[0;34m\u001b[0m\u001b[0;34m\u001b[0m\u001b[0m\n\u001b[0m\u001b[1;32m    360\u001b[0m \u001b[0;34m\u001b[0m\u001b[0m\n\u001b[1;32m    361\u001b[0m     \u001b[0;32mdef\u001b[0m \u001b[0m__complex__\u001b[0m\u001b[0;34m(\u001b[0m\u001b[0mself\u001b[0m\u001b[0;34m)\u001b[0m\u001b[0;34m:\u001b[0m\u001b[0;34m\u001b[0m\u001b[0;34m\u001b[0m\u001b[0m\n",
      "\u001b[0;31mTypeError\u001b[0m: can't convert expression to float"
     ]
    }
   ],
   "source": [
    "time_base = np.median(hd_data.BJD)\n",
    "\n",
    "tsim = get_sim_from_params(rand_samples[1], inclination = np.pi/2, integrator = 'ias15', time_base = time_base)\n",
    "inner_mass = tsim.particles[1].m/tsim.particles[0].m\n",
    "outer_mass = tsim.particles[2].m/tsim.particles[0].m\n",
    "\n",
    "sim = get_simple_sim([inner_mass, outer_mass])\n",
    "\n",
    "tau_e_val = 1e3\n",
    "\n",
    "pvars = cm.Poincare.from_Simulation(sim)\n",
    "rho_val = (inner_mass/outer_mass) * (2/3)**(1/3) \n",
    "\n",
    "xyvars = [y1, y2, x1, x2]\n",
    "\n",
    "L_Psi_vals = ct_all.old_to_new_array(pvars.values)[L_Psi_indices]  # values of L and Psi in that order\n",
    "xy_vals = ct_all.old_to_new_array(pvars.values)[xy_indices]  # values y1, y2, x1, x2 in that order\n",
    "\n",
    "D_val = D_exprn.subs(zip([L, Psi], L_Psi_vals)).subs(rho, rho_val)  # use L and Psi to compute the D value\n",
    "\n",
    "# use conservative flow, newflow with d value subsitutted in\n",
    "consflow = newflow.subs(D, D_val)\n",
    "consflow_fn = sp.lambdify(xyvars, consflow)\n",
    "# and jacobian\n",
    "consjac = sp.Matrix(4, 4, lambda i, j: sp.diff(consflow[i], xyvars[j]))\n",
    "consjac_fn = sp.lambdify(xyvars, consjac)\n",
    "# now newton solve for the equilibrium values of period ratio and eccentricities\n",
    "f = lambda t, x: consflow_fn(*x).reshape(-1)\n",
    "Df = lambda t, x: consjac_fn(*x)\n",
    "# integrate the equations of motion\n",
    "soln = solve_ivp(f, (times[0], times[-1]), xy_vals, method = 'Radau', jac = Df)\n",
    "\n",
    "# now solve using newton's method\n",
    "ff = lambda x: consflow_fn(*x).reshape(-1)\n",
    "Dff = lambda x: consjac_fn(*x)\n",
    "\n",
    "root = newton_solve(ff, Dff, soln.y.T[-1])\n",
    "root\n",
    "\n",
    "y0 = ct_all.old_to_new_array(pvars.values)\n",
    "y0[indices] = root\n",
    "pvars.values = ct_all.new_to_old_array(y0)\n",
    "\n",
    "pvars.particles[1].e, pvars.particles[2].e, D_val, D_to_K(fullflow, list(root) + [D_val])\n",
    "\n"
   ]
  },
  {
   "cell_type": "code",
   "execution_count": null,
   "metadata": {},
   "outputs": [],
   "source": [
    "D_to_K(fullflow, y0), root"
   ]
  },
  {
   "cell_type": "code",
   "execution_count": null,
   "metadata": {},
   "outputs": [],
   "source": [
    "# 50 times the inner planet's orbital period\n",
    "ntimes = int(1e3)\n",
    "time_base = np.median(hd_data.BJD) # set time base to median of the BJD of the observed data\n",
    "sample_times = np.linspace(time_base, time_base + fit_params[0] * 500, ntimes)  # fit_params[0] is the inner planet's orbital period\n",
    "\n",
    "# arrays for periods, eccentricities and libration angles\n",
    "sample_p1 = np.zeros((n, len(sample_times)))\n",
    "sample_p2 = np.zeros((n, len(sample_times)))\n",
    "\n",
    "sample_e1 = np.zeros((n, len(sample_times)))\n",
    "sample_e2 = np.zeros((n, len(sample_times)))\n",
    "\n",
    "sample_theta1 = np.zeros((n, len(sample_times)))\n",
    "sample_theta2 = np.zeros((n, len(sample_times)))\n",
    "\n",
    "sample_Ds = np.zeros(len(sample_times))\n",
    "sample_Ks = np.zeros(len(sample_times))\n",
    "\n",
    "# to find equilibrium values\n",
    "roots = np.zeros((n, len(dyvars)))\n",
    "sample_e1_eq, sample_e2_eq = np.zeros(n), np.zeros(n)\n",
    "\n",
    "tau_e_val = 1e3  # tau e value\n",
    "\n",
    "# xy variables\n",
    "xyvars = [y1, y2, x1, x2]\n",
    "\n",
    "\n",
    "for i, sample in tqdm(enumerate(rand_samples)):\n",
    "    \n",
    "    # analytical root-finding\n",
    "    \n",
    "    # get sim from params to find the masses of the particles and to use\n",
    "    sim = get_sim_from_params(sample, inclination = np.pi/2, integrator = 'ias15', time_base = time_base)\n",
    "    # inner, outer planets\n",
    "    inner = sim.particles[1]\n",
    "    outer = sim.particles[2]\n",
    "    # get pvars from sim and the rho value of the system\n",
    "    pvars = cm.Poincare.from_Simulation(sim)\n",
    "    rho_val = (inner.m/outer.m) * (2/3)**(1/3) \n",
    "    \n",
    "    # L, Psi value computation using canonical transformation\n",
    "    L_Psi_vals = ct_all.old_to_new_array(pvars.values)[L_Psi_indices]  # values of L and Psi in that order\n",
    "    xy_vals = ct_all.old_to_new_array(pvars.values)[xy_indices]  # values y1, y2, x1, x2 in that order\n",
    "    \n",
    "    # D value computation\n",
    "    D_val = D_exprn.subs(zip([L, Psi], L_Psi_vals)).subs(rho, rho_val)  # use L and Psi to compute the D value\n",
    "\n",
    "    # use conservative flow, newflow with d value subsitutted in\n",
    "    consflow = newflow.subs(D, D_val)\n",
    "    consflow_fn = sp.lambdify(xyvars, consflow)\n",
    "    \n",
    "    # and jacobian\n",
    "    consjac = sp.Matrix(4, 4, lambda m, n: sp.diff(consflow[m], xyvars[n]))\n",
    "    consjac_fn = sp.lambdify(xyvars, consjac)\n",
    "    \n",
    "    # now newton solve for the equilibrium values of period ratio and eccentricities\n",
    "    f = lambda t, x: consflow_fn(*x).reshape(-1)\n",
    "    Df = lambda t, x: consjac_fn(*x)\n",
    "    \n",
    "    # integrate the equations of motion to find somewhere that's close to equilibrium\n",
    "    soln = solve_ivp(f, (times[0], times[-1]), xy_vals, method = 'Radau', jac = Df)\n",
    "    \n",
    "    # now solve using newton's method\n",
    "    ff = lambda x: consflow_fn(*x).reshape(-1)\n",
    "    Dff = lambda x: consjac_fn(*x)\n",
    "    root = newton_solve(ff, Dff, soln.y.T[-1])\n",
    "    \n",
    "    # now put the root values into the pvars so can find eccentricities\n",
    "    y0 = ct_all.old_to_new_array(pvars.values)\n",
    "    y0[indices] = root\n",
    "    pvars.values = ct_all.new_to_old_array(y0)\n",
    "    \n",
    "    # record e1, e2 at equilibrium\n",
    "    sample_e1_eq[i] = pvars.particles[1].e\n",
    "    sample_e2_eq[i] = pvars.particles[2].e\n",
    "    \n",
    "    # record D, K values for that point in the posterior distribution\n",
    "    sample_Ds[i] = D_val\n",
    "    sample_Ks[i] = D_to_K(fullflow, list(root) + [D_val])\n",
    "    \n",
    "    # REBOUND integration\n",
    "    for j, t in enumerate(sample_times):\n",
    "        # integrate\n",
    "        sim.integrate(t)\n",
    "        \n",
    "        # record periods, eccentricities and libration angles\n",
    "        sample_p1[i][j] = inner.P\n",
    "        sample_p2[i][j] = outer.P\n",
    "        \n",
    "        sample_e1[i][j] = inner.e\n",
    "        sample_e2[i][j] = outer.e\n",
    "        \n",
    "        # mean longitude angle\n",
    "        resonant_angle = 3 * outer.l - 2 * inner.l\n",
    "        sample_theta1[i][j] = np.mod(resonant_angle - inner.pomega, 2 * np.pi)\n",
    "        sample_theta2[i][j] = np.mod(resonant_angle - outer.pomega, 2 * np.pi)"
   ]
  },
  {
   "cell_type": "code",
   "execution_count": null,
   "metadata": {},
   "outputs": [],
   "source": [
    "num = 50\n",
    "\n",
    "plt.figure(figsize = (12, 8))\n",
    "plt.plot(sample_times, sample_e1[num], label = r'$e_1$')\n",
    "plt.plot(sample_times, sample_e2[num], label = r'$e_2$')\n",
    "plt.axhline(sample_e1_eq[num], color='k')#, label = r'$e_1$')\n",
    "plt.axhline(sample_e2_eq[num], color='k')#, label = r'$e_2$')\n",
    "plt.legend()\n",
    "sample_Ks[num]"
   ]
  },
  {
   "cell_type": "code",
   "execution_count": null,
   "metadata": {},
   "outputs": [],
   "source": [
    "plt.plot(sample_times, sample_p2[0]/sample_p1[0])"
   ]
  },
  {
   "cell_type": "code",
   "execution_count": null,
   "metadata": {},
   "outputs": [],
   "source": [
    "plt.plot(sample_times, sample_theta1[0], 'o')\n",
    "plt.plot(sample_times, sample_theta2[0], 'o')\n",
    "plt.xlim(50000, 100000)"
   ]
  },
  {
   "cell_type": "code",
   "execution_count": null,
   "metadata": {},
   "outputs": [],
   "source": []
  },
  {
   "cell_type": "markdown",
   "metadata": {},
   "source": [
    "Plot eccentricities:"
   ]
  },
  {
   "cell_type": "code",
   "execution_count": null,
   "metadata": {},
   "outputs": [],
   "source": [
    "plt.figure(figsize = (12, 8))\n",
    "for i in range(0, n):\n",
    "    plt.plot(sample_times, sample_e1[i], color='r', label = 'e1' if i == 0 else '')\n",
    "    plt.plot(sample_times, sample_e2[i], color='k', label = 'e2' if i == 0 else '')\n",
    "plt.xlabel('Time'), plt.ylabel('Eccentricity')\n",
    "plt.legend()\n",
    "# plt.show()"
   ]
  },
  {
   "cell_type": "markdown",
   "metadata": {},
   "source": [
    "Period ratios:"
   ]
  },
  {
   "cell_type": "code",
   "execution_count": null,
   "metadata": {},
   "outputs": [],
   "source": [
    "plt.figure(figsize = (12, 8))\n",
    "for i in range(0, n):\n",
    "    pr = sample_p2[i]/sample_p1[i]\n",
    "    plt.plot(sample_times, pr)#, color='r')\n",
    "plt.xlabel('Time'), plt.ylabel('Period ratio')\n",
    "# plt.legend()"
   ]
  },
  {
   "cell_type": "markdown",
   "metadata": {},
   "source": [
    "And libration angles:"
   ]
  },
  {
   "cell_type": "code",
   "execution_count": null,
   "metadata": {},
   "outputs": [],
   "source": [
    "plt.figure(figsize = (12, 8))\n",
    "for i in range(0, n):\n",
    "    plt.plot(sample_times, sample_theta1[i], 'o', color='r', label = r'$\\theta_1$' if i == 0 else '')\n",
    "    plt.plot(sample_times, sample_theta2[i], 'o', color='k', label = r'$\\theta_2$' if i == 0 else '')\n",
    "plt.xlabel('Time'), plt.ylabel(r'$\\theta$')\n",
    "plt.legend()"
   ]
  },
  {
   "cell_type": "code",
   "execution_count": null,
   "metadata": {},
   "outputs": [],
   "source": []
  }
 ],
 "metadata": {
  "kernelspec": {
   "display_name": "Python 3",
   "language": "python",
   "name": "python3"
  },
  "language_info": {
   "codemirror_mode": {
    "name": "ipython",
    "version": 3
   },
   "file_extension": ".py",
   "mimetype": "text/x-python",
   "name": "python",
   "nbconvert_exporter": "python",
   "pygments_lexer": "ipython3",
   "version": "3.8.10"
  }
 },
 "nbformat": 4,
 "nbformat_minor": 5
}
