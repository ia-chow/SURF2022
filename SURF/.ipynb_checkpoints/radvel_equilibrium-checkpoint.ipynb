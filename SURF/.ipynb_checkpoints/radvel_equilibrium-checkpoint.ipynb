{
 "cells": [
  {
   "cell_type": "code",
   "execution_count": 1,
   "metadata": {},
   "outputs": [],
   "source": [
    "import radvel\n",
    "import numpy as np\n",
    "import rebound as rb\n",
    "import matplotlib.pyplot as plt\n",
    "import celmech as cm\n",
    "import pandas as pd\n",
    "import h5py"
   ]
  },
  {
   "cell_type": "markdown",
   "metadata": {},
   "source": [
    "Set up model using $K_1$, $\\frac{m_2}{m_1}$, $e_1$, $\\omega_1$, $\\dot{\\omega}$, $P_1$, $\\lambda_1$ or $M_1$:"
   ]
  },
  {
   "cell_type": "code",
   "execution_count": 2,
   "metadata": {},
   "outputs": [],
   "source": [
    "hd_data = pd.read_csv('hd45364_rvs.csv', sep = ';')\n",
    "hd_data.BJD -= 2.4e6\n",
    "\n",
    "cluster_data = h5py.File('hd_mcmc_cluster.h5', 'r')  # import the posterior distribution data from the cluster\n",
    "accepted, samples, log_prob = np.array(cluster_data['mcmc']['accepted']), np.array(cluster_data['mcmc']['chain']), np.array(cluster_data['mcmc']['log_prob'])\n",
    "\n",
    "n_burn_in = 200  # discard the first 200 samples as burn-in time\n",
    "# reshape the chain to flatten it out\n",
    "flat_samples = samples[n_burn_in:].reshape(-1, samples[n_burn_in:].shape[-1])"
   ]
  },
  {
   "cell_type": "markdown",
   "metadata": {},
   "source": [
    "Model -- use RV model in equilibrium. First find the constant $c$ in $\\frac{e_1}{e_2} = c \\times \\frac{m_2}{m_1}$, using the `REBOUNDx` eccentricity track simulations:"
   ]
  },
  {
   "cell_type": "code",
   "execution_count": 3,
   "metadata": {},
   "outputs": [],
   "source": [
    "nsims = 100\n",
    "Ks_orig = np.logspace(0, 5, nsims)\n",
    "ecc_sims_location = 'hd_max_mass'\n",
    "# initialize c array\n",
    "cs = np.zeros(len(Ks_orig))\n",
    "\n",
    "for i in range(0, len(Ks_orig)):\n",
    "    ecc_sim = rb.Simulation(f'{ecc_sims_location}/ecc_track_archive_cluster_{i}.bin')  # get the ith eccentricity simulation from the ecc sims folder\n",
    "    inner = ecc_sim.particles[1]\n",
    "    outer = ecc_sim.particles[2]\n",
    "    # print(inner.m, outer.m)\n",
    "    cs[i] = (inner.e * inner.m)/(outer.e * outer.m)  # compute c by rearranging"
   ]
  },
  {
   "cell_type": "code",
   "execution_count": 4,
   "metadata": {},
   "outputs": [
    {
     "data": {
      "text/latex": [
       "$\\displaystyle 0.906796329356936$"
      ],
      "text/plain": [
       "0.9067963293569362"
      ]
     },
     "execution_count": 4,
     "metadata": {},
     "output_type": "execute_result"
    }
   ],
   "source": [
    "np.median(cs)"
   ]
  },
  {
   "cell_type": "code",
   "execution_count": 5,
   "metadata": {},
   "outputs": [
    {
     "data": {
      "text/plain": [
       "(array([ 1.,  4.,  2.,  3.,  2.,  3., 10., 29., 31., 15.]),\n",
       " array([0.19111961, 0.28128896, 0.37145831, 0.46162766, 0.55179701,\n",
       "        0.64196636, 0.73213571, 0.82230506, 0.91247441, 1.00264376,\n",
       "        1.09281311]),\n",
       " <BarContainer object of 10 artists>)"
      ]
     },
     "execution_count": 5,
     "metadata": {},
     "output_type": "execute_result"
    },
    {
     "data": {
      "image/png": "[encoded data removed]",
      "text/plain": [
       "<Figure size 432x288 with 1 Axes>"
      ]
     },
     "metadata": {
      "needs_background": "light"
     },
     "output_type": "display_data"
    }
   ],
   "source": [
    "plt.hist(cs)"
   ]
  },
  {
   "cell_type": "markdown",
   "metadata": {},
   "source": [
    "Create rv"
   ]
  },
  {
   "cell_type": "code",
   "execution_count": 6,
   "metadata": {},
   "outputs": [],
   "source": [
    "#Least squares fit: \n",
    "fit_params = [ 2.28513053e+02, 7.27743508e+00, 5.39371890e+04, -1.78110513e-01, \n",
    "              -4.66450116e-02, 3.43378023e+02, 1.78603199e+01, 5.40186750e+04,\n",
    "               1.32165040e-01, 9.73129308e-02, -5.29039776e-01] \n",
    "\n",
    "# star mass, g and auday to m/s conversion factor\n",
    "STAR_MASS = 920  # 920 jupiter masses\n",
    "G = 2.825e-7  # converting G to jupiter masses, au, and days\n",
    "AUDAY_MS = 1.731e6  # conversion factor to convert from au/day --> m/s\n",
    "\n",
    "def mass_to_semiamp(planet_mass, star_mass, period, eccentricity, inclination):\n",
    "    \"\"\"\n",
    "    planet mass (jupiter masses) to semi amplitude (in au/day)\n",
    "    \"\"\"\n",
    "    return ((2 * np.pi * G/period) ** (1/3) * (planet_mass * np.sin(inclination) / star_mass ** (2/3)) * (1/np.sqrt(1 - eccentricity ** 2)))\n",
    "\n",
    "def semiamp_to_mass(semiamp, star_mass, period, eccentricity, inclination):\n",
    "    \"\"\"\n",
    "    semi amplitude (in au/day) to planet mass (jupiter masses)\n",
    "    \"\"\"\n",
    "    return (((2 * np.pi * G/period) ** (-1/3)) * (semiamp / np.sin(inclination)) * np.sqrt(1 - eccentricity ** 2) * (star_mass ** (2/3)))\n",
    "\n",
    "\n",
    "def get_sim_from_params(params, inclination, integrator, time_base, star_mass = STAR_MASS, auday_ms = AUDAY_MS):\n",
    "    \"\"\"\n",
    "    takes in params array, returns a rebound Simulation object with those parameters\n",
    "    \n",
    "    param params: numpy array of params:\n",
    "    \n",
    "    for i in range(0, num_planets):\n",
    "    \n",
    "    params[i + 0] is period\n",
    "    params[i + 1] is semiamp\n",
    "    params[i + 2] is tc (time of conjunction)\n",
    "    params[i + 3] is sqrt(e) * cos(omega)\n",
    "    params[i + 4] is sqrt(e) * sin(omega)\n",
    "    \n",
    "    params[5 * num_planets] is rv offset\n",
    "    params[5 * num_planets + 1] is jit\n",
    "    \n",
    "    param inclination: inclination of system in the observation plane (pi/2 is in the plane of the sky, 0 is edge-on)\n",
    "    param integrator: integrator to use, one of 'whfast' or 'ias15'\n",
    "    param time_base: base time (to begin integration from) in the simulation\n",
    "    \"\"\"\n",
    "    \n",
    "    num_planets = int((len(params) - 1) / 5) # -2 because there are rv_offset and jit parameters:\n",
    "    \n",
    "    sim = rb.Simulation()\n",
    "    sim.integrator = integrator\n",
    "    sim.t = time_base  # keplerian and n-body models initialized at the same time offset\n",
    "    # print(sim.t)\n",
    "    if integrator == 'whfast':  # if using whfast integrator, set timestep\n",
    "        sim.dt = 1/50 * min(params[0::5][:-1])  # timestep is 1/20th of the shortest orbital period of any planet\n",
    "        # print(sim.dt)\n",
    "    sim.units = ('AU', 'Mjupiter', 'day')\n",
    "\n",
    "    sim.add(m = star_mass)  # star mass as a constant\n",
    "        \n",
    "    for i in range (0, num_planets):\n",
    "        # print(i)\n",
    "        # planet parameters\n",
    "        period = params[5*i]  # in days\n",
    "        semiamp = params[5*i + 1] / auday_ms # divide by auday_ms because semiamp given in m/s\n",
    "        eccentricity = params[5*i + 3] ** 2 + params[5*i + 4] ** 2  # eccentricity from secos, sesin\n",
    "        omega = np.arctan2(params[5*i + 4], params[5*i + 3])  # omega from arctan of sesin, secos  (in that order!)\n",
    "        # get tp by converting from tc\n",
    "        tp = radvel.orbit.timetrans_to_timeperi(params[5*i + 2], per = period, ecc = eccentricity, omega = omega)\n",
    "        \n",
    "        # mass\n",
    "        mass = semiamp_to_mass(semiamp = semiamp, star_mass = star_mass, period = period, eccentricity = eccentricity, inclination = inclination)\n",
    "        \n",
    "        # adding to simulation\n",
    "        sim.add(m = mass, P = period, e = eccentricity, T = tp, omega = omega, inc = inclination)\n",
    "        \n",
    "    sim.move_to_com()  # move to center of mass\n",
    "    \n",
    "    return sim\n",
    "\n",
    "def get_simple_sim(masses, integrator = 'ias15', period_ratio = 3/2, epsilon=0.01):\n",
    "    \"\"\"\n",
    "    gets simple sim (for eccentricity track stuff)\n",
    "    param masses: array of planet masses\n",
    "    param integrator: integrator\n",
    "    param epsilon: amount by which the resonant period ratio should be offset from the equilibrium in the simulation\n",
    "    \"\"\"\n",
    "    sim = rb.Simulation()\n",
    "    sim.integrator = integrator\n",
    "    # central star\n",
    "    sim.add(m = 1)\n",
    "    \n",
    "    sim.add(m = masses[0], P = 1)\n",
    "    sim.add(m = masses[1], P = period_ratio * (1 + epsilon))\n",
    "\n",
    "    sim.move_to_com()\n",
    "    if integrator == 'whfast':\n",
    "        sim.dt = 1/50 * 1  # dy default use 1/50th of the inner planet's orbital period for the timestep if using whfast\n",
    "    return sim\n",
    "\n",
    "\n",
    "def get_rvs(params, inclination, times, integrator, time_base, auday_ms = AUDAY_MS):\n",
    "    \n",
    "    \"\"\"\n",
    "    Gets RVs from a Numpy array of planet params\n",
    "    \n",
    "    param params:     for i in range(0, num_planets):\n",
    "    \n",
    "    params[i + 0] is period\n",
    "    params[i + 1] is semiamp\n",
    "    params[i + 2] is tc (time of conjunction)\n",
    "    params[i + 3] is sqrt(e) * cos(omega)\n",
    "    params[i + 4] is sqrt(e) * sin(omega)\n",
    "    \n",
    "    params[5 * num_planets] is rv offset\n",
    "    \n",
    "    param inclination: inclination of system in the observation plane (pi/2 is in the plane of the sky, 0 is edge-on)\n",
    "    param times: array of times to integrate over\n",
    "    param integrator: integrator to use, one of 'whfast' or 'ias15'\n",
    "    \n",
    "    \"\"\"\n",
    "    \n",
    "    sim = get_sim_from_params(params, inclination, integrator, time_base = time_base)\n",
    "    \n",
    "    sim_backwards = sim.copy()\n",
    "    sim_backwards.dt *= -1  # set timestep to be negative if integrating backwards\n",
    "    \n",
    "    forward_times = np.array(list(filter(lambda x: x - time_base >= 0, times)))\n",
    "    backward_times = np.array(list(filter(lambda x: x - time_base < 0, times)))\n",
    "    \n",
    "    # initialize rvs\n",
    "    rv_forward = np.zeros(len(forward_times))\n",
    "    rv_backward = np.zeros(len(backward_times))\n",
    "    \n",
    "    num_planets = int((len(params) - 1) / 5)  # find number of planets in params passed\n",
    "    \n",
    "    # get the rvs (z velocity, assuming 90 deg inclination) from the rebound simulation to compare with the actual simulation\n",
    "    for i, t in enumerate(forward_times):\n",
    "        sim.integrate(t, exact_finish_time = 1)\n",
    "        # integrate to the specified time, exact_finish_time = 1 for ias15, \n",
    "        # sim.status()\n",
    "        star = sim.particles[0]\n",
    "        rv_forward[i] = (-star.vz * auday_ms) + params[5 * num_planets]  # use x-velocity of the star as the radial velocity, convert to m/s\n",
    "    \n",
    "    for i, t in enumerate(backward_times):\n",
    "        sim_backwards.integrate(t, exact_finish_time = 1)\n",
    "        star = sim_backwards.particles[0]\n",
    "        rv_backward[i] = (-star.vz * auday_ms) + params[5 * num_planets]\n",
    "    \n",
    "    return np.concatenate((rv_backward, rv_forward))"
   ]
  },
  {
   "cell_type": "markdown",
   "metadata": {},
   "source": [
    "Parameters ($K_1, \\frac{m_2}{m_1}, e_1, \\omega_1, \\dot\\omega, P_1, \\lambda_1$ or $M_1$):"
   ]
  },
  {
   "cell_type": "code",
   "execution_count": 7,
   "metadata": {},
   "outputs": [],
   "source": [
    "test_samp = flat_samples[2000]"
   ]
  },
  {
   "cell_type": "code",
   "execution_count": 8,
   "metadata": {},
   "outputs": [],
   "source": [
    "# test parameters\n",
    "time_base = np.median(hd_data.BJD)\n",
    "fit_sim = get_sim_from_params(fit_params, inclination = np.pi/2, integrator = 'ias15', time_base = time_base)\n",
    "# 7 parameters\n",
    "k1 = test_samp[1]# /AUDAY_MS  # k1\n",
    "e1 = test_samp[3] ** 2 + test_samp[4] ** 2  # e1\n",
    "p1 = test_samp[0]  # p1\n",
    "Tprecess = 50 * p1\n",
    "m2_m1 = fit_sim.particles[2].m/fit_sim.particles[1].m\n",
    "omega1 = np.arctan2(test_samp[3], test_samp[4])\n",
    "# use from the precessingrvsignal notebook\n",
    "omegadot = 2 * np.pi /Tprecess  # omegadot = omegadot1 = omegadot2\n",
    "tp1 = radvel.orbit.timetrans_to_timeperi(test_samp[2], per = p1, ecc = e1, omega = omega1)\n",
    "# and the constant c, using the median as the constant\n",
    "c = 1.07\n",
    "\n",
    "# compute tihngs needed\n",
    "\n",
    "# compute m1 from K1 and e1 using semiamp_to_mass\n",
    "m1 = semiamp_to_mass(semiamp = k1/AUDAY_MS, star_mass = STAR_MASS, period = p1, eccentricity = e1, inclination = np.pi/2)\n",
    "# compute m2 using m1 and m2/m1 as a parameter\n",
    "m2 = m2_m1 * m1\n",
    "# compute e2 using e1, m1, m2\n",
    "e2 = (e1 * m1)/(c * m2)\n",
    "# compute p2 usng omegadot, since thetadot1 = thetadot2 = 0\n",
    "p2 = (3 * np.pi * p1)/(2 * np.pi + p1 * omegadot)  # rearrange the equation\n",
    "# compute K2 using m2, e2, and p2\n",
    "k2 = mass_to_semiamp(planet_mass = m2, star_mass = STAR_MASS, period = p2, eccentricity = e2, inclination=np.pi/2) * AUDAY_MS\n",
    "# compute omega2 as omega1 + pi\n",
    "omega2 = omega1 + np.pi\n",
    "# compute mean anomalies M1, M2\n",
    "\n",
    "\n",
    "\n",
    "# TODO:\n",
    "# convert tp to lambda, and compute lambda1 and lambda2\n",
    "# also compute theta1 and 2 as well (note that theta1 = theta2 + (either 0 or pi))"
   ]
  },
  {
   "cell_type": "code",
   "execution_count": 9,
   "metadata": {},
   "outputs": [
    {
     "data": {
      "text/latex": [
       "$\\displaystyle \\left( 53827.0577426155, \\  54024.829734943\\right)$"
      ],
      "text/plain": [
       "(53827.057742615485, 54024.829734942985)"
      ]
     },
     "execution_count": 9,
     "metadata": {},
     "output_type": "execute_result"
    }
   ],
   "source": [
    "tp1, radvel.orbit.timetrans_to_timeperi(test_samp[7], per = p2, ecc = e2, omega = omega2)  # tp1 and tp2 values"
   ]
  },
  {
   "cell_type": "code",
   "execution_count": 10,
   "metadata": {},
   "outputs": [],
   "source": [
    "def get_mean_anomaly(t, period, tp):\n",
    "    \"\"\"\n",
    "    Gets mean anomaly at a specified time t, given the period P of the planet and the time of pericenter passage tp\n",
    "    \n",
    "    Mean anomaly is in radians\n",
    "    \"\"\"\n",
    "    return ((2 * np.pi)/period) * (t - tp)\n",
    "    "
   ]
  },
  {
   "cell_type": "markdown",
   "metadata": {},
   "source": [
    "Compare fit params and this:"
   ]
  },
  {
   "cell_type": "code",
   "execution_count": 11,
   "metadata": {},
   "outputs": [
    {
     "data": {
      "text/latex": [
       "$\\displaystyle \\left[ 228.513053, \\  7.27743508, \\  53937.189, \\  -0.178110513, \\  -0.0466450116, \\  343.378023, \\  17.8603199, \\  54018.675, \\  0.13216504, \\  0.0973129308, \\  -0.529039776\\right]$"
      ],
      "text/plain": [
       "[228.513053, 7.27743508, 53937.189, -0.178110513, -0.0466450116, 343.378023, 1\n",
       "7.8603199, 54018.675, 0.13216504, 0.0973129308, -0.529039776]"
      ]
     },
     "execution_count": 11,
     "metadata": {},
     "output_type": "execute_result"
    }
   ],
   "source": [
    "fit_params  # p1, k1, tc1, sqrt(e1) * cos(omega1), sqrt(e1) * sin(omega1) and same for 2, plus rv offset at the end"
   ]
  },
  {
   "cell_type": "code",
   "execution_count": 12,
   "metadata": {},
   "outputs": [
    {
     "data": {
      "text/latex": [
       "$\\displaystyle \\left( 228.570446529609, \\  7.30502671011322, \\  0.0239883168510479, \\  0.201526526564504, \\  336.133009602366, \\  18.0566440273268, \\  0.00797368773648097, \\  0.566616209695768\\right)$"
      ],
      "text/plain": [
       "(228.57044652960857, 7.305026710113224, 0.023988316851047867, 0.20152652656450\n",
       "432, 336.1330096023656, 18.056644027326843, 0.007973687736480968, 0.5666162096\n",
       "957676)"
      ]
     },
     "execution_count": 12,
     "metadata": {},
     "output_type": "execute_result"
    }
   ],
   "source": [
    "p1, k1, e1, m1, p2, k2, e2, m2"
   ]
  },
  {
   "cell_type": "code",
   "execution_count": 13,
   "metadata": {},
   "outputs": [],
   "source": [
    "# ?get_sim_from_params"
   ]
  },
  {
   "cell_type": "code",
   "execution_count": 14,
   "metadata": {},
   "outputs": [],
   "source": [
    "\n",
    "# radvel.kepler.rv_drive(p1, )"
   ]
  },
  {
   "cell_type": "code",
   "execution_count": 15,
   "metadata": {},
   "outputs": [],
   "source": [
    "import sympy as sp\n",
    "\n",
    "l1, l2, omegai = sp.symbols('lambda1, lambda2, omega_i')\n",
    "thetai = sp.symbols('theta_i')\n",
    "M1, M2, p1, p2, t, Tp1, Tp2 = sp.symbols('M1, M2, p1, p2, t, Tp1, Tp2')\n",
    "omega1, omega2 = sp.symbols('omega1, omega2')\n",
    "\n",
    "n = 0\n",
    "\n",
    "# resonant angle equation\n",
    "thetai = 3 * l2 - 2 * l1 - omegai\n",
    "# rearranging Mi = lambdai - omegai and substituting in\n",
    "thetai = thetai.subs([(l1, M1 + omega1), (l2, M2 + omega2 - n * (2/3 * np.pi))])\n",
    "# then substitute M = 2pi/P (t - Tp) for both\n",
    "thetai = thetai.subs([(M1, (2 * np.pi)/p1 * (time_base - Tp1)), (M2, (2 * np.pi)/p2 * (time_base - Tp2))])\n",
    "# substitute t = 0 since it doesn't matter, and then omegai = omega2 here, and omega1 = omega2 + pi) \n",
    "thetai = thetai.subs([(t, 0), (omegai, omega2), (omega1, omega2 + np.pi)])\n",
    "# finally solve for Tp2 in terms of Tp1, p1 and p2:\n",
    "tp2_expr = sp.solve(thetai, Tp2)[0]"
   ]
  },
  {
   "cell_type": "code",
   "execution_count": 16,
   "metadata": {},
   "outputs": [
    {
     "data": {
      "text/latex": [
       "$\\displaystyle \\left( \\frac{4.24413181578387 \\cdot 10^{-24} \\left(1.5707963267949 \\cdot 10^{23} Tp_{1} p_{2} + p_{1} \\left(1.2830127289518 \\cdot 10^{28} - 7.85398163397449 \\cdot 10^{22} p_{2}\\right) - 8.553418193012 \\cdot 10^{27} p_{2}\\right)}{p_{1}}, \\  53711.7920324578\\right)$"
      ],
      "text/plain": [
       "⎛4.24413181578387e-24⋅(1.5707963267949e+23⋅Tp₁⋅p₂ + p₁⋅(1.2830127289518e+28 - \n",
       "⎜─────────────────────────────────────────────────────────────────────────────\n",
       "⎝                                                              p₁             \n",
       "\n",
       "7.85398163397449e+22⋅p₂) - 8.553418193012e+27⋅p₂)                  ⎞\n",
       "─────────────────────────────────────────────────, 53711.7920324578⎟\n",
       "                                                                   ⎠"
      ]
     },
     "execution_count": 16,
     "metadata": {},
     "output_type": "execute_result"
    }
   ],
   "source": [
    "tp2_expr, tp2_expr.subs([(p1, test_samp[0]), (p2, test_samp[5]), (Tp1, 53827)])  # tp2 should be 54024"
   ]
  },
  {
   "cell_type": "code",
   "execution_count": 17,
   "metadata": {},
   "outputs": [
    {
     "data": {
      "text/latex": [
       "$\\displaystyle 53894.1163461999$"
      ],
      "text/plain": [
       "53894.11634619993"
      ]
     },
     "execution_count": 17,
     "metadata": {},
     "output_type": "execute_result"
    }
   ],
   "source": [
    "0 - (2 * test_samp[5])/(3 * test_samp[0]) * (0 - 53827)"
   ]
  },
  {
   "cell_type": "code",
   "execution_count": 18,
   "metadata": {},
   "outputs": [
    {
     "data": {
      "text/plain": [
       "array([ 2.28570447e+02,  7.30502671e+00,  5.39365326e+04, -1.53652046e-01,\n",
       "        1.94773112e-02,  3.43283173e+02,  1.78184523e+01,  5.40181909e+04,\n",
       "        1.43601538e-01,  1.11396398e-01, -6.68446640e-01])"
      ]
     },
     "execution_count": 18,
     "metadata": {},
     "output_type": "execute_result"
    }
   ],
   "source": [
    "test_samp"
   ]
  },
  {
   "cell_type": "markdown",
   "metadata": {},
   "source": [
    "Need $P_1, T_{p1}, e_1, \\omega_1, K_1$ explicitly, and implement $\\dot\\omega$ in the same way in the precessing rv signal notebook ($12$ parameters) to build the `radvel.kepler.rv_drive()` forward model"
   ]
  },
  {
   "cell_type": "markdown",
   "metadata": {},
   "source": [
    "Write a function that returns an RV signal for a given set of 7 parameters assuming equilibrium:"
   ]
  },
  {
   "cell_type": "code",
   "execution_count": 19,
   "metadata": {},
   "outputs": [],
   "source": [
    "time_base = np.median(hd_data.BJD)"
   ]
  },
  {
   "cell_type": "code",
   "execution_count": 74,
   "metadata": {},
   "outputs": [],
   "source": [
    "def get_rv_signal_equilibrium(times, params, c, time_base):\n",
    "    \"\"\"\n",
    "    Gets an RV signal under the equilibrium constraints using the radvel.kepler.rv_drive() function\n",
    "    for a set of 7 equilibrium parameters as well as the constant c in the equation e1/e2 = c * m2/m1,\n",
    "    and the base time time_base\n",
    "    \n",
    "    Params are in the order K1, m2/m1, e1, omega1, omegadot, P1, Tp1, rv_offset\n",
    "    \n",
    "    k1: semi-amplitude of the inner planet, in m/s\n",
    "    m2/m1: ratio of outer planet to inner planet's mass, dimensionless\n",
    "    e1: eccentricity of inner planet, dimensionless\n",
    "    omega1: argument of pericenter of inner planet, radians\n",
    "    omegadot: rate of precession (omegadot = omegadot_1 = omegadot_2), UNITS\n",
    "    p1: period of inner planet, days\n",
    "    tp1: time of pericenter passage of inner planet\n",
    "    rv_offset: rv offset of star, in m/s\n",
    "    \n",
    "    return tuple of keplerian and rebound rvs, both generated using the set of parameters passed, and the rebound params used\n",
    "    to generate the simulation\n",
    "    \n",
    "    kep_rvs: keplerian forward model (using radvel.kepler.rv_drive() function) rvs, m/s\n",
    "    rb_rvs: rebound rvs, m/s\n",
    "    rb_params: parameters used to generate the rebound simulation (for the rvs)\n",
    "    \"\"\"\n",
    "    k1, m2m1, e1, omega1, omegadot, p1, tp1, rv_offset = params  # params are in this order\n",
    "    # compute m1 from K1 and e1 using semiamp_to_mass\n",
    "    # divide the semi amplitude by auday_ms since it is given in m/s and semiamp_to_mass takes it in au/day\n",
    "    m1 = semiamp_to_mass(semiamp = k1/AUDAY_MS, star_mass = STAR_MASS, period = p1, eccentricity = e1, inclination = np.pi/2)\n",
    "    # compute m2 using m1 and m2/m1 as a parameter\n",
    "    m2 = m2m1 * m1\n",
    "    # compute e2 using e1, m1, m2 and the constant c\n",
    "    e2 = (e1 * m1)/(c * m2)\n",
    "    # compute p2 usng omegadot, since thetadot1 = thetadot2 = 0\n",
    "    p2 = (3 * np.pi * p1)/(2 * np.pi + p1 * omegadot)  # rearrange the equation\n",
    "    # compute K2 using m2, e2, and p2\n",
    "    # multiply the resulting semi amplitude by auday_ms to get into m/s since mass_to_semiamp returns it in au/day\n",
    "    k2 = mass_to_semiamp(planet_mass = m2, star_mass = STAR_MASS, period = p2, eccentricity = e2, inclination=np.pi/2) * AUDAY_MS\n",
    "    # compute omega2 as omega1 + pi\n",
    "    omega2 = omega1 + np.pi\n",
    "    # finally compute Tp2\n",
    "    tp2 = time_base - p2/2 - (2/3) * (p2/p1) * (time_base - tp1)\n",
    "    # then put these into the radvel.kepler.rv_drive() function:\n",
    "    # p1, tp1, e1, omega1, k1, plus omegadot implemented using list comprehension and adding t * omegadot to omega1\n",
    "    inner_signal = np.array([radvel.kepler.rv_drive(np.array([t]), [p1, tp1, e1, omega1 + t * omegadot, k1]) for t in times]).reshape(-1)\n",
    "    # same for outer\n",
    "    outer_signal = np.array([radvel.kepler.rv_drive(np.array([t]), [p2, tp2, e2, omega2 + t * omegadot, k2]) for t in times]).reshape(-1)\n",
    "    # return the sum of the two signals (since it's keplerian), plus the constant rv offset\n",
    "    kep_rvs = inner_signal + outer_signal + rv_offset\n",
    "    # now generate rvs from rebound using these parameters and a couple others\n",
    "    # time of conjunction\n",
    "    tc1 = radvel.orbit.timeperi_to_timetrans(tp1, p1, e1, omega1)\n",
    "    tc2 = radvel.orbit.timeperi_to_timetrans(tp2, p2, e2, omega2)\n",
    "    # sesin and secos\n",
    "    secos1, sesin1 = np.sqrt(e1) * np.array([np.cos(omega1), np.sin(omega1)])\n",
    "    secos2, sesin2 = np.sqrt(e2) * np.array([np.cos(omega2), np.sin(omega2)])\n",
    "    # rebound parameters\n",
    "    rb_params = [p1, k1, tc1, secos1, sesin1, p2, k2, tc2, secos2, sesin2, rv_offset]\n",
    "    # get rvs using this\n",
    "    rb_rvs = get_rvs(rb_params, inclination = np.pi/2, times= times, integrator = 'ias15', time_base = time_base)\n",
    "    # return keplerian rvs, rebound rvs and the parameters used to generate the simulation as a 3-tuple\n",
    "    return kep_rvs, rb_rvs, rb_params\n",
    "    "
   ]
  },
  {
   "cell_type": "markdown",
   "metadata": {},
   "source": [
    "Use parameters from the best-fit value from the least-squares (or posterior):"
   ]
  },
  {
   "cell_type": "code",
   "execution_count": 75,
   "metadata": {},
   "outputs": [
    {
     "data": {
      "text/latex": [
       "$\\displaystyle \\left[ 228.513053, \\  7.27743508, \\  53937.189, \\  -0.178110513, \\  -0.0466450116, \\  343.378023, \\  17.8603199, \\  54018.675, \\  0.13216504, \\  0.0973129308, \\  -0.529039776\\right]$"
      ],
      "text/plain": [
       "[228.513053, 7.27743508, 53937.189, -0.178110513, -0.0466450116, 343.378023, 1\n",
       "7.8603199, 54018.675, 0.13216504, 0.0973129308, -0.529039776]"
      ]
     },
     "execution_count": 75,
     "metadata": {},
     "output_type": "execute_result"
    }
   ],
   "source": [
    "fit_params"
   ]
  },
  {
   "cell_type": "markdown",
   "metadata": {},
   "source": [
    "Also use these params to find the resonant libration angles:"
   ]
  },
  {
   "cell_type": "code",
   "execution_count": 88,
   "metadata": {},
   "outputs": [
    {
     "data": {
      "text/latex": [
       "$\\displaystyle \\left( \\left[ 7.27743508, \\  2.81162097791829, \\  0.0338991119482877, \\  3.39772837942249, \\  0, \\  228.513053, \\  54458.2584337937, \\  -0.529039776\\right], \\  1.07\\right)$"
      ],
      "text/plain": [
       "([7.277435079999999, 2.811620977918289, 0.033899111948287694, 3.39772837942249\n",
       "3, 0, 228.51305300000024, 54458.258433793715, -0.529039776], 1.07)"
      ]
     },
     "execution_count": 88,
     "metadata": {},
     "output_type": "execute_result"
    }
   ],
   "source": [
    "sim = get_sim_from_params(fit_params, inclination = np.pi/2, integrator = 'ias15', time_base = time_base)\n",
    "# inner, outer planets\n",
    "sim_inner = sim.particles[1]\n",
    "sim_outer = sim.particles[2]\n",
    "# generate tiem array\n",
    "times = np.linspace(time_base, time_base + sim_inner.P * 50, int(1e4))  # 50 orbital periods\n",
    "# use c from earlier, use time_base time_base, and use the parameters determined from sim:\n",
    "k1 = mass_to_semiamp(sim_inner.m, star_mass=STAR_MASS, period=sim_inner.P, eccentricity=sim_inner.e, inclination=np.pi/2) * AUDAY_MS  # semiamplitude for first\n",
    "m2m1 = sim_outer.m/sim_inner.m  # ratio of m2 to m1\n",
    "e1 = sim_inner.e  # eccentricity\n",
    "omega1 = sim_inner.omega  # omega\n",
    "omegadot = 0  # 2 * np.pi/(50 * sim_inner.P)  # just use 0 at first and then change this slowly i guess, should be very small\n",
    "p1 = sim_inner.P   # period\n",
    "tp1 = sim_inner.T  # time of pericenter passage\n",
    "rv_offset = fit_params[-1]\n",
    "\n",
    "# all seven parameters together:\n",
    "eq_model_params = [k1, m2m1, e1, omega1, omegadot, p1, tp1, rv_offset]\n",
    "eq_model_params, c"
   ]
  },
  {
   "cell_type": "markdown",
   "metadata": {},
   "source": [
    "Generate RV signal from equilibrium forward model, compare to a `REBOUND`-generated one:"
   ]
  },
  {
   "cell_type": "code",
   "execution_count": 102,
   "metadata": {},
   "outputs": [
    {
     "data": {
      "text/plain": [
       "(array([-25.46282672, -25.44644636, -25.42944257, ...,  -1.55885041,\n",
       "         -1.62581388,  -1.69255551]),\n",
       " array([-25.45136958, -25.43500121, -25.4180097 , ...,   1.1751237 ,\n",
       "          1.13585379,   1.09668223]))"
      ]
     },
     "execution_count": 102,
     "metadata": {},
     "output_type": "execute_result"
    }
   ],
   "source": [
    "times = np.linspace(time_base, time_base + fit_params[0] * 10, int(1e4))  # 10 times the inner planet's orbital period\n",
    "# equilibrum forward model and rebound rv model using c and time_base\n",
    "eq_rv_signal, rb_rv_signal, rb_params = get_rv_signal_equilibrium(times, eq_model_params, c, time_base)\n",
    "# rb_rv_signal = get_rvs(fit_params, np.pi/2, times, integrator='ias15', time_base = time_base)\n",
    "\n",
    "eq_rv_signal, rb_rv_signal"
   ]
  },
  {
   "cell_type": "markdown",
   "metadata": {},
   "source": [
    "Plot resonant angles using `rb_params`:"
   ]
  },
  {
   "cell_type": "code",
   "execution_count": 103,
   "metadata": {},
   "outputs": [
    {
     "data": {
      "text/latex": [
       "$\\displaystyle \\left[ 228.513053, \\  7.27743508, \\  54394.215106, \\  -0.178110513000001, \\  -0.0466450116, \\  342.7695795, \\  17.8655307567572, \\  54357.4061991705, \\  0.102687901345362, \\  0.0268927323197032, \\  -0.529039776\\right]$"
      ],
      "text/plain": [
       "[228.51305300000024, 7.277435079999999, 54394.215105999996, -0.178110513000001\n",
       "1, -0.046645011599999994, 342.76957950000036, 17.865530756757177, 54357.406199\n",
       "17049, 0.10268790134536171, 0.026892732319703166, -0.529039776]"
      ]
     },
     "execution_count": 103,
     "metadata": {},
     "output_type": "execute_result"
    }
   ],
   "source": [
    "rb_params"
   ]
  },
  {
   "cell_type": "code",
   "execution_count": 104,
   "metadata": {},
   "outputs": [],
   "source": [
    "theta1, theta2 = np.zeros(len(times)), np.zeros(len(times))\n",
    "sim = get_sim_from_params(rb_params, np.pi/2, 'ias15', time_base)\n",
    "inner = sim.particles[1]\n",
    "outer = sim.particles[2]\n",
    "# get the resonant angles \n",
    "for i, t in enumerate(times):\n",
    "     # integrate\n",
    "    sim.integrate(t)\n",
    "    # resonant angle\n",
    "    resonant_angle = 3 * outer.l - 2 * inner.l\n",
    "    # theta1 and 2 since theta1 and 2 are both 3lambda_2 - 2lambda_1 - pomega_1/2\n",
    "    theta1[i] = np.mod(resonant_angle - inner.pomega, 2 * np.pi)\n",
    "    theta2[i] = np.mod(resonant_angle - outer.pomega, 2 * np.pi)"
   ]
  },
  {
   "cell_type": "markdown",
   "metadata": {},
   "source": [
    "Plto:"
   ]
  },
  {
   "cell_type": "code",
   "execution_count": 105,
   "metadata": {},
   "outputs": [
    {
     "data": {
      "text/plain": [
       "<matplotlib.legend.Legend at 0x7fdb6a9b8c40>"
      ]
     },
     "execution_count": 105,
     "metadata": {},
     "output_type": "execute_result"
    },
    {
     "data": {
      "image/png": "[encoded data removed]",
      "text/plain": [
       "<Figure size 864x576 with 1 Axes>"
      ]
     },
     "metadata": {
      "needs_background": "light"
     },
     "output_type": "display_data"
    }
   ],
   "source": [
    "plt.figure(figsize = (12, 8))\n",
    "plt.scatter(times, theta1, label = r'$\\theta_1$')\n",
    "plt.scatter(times, theta2, label = r'$\\theta_2$')\n",
    "plt.axhline(y=2*np.pi, color='k')\n",
    "plt.axhline(y=np.pi, color='k')\n",
    "plt.xlabel('JD'), plt.ylabel(r'$\\theta$')\n",
    "plt.legend()"
   ]
  },
  {
   "cell_type": "markdown",
   "metadata": {},
   "source": [
    "Also plot RV signals to compare:"
   ]
  },
  {
   "cell_type": "code",
   "execution_count": 81,
   "metadata": {},
   "outputs": [
    {
     "data": {
      "image/png": "[encoded data removed]",
      "text/plain": [
       "<Figure size 1008x576 with 1 Axes>"
      ]
     },
     "metadata": {
      "needs_background": "light"
     },
     "output_type": "display_data"
    }
   ],
   "source": [
    "plt.figure(figsize = (14, 8))\n",
    "plt.rc('font', size = 16)\n",
    "# Keplerian RV signal generated by the equilibrium forward model\n",
    "plt.plot(times, eq_rv_signal, label = 'equilibrium')\n",
    "# n-body RV signal generated by REBOUND\n",
    "plt.plot(times, rb_rv_signal, label = 'REBOUND')\n",
    "# label\n",
    "plt.xlabel('BJD'), plt.ylabel('Radial velocity (m/s)')\n",
    "plt.legend()\n",
    "plt.show()"
   ]
  },
  {
   "cell_type": "code",
   "execution_count": 82,
   "metadata": {},
   "outputs": [
    {
     "data": {
      "text/plain": [
       "[<matplotlib.lines.Line2D at 0x7fdb6ac66340>]"
      ]
     },
     "execution_count": 82,
     "metadata": {},
     "output_type": "execute_result"
    },
    {
     "data": {
      "image/png": "[encoded data removed]",
      "text/plain": [
       "<Figure size 432x288 with 1 Axes>"
      ]
     },
     "metadata": {
      "needs_background": "light"
     },
     "output_type": "display_data"
    }
   ],
   "source": [
    "period = 10\n",
    "tp =1\n",
    "e = 0.5\n",
    "om = 2\n",
    "K = 10\n",
    "times = np.linspace(0,40,200)\n",
    "Tprecess = 50 * period\n",
    "# omegadot = 2 * np.pi /Tprecess\n",
    "\n",
    "rv_signal = radvel.kepler.rv_drive(times,[period,tp,e,om,K])\n",
    "\n",
    "secos, sesin = np.sqrt(e) * np.cos(om), np.sqrt(e) * np.sin(om)\n",
    "test_pars = [period, K, radvel.orbit.timeperi_to_timetrans(tp, period, e, om), secos, sesin, 0]\n",
    "\n",
    "plt.plot(times,rv_signal)\n",
    "plt.plot(times, get_rvs(test_pars, inclination=np.pi/2, times=times, integrator='ias15', time_base=0))"
   ]
  },
  {
   "cell_type": "code",
   "execution_count": 83,
   "metadata": {},
   "outputs": [
    {
     "data": {
      "text/latex": [
       "$\\displaystyle \\left( 1, \\  1.0\\right)$"
      ],
      "text/plain": [
       "(1, 1.0)"
      ]
     },
     "execution_count": 83,
     "metadata": {},
     "output_type": "execute_result"
    }
   ],
   "source": [
    "tp, radvel.orbit.timetrans_to_timeperi(radvel.orbit.timeperi_to_timetrans(tp, period, e, om), period, e, om)"
   ]
  },
  {
   "cell_type": "code",
   "execution_count": 84,
   "metadata": {},
   "outputs": [
    {
     "data": {
      "text/plain": [
       "(array([  7.09907301,   6.06821336,   4.31093564,   1.56798682,\n",
       "         -2.18971176,  -6.34083883,  -9.71066856, -11.56792166,\n",
       "        -12.07955012, -11.76427595, -11.03939384, -10.14669208,\n",
       "         -9.20859091,  -8.28259797,  -7.39358398,  -6.55052531,\n",
       "         -5.75483968,  -5.00449495,  -4.29602949,  -3.62553829,\n",
       "         -2.98914286,  -2.38320197,  -1.8043928 ,  -1.24972807,\n",
       "         -0.71654329,  -0.20247139,   0.29458634,   0.77648833,\n",
       "          1.24487778,   1.70120343,   2.14673543,   2.58257591,\n",
       "          3.00966349,   3.42877092,   3.84049424,   4.24523129,\n",
       "          4.64314592,   5.03411269,   5.41763386,   5.79271611,\n",
       "          6.15768759,   6.50992459,   6.84543867,   7.15824423,\n",
       "          7.43937399,   7.67531951,   7.84551925,   7.91825567,\n",
       "          7.84391584,   7.54408278,   6.89501212,   5.70780291,\n",
       "          3.72574022,   0.71346161,  -3.23269507,  -7.30118343,\n",
       "        -10.32311174, -11.80253452, -12.05872741, -11.60933662,\n",
       "        -10.82562996,  -9.91338694,  -8.97459771,  -8.05634027,\n",
       "         -7.1783683 ,  -6.3472037 ,  -5.56312368,  -4.82360224,\n",
       "         -4.12500081,  -3.46339018,  -2.83493804,  -2.23607848,\n",
       "         -1.6635725 ,  -1.11451545,  -0.58631982,  -0.07668837,\n",
       "          0.416415  ,   0.89479272,   1.36003761,   1.81355247,\n",
       "          2.25656468,   2.69013532,   3.11516206,   3.53237487,\n",
       "          3.94232273,   4.34534898,   4.74155127,   5.13072018,\n",
       "          5.51224756,   5.8849905 ,   6.24706925,   6.59556451,\n",
       "          6.92605881,   7.23193118,   7.50325444,   7.72504103,\n",
       "          7.87440642,   7.91592424,   7.79400491,   7.42067775,\n",
       "          6.65769685,   5.29776531,   3.07469984,  -0.20345745,\n",
       "         -4.28585579,  -8.19188389, -10.83461154, -11.96007314,\n",
       "        -11.99473305, -11.43433995, -10.6043241 ,  -9.67867639,\n",
       "         -8.74201285,  -7.83266077,  -6.96610647,  -6.14683754,\n",
       "         -5.37419751,  -4.64526819,  -3.95628346,  -3.30331312,\n",
       "         -2.68258114,  -2.09060043,  -1.52421621,  -0.98060526,\n",
       "         -0.45725535,   0.04806278,   0.53732432,   1.01227723,\n",
       "          1.47446516,   1.9252459 ,   2.36580462,   2.79716155,\n",
       "          3.22017314,   3.63552575,   4.04371979,   4.44504165,\n",
       "          4.83951896,   5.22685265,   5.60631577,   5.97660337,\n",
       "          6.33560911,   6.68008989,   7.00515583,   7.30348286,\n",
       "          7.56407629,   7.77029562,   7.89664862,   7.90353208,\n",
       "          7.7286239 ,   7.27326835,   6.38342839,   4.83360412,\n",
       "          2.35562813,  -1.1749788 ,  -5.32893786,  -8.99842415,\n",
       "        -11.24773939, -12.04946472, -11.89453045, -11.24324056,\n",
       "        -10.37746092,  -9.44349054,  -8.51123942,  -7.61170627,\n",
       "         -6.75682333,  -5.94939585,  -5.18800697,  -4.46943127,\n",
       "         -3.78981615,  -3.14524948,  -2.53201954,  -1.94672054,\n",
       "         -1.38628172,  -0.84796   ,  -0.32931662,   0.1718115 ,\n",
       "          0.65734035,   1.12896484,   1.58818061,   2.03630126,\n",
       "          2.47447025,   2.90366702,   3.32470643,   3.73823025,\n",
       "          4.1446886 ,   4.54430811,   4.93704223,   5.32249598,\n",
       "          5.69981435,   6.06751655,   6.42324902,   6.76341344,\n",
       "          7.08259914,   7.37270299,   7.62154172,   7.81062537,\n",
       "          7.91153165,   7.87995125,   7.64598441,   7.09907301]),\n",
       " array([  7.09970643,   6.0687548 ,   4.31132028,   1.56812672,\n",
       "         -2.18990714,  -6.34140459,  -9.711535  , -11.56895381,\n",
       "        -12.08062793, -11.76532562, -11.04037884, -10.14759743,\n",
       "         -9.20941256,  -8.28333699,  -7.39424367,  -6.55110978,\n",
       "         -5.75535316,  -5.00494148,  -4.2964128 ,  -3.62586178,\n",
       "         -2.98940956,  -2.38341462,  -1.8045538 ,  -1.24983957,\n",
       "         -0.71660722,  -0.20248945,   0.29461262,   0.77655761,\n",
       "          1.24498886,   1.70135522,   2.14692698,   2.58280634,\n",
       "          3.00993203,   3.42907685,   3.84083692,   4.24561008,\n",
       "          4.6435602 ,   5.03456186,   5.41811725,   5.79323297,\n",
       "          6.15823702,   6.51050544,   6.84604945,   7.15888293,\n",
       "          7.44003778,   7.67600434,   7.84621928,   7.91896218,\n",
       "          7.84461571,   7.5447559 ,   6.89562734,   5.70831219,\n",
       "          3.72607266,   0.71352526,  -3.23298351,  -7.30183488,\n",
       "        -10.32403283, -11.80358761, -12.05980336, -11.61037247,\n",
       "        -10.82659588,  -9.91427147,  -8.97539848,  -8.0570591 ,\n",
       "         -7.17900879,  -6.34777004,  -5.56362005,  -4.82403263,\n",
       "         -4.12536887,  -3.46369921,  -2.83519099,  -2.23627799,\n",
       "         -1.66372094,  -1.1146149 ,  -0.58637214,  -0.07669521,\n",
       "          0.41645215,   0.89487256,   1.36015896,   1.81371428,\n",
       "          2.25676602,   2.69037535,   3.11544001,   3.53269004,\n",
       "          3.94267448,   4.3457367 ,   4.74197434,   5.13117797,\n",
       "          5.51273939,   5.8855156 ,   6.24762665,   6.596153  ,\n",
       "          6.92667679,   7.23257646,   7.50392392,   7.7257303 ,\n",
       "          7.87510902,   7.91663054,   7.79470033,   7.42133987,\n",
       "          6.65829088,   5.29823801,   3.07497418,  -0.2034756 ,\n",
       "         -4.2862382 ,  -8.19261482, -10.83557826, -11.96114029,\n",
       "        -11.99580328, -11.43536019, -10.60527028,  -9.67953997,\n",
       "         -8.74279287,  -7.83335964,  -6.96672803,  -6.14738599,\n",
       "         -5.37467703,  -4.64568267,  -3.95663646,  -3.30360786,\n",
       "         -2.6828205 ,  -2.09078697,  -1.52435221,  -0.98069276,\n",
       "         -0.45729614,   0.04806707,   0.53737227,   1.01236755,\n",
       "          1.47459672,   1.92541768,   2.36601571,   2.79741112,\n",
       "          3.22046046,   3.63585013,   4.0440806 ,   4.44543827,\n",
       "          4.83995077,   5.22731902,   5.606816  ,   5.97713663,\n",
       "          6.3361744 ,   6.68068592,   7.00578087,   7.30413452,\n",
       "          7.5647512 ,   7.77098893,   7.8973532 ,   7.90423728,\n",
       "          7.72931349,   7.27391731,   6.38399795,   4.8340354 ,\n",
       "          2.35583831,  -1.17508364,  -5.32941334,  -8.99922704,\n",
       "        -11.24874297, -12.05053984, -11.89559175, -11.24424374,\n",
       "        -10.37838685,  -9.44433314,  -8.51199884,  -7.61238542,\n",
       "         -6.75742622,  -5.94992669,  -5.18846987,  -4.46983006,\n",
       "         -3.7901543 ,  -3.14553012,  -2.53224547,  -1.94689424,\n",
       "         -1.38640541,  -0.84803566,  -0.329346  ,   0.17182683,\n",
       "          0.657399  ,   1.12906557,   1.58832231,   2.03648295,\n",
       "          2.47469104,   2.9039261 ,   3.32500308,   3.7385638 ,\n",
       "          4.14505841,   4.54471358,   4.93748274,   5.32297088,\n",
       "          5.70032292,   6.06805793,   6.42382214,   6.76401691,\n",
       "          7.08323108,   7.37336083,   7.62222175,   7.81132228,\n",
       "          7.91223756,   7.88065435,   7.64666663,   7.09970643]))"
      ]
     },
     "execution_count": 84,
     "metadata": {},
     "output_type": "execute_result"
    }
   ],
   "source": [
    "get_rvs(test_pars, inclination=np.pi/2, times=times, integrator='ias15', time_base=0), rv_signal"
   ]
  },
  {
   "cell_type": "code",
   "execution_count": 85,
   "metadata": {},
   "outputs": [],
   "source": [
    "?get_rvs"
   ]
  },
  {
   "cell_type": "markdown",
   "metadata": {},
   "source": [
    "Grab equilibrium track simualations. Then make an RV signal using REBOUND, and fit the RV signal with the analytic model using `scipy.optimize.least_squares()` etc."
   ]
  },
  {
   "cell_type": "markdown",
   "metadata": {},
   "source": [
    "Take the simulation corresponding to $K \\approx 90$, since the posterior distribution before shows it's about that value:"
   ]
  },
  {
   "cell_type": "code",
   "execution_count": 136,
   "metadata": {},
   "outputs": [
    {
     "data": {
      "text/latex": [
       "$\\displaystyle 93.260334688322$"
      ],
      "text/plain": [
       "93.26033468832199"
      ]
     },
     "execution_count": 136,
     "metadata": {},
     "output_type": "execute_result"
    }
   ],
   "source": [
    "index = np.abs(Ks_orig - 90).argmin()  # index of the Ks_original closest to K = 90\n",
    "Ks_orig[index]"
   ]
  },
  {
   "cell_type": "code",
   "execution_count": 165,
   "metadata": {},
   "outputs": [],
   "source": [
    "ecc_sims_location = 'hd_max_mass'  # location of simulations\n",
    "# get the simulation\n",
    "Ks_sim = rb.Simulation(f'{ecc_sims_location}/ecc_track_archive_cluster_{index}.bin')  # get the corresponding eccentricity simulation\n",
    "# define star, inner, outer planets\n",
    "star = Ks_sim.particles[0]\n",
    "inner = Ks_sim.particles[1]\n",
    "outer = Ks_sim.particles[2]\n",
    "# since it's already at equilibrium, then make an RV signal with REBOUND over a few orbital periods\n",
    "Ks_sim_time_base = Ks_sim.t\n",
    "Ks_sim_times = np.linspace(Ks_sim_time_base, Ks_sim_time_base + 20 * inner.P, int(1e4))  # 10 times the orbital period of the inner planet\n",
    "# move to center of mass and then align it so z-axis is movement\n",
    "Ks_sim.move_to_com()  # move to com\n",
    "cm.nbody_simulation_utilities.align_simulation(Ks_sim)  # align simulation\n",
    "# now get rvs using rebound\n",
    "Ks_sim_rvs = np.zeros(len(Ks_sim_times))\n",
    "# loop\n",
    "for i, t in enumerate(Ks_sim_times):\n",
    "    # integrate the simple sim\n",
    "    Ks_sim.integrate(t, exact_finish_time = 1)\n",
    "    # compute the rvs, making sure to convert from au/day to m/s again\n",
    "    # also need to account for mass being in units of Mstar, and period being in units of inner.P\n",
    "    Ks_sim_rvs[i] = (-star.vx * AUDAY_MS) + 0   # no rv offset for these simple sims"
   ]
  },
  {
   "cell_type": "code",
   "execution_count": 166,
   "metadata": {},
   "outputs": [
    {
     "data": {
      "text/plain": [
       "[<matplotlib.lines.Line2D at 0x7fdb67bddf10>]"
      ]
     },
     "execution_count": 166,
     "metadata": {},
     "output_type": "execute_result"
    },
    {
     "data": {
      "image/png": "[encoded data removed]",
      "text/plain": [
       "<Figure size 432x288 with 1 Axes>"
      ]
     },
     "metadata": {
      "needs_background": "light"
     },
     "output_type": "display_data"
    }
   ],
   "source": [
    "plt.plot(Ks_sim_times, Ks_sim_rvs)"
   ]
  },
  {
   "cell_type": "code",
   "execution_count": null,
   "metadata": {},
   "outputs": [],
   "source": []
  }
 ],
 "metadata": {
  "kernelspec": {
   "display_name": "Python 3",
   "language": "python",
   "name": "python3"
  },
  "language_info": {
   "codemirror_mode": {
    "name": "ipython",
    "version": 3
   },
   "file_extension": ".py",
   "mimetype": "text/x-python",
   "name": "python",
   "nbconvert_exporter": "python",
   "pygments_lexer": "ipython3",
   "version": "3.8.10"
  }
 },
 "nbformat": 4,
 "nbformat_minor": 4
}
