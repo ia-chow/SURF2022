{
 "cells": [
  {
   "cell_type": "code",
   "execution_count": 1,
   "metadata": {},
   "outputs": [
    {
     "name": "stderr",
     "output_type": "stream",
     "text": [
      "/home/ichow/.local/lib/python3.8/site-packages/radvel/gp.py:32: ImportWarning: celerite not installed. GP kernals using celerite will not work. Try installing celerite using 'pip install celerite'\n",
      "  warnings.warn(\"celerite not installed. GP kernals using celerite will not work. \\\n"
     ]
    }
   ],
   "source": [
    "import radvel\n",
    "import numpy as np\n",
    "import rebound as rb\n",
    "import reboundx\n",
    "import matplotlib.pyplot as plt\n",
    "import celmech as cm\n",
    "import pandas as pd\n",
    "import h5py\n",
    "from tqdm import tqdm"
   ]
  },
  {
   "cell_type": "markdown",
   "metadata": {},
   "source": [
    "Set up model using $K_1$, $\\frac{m_2}{m_1}$, $e_1$, $\\omega_1$, $\\dot{\\omega}$, $P_1$, $\\lambda_1$ or $M_1$:"
   ]
  },
  {
   "cell_type": "code",
   "execution_count": 2,
   "metadata": {},
   "outputs": [
    {
     "ename": "FileNotFoundError",
     "evalue": "[Errno 2] Unable to open file (unable to open file: name = '2021_fall-2022_winter/hd_mcmc_cluster.h5', errno = 2, error message = 'No such file or directory', flags = 0, o_flags = 0)",
     "output_type": "error",
     "traceback": [
      "\u001b[0;31m---------------------------------------------------------------------------\u001b[0m",
      "\u001b[0;31mFileNotFoundError\u001b[0m                         Traceback (most recent call last)",
      "Input \u001b[0;32mIn [2]\u001b[0m, in \u001b[0;36m<cell line: 4>\u001b[0;34m()\u001b[0m\n\u001b[1;32m      1\u001b[0m hd_data \u001b[38;5;241m=\u001b[39m pd\u001b[38;5;241m.\u001b[39mread_csv(\u001b[38;5;124m'\u001b[39m\u001b[38;5;124mhd45364_rvs.csv\u001b[39m\u001b[38;5;124m'\u001b[39m, sep \u001b[38;5;241m=\u001b[39m \u001b[38;5;124m'\u001b[39m\u001b[38;5;124m;\u001b[39m\u001b[38;5;124m'\u001b[39m)\n\u001b[1;32m      2\u001b[0m hd_data\u001b[38;5;241m.\u001b[39mBJD \u001b[38;5;241m-\u001b[39m\u001b[38;5;241m=\u001b[39m \u001b[38;5;241m2.4e6\u001b[39m\n\u001b[0;32m----> 4\u001b[0m cluster_data \u001b[38;5;241m=\u001b[39m \u001b[43mh5py\u001b[49m\u001b[38;5;241;43m.\u001b[39;49m\u001b[43mFile\u001b[49m\u001b[43m(\u001b[49m\u001b[38;5;124;43m'\u001b[39;49m\u001b[38;5;124;43m2021_fall-2022_winter/hd_mcmc_cluster.h5\u001b[39;49m\u001b[38;5;124;43m'\u001b[39;49m\u001b[43m,\u001b[49m\u001b[43m \u001b[49m\u001b[38;5;124;43m'\u001b[39;49m\u001b[38;5;124;43mr\u001b[39;49m\u001b[38;5;124;43m'\u001b[39;49m\u001b[43m)\u001b[49m  \u001b[38;5;66;03m# import the posterior distribution data from the cluster\u001b[39;00m\n\u001b[1;32m      5\u001b[0m accepted, samples, log_prob \u001b[38;5;241m=\u001b[39m np\u001b[38;5;241m.\u001b[39marray(cluster_data[\u001b[38;5;124m'\u001b[39m\u001b[38;5;124mmcmc\u001b[39m\u001b[38;5;124m'\u001b[39m][\u001b[38;5;124m'\u001b[39m\u001b[38;5;124maccepted\u001b[39m\u001b[38;5;124m'\u001b[39m]), np\u001b[38;5;241m.\u001b[39marray(cluster_data[\u001b[38;5;124m'\u001b[39m\u001b[38;5;124mmcmc\u001b[39m\u001b[38;5;124m'\u001b[39m][\u001b[38;5;124m'\u001b[39m\u001b[38;5;124mchain\u001b[39m\u001b[38;5;124m'\u001b[39m]), np\u001b[38;5;241m.\u001b[39marray(cluster_data[\u001b[38;5;124m'\u001b[39m\u001b[38;5;124mmcmc\u001b[39m\u001b[38;5;124m'\u001b[39m][\u001b[38;5;124m'\u001b[39m\u001b[38;5;124mlog_prob\u001b[39m\u001b[38;5;124m'\u001b[39m])\n\u001b[1;32m      7\u001b[0m n_burn_in \u001b[38;5;241m=\u001b[39m \u001b[38;5;241m200\u001b[39m  \u001b[38;5;66;03m# discard the first 200 samples as burn-in time\u001b[39;00m\n",
      "File \u001b[0;32m~/.local/lib/python3.8/site-packages/h5py/_hl/files.py:533\u001b[0m, in \u001b[0;36mFile.__init__\u001b[0;34m(self, name, mode, driver, libver, userblock_size, swmr, rdcc_nslots, rdcc_nbytes, rdcc_w0, track_order, fs_strategy, fs_persist, fs_threshold, fs_page_size, page_buf_size, min_meta_keep, min_raw_keep, locking, alignment_threshold, alignment_interval, **kwds)\u001b[0m\n\u001b[1;32m    525\u001b[0m     fapl \u001b[38;5;241m=\u001b[39m make_fapl(driver, libver, rdcc_nslots, rdcc_nbytes, rdcc_w0,\n\u001b[1;32m    526\u001b[0m                      locking, page_buf_size, min_meta_keep, min_raw_keep,\n\u001b[1;32m    527\u001b[0m                      alignment_threshold\u001b[38;5;241m=\u001b[39malignment_threshold,\n\u001b[1;32m    528\u001b[0m                      alignment_interval\u001b[38;5;241m=\u001b[39malignment_interval,\n\u001b[1;32m    529\u001b[0m                      \u001b[38;5;241m*\u001b[39m\u001b[38;5;241m*\u001b[39mkwds)\n\u001b[1;32m    530\u001b[0m     fcpl \u001b[38;5;241m=\u001b[39m make_fcpl(track_order\u001b[38;5;241m=\u001b[39mtrack_order, fs_strategy\u001b[38;5;241m=\u001b[39mfs_strategy,\n\u001b[1;32m    531\u001b[0m                      fs_persist\u001b[38;5;241m=\u001b[39mfs_persist, fs_threshold\u001b[38;5;241m=\u001b[39mfs_threshold,\n\u001b[1;32m    532\u001b[0m                      fs_page_size\u001b[38;5;241m=\u001b[39mfs_page_size)\n\u001b[0;32m--> 533\u001b[0m     fid \u001b[38;5;241m=\u001b[39m \u001b[43mmake_fid\u001b[49m\u001b[43m(\u001b[49m\u001b[43mname\u001b[49m\u001b[43m,\u001b[49m\u001b[43m \u001b[49m\u001b[43mmode\u001b[49m\u001b[43m,\u001b[49m\u001b[43m \u001b[49m\u001b[43muserblock_size\u001b[49m\u001b[43m,\u001b[49m\u001b[43m \u001b[49m\u001b[43mfapl\u001b[49m\u001b[43m,\u001b[49m\u001b[43m \u001b[49m\u001b[43mfcpl\u001b[49m\u001b[43m,\u001b[49m\u001b[43m \u001b[49m\u001b[43mswmr\u001b[49m\u001b[38;5;241;43m=\u001b[39;49m\u001b[43mswmr\u001b[49m\u001b[43m)\u001b[49m\n\u001b[1;32m    535\u001b[0m \u001b[38;5;28;01mif\u001b[39;00m \u001b[38;5;28misinstance\u001b[39m(libver, \u001b[38;5;28mtuple\u001b[39m):\n\u001b[1;32m    536\u001b[0m     \u001b[38;5;28mself\u001b[39m\u001b[38;5;241m.\u001b[39m_libver \u001b[38;5;241m=\u001b[39m libver\n",
      "File \u001b[0;32m~/.local/lib/python3.8/site-packages/h5py/_hl/files.py:226\u001b[0m, in \u001b[0;36mmake_fid\u001b[0;34m(name, mode, userblock_size, fapl, fcpl, swmr)\u001b[0m\n\u001b[1;32m    224\u001b[0m     \u001b[38;5;28;01mif\u001b[39;00m swmr \u001b[38;5;129;01mand\u001b[39;00m swmr_support:\n\u001b[1;32m    225\u001b[0m         flags \u001b[38;5;241m|\u001b[39m\u001b[38;5;241m=\u001b[39m h5f\u001b[38;5;241m.\u001b[39mACC_SWMR_READ\n\u001b[0;32m--> 226\u001b[0m     fid \u001b[38;5;241m=\u001b[39m \u001b[43mh5f\u001b[49m\u001b[38;5;241;43m.\u001b[39;49m\u001b[43mopen\u001b[49m\u001b[43m(\u001b[49m\u001b[43mname\u001b[49m\u001b[43m,\u001b[49m\u001b[43m \u001b[49m\u001b[43mflags\u001b[49m\u001b[43m,\u001b[49m\u001b[43m \u001b[49m\u001b[43mfapl\u001b[49m\u001b[38;5;241;43m=\u001b[39;49m\u001b[43mfapl\u001b[49m\u001b[43m)\u001b[49m\n\u001b[1;32m    227\u001b[0m \u001b[38;5;28;01melif\u001b[39;00m mode \u001b[38;5;241m==\u001b[39m \u001b[38;5;124m'\u001b[39m\u001b[38;5;124mr+\u001b[39m\u001b[38;5;124m'\u001b[39m:\n\u001b[1;32m    228\u001b[0m     fid \u001b[38;5;241m=\u001b[39m h5f\u001b[38;5;241m.\u001b[39mopen(name, h5f\u001b[38;5;241m.\u001b[39mACC_RDWR, fapl\u001b[38;5;241m=\u001b[39mfapl)\n",
      "File \u001b[0;32mh5py/_objects.pyx:54\u001b[0m, in \u001b[0;36mh5py._objects.with_phil.wrapper\u001b[0;34m()\u001b[0m\n",
      "File \u001b[0;32mh5py/_objects.pyx:55\u001b[0m, in \u001b[0;36mh5py._objects.with_phil.wrapper\u001b[0;34m()\u001b[0m\n",
      "File \u001b[0;32mh5py/h5f.pyx:106\u001b[0m, in \u001b[0;36mh5py.h5f.open\u001b[0;34m()\u001b[0m\n",
      "\u001b[0;31mFileNotFoundError\u001b[0m: [Errno 2] Unable to open file (unable to open file: name = '2021_fall-2022_winter/hd_mcmc_cluster.h5', errno = 2, error message = 'No such file or directory', flags = 0, o_flags = 0)"
     ]
    }
   ],
   "source": [
    "hd_data = pd.read_csv('hd45364_rvs.csv', sep = ';')\n",
    "hd_data.BJD -= 2.4e6\n",
    "\n",
    "cluster_data = h5py.File('2021_fall-2022_winter/hd_mcmc_cluster.h5', 'r')  # import the posterior distribution data from the cluster\n",
    "accepted, samples, log_prob = np.array(cluster_data['mcmc']['accepted']), np.array(cluster_data['mcmc']['chain']), np.array(cluster_data['mcmc']['log_prob'])\n",
    "\n",
    "n_burn_in = 200  # discard the first 200 samples as burn-in time\n",
    "# reshape the chain to flatten it out\n",
    "flat_samples = samples[n_burn_in:].reshape(-1, samples[n_burn_in:].shape[-1])"
   ]
  },
  {
   "cell_type": "markdown",
   "metadata": {},
   "source": [
    "Model -- use RV model in equilibrium. First find the constant $c$ in $\\frac{e_1}{e_2} = c \\times \\frac{m_2}{m_1}$, using the `REBOUNDx` eccentricity track simulations:"
   ]
  },
  {
   "cell_type": "code",
   "execution_count": null,
   "metadata": {},
   "outputs": [],
   "source": [
    "nsims = 100\n",
    "Ks_orig = np.logspace(0, 5, nsims)\n",
    "ecc_sims_location = 'hd_max_mass'\n",
    "# initialize c array\n",
    "cs = np.zeros(len(Ks_orig))\n",
    "\n",
    "for i in range(0, len(Ks_orig)):\n",
    "    ecc_sim = rb.Simulation(f'{ecc_sims_location}/ecc_track_archive_cluster_{i}.bin')  # get the ith eccentricity simulation from the ecc sims folder\n",
    "    inner = ecc_sim.particles[1]\n",
    "    outer = ecc_sim.particles[2]\n",
    "    # print(inner.m, outer.m)\n",
    "    cs[i] = (inner.e * inner.m)/(outer.e * outer.m)  # compute c by rearranging"
   ]
  },
  {
   "cell_type": "code",
   "execution_count": null,
   "metadata": {},
   "outputs": [],
   "source": [
    "np.median(cs)"
   ]
  },
  {
   "cell_type": "code",
   "execution_count": null,
   "metadata": {},
   "outputs": [],
   "source": [
    "plt.hist(cs)"
   ]
  },
  {
   "cell_type": "markdown",
   "metadata": {},
   "source": [
    "Create rv"
   ]
  },
  {
   "cell_type": "code",
   "execution_count": null,
   "metadata": {},
   "outputs": [],
   "source": [
    "#Least squares fit: \n",
    "fit_params = [ 2.28512793e+02, 7.27736501e+00, 5.39371914e+04, -4.66868256e-02, \n",
    "               -1.78080009e-01, 3.43378038e+02, 1.78603341e+01, 5.40186750e+04, \n",
    "               9.72945632e-02,  1.32194117e-01, -5.29072002e-01] \n",
    "\n",
    "# star mass, g and auday to m/s conversion factor\n",
    "STAR_MASS = 920  # 920 jupiter masses\n",
    "G = 2.825e-7  # converting G to jupiter masses, au, and days\n",
    "AUDAY_MS = 1.731e6  # conversion factor to convert from au/day --> m/s\n",
    "\n",
    "def mass_to_semiamp(planet_mass, star_mass, period, eccentricity, inclination):\n",
    "    \"\"\"\n",
    "    planet mass (jupiter masses) to semi amplitude (in au/day)\n",
    "    \"\"\"\n",
    "    return ((2 * np.pi * G/period) ** (1/3) * (planet_mass * np.sin(inclination) / star_mass ** (2/3)) * (1/np.sqrt(1 - eccentricity ** 2)))\n",
    "\n",
    "def semiamp_to_mass(semiamp, star_mass, period, eccentricity, inclination):\n",
    "    \"\"\"\n",
    "    semi amplitude (in au/day) to planet mass (jupiter masses)\n",
    "    \"\"\"\n",
    "    return (((2 * np.pi * G/period) ** (-1/3)) * (semiamp / np.sin(inclination)) * np.sqrt(1 - eccentricity ** 2) * (star_mass ** (2/3)))\n",
    "\n",
    "\n",
    "def get_sim_from_params(params, inclination, integrator, time_base, star_mass = STAR_MASS, auday_ms = AUDAY_MS):\n",
    "    \"\"\"\n",
    "    takes in params array, returns a rebound Simulation object with those parameters\n",
    "    \n",
    "    param params: numpy array of params:\n",
    "    \n",
    "    for i in range(0, num_planets):\n",
    "    \n",
    "    params[i + 0] is period\n",
    "    params[i + 1] is semiamp\n",
    "    params[i + 2] is tc (time of conjunction)\n",
    "    params[i + 3] is sqrt(e) * cos(omega)\n",
    "    params[i + 4] is sqrt(e) * sin(omega)\n",
    "    \n",
    "    params[5 * num_planets] is rv offset\n",
    "    params[5 * num_planets + 1] is jit\n",
    "    \n",
    "    param inclination: inclination of system in the observation plane (pi/2 is in the plane of the sky, 0 is edge-on)\n",
    "    param integrator: integrator to use, one of 'whfast' or 'ias15'\n",
    "    param time_base: base time (to begin integration from) in the simulation\n",
    "    \"\"\"\n",
    "    \n",
    "    num_planets = int((len(params) - 1) / 5) # -2 because there are rv_offset and jit parameters:\n",
    "    \n",
    "    sim = rb.Simulation()\n",
    "    sim.integrator = integrator\n",
    "    sim.t = time_base  # keplerian and n-body models initialized at the same time offset\n",
    "    # print(sim.t)\n",
    "    if integrator == 'whfast':  # if using whfast integrator, set timestep\n",
    "        sim.dt = 1/50 * min(params[0::5][:-1])  # timestep is 1/20th of the shortest orbital period of any planet\n",
    "        # print(sim.dt)\n",
    "    sim.units = ('AU', 'Mjupiter', 'day')\n",
    "\n",
    "    sim.add(m = star_mass)  # star mass as a constant\n",
    "        \n",
    "    for i in range (0, num_planets):\n",
    "        # print(i)\n",
    "        # planet parameters\n",
    "        period = params[5*i]  # in days\n",
    "        semiamp = params[5*i + 1] / auday_ms # divide by auday_ms because semiamp given in m/s\n",
    "        eccentricity = params[5*i + 3] ** 2 + params[5*i + 4] ** 2  # eccentricity from secos, sesin\n",
    "        omega = np.arctan2(params[5*i + 4], params[5*i + 3])  # omega from arctan of sesin, secos  (in that order!)\n",
    "        # get tp by converting from tc\n",
    "        tp = radvel.orbit.timetrans_to_timeperi(tc = params[5*i + 2], per = period, ecc = eccentricity, omega = omega)\n",
    "        \n",
    "        # mass\n",
    "        mass = semiamp_to_mass(semiamp = semiamp, star_mass = star_mass, period = period, eccentricity = eccentricity, inclination = inclination)\n",
    "        \n",
    "        # adding to simulation\n",
    "        sim.add(m = mass, P = period, e = eccentricity, T = tp, omega = omega, inc = inclination)\n",
    "        \n",
    "    sim.move_to_com()  # move to center of mass\n",
    "    \n",
    "    return sim\n",
    "\n",
    "def get_simple_sim(masses, integrator = 'ias15', period_ratio = 3/2, epsilon=0.01):\n",
    "    \"\"\"\n",
    "    gets simple sim (for eccentricity track stuff)\n",
    "    param masses: array of planet masses\n",
    "    param integrator: integrator\n",
    "    param epsilon: amount by which the resonant period ratio should be offset from the equilibrium in the simulation\n",
    "    \"\"\"\n",
    "    sim = rb.Simulation()\n",
    "    sim.integrator = integrator\n",
    "    # central star\n",
    "    sim.add(m = 1)\n",
    "    \n",
    "    sim.add(m = masses[0], P = 1)\n",
    "    sim.add(m = masses[1], P = period_ratio * (1 + epsilon))\n",
    "\n",
    "    sim.move_to_com()\n",
    "    if integrator == 'whfast':\n",
    "        sim.dt = 1/50 * 1  # dy default use 1/50th of the inner planet's orbital period for the timestep if using whfast\n",
    "    return sim\n",
    "\n",
    "\n",
    "def get_rvs(params, inclination, times, integrator, time_base, auday_ms = AUDAY_MS):\n",
    "    \n",
    "    \"\"\"\n",
    "    Gets RVs from a Numpy array of planet params\n",
    "    \n",
    "    param params:     for i in range(0, num_planets):\n",
    "    \n",
    "    params[i + 0] is period\n",
    "    params[i + 1] is semiamp\n",
    "    params[i + 2] is tc (time of conjunction)\n",
    "    params[i + 3] is sqrt(e) * cos(omega)\n",
    "    params[i + 4] is sqrt(e) * sin(omega)\n",
    "    \n",
    "    params[5 * num_planets] is rv offset\n",
    "    \n",
    "    param inclination: inclination of system in the observation plane (pi/2 is in the plane of the sky, 0 is edge-on)\n",
    "    param times: array of times to integrate over\n",
    "    param integrator: integrator to use, one of 'whfast' or 'ias15'\n",
    "    \n",
    "    \"\"\"\n",
    "    \n",
    "    sim = get_sim_from_params(params, inclination, integrator, time_base = time_base)\n",
    "    \n",
    "    sim_backwards = sim.copy()\n",
    "    sim_backwards.dt *= -1  # set timestep to be negative if integrating backwards\n",
    "    \n",
    "    forward_times = np.array(list(filter(lambda x: x - time_base >= 0, times)))\n",
    "    backward_times = np.array(list(filter(lambda x: x - time_base < 0, times)))\n",
    "    \n",
    "    # initialize rvs\n",
    "    rv_forward = np.zeros(len(forward_times))\n",
    "    rv_backward = np.zeros(len(backward_times))\n",
    "    \n",
    "    num_planets = int((len(params) - 1) / 5)  # find number of planets in params passed\n",
    "    \n",
    "    # get the rvs (z velocity, assuming 90 deg inclination) from the rebound simulation to compare with the actual simulation\n",
    "    for i, t in enumerate(forward_times):\n",
    "        sim.integrate(t, exact_finish_time = 1)\n",
    "        # integrate to the specified time, exact_finish_time = 1 for ias15, \n",
    "        # sim.status()\n",
    "        star = sim.particles[0]\n",
    "        rv_forward[i] = (-star.vz * auday_ms) + params[5 * num_planets]  # use x-velocity of the star as the radial velocity, convert to m/s\n",
    "    \n",
    "    for i, t in enumerate(backward_times):\n",
    "        sim_backwards.integrate(t, exact_finish_time = 1)\n",
    "        star = sim_backwards.particles[0]\n",
    "        rv_backward[i] = (-star.vz * auday_ms) + params[5 * num_planets]\n",
    "    \n",
    "    return np.concatenate((rv_backward, rv_forward))"
   ]
  },
  {
   "cell_type": "markdown",
   "metadata": {},
   "source": [
    "Parameters ($K_1, \\frac{m_2}{m_1}, e_1, \\omega_1, \\dot\\omega, P_1, \\lambda_1$ or $M_1$):"
   ]
  },
  {
   "cell_type": "code",
   "execution_count": null,
   "metadata": {},
   "outputs": [],
   "source": [
    "test_samp = flat_samples[2000]"
   ]
  },
  {
   "cell_type": "code",
   "execution_count": null,
   "metadata": {},
   "outputs": [],
   "source": [
    "# test parameters\n",
    "time_base = np.median(hd_data.BJD)\n",
    "fit_sim = get_sim_from_params(fit_params, inclination = np.pi/2, integrator = 'ias15', time_base = time_base)\n",
    "# 7 parameters\n",
    "k1 = test_samp[1]# /AUDAY_MS  # k1\n",
    "e1 = test_samp[3] ** 2 + test_samp[4] ** 2  # e1\n",
    "p1 = test_samp[0]  # p1\n",
    "Tprecess = 50 * p1\n",
    "m2_m1 = fit_sim.particles[2].m/fit_sim.particles[1].m\n",
    "omega1 = np.arctan2(test_samp[3], test_samp[4])\n",
    "# use from the precessingrvsignal notebook\n",
    "omegadot = 2 * np.pi /Tprecess  # omegadot = omegadot1 = omegadot2\n",
    "tp1 = radvel.orbit.timetrans_to_timeperi(test_samp[2], per = p1, ecc = e1, omega = omega1)\n",
    "# and the constant c, using the median as the constant\n",
    "c = 1.07\n",
    "\n",
    "# compute tihngs needed\n",
    "\n",
    "# compute m1 from K1 and e1 using semiamp_to_mass\n",
    "m1 = semiamp_to_mass(semiamp = k1/AUDAY_MS, star_mass = STAR_MASS, period = p1, eccentricity = e1, inclination = np.pi/2)\n",
    "# compute m2 using m1 and m2/m1 as a parameter\n",
    "m2 = m2_m1 * m1\n",
    "# compute e2 using e1, m1, m2\n",
    "e2 = (e1 * m1)/(c * m2)\n",
    "# compute p2 usng omegadot, since thetadot1 = thetadot2 = 0\n",
    "p2 = (3 * np.pi * p1)/(2 * np.pi + p1 * omegadot)  # rearrange the equation\n",
    "# compute K2 using m2, e2, and p2\n",
    "k2 = mass_to_semiamp(planet_mass = m2, star_mass = STAR_MASS, period = p2, eccentricity = e2, inclination=np.pi/2) * AUDAY_MS\n",
    "# compute omega2 as omega1 + pi\n",
    "omega2 = omega1 + np.pi\n",
    "# compute mean anomalies M1, M2\n",
    "\n",
    "\n",
    "\n",
    "# TODO:\n",
    "# convert tp to lambda, and compute lambda1 and lambda2\n",
    "# also compute theta1 and 2 as well (note that theta1 = theta2 + (either 0 or pi))"
   ]
  },
  {
   "cell_type": "code",
   "execution_count": null,
   "metadata": {},
   "outputs": [],
   "source": [
    "tp1, radvel.orbit.timetrans_to_timeperi(test_samp[7], per = p2, ecc = e2, omega = omega2)  # tp1 and tp2 values"
   ]
  },
  {
   "cell_type": "code",
   "execution_count": null,
   "metadata": {},
   "outputs": [],
   "source": [
    "def get_mean_anomaly(t, period, tp):\n",
    "    \"\"\"\n",
    "    Gets mean anomaly at a specified time t, given the period P of the planet and the time of pericenter passage tp\n",
    "    \n",
    "    Mean anomaly is in radians\n",
    "    \"\"\"\n",
    "    return ((2 * np.pi)/period) * (t - tp)\n",
    "    "
   ]
  },
  {
   "cell_type": "markdown",
   "metadata": {},
   "source": [
    "Compare fit params and this:"
   ]
  },
  {
   "cell_type": "code",
   "execution_count": null,
   "metadata": {},
   "outputs": [],
   "source": [
    "fit_params  # p1, k1, tc1, sqrt(e1) * cos(omega1), sqrt(e1) * sin(omega1) and same for 2, plus rv offset at the end"
   ]
  },
  {
   "cell_type": "code",
   "execution_count": null,
   "metadata": {},
   "outputs": [],
   "source": [
    "p1, k1, e1, m1, p2, k2, e2, m2"
   ]
  },
  {
   "cell_type": "code",
   "execution_count": null,
   "metadata": {},
   "outputs": [],
   "source": [
    "# ?get_sim_from_params"
   ]
  },
  {
   "cell_type": "code",
   "execution_count": null,
   "metadata": {},
   "outputs": [],
   "source": [
    "\n",
    "# radvel.kepler.rv_drive(p1, )"
   ]
  },
  {
   "cell_type": "code",
   "execution_count": null,
   "metadata": {},
   "outputs": [],
   "source": [
    "import sympy as sp\n",
    "\n",
    "l1, l2, omegai = sp.symbols('lambda1, lambda2, omega_i')\n",
    "thetai = sp.symbols('theta_i')\n",
    "M1, M2, p1, p2, t, Tp1, Tp2 = sp.symbols('M1, M2, p1, p2, t, Tp1, Tp2')\n",
    "omega1, omega2 = sp.symbols('omega1, omega2')\n",
    "\n",
    "n = 0\n",
    "\n",
    "# resonant angle equation\n",
    "thetai = 3 * l2 - 2 * l1 - omegai\n",
    "# rearranging Mi = lambdai - omegai and substituting in\n",
    "thetai = thetai.subs([(l1, M1 + omega1), (l2, M2 + omega2 - n * (2/3 * np.pi))])\n",
    "# then substitute M = 2pi/P (t - Tp) for both\n",
    "thetai = thetai.subs([(M1, (2 * np.pi)/p1 * (time_base - Tp1)), (M2, (2 * np.pi)/p2 * (time_base - Tp2))])\n",
    "# substitute t = 0 since it doesn't matter, and then omegai = omega2 here, and omega1 = omega2 + pi) \n",
    "thetai = thetai.subs([(t, 0), (omegai, omega2), (omega1, omega2 + np.pi)])\n",
    "# finally solve for Tp2 in terms of Tp1, p1 and p2:\n",
    "tp2_expr = sp.solve(thetai, Tp2)[0]"
   ]
  },
  {
   "cell_type": "code",
   "execution_count": null,
   "metadata": {},
   "outputs": [],
   "source": [
    "tp2_expr, tp2_expr.subs([(p1, test_samp[0]), (p2, test_samp[5]), (Tp1, 53827)])  # tp2 should be 54024"
   ]
  },
  {
   "cell_type": "code",
   "execution_count": null,
   "metadata": {},
   "outputs": [],
   "source": [
    "0 - (2 * test_samp[5])/(3 * test_samp[0]) * (0 - 53827)"
   ]
  },
  {
   "cell_type": "code",
   "execution_count": null,
   "metadata": {},
   "outputs": [],
   "source": [
    "test_samp"
   ]
  },
  {
   "cell_type": "markdown",
   "metadata": {},
   "source": [
    "Need $P_1, T_{p1}, e_1, \\omega_1, K_1$ explicitly, and implement $\\dot\\omega$ in the same way in the precessing rv signal notebook ($12$ parameters) to build the `radvel.kepler.rv_drive()` forward model"
   ]
  },
  {
   "cell_type": "markdown",
   "metadata": {},
   "source": [
    "Write a function that returns an RV signal for a given set of 7 parameters assuming equilibrium:"
   ]
  },
  {
   "cell_type": "code",
   "execution_count": null,
   "metadata": {},
   "outputs": [],
   "source": [
    "# time_base = np.median(hd_data.BJD)\n",
    "# eq_model_params\n",
    "# radvel.kepler.rv_drive()"
   ]
  },
  {
   "cell_type": "code",
   "execution_count": null,
   "metadata": {},
   "outputs": [],
   "source": [
    "def get_rv_signal_equilibrium(times, params, c, time_base, n):\n",
    "    \"\"\"\n",
    "    Gets an RV signal under the equilibrium constraints using the radvel.kepler.rv_drive() function\n",
    "    for a set of 7 equilibrium parameters as well as the constant c in the equation e1/e2 = c * m2/m1,\n",
    "    and the base time time_base\n",
    "    \n",
    "    Params are in the order K1, m2/m1, e1, omega1, omegadot, P1, Tp1, rv_offset\n",
    "    \n",
    "    k1: semi-amplitude of the inner planet, in m/s\n",
    "    m2/m1: ratio of outer planet to inner planet's mass, dimensionless\n",
    "    e1: eccentricity of inner planet, dimensionless\n",
    "    omega1: argument of pericenter of inner planet, radians\n",
    "    omegadot: rate of precession (omegadot = omegadot_1 = omegadot_2), UNITS\n",
    "    p1: period of inner planet, days\n",
    "    tp1: time of pericenter passage of inner planet, days\n",
    "    rv_offset: rv offset of star, in m/s\n",
    "    \n",
    "    n is some nultiple of 2pi/3 (n = {0, 1, 2}) to add to M2 for the phase, this is usually determined empirically\n",
    "    \n",
    "    return tuple of keplerian and rebound rvs, both generated using the set of parameters passed, and the rebound params used\n",
    "    to generate the simulation\n",
    "    \n",
    "    kep_rvs: keplerian forward model (using radvel.kepler.rv_drive() function) rvs, m/s\n",
    "    rb_rvs: rebound rvs, m/s\n",
    "    rb_params: parameters used to generate the rebound simulation (for the rvs)\n",
    "    [p1, k1, tc1, secos1, sesin1, p2, k2, tc2, secos2, sesin2, rv_offset]\n",
    "    \"\"\"\n",
    "    k1, m2m1, e1, omega1, omegadot, p1, tp1, rv_offset = params  # params are in this order\n",
    "    # compute m1 from K1 and e1 using semiamp_to_mass\n",
    "    # divide the semi amplitude by auday_ms since it is given in m/s and semiamp_to_mass takes it in au/day\n",
    "    m1 = semiamp_to_mass(semiamp = k1/AUDAY_MS, star_mass = STAR_MASS, period = p1, eccentricity = e1, inclination = np.pi/2)\n",
    "    # compute m2 using m1 and m2/m1 as a parameter\n",
    "    m2 = m2m1 * m1\n",
    "    # compute e2 using e1, m1, m2 and the constant c\n",
    "    e2 = (e1 * m1)/(c * m2)\n",
    "    # compute p2 usng omegadot, since thetadot1 = thetadot2 = 0\n",
    "    p2 = (3 * np.pi * p1)/(2 * np.pi + p1 * omegadot)  # rearrange the equation\n",
    "    # compute K2 using m2, e2, and p2\n",
    "    # multiply the resulting semi amplitude by auday_ms to get into m/s since mass_to_semiamp returns it in au/day\n",
    "    k2 = mass_to_semiamp(planet_mass = m2, star_mass = STAR_MASS, period = p2, eccentricity = e2, inclination=np.pi/2) * AUDAY_MS\n",
    "    # compute omega2 as omega1 + pi\n",
    "    omega2 = omega1 + np.pi\n",
    "    # finally compute Tp2\n",
    "    M1 = (2 * np.pi)/p1 * (time_base - tp1)  # intermedaite step, compute M1\n",
    "    n = n  # add some multiple n = {0, 1, 2} of 2pi/3 to M2, determined empirically\n",
    "    theta1_eq = 0  # 0 instead of pi for M2 computation\n",
    "    M2 = (1/3) * (theta1_eq + 2 * M1 - 3 * np.pi) + (n * 2/3) * np.pi  # intermediate step, compute M2\n",
    "     \n",
    "    tp2 = time_base - (p2 * M2)/(2 * np.pi)  # then compute tp2 from M2 and p2\n",
    "    # tp2 = time_base - (2/3) * (p2/p1) * (time_base - tp1)\n",
    "    \n",
    "    # then put these into the radvel.kepler.rv_drive() function:\n",
    "    # p1, tp1, e1, omega1, k1, plus omegadot implemented using list comprehension and adding t * omegadot to omega1\n",
    "    inner_signal = np.array([radvel.kepler.rv_drive(np.array([t]), [p1, tp1 + (p1 * omegadot * t)/(2 * np.pi), e1, omega1 + (t - time_base) * omegadot, k1]) for t in times]).reshape(-1)\n",
    "    # same for outer\n",
    "    outer_signal = np.array([radvel.kepler.rv_drive(np.array([t]), [p2, tp2 + (p2 * omegadot * t)/(2 * np.pi), e2, omega2 + (t - time_base) * omegadot, k2]) for t in times]).reshape(-1)\n",
    "    # return the sum of the two signals (since it's keplerian), plus the constant rv offset\n",
    "    kep_rvs = inner_signal + outer_signal + rv_offset\n",
    "    \n",
    "    # now generate rvs from rebound using these parameters and a couple others\n",
    "    # time of conjunction\n",
    "    tc1 = radvel.orbit.timeperi_to_timetrans(tp1, p1, e1, omega1)\n",
    "    tc2 = radvel.orbit.timeperi_to_timetrans(tp2, p2, e2, omega2)\n",
    "    # sesin and secos\n",
    "    secos1, sesin1 = np.sqrt(e1) * np.array([np.cos(omega1), np.sin(omega1)])\n",
    "    secos2, sesin2 = np.sqrt(e2) * np.array([np.cos(omega2), np.sin(omega2)])\n",
    "    # rebound parameters\n",
    "    rb_params = [p1, k1, tc1, secos1, sesin1, p2, k2, tc2, secos2, sesin2, rv_offset]\n",
    "    # get rvs using this\n",
    "    rb_rvs = get_rvs(rb_params, inclination = np.pi/2, times = times, integrator = 'ias15', time_base = time_base)\n",
    "    rb_sim = get_sim_from_params(rb_params, inclination = np.pi/2, integrator = 'ias15', time_base = time_base)\n",
    "    # return keplerian rvs, rebound rvs and the rebound parameters and simulation used to generate the rebound rvs as a 3-tuple\n",
    "    return kep_rvs, rb_rvs, rb_params, rb_sim\n",
    "    "
   ]
  },
  {
   "cell_type": "markdown",
   "metadata": {},
   "source": [
    "Use parameters from the best-fit value from the least-squares (or posterior):"
   ]
  },
  {
   "cell_type": "code",
   "execution_count": null,
   "metadata": {},
   "outputs": [],
   "source": [
    "fit_params"
   ]
  },
  {
   "cell_type": "markdown",
   "metadata": {},
   "source": [
    "Also use these params to find the resonant libration angles:"
   ]
  },
  {
   "cell_type": "code",
   "execution_count": null,
   "metadata": {},
   "outputs": [],
   "source": [
    "sim = get_sim_from_params(fit_params, inclination = np.pi/2, integrator = 'ias15', time_base = time_base)\n",
    "# inner, outer planets\n",
    "sim_inner = sim.particles[1]\n",
    "sim_outer = sim.particles[2]\n",
    "# generate tiem array\n",
    "# times = np.linspace(time_base, time_base + sim_inner.P * 50, int(1e4))  # 50 orbital periods\n",
    "# use c from earlier, use time_base time_base, and use the parameters determined from sim:\n",
    "k1 = mass_to_semiamp(sim_inner.m, star_mass=STAR_MASS, period=sim_inner.P, eccentricity=sim_inner.e, inclination=np.pi/2) * AUDAY_MS  # semiamplitude for first\n",
    "m2m1 = sim_outer.m/sim_inner.m  # ratio of m2 to m1\n",
    "e1 = sim_inner.e  # eccentricity\n",
    "omega1 = sim_inner.omega  # omega\n",
    "omegadot = 0  # 2 * np.pi/(50 * sim_inner.P)  # just use 0 at first and then change this slowly i guess, should be very small\n",
    "p1 = sim_inner.P   # period\n",
    "tp1 = sim_inner.T  # time of pericenter passage\n",
    "rv_offset = fit_params[-1]\n",
    "\n",
    "# all seven parameters together:\n",
    "eq_model_params = [k1, m2m1, e1, omega1, omegadot, p1, tp1, rv_offset]\n",
    "eq_model_params, c"
   ]
  },
  {
   "cell_type": "markdown",
   "metadata": {},
   "source": [
    "Generate RV signal from equilibrium forward model, compare to a `REBOUND`-generated one:"
   ]
  },
  {
   "cell_type": "code",
   "execution_count": null,
   "metadata": {},
   "outputs": [],
   "source": [
    "times = np.linspace(time_base, time_base + fit_params[0] * 10, int(1e4))  # 10 times the inner planet's orbital period\n",
    "# equilibrum forward model and rebound rv model using c and time_base\n",
    "eq_rv_signal, rb_rv_signal, rb_params, rb_sim = get_rv_signal_equilibrium(times, eq_model_params, c, time_base, n = 0)\n",
    "# rb_rv_signal = get_rvs(fit_params, np.pi/2, times, integrator='ias15', time_base = time_base)\n",
    "\n",
    "eq_rv_signal, rb_rv_signal"
   ]
  },
  {
   "cell_type": "markdown",
   "metadata": {},
   "source": [
    "Plot resonant angles using `rb_params`:"
   ]
  },
  {
   "cell_type": "code",
   "execution_count": null,
   "metadata": {},
   "outputs": [],
   "source": [
    "rb_params"
   ]
  },
  {
   "cell_type": "code",
   "execution_count": null,
   "metadata": {},
   "outputs": [],
   "source": [
    "times = np.linspace(time_base, time_base + fit_params[0] * 100, int(1e4))\n",
    "\n",
    "theta1, theta2 = np.zeros(len(times)), np.zeros(len(times))\n",
    "sim = get_sim_from_params(rb_params, np.pi/2, 'ias15', time_base)\n",
    "inner = sim.particles[1]\n",
    "outer = sim.particles[2]\n",
    "# get the resonant angles \n",
    "for i, t in enumerate(times):\n",
    "     # integrate\n",
    "    sim.integrate(t)\n",
    "    # resonant angle\n",
    "    resonant_angle = 3 * outer.l - 2 * inner.l\n",
    "    # theta1 and 2 since theta1 and 2 are both 3lambda_2 - 2lambda_1 - pomega_1/2\n",
    "    theta1[i] = np.mod(resonant_angle - inner.pomega, 2 * np.pi)\n",
    "    theta2[i] = np.mod(resonant_angle - outer.pomega, 2 * np.pi)"
   ]
  },
  {
   "cell_type": "markdown",
   "metadata": {},
   "source": [
    "Plto:"
   ]
  },
  {
   "cell_type": "code",
   "execution_count": null,
   "metadata": {},
   "outputs": [],
   "source": [
    "plt.figure(figsize = (12, 8))\n",
    "plt.rc('font', size = 16)\n",
    "plt.scatter(times, theta1, label = r'$\\theta_1$')\n",
    "plt.scatter(times, theta2, label = r'$\\theta_2$')\n",
    "plt.axhline(y=2*np.pi, color='k')\n",
    "plt.axhline(y=np.pi, color='k')\n",
    "plt.xlabel('JD'), plt.ylabel(r'$\\theta$')\n",
    "plt.legend()"
   ]
  },
  {
   "cell_type": "markdown",
   "metadata": {},
   "source": [
    "Also plot RV signals to compare:"
   ]
  },
  {
   "cell_type": "code",
   "execution_count": null,
   "metadata": {},
   "outputs": [],
   "source": [
    "plt.figure(figsize = (14, 8))\n",
    "plt.rc('font', size = 16)\n",
    "# Keplerian RV signal generated by the equilibrium forward model\n",
    "plt.plot(times, eq_rv_signal, label = 'equilibrium')\n",
    "# n-body RV signal generated by REBOUND\n",
    "plt.plot(times, rb_rv_signal, label = 'REBOUND')\n",
    "# label\n",
    "plt.xlabel('BJD'), plt.ylabel('Radial velocity (m/s)')\n",
    "plt.legend()\n",
    "plt.show()"
   ]
  },
  {
   "cell_type": "code",
   "execution_count": null,
   "metadata": {},
   "outputs": [],
   "source": [
    "period = 10\n",
    "tp =1\n",
    "e = 0.5\n",
    "om = 2\n",
    "K = 10\n",
    "times = np.linspace(0,40,200)\n",
    "Tprecess = 50 * period\n",
    "# omegadot = 2 * np.pi /Tprecess\n",
    "\n",
    "rv_signal = radvel.kepler.rv_drive(times,[period,tp,e,om,K])\n",
    "\n",
    "secos, sesin = np.sqrt(e) * np.cos(om), np.sqrt(e) * np.sin(om)\n",
    "test_pars = [period, K, radvel.orbit.timeperi_to_timetrans(tp, period, e, om), secos, sesin, 0]\n",
    "\n",
    "plt.plot(times,rv_signal)\n",
    "plt.plot(times, get_rvs(test_pars, inclination=np.pi/2, times=times, integrator='ias15', time_base=0))"
   ]
  },
  {
   "cell_type": "code",
   "execution_count": null,
   "metadata": {},
   "outputs": [],
   "source": [
    "tp, radvel.orbit.timetrans_to_timeperi(radvel.orbit.timeperi_to_timetrans(tp, period, e, om), period, e, om)"
   ]
  },
  {
   "cell_type": "markdown",
   "metadata": {},
   "source": [
    "Grab equilibrium track simualations. Then make an RV signal using REBOUND, and fit the RV signal with the analytic model using `scipy.optimize.least_squares()` etc."
   ]
  },
  {
   "cell_type": "code",
   "execution_count": null,
   "metadata": {},
   "outputs": [],
   "source": [
    "time_base = 0"
   ]
  },
  {
   "cell_type": "markdown",
   "metadata": {},
   "source": [
    "Take the simulation corresponding to $K \\approx 90$, since the posterior distribution before shows it's about that value:"
   ]
  },
  {
   "cell_type": "code",
   "execution_count": null,
   "metadata": {},
   "outputs": [],
   "source": [
    "index = np.abs(Ks_orig - 90).argmin()  # index of the Ks_original closest to K = 90\n",
    "Ks_orig[index]"
   ]
  },
  {
   "cell_type": "markdown",
   "metadata": {},
   "source": [
    "Units of simulation are distance  mass `Mstar`, time `inner.P`"
   ]
  },
  {
   "cell_type": "code",
   "execution_count": null,
   "metadata": {},
   "outputs": [],
   "source": [
    "ecc_sims_location = 'hd_max_mass'  # location of simulations\n",
    "# get the simulation\n",
    "Ks_sim = rb.Simulation(f'{ecc_sims_location}/ecc_track_archive_cluster_{index}.bin')  # get the corresponding eccentricity simulation\n",
    "Ks_sim.t = 0\n",
    "# define star, inner, outer planets\n",
    "star = Ks_sim.particles[0]\n",
    "inner = Ks_sim.particles[1]\n",
    "outer = Ks_sim.particles[2]\n",
    "# since it's already at equilibrium, then make an RV signal with REBOUND over a few orbital periods\n",
    "# Ks_sim.t = time_base\n",
    "Ks_sim_time_base = Ks_sim.t\n",
    "# 10 times the orbital period of the inner planet\n",
    "# move to center of mass and then align it so z-axis is movement"
   ]
  },
  {
   "cell_type": "markdown",
   "metadata": {},
   "source": [
    "Currently have $v = \\left(\\frac{P_1^2\\,G\\,M}{4\\pi^2}\\right)^{1/3}\\,\\frac{1}{P_1} = \\left(\\frac{G\\,M}{4\\pi^2 P}\\right)^{1/3}$, and $v = \\frac{1}{\\left(2\\pi\\right)^{2/3}} \\approx 0.293$ when using units of $G = 1$, $M_\\star = 1$, $P_1 = 1$. Converting to units of $G$ in $AU^3\\,M_{jup}^{-1}\\,days^{-2}$, $M_\\star$ in $M_{jup}$, and $P$ in $days$ we have a conversion factor of:"
   ]
  },
  {
   "cell_type": "code",
   "execution_count": null,
   "metadata": {},
   "outputs": [],
   "source": [
    "inner.a, 1/(4 * np.pi ** 2) ** (1/3)"
   ]
  },
  {
   "cell_type": "code",
   "execution_count": null,
   "metadata": {},
   "outputs": [],
   "source": [
    "G = 2.825e-7  # conversion factor for G in terms of au^3/(jupiter masses * days^2)\n",
    "STAR_MASS = 920  # conversion factor for M from M* to Mjup\n",
    "P1 = fit_params[0]  # conversion factor for M from inner planet periods to days"
   ]
  },
  {
   "cell_type": "code",
   "execution_count": null,
   "metadata": {},
   "outputs": [],
   "source": [
    "v_natural = ((G * STAR_MASS)/(4 * np.pi ** 2 * P1)) ** (1/3)/inner.a  # then divide by inner.a to normalize\n",
    "v_natural  # now v in terms of AU/day"
   ]
  },
  {
   "cell_type": "markdown",
   "metadata": {},
   "source": [
    "Now convert $v$ from au/day to m/s:"
   ]
  },
  {
   "cell_type": "code",
   "execution_count": null,
   "metadata": {},
   "outputs": [],
   "source": [
    "v_conv = v_natural * AUDAY_MS\n",
    "v_conv, AUDAY_MS"
   ]
  },
  {
   "cell_type": "markdown",
   "metadata": {},
   "source": [
    "Integrate after first rotating the system so that the star's radial velocity is aligned along the $z$-axis:"
   ]
  },
  {
   "cell_type": "code",
   "execution_count": null,
   "metadata": {},
   "outputs": [],
   "source": [
    "r = np.matrix([[1, 0, 0],\n",
    "              [0, 0, 1],\n",
    "              [0, 1, 0]])  # np.pi/2 rotation matrix so everything is aligned along z\n",
    "\n",
    "# implement rotation for particles 0, 1, and 2 in the simulation\n",
    "\n",
    "def rotate_sim(sim, rot_matrix):\n",
    "    \"\"\"\n",
    "    Rotates all the particles in a REBOUND simulation by the rotation matrix rot_matrix (used to align simulations alons the z axis)\n",
    "    \n",
    "    param sim: simulation for which to rotate particles\n",
    "    param rot_matrix: rotation matrix describing the rotation to perform on the simulation\n",
    "    \n",
    "    returns: None (inplace modification of the simulation)\n",
    "    \"\"\"\n",
    "    # rotate all the particles by the rotation matrix\n",
    "    for p in sim.particles:\n",
    "        p.x, p.y, p.z = tuple(np.ndarray.flatten(np.array(rot_matrix @ p.xyz)))  # rotate positions\n",
    "        p.vx, p.vy, p.vz = tuple(np.ndarray.flatten(np.array(rot_matrix @ p.vxyz)))  # rotate velocities"
   ]
  },
  {
   "cell_type": "markdown",
   "metadata": {},
   "source": [
    "Now rotate the simulation:"
   ]
  },
  {
   "cell_type": "code",
   "execution_count": null,
   "metadata": {},
   "outputs": [],
   "source": [
    "# now rotate sim and move it back to the center of mass\n",
    "rotate_sim(Ks_sim, r)\n",
    "Ks_sim.move_to_com()  # move to com"
   ]
  },
  {
   "cell_type": "code",
   "execution_count": null,
   "metadata": {},
   "outputs": [],
   "source": [
    "inner.P"
   ]
  },
  {
   "cell_type": "code",
   "execution_count": null,
   "metadata": {},
   "outputs": [],
   "source": [
    "# inner, outer planets\n",
    "inner = Ks_sim.particles[1]\n",
    "outer = Ks_sim.particles[2]\n",
    "# use c from earlier, use time_base time_base, and use the parameters determined from sim:\n",
    "k1 = mass_to_semiamp(inner.m * STAR_MASS, star_mass=STAR_MASS, period=inner.P * P1, eccentricity=inner.e, inclination=np.pi/2) * AUDAY_MS  # semiamplitude for first\n",
    "m2m1 = outer.m/inner.m  # ratio of m2 to m1\n",
    "e1 = inner.e  # eccentricity\n",
    "omega1 = inner.omega  # omega\n",
    "omegadot = -1.01447650e-04  # 2 * np.pi/(50 * sim_inner.P)  # just use 0 at first and then change this slowly i guess, should be very small\n",
    "p1 = inner.P   # period\n",
    "tp1 = inner.T  # time of pericenter passage\n",
    "rv_offset = 0#fit_params[-1]\n",
    "\n",
    "# eq_model_params together:\n",
    "eq_model_params = [k1, m2m1, e1, omega1, omegadot, p1 * P1, tp1 * P1, rv_offset]  # convert p1 and tp1 to days\n",
    "eq_model_params, c"
   ]
  },
  {
   "cell_type": "markdown",
   "metadata": {},
   "source": [
    "Compute the \"observed\" RVs"
   ]
  },
  {
   "cell_type": "code",
   "execution_count": null,
   "metadata": {},
   "outputs": [],
   "source": [
    "nperiods = 20  # number of inner planet periods for the integration times of both the \"observed\" rebound data and the other 2\n",
    "\n",
    "# now get rvs using rebound\n",
    "# times\n",
    "times = np.linspace(time_base, time_base + inner.P * P1 * nperiods, int(1e4))  # 10 periods, making sure to scale by P1\n",
    "Ks_sim_rvs = np.zeros(len(times))\n",
    "\n",
    "# define arrays\n",
    "e1s = np.zeros(len(times))\n",
    "e2s = np.zeros(len(times))\n",
    "omega1s = np.zeros(len(times))\n",
    "omega2s = np.zeros(len(times))\n",
    "tp1s = np.zeros(len(times))\n",
    "tp2s = np.zeros(len(times))\n",
    "radvel_rvs = np.zeros(len(times))\n",
    "\n",
    "inner = Ks_sim.particles[1]\n",
    "outer = Ks_sim.particles[2]\n",
    "\n",
    "# loop\n",
    "for i, t in (enumerate(times)):\n",
    "    # integrate the simple sim\n",
    "    Ks_sim.integrate(time_base + (t - time_base)/P1, exact_finish_time = 1)\n",
    "    # compute the rvs, making sure to convert from au/day to m/s again\n",
    "    # multiply by conversion\n",
    "    Ks_sim_rvs[i] = (-star.vz * v_conv)# no rv offset for these simple sims\n",
    "    \n",
    "    p1 = inner.P * P1\n",
    "    p2 = outer.P * P1\n",
    "    \n",
    "    tp1 = inner.T * P1\n",
    "    tp2 = outer.T * P1\n",
    "    \n",
    "    e1 = inner.e\n",
    "    e2 = outer.e\n",
    "    \n",
    "    omega1 = inner.omega\n",
    "    omega2 = outer.omega\n",
    "    \n",
    "    k1 = mass_to_semiamp(inner.m * STAR_MASS, STAR_MASS, inner.P * P1, inner.e, np.pi/2) * AUDAY_MS\n",
    "    k2 = mass_to_semiamp(outer.m * STAR_MASS, STAR_MASS, outer.P * P1, outer.e, np.pi/2) * AUDAY_MS\n",
    "    \n",
    "    inner_signal = radvel.kepler.rv_drive(np.array([t]), [p1, (tp1_intercept + omega_slope * t) * (p1/(2 * np.pi)), e1, omega_intercept + omega_slope * t, k1])[0]\n",
    "    # same for outer\n",
    "    outer_signal = radvel.kepler.rv_drive(np.array([t]), [p2, (tp2_intercept + omega_slope * t) * (p2/(2 * np.pi)), e2, omega_intercept + np.pi + omega_slope * t, k2])[0]\n",
    "    # return the sum of the two signals (since it's keplerian), plus the constant rv offset\n",
    "    radvel_rvs[i] = inner_signal + outer_signal\n",
    "    \n",
    "    e1s[i] = inner.e\n",
    "    e2s[i] = outer.e\n",
    "    tp1s[i] = inner.T * inner.n\n",
    "    tp2s[i] = outer.T * outer.n\n",
    "    omega1s[i] = inner.omega\n",
    "    omega2s[i] = outer.omega"
   ]
  },
  {
   "cell_type": "code",
   "execution_count": null,
   "metadata": {},
   "outputs": [],
   "source": [
    "tp1_slope, tp1_intercept = np.polyfit(times, np.unwrap(tp1s), deg = 1)\n",
    "tp2_slope, tp2_intercept = np.polyfit(times, np.unwrap(tp2s), deg = 1)\n",
    "\n",
    "\n",
    "plt.plot(times, np.unwrap(tp1s))\n",
    "plt.plot(times, tp1_intercept + tp1_slope * times)\n",
    "plt.plot(times, np.unwrap(tp2s))\n",
    "plt.plot(times, tp2_intercept + tp2_slope * times)"
   ]
  },
  {
   "cell_type": "code",
   "execution_count": null,
   "metadata": {},
   "outputs": [],
   "source": [
    "tp1_slope, tp2_slope"
   ]
  },
  {
   "cell_type": "code",
   "execution_count": null,
   "metadata": {},
   "outputs": [],
   "source": [
    "plt.figure(figsize = (12, 8))\n",
    "plt.plot(times, Ks_sim_rvs)\n",
    "plt.plot(times, radvel_rvs)"
   ]
  },
  {
   "cell_type": "code",
   "execution_count": null,
   "metadata": {},
   "outputs": [],
   "source": [
    "omega_slope, omega_intercept = np.polyfit(times, np.unwrap(omega1s), deg = 1)\n",
    "omega_slope, omega_intercept"
   ]
  },
  {
   "cell_type": "code",
   "execution_count": null,
   "metadata": {},
   "outputs": [],
   "source": [
    "plt.plot(times, np.unwrap(omega1s))\n",
    "plt.plot(times, omega_intercept + omega_slope * times)"
   ]
  },
  {
   "cell_type": "code",
   "execution_count": null,
   "metadata": {},
   "outputs": [],
   "source": [
    "plt.plot(times, np.mod(tp1s, 2 * np.pi))  # inner\n",
    "plt.plot(times, np.mod(tp2s, 2 * np.pi))  # outer\n",
    "plt.plot(times, np.unwrap(omega1s))\n",
    "plt.plot(times, np.unwrap(omega2s))"
   ]
  },
  {
   "cell_type": "code",
   "execution_count": null,
   "metadata": {},
   "outputs": [],
   "source": [
    "plt.figure(figsize = (12, 8))\n",
    "plt.plot(times, Ks_sim_rvs)\n",
    "plt.xlabel('days'), plt.ylabel('velocity (m/s)')\n",
    "# plt.plot(Ks_sim_times, rb_rv_signal)"
   ]
  },
  {
   "cell_type": "code",
   "execution_count": null,
   "metadata": {},
   "outputs": [],
   "source": [
    "plt.plot(times, e1s, label = 'inner')\n",
    "plt.plot(times, e2s, label = 'outer')\n",
    "plt.legend()"
   ]
  },
  {
   "cell_type": "markdown",
   "metadata": {},
   "source": [
    "Now fitting the `Ks_sim_rvs` signal with the forward model:"
   ]
  },
  {
   "cell_type": "code",
   "execution_count": null,
   "metadata": {},
   "outputs": [],
   "source": [
    "def get_forward_model_resids(times, params, obs_data, obs_time_base, n, yerr=1, c=c):\n",
    "    \"\"\"\n",
    "    Gets the normalized residuals for the forward model fit with the radvel function rather than rebound\n",
    "    \n",
    "    array: times: times corresponding to the observed RV data (should be the same length as obs_data)\n",
    "    list or array: params: parameters for the forward model, in the order: \n",
    "        [K1, m2/m1, e1, omega1, omegadot, P1, Tp1, rv_offset] as in the get_rv_equilibrium() function\n",
    "        k1: semi-amplitude of the inner planet, in m/s\n",
    "        m2/m1: ratio of outer planet to inner planet's mass, dimensionless\n",
    "        e1: eccentricity of inner planet, dimensionless\n",
    "        omega1: argument of pericenter of inner planet, radians\n",
    "        omegadot: rate of precession (omegadot = omegadot_1 = omegadot_2), UNITS\n",
    "        p1: period of inner planet, days\n",
    "        tp1: time of pericenter passage of inner planet, days\n",
    "        rv_offset: rv offset of star, in m/s\n",
    "    array: obs_data: observed rv data to fit the forward model rv signal to\n",
    "    float: time_base: time base for the simulation to start at\n",
    "    default array: yerr: array of errors in the observed data (by default 1) for normalization, should be same length as obs_data as well\n",
    "    default float: c: constant c for the conversion from e1/e2 to m2/m1, by default 1.07\n",
    "    default int: n: integer constant n for the multiple of 2pi/3 (n = {0, 1, 2}) to be added to M2 in the computation for tp2 (phase)\n",
    "    \"\"\"\n",
    "    obs_y = obs_data  # observed y is observed data\n",
    "    synth_y, _, _, _ = get_rv_signal_equilibrium(times, params, c, time_base = obs_time_base, n = n)  # equilibrium keplerian model rvs are synthetic y\n",
    "    obs_yerr = yerr  # by default normalized to 1, since there is no error bars on our rv signal\n",
    "    # otherwise array with the same length as obs_y\n",
    "    # return normalized residuals\n",
    "    return (obs_y - synth_y) / obs_yerr"
   ]
  },
  {
   "cell_type": "markdown",
   "metadata": {},
   "source": [
    "Test computing the residuals, making sure to scale the times by the period in days"
   ]
  },
  {
   "cell_type": "code",
   "execution_count": null,
   "metadata": {},
   "outputs": [],
   "source": [
    "eq_model_rvs, rebound_rvs, rebound_params, rebound_sim = get_rv_signal_equilibrium(times, eq_model_params, c, time_base, n = 1)\n"
   ]
  },
  {
   "cell_type": "markdown",
   "metadata": {},
   "source": [
    "Compare the $k_1, \\frac{m_2}{m_1}, e_1, \\omega_1, \\dot\\omega, P_1, T_{p1}, \\gamma$ first:"
   ]
  },
  {
   "cell_type": "code",
   "execution_count": null,
   "metadata": {},
   "outputs": [],
   "source": [
    "Ks_inner, Ks_outer = Ks_sim.particles[1], Ks_sim.particles[2]\n",
    "rb_inner, rb_outer = rebound_sim.particles[1], rebound_sim.particles[2]\n",
    "# define star\n",
    "Ks_star = Ks_sim.particles[0]\n",
    "rb_star = rebound_sim.particles[0]"
   ]
  },
  {
   "cell_type": "markdown",
   "metadata": {},
   "source": [
    "Compare the planet parameters of the true simulation to the parameters generated from the forward model (witohut integrating over time above)"
   ]
  },
  {
   "cell_type": "code",
   "execution_count": null,
   "metadata": {},
   "outputs": [],
   "source": [
    "# rebound sim params for inner planet\n",
    "mass_to_semiamp(rb_inner.m, rb_star.m, rb_inner.P, rb_inner.e, np.pi/2) * AUDAY_MS, rb_outer.m/rb_inner.m, rb_inner.e, rb_inner.omega, rb_inner.P, rb_inner.T"
   ]
  },
  {
   "cell_type": "code",
   "execution_count": null,
   "metadata": {},
   "outputs": [],
   "source": [
    "# Ks_sim params for inner planet (masses scaled by star mass and times scaled by P1)\n",
    "mass_to_semiamp(Ks_inner.m * STAR_MASS, Ks_star.m * STAR_MASS, Ks_inner.P * P1, Ks_inner.e, np.pi/2) * AUDAY_MS, Ks_outer.m/Ks_inner.m, Ks_inner.e, Ks_inner.omega, Ks_inner.P * P1, Ks_inner.T * P1"
   ]
  },
  {
   "cell_type": "code",
   "execution_count": null,
   "metadata": {},
   "outputs": [],
   "source": [
    "# rebound sim params for outer planet\n",
    "mass_to_semiamp(rb_outer.m, rb_star.m, rb_outer.P, rb_outer.e, np.pi/2) * AUDAY_MS, rb_outer.e, rb_outer.omega, rb_outer.P, rb_outer.T"
   ]
  },
  {
   "cell_type": "code",
   "execution_count": null,
   "metadata": {},
   "outputs": [],
   "source": [
    "# Ks_sim params for outer planet (masses scaled by star mass and times scaled by P1)\n",
    "mass_to_semiamp(Ks_outer.m * STAR_MASS, Ks_star.m * STAR_MASS, Ks_outer.P * P1, Ks_outer.e, np.pi/2) * AUDAY_MS, Ks_outer.e, Ks_outer.omega, Ks_outer.P * P1, Ks_outer.T * P1"
   ]
  },
  {
   "cell_type": "markdown",
   "metadata": {},
   "source": [
    "Tp2s don't agree, but everything else does..."
   ]
  },
  {
   "cell_type": "code",
   "execution_count": null,
   "metadata": {},
   "outputs": [],
   "source": [
    "eq_model_params"
   ]
  },
  {
   "cell_type": "code",
   "execution_count": null,
   "metadata": {},
   "outputs": [],
   "source": [
    "mass_to_semiamp(rb_inner.m, rb_star.m, rb_inner.P, rb_inner.e, np.pi/2) * AUDAY_MS, rb_outer.m/rb_inner.m, rb_inner.e, rb_inner.omega, rb_inner.P, rb_inner.T"
   ]
  },
  {
   "cell_type": "markdown",
   "metadata": {},
   "source": [
    "Compare $k_1, e_1, \\omega_1, P_1, T_{p1}$ ($e, \\omega$ parameterized as secos, sesin)"
   ]
  },
  {
   "cell_type": "code",
   "execution_count": null,
   "metadata": {},
   "outputs": [],
   "source": [
    "rebound_params[:5]  # params from k1 to sesin1"
   ]
  },
  {
   "cell_type": "code",
   "execution_count": null,
   "metadata": {},
   "outputs": [],
   "source": [
    "rb_inner.P, mass_to_semiamp(rb_inner.m, rb_star.m, rb_inner.P, rb_inner.e, np.pi/2) * AUDAY_MS, radvel.orbit.timeperi_to_timetrans(rb_inner.T, rb_inner.P, rb_inner.e, rb_inner.omega), np.sqrt(rb_inner.e) * np.cos(rb_inner.omega), np.sqrt(rb_inner.e) * np.sin(rb_inner.omega)"
   ]
  },
  {
   "cell_type": "markdown",
   "metadata": {},
   "source": [
    "Now compare $k_2, e_2, \\omega_2, P_2, T_{p_2}$ as well"
   ]
  },
  {
   "cell_type": "code",
   "execution_count": null,
   "metadata": {},
   "outputs": [],
   "source": [
    "rebound_params[5:]  # params starting with k2"
   ]
  },
  {
   "cell_type": "code",
   "execution_count": null,
   "metadata": {},
   "outputs": [],
   "source": [
    "rb_outer.P, mass_to_semiamp(rb_outer.m, rb_star.m, rb_outer.P, rb_outer.e, np.pi/2) * AUDAY_MS, radvel.orbit.timeperi_to_timetrans(rb_outer.T, rb_outer.P, rb_outer.e, rb_outer.omega), np.sqrt(rb_outer.e) * np.cos(rb_outer.omega), np.sqrt(rb_outer.e) * np.sin(rb_outer.omega)"
   ]
  },
  {
   "cell_type": "markdown",
   "metadata": {},
   "source": [
    "Compare `Ks_sim_rvs` and `rebound_rvs` to see why they don't match:"
   ]
  },
  {
   "cell_type": "code",
   "execution_count": null,
   "metadata": {},
   "outputs": [],
   "source": [
    "times"
   ]
  },
  {
   "cell_type": "code",
   "execution_count": null,
   "metadata": {},
   "outputs": [],
   "source": [
    "plt.figure(figsize = (12, 8))\n",
    "# rv signal fit starting from the equilibrium eccentricity track simple sim\n",
    "plt.plot(times, Ks_sim_rvs, label  = 'observed rv signal') \n",
    "# keplerian rvs and rebound rvs for the forward model using the eq_model_params\n",
    "eq_model_rvs, rebound_rvs, rebound_params, rebound_sim = get_rv_signal_equilibrium(times, eq_model_params, c, time_base, n=1)\n",
    "# plot the forward model and rebound\n",
    "plt.plot(times, eq_model_rvs, label = 'forward model')  # synth y\n",
    "# plt.plot(times, rebound_rvs, label = 'rebound')\n",
    "# plt.plot(Ks_sim_times, test_resids)\n",
    "plt.legend()"
   ]
  },
  {
   "cell_type": "markdown",
   "metadata": {},
   "source": [
    "Now fit to the forward model:"
   ]
  },
  {
   "cell_type": "code",
   "execution_count": null,
   "metadata": {},
   "outputs": [],
   "source": [
    "from scipy import optimize\n",
    "# optimize\n",
    "fit_params_forward = optimize.least_squares(lambda params: get_forward_model_resids(times, params, Ks_sim_rvs, time_base, n=1), eq_model_params)\n",
    "# takes a long time to fit"
   ]
  },
  {
   "cell_type": "markdown",
   "metadata": {},
   "source": [
    "Compare fit parameters to the original guess, params are in the order k1, m2/m1, e1, omega1, omegadot, p1, tp1, rv offset"
   ]
  },
  {
   "cell_type": "code",
   "execution_count": null,
   "metadata": {},
   "outputs": [],
   "source": [
    "print(f'Least squares fit: \\n{fit_params_forward.x}', '\\n\\n', f'Original guess: \\n {eq_model_params}')"
   ]
  },
  {
   "cell_type": "code",
   "execution_count": null,
   "metadata": {},
   "outputs": [],
   "source": [
    "np.sqrt(np.linalg.inv((fit_params_forward.jac.T @ fit_params_forward.jac))[4][4])"
   ]
  },
  {
   "cell_type": "markdown",
   "metadata": {},
   "source": [
    "And compare the forward model/rebound simulation using the best-fit parameters to the \"observed\" data from the rv signal generated from the eccentricity track simple sim at equilibirum, all on the same graph:"
   ]
  },
  {
   "cell_type": "code",
   "execution_count": null,
   "metadata": {
    "scrolled": false
   },
   "outputs": [],
   "source": [
    "# compute rv signals\n",
    "fit_params_empirical = fit_params_forward.x.copy()\n",
    "# fit_params_empirical[4] = -3.85806671e-04\n",
    "\n",
    "fit_eq_rvs, fit_rebound_rvs, _, _ = get_rv_signal_equilibrium(times, fit_params_empirical, c, time_base, n= 1)\n",
    "eq_model_rvs, rebound_rvs, _, _ = get_rv_signal_equilibrium(times, eq_model_params, c, time_base, n = 1)\n",
    "# in our model we are fitting fit_eq_rvs using the forward model, to the Ks_sim_rvs generated using rebound from the equilibrium eccentricity simulations\n",
    "\n",
    "# Plot:\n",
    "plt.figure(figsize = (12, 8))\n",
    "# forward model and rebound for original guess:\n",
    "# plt.plot(times, eq_model_rvs, label = 'forward model (original)')\n",
    "# plt.plot(times, rebound_rvs, label = 'rebound (original)')\n",
    "# forward model and rebound for fit params:\n",
    "plt.plot(times, fit_eq_rvs, label = 'forward model (fit)')\n",
    "# plt.plot(times, fit_rebound_rvs, label = 'rebound (fit)')\n",
    "# \"observed\" values, rv signal generated for equilibrium\n",
    "plt.plot(times, Ks_sim_rvs, label = 'observed')\n",
    "plt.legend()\n",
    "plt.show()"
   ]
  },
  {
   "cell_type": "code",
   "execution_count": null,
   "metadata": {},
   "outputs": [],
   "source": [
    "fit_eq_rvs, Ks_sim_rvs"
   ]
  },
  {
   "cell_type": "code",
   "execution_count": null,
   "metadata": {},
   "outputs": [],
   "source": [
    "get_rv_signal_equilibrium"
   ]
  },
  {
   "cell_type": "markdown",
   "metadata": {},
   "source": [
    "Now fit to the observed values, using the original best-fit params. First setting up the observed data, parameterizing using secos and sesin instead of $e$, $\\omega$:"
   ]
  },
  {
   "cell_type": "code",
   "execution_count": null,
   "metadata": {},
   "outputs": [],
   "source": [
    "def get_rv_signal_equilibrium_se(times, params, c, time_base, n):\n",
    "    \"\"\"\n",
    "    Gets an RV signal under the equilibrium constraints using the radvel.kepler.rv_drive() function\n",
    "    for a set of 7 equilibrium parameters as well as the constant c in the equation e1/e2 = c * m2/m1,\n",
    "    and the base time time_base\n",
    "    \n",
    "    Note that this parametrizes the system using secos1 and sesin1 rather than e1 and omega1\n",
    "    \n",
    "    Params are in the order K1, m2/m1, secos1, sesin1, omegadot, P1, Tp1, rv_offset\n",
    "    \n",
    "    k1: semi-amplitude of the inner planet, in m/s\n",
    "    m2/m1: ratio of outer planet to inner planet's mass, dimensionless\n",
    "    secos1: sqrt(e1) * cos(omega1), where e1 is the eccentricity of the inner planet (dimensionless)\n",
    "        and omega1 is the argument of pericenter of the inner planet (radians)\n",
    "    sesin1: sqrt(e1) * sin(omega1), where e1 is the eccentricity of the inner planet (dimensionless)\n",
    "        and omega1 is the argument of pericenter of the inner planet (radians)\n",
    "    omegadot: rate of precession (omegadot = omegadot_1 = omegadot_2), rad/day\n",
    "    p1: period of inner planet, days\n",
    "    tp1: time of pericenter passage of inner planet, days\n",
    "    rv_offset: rv offset of star, in m/s\n",
    "    \n",
    "    n is some nultiple of 2pi/3 (n = {0, 1, 2}) to add to M2 for the phase, this is usually determined empirically\n",
    "    \n",
    "    return tuple of keplerian and rebound rvs, both generated using the set of parameters passed, and the rebound params used\n",
    "    to generate the simulation\n",
    "    \n",
    "    kep_rvs: keplerian forward model (using radvel.kepler.rv_drive() function) rvs, m/s\n",
    "    rb_rvs: rebound rvs, m/s\n",
    "    rb_params: parameters used to generate the rebound simulation (for the rvs)\n",
    "    [p1, k1, tc1, secos1, sesin1, p2, k2, tc2, secos2, sesin2, rv_offset]\n",
    "    \"\"\"\n",
    "    k1, m2m1, secos1, sesin1, omegadot, p1, tp1, rv_offset = params  # params are in this order\n",
    "    # compute e1 and omega1 from secos, sesin for use later\n",
    "    e1 = secos1 ** 2 + sesin1 ** 2  # compute e1\n",
    "    omega1 = np.arctan2(sesin1, secos1)  # compute omega1 -- note that arctan2 uses arguments sesin, secos in that order!\n",
    "    # compute m1 from K1 and e1 using semiamp_to_mass\n",
    "    # divide the semi amplitude by auday_ms since it is given in m/s and semiamp_to_mass takes it in au/day\n",
    "    m1 = semiamp_to_mass(semiamp = k1/AUDAY_MS, star_mass = STAR_MASS, period = p1, eccentricity = e1, inclination = np.pi/2)\n",
    "    # compute m2 using m1 and m2/m1 as a parameter\n",
    "    m2 = m2m1 * m1\n",
    "    # compute e2 using e1, m1, m2 and the constant c\n",
    "    e2 = (e1 * m1)/(c * m2)\n",
    "    # compute p2 usng omegadot, since thetadot1 = thetadot2 = 0\n",
    "    p2 = (3 * np.pi * p1)/(2 * np.pi + p1 * omegadot)  # rearrange the equation\n",
    "    # compute K2 using m2, e2, and p2\n",
    "    # multiply the resulting semi amplitude by auday_ms to get into m/s since mass_to_semiamp returns it in au/day\n",
    "    k2 = mass_to_semiamp(planet_mass = m2, star_mass = STAR_MASS, period = p2, eccentricity = e2, inclination=np.pi/2) * AUDAY_MS\n",
    "    # compute omega2 as omega1 + pi\n",
    "    omega2 = omega1 + np.pi\n",
    "    # finally compute Tp2\n",
    "    M1 = (2 * np.pi)/p1 * (time_base - tp1)  # intermedaite step, compute M1\n",
    "    n = n  # add some multiple n = {0, 1, 2} of 2pi/3 to M2, determined empirically\n",
    "    theta1_eq = 0  # 0 instead of pi for M2 computation\n",
    "    M2 = (1/3) * (theta1_eq + 2 * M1 - 3 * np.pi) + (n * 2/3) * np.pi  # intermediate step, compute M2\n",
    "     \n",
    "    tp2 = time_base - (p2 * M2)/(2 * np.pi)  # then compute tp2 from M2 and p2\n",
    "    # tp2 = time_base - (2/3) * (p2/p1) * (time_base - tp1)\n",
    "    \n",
    "    # then put these into the radvel.kepler.rv_drive() function:\n",
    "    # p1, tp1, e1, omega1, k1, plus omegadot implemented using list comprehension and adding t * omegadot to omega1\n",
    "    inner_signal = np.array([radvel.kepler.rv_drive(np.array([t]), [p1, tp1 + (p1 * omegadot * t)/(2 * np.pi), e1, omega1 + (t - time_base) * omegadot, k1]) for t in times]).reshape(-1)\n",
    "    # same for outer\n",
    "    outer_signal = np.array([radvel.kepler.rv_drive(np.array([t]), [p2, tp2 + (p2 * omegadot * t)/(2 * np.pi), e2, omega2 + (t - time_base) * omegadot, k2]) for t in times]).reshape(-1)\n",
    "    # return the sum of the two signals (since it's keplerian), plus the constant rv offset\n",
    "    kep_rvs = inner_signal + outer_signal + rv_offset\n",
    "    \n",
    "    # now generate rvs from rebound using these parameters and a couple others\n",
    "    # time of conjunction\n",
    "    tc1 = radvel.orbit.timeperi_to_timetrans(tp1, p1, e1, omega1)\n",
    "    tc2 = radvel.orbit.timeperi_to_timetrans(tp2, p2, e2, omega2)\n",
    "    # sesin and secos\n",
    "    secos2, sesin2 = np.sqrt(e2) * np.array([np.cos(omega2), np.sin(omega2)])\n",
    "    # rebound parameters\n",
    "    rb_params = [p1, k1, tc1, secos1, sesin1, p2, k2, tc2, secos2, sesin2, rv_offset]\n",
    "    # get rvs using this\n",
    "    rb_rvs = get_rvs(rb_params, inclination = np.pi/2, times = times, integrator = 'ias15', time_base = time_base)\n",
    "    rb_sim = get_sim_from_params(rb_params, inclination = np.pi/2, integrator = 'ias15', time_base = time_base)\n",
    "    # return keplerian rvs, rebound rvs and the rebound parameters and simulation used to generate the rebound rvs as a 3-tuple\n",
    "    # print(e1, e2)\n",
    "    return kep_rvs, rb_rvs, rb_params, rb_sim\n",
    "\n",
    "\n",
    "def get_forward_model_resids_se(times, params, obs_data, obs_time_base, yerr=1, c=c, n=0):\n",
    "    \"\"\"\n",
    "    Gets the normalized residuals for the forward model fit with the radvel function rather than rebound\n",
    "    \n",
    "    This uses the get_rv_signal_equilibrium() function that parametrizes using secos1, sesin1 instead of e1, omega1\n",
    "    \n",
    "    array: times: times corresponding to the observed RV data (should be the same length as obs_data)\n",
    "    list or array: params: parameters for the forward model, in the order: \n",
    "        [K1, m2/m1, secos1, sesin1, omegadot, P1, Tp1, rv_offset] as in the get_rv_equilibrium() function\n",
    "        k1: semi-amplitude of the inner planet, in m/s\n",
    "        m2/m1: ratio of outer planet to inner planet's mass, dimensionless\n",
    "        secos1: sqrt(e1) * cos(omega1), where e1 is the eccentricity of the inner planet (dimensionless)\n",
    "            and omega1 is the argument of pericenter of the inner planet (radians)\n",
    "        sesin1: sqrt(e1) * sin(omega1), where e1 is the eccentricity of the inner planet (dimensionless)\n",
    "            and omega1 is the argument of pericenter of the inner planet (radians)\n",
    "        omegadot: rate of precession (omegadot = omegadot_1 = omegadot_2), rad/day\n",
    "        p1: period of inner planet, days\n",
    "        tp1: time of pericenter passage of inner planet, days\n",
    "        rv_offset: rv offset of star, in m/s\n",
    "    array: obs_data: observed rv data to fit the forward model rv signal to\n",
    "    float: time_base: time base for the simulation to start at\n",
    "    default array: yerr: array of errors in the observed data (by default 1) for normalization, should be same length as obs_data as well\n",
    "    default float: c: constant c for the conversion from e1/e2 to m2/m1, by default 1.07\n",
    "    \"\"\"\n",
    "    obs_y = obs_data  # observed y is observed data\n",
    "    synth_y, _, _, _ = get_rv_signal_equilibrium_se(times, params, c, time_base = obs_time_base, n=n)  # equilibrium keplerian model rvs are synthetic y\n",
    "    obs_yerr = yerr  # by default normalized to 1, since there is no error bars on our rv signal\n",
    "    # otherwise array with the same length as obs_y\n",
    "    # return normalized residuals\n",
    "    return (obs_y - synth_y) / obs_yerr"
   ]
  },
  {
   "cell_type": "markdown",
   "metadata": {},
   "source": [
    "Fit using the least squares optimized params with secos1, sesin1 instead of e1, omega1"
   ]
  },
  {
   "cell_type": "code",
   "execution_count": null,
   "metadata": {},
   "outputs": [],
   "source": [
    "# least squares fit\n",
    "fit_params = [ 2.28513053e+02, 7.27743508e+00, 5.39371890e+04, -1.78110513e-01, \n",
    "              -4.66450116e-02, 3.43378023e+02, 1.78603199e+01, 5.40186750e+04,\n",
    "               1.32165040e-01, 9.73129308e-02, -5.29039776e-01] \n",
    "\n",
    "obs_time_base = np.median(hd_data.BJD)  # set time base to this\n",
    "\n",
    "# convert these to the forward model parameters of k1, m2m1, e1, omega1, omegadot, p1, tp1, rv_offset\n",
    "sim = get_sim_from_params(fit_params, inclination = np.pi/2, integrator = 'ias15', time_base = obs_time_base)  # get sim from fit params\n",
    "inner, outer = sim.particles[1], sim.particles[2]  # inner and outer planets\n",
    "\n",
    "# compute the forward model parameters\n",
    "k1 = mass_to_semiamp(planet_mass=inner.m, star_mass=STAR_MASS, period=inner.P, eccentricity=inner.e, inclination=np.pi/2) * AUDAY_MS  # semiamp, multiply by AUDAY_MS to convert from au/day to m/s\n",
    "m2m1 = outer.m/inner.m  # mass ratio, dimensionless\n",
    "secos1, sesin1 = np.sqrt(inner.e) * np.array([np.cos(inner.omega), np.sin(inner.omega)])  # secos and sesin, e dimensionless and omega in rad\n",
    "omegadot = 0  # use 0\n",
    "p1 = inner.P  # period, days\n",
    "tp1 = inner.T  # time of pericenter passage, days\n",
    "rv_offset = fit_params[-1]  # last element of fit_params is rv_offset already, in m/s\n",
    "\n",
    "# now put it all together\n",
    "obs_params = [k1, m2m1, secos1, sesin1, omegadot, p1, tp1, rv_offset]  # in order\n",
    "\n",
    "# observed times\n",
    "obs_times = hd_data.BJD  # observed times\n",
    "# observed rvs and errorbars\n",
    "obs_rvs = hd_data.RV_mlc_nzp  # observed rvs\n",
    "obs_yerrs = hd_data.e_RV_mlc_nzp  # observed error bars\n",
    "\n",
    "obs_params"
   ]
  },
  {
   "cell_type": "code",
   "execution_count": null,
   "metadata": {},
   "outputs": [],
   "source": [
    "gsim = get_sim_from_params(fit_params, inclination = np.pi/2, integrator = 'ias15', time_base = obs_time_base)\n",
    "gsim.particles[1].e, gsim.particles[2].e\n",
    "\n",
    "# e2 computed using the e2 = e1m1/cm2 method is wrong, should be ~0.027 but computed value is ~0.011\n",
    "gsim.particles[2].e, (gsim.particles[1].e * gsim.particles[1].m)/(gsim.particles[2].m * c)"
   ]
  },
  {
   "cell_type": "markdown",
   "metadata": {},
   "source": [
    "Now doing the fit:"
   ]
  },
  {
   "cell_type": "code",
   "execution_count": null,
   "metadata": {},
   "outputs": [],
   "source": [
    "obs_fit_params = optimize.least_squares(lambda params: get_forward_model_resids_se(obs_times, params, obs_rvs, obs_time_base, n= 0), obs_params)\n",
    "# takes a long time to fit"
   ]
  },
  {
   "cell_type": "markdown",
   "metadata": {},
   "source": [
    "And comparing the fit `obs_fit_params` to the original guess `obs_params`:"
   ]
  },
  {
   "cell_type": "code",
   "execution_count": null,
   "metadata": {},
   "outputs": [],
   "source": [
    "print(f'Least squares fit: \\n{obs_fit_params.x}', '\\n\\n', f'Original guess: \\n {obs_params}')"
   ]
  },
  {
   "cell_type": "markdown",
   "metadata": {},
   "source": [
    "Compare $m_1, m_2$ values for original and fit parameters:"
   ]
  },
  {
   "cell_type": "code",
   "execution_count": null,
   "metadata": {},
   "outputs": [],
   "source": [
    "orig_m1 = semiamp_to_mass(obs_params[0]/AUDAY_MS, STAR_MASS, obs_params[5], obs_params[2] ** 2 + obs_params[3] ** 2, np.pi/2)\n",
    "orig_m1, orig_m1 * obs_params[1]  # observed m1 and m2 values from the original, mjup"
   ]
  },
  {
   "cell_type": "code",
   "execution_count": null,
   "metadata": {},
   "outputs": [],
   "source": [
    "fit_m1 = semiamp_to_mass(obs_fit_params.x[0]/AUDAY_MS, STAR_MASS, obs_fit_params.x[5], obs_fit_params.x[2] ** 2 + obs_fit_params.x[3] ** 2, np.pi/2)\n",
    "fit_m1, fit_m1 * obs_fit_params.x[1]  # fit m1 and m2 values, mjup"
   ]
  },
  {
   "cell_type": "markdown",
   "metadata": {},
   "source": [
    "Compare $e_1$ and $\\omega_1$ values for the original vs. fitparameters:"
   ]
  },
  {
   "cell_type": "code",
   "execution_count": null,
   "metadata": {},
   "outputs": [],
   "source": [
    "obs_params[2] ** 2 + obs_params[3] ** 2, np.arctan2(obs_params[3], obs_params[2])  \n",
    "#e1, omega1, same as the given parameters modulo 2pi for omega"
   ]
  },
  {
   "cell_type": "code",
   "execution_count": null,
   "metadata": {},
   "outputs": [],
   "source": [
    "obs_fit_params.x[2] ** 2 + obs_fit_params.x[3] ** 2, np.arctan2(obs_fit_params.x[3], obs_fit_params.x[2])  \n",
    "#e1, omega1, not the same (modulo 2pi)"
   ]
  },
  {
   "cell_type": "markdown",
   "metadata": {},
   "source": [
    "And plot the original guess versus the fit against the observed data (should be pretty close since the original parameters are a good fit). \n",
    "\n",
    "Note that for this case we need $n = 0$ for adding a constant multiple of $\\frac{2\\pi}{3}$ to the mean anomaly, while for the earlier case (using the eccentricitky track simulations) it was $n = 1$"
   ]
  },
  {
   "cell_type": "code",
   "execution_count": null,
   "metadata": {},
   "outputs": [],
   "source": [
    "# generate rv curve using the original parameters and the fit parameters\n",
    "# generate times to plot the rvs against\n",
    "times = np.linspace(np.min(obs_times), np.max(obs_times), int(1e4))  # 1000 points should be good enough\n",
    "# generate rv curves using that time array\n",
    "obs_eq_fit_rvs, obs_rebound_fit_rvs, _, _ = get_rv_signal_equilibrium_se(times, obs_fit_params.x, c, obs_time_base, n= 0)  # forward model fit params\n",
    "obs_eq_original_rvs, obs_rebound_original_rvs, _, _ = get_rv_signal_equilibrium_se(times, obs_params, c, obs_time_base, n=0)  # original fit params\n",
    "\n",
    "# Plot:\n",
    "plt.figure(figsize = (12, 8))\n",
    "# observed data points\n",
    "plt.errorbar(obs_times, obs_rvs, yerr = obs_yerrs, fmt='o', label = 'Observed RVs')\n",
    "# forward model with the forward model-fit parameters\n",
    "plt.plot(times, obs_eq_fit_rvs, label = 'forward model (fit params)')\n",
    "# forward model with the original (best-fit from the original least-squares optimization) parameters\n",
    "plt.plot(times, obs_eq_original_rvs, label = 'forward model (original params)')\n",
    "plt.plot(times, obs_rebound_original_rvs, label = 'rebound model (original params)') # rebound model with the original (best-fit from the original least-squares optimization) parameters\n",
    "plt.xlabel('BJD - 2.4e6'), plt.ylabel('RV (m/s)')\n",
    "plt.legend()\n",
    "plt.show()"
   ]
  },
  {
   "cell_type": "code",
   "execution_count": null,
   "metadata": {},
   "outputs": [],
   "source": [
    "def get_rv_signal_equilibrium_two_planet(times, params, c, time_base):\n",
    "    \"\"\"\n",
    "    Gets an RV signal under the equilibrium constraints using the radvel.kepler.rv_drive() function\n",
    "    for a set of 7 equilibrium parameters as well as the constant c in the equation e1/e2 = c * m2/m1,\n",
    "    and the base time time_base\n",
    "    \n",
    "    Note that this parametrizes the system using secos1 and sesin1 rather than e1 and omega1\n",
    "    \n",
    "    Params are in the order K1, m2/m1, secos1, sesin1, omegadot, P1, Tp1, rv_offset\n",
    "    \n",
    "    k1: semi-amplitude of the inner planet, in m/s\n",
    "    m2/m1: ratio of outer planet to inner planet's mass, dimensionless\n",
    "    secos1: sqrt(e1) * cos(omega1), where e1 is the eccentricity of the inner planet (dimensionless)\n",
    "        and omega1 is the argument of pericenter of the inner planet (radians)\n",
    "    sesin1: sqrt(e1) * sin(omega1), where e1 is the eccentricity of the inner planet (dimensionless)\n",
    "        and omega1 is the argument of pericenter of the inner planet (radians)\n",
    "    omegadot: rate of precession (omegadot = omegadot_1 = omegadot_2), rad/day\n",
    "    p1: period of inner planet, days\n",
    "    tp1: time of pericenter passage of inner planet, days\n",
    "    rv_offset: rv offset of star, in m/s\n",
    "    \n",
    "    return tuple of keplerian and rebound rvs, both generated using the set of parameters passed, and the rebound params used\n",
    "    to generate the simulation\n",
    "    \n",
    "    kep_rvs: keplerian forward model (using radvel.kepler.rv_drive() function) rvs, m/s\n",
    "    rb_rvs: rebound rvs, m/s\n",
    "    rb_params: parameters used to generate the rebound simulation (for the rvs)\n",
    "    [p1, k1, tc1, secos1, sesin1, p2, k2, tc2, secos2, sesin2, rv_offset]\n",
    "    \"\"\"\n",
    "    k1, m2m1, secos1, sesin1, omegadot, p1, tp1, rv_offset = params  # params are in this order\n",
    "    # compute e1 and omega1 from secos, sesin for use later\n",
    "    e1 = secos1 ** 2 + sesin1 ** 2  # compute e1\n",
    "    omega1 = np.arctan2(sesin1, secos1)  # compute omega1 -- note that arctan2 uses arguments sesin, secos in that order!\n",
    "    # compute m1 from K1 and e1 using semiamp_to_mass\n",
    "    # divide the semi amplitude by auday_ms since it is given in m/s and semiamp_to_mass takes it in au/day\n",
    "    m1 = semiamp_to_mass(semiamp = k1/AUDAY_MS, star_mass = STAR_MASS, period = p1, eccentricity = e1, inclination = np.pi/2)\n",
    "    # compute m2 using m1 and m2/m1 as a parameter\n",
    "    m2 = m2m1 * m1\n",
    "    # compute e2 using e1, m1, m2 and the constant c\n",
    "    e2 = (e1 * m1)/(c * m2)\n",
    "    # compute p2 usng omegadot, since thetadot1 = thetadot2 = 0\n",
    "    p2 = (3 * np.pi * p1)/(2 * np.pi + p1 * omegadot)  # rearrange the equation\n",
    "    # compute K2 using m2, e2, and p2\n",
    "    # multiply the resulting semi amplitude by auday_ms to get into m/s since mass_to_semiamp returns it in au/day\n",
    "    k2 = mass_to_semiamp(planet_mass = m2, star_mass = STAR_MASS, period = p2, eccentricity = e2, inclination=np.pi/2) * AUDAY_MS\n",
    "    # compute omega2 as omega1 + pi\n",
    "    omega2 = omega1 + np.pi\n",
    "    # finally compute Tp2\n",
    "    M1 = (2 * np.pi)/p1 * (time_base - tp1)  # intermedaite step, compute M1\n",
    "    n = 0  # add some multiple n = {0, 1, 2} of 2pi/3 to M2, determined empirically\n",
    "    theta1_eq = 0  # 0 instead of pi for M2 computation\n",
    "    M2 = (1/3) * (theta1_eq + 2 * M1 - 3 * np.pi) + (n * 2/3) * np.pi  # intermediate step, compute M2\n",
    "     \n",
    "    tp2 = time_base - (p2 * M2)/(2 * np.pi)  # then compute tp2 from M2 and p2\n",
    "    # tp2 = time_base - (2/3) * (p2/p1) * (time_base - tp1)\n",
    "    \n",
    "    # then put these into the radvel.kepler.rv_drive() function:\n",
    "    # p1, tp1, e1, omega1, k1, plus omegadot implemented using list comprehension and adding t * omegadot to omega1\n",
    "    inner_signal = np.array([radvel.kepler.rv_drive(np.array([t]), [p1, tp1 + (p1 * omegadot * t)/(2 * np.pi), e1, omega1 + (t - time_base) * omegadot, k1]) for t in times]).reshape(-1)\n",
    "    # same for outer\n",
    "    outer_signal = np.array([radvel.kepler.rv_drive(np.array([t]), [p2, tp2 + (p2 * omegadot * t)/(2 * np.pi), e2, omega2 + (t - time_base) * omegadot, k2]) for t in times]).reshape(-1)\n",
    "    # return the sum of the two signals (since it's keplerian), plus the constant rv offset\n",
    "    kep_rvs = inner_signal + outer_signal + rv_offset\n",
    "    \n",
    "    # now generate rvs from rebound using these parameters and a couple others\n",
    "    # time of conjunction\n",
    "    tc1 = radvel.orbit.timeperi_to_timetrans(tp1, p1, e1, omega1)\n",
    "    tc2 = radvel.orbit.timeperi_to_timetrans(tp2, p2, e2, omega2)\n",
    "    # sesin and secos\n",
    "    secos2, sesin2 = np.sqrt(e2) * np.array([np.cos(omega2), np.sin(omega2)])\n",
    "    # rebound parameters\n",
    "    rb_params = [p1, k1, tc1, secos1, sesin1, p2, k2, tc2, secos2, sesin2, rv_offset]\n",
    "    # get rvs using this\n",
    "    rb_rvs = get_rvs(rb_params, inclination = np.pi/2, times = times, integrator = 'ias15', time_base = time_base)\n",
    "    rb_sim = get_sim_from_params(rb_params, inclination = np.pi/2, integrator = 'ias15', time_base = time_base)\n",
    "    # return keplerian rvs, rebound rvs and the rebound parameters and simulation used to generate the rebound rvs as a 3-tuple\n",
    "    return inner_signal, outer_signal, rb_rvs, rb_params, rb_sim"
   ]
  },
  {
   "cell_type": "code",
   "execution_count": null,
   "metadata": {},
   "outputs": [],
   "source": [
    "times = np.linspace(min(obs_times), min(obs_times) + 228 * 5, 1000)\n",
    "\n",
    "plt.figure(figsize = (14, 8))\n",
    "for e in np.linspace(0, 0.1, 10):\n",
    "    new_params = obs_fit_params.x.copy()\n",
    "    omega = np.pi/2\n",
    "    new_params[2] = np.sqrt(e) * np.cos(omega)\n",
    "    new_params[3] = np.sqrt(e) * np.sin(omega)\n",
    "    inner_signal, outer_signal, _, _, _ = get_rv_signal_equilibrium_two_planet(times, new_params, c, obs_time_base)\n",
    "    \n",
    "    plt.plot(times, inner_signal, label = e)\n",
    "    plt.plot(times, outer_signal, label = e)"
   ]
  },
  {
   "cell_type": "markdown",
   "metadata": {},
   "source": [
    "# MCMC:"
   ]
  },
  {
   "cell_type": "markdown",
   "metadata": {},
   "source": [
    "Parameterize by $[k_1, \\frac{m_2}{m_1}, \\sqrt{e_1}\\cos\\left(\\omega_1\\right), \\sqrt{e_1}\\sin\\left(\\omega_1\\right), \\dot{\\omega}, P_1, T_{c_1}, \\gamma]$ (Tc in place of Tp)"
   ]
  },
  {
   "cell_type": "markdown",
   "metadata": {},
   "source": [
    "Define a log prior, log likelihood and log probability for use with the `get_rv_signal_equilibrium()` function for MCMC:"
   ]
  },
  {
   "cell_type": "code",
   "execution_count": null,
   "metadata": {},
   "outputs": [],
   "source": [
    "def get_rv_signal_equilibrium_tc(times, params, c, time_base, n=0):\n",
    "    \"\"\"\n",
    "    Gets an RV signal under the equilibrium constraints using the radvel.kepler.rv_drive() function\n",
    "    for a set of 7 equilibrium parameters as well as the constant c in the equation e1/e2 = c * m2/m1,\n",
    "    and the base time time_base\n",
    "    \n",
    "    Note that this parametrizes the system using secos1 and sesin1 rather than e1 and omega1, and also uses \n",
    "    tc1 rather than tp1 to parameterize as well\n",
    "    \n",
    "    Params are in the order K1, m2/m1, secos1, sesin1, omegadot, P1, tc1, rv_offset\n",
    "    \n",
    "    k1: semi-amplitude of the inner planet, in m/s\n",
    "    m2/m1: ratio of outer planet to inner planet's mass, dimensionless\n",
    "    secos1: sqrt(e1) * cos(omega1), where e1 is the eccentricity of the inner planet (dimensionless)\n",
    "        and omega1 is the argument of pericenter of the inner planet (radians)\n",
    "    sesin1: sqrt(e1) * sin(omega1), where e1 is the eccentricity of the inner planet (dimensionless)\n",
    "        and omega1 is the argument of pericenter of the inner planet (radians)\n",
    "    omegadot: rate of precession (omegadot = omegadot_1 = omegadot_2), rad/day\n",
    "    p1: period of inner planet, days\n",
    "    tc1: time of transit of inner planet, days\n",
    "    rv_offset: rv offset of star, in m/s\n",
    "    \n",
    "    n is some nultiple of 2pi/3 (n = {0, 1, 2}) to add to M2 for the phase, this is usually determined empirically\n",
    "    \n",
    "    return tuple of keplerian and rebound rvs, both generated using the set of parameters passed, and the rebound params used\n",
    "    to generate the simulation\n",
    "    \n",
    "    kep_rvs: keplerian forward model (using radvel.kepler.rv_drive() function) rvs, m/s\n",
    "    rb_rvs: rebound rvs, m/s\n",
    "    rb_params: parameters used to generate the rebound simulation (for the rvs)\n",
    "    [p1, k1, tc1, secos1, sesin1, p2, k2, tc2, secos2, sesin2, rv_offset]\n",
    "    \"\"\"\n",
    "    k1, m2m1, secos1, sesin1, omegadot, p1, tc1, rv_offset = params  # params are in this order\n",
    "    # compute e1 and omega1 from secos, sesin for use later\n",
    "    e1 = secos1 ** 2 + sesin1 ** 2  # compute e1\n",
    "    omega1 = np.arctan2(sesin1, secos1)  # compute omega1 -- note that arctan2 uses arguments sesin, secos in that order!\n",
    "    tp1 = radvel.orbit.timetrans_to_timeperi(tc=tc1, per=p1, ecc=e1, omega=omega1)  # compute tp1 from tc1\n",
    "    # compute m1 from K1 and e1 using semiamp_to_mass\n",
    "    # divide the semi amplitude by auday_ms since it is given in m/s and semiamp_to_mass takes it in au/day\n",
    "    m1 = semiamp_to_mass(semiamp = k1/AUDAY_MS, star_mass = STAR_MASS, period = p1, eccentricity = e1, inclination = np.pi/2)\n",
    "    # compute m2 using m1 and m2/m1 as a parameter\n",
    "    m2 = m2m1 * m1\n",
    "    # compute e2 using e1, m1, m2 and the constant c\n",
    "    e2 = (e1 * m1)/(c * m2)\n",
    "    # compute p2 usng omegadot, since thetadot1 = thetadot2 = 0\n",
    "    p2 = (3 * np.pi * p1)/(2 * np.pi + p1 * omegadot)  # rearrange the equation\n",
    "    # compute K2 using m2, e2, and p2\n",
    "    # multiply the resulting semi amplitude by auday_ms to get into m/s since mass_to_semiamp returns it in au/day\n",
    "    k2 = mass_to_semiamp(planet_mass = m2, star_mass = STAR_MASS, period = p2, eccentricity = e2, inclination=np.pi/2) * AUDAY_MS\n",
    "    # compute omega2 as omega1 + pi\n",
    "    omega2 = omega1 + np.pi\n",
    "    # finally compute Tp2\n",
    "    M1 = (2 * np.pi)/p1 * (time_base - tp1)  # intermedaite step, compute M1\n",
    "    # add some multiple n = {0, 1, 2} of 2pi/3 to M2, determined empirically\n",
    "    \n",
    "    # then put these into the radvel.kepler.rv_drive() function:\n",
    "    # p1, tp1, e1, omega1, k1, plus omegadot implemented using list comprehension and adding t * omegadot to omega1\n",
    "    inner_signal = np.array([radvel.kepler.rv_drive(np.array([t]), [p1, tp1 + (p1 * omegadot * t)/(2 * np.pi), e1, omega1 + (t - time_base) * omegadot, k1]) for t in times]).reshape(-1)\n",
    "    \n",
    "    # outputs just the signal corresponding to n\n",
    "    theta1_eq = 0  # 0 instead of pi for M2 computation\n",
    "    M2 = (1/3) * (theta1_eq + 2 * M1 - 3 * np.pi) + (n * 2/3) * np.pi  # intermediate step, compute M2\n",
    "    tp2 = time_base - (p2 * M2)/(2 * np.pi)\n",
    "    # tp2 = time_base - (2/3) * (p2/p1) * (time_base - tp1)\n",
    "    outer_signal = np.array([radvel.kepler.rv_drive(np.array([t]), [p2, tp2 + (p2 * omegadot * t)/(2 * np.pi), e2, omega2 + (t - time_base) * omegadot, k2]) for t in times]).reshape(-1)\n",
    "    kep_rvs = inner_signal + outer_signal + rv_offset\n",
    "    \n",
    "    # OUTPUTS ALL 3 SIGNALS FOR DIFFERENT PHASES (ALL OF N = 0, 1, 2)\n",
    "#     kep_rvs = np.zeros((3, len(times)))\n",
    "    \n",
    "#     for i in [0, 1, 2]:\n",
    "#         M2 = (1/3) * (theta1_eq + 2 * M1 - 3 * np.pi) + (i * 2/3) * np.pi\n",
    "#         tp2 = time_base - (p2 * M2)/(2 * np.pi)\n",
    "#         outer_signal = np.array([radvel.kepler.rv_drive(np.array([t]), [p2, tp2 + (p2 * omegadot * t)/(2 * np.pi), e2, omega2 + (t - time_base) * omegadot, k2]) for t in times]).reshape(-1)\n",
    "#         kep_rvs[i] = inner_signal + outer_signal + rv_offset     # return the sum of the two signals (since it's keplerian), plus the constant rv offset\n",
    "\n",
    "    # then compute rebound params\n",
    "        \n",
    "    # time of conjunction\n",
    "    tc1 = radvel.orbit.timeperi_to_timetrans(tp1, p1, e1, omega1)\n",
    "    tc2 = radvel.orbit.timeperi_to_timetrans(tp2, p2, e2, omega2)\n",
    "    # sesin2 and secos2\n",
    "    # secos1, sesin1 = np.sqrt(e1) * np.array([np.cos(omega1), np.sin(omega1)])\n",
    "    secos2, sesin2 = np.sqrt(e2) * np.array([np.cos(omega2), np.sin(omega2)])\n",
    "    # rebound parameters\n",
    "    rb_params = [p1, k1, tc1, secos1, sesin1, p2, k2, tc2, secos2, sesin2, rv_offset]\n",
    "\n",
    "    # return keplerian rvs and rebound params\n",
    "    return kep_rvs, rb_params\n",
    "\n",
    "def get_forward_model_resids_tc(times, params, obs_data, obs_time_base, yerr=1, c=c, n=0):\n",
    "    \"\"\"\n",
    "    Gets the normalized residuals for the forward model fit with the radvel function rather than rebound\n",
    "    \n",
    "    This uses the get_rv_signal_equilibrium_tc() function that parametrizes using secos1, sesin1 instead of e1, omega1\n",
    "    and uses tc1 instead of tp1 to parameterize the time of conjunction\n",
    "    \n",
    "    array: times: times corresponding to the observed RV data (should be the same length as obs_data)\n",
    "    list or array: params: parameters for the forward model, in the order: \n",
    "        [K1, m2/m1, secos1, sesin1, omegadot, P1, Tc1, rv_offset] as in the get_rv_equilibrium() function\n",
    "        k1: semi-amplitude of the inner planet, in m/s\n",
    "        m2/m1: ratio of outer planet to inner planet's mass, dimensionless\n",
    "        secos1: sqrt(e1) * cos(omega1), where e1 is the eccentricity of the inner planet (dimensionless)\n",
    "            and omega1 is the argument of pericenter of the inner planet (radians)\n",
    "        sesin1: sqrt(e1) * sin(omega1), where e1 is the eccentricity of the inner planet (dimensionless)\n",
    "            and omega1 is the argument of pericenter of the inner planet (radians)\n",
    "        omegadot: rate of precession (omegadot = omegadot_1 = omegadot_2), rad/day\n",
    "        p1: period of inner planet, days\n",
    "        tc1: time of conjunction of inner planet, days\n",
    "        rv_offset: rv offset of star, in m/s\n",
    "    array: obs_data: observed rv data to fit the forward model rv signal to\n",
    "    float: time_base: time base for the simulation to start at\n",
    "    default array: yerr: array of errors in the observed data (by default 1) for normalization, should be same length as obs_data as well\n",
    "    default float: c: constant c for the conversion from e1/e2 to m2/m1, by default 1.07\n",
    "    \"\"\"\n",
    "    obs_y = obs_data  # observed y is observed data\n",
    "    synth_y, _ = get_rv_signal_equilibrium_tc(times, params, c, time_base = obs_time_base, n=n)  # equilibrium keplerian model rvs are synthetic y\n",
    "    obs_yerr = yerr  # by default normalized to 1, since there is no error bars on our rv signal\n",
    "    # otherwise array with the same length as obs_y\n",
    "    # return normalized residuals\n",
    "    return (obs_y - synth_y) / obs_yerr\n",
    "\n",
    "def log_prior(params, e_max=1):\n",
    "    \"\"\"\n",
    "    Uniform prior\n",
    "    params are again in the order [k1, m2/m1, secos1, sesin1, omegadot, p1, tc1, rv_offset]\n",
    "    \n",
    "    log(0) is -inf\n",
    "    log(1) is 0\n",
    "    \n",
    "    \"\"\"\n",
    "    k1, m2m1, secos1, sesin1, omegadot, p1, tc1, rv_offset = params  # tuple unpacking params\n",
    "    # compute e1 from secos1, sesin1\n",
    "    e1 = secos1 ** 2 + sesin1 ** 2  # compute e1\n",
    "    if k1 > 0 and p1 > 0 and m2m1 > 0 and 0 < e1 < e_max and tc1 > 0:  # uniform for physically consistent boundaries\n",
    "        return 0.0\n",
    "    else:\n",
    "        return -np.inf\n",
    "    \n",
    "def log_likelihood(params, inclination = np.pi/2, data = hd_data, c=c, n=0):\n",
    "    \"\"\"\n",
    "    gets log-likelihood\n",
    "    data is by default the observed data for the system, hd_data\n",
    "    n is by default set to 0, test this to see what works best\n",
    "    \n",
    "    uses rv_signal_equilibrium_tc, if this is changed other things should be changed correspondingly\n",
    "    \"\"\"\n",
    "    obs_y = data.RV_mlc_nzp  # observed hd data rvs\n",
    "    obs_time_base = np.median(data.BJD)  # time base is the median of the dates\n",
    "    # parameterized in terms of secos, sesin\n",
    "    synth_y, _ = get_rv_signal_equilibrium_tc(times=data.BJD, params=params, c=c, time_base=obs_time_base, n=n)  # rvs from the rebound simulation\n",
    "    obs_yerr = data.e_RV_mlc_nzp\n",
    "    \n",
    "    # compute the variance\n",
    "    variance = obs_yerr ** 2  \n",
    "    \n",
    "    # compute log likelihood from variance\n",
    "    log_likelihood = -1/2 * np.sum(np.log(variance) + ((obs_y - synth_y) ** 2/variance))  # formula for log likelihood\n",
    "    \n",
    "    return log_likelihood\n",
    "\n",
    "def log_probability(params):\n",
    "    \"\"\"\n",
    "    get log probability using the log prior and log likelihood\n",
    "    \"\"\"\n",
    "    lp = log_prior(params)\n",
    "    if not np.isfinite(lp):  # return -inf (log(0)) if falls outside the prior, otherwise return the log likelihood\n",
    "        return -np.inf\n",
    "    return lp + log_likelihood(params, n=0)  # CHANGE N HERE IF N=0 DOESN'T WORK!"
   ]
  },
  {
   "cell_type": "markdown",
   "metadata": {},
   "source": [
    "First perform least-squares optimization using tc instead of tp parameterization:"
   ]
  },
  {
   "cell_type": "code",
   "execution_count": null,
   "metadata": {},
   "outputs": [],
   "source": [
    "times = np.linspace(min(obs_times), max(obs_times), 1000)\n",
    "\n",
    "# convert tp to tc and then re-fit\n",
    "params_tc = obs_fit_params.x.copy()\n",
    "# replace tp with tc\n",
    "params_tc[6] = radvel.orbit.timeperi_to_timetrans(tp=params_tc[6], per=params_tc[5], ecc=params_tc[2] ** 2 + params_tc[3] ** 2, omega=np.arctan2(params_tc[3], params_tc[2]))\n",
    "obs_fit_params.x, params_tc"
   ]
  },
  {
   "cell_type": "code",
   "execution_count": null,
   "metadata": {},
   "outputs": [],
   "source": [
    "obs_fit_params_tc = optimize.least_squares(lambda params: get_forward_model_resids_tc(obs_times, params, obs_rvs, obs_time_base, n=0), params_tc)\n",
    "params_tc, obs_fit_params_tc.x"
   ]
  },
  {
   "cell_type": "code",
   "execution_count": null,
   "metadata": {},
   "outputs": [],
   "source": [
    "best = obs_fit_params_tc.x  # best-fit solution\n",
    "\n",
    "plt.figure(figsize = (14, 8))\n",
    "plt.errorbar(obs_times, obs_rvs, yerr=hd_data.e_RV_mlc_nzp, fmt='o', label = 'Observed RVs')\n",
    "\n",
    "# all 3\n",
    "\n",
    "# n0, n1, n2 = get_rv_signal_equilibrium_tc(times, best, c=c, time_base=obs_time_base)\n",
    "# plt.plot(times, n0)\n",
    "# plt.plot(times, n1)\n",
    "# plt.plot(times, n2)\n",
    "\n",
    "# just one\n",
    "\n",
    "plt.plot(times, get_rv_signal_equilibrium_tc(times, obs_fit_params_tc.x, c=c, time_base=obs_time_base, n=0)[0], label = 'tc fit')\n",
    "plt.plot(times, get_rv_signal_equilibrium_se(times, obs_fit_params.x, c=c, time_base=obs_time_base, n=0)[0], label = 'tp')\n",
    "plt.legend()\n",
    "plt.show()"
   ]
  },
  {
   "cell_type": "code",
   "execution_count": null,
   "metadata": {},
   "outputs": [],
   "source": [
    "np.arctan2(best[3], best[2]), np.arctan2(-best[3], -best[2])"
   ]
  },
  {
   "cell_type": "code",
   "execution_count": null,
   "metadata": {},
   "outputs": [],
   "source": [
    "best[2] ** 2 + best[3] ** 2"
   ]
  },
  {
   "cell_type": "code",
   "execution_count": null,
   "metadata": {},
   "outputs": [],
   "source": [
    "plt.figure(figsize = (12, 8))\n",
    "\n",
    "times = np.linspace(min(obs_times), min(obs_times) + 4 * 228, 1000)\n",
    "\n",
    "# all 3\n",
    "\n",
    "# for n in get_rv_signal_equilibrium_tc(times, best, c=c, time_base=obs_time_base):\n",
    "#     plt.plot(times, n, 'k')\n",
    "\n",
    "# just 1\n",
    "plt.plot(times, get_rv_signal_equilibrium_tc(times, best, c=c, time_base=obs_time_base)[0], 'k')\n",
    "\n",
    "flipped = best.copy()\n",
    "flipped[2] *= -1\n",
    "flipped[3] *= -1    \n",
    "\n",
    "# all 3\n",
    "\n",
    "# for n in get_rv_signal_equilibrium_tc(times, flipped, c=c, time_base=obs_time_base):\n",
    "#     plt.plot(times, n, 'r--')\n",
    "\n",
    "# just 1\n",
    "plt.plot(times, get_rv_signal_equilibrium_tc(times, flipped, c=c, time_base=obs_time_base)[0], 'r--')"
   ]
  },
  {
   "cell_type": "markdown",
   "metadata": {},
   "source": [
    "Initialize walkers in a Gaussian ball around the best-fit solution:"
   ]
  },
  {
   "cell_type": "code",
   "execution_count": null,
   "metadata": {},
   "outputs": [],
   "source": [
    "# find covariacne matrix for initializing walkers (uncertainty)\n",
    "\n",
    "best = obs_fit_params_tc.x  # best-fit solution\n",
    "# convert tp1 to tc1\n",
    "\n",
    "j = obs_fit_params_tc.jac  # jacobian of best fit\n",
    "cov = np.linalg.inv(j.T @ j)  # covariance matrix from jacobian, formula is sigma = (X^T * X)^(-1)\n",
    "\n",
    "# now initialize wqalkers in a gaussian ball around best-fit solution\n",
    "\n",
    "nwalkers = 50  # number of walkers for the MCMC\n",
    "ndim = len(best)  # number of dimensiones in parameter space\n",
    "# gaussian ball of 50 walkers equal to cov * 1/100 and centered on the obs_fit_params.x, best fit solution\n",
    "np.random.seed(1234)\n",
    "\n",
    "# create walkers but throw out any that are really bad\n",
    "\n",
    "threshold = -1000  # anything below this gets thrown out\n",
    "pos = np.zeros((nwalkers, len(best)))\n",
    "\n",
    "for i in range(0, nwalkers):\n",
    "    while log_probability(pos[i]) < threshold:  # keep drawing until pos[i] is good\n",
    "        pos[i] = np.random.multivariate_normal(best, cov * 1/100000, size=1)"
   ]
  },
  {
   "cell_type": "markdown",
   "metadata": {},
   "source": [
    "Check that log probability distribution of starting walker positions is roughly Gaussian:"
   ]
  },
  {
   "cell_type": "code",
   "execution_count": null,
   "metadata": {},
   "outputs": [],
   "source": [
    "likes = [log_probability(p) for p in pos]\n",
    "likes"
   ]
  },
  {
   "cell_type": "code",
   "execution_count": null,
   "metadata": {},
   "outputs": [],
   "source": [
    "plt.scatter(likes, np.arctan2(pos[:,3], pos[:,2]))"
   ]
  },
  {
   "cell_type": "code",
   "execution_count": null,
   "metadata": {},
   "outputs": [],
   "source": [
    "plt.figure(figsize = (14, 8))\n",
    "for p in pos:\n",
    "    rv_signal, _, _, _ = get_rv_signal_equilibrium_se(times, p, c, obs_time_base, n=0)\n",
    "    plt.plot(times, rv_signal)"
   ]
  },
  {
   "cell_type": "code",
   "execution_count": null,
   "metadata": {},
   "outputs": [],
   "source": [
    "likes"
   ]
  },
  {
   "cell_type": "code",
   "execution_count": null,
   "metadata": {},
   "outputs": [],
   "source": [
    "plt.hist([log_probability(p) for p in pos if np.isfinite(log_probability(p))])"
   ]
  },
  {
   "cell_type": "markdown",
   "metadata": {},
   "source": [
    "## Local test:"
   ]
  },
  {
   "cell_type": "markdown",
   "metadata": {},
   "source": [
    "**manually delete the files before rerunning the mcmc simulations**"
   ]
  },
  {
   "cell_type": "code",
   "execution_count": null,
   "metadata": {},
   "outputs": [],
   "source": [
    "import emcee\n",
    "from multiprocessing import Pool\n",
    "\n",
    "filename = 'forward_mcmc_local.h5'  # local\n",
    "backend = emcee.backends.HDFBackend(filename)\n",
    "backend.reset(nwalkers, ndim)\n",
    "steps = 5000  # try more with multiprocessing on the cluster"
   ]
  },
  {
   "cell_type": "markdown",
   "metadata": {},
   "source": [
    "Run MCMC with 50 walkers and the starting positions initialized above:"
   ]
  },
  {
   "cell_type": "code",
   "execution_count": null,
   "metadata": {},
   "outputs": [],
   "source": [
    "with Pool() as pool:\n",
    "    sampler=emcee.EnsembleSampler(nwalkers, ndim, log_probability, pool=pool, backend=backend)\n",
    "    sampler.run_mcmc(pos, steps, progress=True)"
   ]
  },
  {
   "cell_type": "markdown",
   "metadata": {},
   "source": [
    "Now plot a time series of parameters in the chain to see the evolution:"
   ]
  },
  {
   "cell_type": "code",
   "execution_count": null,
   "metadata": {},
   "outputs": [],
   "source": [
    "log_probs = sampler.get_log_prob().T\n",
    "\n",
    "plt.figure(figsize = (12, 8))\n",
    "for log_prob in log_probs:\n",
    "    plt.plot(log_prob)"
   ]
  },
  {
   "cell_type": "code",
   "execution_count": null,
   "metadata": {},
   "outputs": [],
   "source": [
    "samples = sampler.get_chain()\n",
    "\n",
    "_, axes = plt.subplots(ndim, figsize = (20, 20))\n",
    "labels = ['k1', 'm2m1', 'secos1', 'sesin1', 'omegadot', 'p1', 'tc1', 'rv_offset']\n",
    "\n",
    "for i in range(ndim):\n",
    "    ax = axes[i]\n",
    "    ax.plot(samples[:,:, i], 'k', alpha=0.3)\n",
    "    ax.set_xlim(0, len(samples))\n",
    "    ax.set_ylabel(labels[i])\n",
    "    ax.yaxis.set_label_coords(-0.1, 0.5)\n",
    "\n",
    "axes[-1].set_xlabel('step number')"
   ]
  },
  {
   "cell_type": "code",
   "execution_count": null,
   "metadata": {},
   "outputs": [],
   "source": [
    "flat_samples = sampler.get_chain(discard = 200, flat = True)  # arbitrary discard number for burn-in time"
   ]
  },
  {
   "cell_type": "markdown",
   "metadata": {},
   "source": [
    "Try plotting RV signal from random set of parameters in the chain:"
   ]
  },
  {
   "cell_type": "code",
   "execution_count": null,
   "metadata": {},
   "outputs": [],
   "source": [
    "samp_num = 23456\n",
    "times = np.linspace(min(obs_times), max(obs_times), int(1e4))\n",
    "\n",
    "plt.figure(figsize = (14, 8))\n",
    "plt.errorbar(obs_times, obs_rvs, yerr=hd_data.e_RV_mlc_nzp, fmt='o', label = 'Observed RVs')\n",
    "plt.plot(times, get_rv_signal_equilibrium_tc(times, best, c=c, time_base=obs_time_base, n=0)[0], label = 'best')\n",
    "plt.plot(times, get_rv_signal_equilibrium_tc(times, flat_samples[samp_num], c=c, time_base=obs_time_base, n=0)[0], label = 'mcmc fit')\n",
    "plt.legend()\n",
    "plt.show()\n",
    "best, flat_samples[samp_num]"
   ]
  },
  {
   "cell_type": "code",
   "execution_count": null,
   "metadata": {},
   "outputs": [],
   "source": [
    "plt.hist(flat_samples[:, 6])"
   ]
  },
  {
   "cell_type": "markdown",
   "metadata": {},
   "source": [
    "Now redo MCMC with new highest-probability parameters taken from the end:"
   ]
  },
  {
   "cell_type": "code",
   "execution_count": null,
   "metadata": {},
   "outputs": [],
   "source": [
    "# create new position walkers\n",
    "new_pos = np.unique(sampler.flatchain, axis=0)[np.argsort(np.unique(sampler.flatlnprobability))][-nwalkers:]\n",
    "# check the new likelihood of each\n",
    "new_likes = [log_probability(prob) for prob in new_pos]\n",
    "new_likes"
   ]
  },
  {
   "cell_type": "markdown",
   "metadata": {},
   "source": [
    "Redo MCMC:"
   ]
  },
  {
   "cell_type": "markdown",
   "metadata": {},
   "source": [
    "**delete this too before rerunning**"
   ]
  },
  {
   "cell_type": "code",
   "execution_count": null,
   "metadata": {},
   "outputs": [],
   "source": [
    "filename2 = 'forward_mcmc_local2.h5'  # local\n",
    "backend2 = emcee.backends.HDFBackend(filename2)\n",
    "backend2.reset(nwalkers, ndim)\n",
    "\n",
    "with Pool() as pool:\n",
    "    sampler2=emcee.EnsembleSampler(nwalkers, ndim, log_probability, pool=pool, backend=backend2)\n",
    "    sampler2.run_mcmc(new_pos, steps, progress=True)"
   ]
  },
  {
   "cell_type": "markdown",
   "metadata": {},
   "source": [
    "And plot the log probabilities of the walkers, as well as all the parameters in the model, as time-series: "
   ]
  },
  {
   "cell_type": "code",
   "execution_count": null,
   "metadata": {},
   "outputs": [],
   "source": [
    "plt.hist(sampler2.flatlnprobability)"
   ]
  },
  {
   "cell_type": "code",
   "execution_count": null,
   "metadata": {},
   "outputs": [],
   "source": [
    "samples2 = sampler2.get_chain()\n",
    "\n",
    "_, axes = plt.subplots(ndim, figsize = (20, 20))\n",
    "labels = ['k1', 'm2m1', 'secos1', 'sesin1', 'omegadot', 'p1', 'tc1', 'rv_offset']\n",
    "\n",
    "for i in range(ndim):\n",
    "    ax = axes[i]\n",
    "    ax.plot(samples2[:,:, i], 'k', alpha=0.3)\n",
    "    ax.set_xlim(0, len(samples2))\n",
    "    ax.set_ylabel(labels[i])\n",
    "    ax.yaxis.set_label_coords(-0.1, 0.5)\n",
    "\n",
    "axes[-1].set_xlabel('step number')"
   ]
  },
  {
   "cell_type": "code",
   "execution_count": null,
   "metadata": {},
   "outputs": [],
   "source": [
    "log_probs = sampler2.get_log_prob().T\n",
    "\n",
    "plt.figure(figsize = (12, 8))\n",
    "for log_prob in log_probs:\n",
    "    plt.plot(log_prob, color='k')"
   ]
  },
  {
   "cell_type": "code",
   "execution_count": null,
   "metadata": {},
   "outputs": [],
   "source": [
    "plt.hist(flat_samples[:,1])"
   ]
  },
  {
   "cell_type": "markdown",
   "metadata": {},
   "source": [
    "$e_1, e_2$ histogram:"
   ]
  },
  {
   "cell_type": "code",
   "execution_count": null,
   "metadata": {},
   "outputs": [],
   "source": [
    "import corner\n",
    "\n",
    "flat_samples = sampler2.flatchain[200:]\n",
    "m2m1s = flat_samples[:, 1]\n",
    "\n",
    "e1 = flat_samples[:, 2] ** 2 + flat_samples[:, 3] ** 2\n",
    "e2 = e1/(m2m1s * c)\n",
    "\n",
    "e1 = e1.reshape(-1)# [np.where((0 < e1.reshape(-1)) & (e1.reshape(-1) < 1))]\n",
    "e2 = e2.reshape(-1)# [np.where((0 < e2.reshape(-1)) & (e2.reshape(-1) < 1))]\n",
    "\n",
    "corner.hist2d(e1, e2)\n",
    "plt.plot(e1, e1/(c * 2.6))\n",
    "plt.plot(e1, e1/(c * 3.0))\n",
    "\n",
    "# plt.xlim(xmax=0.01)\n",
    "# plt.ylim(ymax=0.005)"
   ]
  },
  {
   "cell_type": "code",
   "execution_count": null,
   "metadata": {},
   "outputs": [],
   "source": [
    "plt.hist(flat_samples[:, 4])"
   ]
  },
  {
   "cell_type": "code",
   "execution_count": null,
   "metadata": {},
   "outputs": [],
   "source": [
    "corner.hist2d(m2m1s, e1)"
   ]
  },
  {
   "cell_type": "code",
   "execution_count": null,
   "metadata": {},
   "outputs": [],
   "source": [
    "e1.reshape(-1)"
   ]
  },
  {
   "cell_type": "markdown",
   "metadata": {},
   "source": [
    "### Comparison plots in eccentricity and mass to the other model:"
   ]
  },
  {
   "cell_type": "code",
   "execution_count": null,
   "metadata": {},
   "outputs": [],
   "source": [
    "cluster_data_rb = h5py.File('2021_fall-2022_winter/hd_mcmc_cluster.h5', 'r')\n",
    "data_fw = h5py.File('forward_mcmc_local2.h5', 'r')\n",
    "\n",
    "# extract data from h5py\n",
    "rb_accepted, rb_samples, rb_log_prob = np.array(cluster_data_rb['mcmc']['accepted']), np.array(cluster_data_rb['mcmc']['chain']), np.array(cluster_data_rb['mcmc']['log_prob'])\n",
    "fw_accepted, fw_samples, fw_log_prob = np.array(data_fw['mcmc']['accepted']), np.array(data_fw['mcmc']['chain']), np.array(data_fw['mcmc']['log_prob'])\n",
    "\n",
    "# compute e1, e2 from the other model:\n",
    "e1_rebound = rb_samples[:, :, 3] ** 2 + rb_samples[:, :, 4] ** 2  # computing eccentricity\n",
    "e2_rebound = rb_samples[:, :, 8] ** 2 + rb_samples[:, :, 9] ** 2  # computing eccentricity\n",
    "# compute e1, e2 from forward:\n",
    "e1_fw = fw_samples[:, :, 2] ** 2 + fw_samples[:, :, 3] ** 2\n",
    "# compute e2 using e1/(m2m1 * c)\n",
    "e2_fw = e1_fw/(fw_samples[:, :, 1] * c)\n",
    "\n",
    "# compute m1, m2 from the rebound model:\n",
    "m1_rebound = semiamp_to_mass(rb_samples[:, :, 1]/AUDAY_MS, STAR_MASS, rb_samples[:, :, 0], e1_rebound, inclination = np.pi/2)\n",
    "m2_rebound = semiamp_to_mass(rb_samples[:, :, 6]/AUDAY_MS, STAR_MASS, rb_samples[:, :, 5], e2_rebound, inclination = np.pi/2)\n",
    "# compute from the forward model:\n",
    "m1_fw = semiamp_to_mass(fw_samples[:, :, 0]/AUDAY_MS, STAR_MASS, fw_samples[:, :, 5], e1_fw, inclination = np.pi/2)\n",
    "# compute m2\n",
    "m2_fw = fw_samples[:, :, 1] * m1_fw  # m2 is just m2m1 * m1"
   ]
  },
  {
   "cell_type": "markdown",
   "metadata": {},
   "source": [
    "Plot $e_1, e_2$ histogram:"
   ]
  },
  {
   "cell_type": "code",
   "execution_count": null,
   "metadata": {},
   "outputs": [],
   "source": [
    "# plot e1, e2 histogram\n",
    "\n",
    "plt.figure(figsize = (12, 8))\n",
    "corner.hist2d(e1_rebound.reshape(-1), e2_rebound.reshape(-1), plot_datapoints=False, plot_density=False, label = 'rebound')  # 2d histogram of eccentricities from rebound\n",
    "corner.hist2d(e1_fw.reshape(-1), e2_fw.reshape(-1), plot_datapoints=False, plot_density=False, label = 'forward')\n",
    "x,y = np.meshgrid(np.linspace(0,0.05),np.linspace(0,0.05))\n",
    "l = x*x * (2/3)**(1/3) + (2.8)*y*y\n",
    "plt.contour(x,y,l)\n",
    "plt.plot(test_e1s, test_e2s)\n",
    "plt.xlim(right=0.08), plt.ylim(top=0.06)\n",
    "plt.show()"
   ]
  },
  {
   "cell_type": "markdown",
   "metadata": {},
   "source": [
    "Check $\\chi^2$ of the least-squares fit for the rebound $N$-body model and the equilibrium radvel model:"
   ]
  },
  {
   "cell_type": "code",
   "execution_count": null,
   "metadata": {},
   "outputs": [],
   "source": [
    "# obs_fit_params_tc uses secos sesin as well as tc instead of tp for parameterizaiton\n",
    "\n",
    "fit_params, obs_fit_params_tc.x"
   ]
  },
  {
   "cell_type": "code",
   "execution_count": null,
   "metadata": {},
   "outputs": [],
   "source": [
    "np.sum(np.log(hd_data.e_RV_mlc_nzp ** 2))# , np.sum(np.log(equilibrium_radvel_resids ** 2))"
   ]
  },
  {
   "cell_type": "code",
   "execution_count": null,
   "metadata": {},
   "outputs": [],
   "source": [
    "log_likelihood(obs_fit_params_tc.x)"
   ]
  },
  {
   "cell_type": "code",
   "execution_count": null,
   "metadata": {},
   "outputs": [],
   "source": [
    "def get_nbody_resids(params, integrator, data, time_base, inclination = np.pi/2):\n",
    "    \"\"\"\n",
    "    Gets normalized residuals for the n-body fit with rebound\n",
    "    \"\"\"\n",
    "    obs_y = data.RV_mlc_nzp\n",
    "    synth_y = get_rvs(params, inclination, data.BJD, integrator, time_base)\n",
    "    obs_yerr = data.e_RV_mlc_nzp\n",
    "    return (obs_y - synth_y)/obs_yerr\n",
    "\n",
    "equilibrium_best_fit_params = fw_flat_samples[np.argmax(fw_log_prob)]\n",
    "\n",
    "nbody_fit_resids = get_nbody_resids(fit_params, 'ias15', hd_data, time_base = obs_time_base)\n",
    "# nbody_test_resids = get_nbody_resids(test_params, 'ias15', hd_data, time_base = obs_time_base)\n",
    "\n",
    "equilibrium_radvel_resids = get_forward_model_resids_tc(hd_data.BJD, equilibrium_best_fit_params, hd_data.RV_mlc_nzp, obs_time_base, yerr=hd_data.e_RV_mlc_nzp, c=c, n=0)\n",
    "\n",
    "# comapre the two n-body\n",
    "(nbody_fit_resids @ nbody_fit_resids)/2, (equilibrium_radvel_resids @ equilibrium_radvel_resids)/2"
   ]
  },
  {
   "cell_type": "code",
   "execution_count": null,
   "metadata": {},
   "outputs": [],
   "source": [
    "plt.scatter(e1_fw, fw_log_prob, color='k')"
   ]
  },
  {
   "cell_type": "markdown",
   "metadata": {},
   "source": [
    "Walk along the top \"ridge\" of the above plot, taking the highest-likelihood set of params above a certain eccentricity, then plotting the generated RV curve from all of them (using the equilibrium forward model) against the observed data points:"
   ]
  },
  {
   "cell_type": "code",
   "execution_count": null,
   "metadata": {},
   "outputs": [],
   "source": [
    "e_thresholds = np.linspace(0, 0.04, 9)  # thresholds from 0 to 0.04 eccentricity, 10 in total\n",
    "\n",
    "times = np.linspace(min(obs_times), max(obs_times), int(1e4))\n",
    "e1_fw = e1_fw.reshape(-1)\n",
    "fw_flat_samples = fw_samples.reshape(-1, fw_samples.shape[-1])\n",
    "fw_log_prob = fw_log_prob.reshape(-1)\n",
    "\n",
    "# plot observed points\n",
    "# plt.figure(figsize = (20, 14))\n",
    "fig, ax = plt.subplots(2, 1, sharex=True, figsize = (20, 12))\n",
    "ax[0].errorbar(obs_times, hd_data.RV_mlc_nzp, yerr= hd_data.e_RV_mlc_nzp, fmt='o', label = 'Observed')\n",
    "# take highest-likelihood set of params and then plot RV curve\n",
    "for e_threshold in e_thresholds:\n",
    "    # find the highest probability set of parameters above a certain eccentricity threshold\n",
    "    sample_params = fw_flat_samples[np.argmax(fw_log_prob[np.where(e1_fw > e_threshold)])]\n",
    "    # compute rv curve\n",
    "    residuals = get_forward_model_resids_tc(hd_data.BJD, sample_params, hd_data.RV_mlc_nzp, obs_time_base, yerr=hd_data.e_RV_mlc_nzp, c=c, n=0)\n",
    "    obs_rv_curve, _ = get_rv_signal_equilibrium_tc(times, sample_params, c=c, time_base=obs_time_base)\n",
    "    # plot the rv curve and label it\n",
    "    ax[0].plot(times, obs_rv_curve, label = f'e > {e_threshold}')\n",
    "    ax[1].scatter(obs_times, residuals)\n",
    "    # print highest probability point above that eccentricity\n",
    "    print(f'highest probability at e > {e_threshold}: {np.max(fw_log_prob[np.where(e1_fw > e_threshold)])}')\n",
    "\n",
    "plt.tight_layout()\n",
    "plt.show()\n"
   ]
  },
  {
   "cell_type": "markdown",
   "metadata": {},
   "source": [
    "Eccentricity evolution for one of the $N$-body posterior samples over the observation time:"
   ]
  },
  {
   "cell_type": "code",
   "execution_count": null,
   "metadata": {},
   "outputs": [],
   "source": [
    "sample = rb_samples[10000][0]\n",
    "\n",
    "test_sim = get_sim_from_params(sample, np.pi/2, 'ias15', obs_time_base)\n",
    "inner = test_sim.particles[1]\n",
    "outer = test_sim.particles[2]\n",
    "\n",
    "times = np.linspace(min(obs_times), min(obs_times) + 1000 * sample[0], 1000) #max(obs_times), 1000)\n",
    "test_e1s, test_e2s = np.zeros(len(times)), np.zeros(len(times))\n",
    "\n",
    "for i, t in enumerate(times):\n",
    "    test_sim.integrate(t)\n",
    "    test_e1s[i] = inner.e\n",
    "    test_e2s[i] = outer.e\n",
    "\n",
    "plt.figure(figsize = (12, 8))\n",
    "plt.plot(times, test_e1s, label = 'inner')\n",
    "plt.plot(times, test_e2s, label = 'outer')\n",
    "plt.legend()\n",
    "plt.show()"
   ]
  },
  {
   "cell_type": "markdown",
   "metadata": {},
   "source": [
    "Plot $m_1, m_2$ histograms:"
   ]
  },
  {
   "cell_type": "code",
   "execution_count": null,
   "metadata": {},
   "outputs": [],
   "source": [
    "# plot e1, e2 histogram\n",
    "\n",
    "plt.figure(figsize = (12, 8))\n",
    "corner.hist2d(m1_rebound.reshape(-1), m2_rebound.reshape(-1), levels=[0.68, 0.95, 0.99], plot_datapoints=False, plot_density=False, contour_kwargs={'colors': ['r']})  # 2d histogram of eccentricities from rebound\n",
    "corner.hist2d(m1_fw.reshape(-1), m2_fw.reshape(-1), levels=[0.68, 0.95, 0.99], plot_datapoints=False, plot_density=False, contour_kwargs={'colors': ['k']})\n",
    "# plt.xlim(right=0.08), plt.ylim(top=0.06)\n",
    "plt.show()\n"
   ]
  },
  {
   "cell_type": "code",
   "execution_count": null,
   "metadata": {},
   "outputs": [],
   "source": [
    "np.median(m2_rebound.reshape(-1)/m1_rebound.reshape(-1))"
   ]
  },
  {
   "cell_type": "markdown",
   "metadata": {},
   "source": [
    "Add term to the chi squared rebound model penalizing for libration angle which we call A, based on the RMS velocity:"
   ]
  },
  {
   "cell_type": "code",
   "execution_count": null,
   "metadata": {},
   "outputs": [],
   "source": [
    "def get_nbody_resids_libration(params, integrator, data, time_base, inclination = np.pi/2, A0=0.01):\n",
    "    \"\"\"\n",
    "    Gets the normalized residuals for the n-body fit with REBOUND, penalizing for the RMS of the libration angle a\n",
    "    \n",
    "    params is in the form of params for the 10-param model (n-body rebound) rather than the 7-param equilibrium model (keplerian)\n",
    "    \n",
    "    A0 is 0.01 by default\n",
    "    \"\"\"\n",
    "    # times\n",
    "    times = data.BJD\n",
    "    \n",
    "    # compute normalized residuals\n",
    "    obs_y = data.RV_mlc_nzp  # observed RVs\n",
    "    synth_y = get_rvs(params, inclination, times, integrator, time_base)  # RVs from the rebound simulation\n",
    "    obs_yerr = data.e_RV_mlc_nzp  # y errors\n",
    "    normalized_resids = (obs_y - synth_y)/obs_yerr  # compute normalized residuals using rebound\n",
    "    \n",
    "    # compute the rms of the libration angle a (find libration angles from omega using a rebound simulation)\n",
    "    nperiods = 500  # number of peirods\n",
    "    # measure the libration amplitude over 1000 periods of the inner planet (longer time array than for the residuals)\n",
    "    nsamples = 500\n",
    "    angle_times = np.linspace(0, 0 + p1 * nperiods, nsamples)  # angle times, use length of observed rvs\n",
    "    angle_time_base = 0#np.median(angle_times)  # reset angle time base to something else to find the libration amplitude \n",
    "    # initialize sim\n",
    "    angle_sim = get_sim_from_params(params, inclination = np.pi/2, integrator='whfast', time_base=0)\n",
    "    inner = angle_sim.particles[1]\n",
    "    outer = angle_sim.particles[2]\n",
    "    # define empty arrays\n",
    "    angle1, angle2 = np.zeros((2, nsamples))  # init empty arrays\n",
    "    # now compute the libration angle arrays\n",
    "    # test2 = np.zeros(len(angle_times))\n",
    "    for i, t in enumerate(angle_times):\n",
    "        angle_sim.integrate(t, exact_finish_time = 0)\n",
    "        resonant_angle = 3 * outer.l - 2 * inner.l  # 3*lambda_2 - 2*lambda_1\n",
    "        # test2[i] = resonant_angle\n",
    "        angle1[i] = np.mod(resonant_angle - inner.pomega, 2 * np.pi)  # 3*lambda_2 - 2*lambda_1 - pomega_1, mod 2pi\n",
    "        angle2[i] = np.mod(resonant_angle - outer.pomega, 2 * np.pi)  # 3*lambda_2 - 2*lambda_1 - pomega_2, mod 2pi\n",
    "    \n",
    "    # now return the rms libration amplitude for inner and outer to penalize by\n",
    "    # compute the normalized residuals\n",
    "    res1 = np.array([(angle - 0)/(A0 * np.sqrt(len(angle1))) \n",
    "                     for angle in [angle - 2 * np.pi if angle > np.pi else angle for angle in angle1]])  # since inner planet oscillates around 0\n",
    "    res2 = np.array([(angle - np.pi)/(A0 * np.sqrt(len(angle2))) for angle in angle2])  # since outer planet oscillates around pi\n",
    "    \n",
    "    # return normalized residuals plus the residual term a, counting for the libration angle\n",
    "    return np.concatenate((normalized_resids, res1, res2))  # concatenate all 3 arrays to pass to the \"residuals\""
   ]
  },
  {
   "cell_type": "code",
   "execution_count": null,
   "metadata": {},
   "outputs": [],
   "source": []
  },
  {
   "cell_type": "markdown",
   "metadata": {},
   "source": [
    "Test `get_nbody_resids_libration()` (penalizing for libration angle) with the best fit data (`fit_params`) against `get_nbody_resids()` (no penalty for libration angle):"
   ]
  },
  {
   "cell_type": "code",
   "execution_count": null,
   "metadata": {},
   "outputs": [],
   "source": [
    "aug_resids_test = get_nbody_resids_libration(fit_params, 'ias15', hd_data, obs_time_base)\n",
    "\n",
    "(aug_resids_test @ aug_resids_test)/2"
   ]
  },
  {
   "cell_type": "code",
   "execution_count": null,
   "metadata": {},
   "outputs": [],
   "source": [
    "resids_test = get_nbody_resids(fit_params, 'ias15', hd_data, obs_time_base)\n",
    "(resids_test @ resids_test)/2"
   ]
  },
  {
   "cell_type": "code",
   "execution_count": null,
   "metadata": {},
   "outputs": [],
   "source": [
    "orig_fit_params = optimize.least_squares(lambda params: get_nbody_resids(params, integrator = 'ias15', data = hd_data, time_base = obs_time_base, inclination = np.pi/2), fit_params)"
   ]
  },
  {
   "cell_type": "code",
   "execution_count": null,
   "metadata": {},
   "outputs": [],
   "source": [
    "print(f'params: {orig_fit_params.x}\\nvariance: {np.diag(np.linalg.inv(orig_fit_params.jac.T @ orig_fit_params.jac))}\\ncost: {orig_fit_params.cost}')"
   ]
  },
  {
   "cell_type": "markdown",
   "metadata": {},
   "source": [
    "Optimize the modified residual function (that adds a penalty for libration angle) using least-squares and find $\\chi^2$, starting with `fit_params` (the best-fit params using the original unmodified function):"
   ]
  },
  {
   "cell_type": "code",
   "execution_count": null,
   "metadata": {},
   "outputs": [],
   "source": [
    "mod_fit_params = optimize.least_squares(lambda params: get_nbody_resids_libration(params, integrator = 'ias15', data = hd_data, time_base = obs_time_base, inclination = np.pi/2), fit_params)"
   ]
  },
  {
   "cell_type": "markdown",
   "metadata": {},
   "source": [
    "Best params and also cost:"
   ]
  },
  {
   "cell_type": "code",
   "execution_count": null,
   "metadata": {},
   "outputs": [],
   "source": [
    "print(f'params: {mod_fit_params.x}\\nvariance: {np.diag(np.linalg.inv(mod_fit_params.jac.T @ mod_fit_params.jac))}\\ncost: {mod_fit_params.cost}')"
   ]
  },
  {
   "cell_type": "markdown",
   "metadata": {},
   "source": [
    "Now check for different values of $A_0$:"
   ]
  },
  {
   "cell_type": "code",
   "execution_count": null,
   "metadata": {},
   "outputs": [],
   "source": [
    "a0s = np.geomspace(0.5, 0.01, 20)  # a0 from 1 to 0.001 in reverse, use 10 values of a0 to start\n",
    "params = np.zeros((len(a0s), len(fit_params)))\n",
    "params_i = fit_params.copy()\n",
    "\n",
    "for i, a0 in tqdm(enumerate(a0s)):\n",
    "    # fit the data using the given a0 value and p0 as the previous best-fit set of params\n",
    "    fit = optimize.least_squares(lambda params: get_nbody_resids_libration(params, integrator = 'ias15', data = hd_data, time_base = obs_time_base, inclination = np.pi/2, A0=a0), params_i)\n",
    "    # then check the cost function and also update params_i to use for the next iteration\n",
    "    params_i = fit.x\n",
    "    params[i] = params_i"
   ]
  },
  {
   "cell_type": "code",
   "execution_count": null,
   "metadata": {},
   "outputs": [],
   "source": [
    "chi2s = np.zeros(len(a0s))  # array of chi2 values, corresponding to the best fit for each a0\n",
    "librations = np.zeros(len(a0s))\n",
    "\n",
    "for i, param in enumerate(params):\n",
    "    resids = get_nbody_resids(param, 'ias15', hd_data, obs_time_base)\n",
    "    libration = get_nbody_resids_libration(param, 'ias15', hd_data, obs_time_base, A0=1)[len(resids):]\n",
    "    # print(libration)\n",
    "    chi2s[i] = (resids @ resids)/2\n",
    "    librations[i] = np.sqrt(2 * (libration @ libration))\n",
    "\n",
    "chi2s, librations"
   ]
  },
  {
   "cell_type": "markdown",
   "metadata": {},
   "source": [
    "And plot the graph of the modified cost ($\\chi^2_{mod}$, penalizing for $A$) against the $A_0$ value:"
   ]
  },
  {
   "cell_type": "code",
   "execution_count": null,
   "metadata": {},
   "outputs": [],
   "source": [
    "plt.figure(figsize = (12, 8))\n",
    "plt.scatter(a0s, librations)\n",
    "plt.xlabel(r'$A_0$'), plt.ylabel(r'$A_{rms}$')\n",
    "# plt.xscale('log')\n",
    "plt.show()"
   ]
  },
  {
   "cell_type": "code",
   "execution_count": null,
   "metadata": {},
   "outputs": [],
   "source": [
    "plt.scatter(a0s, librations)"
   ]
  },
  {
   "cell_type": "markdown",
   "metadata": {},
   "source": [
    "Split with the RV curves:"
   ]
  },
  {
   "cell_type": "code",
   "execution_count": null,
   "metadata": {},
   "outputs": [],
   "source": [
    "\n",
    "# plt.figure(figsize = (12, 8))\n",
    "fig, ax = plt.subplots(1, 2, figsize = (20, 8))\n",
    "\n",
    "ax[0].scatter(librations, chi2s)  # plot a0 against the chi2 values\n",
    "# plt.xscale('log')\n",
    "# 1 2 and 3 SD lines\n",
    "ax[0].axhline(min(chi2s) + 1, c='b')  # min(chi2) + 1\n",
    "ax[0].axhline(min(chi2s) + 4, c='g')  # + 4\n",
    "ax[0].axhline(min(chi2s) + 9, c='r')  # + 9\n",
    "ax[0].set_xlabel(r'$A_{rms}$ (radians)'), ax[0].set_ylabel(r'$\\chi^2$')\n",
    "\n",
    "# rv curve cmap as well\n",
    "times = np.linspace(min(hd_data.BJD), max(hd_data.BJD), 1000)\n",
    "\n",
    "ax[1].errorbar(obs_times, obs_rvs - get_rvs(params[-1], np.pi/2, obs_times, 'ias15', obs_time_base), yerr=hd_data.e_RV_mlc_nzp, fmt='o') \n",
    "lowest_libration_curve = get_rvs(params[-1], np.pi/2, times, 'ias15', obs_time_base)\n",
    "\n",
    "for j, param in enumerate(params):\n",
    "    param_rvs = get_rvs(param, np.pi/2, times, 'ias15', obs_time_base) - lowest_libration_curve\n",
    "    ax[1].plot(times, param_rvs)\n",
    "\n",
    "ax[1].set_ylim(-10, 10)\n",
    "\n",
    "plt.tight_layout()\n",
    "plt.savefig('A_rms_vs_chi2.png', fmt='png')\n",
    "plt.show()"
   ]
  },
  {
   "cell_type": "markdown",
   "metadata": {},
   "source": [
    "Testing stuff: \n",
    "\n",
    "testing the function to make sure it's computing the libration angle penalty properly:"
   ]
  },
  {
   "cell_type": "code",
   "execution_count": null,
   "metadata": {},
   "outputs": [],
   "source": [
    "params[0]"
   ]
  },
  {
   "cell_type": "code",
   "execution_count": null,
   "metadata": {},
   "outputs": [],
   "source": [
    "nperiods = 200  # measure the libration amplitude over 1000 periods of the inner planet\n",
    "nsamples = 10000\n",
    "angle_times = np.linspace(0, 0 + fit_params[0] * nperiods, nsamples)\n",
    "\n",
    "angle1, angle2 = np.zeros(len(angle_times)), np.zeros(len(angle_times))  # init empty arrays\n",
    "angle_sim = get_sim_from_params(params[0], inclination = np.pi/2, integrator='ias15', time_base=0)\n",
    "inner = angle_sim.particles[1]\n",
    "outer = angle_sim.particles[2]\n",
    "test2 = np.zeros(len(angle_times))\n",
    "for i, t in enumerate(angle_times):\n",
    "    angle_sim.integrate(t)\n",
    "    resonant_angle = 3 * outer.l - 2 * inner.l  # 3*lambda_2 - 2*lambda_1\n",
    "    # print(resonant_angle - inner.pomega)\n",
    "    test2[i] = resonant_angle\n",
    "    angle1[i] = np.mod(resonant_angle - inner.pomega, 2 * np.pi)  # 3*lambda_2 - 2*lambda_1 - pomega_1\n",
    "    angle2[i] = np.mod(resonant_angle - outer.pomega, 2 * np.pi)  # 3*lambda_2 - 2*lambda_1 - pomega_2\n",
    "\n",
    "plt.scatter(angle_times, angle1)\n",
    "plt.scatter(angle_times, angle2)"
   ]
  },
  {
   "cell_type": "code",
   "execution_count": null,
   "metadata": {},
   "outputs": [],
   "source": [
    "testres1 = np.array([(angle - 0)/(A0 * np.sqrt(len(angle1))) \n",
    "                     for angle in [angle - 2 * np.pi if angle > np.pi else angle for angle in angle1]])  # since inner planet oscillates around 0\n",
    "testres2 = np.array([(angle - np.pi)/(np.sqrt(len(angle2))) for angle in angle2])\n",
    "\n",
    "np.sqrt(2 * (testres1 @ testres1)), np.sqrt(2 * (testres2 @ testres2))"
   ]
  },
  {
   "cell_type": "code",
   "execution_count": null,
   "metadata": {},
   "outputs": [],
   "source": [
    "chi2s"
   ]
  },
  {
   "cell_type": "code",
   "execution_count": null,
   "metadata": {},
   "outputs": [],
   "source": [
    "np.sqrt(2 * (testres1 @ testres1 + testres2 @ testres2))"
   ]
  },
  {
   "cell_type": "code",
   "execution_count": null,
   "metadata": {},
   "outputs": [],
   "source": [
    "testres_concat = np.concatenate((testres1, testres2))\n",
    "np.sqrt(2 * (testres_concat @ testres_concat))"
   ]
  },
  {
   "cell_type": "code",
   "execution_count": null,
   "metadata": {},
   "outputs": [],
   "source": [
    "chi2s[j]"
   ]
  },
  {
   "cell_type": "code",
   "execution_count": null,
   "metadata": {
    "scrolled": true
   },
   "outputs": [],
   "source": [
    "import numpy as np\n",
    "from matplotlib import pyplot as plt\n",
    "from matplotlib.cm import get_cmap\n",
    "import warnings\n",
    "warnings.filterwarnings('always')\n",
    "\n",
    "cmap = get_cmap(\"viridis\")\n",
    "my_cmap = lambda x: cmap((x-min(chi2s))/(max(chi2s)-min(chi2s)))\n",
    "\n",
    "plt.figure(figsize = (12, 8))\n",
    "fig, ax = plt.subplots(2, figsize = (20, 20))\n",
    "\n",
    "# compute libration angle\n",
    "for j, param in enumerate(params):\n",
    "    nperiods = 200  # measure the libration amplitude over 1000 periods of the inner planet\n",
    "    nsamples = 10000\n",
    "    angle_times = np.linspace(0, 0 + fit_params[0] * nperiods, nsamples)\n",
    "\n",
    "    angle1, angle2 = np.zeros(len(angle_times)), np.zeros(len(angle_times))  # init empty arrays\n",
    "    angle_sim = get_sim_from_params(param, inclination = np.pi/2, integrator='ias15', time_base=0)\n",
    "    inner = angle_sim.particles[1]\n",
    "    outer = angle_sim.particles[2]\n",
    "    for i, t in enumerate(angle_times):\n",
    "        angle_sim.integrate(t)\n",
    "        resonant_angle = 3 * outer.l - 2 * inner.l  # 3*lambda_2 - 2*lambda_1\n",
    "        # print(resonant_angle - inner.pomega)\n",
    "        angle1[i] = np.mod(resonant_angle - inner.pomega, 2 * np.pi)  # 3*lambda_2 - 2*lambda_1 - pomega_1\n",
    "        angle2[i] = np.mod(resonant_angle - outer.pomega, 2 * np.pi)  # 3*lambda_2 - 2*lambda_1 - pomega_2\n",
    "\n",
    "    # print(angle_times, angle1)\n",
    "    ax[0].scatter(angle_times, angle1, c=my_cmap(chi2s[j]))\n",
    "    ax[0].scatter(angle_times, angle2, c=my_cmap(chi2s[j]))\n",
    "\n",
    "# rv curve cmap as well\n",
    "times = np.linspace(min(hd_data.BJD), max(hd_data.BJD), 1000)\n",
    "\n",
    "ax[1].errorbar(obs_times, obs_rvs - get_rvs(params[-1], np.pi/2, obs_times, 'ias15', obs_time_base), yerr=hd_data.e_RV_mlc_nzp, fmt='o') \n",
    "lowest_libration_curve = get_rvs(params[-1], np.pi/2, times, 'ias15', obs_time_base)\n",
    "\n",
    "for j, param in enumerate(params):\n",
    "    param_rvs = get_rvs(param, np.pi/2, times, 'ias15', obs_time_base) - lowest_libration_curve\n",
    "    ax[1].plot(times, param_rvs)\n",
    "\n",
    "ax[1].set_ylim(-10, 10)\n",
    "# try plotting libration angle\n",
    "# plt.figure(figsize = (12, 8))\n",
    "# plt.scatter(angle_times, angle1, label = 'inner')\n",
    "# plt.axhline(np.pi, color='k')  # inner planet oscillates about pi\n",
    "\n",
    "# plt.scatter(angle_times, angle2, label = 'outer')\n",
    "# plt.axhline(0, color='k')  # outer planet oscillates about 0\n",
    "\n",
    "plt.legend()\n",
    "plt.show()"
   ]
  },
  {
   "cell_type": "markdown",
   "metadata": {},
   "source": [
    "Libration plots for different $A_{rms}$ values:"
   ]
  },
  {
   "cell_type": "code",
   "execution_count": null,
   "metadata": {
    "scrolled": true
   },
   "outputs": [],
   "source": [
    "plt.figure(figsize = (16, 10))\n",
    "\n",
    "# compute libration angle\n",
    "for j, param in enumerate(params):\n",
    "    nperiods = 200  # measure the libration amplitude over 1000 periods of the inner planet\n",
    "    nsamples = 10000\n",
    "    angle_times = np.linspace(0, 0 + fit_params[0] * nperiods, nsamples)  # time units in days\n",
    "\n",
    "    angle1, angle2 = np.zeros(len(angle_times)), np.zeros(len(angle_times))  # init empty arrays\n",
    "    angle_sim = get_sim_from_params(param, inclination = np.pi/2, integrator='ias15', time_base=0)\n",
    "    inner = angle_sim.particles[1]\n",
    "    outer = angle_sim.particles[2]\n",
    "    for i, t in enumerate(angle_times):\n",
    "        angle_sim.integrate(t)\n",
    "        resonant_angle = 3 * outer.l - 2 * inner.l  # 3*lambda_2 - 2*lambda_1\n",
    "        # print(resonant_angle - inner.pomega)\n",
    "        angle1[i] = np.mod(resonant_angle - inner.pomega, 2 * np.pi)  # 3*lambda_2 - 2*lambda_1 - pomega_1\n",
    "        angle2[i] = np.mod(resonant_angle - outer.pomega, 2 * np.pi)  # 3*lambda_2 - 2*lambda_1 - pomega_2\n",
    "\n",
    "    # print(angle_times, angle1)\n",
    "    plt.scatter(angle_times, angle1, c=my_cmap(chi2s[j]))\n",
    "    plt.scatter(angle_times, angle2, c=my_cmap(chi2s[j]))\n",
    "\n",
    "# colorbar\n",
    "cbar = plt.colorbar()\n",
    "# cbar.ax.set_clim(min(chi2s), max(chi2s))\n",
    "cbar.ax.get_xaxis().labelpad = 10\n",
    "cbar.ax.set_xlabel(r'$\\chi^2$', rotation=0)\n",
    "plt.clim(min(chi2s), max(chi2s))\n",
    "# labels and equilibrium axis line\n",
    "plt.axhline(0, c='k')  # 0\n",
    "plt.axhline(np.pi, c='k')  # pi\n",
    "plt.xlabel('Time (days)'), plt.ylabel(r'$\\theta$ (radians)')\n",
    "# save\n",
    "plt.savefig('libration_colorbar_chi2.png', fmt='png')\n",
    "plt.show()"
   ]
  },
  {
   "cell_type": "markdown",
   "metadata": {},
   "source": [
    "Try \"wrapping\" around the other angle that oscillates about $0$:"
   ]
  },
  {
   "cell_type": "code",
   "execution_count": null,
   "metadata": {},
   "outputs": [],
   "source": [
    "# angle_times = np.linspace(np.min(hd_data.BJD), np.min(hd_data.BJD) + fit_params[0] * nperiods, len(hd_data.BJD))\n",
    "\n",
    "plt.figure(figsize = (12, 8))\n",
    "plt.scatter(angle_times, [angle - 2 * np.pi if angle > np.pi else angle for angle in angle1], label = 'inner') # angle 1\n",
    "plt.axhline(np.pi, color='k')  # inner planet oscillates about pi\n",
    "\n",
    "plt.scatter(angle_times, angle2, label = 'outer')  # angle 2\n",
    "plt.axhline(0, color='k')  # outer planet oscillates about 0\n",
    "\n",
    "plt.legend()\n",
    "plt.show()\n",
    "\n",
    "# res3 = np.array([(angle - 0)/(A0 * len(angle1)) for angle in angle1])"
   ]
  },
  {
   "cell_type": "markdown",
   "metadata": {},
   "source": [
    "Angle1 (unwrap)"
   ]
  },
  {
   "cell_type": "code",
   "execution_count": null,
   "metadata": {},
   "outputs": [],
   "source": [
    "A0 = 1\n",
    "\n",
    "res2 = np.array([(angle - 0)/(A0 * len(angle1)) \n",
    "                 for angle in [angle - 2 * np.pi if angle > np.pi else angle for angle in angle1]])\n",
    "\n",
    "(res2 @ res2)/2"
   ]
  },
  {
   "cell_type": "markdown",
   "metadata": {},
   "source": [
    "Angle2 (no wrap needed)"
   ]
  },
  {
   "cell_type": "code",
   "execution_count": null,
   "metadata": {},
   "outputs": [],
   "source": [
    "A0 = 1\n",
    "\n",
    "nbody_resids = np.array(get_nbody_resids(fit_params, 'ias15', hd_data, obs_time_base))\n",
    "\n",
    "res3 = np.array([(angle - np.pi)/(A0 * len(angle2)) for angle in angle2])\n",
    "\n",
    "(nbody_resids @ nbody_resids)/2"
   ]
  },
  {
   "cell_type": "code",
   "execution_count": null,
   "metadata": {},
   "outputs": [],
   "source": [
    "aug_resids = np.concatenate((nbody_resids, res2, res3))\n",
    "\n",
    "(aug_resids @ aug_resids)/2"
   ]
  },
  {
   "cell_type": "markdown",
   "metadata": {},
   "source": [
    "# unused"
   ]
  },
  {
   "cell_type": "markdown",
   "metadata": {},
   "source": [
    "Compare omegadot for the one-planet case (just use the params from `eq_model_params`):"
   ]
  },
  {
   "cell_type": "code",
   "execution_count": null,
   "metadata": {},
   "outputs": [],
   "source": [
    "eq_model_params, fit_params_forward.x  # k1, m2/m1, e1, omega1, omegadot, p1, tp1, rv offset"
   ]
  },
  {
   "cell_type": "code",
   "execution_count": null,
   "metadata": {},
   "outputs": [],
   "source": [
    "times[-1] - times[0]"
   ]
  },
  {
   "cell_type": "code",
   "execution_count": null,
   "metadata": {},
   "outputs": [],
   "source": [
    "# def get_forward_model_resids_libration(times, params, obs_data, obs_time_base, yerr=1, c=c, n=0, A0=0.01):\n",
    "#     \"\"\"\n",
    "#     Gets the normalized residuals for the forward model fit with the radvel function rather than rebound\n",
    "    \n",
    "#     This uses the get_rv_signal_equilibrium_tc() function that parametrizes using secos1, sesin1 instead of e1, omega1\n",
    "#     and uses tc1 instead of tp1 to parameterize the time of conjunction\n",
    "    \n",
    "#     This also adds a penalty term A^2 accounting for the libration amplitudes of the two planets\n",
    "    \n",
    "#     array: times: times corresponding to the observed RV data (should be the same length as obs_data)\n",
    "#     list or array: params: parameters for the forward model, in the order: \n",
    "#         [K1, m2/m1, secos1, sesin1, omegadot, P1, Tc1, rv_offset] as in the get_rv_equilibrium() function\n",
    "#         k1: semi-amplitude of the inner planet, in m/s\n",
    "#         m2/m1: ratio of outer planet to inner planet's mass, dimensionless\n",
    "#         secos1: sqrt(e1) * cos(omega1), where e1 is the eccentricity of the inner planet (dimensionless)\n",
    "#             and omega1 is the argument of pericenter of the inner planet (radians)\n",
    "#         sesin1: sqrt(e1) * sin(omega1), where e1 is the eccentricity of the inner planet (dimensionless)\n",
    "#             and omega1 is the argument of pericenter of the inner planet (radians)\n",
    "#         omegadot: rate of precession (omegadot = omegadot_1 = omegadot_2), rad/day\n",
    "#         p1: period of inner planet, days\n",
    "#         tc1: time of conjunction of inner planet, days\n",
    "#         rv_offset: rv offset of star, in m/s\n",
    "#     array: obs_data: observed rv data to fit the forward model rv signal to\n",
    "#     float: time_base: time base for the simulation to start at\n",
    "#     default array: yerr: array of errors in the observed data (by default 1) for normalization, should be same length as obs_data as well\n",
    "#     default float: c: constant c for the conversion from e1/e2 to m2/m1, by default 1.07\n",
    "#     default float: A0: constant A0 to normalize the libration amplitudes for, by default 0.01\n",
    "#     \"\"\"\n",
    "    \n",
    "#     # first compute the nromalized residuals\n",
    "#     obs_y = obs_data  # observed y is observed data\n",
    "#     # get rb params and then synthetic y using rebound for the libration angle model\n",
    "#     _, rb_params = get_rv_signal_equilibrium_tc(times, params, c, time_base = obs_time_base, n=n)  # get rebound params\n",
    "#     synth_y_reb = get_rvs(rb_params, np.pi/2, times, 'ias15', obs_time_base)  # compute synthetic y using rebound\n",
    "#     obs_yerr = yerr  # by default normalized to 1, otherwise array with the same length as obs_y\n",
    "#     normalized_resids = (obs_y - synth_y_reb)/obs_yerr  # compute normalized residuals using rebound\n",
    "    \n",
    "#     # now compute Libration angle A\n",
    "#     k1, m2m1, secos1, sesin1, omegadot, p1, tc1, rv_offset = params  # unpack tuple\n",
    "#     # now find the libration angles from omega, using a rebound simulation\n",
    "#     # compute libration angle\n",
    "#     nperiods = 1000  # measure the libration amplitude over 100 periods of the inner planet (longer time array than for the residuals)\n",
    "#     angle_times = np.linspace(np.min(hd_data.BJD), np.min(hd_data.BJD) + p1 * nperiods, len(obs_data))  # angle times\n",
    "#     angle_time_base = np.median(angle_times)  # reset angle time base to something else to find the libration amplitude \n",
    "    \n",
    "#     angle_sim = get_sim_from_params(rb_params, inclination = np.pi/2, integrator='ias15', time_base=np.median(angle_times))\n",
    "#     inner = angle_sim.particles[1]\n",
    "#     outer = angle_sim.particles[2]\n",
    "#     # define empty arrays\n",
    "#     angle1, angle2 = np.zeros(len(times)), np.zeros(len(times))  # init empty arrays\n",
    "#     # now compute the libration angle arrays\n",
    "#     for i, t in enumerate(times):\n",
    "#         angle_sim.integrate(t)\n",
    "#         resonant_angle = 3 * outer.l - 2 * inner.l  # 3*lambda_2 - 2*lambda_1\n",
    "#         angle1[i] = resonant_angle - inner.pomega  # 3*lambda_2 - 2*lambda_1 - pomega_1\n",
    "#         angle2[i] = resonant_angle - outer.pomega  # 3*lambda_2 - 2*lambda_1 - pomega_2\n",
    "    \n",
    "#     # now return the rms libration amplitude for inner and outer to penalize by\n",
    "#     # compute the normalized residuals\n",
    "#     res1 = np.array([(angle - 0)/(A0 * len(angle1)) \n",
    "#                      for angle in [angle - 2 * np.pi if angle > np.pi else angle for angle in angle1]])  # since inner planet oscillates around 0\n",
    "#     res2 = np.array([(angle - np.pi)/(A0 * len(angle2)) for angle in angle2])  # since outer planet oscillates around pi\n",
    "    \n",
    "#     # return normalized residuals plus the residual term a, counting for the libration angle\n",
    "#     return np.concatenate((normalized_resids, res1, res2))  # concatenate all 3 arrays to pass to the \"residuals\"\n",
    "\n",
    "# # def \n"
   ]
  },
  {
   "cell_type": "code",
   "execution_count": null,
   "metadata": {},
   "outputs": [],
   "source": [
    "time_base = np.median(hd_data.BJD)\n",
    "\n",
    "times = np.linspace(time_base, time_base + inner.P * P1 * 5, int(1e4))  # short\n",
    "# times = np.linspace(time_base, time_base + inner.P * P1 * 20, int(1e4)) # long"
   ]
  },
  {
   "cell_type": "markdown",
   "metadata": {},
   "source": [
    "$\\frac{2\\pi \\left(t - T_p\\right)}{P} = \\lambda - \\omega_0 - \\dot\\omega t$\n",
    "\n",
    "$T_p = T_{p0} + \\dot{T_p} t$\n",
    "\n",
    "$\\varpi = \\omega_o + \\dot\\omega t$\n",
    "\n",
    "$\\lambda = \\lambda_0 + 2\\pi\\frac{t}{P}$\n",
    "\n",
    "\n",
    "$\\dot{T_p} = \\frac{P}{2\\pi t}\\left(-\\lambda_0 + \\omega_0 + \\dot\\omega t\\right) - \\frac{T_{p0}}{t}$"
   ]
  },
  {
   "cell_type": "markdown",
   "metadata": {},
   "source": [
    "$\\dot{T_p} = \\frac{P \\dot\\omega}{2\\pi}$"
   ]
  },
  {
   "cell_type": "code",
   "execution_count": null,
   "metadata": {},
   "outputs": [],
   "source": [
    "\n",
    "# create sim\n",
    "# use whfast since we need whfast to work properly\n",
    "\n",
    "\n",
    "# eq_model_rvs, rebound_rvs, rebound_params, rebound_sim = get_rv_signal_equilibrium(times, eq_model_params, c, time_base)\n",
    "# define star, planet\n",
    "star = rebound_sim.particles[0]\n",
    "inner = rebound_sim.particles[1]  # only one planet\n",
    "outer = rebound_sim.particles[2]\n",
    "# # add reboundx\n",
    "# rebx = reboundx.Extras(reboundx_sim)\n",
    "# rebx.add_operator(rebx.load_operator('modify_orbits_direct'))\n",
    "# # add omegadot precession rate\n",
    "# planet.params['tau_omega'] = (2 * np.pi) * 1/omegadot\n",
    "\n",
    "# create empty arrays\n",
    "rebound_rvs = np.zeros(len(times))\n",
    "\n",
    "rebound_tp1s = np.zeros(len(times))\n",
    "rebound_omega1s = np.zeros(len(times))\n",
    "\n",
    "rebound_tp2s = np.zeros(len(times))\n",
    "rebound_omega2s = np.zeros(len(times))\n",
    "\n",
    "# integrate\n",
    "for i, t in enumerate(times):\n",
    "    rebound_sim.integrate(t)\n",
    "    rebound_rvs[i] = (-star.vz * AUDAY_MS)  # no rv offset for these simple sims\n",
    "    \n",
    "    rebound_tp1s[i] = inner.T\n",
    "    rebound_omega1s[i] = inner.omega\n",
    "    \n",
    "    rebound_tp2s[i] = outer.T\n",
    "    rebound_omega2s[i] = outer.omega\n",
    "#     period, Tp, e, omega = planet.P, planet.T, planet.e, planet.omega\n",
    "#     one_planet_precess_rv_drive[i] = radvel.kepler.rv_drive(np.array([t]), [period, Tp, e, omega, K])\n",
    "\n",
    "# # radvel for p, tp, e, omega, K\n",
    "# # print(p, tp, time_base, tpdot, e, omega, K)\n",
    "# one_planet_precess_rvs_keplerian_tps = np.array([radvel.kepler.rv_drive(np.array([t]), [p, tp0, e, omega0 + (t - time_base) * omegadot, K]) for t in times])\n",
    "# # want the above one to fit\n",
    "# one_planet_precess_rvs_rebound_tps = np.array([radvel.kepler.rv_drive(np.array([t]), [p, Tp, e, omega0 + (t - time_base) * omegadot, K]) for t, Tp in zip(times, reboundx_tps)])\n",
    "# one_planet_no_precess_rvs = np.array([radvel.kepler.rv_drive(np.array([t]), [p, tp0, e, omega0, K]) for t in times])\n",
    "# # fitting\n",
    "# omegadot_fit_params = optimize.least_squares(lambda params: get_resids_linear_fit(params, np.unwrap(reboundx_omegas), times), [omegadot, omega0])"
   ]
  },
  {
   "cell_type": "code",
   "execution_count": null,
   "metadata": {},
   "outputs": [],
   "source": [
    "P1"
   ]
  },
  {
   "cell_type": "code",
   "execution_count": null,
   "metadata": {},
   "outputs": [],
   "source": [
    "plt.plot(times, np.mod(rebound_tp1s, P1))"
   ]
  },
  {
   "cell_type": "code",
   "execution_count": null,
   "metadata": {},
   "outputs": [],
   "source": [
    "# plot\n",
    "plt.figure(figsize = (12, 8))\n",
    "# keplerian with/without precession\n",
    "# plt.plot(times, one_planet_no_precess_rvs, label = 'no precession, keplerian')  # no precession\n",
    "plt.plot(times, one_planet_precess_rvs_keplerian_tps, label = 'precession, kep')  # precession by feeding in kepler tps into rv drive\n",
    "# plt.plot(times, one_planet_precess_rvs_rebound_tps, label = 'precession, rebound (tp omega)')\n",
    "# plt.plot(times, one_planet_precess_rv_drive, label = 'precession, rebound (all params)')  # precession by feeding in rebound tps into rv drive\n",
    "# rebound with reboundx precession model\n",
    "plt.plot(times, reboundx_rvs, label = 'rebound')  # rebound w/ reboundx and precession\n",
    "plt.xlabel('JD'), plt.ylabel('radial velocity (m/s)')\n",
    "plt.legend()\n",
    "plt.show()"
   ]
  },
  {
   "cell_type": "markdown",
   "metadata": {},
   "source": [
    "Now generate new signals from the equilibrium values of the eccentricity simulations, and then use those. First test with one specific simulation:"
   ]
  },
  {
   "cell_type": "code",
   "execution_count": null,
   "metadata": {},
   "outputs": [],
   "source": [
    "ggsim = rb.Simulation(f'hd_max_mass/ecc_track_archive_cluster_{index}.bin')\n",
    "# check starting inner, outer eccentricities and omegas\n",
    "ggsim.particles[1].e, ggsim.particles[2].e, ggsim.particles[1].omega, ggsim.particles[2].omega  "
   ]
  },
  {
   "cell_type": "code",
   "execution_count": null,
   "metadata": {},
   "outputs": [],
   "source": [
    "index = np.abs(Ks_orig - 90).argmin()  # index of the Ks_original closest to K = 90\n",
    "Ks_orig[index]\n",
    "\n",
    "ecc_sims_location = 'hd_max_mass'  # location of simulations\n",
    "# get the simulation\n",
    "Ks_sim = rb.Simulation(f'{ecc_sims_location}/ecc_track_archive_cluster_{index}.bin')  # get the corresponding eccentricity simulation\n",
    "# define star, inner, outer planets\n",
    "star = Ks_sim.particles[0]\n",
    "inner = Ks_sim.particles[1]\n",
    "outer = Ks_sim.particles[2]\n",
    "# use whfast instead of ias15 for the integrator since reboundx omegadot implementation breaks with ias15\n",
    "Ks_sim.integrator = 'whfast'  # use whfast\n",
    "Ks_sim.dt = inner.P * 1/50  # 1/50th the period of the inner planet\n",
    "\n",
    "Ks_sim.t = time_base  # set Ks_sim time base to time base\n",
    "# since it's already at equilibrium, then make an RV signal with REBOUND over a few orbital periods\n",
    "# 10 times the orbital period of the inner planet\n",
    "\n",
    "# define rotation matrix\n",
    "r = np.matrix([[1, 0, 0],\n",
    "              [0, 0, 1],\n",
    "              [0, 1, 0]])  # np.pi/2 rotation matrix so everything is aligned along z\n",
    "\n",
    "# move to center of mass and then align it so z-axis is movement\n",
    "# rotate simulation so z axis is aligned, and then move to center of mass\n",
    "rotate_sim(Ks_sim, r)\n",
    "Ks_sim.move_to_com()\n",
    "\n",
    "# add reboundx\n",
    "# rebx = reboundx.Extras(Ks_sim)\n",
    "# rebx.add_operator(rebx.load_operator('modify_orbits_direct'))\n",
    "# # define omegadot precession rate\n",
    "# omegadot = 1e-16  # try really small since the eq_model_params should be 0\n",
    "# # then add tau omegas\n",
    "# inner.params['tau_omega'] = (2 * np.pi) * 1/omegadot\n",
    "# outer.params['tau_omega'] = (2 * np.pi) * 1/omegadot\n",
    "\n",
    "# generate time array and other arrays, then integrate\n",
    "nperiods = 20  # number of inner planet periods for the integration times of both the \"observed\" rebound data and the other 2\n",
    "\n",
    "# now get rvs using rebound\n",
    "times = np.linspace(Ks_sim.t, Ks_sim.t + inner.P * P1 * nperiods, int(1e4))  # 10 periods\n",
    "Ks_sim_rvs = np.zeros(len(times))\n",
    "\n",
    "# define arrays\n",
    "e1s = np.zeros(len(times))\n",
    "e2s = np.zeros(len(times))\n",
    "omega1s = np.zeros(len(times))\n",
    "omega2s = np.zeros(len(times))\n",
    "\n",
    "inner = Ks_sim.particles[1]\n",
    "outer = Ks_sim.particles[2]\n",
    "\n",
    "# loop\n",
    "for i, t in enumerate(times):\n",
    "    # integrate the simple sim\n",
    "    # have to scale the time by the period as time_base + (t - time_base)/P1 since in \"natural\" units of P1\n",
    "    # the range of times is ~19 but in units of BJD times is about ~5000, both starting at the time_base of ~54452\n",
    "    Ks_sim.integrate(time_base + (t - time_base)/P1, exact_finish_time = 1)\n",
    "    # compute the rvs, making sure to convert from au/day to m/s again\n",
    "    # multiply by conversion\n",
    "    Ks_sim_rvs[i] = (-star.vz * v_conv) # no rv offset for these simple sims\n",
    "    e1s[i] = inner.e\n",
    "    e2s[i] = outer.e\n",
    "    omega1s[i] = inner.omega\n",
    "    omega2s[i] = outer.omega"
   ]
  },
  {
   "cell_type": "code",
   "execution_count": null,
   "metadata": {},
   "outputs": [],
   "source": [
    "np.finfo(float).eps"
   ]
  },
  {
   "cell_type": "code",
   "execution_count": null,
   "metadata": {},
   "outputs": [],
   "source": [
    "(time_base + (times[-1] - time_base)/P1), (time_base + (times[0] - time_base)/P1)"
   ]
  },
  {
   "cell_type": "markdown",
   "metadata": {},
   "source": [
    "Plotting the rvs for the rebound \"observed\" values against the forward model values using the previous least-squares optimization:"
   ]
  },
  {
   "cell_type": "code",
   "execution_count": null,
   "metadata": {},
   "outputs": [],
   "source": [
    "eq_model_ls_params = [ 7.33996847e+00, 2.80666441e+00, 4.12923157e-02, 7.76355098e+00, -1.01134989e-04, 2.27201128e+02, 5.45983166e+04, -3.63590783e-03] "
   ]
  },
  {
   "cell_type": "code",
   "execution_count": null,
   "metadata": {},
   "outputs": [],
   "source": [
    "plt.figure(figsize = (12, 8))\n",
    "# these are the rvs generated using a rebound simulation from the equilibrum eccentricity simulations\n",
    "plt.plot(times, Ks_sim_rvs, label = 'rebound \"observed\"')\n",
    "# compute the equilibrium forward model times using eq_model_params (derived from the original best-fit solution to the observed data) \n",
    "c = 1.07  # c is about 1.07, derived (coefficient for e1/e2 = c * m2/m1)\n",
    "eq_model_rvs, _, _ = get_rv_signal_equilibrium(times, eq_model_ls_params, c, time_base)\n",
    "# these are the rvs generated using the forward model from eq_model_params derived from the original best-fit solution\n",
    "plt.plot(times, eq_model_rvs, label = 'forward model')\n",
    "plt.xlabel('JD'), plt.ylabel('Radial velocity (m/s)')\n",
    "plt.legend()\n",
    "plt.show()"
   ]
  },
  {
   "cell_type": "markdown",
   "metadata": {},
   "source": [
    "Plotting the eccentricities to check as well:"
   ]
  },
  {
   "cell_type": "code",
   "execution_count": null,
   "metadata": {},
   "outputs": [],
   "source": [
    "plt.figure(figsize=(12, 8))\n",
    "plt.plot(times, e1s, label = 'inner')  # inner ecc\n",
    "plt.plot(times, e2s, label = 'outer')  # outer ecc\n",
    "plt.xlabel('JD'), plt.ylabel('eccentricity')\n",
    "plt.legend()\n",
    "plt.show()"
   ]
  },
  {
   "cell_type": "markdown",
   "metadata": {},
   "source": [
    "And omegas:"
   ]
  },
  {
   "cell_type": "code",
   "execution_count": null,
   "metadata": {},
   "outputs": [],
   "source": [
    "plt.figure(figsize=(12, 8))\n",
    "plt.plot(times, omega1s, label = 'inner')  # inner omega\n",
    "plt.plot(times, omega2s, label = 'outer')  # outer omega\n",
    "plt.xlabel('JD'), plt.ylabel(r'$\\omega$')\n",
    "plt.legend()\n",
    "plt.show()"
   ]
  },
  {
   "cell_type": "markdown",
   "metadata": {},
   "source": [
    "Now fit the forward model to the rebound values and compare the second fit with original guess (first fit)\n",
    "Params are $k_1, \\frac{m_2}{m_1}, e_1, \\omega_1, \\dot\\omega, P_1, T_{p1}$"
   ]
  },
  {
   "cell_type": "code",
   "execution_count": null,
   "metadata": {},
   "outputs": [],
   "source": [
    "fit_params_forward = optimize.least_squares(lambda params: get_forward_model_resids(times, params, Ks_sim_rvs, time_base), eq_model_ls_params)"
   ]
  },
  {
   "cell_type": "code",
   "execution_count": null,
   "metadata": {},
   "outputs": [],
   "source": [
    "print(f'Least squares fit: \\n{fit_params_forward.x}', '\\n\\n', \n",
    "      f'Original (best-fit from observations) guess: \\n {eq_model_params}')\n",
    "\n"
   ]
  },
  {
   "cell_type": "markdown",
   "metadata": {},
   "source": [
    "And compare the fit to see if the parameters are recovered:"
   ]
  },
  {
   "cell_type": "code",
   "execution_count": null,
   "metadata": {},
   "outputs": [],
   "source": [
    "# compute rv signals for both:\n",
    "fit_eq_rvs, fit_rebound_rvs, _ = get_rv_signal_equilibrium(times, fit_params_forward.x, c, time_base)  # generate forward model rvs using the least-squares optimziation params\n",
    "eq_model_rvs, rebound_rvs, _ = get_rv_signal_equilibrium(times, eq_model_params, c, time_base)  # gneerate eq_model_rvs using the original best-fit from observations guess\n",
    "# in our model we are fitting fit_eq_rvs using the forward model, to the Ks_sim_rvs generated using rebound from the equilibrium eccentricity simulations\n",
    "\n",
    "# Plot the rv signals\n",
    "plt.figure(figsize = (12, 8))\n",
    "# forward model and rebound for original guess:\n",
    "# plt.plot(times, eq_model_rvs, label = 'forward model (original)')\n",
    "# plt.plot(times, rebound_rvs, label = 'rebound (original)')\n",
    "# forward model and rebound for fit params:\n",
    "plt.plot(times, fit_eq_rvs, label = 'forward model (fit)')\n",
    "# plt.plot(times, fit_rebound_rvs, label = 'rebound (fit)')\n",
    "# \"observed\" values, rv signal generated for equilibrium\n",
    "plt.plot(times, Ks_sim_rvs, label = 'observed')\n",
    "plt.legend()\n",
    "plt.show()"
   ]
  },
  {
   "cell_type": "code",
   "execution_count": null,
   "metadata": {},
   "outputs": [],
   "source": [
    "nsims = 100\n",
    "Ks_orig = np.logspace(0, 5, nsims)\n",
    "ecc_sims_location = 'hd_max_mass'\n",
    "# initialize c array\n",
    "cs = np.zeros(len(Ks_orig))\n",
    "\n",
    "for i in range(0, len(Ks_orig)):\n",
    "    ecc_sim = rb.Simulation(f'{ecc_sims_location}/ecc_track_archive_cluster_{i}.bin')  # get the ith eccentricity simulation from the ecc sims folder\n",
    "    inner = ecc_sim.particles[1]\n",
    "    outer = ecc_sim.particles[2]\n",
    "    "
   ]
  },
  {
   "cell_type": "code",
   "execution_count": null,
   "metadata": {},
   "outputs": [],
   "source": [
    "# omegadot = 0.001\n",
    "\n",
    "# test_sim = rb.Simulation()\n",
    "# test_sim.add(m=1)\n",
    "# test_sim.add(a=1, e=0.1)\n",
    "\n",
    "# star = test_sim.particles[0]\n",
    "# planet = test_sim.particles[1]\n",
    "# omega0 = planet.omega\n",
    "\n",
    "# rebx = reboundx.Extras(test_sim)\n",
    "# rebx.add_operator(rebx.load_operator('modify_orbits_direct'))\n",
    "# # add omegadot precession rate\n",
    "# planet.params['tau_omega'] = (2 * np.pi) * 1/omegadot\n",
    "\n",
    "# test_pomegas = np.zeros(len(times))\n",
    "\n",
    "# for i, t in enumerate(times):\n",
    "#     test_sim.integrate(t)\n",
    "#     test_pomegas[i] = planet.pomega\n",
    "\n",
    "    \n",
    "# plt.plot(times, test_pomegas)\n",
    "# plt.plot(times, np.mod([omega0 + (t - time_base) * omegadot for t in times], 2 * np.pi))\n",
    "# plt.axvline(planet.params['tau_omega']/(2 * np.pi), color='k')"
   ]
  },
  {
   "cell_type": "code",
   "execution_count": null,
   "metadata": {},
   "outputs": [],
   "source": [
    "reboundx_omegas, omega0"
   ]
  },
  {
   "cell_type": "code",
   "execution_count": null,
   "metadata": {},
   "outputs": [],
   "source": [
    "plt.plot(times, np.unwrap(reboundx_omegas))\n",
    "plt.plot(times, omegadot * (times - time_base) + reboundx_omegas[0])\n",
    "# plt.plot(times, np.mod([omega0 + (t - time_base) * omegadot for t in times], 2 * np.pi))\n",
    "# plt.plot(times, [omegadot_fit_params.x[1] + (t - time_base) * omegadot_fit_params.x[0] for t in times])"
   ]
  },
  {
   "cell_type": "code",
   "execution_count": null,
   "metadata": {},
   "outputs": [],
   "source": [
    "reboundx_omegas, omegadot * (times - time_base) + reboundx_omegas[0]"
   ]
  },
  {
   "cell_type": "code",
   "execution_count": null,
   "metadata": {},
   "outputs": [],
   "source": [
    "np.mod(reboundx_tps, p)"
   ]
  },
  {
   "cell_type": "code",
   "execution_count": null,
   "metadata": {},
   "outputs": [],
   "source": [
    "plt.plot(times, np.mod(reboundx_tps, p))"
   ]
  },
  {
   "cell_type": "code",
   "execution_count": null,
   "metadata": {},
   "outputs": [],
   "source": [
    "def get_resids_linear_fit(params, y, x):\n",
    "    \"\"\"\n",
    "    linear fit for y = ax + b    \n",
    "    params: a, b in that order\n",
    "    \"\"\"\n",
    "    a, b = params\n",
    "    obs_y = y\n",
    "    synth_y = a * x + b\n",
    "    return np.abs(obs_y - synth_y)\n",
    "    "
   ]
  },
  {
   "cell_type": "code",
   "execution_count": null,
   "metadata": {},
   "outputs": [],
   "source": [
    "# omegadot_fit_params = optimize.least_squares(lambda params: get_resids_linear_fit(params, np.unwrap(reboundx_omegas), times), [omegadot, omega0])"
   ]
  },
  {
   "cell_type": "code",
   "execution_count": null,
   "metadata": {},
   "outputs": [],
   "source": [
    "omegadot, omegadot_fit_params.x"
   ]
  },
  {
   "cell_type": "code",
   "execution_count": null,
   "metadata": {},
   "outputs": [],
   "source": [
    "omega0\n"
   ]
  },
  {
   "cell_type": "code",
   "execution_count": null,
   "metadata": {},
   "outputs": [],
   "source": [
    "time_base"
   ]
  },
  {
   "cell_type": "code",
   "execution_count": null,
   "metadata": {},
   "outputs": [],
   "source": [
    "-1/omegadot"
   ]
  },
  {
   "cell_type": "code",
   "execution_count": null,
   "metadata": {},
   "outputs": [],
   "source": [
    "np.reshape(one_planet_no_precess_rvs, -1), reboundx_rvs"
   ]
  },
  {
   "cell_type": "code",
   "execution_count": null,
   "metadata": {},
   "outputs": [],
   "source": [
    "p, 1/omegadot"
   ]
  },
  {
   "cell_type": "code",
   "execution_count": null,
   "metadata": {},
   "outputs": [],
   "source": [
    "times, time_base"
   ]
  },
  {
   "cell_type": "code",
   "execution_count": null,
   "metadata": {},
   "outputs": [],
   "source": [
    "x, y = np.random.rand(2, 20, 8)\n",
    "x *= 1000\n",
    "\n",
    "fig, axs = plt.subplots(2, 4, figsize = (10, 5))\n",
    "for i, ax in enumerate(axs.flat):\n",
    "    ax.scatter(x[:, i], y[:, i])\n"
   ]
  },
  {
   "cell_type": "code",
   "execution_count": null,
   "metadata": {},
   "outputs": [],
   "source": [
    "fig, ax = plt.subplots(2, 4, figsize = (16, 8))\n",
    "for i in range(0, 4):\n",
    "    ax[0, i].plot(times, get_rvs(params[i], np.pi/2, times, 'ias15', obs_time_base) - lowest_libration_curve)\n",
    "ax[1, 0].scatter(angle_times, angle2)\n",
    "ax[1, 1].scatter(angle_times, angle1)\n",
    "ax[1, 2].scatter(librations, chi2s)\n",
    "# plt.tight_layout(pad=0)"
   ]
  }
 ],
 "metadata": {
  "kernelspec": {
   "display_name": "Python 3 (ipykernel)",
   "language": "python",
   "name": "python3"
  },
  "language_info": {
   "codemirror_mode": {
    "name": "ipython",
    "version": 3
   },
   "file_extension": ".py",
   "mimetype": "text/x-python",
   "name": "python",
   "nbconvert_exporter": "python",
   "pygments_lexer": "ipython3",
   "version": "3.8.10"
  }
 },
 "nbformat": 4,
 "nbformat_minor": 4
}
