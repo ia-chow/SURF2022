{
 "cells": [
  {
   "cell_type": "code",
   "execution_count": 1,
   "metadata": {},
   "outputs": [],
   "source": [
    "import radvel\n",
    "import numpy as np\n",
    "import rebound as rb\n",
    "import reboundx\n",
    "import matplotlib.pyplot as plt\n",
    "import celmech as cm\n",
    "import pandas as pd\n",
    "import h5py\n",
    "from tqdm import tqdm"
   ]
  },
  {
   "cell_type": "markdown",
   "metadata": {},
   "source": [
    "Set up model using $K_1$, $\\frac{m_2}{m_1}$, $e_1$, $\\omega_1$, $\\dot{\\omega}$, $P_1$, $\\lambda_1$ or $M_1$:"
   ]
  },
  {
   "cell_type": "code",
   "execution_count": 2,
   "metadata": {},
   "outputs": [],
   "source": [
    "hd_data = pd.read_csv('hd45364_rvs.csv', sep = ';')\n",
    "hd_data.BJD -= 2.4e6\n",
    "\n",
    "cluster_data = h5py.File('hd_mcmc_cluster.h5', 'r')  # import the posterior distribution data from the cluster\n",
    "accepted, samples, log_prob = np.array(cluster_data['mcmc']['accepted']), np.array(cluster_data['mcmc']['chain']), np.array(cluster_data['mcmc']['log_prob'])\n",
    "\n",
    "n_burn_in = 200  # discard the first 200 samples as burn-in time\n",
    "# reshape the chain to flatten it out\n",
    "flat_samples = samples[n_burn_in:].reshape(-1, samples[n_burn_in:].shape[-1])"
   ]
  },
  {
   "cell_type": "markdown",
   "metadata": {},
   "source": [
    "Model -- use RV model in equilibrium. First find the constant $c$ in $\\frac{e_1}{e_2} = c \\times \\frac{m_2}{m_1}$, using the `REBOUNDx` eccentricity track simulations:"
   ]
  },
  {
   "cell_type": "code",
   "execution_count": 3,
   "metadata": {},
   "outputs": [],
   "source": [
    "nsims = 100\n",
    "Ks_orig = np.logspace(0, 5, nsims)\n",
    "ecc_sims_location = 'hd_max_mass'\n",
    "# initialize c array\n",
    "cs = np.zeros(len(Ks_orig))\n",
    "\n",
    "for i in range(0, len(Ks_orig)):\n",
    "    ecc_sim = rb.Simulation(f'{ecc_sims_location}/ecc_track_archive_cluster_{i}.bin')  # get the ith eccentricity simulation from the ecc sims folder\n",
    "    inner = ecc_sim.particles[1]\n",
    "    outer = ecc_sim.particles[2]\n",
    "    # print(inner.m, outer.m)\n",
    "    cs[i] = (inner.e * inner.m)/(outer.e * outer.m)  # compute c by rearranging"
   ]
  },
  {
   "cell_type": "code",
   "execution_count": 4,
   "metadata": {},
   "outputs": [
    {
     "data": {
      "text/latex": [
       "$\\displaystyle 0.906796329356936$"
      ],
      "text/plain": [
       "0.9067963293569362"
      ]
     },
     "execution_count": 4,
     "metadata": {},
     "output_type": "execute_result"
    }
   ],
   "source": [
    "np.median(cs)"
   ]
  },
  {
   "cell_type": "code",
   "execution_count": 5,
   "metadata": {},
   "outputs": [
    {
     "data": {
      "text/plain": [
       "(array([ 1.,  4.,  2.,  3.,  2.,  3., 10., 29., 31., 15.]),\n",
       " array([0.19111961, 0.28128896, 0.37145831, 0.46162766, 0.55179701,\n",
       "        0.64196636, 0.73213571, 0.82230506, 0.91247441, 1.00264376,\n",
       "        1.09281311]),\n",
       " <BarContainer object of 10 artists>)"
      ]
     },
     "execution_count": 5,
     "metadata": {},
     "output_type": "execute_result"
    },
    {
     "data": {
      "image/png": "[encoded data removed]",
      "text/plain": [
       "<Figure size 432x288 with 1 Axes>"
      ]
     },
     "metadata": {
      "needs_background": "light"
     },
     "output_type": "display_data"
    }
   ],
   "source": [
    "plt.hist(cs)"
   ]
  },
  {
   "cell_type": "markdown",
   "metadata": {},
   "source": [
    "Create rv"
   ]
  },
  {
   "cell_type": "code",
   "execution_count": 6,
   "metadata": {},
   "outputs": [],
   "source": [
    "#Least squares fit: \n",
    "fit_params = [ 2.28513053e+02, 7.27743508e+00, 5.39371890e+04, -1.78110513e-01, \n",
    "              -4.66450116e-02, 3.43378023e+02, 1.78603199e+01, 5.40186750e+04,\n",
    "               1.32165040e-01, 9.73129308e-02, -5.29039776e-01] \n",
    "\n",
    "# star mass, g and auday to m/s conversion factor\n",
    "STAR_MASS = 920  # 920 jupiter masses\n",
    "G = 2.825e-7  # converting G to jupiter masses, au, and days\n",
    "AUDAY_MS = 1.731e6  # conversion factor to convert from au/day --> m/s\n",
    "\n",
    "def mass_to_semiamp(planet_mass, star_mass, period, eccentricity, inclination):\n",
    "    \"\"\"\n",
    "    planet mass (jupiter masses) to semi amplitude (in au/day)\n",
    "    \"\"\"\n",
    "    return ((2 * np.pi * G/period) ** (1/3) * (planet_mass * np.sin(inclination) / star_mass ** (2/3)) * (1/np.sqrt(1 - eccentricity ** 2)))\n",
    "\n",
    "def semiamp_to_mass(semiamp, star_mass, period, eccentricity, inclination):\n",
    "    \"\"\"\n",
    "    semi amplitude (in au/day) to planet mass (jupiter masses)\n",
    "    \"\"\"\n",
    "    return (((2 * np.pi * G/period) ** (-1/3)) * (semiamp / np.sin(inclination)) * np.sqrt(1 - eccentricity ** 2) * (star_mass ** (2/3)))\n",
    "\n",
    "\n",
    "def get_sim_from_params(params, inclination, integrator, time_base, star_mass = STAR_MASS, auday_ms = AUDAY_MS):\n",
    "    \"\"\"\n",
    "    takes in params array, returns a rebound Simulation object with those parameters\n",
    "    \n",
    "    param params: numpy array of params:\n",
    "    \n",
    "    for i in range(0, num_planets):\n",
    "    \n",
    "    params[i + 0] is period\n",
    "    params[i + 1] is semiamp\n",
    "    params[i + 2] is tc (time of conjunction)\n",
    "    params[i + 3] is sqrt(e) * cos(omega)\n",
    "    params[i + 4] is sqrt(e) * sin(omega)\n",
    "    \n",
    "    params[5 * num_planets] is rv offset\n",
    "    params[5 * num_planets + 1] is jit\n",
    "    \n",
    "    param inclination: inclination of system in the observation plane (pi/2 is in the plane of the sky, 0 is edge-on)\n",
    "    param integrator: integrator to use, one of 'whfast' or 'ias15'\n",
    "    param time_base: base time (to begin integration from) in the simulation\n",
    "    \"\"\"\n",
    "    \n",
    "    num_planets = int((len(params) - 1) / 5) # -2 because there are rv_offset and jit parameters:\n",
    "    \n",
    "    sim = rb.Simulation()\n",
    "    sim.integrator = integrator\n",
    "    sim.t = time_base  # keplerian and n-body models initialized at the same time offset\n",
    "    # print(sim.t)\n",
    "    if integrator == 'whfast':  # if using whfast integrator, set timestep\n",
    "        sim.dt = 1/50 * min(params[0::5][:-1])  # timestep is 1/20th of the shortest orbital period of any planet\n",
    "        # print(sim.dt)\n",
    "    sim.units = ('AU', 'Mjupiter', 'day')\n",
    "\n",
    "    sim.add(m = star_mass)  # star mass as a constant\n",
    "        \n",
    "    for i in range (0, num_planets):\n",
    "        # print(i)\n",
    "        # planet parameters\n",
    "        period = params[5*i]  # in days\n",
    "        semiamp = params[5*i + 1] / auday_ms # divide by auday_ms because semiamp given in m/s\n",
    "        eccentricity = params[5*i + 3] ** 2 + params[5*i + 4] ** 2  # eccentricity from secos, sesin\n",
    "        omega = np.arctan2(params[5*i + 4], params[5*i + 3])  # omega from arctan of sesin, secos  (in that order!)\n",
    "        # get tp by converting from tc\n",
    "        tp = radvel.orbit.timetrans_to_timeperi(tc = params[5*i + 2], per = period, ecc = eccentricity, omega = omega)\n",
    "        \n",
    "        # mass\n",
    "        mass = semiamp_to_mass(semiamp = semiamp, star_mass = star_mass, period = period, eccentricity = eccentricity, inclination = inclination)\n",
    "        \n",
    "        # adding to simulation\n",
    "        sim.add(m = mass, P = period, e = eccentricity, T = tp, omega = omega, inc = inclination)\n",
    "        \n",
    "    sim.move_to_com()  # move to center of mass\n",
    "    \n",
    "    return sim\n",
    "\n",
    "def get_simple_sim(masses, integrator = 'ias15', period_ratio = 3/2, epsilon=0.01):\n",
    "    \"\"\"\n",
    "    gets simple sim (for eccentricity track stuff)\n",
    "    param masses: array of planet masses\n",
    "    param integrator: integrator\n",
    "    param epsilon: amount by which the resonant period ratio should be offset from the equilibrium in the simulation\n",
    "    \"\"\"\n",
    "    sim = rb.Simulation()\n",
    "    sim.integrator = integrator\n",
    "    # central star\n",
    "    sim.add(m = 1)\n",
    "    \n",
    "    sim.add(m = masses[0], P = 1)\n",
    "    sim.add(m = masses[1], P = period_ratio * (1 + epsilon))\n",
    "\n",
    "    sim.move_to_com()\n",
    "    if integrator == 'whfast':\n",
    "        sim.dt = 1/50 * 1  # dy default use 1/50th of the inner planet's orbital period for the timestep if using whfast\n",
    "    return sim\n",
    "\n",
    "\n",
    "def get_rvs(params, inclination, times, integrator, time_base, auday_ms = AUDAY_MS):\n",
    "    \n",
    "    \"\"\"\n",
    "    Gets RVs from a Numpy array of planet params\n",
    "    \n",
    "    param params:     for i in range(0, num_planets):\n",
    "    \n",
    "    params[i + 0] is period\n",
    "    params[i + 1] is semiamp\n",
    "    params[i + 2] is tc (time of conjunction)\n",
    "    params[i + 3] is sqrt(e) * cos(omega)\n",
    "    params[i + 4] is sqrt(e) * sin(omega)\n",
    "    \n",
    "    params[5 * num_planets] is rv offset\n",
    "    \n",
    "    param inclination: inclination of system in the observation plane (pi/2 is in the plane of the sky, 0 is edge-on)\n",
    "    param times: array of times to integrate over\n",
    "    param integrator: integrator to use, one of 'whfast' or 'ias15'\n",
    "    \n",
    "    \"\"\"\n",
    "    \n",
    "    sim = get_sim_from_params(params, inclination, integrator, time_base = time_base)\n",
    "    \n",
    "    sim_backwards = sim.copy()\n",
    "    sim_backwards.dt *= -1  # set timestep to be negative if integrating backwards\n",
    "    \n",
    "    forward_times = np.array(list(filter(lambda x: x - time_base >= 0, times)))\n",
    "    backward_times = np.array(list(filter(lambda x: x - time_base < 0, times)))\n",
    "    \n",
    "    # initialize rvs\n",
    "    rv_forward = np.zeros(len(forward_times))\n",
    "    rv_backward = np.zeros(len(backward_times))\n",
    "    \n",
    "    num_planets = int((len(params) - 1) / 5)  # find number of planets in params passed\n",
    "    \n",
    "    # get the rvs (z velocity, assuming 90 deg inclination) from the rebound simulation to compare with the actual simulation\n",
    "    for i, t in enumerate(forward_times):\n",
    "        sim.integrate(t, exact_finish_time = 1)\n",
    "        # integrate to the specified time, exact_finish_time = 1 for ias15, \n",
    "        # sim.status()\n",
    "        star = sim.particles[0]\n",
    "        rv_forward[i] = (-star.vz * auday_ms) + params[5 * num_planets]  # use x-velocity of the star as the radial velocity, convert to m/s\n",
    "    \n",
    "    for i, t in enumerate(backward_times):\n",
    "        sim_backwards.integrate(t, exact_finish_time = 1)\n",
    "        star = sim_backwards.particles[0]\n",
    "        rv_backward[i] = (-star.vz * auday_ms) + params[5 * num_planets]\n",
    "    \n",
    "    return np.concatenate((rv_backward, rv_forward))"
   ]
  },
  {
   "cell_type": "markdown",
   "metadata": {},
   "source": [
    "Parameters ($K_1, \\frac{m_2}{m_1}, e_1, \\omega_1, \\dot\\omega, P_1, \\lambda_1$ or $M_1$):"
   ]
  },
  {
   "cell_type": "code",
   "execution_count": 7,
   "metadata": {},
   "outputs": [],
   "source": [
    "test_samp = flat_samples[2000]"
   ]
  },
  {
   "cell_type": "code",
   "execution_count": 8,
   "metadata": {},
   "outputs": [],
   "source": [
    "# test parameters\n",
    "time_base = np.median(hd_data.BJD)\n",
    "fit_sim = get_sim_from_params(fit_params, inclination = np.pi/2, integrator = 'ias15', time_base = time_base)\n",
    "# 7 parameters\n",
    "k1 = test_samp[1]# /AUDAY_MS  # k1\n",
    "e1 = test_samp[3] ** 2 + test_samp[4] ** 2  # e1\n",
    "p1 = test_samp[0]  # p1\n",
    "Tprecess = 50 * p1\n",
    "m2_m1 = fit_sim.particles[2].m/fit_sim.particles[1].m\n",
    "omega1 = np.arctan2(test_samp[3], test_samp[4])\n",
    "# use from the precessingrvsignal notebook\n",
    "omegadot = 2 * np.pi /Tprecess  # omegadot = omegadot1 = omegadot2\n",
    "tp1 = radvel.orbit.timetrans_to_timeperi(test_samp[2], per = p1, ecc = e1, omega = omega1)\n",
    "# and the constant c, using the median as the constant\n",
    "c = 1.07\n",
    "\n",
    "# compute tihngs needed\n",
    "\n",
    "# compute m1 from K1 and e1 using semiamp_to_mass\n",
    "m1 = semiamp_to_mass(semiamp = k1/AUDAY_MS, star_mass = STAR_MASS, period = p1, eccentricity = e1, inclination = np.pi/2)\n",
    "# compute m2 using m1 and m2/m1 as a parameter\n",
    "m2 = m2_m1 * m1\n",
    "# compute e2 using e1, m1, m2\n",
    "e2 = (e1 * m1)/(c * m2)\n",
    "# compute p2 usng omegadot, since thetadot1 = thetadot2 = 0\n",
    "p2 = (3 * np.pi * p1)/(2 * np.pi + p1 * omegadot)  # rearrange the equation\n",
    "# compute K2 using m2, e2, and p2\n",
    "k2 = mass_to_semiamp(planet_mass = m2, star_mass = STAR_MASS, period = p2, eccentricity = e2, inclination=np.pi/2) * AUDAY_MS\n",
    "# compute omega2 as omega1 + pi\n",
    "omega2 = omega1 + np.pi\n",
    "# compute mean anomalies M1, M2\n",
    "\n",
    "\n",
    "\n",
    "# TODO:\n",
    "# convert tp to lambda, and compute lambda1 and lambda2\n",
    "# also compute theta1 and 2 as well (note that theta1 = theta2 + (either 0 or pi))"
   ]
  },
  {
   "cell_type": "code",
   "execution_count": 9,
   "metadata": {},
   "outputs": [
    {
     "data": {
      "text/latex": [
       "$\\displaystyle \\left( 53827.0577426155, \\  54024.829734943\\right)$"
      ],
      "text/plain": [
       "(53827.057742615485, 54024.829734942985)"
      ]
     },
     "execution_count": 9,
     "metadata": {},
     "output_type": "execute_result"
    }
   ],
   "source": [
    "tp1, radvel.orbit.timetrans_to_timeperi(test_samp[7], per = p2, ecc = e2, omega = omega2)  # tp1 and tp2 values"
   ]
  },
  {
   "cell_type": "code",
   "execution_count": 10,
   "metadata": {},
   "outputs": [],
   "source": [
    "def get_mean_anomaly(t, period, tp):\n",
    "    \"\"\"\n",
    "    Gets mean anomaly at a specified time t, given the period P of the planet and the time of pericenter passage tp\n",
    "    \n",
    "    Mean anomaly is in radians\n",
    "    \"\"\"\n",
    "    return ((2 * np.pi)/period) * (t - tp)\n",
    "    "
   ]
  },
  {
   "cell_type": "markdown",
   "metadata": {},
   "source": [
    "Compare fit params and this:"
   ]
  },
  {
   "cell_type": "code",
   "execution_count": 11,
   "metadata": {},
   "outputs": [
    {
     "data": {
      "text/latex": [
       "$\\displaystyle \\left[ 228.513053, \\  7.27743508, \\  53937.189, \\  -0.178110513, \\  -0.0466450116, \\  343.378023, \\  17.8603199, \\  54018.675, \\  0.13216504, \\  0.0973129308, \\  -0.529039776\\right]$"
      ],
      "text/plain": [
       "[228.513053, 7.27743508, 53937.189, -0.178110513, -0.0466450116, 343.378023, 1\n",
       "7.8603199, 54018.675, 0.13216504, 0.0973129308, -0.529039776]"
      ]
     },
     "execution_count": 11,
     "metadata": {},
     "output_type": "execute_result"
    }
   ],
   "source": [
    "fit_params  # p1, k1, tc1, sqrt(e1) * cos(omega1), sqrt(e1) * sin(omega1) and same for 2, plus rv offset at the end"
   ]
  },
  {
   "cell_type": "code",
   "execution_count": 12,
   "metadata": {},
   "outputs": [
    {
     "data": {
      "text/latex": [
       "$\\displaystyle \\left( 228.570446529609, \\  7.30502671011322, \\  0.0239883168510479, \\  0.201526526564504, \\  336.133009602366, \\  18.0566440273268, \\  0.00797368773648097, \\  0.566616209695768\\right)$"
      ],
      "text/plain": [
       "(228.57044652960857, 7.305026710113224, 0.023988316851047867, 0.20152652656450\n",
       "432, 336.1330096023656, 18.056644027326843, 0.007973687736480968, 0.5666162096\n",
       "957676)"
      ]
     },
     "execution_count": 12,
     "metadata": {},
     "output_type": "execute_result"
    }
   ],
   "source": [
    "p1, k1, e1, m1, p2, k2, e2, m2"
   ]
  },
  {
   "cell_type": "code",
   "execution_count": 13,
   "metadata": {},
   "outputs": [],
   "source": [
    "# ?get_sim_from_params"
   ]
  },
  {
   "cell_type": "code",
   "execution_count": 14,
   "metadata": {},
   "outputs": [],
   "source": [
    "\n",
    "# radvel.kepler.rv_drive(p1, )"
   ]
  },
  {
   "cell_type": "code",
   "execution_count": 15,
   "metadata": {},
   "outputs": [],
   "source": [
    "import sympy as sp\n",
    "\n",
    "l1, l2, omegai = sp.symbols('lambda1, lambda2, omega_i')\n",
    "thetai = sp.symbols('theta_i')\n",
    "M1, M2, p1, p2, t, Tp1, Tp2 = sp.symbols('M1, M2, p1, p2, t, Tp1, Tp2')\n",
    "omega1, omega2 = sp.symbols('omega1, omega2')\n",
    "\n",
    "n = 0\n",
    "\n",
    "# resonant angle equation\n",
    "thetai = 3 * l2 - 2 * l1 - omegai\n",
    "# rearranging Mi = lambdai - omegai and substituting in\n",
    "thetai = thetai.subs([(l1, M1 + omega1), (l2, M2 + omega2 - n * (2/3 * np.pi))])\n",
    "# then substitute M = 2pi/P (t - Tp) for both\n",
    "thetai = thetai.subs([(M1, (2 * np.pi)/p1 * (time_base - Tp1)), (M2, (2 * np.pi)/p2 * (time_base - Tp2))])\n",
    "# substitute t = 0 since it doesn't matter, and then omegai = omega2 here, and omega1 = omega2 + pi) \n",
    "thetai = thetai.subs([(t, 0), (omegai, omega2), (omega1, omega2 + np.pi)])\n",
    "# finally solve for Tp2 in terms of Tp1, p1 and p2:\n",
    "tp2_expr = sp.solve(thetai, Tp2)[0]"
   ]
  },
  {
   "cell_type": "code",
   "execution_count": 16,
   "metadata": {},
   "outputs": [
    {
     "data": {
      "text/latex": [
       "$\\displaystyle \\left( \\frac{4.24413181578387 \\cdot 10^{-24} \\left(1.5707963267949 \\cdot 10^{23} Tp_{1} p_{2} + p_{1} \\left(1.2830127289518 \\cdot 10^{28} - 7.85398163397449 \\cdot 10^{22} p_{2}\\right) - 8.553418193012 \\cdot 10^{27} p_{2}\\right)}{p_{1}}, \\  53711.7920324578\\right)$"
      ],
      "text/plain": [
       "⎛4.24413181578387e-24⋅(1.5707963267949e+23⋅Tp₁⋅p₂ + p₁⋅(1.2830127289518e+28 - \n",
       "⎜─────────────────────────────────────────────────────────────────────────────\n",
       "⎝                                                              p₁             \n",
       "\n",
       "7.85398163397449e+22⋅p₂) - 8.553418193012e+27⋅p₂)                  ⎞\n",
       "─────────────────────────────────────────────────, 53711.7920324578⎟\n",
       "                                                                   ⎠"
      ]
     },
     "execution_count": 16,
     "metadata": {},
     "output_type": "execute_result"
    }
   ],
   "source": [
    "tp2_expr, tp2_expr.subs([(p1, test_samp[0]), (p2, test_samp[5]), (Tp1, 53827)])  # tp2 should be 54024"
   ]
  },
  {
   "cell_type": "code",
   "execution_count": 17,
   "metadata": {},
   "outputs": [
    {
     "data": {
      "text/latex": [
       "$\\displaystyle 53894.1163461999$"
      ],
      "text/plain": [
       "53894.11634619993"
      ]
     },
     "execution_count": 17,
     "metadata": {},
     "output_type": "execute_result"
    }
   ],
   "source": [
    "0 - (2 * test_samp[5])/(3 * test_samp[0]) * (0 - 53827)"
   ]
  },
  {
   "cell_type": "code",
   "execution_count": 18,
   "metadata": {},
   "outputs": [
    {
     "data": {
      "text/plain": [
       "array([ 2.28570447e+02,  7.30502671e+00,  5.39365326e+04, -1.53652046e-01,\n",
       "        1.94773112e-02,  3.43283173e+02,  1.78184523e+01,  5.40181909e+04,\n",
       "        1.43601538e-01,  1.11396398e-01, -6.68446640e-01])"
      ]
     },
     "execution_count": 18,
     "metadata": {},
     "output_type": "execute_result"
    }
   ],
   "source": [
    "test_samp"
   ]
  },
  {
   "cell_type": "markdown",
   "metadata": {},
   "source": [
    "Need $P_1, T_{p1}, e_1, \\omega_1, K_1$ explicitly, and implement $\\dot\\omega$ in the same way in the precessing rv signal notebook ($12$ parameters) to build the `radvel.kepler.rv_drive()` forward model"
   ]
  },
  {
   "cell_type": "markdown",
   "metadata": {},
   "source": [
    "Write a function that returns an RV signal for a given set of 7 parameters assuming equilibrium:"
   ]
  },
  {
   "cell_type": "code",
   "execution_count": 20,
   "metadata": {},
   "outputs": [],
   "source": [
    "# time_base = np.median(hd_data.BJD)\n",
    "# eq_model_params\n",
    "radvel.kepler.rv_drive()"
   ]
  },
  {
   "cell_type": "code",
   "execution_count": 416,
   "metadata": {},
   "outputs": [],
   "source": [
    "def get_rv_signal_equilibrium(times, params, c, time_base):\n",
    "    \"\"\"\n",
    "    Gets an RV signal under the equilibrium constraints using the radvel.kepler.rv_drive() function\n",
    "    for a set of 7 equilibrium parameters as well as the constant c in the equation e1/e2 = c * m2/m1,\n",
    "    and the base time time_base\n",
    "    \n",
    "    Params are in the order K1, m2/m1, e1, omega1, omegadot, P1, Tp1, rv_offset\n",
    "    \n",
    "    k1: semi-amplitude of the inner planet, in m/s\n",
    "    m2/m1: ratio of outer planet to inner planet's mass, dimensionless\n",
    "    e1: eccentricity of inner planet, dimensionless\n",
    "    omega1: argument of pericenter of inner planet, radians\n",
    "    omegadot: rate of precession (omegadot = omegadot_1 = omegadot_2), UNITS\n",
    "    p1: period of inner planet, days\n",
    "    tp1: time of pericenter passage of inner planet, days\n",
    "    rv_offset: rv offset of star, in m/s\n",
    "    \n",
    "    return tuple of keplerian and rebound rvs, both generated using the set of parameters passed, and the rebound params used\n",
    "    to generate the simulation\n",
    "    \n",
    "    kep_rvs: keplerian forward model (using radvel.kepler.rv_drive() function) rvs, m/s\n",
    "    rb_rvs: rebound rvs, m/s\n",
    "    rb_params: parameters used to generate the rebound simulation (for the rvs)\n",
    "    [p1, k1, tc1, secos1, sesin1, p2, k2, tc2, secos2, sesin2, rv_offset]\n",
    "    \"\"\"\n",
    "    k1, m2m1, e1, omega1, omegadot, p1, tp1, rv_offset = params  # params are in this order\n",
    "    # compute m1 from K1 and e1 using semiamp_to_mass\n",
    "    # divide the semi amplitude by auday_ms since it is given in m/s and semiamp_to_mass takes it in au/day\n",
    "    m1 = semiamp_to_mass(semiamp = k1/AUDAY_MS, star_mass = STAR_MASS, period = p1, eccentricity = e1, inclination = np.pi/2)\n",
    "    # compute m2 using m1 and m2/m1 as a parameter\n",
    "    m2 = m2m1 * m1\n",
    "    # compute e2 using e1, m1, m2 and the constant c\n",
    "    e2 = (e1 * m1)/(c * m2)\n",
    "    # compute p2 usng omegadot, since thetadot1 = thetadot2 = 0\n",
    "    p2 = (3 * np.pi * p1)/(2 * np.pi + p1 * omegadot)  # rearrange the equation\n",
    "    # compute K2 using m2, e2, and p2\n",
    "    # multiply the resulting semi amplitude by auday_ms to get into m/s since mass_to_semiamp returns it in au/day\n",
    "    k2 = mass_to_semiamp(planet_mass = m2, star_mass = STAR_MASS, period = p2, eccentricity = e2, inclination=np.pi/2) * AUDAY_MS\n",
    "    # compute omega2 as omega1 + pi\n",
    "    omega2 = omega1 + np.pi\n",
    "    # finally compute Tp2\n",
    "    M1 = (2 * np.pi)/p1 * (time_base - tp1)  # intermedaite step, compute M1\n",
    "    n = 1  # add some multiple of 2pi/3 to M2, determined empirically\n",
    "    theta1_eq = 0  # 0 instead of pi for M2 computation\n",
    "    M2 = (1/3) * (theta1_eq + 2 * M1 - 3 * np.pi) + (n * 2/3) * np.pi  # intermediate step, compute M2\n",
    "     \n",
    "    tp2 = time_base - (p2 * M2)/(2 * np.pi)  # then compute tp2 from M2 and p2\n",
    "    # tp2 = time_base - (2/3) * (p2/p1) * (time_base - tp1)\n",
    "    \n",
    "    # then put these into the radvel.kepler.rv_drive() function:\n",
    "    # p1, tp1, e1, omega1, k1, plus omegadot implemented using list comprehension and adding t * omegadot to omega1\n",
    "    inner_signal = np.array([radvel.kepler.rv_drive(np.array([t]), [p1, tp1, e1, omega1 + (t - time_base) * omegadot, k1]) for t in times]).reshape(-1)\n",
    "    # same for outer\n",
    "    outer_signal = np.array([radvel.kepler.rv_drive(np.array([t]), [p2, tp2, e2, omega2 + (t - time_base) * omegadot, k2]) for t in times]).reshape(-1)\n",
    "    # return the sum of the two signals (since it's keplerian), plus the constant rv offset\n",
    "    kep_rvs = inner_signal + outer_signal + rv_offset\n",
    "    # now generate rvs from rebound using these parameters and a couple others\n",
    "    # time of conjunction\n",
    "    tc1 = radvel.orbit.timeperi_to_timetrans(tp1, p1, e1, omega1)\n",
    "    tc2 = radvel.orbit.timeperi_to_timetrans(tp2, p2, e2, omega2)\n",
    "    # sesin and secos\n",
    "    secos1, sesin1 = np.sqrt(e1) * np.array([np.cos(omega1), np.sin(omega1)])\n",
    "    secos2, sesin2 = np.sqrt(e2) * np.array([np.cos(omega2), np.sin(omega2)])\n",
    "    # rebound parameters\n",
    "    rb_params = [p1, k1, tc1, secos1, sesin1, p2, k2, tc2, secos2, sesin2, rv_offset]\n",
    "    # get rvs using this\n",
    "    rb_rvs = get_rvs(rb_params, inclination = np.pi/2, times = times, integrator = 'whfast', time_base = time_base)\n",
    "    rb_sim = get_sim_from_params(rb_params, inclination = np.pi/2, integrator = 'whfast', time_base = time_base)\n",
    "    # return keplerian rvs, rebound rvs and the rebound parameters and simulation used to generate the rebound rvs as a 3-tuple\n",
    "    return kep_rvs, rb_rvs, rb_params, rb_sim\n",
    "    "
   ]
  },
  {
   "cell_type": "markdown",
   "metadata": {},
   "source": [
    "Use parameters from the best-fit value from the least-squares (or posterior):"
   ]
  },
  {
   "cell_type": "code",
   "execution_count": 417,
   "metadata": {},
   "outputs": [
    {
     "data": {
      "text/latex": [
       "$\\displaystyle \\left[ 228.513053, \\  7.27743508, \\  53937.189, \\  -0.178110513, \\  -0.0466450116, \\  343.378023, \\  17.8603199, \\  54018.675, \\  0.13216504, \\  0.0973129308, \\  -0.529039776\\right]$"
      ],
      "text/plain": [
       "[228.513053, 7.27743508, 53937.189, -0.178110513, -0.0466450116, 343.378023, 1\n",
       "7.8603199, 54018.675, 0.13216504, 0.0973129308, -0.529039776]"
      ]
     },
     "execution_count": 417,
     "metadata": {},
     "output_type": "execute_result"
    }
   ],
   "source": [
    "fit_params"
   ]
  },
  {
   "cell_type": "markdown",
   "metadata": {},
   "source": [
    "Also use these params to find the resonant libration angles:"
   ]
  },
  {
   "cell_type": "code",
   "execution_count": 418,
   "metadata": {},
   "outputs": [
    {
     "data": {
      "text/latex": [
       "$\\displaystyle \\left( \\left[ 7.27743508, \\  2.81162097791829, \\  0.0338991119482872, \\  3.39772837942248, \\  0, \\  228.513053, \\  72.151819793705, \\  -0.529039776\\right], \\  1.07\\right)$"
      ],
      "text/plain": [
       "([7.277435079999999, 2.811620977918289, 0.03389911194828719, 3.397728379422484\n",
       "4, 0, 228.51305300000024, 72.15181979370496, -0.529039776], 1.07)"
      ]
     },
     "execution_count": 418,
     "metadata": {},
     "output_type": "execute_result"
    }
   ],
   "source": [
    "sim = get_sim_from_params(fit_params, inclination = np.pi/2, integrator = 'ias15', time_base = time_base)\n",
    "# inner, outer planets\n",
    "sim_inner = sim.particles[1]\n",
    "sim_outer = sim.particles[2]\n",
    "# generate tiem array\n",
    "# times = np.linspace(time_base, time_base + sim_inner.P * 50, int(1e4))  # 50 orbital periods\n",
    "# use c from earlier, use time_base time_base, and use the parameters determined from sim:\n",
    "k1 = mass_to_semiamp(sim_inner.m, star_mass=STAR_MASS, period=sim_inner.P, eccentricity=sim_inner.e, inclination=np.pi/2) * AUDAY_MS  # semiamplitude for first\n",
    "m2m1 = sim_outer.m/sim_inner.m  # ratio of m2 to m1\n",
    "e1 = sim_inner.e  # eccentricity\n",
    "omega1 = sim_inner.omega  # omega\n",
    "omegadot = 0  # 2 * np.pi/(50 * sim_inner.P)  # just use 0 at first and then change this slowly i guess, should be very small\n",
    "p1 = sim_inner.P   # period\n",
    "tp1 = sim_inner.T  # time of pericenter passage\n",
    "rv_offset = fit_params[-1]\n",
    "\n",
    "# all seven parameters together:\n",
    "eq_model_params = [k1, m2m1, e1, omega1, omegadot, p1, tp1, rv_offset]\n",
    "eq_model_params, c"
   ]
  },
  {
   "cell_type": "markdown",
   "metadata": {},
   "source": [
    "Generate RV signal from equilibrium forward model, compare to a `REBOUND`-generated one:"
   ]
  },
  {
   "cell_type": "code",
   "execution_count": 419,
   "metadata": {},
   "outputs": [
    {
     "data": {
      "text/plain": [
       "(array([-8.46512384, -8.44598093, -8.42674751, ..., -7.75526965,\n",
       "        -7.86309316, -7.97083254]),\n",
       " array([-8.45995867, -8.44082708, -8.42160503, ..., -7.96115766,\n",
       "        -8.07454198, -8.18783921]))"
      ]
     },
     "execution_count": 419,
     "metadata": {},
     "output_type": "execute_result"
    }
   ],
   "source": [
    "times = np.linspace(time_base, time_base + fit_params[0] * 10, int(1e4))  # 10 times the inner planet's orbital period\n",
    "# equilibrum forward model and rebound rv model using c and time_base\n",
    "eq_rv_signal, rb_rv_signal, rb_params, rb_sim = get_rv_signal_equilibrium(times, eq_model_params, c, time_base)\n",
    "# rb_rv_signal = get_rvs(fit_params, np.pi/2, times, integrator='ias15', time_base = time_base)\n",
    "\n",
    "eq_rv_signal, rb_rv_signal"
   ]
  },
  {
   "cell_type": "markdown",
   "metadata": {},
   "source": [
    "Plot resonant angles using `rb_params`:"
   ]
  },
  {
   "cell_type": "code",
   "execution_count": 420,
   "metadata": {},
   "outputs": [
    {
     "data": {
      "text/latex": [
       "$\\displaystyle \\left[ 228.513053, \\  7.27743508, \\  8.10849199998943, \\  -0.178110513, \\  -0.0466450115999981, \\  342.7695795, \\  17.8655307567572, \\  199.812638170482, \\  0.102687901345361, \\  0.0268927323197021, \\  -0.529039776\\right]$"
      ],
      "text/plain": [
       "[228.51305300000024, 7.277435079999999, 8.108491999989425, -0.1781105130000001\n",
       "4, -0.04664501159999814, 342.76957950000036, 17.865530756757177, 199.812638170\n",
       "4824, 0.10268790134536115, 0.026892732319702146, -0.529039776]"
      ]
     },
     "execution_count": 420,
     "metadata": {},
     "output_type": "execute_result"
    }
   ],
   "source": [
    "rb_params"
   ]
  },
  {
   "cell_type": "code",
   "execution_count": 421,
   "metadata": {},
   "outputs": [],
   "source": [
    "times = np.linspace(time_base, time_base + fit_params[0] * 100, int(1e4))\n",
    "\n",
    "theta1, theta2 = np.zeros(len(times)), np.zeros(len(times))\n",
    "sim = get_sim_from_params(rb_params, np.pi/2, 'ias15', time_base)\n",
    "inner = sim.particles[1]\n",
    "outer = sim.particles[2]\n",
    "# get the resonant angles \n",
    "for i, t in enumerate(times):\n",
    "     # integrate\n",
    "    sim.integrate(t)\n",
    "    # resonant angle\n",
    "    resonant_angle = 3 * outer.l - 2 * inner.l\n",
    "    # theta1 and 2 since theta1 and 2 are both 3lambda_2 - 2lambda_1 - pomega_1/2\n",
    "    theta1[i] = np.mod(resonant_angle - inner.pomega, 2 * np.pi)\n",
    "    theta2[i] = np.mod(resonant_angle - outer.pomega, 2 * np.pi)"
   ]
  },
  {
   "cell_type": "markdown",
   "metadata": {},
   "source": [
    "Plto:"
   ]
  },
  {
   "cell_type": "code",
   "execution_count": 422,
   "metadata": {},
   "outputs": [
    {
     "data": {
      "text/plain": [
       "<matplotlib.legend.Legend at 0x7fd763915df0>"
      ]
     },
     "execution_count": 422,
     "metadata": {},
     "output_type": "execute_result"
    },
    {
     "data": {
      "image/png": "[encoded data removed]",
      "text/plain": [
       "<Figure size 864x576 with 1 Axes>"
      ]
     },
     "metadata": {
      "needs_background": "light"
     },
     "output_type": "display_data"
    }
   ],
   "source": [
    "plt.figure(figsize = (12, 8))\n",
    "plt.rc('font', size = 16)\n",
    "plt.scatter(times, theta1, label = r'$\\theta_1$')\n",
    "plt.scatter(times, theta2, label = r'$\\theta_2$')\n",
    "plt.axhline(y=2*np.pi, color='k')\n",
    "plt.axhline(y=np.pi, color='k')\n",
    "plt.xlabel('JD'), plt.ylabel(r'$\\theta$')\n",
    "plt.legend()"
   ]
  },
  {
   "cell_type": "markdown",
   "metadata": {},
   "source": [
    "Also plot RV signals to compare:"
   ]
  },
  {
   "cell_type": "code",
   "execution_count": 423,
   "metadata": {},
   "outputs": [
    {
     "data": {
      "image/png": "[encoded data removed]",
      "text/plain": [
       "<Figure size 1008x576 with 1 Axes>"
      ]
     },
     "metadata": {
      "needs_background": "light"
     },
     "output_type": "display_data"
    }
   ],
   "source": [
    "plt.figure(figsize = (14, 8))\n",
    "plt.rc('font', size = 16)\n",
    "# Keplerian RV signal generated by the equilibrium forward model\n",
    "plt.plot(times, eq_rv_signal, label = 'equilibrium')\n",
    "# n-body RV signal generated by REBOUND\n",
    "plt.plot(times, rb_rv_signal, label = 'REBOUND')\n",
    "# label\n",
    "plt.xlabel('BJD'), plt.ylabel('Radial velocity (m/s)')\n",
    "plt.legend()\n",
    "plt.show()"
   ]
  },
  {
   "cell_type": "code",
   "execution_count": 424,
   "metadata": {},
   "outputs": [
    {
     "data": {
      "text/plain": [
       "[<matplotlib.lines.Line2D at 0x7fd763871940>]"
      ]
     },
     "execution_count": 424,
     "metadata": {},
     "output_type": "execute_result"
    },
    {
     "data": {
      "image/png": "[encoded data removed]",
      "text/plain": [
       "<Figure size 432x288 with 1 Axes>"
      ]
     },
     "metadata": {
      "needs_background": "light"
     },
     "output_type": "display_data"
    }
   ],
   "source": [
    "period = 10\n",
    "tp =1\n",
    "e = 0.5\n",
    "om = 2\n",
    "K = 10\n",
    "times = np.linspace(0,40,200)\n",
    "Tprecess = 50 * period\n",
    "# omegadot = 2 * np.pi /Tprecess\n",
    "\n",
    "rv_signal = radvel.kepler.rv_drive(times,[period,tp,e,om,K])\n",
    "\n",
    "secos, sesin = np.sqrt(e) * np.cos(om), np.sqrt(e) * np.sin(om)\n",
    "test_pars = [period, K, radvel.orbit.timeperi_to_timetrans(tp, period, e, om), secos, sesin, 0]\n",
    "\n",
    "plt.plot(times,rv_signal)\n",
    "plt.plot(times, get_rvs(test_pars, inclination=np.pi/2, times=times, integrator='ias15', time_base=0))"
   ]
  },
  {
   "cell_type": "code",
   "execution_count": 425,
   "metadata": {},
   "outputs": [
    {
     "data": {
      "text/latex": [
       "$\\displaystyle \\left( 1, \\  1.0\\right)$"
      ],
      "text/plain": [
       "(1, 1.0)"
      ]
     },
     "execution_count": 425,
     "metadata": {},
     "output_type": "execute_result"
    }
   ],
   "source": [
    "tp, radvel.orbit.timetrans_to_timeperi(radvel.orbit.timeperi_to_timetrans(tp, period, e, om), period, e, om)"
   ]
  },
  {
   "cell_type": "markdown",
   "metadata": {},
   "source": [
    "Grab equilibrium track simualations. Then make an RV signal using REBOUND, and fit the RV signal with the analytic model using `scipy.optimize.least_squares()` etc."
   ]
  },
  {
   "cell_type": "code",
   "execution_count": 426,
   "metadata": {},
   "outputs": [],
   "source": [
    "time_base = 0"
   ]
  },
  {
   "cell_type": "markdown",
   "metadata": {},
   "source": [
    "Take the simulation corresponding to $K \\approx 90$, since the posterior distribution before shows it's about that value:"
   ]
  },
  {
   "cell_type": "code",
   "execution_count": 427,
   "metadata": {},
   "outputs": [
    {
     "data": {
      "text/latex": [
       "$\\displaystyle 93.260334688322$"
      ],
      "text/plain": [
       "93.26033468832199"
      ]
     },
     "execution_count": 427,
     "metadata": {},
     "output_type": "execute_result"
    }
   ],
   "source": [
    "index = np.abs(Ks_orig - 90).argmin()  # index of the Ks_original closest to K = 90\n",
    "Ks_orig[index]"
   ]
  },
  {
   "cell_type": "markdown",
   "metadata": {},
   "source": [
    "Units of simulation are distance  mass `Mstar`, time `inner.P`"
   ]
  },
  {
   "cell_type": "code",
   "execution_count": 428,
   "metadata": {},
   "outputs": [],
   "source": [
    "ecc_sims_location = 'hd_max_mass'  # location of simulations\n",
    "# get the simulation\n",
    "Ks_sim = rb.Simulation(f'{ecc_sims_location}/ecc_track_archive_cluster_{index}.bin')  # get the corresponding eccentricity simulation\n",
    "Ks_sim.t = 0\n",
    "# define star, inner, outer planets\n",
    "star = Ks_sim.particles[0]\n",
    "inner = Ks_sim.particles[1]\n",
    "outer = Ks_sim.particles[2]\n",
    "# since it's already at equilibrium, then make an RV signal with REBOUND over a few orbital periods\n",
    "# Ks_sim.t = time_base\n",
    "Ks_sim_time_base = Ks_sim.t\n",
    "# 10 times the orbital period of the inner planet\n",
    "# move to center of mass and then align it so z-axis is movement"
   ]
  },
  {
   "cell_type": "markdown",
   "metadata": {},
   "source": [
    "Currently have $v = \\left(\\frac{P_1^2\\,G\\,M}{4\\pi^2}\\right)^{1/3}\\,\\frac{1}{P_1} = \\left(\\frac{G\\,M}{4\\pi^2 P}\\right)^{1/3}$, and $v = \\frac{1}{\\left(2\\pi\\right)^{2/3}} \\approx 0.293$ when using units of $G = 1$, $M_\\star = 1$, $P_1 = 1$. Converting to units of $G$ in $AU^3\\,M_{jup}^{-1}\\,days^{-2}$, $M_\\star$ in $M_{jup}$, and $P$ in $days$ we have a conversion factor of:"
   ]
  },
  {
   "cell_type": "code",
   "execution_count": 429,
   "metadata": {},
   "outputs": [
    {
     "data": {
      "text/latex": [
       "$\\displaystyle \\left( 0.292048853483546, \\  0.293683865496614\\right)$"
      ],
      "text/plain": [
       "(0.2920488534835459, 0.2936838654966136)"
      ]
     },
     "execution_count": 429,
     "metadata": {},
     "output_type": "execute_result"
    }
   ],
   "source": [
    "inner.a, 1/(4 * np.pi ** 2) ** (1/3)"
   ]
  },
  {
   "cell_type": "code",
   "execution_count": 430,
   "metadata": {},
   "outputs": [],
   "source": [
    "G = 2.825e-7  # conversion factor for G in terms of au^3/(jupiter masses * days^2)\n",
    "STAR_MASS = 920  # conversion factor for M from M* to Mjup\n",
    "P1 = fit_params[0]  # conversion factor for M from inner planet periods to days"
   ]
  },
  {
   "cell_type": "code",
   "execution_count": 431,
   "metadata": {},
   "outputs": [
    {
     "data": {
      "text/latex": [
       "$\\displaystyle 0.0104967858668596$"
      ],
      "text/plain": [
       "0.010496785866859634"
      ]
     },
     "execution_count": 431,
     "metadata": {},
     "output_type": "execute_result"
    }
   ],
   "source": [
    "v_natural = ((G * STAR_MASS)/(4 * np.pi ** 2 * P1)) ** (1/3)/inner.a  # then divide by inner.a to normalize\n",
    "v_natural  # now v in terms of AU/day"
   ]
  },
  {
   "cell_type": "markdown",
   "metadata": {},
   "source": [
    "Now convert $v$ from au/day to m/s:"
   ]
  },
  {
   "cell_type": "code",
   "execution_count": 432,
   "metadata": {},
   "outputs": [
    {
     "data": {
      "text/latex": [
       "$\\displaystyle \\left( 18169.936335534, \\  1731000.0\\right)$"
      ],
      "text/plain": [
       "(18169.93633553403, 1731000.0)"
      ]
     },
     "execution_count": 432,
     "metadata": {},
     "output_type": "execute_result"
    }
   ],
   "source": [
    "v_conv = v_natural * AUDAY_MS\n",
    "v_conv, AUDAY_MS"
   ]
  },
  {
   "cell_type": "markdown",
   "metadata": {},
   "source": [
    "Integrate after first rotating the system so that the star's radial velocity is aligned along the $z$-axis:"
   ]
  },
  {
   "cell_type": "code",
   "execution_count": 433,
   "metadata": {},
   "outputs": [],
   "source": [
    "r = np.matrix([[1, 0, 0],\n",
    "              [0, 0, 1],\n",
    "              [0, 1, 0]])  # np.pi/2 rotation matrix so everything is aligned along z\n",
    "\n",
    "# implement rotation for particles 0, 1, and 2 in the simulation\n",
    "\n",
    "def rotate_sim(sim, rot_matrix):\n",
    "    \"\"\"\n",
    "    Rotates all the particles in a REBOUND simulation by the rotation matrix rot_matrix (used to align simulations alons the z axis)\n",
    "    \n",
    "    param sim: simulation for which to rotate particles\n",
    "    param rot_matrix: rotation matrix describing the rotation to perform on the simulation\n",
    "    \n",
    "    returns: None (inplace modification of the simulation)\n",
    "    \"\"\"\n",
    "    # rotate all the particles by the rotation matrix\n",
    "    for p in sim.particles:\n",
    "        p.x, p.y, p.z = tuple(np.ndarray.flatten(np.array(rot_matrix @ p.xyz)))  # rotate positions\n",
    "        p.vx, p.vy, p.vz = tuple(np.ndarray.flatten(np.array(rot_matrix @ p.vxyz)))  # rotate velocities"
   ]
  },
  {
   "cell_type": "markdown",
   "metadata": {},
   "source": [
    "Now rotate the simulation:"
   ]
  },
  {
   "cell_type": "code",
   "execution_count": 434,
   "metadata": {},
   "outputs": [],
   "source": [
    "# now rotate sim and move it back to the center of mass\n",
    "rotate_sim(Ks_sim, r)\n",
    "Ks_sim.move_to_com()  # move to com"
   ]
  },
  {
   "cell_type": "code",
   "execution_count": 435,
   "metadata": {},
   "outputs": [
    {
     "data": {
      "text/latex": [
       "$\\displaystyle 0.991552611267723$"
      ],
      "text/plain": [
       "0.9915526112677232"
      ]
     },
     "execution_count": 435,
     "metadata": {},
     "output_type": "execute_result"
    }
   ],
   "source": [
    "inner.P"
   ]
  },
  {
   "cell_type": "code",
   "execution_count": 436,
   "metadata": {},
   "outputs": [
    {
     "data": {
      "text/latex": [
       "$\\displaystyle \\left( \\left[ 7.3026106208259, \\  2.81160544810017, \\  0.048803346188407, \\  1.74389886971651, \\  0, \\  226.58271441091, \\  -70.986827613326, \\  0\\right], \\  1.07\\right)$"
      ],
      "text/plain": [
       "([7.302610620825898, 2.8116054481001687, 0.048803346188407044, 1.7438988697165\n",
       "136, 0, 226.58271441090963, -70.98682761332596, 0], 1.07)"
      ]
     },
     "execution_count": 436,
     "metadata": {},
     "output_type": "execute_result"
    }
   ],
   "source": [
    "# inner, outer planets\n",
    "inner = Ks_sim.particles[1]\n",
    "outer = Ks_sim.particles[2]\n",
    "# use c from earlier, use time_base time_base, and use the parameters determined from sim:\n",
    "k1 = mass_to_semiamp(inner.m * STAR_MASS, star_mass=STAR_MASS, period=inner.P * P1, eccentricity=inner.e, inclination=np.pi/2) * AUDAY_MS  # semiamplitude for first\n",
    "m2m1 = outer.m/inner.m  # ratio of m2 to m1\n",
    "e1 = inner.e  # eccentricity\n",
    "omega1 = inner.omega  # omega\n",
    "omegadot = 0  # 2 * np.pi/(50 * sim_inner.P)  # just use 0 at first and then change this slowly i guess, should be very small\n",
    "p1 = inner.P   # period\n",
    "tp1 = inner.T  # time of pericenter passage\n",
    "rv_offset = 0#fit_params[-1]\n",
    "\n",
    "# eq_model_params together:\n",
    "eq_model_params = [k1, m2m1, e1, omega1, omegadot, p1 * P1, tp1 * P1, rv_offset]  # convert p1 and tp1 to days\n",
    "eq_model_params, c"
   ]
  },
  {
   "cell_type": "markdown",
   "metadata": {},
   "source": [
    "Compute the \"observed\" RVs"
   ]
  },
  {
   "cell_type": "code",
   "execution_count": 449,
   "metadata": {},
   "outputs": [],
   "source": [
    "nperiods = 20  # number of inner planet periods for the integration times of both the \"observed\" rebound data and the other 2\n",
    "\n",
    "# now get rvs using rebound\n",
    "# times\n",
    "times = np.linspace(time_base, time_base + inner.P * P1 * nperiods, int(1e4))  # 10 periods, making sure to scale by P1\n",
    "Ks_sim_rvs = np.zeros(len(times))\n",
    "\n",
    "# define arrays\n",
    "e1s = np.zeros(len(times))\n",
    "e2s = np.zeros(len(times))\n",
    "omega1s = np.zeros(len(times))\n",
    "omega2s = np.zeros(len(times))\n",
    "\n",
    "inner = Ks_sim.particles[1]\n",
    "outer = Ks_sim.particles[2]\n",
    "\n",
    "# loop\n",
    "for i, t in (enumerate(times)):\n",
    "    # integrate the simple sim\n",
    "    Ks_sim.integrate(time_base + (t - time_base)/P1, exact_finish_time = 1)\n",
    "    # compute the rvs, making sure to convert from au/day to m/s again\n",
    "    # multiply by conversion\n",
    "    Ks_sim_rvs[i] = (-star.vz * v_conv)# no rv offset for these simple sims\n",
    "    e1s[i] = inner.e\n",
    "    e2s[i] = outer.e\n",
    "    omega1s[i] = inner.omega\n",
    "    omega2s[i] = outer.omega"
   ]
  },
  {
   "cell_type": "code",
   "execution_count": 450,
   "metadata": {},
   "outputs": [
    {
     "data": {
      "text/plain": [
       "(Text(0.5, 0, 'days'), Text(0, 0.5, 'velocity (m/s)'))"
      ]
     },
     "execution_count": 450,
     "metadata": {},
     "output_type": "execute_result"
    },
    {
     "data": {
      "image/png": "[encoded data removed]",
      "text/plain": [
       "<Figure size 864x576 with 1 Axes>"
      ]
     },
     "metadata": {
      "needs_background": "light"
     },
     "output_type": "display_data"
    }
   ],
   "source": [
    "plt.figure(figsize = (12, 8))\n",
    "plt.plot(times, Ks_sim_rvs)\n",
    "plt.xlabel('days'), plt.ylabel('velocity (m/s)')\n",
    "# plt.plot(Ks_sim_times, rb_rv_signal)"
   ]
  },
  {
   "cell_type": "code",
   "execution_count": 451,
   "metadata": {},
   "outputs": [
    {
     "data": {
      "text/plain": [
       "<matplotlib.legend.Legend at 0x7fd76378f460>"
      ]
     },
     "execution_count": 451,
     "metadata": {},
     "output_type": "execute_result"
    },
    {
     "data": {
      "image/png": "[encoded data removed]",
      "text/plain": [
       "<Figure size 432x288 with 1 Axes>"
      ]
     },
     "metadata": {
      "needs_background": "light"
     },
     "output_type": "display_data"
    }
   ],
   "source": [
    "plt.plot(times, e1s, label = 'inner')\n",
    "plt.plot(times, e2s, label = 'outer')\n",
    "plt.legend()"
   ]
  },
  {
   "cell_type": "markdown",
   "metadata": {},
   "source": [
    "Now fitting the `Ks_sim_rvs` signal with the forward model:"
   ]
  },
  {
   "cell_type": "code",
   "execution_count": 409,
   "metadata": {},
   "outputs": [],
   "source": [
    "def get_forward_model_resids(times, params, obs_data, time_base, yerr=1, c=c):\n",
    "    \"\"\"\n",
    "    Gets the normalized residuals for the forward model fit with the radvel function rather than rebound\n",
    "    \n",
    "    array: times: times corresponding to the observed RV data (should be the same length as obs_data)\n",
    "    list or array: params: parameters for the forward model, in the order: \n",
    "        [K1, m2/m1, e1, omega1, omegadot, P1, Tp1, rv_offset] as in the get_rv_equilibrium() function\n",
    "        k1: semi-amplitude of the inner planet, in m/s\n",
    "        m2/m1: ratio of outer planet to inner planet's mass, dimensionless\n",
    "        e1: eccentricity of inner planet, dimensionless\n",
    "        omega1: argument of pericenter of inner planet, radians\n",
    "        omegadot: rate of precession (omegadot = omegadot_1 = omegadot_2), UNITS\n",
    "        p1: period of inner planet, days\n",
    "        tp1: time of pericenter passage of inner planet\n",
    "        rv_offset: rv offset of star, in m/s\n",
    "    array: obs_data: observed rv data to fit the forward model rv signal to\n",
    "    float: time_base: time base for the simulation to start at\n",
    "    default array: yerr: array of errors in the observed data (by default 1) for normalization, should be same length as obs_data as well\n",
    "    default float: c: constant c for the conversion from e1/e2 to m2/m1\n",
    "    \"\"\"\n",
    "    obs_y = obs_data\n",
    "    synth_y, _, _, _ = get_rv_signal_equilibrium(times, params, c, time_base = time_base)  # equilibrium keplerian model rvs are synthetic y\n",
    "    obs_yerr = 1  # normalized to 1, since there is no error bars on our rv signal\n",
    "    # return normalized residuals\n",
    "    # print(obs_y, synth_y)\n",
    "    return (obs_y - synth_y) / obs_yerr"
   ]
  },
  {
   "cell_type": "markdown",
   "metadata": {},
   "source": [
    "Test computing the residuals, making sure to scale the times by the period in days"
   ]
  },
  {
   "cell_type": "code",
   "execution_count": 437,
   "metadata": {},
   "outputs": [],
   "source": [
    "eq_model_rvs, rebound_rvs, rebound_params, rebound_sim = get_rv_signal_equilibrium(times, eq_model_params, c, time_base)\n"
   ]
  },
  {
   "cell_type": "markdown",
   "metadata": {},
   "source": [
    "Compare the $k_1, \\frac{m_2}{m_1}, e_1, \\omega_1, \\dot\\omega, P_1, T_{p1}, \\gamma$ first:"
   ]
  },
  {
   "cell_type": "code",
   "execution_count": 438,
   "metadata": {},
   "outputs": [],
   "source": [
    "Ks_inner, Ks_outer = Ks_sim.particles[1], Ks_sim.particles[2]\n",
    "rb_inner, rb_outer = rebound_sim.particles[1], rebound_sim.particles[2]\n",
    "# define star\n",
    "Ks_star = Ks_sim.particles[0]\n",
    "rb_star = rebound_sim.particles[0]"
   ]
  },
  {
   "cell_type": "code",
   "execution_count": 439,
   "metadata": {},
   "outputs": [
    {
     "data": {
      "text/latex": [
       "$\\displaystyle \\left( 7.3026106208259, \\  2.81160544810017, \\  0.048803346188407, \\  1.74389886971651, \\  226.58271441091, \\  -70.986827613326\\right)$"
      ],
      "text/plain": [
       "(7.302610620825897, 2.811605448100169, 0.04880334618840701, 1.7438988697165136\n",
       ", 226.5827144109097, -70.98682761332599)"
      ]
     },
     "execution_count": 439,
     "metadata": {},
     "output_type": "execute_result"
    }
   ],
   "source": [
    "# rebound sim params for inner planet\n",
    "mass_to_semiamp(rb_inner.m, rb_star.m, rb_inner.P, rb_inner.e, np.pi/2) * AUDAY_MS, rb_outer.m/rb_inner.m, rb_inner.e, rb_inner.omega, rb_inner.P, rb_inner.T"
   ]
  },
  {
   "cell_type": "code",
   "execution_count": 440,
   "metadata": {},
   "outputs": [
    {
     "data": {
      "text/latex": [
       "$\\displaystyle \\left( 7.3026106208259, \\  2.81160544810017, \\  0.048803346188407, \\  1.74389886971651, \\  226.58271441091, \\  -70.986827613326\\right)$"
      ],
      "text/plain": [
       "(7.302610620825898, 2.8116054481001687, 0.048803346188407044, 1.74389886971651\n",
       "36, 226.58271441090963, -70.98682761332596)"
      ]
     },
     "execution_count": 440,
     "metadata": {},
     "output_type": "execute_result"
    }
   ],
   "source": [
    "# Ks_sim params for inner planet (masses scaled by star mass and times scaled by P1)\n",
    "mass_to_semiamp(Ks_inner.m * STAR_MASS, Ks_star.m * STAR_MASS, Ks_inner.P * P1, Ks_inner.e, np.pi/2) * AUDAY_MS, Ks_outer.m/Ks_inner.m, Ks_inner.e, Ks_inner.omega, Ks_inner.P * P1, Ks_inner.T * P1"
   ]
  },
  {
   "cell_type": "code",
   "execution_count": 441,
   "metadata": {},
   "outputs": [
    {
     "data": {
      "text/latex": [
       "$\\displaystyle \\left( 17.9173911892284, \\  0.0162222633140858, \\  4.8854915233063, \\  339.874071616364, \\  -14.3411490106008\\right)$"
      ],
      "text/plain": [
       "(17.917391189228375, 0.016222263314085827, 4.8854915233063, 339.8740716163644,\n",
       " -14.34114901060082)"
      ]
     },
     "execution_count": 441,
     "metadata": {},
     "output_type": "execute_result"
    }
   ],
   "source": [
    "# rebound sim params for outer planet\n",
    "mass_to_semiamp(rb_outer.m, rb_star.m, rb_outer.P, rb_outer.e, np.pi/2) * AUDAY_MS, rb_outer.e, rb_outer.omega, rb_outer.P, rb_outer.T"
   ]
  },
  {
   "cell_type": "code",
   "execution_count": 442,
   "metadata": {},
   "outputs": [
    {
     "data": {
      "text/latex": [
       "$\\displaystyle \\left( 17.8578024048932, \\  0.0190494586931743, \\  4.85066646110393, \\  343.339131257374, \\  -12.9369499392993\\right)$"
      ],
      "text/plain": [
       "(17.857802404893246, 0.019049458693174325, 4.850666461103927, 343.339131257373\n",
       "7, -12.93694993929932)"
      ]
     },
     "execution_count": 442,
     "metadata": {},
     "output_type": "execute_result"
    }
   ],
   "source": [
    "# Ks_sim params for outer planet (masses scaled by star mass and times scaled by P1)\n",
    "mass_to_semiamp(Ks_outer.m * STAR_MASS, Ks_star.m * STAR_MASS, Ks_outer.P * P1, Ks_outer.e, np.pi/2) * AUDAY_MS, Ks_outer.e, Ks_outer.omega, Ks_outer.P * P1, Ks_outer.T * P1"
   ]
  },
  {
   "cell_type": "markdown",
   "metadata": {},
   "source": [
    "Tp2s don't agree, but everything else does..."
   ]
  },
  {
   "cell_type": "code",
   "execution_count": 443,
   "metadata": {},
   "outputs": [
    {
     "data": {
      "text/latex": [
       "$\\displaystyle \\left[ 7.3026106208259, \\  2.81160544810017, \\  0.048803346188407, \\  1.74389886971651, \\  0, \\  226.58271441091, \\  -70.986827613326, \\  0\\right]$"
      ],
      "text/plain": [
       "[7.302610620825898, 2.8116054481001687, 0.048803346188407044, 1.74389886971651\n",
       "36, 0, 226.58271441090963, -70.98682761332596, 0]"
      ]
     },
     "execution_count": 443,
     "metadata": {},
     "output_type": "execute_result"
    }
   ],
   "source": [
    "eq_model_params"
   ]
  },
  {
   "cell_type": "code",
   "execution_count": 444,
   "metadata": {},
   "outputs": [
    {
     "data": {
      "text/latex": [
       "$\\displaystyle \\left( 7.3026106208259, \\  2.81160544810017, \\  0.048803346188407, \\  1.74389886971651, \\  226.58271441091, \\  -70.986827613326\\right)$"
      ],
      "text/plain": [
       "(7.302610620825897, 2.811605448100169, 0.04880334618840701, 1.7438988697165136\n",
       ", 226.5827144109097, -70.98682761332599)"
      ]
     },
     "execution_count": 444,
     "metadata": {},
     "output_type": "execute_result"
    }
   ],
   "source": [
    "mass_to_semiamp(rb_inner.m, rb_star.m, rb_inner.P, rb_inner.e, np.pi/2) * AUDAY_MS, rb_outer.m/rb_inner.m, rb_inner.e, rb_inner.omega, rb_inner.P, rb_inner.T"
   ]
  },
  {
   "cell_type": "markdown",
   "metadata": {},
   "source": [
    "Compare $k_1, e_1, \\omega_1, P_1, T_{p1}$ ($e, \\omega$ parameterized as secos, sesin)"
   ]
  },
  {
   "cell_type": "code",
   "execution_count": 445,
   "metadata": {},
   "outputs": [
    {
     "data": {
      "text/latex": [
       "$\\displaystyle \\left[ 226.58271441091, \\  7.3026106208259, \\  -76.6441433696661, \\  -0.0380502202840619, \\  0.217613250802292\\right]$"
      ],
      "text/plain": [
       "[226.58271441090963, 7.302610620825898, -76.64414336966614, -0.038050220284061\n",
       "9, 0.2176132508022924]"
      ]
     },
     "execution_count": 445,
     "metadata": {},
     "output_type": "execute_result"
    }
   ],
   "source": [
    "rebound_params[:5]  # params from k1 to sesin1"
   ]
  },
  {
   "cell_type": "code",
   "execution_count": 446,
   "metadata": {},
   "outputs": [
    {
     "data": {
      "text/latex": [
       "$\\displaystyle \\left( 226.58271441091, \\  7.3026106208259, \\  -76.6441433696662, \\  -0.0380502202840619, \\  0.217613250802292\\right)$"
      ],
      "text/plain": [
       "(226.5827144109097, 7.302610620825897, -76.64414336966618, -0.0380502202840618\n",
       "9, 0.21761325080229232)"
      ]
     },
     "execution_count": 446,
     "metadata": {},
     "output_type": "execute_result"
    }
   ],
   "source": [
    "rb_inner.P, mass_to_semiamp(rb_inner.m, rb_star.m, rb_inner.P, rb_inner.e, np.pi/2) * AUDAY_MS, radvel.orbit.timeperi_to_timetrans(rb_inner.T, rb_inner.P, rb_inner.e, rb_inner.omega), np.sqrt(rb_inner.e) * np.cos(rb_inner.omega), np.sqrt(rb_inner.e) * np.sin(rb_inner.omega)"
   ]
  },
  {
   "cell_type": "markdown",
   "metadata": {},
   "source": [
    "Now compare $k_2, e_2, \\omega_2, P_2, T_{p_2}$ as well"
   ]
  },
  {
   "cell_type": "code",
   "execution_count": 447,
   "metadata": {},
   "outputs": [
    {
     "data": {
      "text/latex": [
       "$\\displaystyle \\left[ 339.874071616364, \\  17.9173911892284, \\  145.926370178305, \\  0.0219375487262987, \\  -0.125463170970477, \\  0\\right]$"
      ],
      "text/plain": [
       "[339.87407161636446, 17.917391189228372, 145.92637017830458, 0.021937548726298\n",
       "724, -0.12546317097047668, 0]"
      ]
     },
     "execution_count": 447,
     "metadata": {},
     "output_type": "execute_result"
    }
   ],
   "source": [
    "rebound_params[5:]  # params starting with k2"
   ]
  },
  {
   "cell_type": "code",
   "execution_count": 448,
   "metadata": {},
   "outputs": [
    {
     "data": {
      "text/latex": [
       "$\\displaystyle \\left( 339.874071616364, \\  17.9173911892284, \\  145.926370178303, \\  0.0219375487262979, \\  -0.125463170970477\\right)$"
      ],
      "text/plain": [
       "(339.8740716163644, 17.917391189228375, 145.9263701783027, 0.02193754872629785\n",
       "6, -0.12546317097047696)"
      ]
     },
     "execution_count": 448,
     "metadata": {},
     "output_type": "execute_result"
    }
   ],
   "source": [
    "rb_outer.P, mass_to_semiamp(rb_outer.m, rb_star.m, rb_outer.P, rb_outer.e, np.pi/2) * AUDAY_MS, radvel.orbit.timeperi_to_timetrans(rb_outer.T, rb_outer.P, rb_outer.e, rb_outer.omega), np.sqrt(rb_outer.e) * np.cos(rb_outer.omega), np.sqrt(rb_outer.e) * np.sin(rb_outer.omega)"
   ]
  },
  {
   "cell_type": "markdown",
   "metadata": {},
   "source": [
    "Compare `Ks_sim_rvs` and `rebound_rvs` to see why they don't match:"
   ]
  },
  {
   "cell_type": "code",
   "execution_count": 452,
   "metadata": {},
   "outputs": [
    {
     "data": {
      "text/plain": [
       "array([0.00000000e+00, 4.53210750e-01, 9.06421500e-01, ...,\n",
       "       4.53074787e+03, 4.53120108e+03, 4.53165429e+03])"
      ]
     },
     "execution_count": 452,
     "metadata": {},
     "output_type": "execute_result"
    }
   ],
   "source": [
    "times"
   ]
  },
  {
   "cell_type": "code",
   "execution_count": 453,
   "metadata": {},
   "outputs": [
    {
     "data": {
      "text/plain": [
       "<matplotlib.legend.Legend at 0x7fd763760fd0>"
      ]
     },
     "execution_count": 453,
     "metadata": {},
     "output_type": "execute_result"
    },
    {
     "data": {
      "image/png": "[encoded data removed]",
      "text/plain": [
       "<Figure size 864x576 with 1 Axes>"
      ]
     },
     "metadata": {
      "needs_background": "light"
     },
     "output_type": "display_data"
    }
   ],
   "source": [
    "plt.figure(figsize = (12, 8))\n",
    "# rv signal fit starting from the equilibrium eccentricity track simple sim\n",
    "plt.plot(times, Ks_sim_rvs, label  = 'observed rv signal') \n",
    "# keplerian rvs and rebound rvs for the forward model using the eq_model_params\n",
    "eq_model_rvs, rebound_rvs, rebound_params, rebound_sim = get_rv_signal_equilibrium(times, eq_model_params, c, time_base)\n",
    "# plot the forward model and rebound\n",
    "plt.plot(times, eq_model_rvs, label = 'forward model')  # synth y\n",
    "plt.plot(times, rebound_rvs, label = 'rebound')\n",
    "# plt.plot(Ks_sim_times, test_resids)\n",
    "plt.legend()"
   ]
  },
  {
   "cell_type": "markdown",
   "metadata": {},
   "source": [
    "Now fit to the forward model:"
   ]
  },
  {
   "cell_type": "code",
   "execution_count": null,
   "metadata": {},
   "outputs": [],
   "source": [
    "from scipy import optimize\n",
    "# optimize\n",
    "fit_params_forward = optimize.least_squares(lambda params: get_forward_model_resids(times, params, Ks_sim_rvs, time_base), eq_model_params)\n",
    "# takes a long time to fit"
   ]
  },
  {
   "cell_type": "markdown",
   "metadata": {},
   "source": [
    "Compare fit parameters to the original guess, params are in the order k1, m2/m1, e1, omega1, omegadot, p1, tp1, rv offset"
   ]
  },
  {
   "cell_type": "code",
   "execution_count": null,
   "metadata": {},
   "outputs": [],
   "source": [
    "print(f'Least squares fit: \\n{fit_params_forward.x}', '\\n\\n', f'Original guess: \\n {eq_model_params}')"
   ]
  },
  {
   "cell_type": "code",
   "execution_count": null,
   "metadata": {},
   "outputs": [],
   "source": [
    "np.sqrt(np.linalg.inv((fit_params_forward.jac.T @ fit_params_forward.jac))[4][4])"
   ]
  },
  {
   "cell_type": "markdown",
   "metadata": {},
   "source": [
    "And compare the forward model/rebound simulation using the best-fit parameters to the \"observed\" data from the rv signal generated from the eccentricity track simple sim at equilibirum, all on the same graph:"
   ]
  },
  {
   "cell_type": "code",
   "execution_count": null,
   "metadata": {},
   "outputs": [],
   "source": [
    "# compute rv signals\n",
    "fit_eq_rvs, fit_rebound_rvs, _ = get_rv_signal_equilibrium(times, fit_params_forward.x, c, time_base)\n",
    "eq_model_rvs, rebound_rvs, _ = get_rv_signal_equilibrium(times, eq_model_params, c, time_base)\n",
    "# in our model we are fitting fit_eq_rvs using the forward model, to the Ks_sim_rvs generated using rebound from the equilibrium eccentricity simulations\n",
    "\n",
    "# Plot:\n",
    "plt.figure(figsize = (12, 8))\n",
    "# forward model and rebound for original guess:\n",
    "# plt.plot(times, eq_model_rvs, label = 'forward model (original)')\n",
    "# plt.plot(times, rebound_rvs, label = 'rebound (original)')\n",
    "# forward model and rebound for fit params:\n",
    "plt.plot(times, fit_eq_rvs, label = 'forward model (fit)')\n",
    "# plt.plot(times, fit_rebound_rvs, label = 'rebound (fit)')\n",
    "# \"observed\" values, rv signal generated for equilibrium\n",
    "plt.plot(times, Ks_sim_rvs, label = 'observed')\n",
    "plt.legend()\n",
    "plt.show()"
   ]
  },
  {
   "cell_type": "code",
   "execution_count": null,
   "metadata": {},
   "outputs": [],
   "source": [
    "fit_eq_rvs, Ks_sim_rvs"
   ]
  },
  {
   "cell_type": "markdown",
   "metadata": {},
   "source": [
    "Compare omegadot for the one-planet case (just use the params from `eq_model_params`):"
   ]
  },
  {
   "cell_type": "code",
   "execution_count": null,
   "metadata": {},
   "outputs": [],
   "source": [
    "eq_model_params, fit_params_forward.x  # k1, m2/m1, e1, omega1, omegadot, p1, tp1, rv offset"
   ]
  },
  {
   "cell_type": "code",
   "execution_count": null,
   "metadata": {},
   "outputs": [],
   "source": [
    "times[-1] - times[0]"
   ]
  },
  {
   "cell_type": "code",
   "execution_count": null,
   "metadata": {},
   "outputs": [],
   "source": [
    "time_base = np.median(hd_data.BJD)\n",
    "\n",
    "times = np.linspace(time_base, time_base + inner.P * P1 * 5, int(1e4))  # short\n",
    "# times = np.linspace(time_base, time_base + inner.P * P1 * 20, int(1e4)) # long"
   ]
  },
  {
   "cell_type": "markdown",
   "metadata": {},
   "source": [
    "$\\frac{2\\pi \\left(t - T_p\\right)}{P} = \\lambda - \\omega_0 - \\dot\\omega t$\n",
    "\n",
    "$T_p = T_{p0} + \\dot{T_p} t$\n",
    "\n",
    "$\\varpi = \\omega_o + \\dot\\omega t$\n",
    "\n",
    "$\\lambda = \\lambda_0 + 2\\pi\\frac{t}{P}$\n",
    "\n",
    "\n",
    "$\\dot{T_p} = \\frac{P}{2\\pi t}\\left(-\\lambda_0 + \\omega_0 + \\dot\\omega t\\right) - \\frac{T_{p0}}{t}$"
   ]
  },
  {
   "cell_type": "markdown",
   "metadata": {},
   "source": [
    "$\\dot{T_p} = \\frac{P \\dot\\omega}{2\\pi}$"
   ]
  },
  {
   "cell_type": "code",
   "execution_count": null,
   "metadata": {},
   "outputs": [],
   "source": [
    "K, _, e, omega0, omegadot, p, tp0, rv_offset = fit_params_forward.x\n",
    "m1 = m1\n",
    "\n",
    "# omegadot = 0.01\n",
    "# compute tpdot from omegadot\n",
    "# tpdot = -(p * omegadot_fit_params.x[0])/(2 * np.pi)\n",
    "\n",
    "# now rebound/reboundx simulation with p, tp, e, omega, K and omegadot as well\n",
    "\n",
    "# parameterize things for get_sim_from_params\n",
    "tc = radvel.orbit.timeperi_to_timetrans(tp=tp0, per=p, ecc=e, omega=omega0)\n",
    "secos, sesin = np.sqrt(e) * np.array([np.cos(omega0), np.sin(omega0)])\n",
    "\n",
    "# parameterize\n",
    "reboundx_params = [p, K, tc, secos, sesin, rv_offset]\n",
    "\n",
    "# create sim\n",
    "# use whfast since we need whfast to work properly\n",
    "reboundx_sim = get_sim_from_params(reboundx_params, inclination=np.pi/2, integrator='whfast', time_base=time_base)\n",
    "# define star, planet\n",
    "star = reboundx_sim.particles[0]\n",
    "planet = reboundx_sim.particles[1]  # only one planet\n",
    "\n",
    "# add reboundx\n",
    "rebx = reboundx.Extras(reboundx_sim)\n",
    "rebx.add_operator(rebx.load_operator('modify_orbits_direct'))\n",
    "# add omegadot precession rate\n",
    "planet.params['tau_omega'] = (2 * np.pi) * 1/omegadot\n",
    "\n",
    "# create empty arrays\n",
    "reboundx_rvs = np.zeros(len(times))\n",
    "reboundx_tps = np.zeros(len(times))\n",
    "reboundx_omegas = np.zeros(len(times))\n",
    "\n",
    "one_planet_precess_rv_drive = np.zeros(len(times))\n",
    "\n",
    "# integrate\n",
    "for i, t in enumerate(times):\n",
    "    reboundx_sim.integrate(t)\n",
    "    reboundx_rvs[i] = (-star.vz * AUDAY_MS)  # no rv offset for these simple sims\n",
    "    \n",
    "    reboundx_tps[i] = planet.T\n",
    "    reboundx_omegas[i] = planet.omega\n",
    "    period, Tp, e, omega = planet.P, planet.T, planet.e, planet.omega\n",
    "    one_planet_precess_rv_drive[i] = radvel.kepler.rv_drive(np.array([t]), [period, Tp, e, omega, K])\n",
    "\n",
    "# radvel for p, tp, e, omega, K\n",
    "# print(p, tp, time_base, tpdot, e, omega, K)\n",
    "one_planet_precess_rvs_keplerian_tps = np.array([radvel.kepler.rv_drive(np.array([t]), [p, tp0, e, omega0 + (t - time_base) * omegadot, K]) for t in times])\n",
    "# want the above one to fit\n",
    "one_planet_precess_rvs_rebound_tps = np.array([radvel.kepler.rv_drive(np.array([t]), [p, Tp, e, omega0 + (t - time_base) * omegadot, K]) for t, Tp in zip(times, reboundx_tps)])\n",
    "one_planet_no_precess_rvs = np.array([radvel.kepler.rv_drive(np.array([t]), [p, tp0, e, omega0, K]) for t in times])\n",
    "# fitting\n",
    "# omegadot_fit_params = optimize.least_squares(lambda params: get_resids_linear_fit(params, np.unwrap(reboundx_omegas), times), [omegadot, omega0])"
   ]
  },
  {
   "cell_type": "code",
   "execution_count": null,
   "metadata": {},
   "outputs": [],
   "source": [
    "# plot\n",
    "plt.figure(figsize = (12, 8))\n",
    "# keplerian with/without precession\n",
    "# plt.plot(times, one_planet_no_precess_rvs, label = 'no precession, keplerian')  # no precession\n",
    "plt.plot(times, one_planet_precess_rvs_keplerian_tps, label = 'precession, kep')  # precession by feeding in kepler tps into rv drive\n",
    "# plt.plot(times, one_planet_precess_rvs_rebound_tps, label = 'precession, rebound (tp omega)')\n",
    "# plt.plot(times, one_planet_precess_rv_drive, label = 'precession, rebound (all params)')  # precession by feeding in rebound tps into rv drive\n",
    "# rebound with reboundx precession model\n",
    "plt.plot(times, reboundx_rvs, label = 'rebound')  # rebound w/ reboundx and precession\n",
    "plt.xlabel('JD'), plt.ylabel('radial velocity (m/s)')\n",
    "plt.legend()\n",
    "plt.show()"
   ]
  },
  {
   "cell_type": "markdown",
   "metadata": {},
   "source": [
    "Now generate new signals from the equilibrium values of the eccentricity simulations, and then use those. First test with one specific simulation:"
   ]
  },
  {
   "cell_type": "code",
   "execution_count": null,
   "metadata": {},
   "outputs": [],
   "source": [
    "ggsim = rb.Simulation(f'hd_max_mass/ecc_track_archive_cluster_{index}.bin')\n",
    "# check starting inner, outer eccentricities and omegas\n",
    "ggsim.particles[1].e, ggsim.particles[2].e, ggsim.particles[1].omega, ggsim.particles[2].omega  "
   ]
  },
  {
   "cell_type": "code",
   "execution_count": null,
   "metadata": {},
   "outputs": [],
   "source": [
    "index = np.abs(Ks_orig - 90).argmin()  # index of the Ks_original closest to K = 90\n",
    "Ks_orig[index]\n",
    "\n",
    "ecc_sims_location = 'hd_max_mass'  # location of simulations\n",
    "# get the simulation\n",
    "Ks_sim = rb.Simulation(f'{ecc_sims_location}/ecc_track_archive_cluster_{index}.bin')  # get the corresponding eccentricity simulation\n",
    "# define star, inner, outer planets\n",
    "star = Ks_sim.particles[0]\n",
    "inner = Ks_sim.particles[1]\n",
    "outer = Ks_sim.particles[2]\n",
    "# use whfast instead of ias15 for the integrator since reboundx omegadot implementation breaks with ias15\n",
    "Ks_sim.integrator = 'whfast'  # use whfast\n",
    "Ks_sim.dt = inner.P * 1/50  # 1/50th the period of the inner planet\n",
    "\n",
    "Ks_sim.t = time_base  # set Ks_sim time base to time base\n",
    "# since it's already at equilibrium, then make an RV signal with REBOUND over a few orbital periods\n",
    "# 10 times the orbital period of the inner planet\n",
    "\n",
    "# define rotation matrix\n",
    "r = np.matrix([[1, 0, 0],\n",
    "              [0, 0, 1],\n",
    "              [0, 1, 0]])  # np.pi/2 rotation matrix so everything is aligned along z\n",
    "\n",
    "# move to center of mass and then align it so z-axis is movement\n",
    "# rotate simulation so z axis is aligned, and then move to center of mass\n",
    "rotate_sim(Ks_sim, r)\n",
    "Ks_sim.move_to_com()\n",
    "\n",
    "# add reboundx\n",
    "# rebx = reboundx.Extras(Ks_sim)\n",
    "# rebx.add_operator(rebx.load_operator('modify_orbits_direct'))\n",
    "# # define omegadot precession rate\n",
    "# omegadot = 1e-16  # try really small since the eq_model_params should be 0\n",
    "# # then add tau omegas\n",
    "# inner.params['tau_omega'] = (2 * np.pi) * 1/omegadot\n",
    "# outer.params['tau_omega'] = (2 * np.pi) * 1/omegadot\n",
    "\n",
    "# generate time array and other arrays, then integrate\n",
    "nperiods = 20  # number of inner planet periods for the integration times of both the \"observed\" rebound data and the other 2\n",
    "\n",
    "# now get rvs using rebound\n",
    "times = np.linspace(Ks_sim.t, Ks_sim.t + inner.P * P1 * nperiods, int(1e4))  # 10 periods\n",
    "Ks_sim_rvs = np.zeros(len(times))\n",
    "\n",
    "# define arrays\n",
    "e1s = np.zeros(len(times))\n",
    "e2s = np.zeros(len(times))\n",
    "omega1s = np.zeros(len(times))\n",
    "omega2s = np.zeros(len(times))\n",
    "\n",
    "inner = Ks_sim.particles[1]\n",
    "outer = Ks_sim.particles[2]\n",
    "\n",
    "# loop\n",
    "for i, t in enumerate(times):\n",
    "    # integrate the simple sim\n",
    "    # have to scale the time by the period as time_base + (t - time_base)/P1 since in \"natural\" units of P1\n",
    "    # the range of times is ~19 but in units of BJD times is about ~5000, both starting at the time_base of ~54452\n",
    "    Ks_sim.integrate(time_base + (t - time_base)/P1, exact_finish_time = 1)\n",
    "    # compute the rvs, making sure to convert from au/day to m/s again\n",
    "    # multiply by conversion\n",
    "    Ks_sim_rvs[i] = (-star.vz * v_conv) # no rv offset for these simple sims\n",
    "    e1s[i] = inner.e\n",
    "    e2s[i] = outer.e\n",
    "    omega1s[i] = inner.omega\n",
    "    omega2s[i] = outer.omega"
   ]
  },
  {
   "cell_type": "code",
   "execution_count": null,
   "metadata": {},
   "outputs": [],
   "source": [
    "np.finfo(float).eps"
   ]
  },
  {
   "cell_type": "code",
   "execution_count": null,
   "metadata": {},
   "outputs": [],
   "source": [
    "(time_base + (times[-1] - time_base)/P1), (time_base + (times[0] - time_base)/P1)"
   ]
  },
  {
   "cell_type": "markdown",
   "metadata": {},
   "source": [
    "Plotting the rvs for the rebound \"observed\" values against the forward model values using the previous least-squares optimization:"
   ]
  },
  {
   "cell_type": "code",
   "execution_count": null,
   "metadata": {},
   "outputs": [],
   "source": [
    "eq_model_ls_params = [ 7.33996847e+00, 2.80666441e+00, 4.12923157e-02, 7.76355098e+00, -1.01134989e-04, 2.27201128e+02, 5.45983166e+04, -3.63590783e-03] "
   ]
  },
  {
   "cell_type": "code",
   "execution_count": null,
   "metadata": {},
   "outputs": [],
   "source": [
    "plt.figure(figsize = (12, 8))\n",
    "# these are the rvs generated using a rebound simulation from the equilibrum eccentricity simulations\n",
    "plt.plot(times, Ks_sim_rvs, label = 'rebound \"observed\"')\n",
    "# compute the equilibrium forward model times using eq_model_params (derived from the original best-fit solution to the observed data) \n",
    "c = 1.07  # c is about 1.07, derived (coefficient for e1/e2 = c * m2/m1)\n",
    "eq_model_rvs, _, _ = get_rv_signal_equilibrium(times, eq_model_ls_params, c, time_base)\n",
    "# these are the rvs generated using the forward model from eq_model_params derived from the original best-fit solution\n",
    "plt.plot(times, eq_model_rvs, label = 'forward model')\n",
    "plt.xlabel('JD'), plt.ylabel('Radial velocity (m/s)')\n",
    "plt.legend()\n",
    "plt.show()"
   ]
  },
  {
   "cell_type": "markdown",
   "metadata": {},
   "source": [
    "Plotting the eccentricities to check as well:"
   ]
  },
  {
   "cell_type": "code",
   "execution_count": null,
   "metadata": {},
   "outputs": [],
   "source": [
    "plt.figure(figsize=(12, 8))\n",
    "plt.plot(times, e1s, label = 'inner')  # inner ecc\n",
    "plt.plot(times, e2s, label = 'outer')  # outer ecc\n",
    "plt.xlabel('JD'), plt.ylabel('eccentricity')\n",
    "plt.legend()\n",
    "plt.show()"
   ]
  },
  {
   "cell_type": "markdown",
   "metadata": {},
   "source": [
    "And omegas:"
   ]
  },
  {
   "cell_type": "code",
   "execution_count": null,
   "metadata": {},
   "outputs": [],
   "source": [
    "plt.figure(figsize=(12, 8))\n",
    "plt.plot(times, omega1s, label = 'inner')  # inner omega\n",
    "plt.plot(times, omega2s, label = 'outer')  # outer omega\n",
    "plt.xlabel('JD'), plt.ylabel(r'$\\omega$')\n",
    "plt.legend()\n",
    "plt.show()"
   ]
  },
  {
   "cell_type": "markdown",
   "metadata": {},
   "source": [
    "Now fit the forward model to the rebound values and compare the second fit with original guess (first fit)\n",
    "Params are $k_1, \\frac{m_2}{m_1}, e_1, \\omega_1, \\dot\\omega, P_1, T_{p1}$"
   ]
  },
  {
   "cell_type": "code",
   "execution_count": null,
   "metadata": {},
   "outputs": [],
   "source": [
    "fit_params_forward = optimize.least_squares(lambda params: get_forward_model_resids(times, params, Ks_sim_rvs, time_base), eq_model_ls_params)"
   ]
  },
  {
   "cell_type": "code",
   "execution_count": null,
   "metadata": {},
   "outputs": [],
   "source": [
    "print(f'Least squares fit: \\n{fit_params_forward.x}', '\\n\\n', \n",
    "      f'Original (best-fit from observations) guess: \\n {eq_model_params}')\n",
    "\n"
   ]
  },
  {
   "cell_type": "markdown",
   "metadata": {},
   "source": [
    "And compare the fit to see if the parameters are recovered:"
   ]
  },
  {
   "cell_type": "code",
   "execution_count": null,
   "metadata": {},
   "outputs": [],
   "source": [
    "# compute rv signals for both:\n",
    "fit_eq_rvs, fit_rebound_rvs, _ = get_rv_signal_equilibrium(times, fit_params_forward.x, c, time_base)  # generate forward model rvs using the least-squares optimziation params\n",
    "eq_model_rvs, rebound_rvs, _ = get_rv_signal_equilibrium(times, eq_model_params, c, time_base)  # gneerate eq_model_rvs using the original best-fit from observations guess\n",
    "# in our model we are fitting fit_eq_rvs using the forward model, to the Ks_sim_rvs generated using rebound from the equilibrium eccentricity simulations\n",
    "\n",
    "# Plot the rv signals\n",
    "plt.figure(figsize = (12, 8))\n",
    "# forward model and rebound for original guess:\n",
    "# plt.plot(times, eq_model_rvs, label = 'forward model (original)')\n",
    "# plt.plot(times, rebound_rvs, label = 'rebound (original)')\n",
    "# forward model and rebound for fit params:\n",
    "plt.plot(times, fit_eq_rvs, label = 'forward model (fit)')\n",
    "# plt.plot(times, fit_rebound_rvs, label = 'rebound (fit)')\n",
    "# \"observed\" values, rv signal generated for equilibrium\n",
    "plt.plot(times, Ks_sim_rvs, label = 'observed')\n",
    "plt.legend()\n",
    "plt.show()"
   ]
  },
  {
   "cell_type": "markdown",
   "metadata": {},
   "source": [
    "Todo: make sure omegadot is the correct value and also implemented properly, and then fit the forward model to the rvs generated above by rebound (also make sure the forward model (esp omegadot) is implemented properly as well...)"
   ]
  },
  {
   "cell_type": "code",
   "execution_count": null,
   "metadata": {},
   "outputs": [],
   "source": [
    "nsims = 100\n",
    "Ks_orig = np.logspace(0, 5, nsims)\n",
    "ecc_sims_location = 'hd_max_mass'\n",
    "# initialize c array\n",
    "cs = np.zeros(len(Ks_orig))\n",
    "\n",
    "for i in range(0, len(Ks_orig)):\n",
    "    ecc_sim = rb.Simulation(f'{ecc_sims_location}/ecc_track_archive_cluster_{i}.bin')  # get the ith eccentricity simulation from the ecc sims folder\n",
    "    inner = ecc_sim.particles[1]\n",
    "    outer = ecc_sim.particles[2]\n",
    "    "
   ]
  },
  {
   "cell_type": "markdown",
   "metadata": {},
   "source": [
    "### unused"
   ]
  },
  {
   "cell_type": "code",
   "execution_count": null,
   "metadata": {},
   "outputs": [],
   "source": [
    "# omegadot = 0.001\n",
    "\n",
    "# test_sim = rb.Simulation()\n",
    "# test_sim.add(m=1)\n",
    "# test_sim.add(a=1, e=0.1)\n",
    "\n",
    "# star = test_sim.particles[0]\n",
    "# planet = test_sim.particles[1]\n",
    "# omega0 = planet.omega\n",
    "\n",
    "# rebx = reboundx.Extras(test_sim)\n",
    "# rebx.add_operator(rebx.load_operator('modify_orbits_direct'))\n",
    "# # add omegadot precession rate\n",
    "# planet.params['tau_omega'] = (2 * np.pi) * 1/omegadot\n",
    "\n",
    "# test_pomegas = np.zeros(len(times))\n",
    "\n",
    "# for i, t in enumerate(times):\n",
    "#     test_sim.integrate(t)\n",
    "#     test_pomegas[i] = planet.pomega\n",
    "\n",
    "    \n",
    "# plt.plot(times, test_pomegas)\n",
    "# plt.plot(times, np.mod([omega0 + (t - time_base) * omegadot for t in times], 2 * np.pi))\n",
    "# plt.axvline(planet.params['tau_omega']/(2 * np.pi), color='k')"
   ]
  },
  {
   "cell_type": "code",
   "execution_count": null,
   "metadata": {},
   "outputs": [],
   "source": [
    "reboundx_omegas, omega0"
   ]
  },
  {
   "cell_type": "code",
   "execution_count": null,
   "metadata": {},
   "outputs": [],
   "source": [
    "plt.plot(times, np.unwrap(reboundx_omegas))\n",
    "plt.plot(times, omegadot * (times - time_base) + reboundx_omegas[0])\n",
    "# plt.plot(times, np.mod([omega0 + (t - time_base) * omegadot for t in times], 2 * np.pi))\n",
    "# plt.plot(times, [omegadot_fit_params.x[1] + (t - time_base) * omegadot_fit_params.x[0] for t in times])"
   ]
  },
  {
   "cell_type": "code",
   "execution_count": null,
   "metadata": {},
   "outputs": [],
   "source": [
    "reboundx_omegas, omegadot * (times - time_base) + reboundx_omegas[0]"
   ]
  },
  {
   "cell_type": "code",
   "execution_count": null,
   "metadata": {},
   "outputs": [],
   "source": [
    "np.mod(reboundx_tps, p)"
   ]
  },
  {
   "cell_type": "code",
   "execution_count": null,
   "metadata": {},
   "outputs": [],
   "source": [
    "plt.plot(times, np.mod(reboundx_tps, p))"
   ]
  },
  {
   "cell_type": "code",
   "execution_count": null,
   "metadata": {},
   "outputs": [],
   "source": [
    "def get_resids_linear_fit(params, y, x):\n",
    "    \"\"\"\n",
    "    linear fit for y = ax + b    \n",
    "    params: a, b in that order\n",
    "    \"\"\"\n",
    "    a, b = params\n",
    "    obs_y = y\n",
    "    synth_y = a * x + b\n",
    "    return np.abs(obs_y - synth_y)\n",
    "    "
   ]
  },
  {
   "cell_type": "code",
   "execution_count": null,
   "metadata": {},
   "outputs": [],
   "source": [
    "# omegadot_fit_params = optimize.least_squares(lambda params: get_resids_linear_fit(params, np.unwrap(reboundx_omegas), times), [omegadot, omega0])"
   ]
  },
  {
   "cell_type": "code",
   "execution_count": null,
   "metadata": {},
   "outputs": [],
   "source": [
    "omegadot, omegadot_fit_params.x"
   ]
  },
  {
   "cell_type": "code",
   "execution_count": null,
   "metadata": {},
   "outputs": [],
   "source": [
    "omega0\n"
   ]
  },
  {
   "cell_type": "code",
   "execution_count": null,
   "metadata": {},
   "outputs": [],
   "source": [
    "time_base"
   ]
  },
  {
   "cell_type": "code",
   "execution_count": null,
   "metadata": {},
   "outputs": [],
   "source": [
    "-1/omegadot"
   ]
  },
  {
   "cell_type": "code",
   "execution_count": null,
   "metadata": {},
   "outputs": [],
   "source": [
    "np.reshape(one_planet_no_precess_rvs, -1), reboundx_rvs"
   ]
  },
  {
   "cell_type": "code",
   "execution_count": null,
   "metadata": {},
   "outputs": [],
   "source": [
    "p, 1/omegadot"
   ]
  },
  {
   "cell_type": "code",
   "execution_count": null,
   "metadata": {},
   "outputs": [],
   "source": [
    "times, time_base"
   ]
  },
  {
   "cell_type": "code",
   "execution_count": null,
   "metadata": {},
   "outputs": [],
   "source": []
  }
 ],
 "metadata": {
  "kernelspec": {
   "display_name": "Python 3",
   "language": "python",
   "name": "python3"
  },
  "language_info": {
   "codemirror_mode": {
    "name": "ipython",
    "version": 3
   },
   "file_extension": ".py",
   "mimetype": "text/x-python",
   "name": "python",
   "nbconvert_exporter": "python",
   "pygments_lexer": "ipython3",
   "version": "3.8.10"
  }
 },
 "nbformat": 4,
 "nbformat_minor": 4
}
