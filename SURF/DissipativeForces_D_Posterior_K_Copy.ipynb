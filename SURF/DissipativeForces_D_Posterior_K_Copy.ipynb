{
 "cells": [
  {
   "cell_type": "code",
   "execution_count": 1,
   "id": "efa29502",
   "metadata": {},
   "outputs": [
    {
     "name": "stderr",
     "output_type": "stream",
     "text": [
      "/home/ianchow/.local/lib/python3.10/site-packages/radvel/gp.py:32: ImportWarning: celerite not installed. GP kernals using celerite will not work. Try installing celerite using 'pip install celerite'\n",
      "  warnings.warn(\"celerite not installed. GP kernals using celerite will not work. \\\n"
     ]
    }
   ],
   "source": [
    "import rebound as rb\n",
    "from matplotlib import pyplot as plt\n",
    "import celmech as cm\n",
    "import numpy as np\n",
    "import sympy as sp\n",
    "import radvel\n",
    "import pandas as pd\n",
    "import h5py"
   ]
  },
  {
   "cell_type": "code",
   "execution_count": 2,
   "id": "c7f6bdb8",
   "metadata": {},
   "outputs": [],
   "source": [
    "#Least squares fit: \n",
    "fit_params = [ 2.28513053e+02, 7.27743508e+00, 5.39371890e+04, -1.78110513e-01, \n",
    "              -4.66450116e-02, 3.43378023e+02, 1.78603199e+01, 5.40186750e+04,\n",
    "               1.32165040e-01, 9.73129308e-02, -5.29039776e-01] \n",
    "\n",
    "# star mass, g and auday to m/s conversion factor\n",
    "STAR_MASS = 920  # 920 jupiter masses\n",
    "G = 2.825e-7  # converting G to jupiter masses, au, and days\n",
    "AUDAY_MS = 1.731e6  # conversion factor for au/day to m/s\n",
    "\n",
    "def mass_to_semiamp(planet_mass, star_mass, period, eccentricity, inclination):\n",
    "    \"\"\"\n",
    "    planet mass (jupiter masses) to semi amplitude\n",
    "    \"\"\"\n",
    "    return ((2 * np.pi * G/period) ** (1/3) * (planet_mass * np.sin(inclination) / star_mass ** (2/3)) * (1/np.sqrt(1 - eccentricity ** 2)))\n",
    "\n",
    "def semiamp_to_mass(semiamp, star_mass, period, eccentricity, inclination):\n",
    "    \"\"\"\n",
    "    semi amplitude to planet mass (jupiter masses)\n",
    "    \"\"\"\n",
    "    return (((2 * np.pi * G/period) ** (-1/3)) * (semiamp / np.sin(inclination)) * np.sqrt(1 - eccentricity ** 2) * (star_mass ** (2/3)))\n",
    "\n",
    "\n",
    "def get_sim_from_params(params, inclination, integrator, time_base, star_mass = STAR_MASS, auday_ms = AUDAY_MS):\n",
    "    \"\"\"\n",
    "    takes in params array, returns a rebound Simulation object with those parameters\n",
    "    \n",
    "    param params: numpy array of params:\n",
    "    \n",
    "    for i in range(0, num_planets):\n",
    "    \n",
    "    params[i + 0] is period\n",
    "    params[i + 1] is semiamp\n",
    "    params[i + 2] is tc (time of conjunction)\n",
    "    params[i + 3] is sqrt(e) * cos(omega)\n",
    "    params[i + 4] is sqrt(e) * sin(omega)\n",
    "    \n",
    "    params[5 * num_planets] is rv offset\n",
    "    params[5 * num_planets + 1] is jit\n",
    "    \n",
    "    param inclination: inclination of system in the observation plane (pi/2 is in the plane of the sky, 0 is edge-on)\n",
    "    param integrator: integrator to use, one of 'whfast' or 'ias15'\n",
    "    param time_base: base time (to begin integration from) in the simulation\n",
    "    \"\"\"\n",
    "    \n",
    "    num_planets = int((len(params) - 1) / 5) # -2 because there are rv_offset and jit parameters:\n",
    "    \n",
    "    sim = rb.Simulation()\n",
    "    sim.integrator = integrator\n",
    "    sim.t = time_base  # keplerian and n-body models initialized at the same time offset\n",
    "    # print(sim.t)\n",
    "    if integrator == 'whfast':  # if using whfast integrator, set timestep\n",
    "        sim.dt = 1/50 * min(params[0::5][:-1])  # timestep is 1/20th of the shortest orbital period of any planet\n",
    "        # print(sim.dt)\n",
    "    sim.units = ('AU', 'Mjupiter', 'day')\n",
    "\n",
    "    sim.add(m = star_mass)  # star mass as a constant\n",
    "        \n",
    "    for i in range (0, num_planets):\n",
    "        # print(i)\n",
    "        # planet parameters\n",
    "        period = params[5*i]  # in days\n",
    "        semiamp = params[5*i + 1] / auday_ms # divide by auday_ms because semiamp given in m/s\n",
    "        eccentricity = params[5*i + 3] ** 2 + params[5*i + 4] ** 2  # eccentricity from secos, sesin\n",
    "        omega = np.arctan2(params[5*i + 4], params[5*i + 3])  # omega from arctan of sesin, secos\n",
    "        # get tp by converting from tc\n",
    "        tp = radvel.orbit.timetrans_to_timeperi(params[5*i + 2], per = period, ecc = eccentricity, omega = omega)\n",
    "        \n",
    "        # mass\n",
    "        mass = semiamp_to_mass(semiamp = semiamp, star_mass = star_mass, period = period, eccentricity = eccentricity, inclination = inclination)\n",
    "        \n",
    "        # adding to simulation\n",
    "        sim.add(m = mass, P = period, e = eccentricity, T = tp, omega = omega, inc = inclination)\n",
    "        \n",
    "    sim.move_to_com()  # move to center of mass\n",
    "    \n",
    "    return sim\n",
    "\n",
    "def get_simple_sim(masses, integrator = 'ias15', period_ratio = 3/2, epsilon=0.01):\n",
    "    \"\"\"\n",
    "    gets simple sim (for eccentricity track stuff)\n",
    "    param masses: array of planet masses\n",
    "    param integrator: integrator\n",
    "    param epsilon: amount by which the resonant period ratio should be offset from the equilibrium in the simulation\n",
    "    \"\"\"\n",
    "    sim = rb.Simulation()\n",
    "    sim.integrator = integrator\n",
    "    # central star\n",
    "    sim.add(m = 1)\n",
    "    \n",
    "    sim.add(m = masses[0], P = 1)\n",
    "    sim.add(m = masses[1], P = period_ratio * (1 + epsilon))\n",
    "\n",
    "    sim.move_to_com()\n",
    "    if integrator == 'whfast':\n",
    "        sim.dt = 1/50 * 1  # dy default use 1/50th of the inner planet's orbital period for the timestep if using whfast\n",
    "    return sim"
   ]
  },
  {
   "cell_type": "code",
   "execution_count": 3,
   "id": "5e2e37c6",
   "metadata": {},
   "outputs": [],
   "source": [
    "# sim=rb.Simulation()\n",
    "# sim.add(m=1)\n",
    "# sim.add(m=1e-4,P=1)\n",
    "# sim.add(m=1e-4,P=1.5)\n",
    "\n",
    "gsim = get_sim_from_params(fit_params, inclination = np.pi/2, integrator= 'ias15', time_base = 0)\n",
    "\n",
    "masses = np.array([gsim.particles[1].m, gsim.particles[2].m])/gsim.particles[0].m  # divide by star mass!\n",
    "sim = get_simple_sim(masses, integrator = 'ias15')\n",
    "\n",
    "pvars = cm.Poincare.from_Simulation(sim)\n",
    "pham = cm.PoincareHamiltonian(pvars)"
   ]
  },
  {
   "cell_type": "markdown",
   "id": "ae9b9456",
   "metadata": {},
   "source": [
    "Add MMR terms:"
   ]
  },
  {
   "cell_type": "code",
   "execution_count": 4,
   "id": "e2a76380",
   "metadata": {},
   "outputs": [],
   "source": [
    "pham.add_MMR_terms(3, 1, max_order = 1, inclinations=False)  # try adding max order up to 3"
   ]
  },
  {
   "cell_type": "code",
   "execution_count": 5,
   "id": "75a076eb",
   "metadata": {},
   "outputs": [],
   "source": [
    "A = np.eye(pham.N_dof,dtype = int)\n",
    "A[0,:4] = [-2,3,1,0]\n",
    "A[1,:4] = [-2,3,0,1]\n",
    "A[2,:4] = [1,-1,0,0]\n",
    "A[3,:4] = [-2,3,0,0]\n",
    "angvars=sp.symbols(\"theta1,theta2,psi,l,phi1,phi2\",real=True)\n",
    "actions=sp.symbols(\"p1,p2,Psi,L,Phi1,Phi2\",positive=True)\n",
    "_,_,Psi,L,_,_=actions\n",
    "ct1 = cm.CanonicalTransformation.from_poincare_angles_matrix(pvars,A,new_qp_pairs=list(zip(angvars,actions)))"
   ]
  },
  {
   "cell_type": "markdown",
   "id": "616508ad",
   "metadata": {},
   "source": [
    "'ham1' will be the Hamiltonian in the resonant variables you're used to"
   ]
  },
  {
   "cell_type": "code",
   "execution_count": 6,
   "id": "790798ce",
   "metadata": {},
   "outputs": [
    {
     "data": {
      "text/latex": [
       "$\\displaystyle - \\frac{\\sqrt{2} C_{(3,-2,-1,0,0,0)}^{(0,0,0,0),(0,0)}(\\alpha_{1,2}) G m_{1} m_{2} \\sqrt{p_{1}} \\cos{\\left(\\theta_{1} \\right)}}{\\sqrt{\\Lambda_{1,0}} a_{2,0}} - \\frac{\\sqrt{2} C_{(3,-2,0,-1,0,0)}^{(0,0,0,0),(0,0)}(\\alpha_{1,2}) G m_{1} m_{2} \\sqrt{p_{2}} \\cos{\\left(\\theta_{2} \\right)}}{\\sqrt{\\Lambda_{2,0}} a_{2,0}} - \\frac{G^{2} M_{1}^{2} \\mu_{1}^{3}}{2 \\left(- 2 L + \\Psi - 2 p_{1} - 2 p_{2}\\right)^{2}} - \\frac{G^{2} M_{2}^{2} \\mu_{2}^{3}}{2 \\left(3 L - \\Psi + 3 p_{1} + 3 p_{2}\\right)^{2}}$"
      ],
      "text/plain": [
       "                                                                    ____                                              \n",
       "  √2⋅C_{(3,-2,-1,0,0,0)}_{1,2})__{(0,0,0,0),(0,0)}(\\alpha⋅G⋅m₁⋅m₂⋅╲╱ p₁ ⋅cos(θ₁)   √2⋅C_{(3,-2,0,-1,0,0)}_{1,2})__{(0,\n",
       "- ────────────────────────────────────────────────────────────────────────────── - ───────────────────────────────────\n",
       "                              _______________                                                                  _______\n",
       "                            ╲╱ \\Lambda_{1,0} ⋅a_{2,0}                                                        ╲╱ \\Lambd\n",
       "\n",
       "                               ____                     2   2   3                    2   2   3        \n",
       "0,0,0),(0,0)}(\\alpha⋅G⋅m₁⋅m₂⋅╲╱ p₂ ⋅cos(θ₂)            G ⋅M₁ ⋅μ₁                    G ⋅M₂ ⋅μ₂         \n",
       "─────────────────────────────────────────── - ─────────────────────────── - ──────────────────────────\n",
       "________                                                                2                            2\n",
       "a_{2,0} ⋅a_{2,0}                              2⋅(-2⋅L + Ψ - 2⋅p₁ - 2⋅p₂)    2⋅(3⋅L - Ψ + 3⋅p₁ + 3⋅p₂) "
      ]
     },
     "execution_count": 6,
     "metadata": {},
     "output_type": "execute_result"
    }
   ],
   "source": [
    "ham1=ct1.old_to_new_hamiltonian(pham,do_reduction=True)\n",
    "ham1.H"
   ]
  },
  {
   "cell_type": "markdown",
   "id": "89bca87f",
   "metadata": {},
   "source": [
    "'ham2' transforms from polar $(\\theta_i,p_i)$ variables to cartesian $(y_i,x_i)$ variables. These are usually more convenient for numerical integration and root-finding"
   ]
  },
  {
   "cell_type": "code",
   "execution_count": 7,
   "id": "08f24543",
   "metadata": {},
   "outputs": [
    {
     "data": {
      "text/latex": [
       "$\\displaystyle - \\frac{C_{(3,-2,-1,0,0,0)}^{(0,0,0,0),(0,0)}(\\alpha_{1,2}) G m_{1} m_{2} x_{1}}{\\sqrt{\\Lambda_{1,0}} a_{2,0}} - \\frac{C_{(3,-2,0,-1,0,0)}^{(0,0,0,0),(0,0)}(\\alpha_{1,2}) G m_{1} m_{2} x_{2}}{\\sqrt{\\Lambda_{2,0}} a_{2,0}} - \\frac{G^{2} M_{1}^{2} \\mu_{1}^{3}}{2 \\left(- 2 L + \\Psi - x_{1}^{2} - x_{2}^{2} - y_{1}^{2} - y_{2}^{2}\\right)^{2}} - \\frac{G^{2} M_{2}^{2} \\mu_{2}^{3}}{2 \\left(3 L - \\Psi + \\frac{3 x_{1}^{2}}{2} + \\frac{3 x_{2}^{2}}{2} + \\frac{3 y_{1}^{2}}{2} + \\frac{3 y_{2}^{2}}{2}\\right)^{2}}$"
      ],
      "text/plain": [
       "                                                                                                                      \n",
       "  C_{(3,-2,-1,0,0,0)}_{1,2})__{(0,0,0,0),(0,0)}(\\alpha⋅G⋅m₁⋅m₂⋅x₁   C_{(3,-2,0,-1,0,0)}_{1,2})__{(0,0,0,0),(0,0)}(\\alp\n",
       "- ─────────────────────────────────────────────────────────────── - ──────────────────────────────────────────────────\n",
       "                       _______________                                                   _______________              \n",
       "                     ╲╱ \\Lambda_{1,0} ⋅a_{2,0}                                         ╲╱ \\Lambda_{2,0} ⋅a_{2,0}      \n",
       "                                                                                                                      \n",
       "                                                                                                                      \n",
       "                                                                                                                      \n",
       "\n",
       "                               2   2   3                                  2   2   3                 \n",
       "ha⋅G⋅m₁⋅m₂⋅x₂                 G ⋅M₁ ⋅μ₁                                  G ⋅M₂ ⋅μ₂                  \n",
       "───────────── - ───────────────────────────────────── - ────────────────────────────────────────────\n",
       "                                                    2                                              2\n",
       "                  ⎛             2     2     2     2⎞      ⎛              2       2       2       2⎞ \n",
       "                2⋅⎝-2⋅L + Ψ - x₁  - x₂  - y₁  - y₂ ⎠      ⎜          3⋅x₁    3⋅x₂    3⋅y₁    3⋅y₂ ⎟ \n",
       "                                                        2⋅⎜3⋅L - Ψ + ───── + ───── + ───── + ─────⎟ \n",
       "                                                          ⎝            2       2       2       2  ⎠ "
      ]
     },
     "execution_count": 7,
     "metadata": {},
     "output_type": "execute_result"
    }
   ],
   "source": [
    "ct2 = cm.CanonicalTransformation.polar_to_cartesian(ham1.full_qp_vars,indices=[0,1])\n",
    "\n",
    "ham2=ct2.old_to_new_hamiltonian(ham1)\n",
    "ham2.H"
   ]
  },
  {
   "cell_type": "markdown",
   "id": "28b3d8e9",
   "metadata": {},
   "source": [
    "A composite transformation representing all the transformations so far"
   ]
  },
  {
   "cell_type": "code",
   "execution_count": 8,
   "id": "6469f584",
   "metadata": {},
   "outputs": [],
   "source": [
    "ct_all = cm.CanonicalTransformation.composite([ct1,ct2])"
   ]
  },
  {
   "cell_type": "code",
   "execution_count": 9,
   "id": "f214f519",
   "metadata": {},
   "outputs": [],
   "source": [
    "oldvars = ct_all.old_qp_vars\n",
    "_,eta1,_,_,eta2,_,L1,kappa1,_,L2,kappa2,_= oldvars\n",
    "newvars = ct_all.new_qp_vars\n",
    "y1,y2,_,_,_,_,x1,x2,Psi,L,_,_ = newvars"
   ]
  },
  {
   "cell_type": "markdown",
   "id": "c876f5b5",
   "metadata": {},
   "source": [
    "Conserved quantities after transformation:"
   ]
  },
  {
   "cell_type": "code",
   "execution_count": 10,
   "id": "a744e661",
   "metadata": {},
   "outputs": [
    {
     "data": {
      "text/latex": [
       "$\\displaystyle \\left( L, \\  \\Lambda_{1} + \\Lambda_{2} - \\frac{\\eta_{1}^{2}}{2} - \\frac{\\eta_{2}^{2}}{2} - \\frac{\\kappa_{1}^{2}}{2} - \\frac{\\kappa_{2}^{2}}{2}\\right)$"
      ],
      "text/plain": [
       "⎛               2     2     2     2⎞\n",
       "⎜             η₁    η₂    κ₁    κ₂ ⎟\n",
       "⎜L, Λ₁ + Λ₂ - ─── - ─── - ─── - ───⎟\n",
       "⎝              2     2     2     2 ⎠"
      ]
     },
     "execution_count": 10,
     "metadata": {},
     "output_type": "execute_result"
    }
   ],
   "source": [
    "L,ct_all.new_to_old(L)"
   ]
  },
  {
   "cell_type": "code",
   "execution_count": 11,
   "id": "dbb46f8d",
   "metadata": {},
   "outputs": [
    {
     "data": {
      "text/latex": [
       "$\\displaystyle \\left( \\Psi, \\  3 \\Lambda_{1} + 2 \\Lambda_{2}\\right)$"
      ],
      "text/plain": [
       "(Ψ, 3⋅Λ₁ + 2⋅Λ₂)"
      ]
     },
     "execution_count": 11,
     "metadata": {},
     "output_type": "execute_result"
    }
   ],
   "source": [
    "Psi,ct_all.new_to_old(Psi)"
   ]
  },
  {
   "cell_type": "markdown",
   "id": "24b9001a",
   "metadata": {},
   "source": [
    "## dissipation\n",
    "The effect of dissipation, written in terms of the original variables"
   ]
  },
  {
   "cell_type": "code",
   "execution_count": 12,
   "id": "0d89f21a",
   "metadata": {},
   "outputs": [
    {
     "data": {
      "text/latex": [
       "$\\displaystyle \\left[\\begin{matrix}0\\\\- \\frac{\\eta_{1}}{\\tau_{e1}}\\\\0\\\\0\\\\- \\frac{\\eta_{2}}{\\tau_{e2}}\\\\0\\\\- \\frac{\\Lambda_{1}}{2 \\tau_{a1}}\\\\- \\frac{\\kappa_{1}}{\\tau_{e1}}\\\\0\\\\- \\frac{\\Lambda_{2}}{2 \\tau_{a2}}\\\\- \\frac{\\kappa_{2}}{\\tau_{e2}}\\\\0\\end{matrix}\\right]$"
      ],
      "text/plain": [
       "⎡  0  ⎤\n",
       "⎢     ⎥\n",
       "⎢-η₁  ⎥\n",
       "⎢──── ⎥\n",
       "⎢τₑ₁  ⎥\n",
       "⎢     ⎥\n",
       "⎢  0  ⎥\n",
       "⎢     ⎥\n",
       "⎢  0  ⎥\n",
       "⎢     ⎥\n",
       "⎢-η₂  ⎥\n",
       "⎢──── ⎥\n",
       "⎢τₑ₂  ⎥\n",
       "⎢     ⎥\n",
       "⎢  0  ⎥\n",
       "⎢     ⎥\n",
       "⎢ -Λ₁ ⎥\n",
       "⎢─────⎥\n",
       "⎢2⋅τₐ₁⎥\n",
       "⎢     ⎥\n",
       "⎢-κ₁  ⎥\n",
       "⎢──── ⎥\n",
       "⎢τₑ₁  ⎥\n",
       "⎢     ⎥\n",
       "⎢  0  ⎥\n",
       "⎢     ⎥\n",
       "⎢ -Λ₂ ⎥\n",
       "⎢─────⎥\n",
       "⎢2⋅τₐ₂⎥\n",
       "⎢     ⎥\n",
       "⎢-κ₂  ⎥\n",
       "⎢──── ⎥\n",
       "⎢τₑ₂  ⎥\n",
       "⎢     ⎥\n",
       "⎣  0  ⎦"
      ]
     },
     "execution_count": 12,
     "metadata": {},
     "output_type": "execute_result"
    }
   ],
   "source": [
    "tau_a1,tau_a2,tau_e1,tau_e2 = sp.symbols(\"tau_a1,tau_a2,tau_e1,tau_e2\")\n",
    "disflow = sp.Matrix(np.zeros(pham.N_dim))\n",
    "for hk,tau in zip([(eta1,kappa1),(eta2,kappa2)],(tau_e1,tau_e2)):\n",
    "    h,k = hk\n",
    "    disflow[oldvars.index(h)] = -h/tau\n",
    "    disflow[oldvars.index(k)] = -k/tau\n",
    "disflow[oldvars.index(L1)] = -L1/tau_a1/sp.S(2)\n",
    "disflow[oldvars.index(L2)] = -L2/tau_a2/sp.S(2)\n",
    "disflow"
   ]
  },
  {
   "cell_type": "markdown",
   "id": "01ecc45d",
   "metadata": {},
   "source": [
    "Define $(D, L_2)$ new variables s.t.\n",
    "$$\n",
    "\\begin{pmatrix}\n",
    "L\\\\\n",
    "\\Psi\n",
    "\\end{pmatrix}\n",
    "= \n",
    "\\begin{pmatrix}\n",
    "-1 & 1+\\rho\\\\\n",
    "0 & j\\rho+(j-1)\n",
    "\\end{pmatrix}\n",
    "\\cdot\n",
    "\\begin{pmatrix}\n",
    "D\\\\\n",
    "L_2\n",
    "\\end{pmatrix}\n",
    "$$\n",
    "where $\\rho = \\left(\\frac{\\Lambda_1}{\\Lambda_2}\\right)_\\mathrm{res} \\approx \\frac{m_1}{m_2}\\left(\\frac{j-1}{j}\\right)^{1/3}$.\n",
    "\n",
    "In terms of old variables,\n",
    "$$\n",
    "L = \\Lambda_{1} + \\Lambda_{2} - \\frac{\\eta_{1}^{2}}{2} - \\frac{\\eta_{2}^{2}}{2} - \\frac{\\kappa_{1}^{2}}{2} - \\frac{\\kappa_{2}^{2}}{2} = (1 + \\rho)L_2 - D\\\\\n",
    "\\Psi = j \\Lambda_{1} + (j-1) \\Lambda_{2} = (j\\rho+(j-1))L_2~.\n",
    "$$\n",
    "In other words, $L_2$ represents the value of $\\Lambda_2$ when the planets' instantaneous period ratio is at the exact resonant value and $D$ is the value of $(p_1+p_2)$ when $\\Lambda_2 = L_2$.\n",
    "\n",
    "The planets' period ratio can be expressed in terms of \n",
    "$$\n",
    "\\Delta = \\frac{j-1}{j}\\frac{P_2}{P_1} - 1 \\approx 3\\left(\\frac{\\Lambda_2 - L_2}{L_2} - \\frac{\\Lambda_1 - \\rho L_2}{\\rho L_2}\\right) = 3\\frac{\\delta\\Lambda_2}{L_2}\\left(1+\\frac{j-1}{j\\rho}\\right)\n",
    "$$\n",
    "where $\\delta\\Lambda_2 = \\Lambda_2 - L_2$\n",
    "\n",
    "Therefore, we can write \n",
    "$$\n",
    "D = p_1+p_2+(1+\\rho)L_2-\\Lambda_1 - \\Lambda_2\n",
    "$$\n",
    "Or\n",
    "$$\n",
    "\\begin{eqnarray}\n",
    "D &=& p_1+p_2 - \\frac{1}{j}\\delta\\Lambda_2\\\\\n",
    "  &=& p_1+p_2 + \\frac{1}{3}\\left(\\frac{\\rho L_2}{j\\rho+j-1}\\right)\\Delta\n",
    "\\end{eqnarray}\n",
    "$$\n",
    "\n",
    "The dissipative evolution of $D$ is therefore\n",
    "$$\n",
    "\\begin{eqnarray}\n",
    "\\dot{D}\\big|_\\mathrm{dis} &=&-\\frac{p_1}{\\tau_{e1}}-\\frac{p_2}{\\tau_{e2}}- \\frac{1}{3}\\left(\\frac{\\rho L_2}{j\\rho+j-1}\\right)\\dot{\\Delta}\\big|_\\mathrm{dis}\\\\\n",
    "&=&\n",
    "-\\frac{p_1}{\\tau_{e1}}-\\frac{p_2}{\\tau_{e2}}-\\frac{1}{2}\\left(\\frac{\\rho L_2}{j\\rho+j-1}\\right)\\frac{1}{\\tau_\\alpha}\n",
    "\\end{eqnarray}\n",
    "$$\n",
    "where I've used $\\dot{\\Delta}\\big|_\\mathrm{dis}=\\frac{2}{3}\\frac{1}{\\tau_\\alpha}$ with $\\tau_\\alpha^{-1} = \\tau_{a,1}^{-1}- \\tau_{a,2}^{-1}$"
   ]
  },
  {
   "cell_type": "markdown",
   "id": "873e2595",
   "metadata": {},
   "source": [
    "Convert from $L,\\Psi$ to $D,L_2$"
   ]
  },
  {
   "cell_type": "code",
   "execution_count": 13,
   "id": "c46fd342",
   "metadata": {},
   "outputs": [],
   "source": [
    "D,L2res,rho = sp.symbols(\"D,L2,rho\")\n",
    "rho_val = (pham.particles[1].m/pham.particles[2].m) * (2/3)**(1/3) \n",
    "mtrx = sp.Matrix([[-1,1+rho],[0,3*rho + 2]]) \n",
    "D_exprn,L2res_exprn = mtrx.inv() * sp.Matrix([L,Psi])\n",
    "Dval,L2val = [float(s.subs(ham2.full_qp).subs({rho:rho_val})) for s in (D_exprn,L2res_exprn)]\n",
    "newvars = [y1,y2,x1,x2,D_exprn]\n",
    "subsrule = dict(zip([L,Psi],mtrx * sp.Matrix([D,L2res])))\n"
   ]
  },
  {
   "cell_type": "code",
   "execution_count": 14,
   "id": "1f08006f",
   "metadata": {},
   "outputs": [
    {
     "data": {
      "text/latex": [
       "$\\displaystyle \\left( - L + \\frac{\\Psi \\left(\\rho + 1\\right)}{3 \\rho + 2}, \\  \\frac{\\Psi}{3 \\rho + 2}\\right)$"
      ],
      "text/plain": [
       "⎛     Ψ⋅(ρ + 1)     Ψ   ⎞\n",
       "⎜-L + ─────────, ───────⎟\n",
       "⎝      3⋅ρ + 2   3⋅ρ + 2⎠"
      ]
     },
     "execution_count": 14,
     "metadata": {},
     "output_type": "execute_result"
    }
   ],
   "source": [
    "D_exprn, L2res_exprn"
   ]
  },
  {
   "cell_type": "markdown",
   "id": "d03aa523",
   "metadata": {},
   "source": [
    " Initial value of $D$"
   ]
  },
  {
   "cell_type": "code",
   "execution_count": 15,
   "id": "da62e3ae",
   "metadata": {},
   "outputs": [
    {
     "data": {
      "text/latex": [
       "$\\displaystyle - \\frac{L_{2} \\rho \\left(- \\frac{1}{\\tau_{a2}} + \\frac{1}{\\tau_{a1}}\\right)}{2 \\cdot \\left(3 \\rho + 2\\right)} - \\frac{\\frac{x_{2}^{2}}{2} + \\frac{y_{2}^{2}}{2}}{\\tau_{e2}} - \\frac{\\frac{x_{1}^{2}}{2} + \\frac{y_{1}^{2}}{2}}{\\tau_{e1}}$"
      ],
      "text/plain": [
       "                         2     2     2     2\n",
       "       ⎛   1     1 ⎞   x₂    y₂    x₁    y₁ \n",
       "  L₂⋅ρ⋅⎜- ─── + ───⎟   ─── + ───   ─── + ───\n",
       "       ⎝  τₐ₂   τₐ₁⎠    2     2     2     2 \n",
       "- ────────────────── - ───────── - ─────────\n",
       "     2⋅(3⋅ρ + 2)          τₑ₂         τₑ₁   "
      ]
     },
     "execution_count": 15,
     "metadata": {},
     "output_type": "execute_result"
    }
   ],
   "source": [
    "from sympy.simplify.fu import TR10,TR10i,TR11\n",
    "mtrx_func = lambda i,j: sp.simplify(TR10i(TR10(sp.diff(ct_all.new_to_old(newvars[i]),oldvars[j]))))\n",
    "jac_old = sp.Matrix(len(newvars),len(oldvars),mtrx_func)\n",
    "newdisflow = sp.simplify(ct_all.old_to_new(jac_old * disflow))\n",
    "\n",
    "newdisflow = newdisflow.subs(subsrule)\n",
    "\n",
    "p1 = (x1*x1 + y1*y1)/sp.S(2)\n",
    "p2 = (x2*x2 + y2*y2)/sp.S(2)\n",
    "factor = rho * L2res / (3*rho+2)\n",
    "tau_alpha = 1/(1/tau_a1 - 1/tau_a2)\n",
    "Ddot_dis = -1*factor *(1/sp.S(2))* 1/tau_alpha - p1/tau_e1 - p2/tau_e2\n",
    "newdisflow_approx = sp.Matrix([(newdisflow[i] if i<4 else Ddot_dis) for i in range(5)])\n",
    "\n",
    "Ddot_dis"
   ]
  },
  {
   "cell_type": "code",
   "execution_count": 16,
   "id": "cb08c958",
   "metadata": {},
   "outputs": [
    {
     "data": {
      "text/latex": [
       "$\\displaystyle \\left[\\begin{matrix}- \\frac{y_{1}}{\\tau_{e1}}\\\\- \\frac{y_{2}}{\\tau_{e2}}\\\\- \\frac{x_{1}}{\\tau_{e1}}\\\\- \\frac{x_{2}}{\\tau_{e2}}\\\\- \\frac{L_{2} \\rho \\left(- \\frac{1}{\\tau_{a2}} + \\frac{1}{\\tau_{a1}}\\right)}{2 \\cdot \\left(3 \\rho + 2\\right)} - \\frac{\\frac{x_{2}^{2}}{2} + \\frac{y_{2}^{2}}{2}}{\\tau_{e2}} - \\frac{\\frac{x_{1}^{2}}{2} + \\frac{y_{1}^{2}}{2}}{\\tau_{e1}}\\end{matrix}\\right]$"
      ],
      "text/plain": [
       "⎡                    -y₁                     ⎤\n",
       "⎢                    ────                    ⎥\n",
       "⎢                    τₑ₁                     ⎥\n",
       "⎢                                            ⎥\n",
       "⎢                    -y₂                     ⎥\n",
       "⎢                    ────                    ⎥\n",
       "⎢                    τₑ₂                     ⎥\n",
       "⎢                                            ⎥\n",
       "⎢                    -x₁                     ⎥\n",
       "⎢                    ────                    ⎥\n",
       "⎢                    τₑ₁                     ⎥\n",
       "⎢                                            ⎥\n",
       "⎢                    -x₂                     ⎥\n",
       "⎢                    ────                    ⎥\n",
       "⎢                    τₑ₂                     ⎥\n",
       "⎢                                            ⎥\n",
       "⎢                         2     2     2     2⎥\n",
       "⎢       ⎛   1     1 ⎞   x₂    y₂    x₁    y₁ ⎥\n",
       "⎢  L₂⋅ρ⋅⎜- ─── + ───⎟   ─── + ───   ─── + ───⎥\n",
       "⎢       ⎝  τₐ₂   τₐ₁⎠    2     2     2     2 ⎥\n",
       "⎢- ────────────────── - ───────── - ─────────⎥\n",
       "⎣     2⋅(3⋅ρ + 2)          τₑ₂         τₑ₁   ⎦"
      ]
     },
     "execution_count": 16,
     "metadata": {},
     "output_type": "execute_result"
    }
   ],
   "source": [
    "newdisflow_approx"
   ]
  },
  {
   "cell_type": "markdown",
   "id": "4ebb6d76",
   "metadata": {},
   "source": [
    "We'll need to substitute the following numerical values into our equations of motion in a few places:"
   ]
  },
  {
   "cell_type": "code",
   "execution_count": 17,
   "id": "8ceddb21",
   "metadata": {},
   "outputs": [
    {
     "data": {
      "text/latex": [
       "$\\displaystyle \\left\\{ L_{2} : 0.000381298367157599, \\  \\rho : 0.310703495100216\\right\\}$"
      ],
      "text/plain": [
       "{L₂: 0.000381298367157599, ρ: 0.3107034951002157}"
      ]
     },
     "execution_count": 17,
     "metadata": {},
     "output_type": "execute_result"
    }
   ],
   "source": [
    "newpars = {L2res:L2val,rho:rho_val}\n",
    "newpars"
   ]
  },
  {
   "cell_type": "markdown",
   "id": "5abd0ba5",
   "metadata": {},
   "source": [
    "conservative flow expressed in term of dynamical variables (need to augment with $\\dot{D}=0$)"
   ]
  },
  {
   "cell_type": "code",
   "execution_count": 18,
   "id": "ac5981ca",
   "metadata": {},
   "outputs": [
    {
     "data": {
      "text/latex": [
       "$\\displaystyle \\left\\{D, L_{2}, \\rho, x_{1}, x_{2}, y_{1}, y_{2}\\right\\}$"
      ],
      "text/plain": [
       "{D, L₂, ρ, x₁, x₂, y₁, y₂}"
      ]
     },
     "execution_count": 18,
     "metadata": {},
     "output_type": "execute_result"
    }
   ],
   "source": [
    "newflow = ham2.flow.subs(subsrule).subs(ham2.H_params)\n",
    "newflow.free_symbols"
   ]
  },
  {
   "cell_type": "markdown",
   "id": "16cd75ce",
   "metadata": {},
   "source": [
    "dissipative flow in terms of new dynamical varaibles:"
   ]
  },
  {
   "cell_type": "code",
   "execution_count": 19,
   "id": "0850cd3b",
   "metadata": {},
   "outputs": [
    {
     "data": {
      "text/latex": [
       "$\\displaystyle \\left[ y_{1}, \\  y_{2}, \\  x_{1}, \\  x_{2}\\right]$"
      ],
      "text/plain": [
       "[y₁, y₂, x₁, x₂]"
      ]
     },
     "execution_count": 19,
     "metadata": {},
     "output_type": "execute_result"
    }
   ],
   "source": [
    "ham2.qp_vars"
   ]
  },
  {
   "cell_type": "code",
   "execution_count": 20,
   "id": "8003bd55",
   "metadata": {},
   "outputs": [
    {
     "data": {
      "text/latex": [
       "$\\displaystyle \\left[\\begin{matrix}- \\frac{C_{(3,-2,-1,0,0,0)}^{(0,0,0,0),(0,0)}(\\alpha_{1,2}) G m_{1} m_{2}}{\\sqrt{\\Lambda_{1,0}} a_{2,0}} - \\frac{2 G^{2} M_{1}^{2} \\mu_{1}^{3} x_{1}}{\\left(- 2 L + \\Psi - x_{1}^{2} - x_{2}^{2} - y_{1}^{2} - y_{2}^{2}\\right)^{3}} + \\frac{3 G^{2} M_{2}^{2} \\mu_{2}^{3} x_{1}}{\\left(3 L - \\Psi + \\frac{3 x_{1}^{2}}{2} + \\frac{3 x_{2}^{2}}{2} + \\frac{3 y_{1}^{2}}{2} + \\frac{3 y_{2}^{2}}{2}\\right)^{3}}\\\\- \\frac{C_{(3,-2,0,-1,0,0)}^{(0,0,0,0),(0,0)}(\\alpha_{1,2}) G m_{1} m_{2}}{\\sqrt{\\Lambda_{2,0}} a_{2,0}} - \\frac{2 G^{2} M_{1}^{2} \\mu_{1}^{3} x_{2}}{\\left(- 2 L + \\Psi - x_{1}^{2} - x_{2}^{2} - y_{1}^{2} - y_{2}^{2}\\right)^{3}} + \\frac{3 G^{2} M_{2}^{2} \\mu_{2}^{3} x_{2}}{\\left(3 L - \\Psi + \\frac{3 x_{1}^{2}}{2} + \\frac{3 x_{2}^{2}}{2} + \\frac{3 y_{1}^{2}}{2} + \\frac{3 y_{2}^{2}}{2}\\right)^{3}}\\\\\\frac{2 G^{2} M_{1}^{2} \\mu_{1}^{3} y_{1}}{\\left(- 2 L + \\Psi - x_{1}^{2} - x_{2}^{2} - y_{1}^{2} - y_{2}^{2}\\right)^{3}} - \\frac{3 G^{2} M_{2}^{2} \\mu_{2}^{3} y_{1}}{\\left(3 L - \\Psi + \\frac{3 x_{1}^{2}}{2} + \\frac{3 x_{2}^{2}}{2} + \\frac{3 y_{1}^{2}}{2} + \\frac{3 y_{2}^{2}}{2}\\right)^{3}}\\\\\\frac{2 G^{2} M_{1}^{2} \\mu_{1}^{3} y_{2}}{\\left(- 2 L + \\Psi - x_{1}^{2} - x_{2}^{2} - y_{1}^{2} - y_{2}^{2}\\right)^{3}} - \\frac{3 G^{2} M_{2}^{2} \\mu_{2}^{3} y_{2}}{\\left(3 L - \\Psi + \\frac{3 x_{1}^{2}}{2} + \\frac{3 x_{2}^{2}}{2} + \\frac{3 y_{1}^{2}}{2} + \\frac{3 y_{2}^{2}}{2}\\right)^{3}}\\end{matrix}\\right]$"
      ],
      "text/plain": [
       "⎡                                                                              2   2   3                              \n",
       "⎢  C_{(3,-2,-1,0,0,0)}_{1,2})__{(0,0,0,0),(0,0)}(\\alpha⋅G⋅m₁⋅m₂             2⋅G ⋅M₁ ⋅μ₁ ⋅x₁                          3\n",
       "⎢- ──────────────────────────────────────────────────────────── - ─────────────────────────────────── + ──────────────\n",
       "⎢                     _______________                                                               3                 \n",
       "⎢                   ╲╱ \\Lambda_{1,0} ⋅a_{2,0}                     ⎛             2     2     2     2⎞    ⎛             \n",
       "⎢                                                                 ⎝-2⋅L + Ψ - x₁  - x₂  - y₁  - y₂ ⎠    ⎜          3⋅x\n",
       "⎢                                                                                                       ⎜3⋅L - Ψ + ───\n",
       "⎢                                                                                                       ⎝            2\n",
       "⎢                                                                                                                     \n",
       "⎢                                                                              2   2   3                              \n",
       "⎢  C_{(3,-2,0,-1,0,0)}_{1,2})__{(0,0,0,0),(0,0)}(\\alpha⋅G⋅m₁⋅m₂             2⋅G ⋅M₁ ⋅μ₁ ⋅x₂                          3\n",
       "⎢- ──────────────────────────────────────────────────────────── - ─────────────────────────────────── + ──────────────\n",
       "⎢                     _______________                                                               3                 \n",
       "⎢                   ╲╱ \\Lambda_{2,0} ⋅a_{2,0}                     ⎛             2     2     2     2⎞    ⎛             \n",
       "⎢                                                                 ⎝-2⋅L + Ψ - x₁  - x₂  - y₁  - y₂ ⎠    ⎜          3⋅x\n",
       "⎢                                                                                                       ⎜3⋅L - Ψ + ───\n",
       "⎢                                                                                                       ⎝            2\n",
       "⎢                                                                                                                     \n",
       "⎢                                             2   2   3                                2   2   3                      \n",
       "⎢                                          2⋅G ⋅M₁ ⋅μ₁ ⋅y₁                          3⋅G ⋅M₂ ⋅μ₂ ⋅y₁                   \n",
       "⎢                                ─────────────────────────────────── - ──────────────────────────────────────────     \n",
       "⎢                                                                  3                                            3     \n",
       "⎢                                ⎛             2     2     2     2⎞    ⎛              2       2       2       2⎞      \n",
       "⎢                                ⎝-2⋅L + Ψ - x₁  - x₂  - y₁  - y₂ ⎠    ⎜          3⋅x₁    3⋅x₂    3⋅y₁    3⋅y₂ ⎟      \n",
       "⎢                                                                      ⎜3⋅L - Ψ + ───── + ───── + ───── + ─────⎟      \n",
       "⎢                                                                      ⎝            2       2       2       2  ⎠      \n",
       "⎢                                                                                                                     \n",
       "⎢                                             2   2   3                                2   2   3                      \n",
       "⎢                                          2⋅G ⋅M₁ ⋅μ₁ ⋅y₂                          3⋅G ⋅M₂ ⋅μ₂ ⋅y₂                   \n",
       "⎢                                ─────────────────────────────────── - ──────────────────────────────────────────     \n",
       "⎢                                                                  3                                            3     \n",
       "⎢                                ⎛             2     2     2     2⎞    ⎛              2       2       2       2⎞      \n",
       "⎢                                ⎝-2⋅L + Ψ - x₁  - x₂  - y₁  - y₂ ⎠    ⎜          3⋅x₁    3⋅x₂    3⋅y₁    3⋅y₂ ⎟      \n",
       "⎢                                                                      ⎜3⋅L - Ψ + ───── + ───── + ───── + ─────⎟      \n",
       "⎣                                                                      ⎝            2       2       2       2  ⎠      \n",
       "\n",
       "  2   2   3                 ⎤\n",
       "⋅G ⋅M₂ ⋅μ₂ ⋅x₁              ⎥\n",
       "────────────────────────────⎥\n",
       "                           3⎥\n",
       " 2       2       2       2⎞ ⎥\n",
       "₁    3⋅x₂    3⋅y₁    3⋅y₂ ⎟ ⎥\n",
       "── + ───── + ───── + ─────⎟ ⎥\n",
       "       2       2       2  ⎠ ⎥\n",
       "                            ⎥\n",
       "  2   2   3                 ⎥\n",
       "⋅G ⋅M₂ ⋅μ₂ ⋅x₂              ⎥\n",
       "────────────────────────────⎥\n",
       "                           3⎥\n",
       " 2       2       2       2⎞ ⎥\n",
       "₁    3⋅x₂    3⋅y₁    3⋅y₂ ⎟ ⎥\n",
       "── + ───── + ───── + ─────⎟ ⎥\n",
       "       2       2       2  ⎠ ⎥\n",
       "                            ⎥\n",
       "                            ⎥\n",
       "                            ⎥\n",
       "                            ⎥\n",
       "                            ⎥\n",
       "                            ⎥\n",
       "                            ⎥\n",
       "                            ⎥\n",
       "                            ⎥\n",
       "                            ⎥\n",
       "                            ⎥\n",
       "                            ⎥\n",
       "                            ⎥\n",
       "                            ⎥\n",
       "                            ⎥\n",
       "                            ⎥\n",
       "                            ⎥\n",
       "                            ⎦"
      ]
     },
     "execution_count": 20,
     "metadata": {},
     "output_type": "execute_result"
    }
   ],
   "source": [
    "ham2.flow"
   ]
  },
  {
   "cell_type": "code",
   "execution_count": 21,
   "id": "988d6c8d",
   "metadata": {},
   "outputs": [],
   "source": [
    "def get_tau_alphas(tau_alpha, m_inner, m_outer, period_ratio):\n",
    "    # use Kepler's third law to compute the ratio of semi-major axes in resonance from the period ratio in resonance\n",
    "    sma_ratio = period_ratio ** (2/3)  # ratio of outer planet's semi-major axis to inner\n",
    "    # define matrix A\n",
    "    A = np.array([[-1, 1],\n",
    "                 [m_outer, m_inner * sma_ratio]])\n",
    "    # compute gamma_1 and gamma_2\n",
    "    gammas = np.matmul(np.linalg.inv(A), np.array([-1/tau_alpha, 0]))\n",
    "    # gamma = 1/tau\n",
    "    taus = 1/gammas\n",
    "    \n",
    "    return tuple(taus)  # returns (tau_alpha_outer, tau_alpha_inner) as a tuple"
   ]
  },
  {
   "cell_type": "code",
   "execution_count": 22,
   "id": "37cf7334",
   "metadata": {},
   "outputs": [
    {
     "data": {
      "text/latex": [
       "$\\displaystyle \\left\\{D, L_{2}, \\rho, x_{1}, x_{2}, y_{1}, y_{2}\\right\\}$"
      ],
      "text/plain": [
       "{D, L₂, ρ, x₁, x₂, y₁, y₂}"
      ]
     },
     "execution_count": 22,
     "metadata": {},
     "output_type": "execute_result"
    }
   ],
   "source": [
    "newflow.free_symbols"
   ]
  },
  {
   "cell_type": "code",
   "execution_count": 23,
   "id": "d66084a4",
   "metadata": {},
   "outputs": [
    {
     "data": {
      "text/latex": [
       "$\\displaystyle \\left\\{ L_{2} : 0.000381298367157599, \\  \\rho : 0.310703495100216\\right\\}$"
      ],
      "text/plain": [
       "{L₂: 0.000381298367157599, ρ: 0.3107034951002157}"
      ]
     },
     "execution_count": 23,
     "metadata": {},
     "output_type": "execute_result"
    }
   ],
   "source": [
    "# newpars = {L2res:L2val,rho:rho_val}\n",
    "newpars"
   ]
  },
  {
   "cell_type": "code",
   "execution_count": 24,
   "id": "a2e1fd87",
   "metadata": {},
   "outputs": [],
   "source": [
    "# full flow is the conservative flow matrix augmented with Ddot = 0 plus the dissipative flow matrix\n",
    "# also with rho and L2 substitute dinto the conservative flow matrix\n",
    "newflow_N = newflow.subs(newpars)\n",
    "newdisflow_approx_N = newdisflow_approx.subs(newpars)\n",
    "# full flow\n",
    "fullflow = sp.Matrix(list(newflow_N) + [0]) + newdisflow_approx_N\n",
    "\n",
    "taus = [tau_a1,tau_a2,tau_e1,tau_e2]\n",
    "dyvars = [y1, y2, x1, x2, D]\n",
    "\n",
    "flow_fn=sp.lambdify(dyvars+taus,fullflow)\n",
    "\n",
    "jac_fn=sp.lambdify(\n",
    "    dyvars+taus,\n",
    "    sp.Matrix(5,5,lambda i,j : sp.diff(fullflow[i],dyvars[j]) )\n",
    ")\n",
    "\n",
    "# negative so it works properly\n",
    "tauvals = list(get_tau_alphas(-50 * 1e3, masses[0], masses[1], period_ratio=3/2)) + [1e3, 1e3]\n",
    "\n",
    "# tauvals = [-1e5,+1e5,1e3,1e3]\n",
    "# tauvals, list(get_tau_alphas(-50 * 1e3, masses[0], masses[1], period_ratio=3/2)) + [1e3, 1e3]"
   ]
  },
  {
   "cell_type": "code",
   "execution_count": 25,
   "id": "d7daa7dc",
   "metadata": {},
   "outputs": [
    {
     "name": "stdout",
     "output_type": "stream",
     "text": [
      "  message: The solver successfully reached the end of the integration interval.\n",
      "  success: True\n",
      "   status: 0\n",
      "        t: [ 0.000e+00  3.015e+01 ...  5.970e+03  6.000e+03]\n",
      "        y: [[ 0.000e+00  2.840e-04 ...  8.838e-06  8.839e-06]\n",
      "            [ 0.000e+00 -1.954e-04 ... -6.081e-06 -6.081e-06]\n",
      "            ...\n",
      "            [ 0.000e+00 -2.096e-04 ... -5.080e-04 -5.081e-04]\n",
      "            [-1.626e-07 -1.527e-07 ...  3.168e-07  3.169e-07]]\n",
      "      sol: None\n",
      " t_events: None\n",
      " y_events: None\n",
      "     nfev: 11902\n",
      "     njev: 532\n",
      "      nlu: 2256\n"
     ]
    }
   ],
   "source": [
    "from scipy.integrate import solve_ivp\n",
    "\n",
    "times = np.linspace(0,6e3,200)\n",
    "f=lambda t,x: flow_fn(*x,*tauvals).reshape(-1)\n",
    "Df = lambda t,x: jac_fn(*x,*tauvals)\n",
    "soln=solve_ivp(f,(times[0],times[-1]),[0,0,0,0,float(Dval)],method='Radau',t_eval=times,jac=Df)\n",
    "print(soln)\n",
    "# root=newton_solve(f,Df,soln.y.T[-1])"
   ]
  },
  {
   "cell_type": "code",
   "execution_count": 26,
   "id": "28aa35bd",
   "metadata": {},
   "outputs": [
    {
     "data": {
      "text/plain": [
       "[<matplotlib.lines.Line2D at 0x7f81c2ad9450>]"
      ]
     },
     "execution_count": 26,
     "metadata": {},
     "output_type": "execute_result"
    },
    {
     "data": {
      "image/png": "[encoded data removed]",
      "text/plain": [
       "<Figure size 640x480 with 2 Axes>"
      ]
     },
     "metadata": {},
     "output_type": "display_data"
    }
   ],
   "source": [
    "fig,ax= plt.subplots(2,1,sharex=True)\n",
    "ax[0].plot(times,soln.y[-1])\n",
    "ax[1].plot(soln.t,soln.y[0])\n",
    "ax[1].plot(soln.t,soln.y[1])\n",
    "ax[1].plot(soln.t,soln.y[2])\n",
    "ax[1].plot(soln.t,soln.y[3])"
   ]
  },
  {
   "cell_type": "code",
   "execution_count": 27,
   "id": "99eea9b9",
   "metadata": {},
   "outputs": [],
   "source": [
    "import warnings\n",
    "#warnings.filterwarnings(\"ignore\")\n",
    "from scipy.linalg import solve as lin_solve\n",
    "def newton_solve(fun,Dfun,guess,max_iter=100,rtol=1e-6,atol=1e-12):\n",
    "    y = guess.copy()\n",
    "    for itr in range(max_iter):\n",
    "        f = fun(y)\n",
    "        Df = Dfun(y)\n",
    "        dy = -1 * lin_solve(Df,f)\n",
    "        y+=dy\n",
    "        if np.alltrue( np.abs(dy) < rtol * np.abs(y) + atol ):\n",
    "            break\n",
    "    else:\n",
    "        warnings.warn(\"did not converge\")\n",
    "    return y"
   ]
  },
  {
   "cell_type": "code",
   "execution_count": 28,
   "id": "5b74875b",
   "metadata": {},
   "outputs": [
    {
     "name": "stdout",
     "output_type": "stream",
     "text": [
      "[ 8.83900446e-06 -6.08125146e-06  7.38458260e-04 -5.08060652e-04\n",
      "  3.16852083e-07]\n"
     ]
    }
   ],
   "source": [
    "print(soln.y.T[-1])"
   ]
  },
  {
   "cell_type": "code",
   "execution_count": 29,
   "id": "a6c19774",
   "metadata": {},
   "outputs": [
    {
     "data": {
      "text/plain": [
       "<matplotlib.legend.Legend at 0x7f81be92e890>"
      ]
     },
     "execution_count": 29,
     "metadata": {},
     "output_type": "execute_result"
    },
    {
     "data": {
      "image/png": "[encoded data removed]",
      "text/plain": [
       "<Figure size 640x480 with 1 Axes>"
      ]
     },
     "metadata": {},
     "output_type": "display_data"
    }
   ],
   "source": [
    "f=lambda x: flow_fn(*x,*tauvals).reshape(-1)\n",
    "Df = lambda x: jac_fn(*x,*tauvals)\n",
    "root=newton_solve(f,Df,soln.y.T[-1])\n",
    "\n",
    "plt.plot(soln.t,soln.y[0], label = 'y1')\n",
    "plt.plot(soln.t,soln.y[1], label = 'y2')\n",
    "plt.plot(soln.t,soln.y[2], label= 'x1')\n",
    "plt.plot(soln.t,soln.y[3], label = 'x2')\n",
    "for i, r in enumerate(root[:4]):\n",
    "    plt.axhline(r,color='k')\n",
    "plt.legend()"
   ]
  },
  {
   "cell_type": "code",
   "execution_count": 30,
   "id": "895a0f23",
   "metadata": {},
   "outputs": [
    {
     "data": {
      "text/latex": [
       "$\\displaystyle \\left[ 50.0 \\tau_{e}\\right]$"
      ],
      "text/plain": [
       "[50.0⋅τₑ]"
      ]
     },
     "execution_count": 30,
     "metadata": {},
     "output_type": "execute_result"
    }
   ],
   "source": [
    "tau_alpha_sym, tau_e = sp.symbols('tau_alpha, tau_e')\n",
    "\n",
    "xydict = dict(zip(dyvars, root))    \n",
    "# sub with the equilibrium values of d, y1, y2, x1, x2, set ddot = 0 and set tau a1 equal to tau a2\n",
    "fullflow_N = fullflow.subs(xydict).subs([(-tau_e2, tau_e), (-tau_e1, tau_e)])[4]\n",
    "\n",
    "# substitute 1/tau_a = 1/tau_a1 - 1/tau_a2 usign the coefficient\n",
    "\n",
    "ddot_eq = fullflow_N.subs(-fullflow_N.coeff(1/tau_a2)/tau_alpha, -fullflow_N.coeff(1/tau_a2)/tau_alpha_sym)\n",
    "sp.solve(ddot_eq, tau_alpha_sym)"
   ]
  },
  {
   "cell_type": "code",
   "execution_count": 31,
   "id": "cf29ac7b",
   "metadata": {},
   "outputs": [
    {
     "data": {
      "text/plain": [
       "True"
      ]
     },
     "execution_count": 31,
     "metadata": {},
     "output_type": "execute_result"
    }
   ],
   "source": [
    "tau_a1 in fullflow_N.free_symbols"
   ]
  },
  {
   "cell_type": "code",
   "execution_count": 32,
   "id": "e697021a",
   "metadata": {},
   "outputs": [
    {
     "data": {
      "text/latex": [
       "$\\displaystyle \\left[ 50.0\\right]$"
      ],
      "text/plain": [
       "[50.0]"
      ]
     },
     "execution_count": 32,
     "metadata": {},
     "output_type": "execute_result"
    }
   ],
   "source": [
    "K = sp.symbols('K')\n",
    "\n",
    "sp.solve(sp.simplify(fullflow_N.subs(tau_a1, 1/(1/tau_alpha_sym + 1/tau_a2)).subs(tau_alpha_sym, K * tau_e)), K)"
   ]
  },
  {
   "cell_type": "code",
   "execution_count": 33,
   "id": "13f4ae7a",
   "metadata": {},
   "outputs": [],
   "source": [
    "def D_to_K(flow_mat, root, dyvars=dyvars):\n",
    "    \"\"\"\n",
    "    Computes K = tau_a/tau_e using the flow matrix and its roots\n",
    "    \n",
    "    Flow matrix is in the form zdot = d/dt[y1, y2, x1, x2, D] and settting D_dot to 0   \n",
    "    Root is vector in the from z = [y1, y2, x1, x2, D]\n",
    "    \n",
    "    Flow matrix should have free symbols for tau_a1, tau_a2, tau_e1, tau_e2, x1, x2, y1, y2, D\n",
    "    (rho and L2 values should be replaced before passing to the function)\n",
    "    \"\"\"\n",
    "    tau_alpha_sym, tau_e, K = sp.symbols('tau_alpha, tau_e, K')\n",
    "    # sub with equilibrium values of y1, y2, x1, x2, d, and set tau_e1 = tau_e2 = tau_e\n",
    "    xydict = dict(zip(dyvars, root))    \n",
    "    # tau_e1, tau_e2, tau_a1, tau_a2 need to be defined\n",
    "    flow_mat_N = flow_mat.subs(xydict).subs([(-tau_e2, tau_e), (-tau_e1, tau_e)])[-1]  # D entry is at the end of the matrix\n",
    "    # substitute tau_a1 = 1/(1/tau_a + 1/tau_a2) and them sub in tau_a = K * tau_e into the sympy expression\n",
    "    ddot_eq = flow_mat_N.subs(tau_a1, 1/(1/tau_alpha_sym + 1/tau_a2)).subs(tau_alpha_sym, K * tau_e)\n",
    "    # return solving for tau_a in terms of tau_e (coefficient is equal to K)\n",
    "    return sp.solve(ddot_eq, K)[0]  # since sp.solve returns a singleton list"
   ]
  },
  {
   "cell_type": "code",
   "execution_count": 34,
   "id": "d371bc79",
   "metadata": {},
   "outputs": [],
   "source": [
    "Ddot_dis = -1*factor *(1/sp.S(2))* 1/tau_alpha - p1/tau_e1 - p2/tau_e2\n",
    "newdisflow_approx = sp.Matrix([(newdisflow[i] if i<4 else Ddot_dis) for i in range(5)])\n",
    "fullflow = sp.Matrix(list(newflow) + [0]) + newdisflow_approx# .subs(newpars) \n",
    "\n",
    "flow_fn=sp.lambdify(dyvars+taus,fullflow.subs(newpars))  # sub in newpars for this case\n",
    "jac_fn=sp.lambdify(dyvars+taus, sp.Matrix(5,5,lambda i,j : sp.diff(fullflow.subs(newpars)[i],dyvars[j]))) # sub newpars here too\n"
   ]
  },
  {
   "cell_type": "code",
   "execution_count": 35,
   "id": "a99bfffb",
   "metadata": {},
   "outputs": [
    {
     "data": {
      "text/latex": [
       "$\\displaystyle \\left( \\left[\\begin{matrix}- \\frac{2.07565377811965 \\cdot 10^{-11} x_{1}}{\\left(2 D - 2 L_{2} \\left(\\rho + 1\\right) + L_{2} \\cdot \\left(3 \\rho + 2\\right) - x_{1}^{2} - x_{2}^{2} - y_{1}^{2} - y_{2}^{2}\\right)^{3}} + \\frac{6.91743266420866 \\cdot 10^{-10} x_{1}}{\\left(- 3 D + 3 L_{2} \\left(\\rho + 1\\right) - L_{2} \\cdot \\left(3 \\rho + 2\\right) + \\frac{3 x_{1}^{2}}{2} + \\frac{3 x_{2}^{2}}{2} + \\frac{3 y_{1}^{2}}{2} + \\frac{3 y_{2}^{2}}{2}\\right)^{3}} + 6.18604945527417 \\cdot 10^{-5} - \\frac{y_{1}}{\\tau_{e1}}\\\\- \\frac{2.07565377811965 \\cdot 10^{-11} x_{2}}{\\left(2 D - 2 L_{2} \\left(\\rho + 1\\right) + L_{2} \\cdot \\left(3 \\rho + 2\\right) - x_{1}^{2} - x_{2}^{2} - y_{1}^{2} - y_{2}^{2}\\right)^{3}} + \\frac{6.91743266420866 \\cdot 10^{-10} x_{2}}{\\left(- 3 D + 3 L_{2} \\left(\\rho + 1\\right) - L_{2} \\cdot \\left(3 \\rho + 2\\right) + \\frac{3 x_{1}^{2}}{2} + \\frac{3 x_{2}^{2}}{2} + \\frac{3 y_{1}^{2}}{2} + \\frac{3 y_{2}^{2}}{2}\\right)^{3}} - 4.25601349576217 \\cdot 10^{-5} - \\frac{y_{2}}{\\tau_{e2}}\\\\\\frac{2.07565377811965 \\cdot 10^{-11} y_{1}}{\\left(2 D - 2 L_{2} \\left(\\rho + 1\\right) + L_{2} \\cdot \\left(3 \\rho + 2\\right) - x_{1}^{2} - x_{2}^{2} - y_{1}^{2} - y_{2}^{2}\\right)^{3}} - \\frac{6.91743266420866 \\cdot 10^{-10} y_{1}}{\\left(- 3 D + 3 L_{2} \\left(\\rho + 1\\right) - L_{2} \\cdot \\left(3 \\rho + 2\\right) + \\frac{3 x_{1}^{2}}{2} + \\frac{3 x_{2}^{2}}{2} + \\frac{3 y_{1}^{2}}{2} + \\frac{3 y_{2}^{2}}{2}\\right)^{3}} - \\frac{x_{1}}{\\tau_{e1}}\\\\\\frac{2.07565377811965 \\cdot 10^{-11} y_{2}}{\\left(2 D - 2 L_{2} \\left(\\rho + 1\\right) + L_{2} \\cdot \\left(3 \\rho + 2\\right) - x_{1}^{2} - x_{2}^{2} - y_{1}^{2} - y_{2}^{2}\\right)^{3}} - \\frac{6.91743266420866 \\cdot 10^{-10} y_{2}}{\\left(- 3 D + 3 L_{2} \\left(\\rho + 1\\right) - L_{2} \\cdot \\left(3 \\rho + 2\\right) + \\frac{3 x_{1}^{2}}{2} + \\frac{3 x_{2}^{2}}{2} + \\frac{3 y_{1}^{2}}{2} + \\frac{3 y_{2}^{2}}{2}\\right)^{3}} - \\frac{x_{2}}{\\tau_{e2}}\\\\- \\frac{L_{2} \\rho \\left(- \\frac{1}{\\tau_{a2}} + \\frac{1}{\\tau_{a1}}\\right)}{2 \\cdot \\left(3 \\rho + 2\\right)} - \\frac{\\frac{x_{2}^{2}}{2} + \\frac{y_{2}^{2}}{2}}{\\tau_{e2}} - \\frac{\\frac{x_{1}^{2}}{2} + \\frac{y_{1}^{2}}{2}}{\\tau_{e1}}\\end{matrix}\\right], \\  \\left\\{D, L_{2}, \\rho, \\tau_{a1}, \\tau_{a2}, \\tau_{e1}, \\tau_{e2}, x_{1}, x_{2}, y_{1}, y_{2}\\right\\}\\right)$"
      ],
      "text/plain": [
       "⎛⎡                    2.07565377811965e-11⋅x₁                                             6.91743266420866e-10⋅x₁     \n",
       "⎜⎢- ──────────────────────────────────────────────────────────── + ───────────────────────────────────────────────────\n",
       "⎜⎢                                                             3                                                      \n",
       "⎜⎢  ⎛                                      2     2     2     2⎞    ⎛                                         2       2\n",
       "⎜⎢  ⎝2⋅D - 2⋅L₂⋅(ρ + 1) + L₂⋅(3⋅ρ + 2) - x₁  - x₂  - y₁  - y₂ ⎠    ⎜                                     3⋅x₁    3⋅x₂ \n",
       "⎜⎢                                                                 ⎜-3⋅D + 3⋅L₂⋅(ρ + 1) - L₂⋅(3⋅ρ + 2) + ───── + ─────\n",
       "⎜⎢                                                                 ⎝                                       2       2  \n",
       "⎜⎢                                                                                                                    \n",
       "⎜⎢                    2.07565377811965e-11⋅x₂                                             6.91743266420866e-10⋅x₂     \n",
       "⎜⎢- ──────────────────────────────────────────────────────────── + ───────────────────────────────────────────────────\n",
       "⎜⎢                                                             3                                                      \n",
       "⎜⎢  ⎛                                      2     2     2     2⎞    ⎛                                         2       2\n",
       "⎜⎢  ⎝2⋅D - 2⋅L₂⋅(ρ + 1) + L₂⋅(3⋅ρ + 2) - x₁  - x₂  - y₁  - y₂ ⎠    ⎜                                     3⋅x₁    3⋅x₂ \n",
       "⎜⎢                                                                 ⎜-3⋅D + 3⋅L₂⋅(ρ + 1) - L₂⋅(3⋅ρ + 2) + ───── + ─────\n",
       "⎜⎢                                                                 ⎝                                       2       2  \n",
       "⎜⎢                                                                                                                    \n",
       "⎜⎢                              2.07565377811965e-11⋅y₁                                             6.91743266420866e-\n",
       "⎜⎢            ──────────────────────────────────────────────────────────── - ─────────────────────────────────────────\n",
       "⎜⎢                                                                       3                                            \n",
       "⎜⎢            ⎛                                      2     2     2     2⎞    ⎛                                        \n",
       "⎜⎢            ⎝2⋅D - 2⋅L₂⋅(ρ + 1) + L₂⋅(3⋅ρ + 2) - x₁  - x₂  - y₁  - y₂ ⎠    ⎜                                     3⋅x\n",
       "⎜⎢                                                                           ⎜-3⋅D + 3⋅L₂⋅(ρ + 1) - L₂⋅(3⋅ρ + 2) + ───\n",
       "⎜⎢                                                                           ⎝                                       2\n",
       "⎜⎢                                                                                                                    \n",
       "⎜⎢                              2.07565377811965e-11⋅y₂                                             6.91743266420866e-\n",
       "⎜⎢            ──────────────────────────────────────────────────────────── - ─────────────────────────────────────────\n",
       "⎜⎢                                                                       3                                            \n",
       "⎜⎢            ⎛                                      2     2     2     2⎞    ⎛                                        \n",
       "⎜⎢            ⎝2⋅D - 2⋅L₂⋅(ρ + 1) + L₂⋅(3⋅ρ + 2) - x₁  - x₂  - y₁  - y₂ ⎠    ⎜                                     3⋅x\n",
       "⎜⎢                                                                           ⎜-3⋅D + 3⋅L₂⋅(ρ + 1) - L₂⋅(3⋅ρ + 2) + ───\n",
       "⎜⎢                                                                           ⎝                                       2\n",
       "⎜⎢                                                                                                                    \n",
       "⎜⎢                                                                                    2     2     2     2             \n",
       "⎜⎢                                                                  ⎛   1     1 ⎞   x₂    y₂    x₁    y₁              \n",
       "⎜⎢                                                             L₂⋅ρ⋅⎜- ─── + ───⎟   ─── + ───   ─── + ───             \n",
       "⎜⎢                                                                  ⎝  τₐ₂   τₐ₁⎠    2     2     2     2              \n",
       "⎜⎢                                                           - ────────────────── - ───────── - ─────────             \n",
       "⎝⎣                                                                2⋅(3⋅ρ + 2)          τₑ₂         τₑ₁                \n",
       "\n",
       "                                            y₁⎤                                                ⎞\n",
       "────────────────── + 6.18604945527417e-5 - ───⎥                                                ⎟\n",
       "                 3                         τₑ₁⎥                                                ⎟\n",
       "       2       2⎞                             ⎥                                                ⎟\n",
       "   3⋅y₁    3⋅y₂ ⎟                             ⎥                                                ⎟\n",
       " + ───── + ─────⎟                             ⎥                                                ⎟\n",
       "     2       2  ⎠                             ⎥                                                ⎟\n",
       "                                              ⎥                                                ⎟\n",
       "                                            y₂⎥                                                ⎟\n",
       "────────────────── - 4.25601349576217e-5 - ───⎥                                                ⎟\n",
       "                 3                         τₑ₂⎥                                                ⎟\n",
       "       2       2⎞                             ⎥                                                ⎟\n",
       "   3⋅y₁    3⋅y₂ ⎟                             ⎥                                                ⎟\n",
       " + ───── + ─────⎟                             ⎥                                                ⎟\n",
       "     2       2  ⎠                             ⎥                                                ⎟\n",
       "                                              ⎥                                                ⎟\n",
       "10⋅y₁                           x₁            ⎥                                                ⎟\n",
       "──────────────────────────── - ───            ⎥                                                ⎟\n",
       "                           3   τₑ₁            ⎥                                                ⎟\n",
       " 2       2       2       2⎞                   ⎥, {D, L₂, ρ, τₐ₁, τₐ₂, τₑ₁, τₑ₂, x₁, x₂, y₁, y₂}⎟\n",
       "₁    3⋅x₂    3⋅y₁    3⋅y₂ ⎟                   ⎥                                                ⎟\n",
       "── + ───── + ───── + ─────⎟                   ⎥                                                ⎟\n",
       "       2       2       2  ⎠                   ⎥                                                ⎟\n",
       "                                              ⎥                                                ⎟\n",
       "10⋅y₂                           x₂            ⎥                                                ⎟\n",
       "──────────────────────────── - ───            ⎥                                                ⎟\n",
       "                           3   τₑ₂            ⎥                                                ⎟\n",
       " 2       2       2       2⎞                   ⎥                                                ⎟\n",
       "₁    3⋅x₂    3⋅y₁    3⋅y₂ ⎟                   ⎥                                                ⎟\n",
       "── + ───── + ───── + ─────⎟                   ⎥                                                ⎟\n",
       "       2       2       2  ⎠                   ⎥                                                ⎟\n",
       "                                              ⎥                                                ⎟\n",
       "                                              ⎥                                                ⎟\n",
       "                                              ⎥                                                ⎟\n",
       "                                              ⎥                                                ⎟\n",
       "                                              ⎥                                                ⎟\n",
       "                                              ⎥                                                ⎟\n",
       "                                              ⎦                                                ⎠"
      ]
     },
     "execution_count": 35,
     "metadata": {},
     "output_type": "execute_result"
    }
   ],
   "source": [
    "fullflow, fullflow.free_symbols"
   ]
  },
  {
   "cell_type": "code",
   "execution_count": 36,
   "id": "62196208",
   "metadata": {},
   "outputs": [
    {
     "name": "stderr",
     "output_type": "stream",
     "text": [
      "100it [00:54,  1.85it/s]\n"
     ]
    }
   ],
   "source": [
    "# number of d values\n",
    "nsims = int(1e2)\n",
    "# array of roots\n",
    "roots = np.zeros((nsims, len(dyvars)))\n",
    "\n",
    "# this is constant, tau_e = tau_e1 = tau_e2\n",
    "tau_e_val = 1e3\n",
    "\n",
    "# tau_alpha_vals are K * tau_e_val\n",
    "tau_alpha_vals = np.logspace(0, 4, nsims) * tau_e_val\n",
    "\n",
    "from tqdm import tqdm\n",
    "for i, tau_alpha_val in tqdm(enumerate(tau_alpha_vals)):\n",
    "    # tau_a1, tau_a2 from tau_a, as well as tau_e1, tau_e2 set to the tau_e_val\n",
    "    tauvals = list(get_tau_alphas(-tau_alpha_val, masses[0], masses[1], period_ratio=3/2)) + [tau_e_val, tau_e_val]\n",
    "    f=lambda t,x: flow_fn(*x,*tauvals).reshape(-1)\n",
    "    Df = lambda t,x: jac_fn(*x,*tauvals)\n",
    "    soln=solve_ivp(f,(times[0],times[-1]),[0,0,0,0,float(Dval)],method='Radau',t_eval=times,jac=Df)\n",
    "    f=lambda x: flow_fn(*x,*tauvals).reshape(-1)\n",
    "    Df = lambda x: jac_fn(*x,*tauvals)\n",
    "    # record roots\n",
    "    roots[i] = newton_solve(f,Df,soln.y.T[-1])\n",
    "    \n",
    "# for i, D_val in tqdm(enumerate(np.linspace(lb, ub, nds))):\n",
    "#     f=lambda t,x: flow_fn(*x,*tauvals).reshape(-1)\n",
    "#     Df = lambda t,x: jac_fn(*x,*tauvals)\n",
    "#     soln=solve_ivp(f,(times[0],times[-1]),[0,0,0,0,float(D_val)],method='Radau',t_eval=times,jac=Df)\n",
    "#     f=lambda x: flow_fn(*x,*tauvals).reshape(-1)\n",
    "#     Df = lambda x: jac_fn(*x,*tauvals)\n",
    "#     # record roots\n",
    "#     roots[i] =newton_solve(f,Df,soln.y.T[-1])"
   ]
  },
  {
   "cell_type": "code",
   "execution_count": 37,
   "id": "fb6f9eb0",
   "metadata": {},
   "outputs": [
    {
     "data": {
      "text/latex": [
       "$\\displaystyle \\left[ 1.0, \\  1.09749876549306, \\  1.20450354025878, \\  1.32194114846603, \\  1.45082877849594, \\  1.59228279334109, \\  1.74752840000768, \\  1.9179102616725, \\  2.10490414451202, \\  2.31012970008316, \\  2.53536449397011, \\  2.78255940220712, \\  3.05385550883342, \\  3.35160265093884, \\  3.67837977182863, \\  4.03701725859656, \\  4.43062145758388, \\  4.86260158006536, \\  5.33669923120631, \\  5.85702081805667, \\  6.42807311728433, \\  7.05480231071866, \\  7.74263682681128, \\  8.49753435908644, \\  9.32603346883218, \\  10.2353102189903, \\  11.2332403297803, \\  12.3284673944207, \\  13.5304777457981, \\  14.8496826225446, \\  16.2975083462064, \\  17.8864952905743, \\  19.6304065004027, \\  21.5443469003188, \\  23.6448941264541, \\  25.9502421139974, \\  28.480358684358, \\  31.2571584968824, \\  34.3046928631491, \\  37.6493580679247, \\  41.3201240011534, \\  45.3487850812858, \\  49.7702356433211, \\  54.6227721768435, \\  59.9484250318942, \\  65.7933224657568, \\  72.2080901838547, \\  79.2482898353919, \\  86.9749002617785, \\  95.4548456661833, \\  104.761575278967, \\  114.975699539774, \\  126.185688306602, \\  138.488637139387, \\  151.991108295293, \\  166.810053720006, \\  183.073828029538, \\  200.923300256505, \\  220.513073990305, \\  242.012826479438, \\  265.608778294669, \\  291.505306282518, \\  319.926713779738, \\  351.119173421513, \\  385.352859371053, \\  422.924287438949, \\  464.158883361276, \\  509.413801481588, \\  559.081018251223, \\  613.590727341318, \\  673.415065775084, \\  739.072203352578, \\  811.130830789688, \\  890.21508544504, \\  977.009957299224, \\  1072.26722201032, \\  1176.811952435, \\  1291.54966501488, \\  1417.47416292681, \\  1555.67614393047, \\  1707.35264747069, \\  1873.81742286038, \\  2056.51230834865, \\  2257.01971963392, \\  2477.07635599171, \\  2718.58824273294, \\  2983.64724028334, \\  3274.54916287773, \\  3593.81366380463, \\  3944.20605943766, \\  4328.76128108306, \\  4750.8101621028, \\  5214.00828799969, \\  5722.36765935022, \\  6280.29144183425, \\  6892.61210434971, \\  7564.63327554628, \\  8302.17568131976, \\  9111.62756115489, \\  10000.0\\right]$"
      ],
      "text/plain": [
       "[1.0, 1.09749876549306, 1.20450354025878, 1.32194114846603, 1.45082877849594, 1.59228279334109, 1.74752840000768, 1.91\n",
       "79102616725, 2.10490414451202, 2.31012970008316, 2.53536449397011, 2.78255940220712, 3.05385550883342, 3.3516026509388\n",
       "4, 3.67837977182863, 4.03701725859656, 4.43062145758388, 4.86260158006536, 5.33669923120631, 5.85702081805667, 6.42807\n",
       "311728433, 7.05480231071866, 7.74263682681128, 8.49753435908644, 9.32603346883218, 10.2353102189903, 11.2332403297803,\n",
       " 12.3284673944207, 13.5304777457981, 14.8496826225446, 16.2975083462064, 17.8864952905743, 19.6304065004027, 21.544346\n",
       "9003188, 23.6448941264541, 25.9502421139974, 28.480358684358, 31.2571584968824, 34.3046928631491, 37.6493580679247, 41\n",
       ".3201240011534, 45.3487850812858, 49.7702356433211, 54.6227721768435, 59.9484250318942, 65.7933224657568, 72.208090183\n",
       "8547, 79.2482898353919, 86.9749002617785, 95.4548456661833, 104.761575278967, 114.975699539774, 126.185688306602, 138.\n",
       "488637139387, 151.991108295293, 166.810053720006, 183.073828029538, 200.923300256505, 220.513073990305, 242.0128264794\n",
       "38, 265.608778294669, 291.505306282518, 319.926713779738, 351.119173421513, 385.352859371053, 422.924287438949, 464.15\n",
       "8883361276, 509.413801481588, 559.081018251223, 613.590727341318, 673.415065775084, 739.072203352578, 811.130830789688\n",
       ", 890.21508544504, 977.009957299224, 1072.26722201032, 1176.811952435, 1291.54966501488, 1417.47416292681, 1555.676143\n",
       "93047, 1707.35264747069, 1873.81742286038, 2056.51230834865, 2257.01971963392, 2477.07635599171, 2718.58824273294, 298\n",
       "3.64724028334, 3274.54916287773, 3593.81366380463, 3944.20605943766, 4328.76128108306, 4750.8101621028, 5214.008287999\n",
       "69, 5722.36765935022, 6280.29144183425, 6892.61210434971, 7564.63327554628, 8302.17568131976, 9111.62756115489, 10000.\n",
       "0]"
      ]
     },
     "execution_count": 37,
     "metadata": {},
     "output_type": "execute_result"
    }
   ],
   "source": [
    "# check to see if these match the Ks\n",
    "# substitute newpars into fullflow\n",
    "Ks = [D_to_K(fullflow.subs(newpars), root) for root in roots]\n",
    "Ks"
   ]
  },
  {
   "cell_type": "markdown",
   "id": "577dc3e5",
   "metadata": {},
   "source": [
    "Get pvars from ham2, the (x, y) Hamiltonian:"
   ]
  },
  {
   "cell_type": "code",
   "execution_count": 38,
   "id": "7989541f",
   "metadata": {},
   "outputs": [
    {
     "data": {
      "text/latex": [
       "$\\displaystyle \\left( \\left[ \\lambda_{1}, \\  \\eta_{1}, \\  \\rho_{1}, \\  \\lambda_{2}, \\  \\eta_{2}, \\  \\rho_{2}, \\  \\Lambda_{1}, \\  \\kappa_{1}, \\  \\sigma_{1}, \\  \\Lambda_{2}, \\  \\kappa_{2}, \\  \\sigma_{2}\\right], \\  \\left[ \\theta_{1}, \\  \\theta_{2}, \\  \\psi, \\  l, \\  \\phi_{1}, \\  \\phi_{2}, \\  p_{1}, \\  p_{2}, \\  \\Psi, \\  L, \\  \\Phi_{1}, \\  \\Phi_{2}\\right]\\right)$"
      ],
      "text/plain": [
       "([λ₁, η₁, ρ₁, λ₂, η₂, ρ₂, Λ₁, κ₁, σ₁, Λ₂, κ₂, σ₂], [θ₁, θ₂, ψ, l, φ₁, φ₂, p₁, p₂, Ψ, L, Φ₁, Φ₂])"
      ]
     },
     "execution_count": 38,
     "metadata": {},
     "output_type": "execute_result"
    }
   ],
   "source": [
    "ct1.old_qp_vars, ct1.new_qp_vars"
   ]
  },
  {
   "cell_type": "code",
   "execution_count": 39,
   "id": "b05cc483",
   "metadata": {},
   "outputs": [
    {
     "data": {
      "text/latex": [
       "$\\displaystyle \\left[ - 2 \\lambda_{1} + 3 \\lambda_{2} + \\operatorname{atan}_{2}{\\left(\\eta_{1},\\kappa_{1} \\right)}, \\  - 2 \\lambda_{1} + 3 \\lambda_{2} + \\operatorname{atan}_{2}{\\left(\\eta_{2},\\kappa_{2} \\right)}, \\  \\lambda_{1} - \\lambda_{2}, \\  - 2 \\lambda_{1} + 3 \\lambda_{2}, \\  \\operatorname{atan}_{2}{\\left(\\rho_{1},\\sigma_{1} \\right)}, \\  \\operatorname{atan}_{2}{\\left(\\rho_{2},\\sigma_{2} \\right)}, \\  \\frac{\\eta_{1}^{2}}{2} + \\frac{\\kappa_{1}^{2}}{2}, \\  \\frac{\\eta_{2}^{2}}{2} + \\frac{\\kappa_{2}^{2}}{2}, \\  3 \\Lambda_{1} + 2 \\Lambda_{2}, \\  \\Lambda_{1} + \\Lambda_{2} - \\frac{\\eta_{1}^{2}}{2} - \\frac{\\eta_{2}^{2}}{2} - \\frac{\\kappa_{1}^{2}}{2} - \\frac{\\kappa_{2}^{2}}{2}, \\  \\frac{\\rho_{1}^{2}}{2} + \\frac{\\sigma_{1}^{2}}{2}, \\  \\frac{\\rho_{2}^{2}}{2} + \\frac{\\sigma_{2}^{2}}{2}\\right]$"
      ],
      "text/plain": [
       "⎡                                                                                                                   2 \n",
       "⎢                                                                                                                 η₁  \n",
       "⎢-2⋅λ₁ + 3⋅λ₂ + atan2(η₁, κ₁), -2⋅λ₁ + 3⋅λ₂ + atan2(η₂, κ₂), λ₁ - λ₂, -2⋅λ₁ + 3⋅λ₂, atan2(ρ₁, σ₁), atan2(ρ₂, σ₂), ─── \n",
       "⎣                                                                                                                  2  \n",
       "\n",
       "    2    2     2                           2     2     2     2    2     2    2     2⎤\n",
       "  κ₁   η₂    κ₂                          η₁    η₂    κ₁    κ₂   ρ₁    σ₁   ρ₂    σ₂ ⎥\n",
       "+ ───, ─── + ───, 3⋅Λ₁ + 2⋅Λ₂, Λ₁ + Λ₂ - ─── - ─── - ─── - ───, ─── + ───, ─── + ───⎥\n",
       "   2    2     2                           2     2     2     2    2     2    2     2 ⎦"
      ]
     },
     "execution_count": 39,
     "metadata": {},
     "output_type": "execute_result"
    }
   ],
   "source": [
    "[ct1.new_to_old(var) for var in ct1.new_qp_vars]"
   ]
  },
  {
   "cell_type": "code",
   "execution_count": 40,
   "id": "48eb4cf9",
   "metadata": {},
   "outputs": [
    {
     "data": {
      "text/latex": [
       "$\\displaystyle \\left( \\left[ -1.83873508689674 \\cdot 10^{-11}, \\  1.18801311147697 \\cdot 10^{-11}, \\  -5.2831604335779 \\cdot 10^{-7}, \\  1.58494813007337 \\cdot 10^{-6}, \\  0.0, \\  0.0, \\  -1.16012319385367 \\cdot 10^{-5}, \\  7.49559615822238 \\cdot 10^{-6}, \\  0.00111800894037081, \\  0.000499931689689205, \\  0.0, \\  0.0\\right], \\  \\left[ y_{1}, \\  y_{2}, \\  \\psi, \\  l, \\  \\phi_{1}, \\  \\phi_{2}, \\  x_{1}, \\  x_{2}, \\  \\Psi, \\  L, \\  \\Phi_{1}, \\  \\Phi_{2}\\right]\\right)$"
      ],
      "text/plain": [
       "([-1.8387350868967372e-11, 1.1880131114769659e-11, -5.283160433577905e-07, 1.5849481300733714e-06, -0.0, -0.0, -1.1601\n",
       "23193853671e-05, 7.495596158222381e-06, 0.001118008940370812, 0.0004999316896892047, 0.0, 0.0], [y₁, y₂, ψ, l, φ₁, φ₂,\n",
       " x₁, x₂, Ψ, L, Φ₁, Φ₂])"
      ]
     },
     "execution_count": 40,
     "metadata": {},
     "output_type": "execute_result"
    }
   ],
   "source": [
    "ham2.full_values, ham2.full_qp_vars"
   ]
  },
  {
   "cell_type": "code",
   "execution_count": 41,
   "id": "2b5c411d",
   "metadata": {},
   "outputs": [],
   "source": [
    "e_inner, e_outer = np.zeros(len(roots)), np.zeros(len(roots))\n",
    "\n",
    "# make a sim to get pvars from:\n",
    "sim2 = get_simple_sim(masses, integrator = 'ias15')\n",
    "pvars2 = cm.Poincare.from_Simulation(sim)\n",
    "\n",
    "# indices of dynamical variables y1, y2, x1, x2\n",
    "indices = np.array([ct_all.new_qp_vars.index(v) for v in ham2.qp_vars])\n",
    "# transofmring pvarsfrom old to new values\n",
    "y0 = ct_all.old_to_new_array(pvars2.values)\n",
    "    \n",
    "for i, val in enumerate(roots):\n",
    "    # for each value, take the 4 dynamical variables y1, y2, x1, and x2 (not including D) and set those as our y0 values\n",
    "    y0[indices] = val[0:4]\n",
    "    # then transform all the way from new y, x to old eta, kappa, and then making them pvars\n",
    "    pvars2.values = ct_all.new_to_old_array(y0)\n",
    "    # now record the eccentricities\n",
    "    e_inner[i] = pvars2.particles[1].e\n",
    "    e_outer[i] = pvars2.particles[2].e"
   ]
  },
  {
   "cell_type": "code",
   "execution_count": 42,
   "id": "9aa92ca8",
   "metadata": {},
   "outputs": [
    {
     "data": {
      "text/plain": [
       "(array([0.56714002, 0.53257449, 0.50101071, 0.47205956, 0.44539749,\n",
       "        0.42075431, 0.3979031 , 0.37665196, 0.35683755, 0.33831987,\n",
       "        0.32097814, 0.3047075 , 0.28941638, 0.27502434, 0.26146031,\n",
       "        0.24866124, 0.23657084, 0.22513869, 0.2143194 , 0.20407194,\n",
       "        0.19435911, 0.18514699, 0.17640463, 0.16810365, 0.16021794,\n",
       "        0.15272346, 0.14559795, 0.13882082, 0.13237292, 0.12623644,\n",
       "        0.12039475, 0.11483235, 0.10953468, 0.10448814, 0.09967994,\n",
       "        0.09509805, 0.09073116, 0.08656861, 0.08260032, 0.07881682,\n",
       "        0.0752091 , 0.07176869, 0.06848753, 0.06535802, 0.06237293,\n",
       "        0.05952541, 0.05680895, 0.05421739, 0.05174487, 0.0493858 ,\n",
       "        0.04713489, 0.04498711, 0.04293766, 0.04098197, 0.03911571,\n",
       "        0.03733473, 0.03563511, 0.0340131 , 0.03246511, 0.03098774,\n",
       "        0.02957776, 0.02823206, 0.0269477 , 0.02572187, 0.02455189,\n",
       "        0.0234352 , 0.02236937, 0.02135207, 0.02038108, 0.01945429,\n",
       "        0.01856968, 0.01772533, 0.01691939, 0.01615013, 0.01541586,\n",
       "        0.014715  , 0.01404601, 0.01340746, 0.01279794, 0.01221615,\n",
       "        0.01166081, 0.01113073, 0.01062475, 0.01014177, 0.00968076,\n",
       "        0.00924071, 0.00882066, 0.00841971, 0.00803699, 0.00767167,\n",
       "        0.00732296, 0.0069901 , 0.00667237, 0.00636909, 0.00607959,\n",
       "        0.00580325, 0.00553947, 0.00528769, 0.00504735, 0.00481793]),\n",
       " array([0.17066702, 0.16395743, 0.15743331, 0.15109869, 0.14495631,\n",
       "        0.1390078 , 0.13325373, 0.12769372, 0.1223266 , 0.11715045,\n",
       "        0.11216273, 0.10736036, 0.10273981, 0.09829714, 0.09402815,\n",
       "        0.08992835, 0.08599308, 0.08221753, 0.07859681, 0.07512594,\n",
       "        0.07179996, 0.06861388, 0.06556275, 0.06264169, 0.05984587,\n",
       "        0.05717054, 0.05461107, 0.05216291, 0.04982166, 0.047583  ,\n",
       "        0.04544277, 0.04339691, 0.04144151, 0.03957278, 0.03778707,\n",
       "        0.03608085, 0.03445072, 0.03289341, 0.03140578, 0.0299848 ,\n",
       "        0.02862757, 0.0273313 , 0.02609331, 0.02491103, 0.02378201,\n",
       "        0.02270389, 0.0216744 , 0.02069139, 0.01975278, 0.0188566 ,\n",
       "        0.01800093, 0.01718398, 0.016404  , 0.01565933, 0.01494839,\n",
       "        0.01426966, 0.01362169, 0.01300309, 0.01241254, 0.01184877,\n",
       "        0.01131057, 0.01079679, 0.01030632, 0.00983811, 0.00939115,\n",
       "        0.00896448, 0.00855718, 0.00816838, 0.00779723, 0.00744293,\n",
       "        0.00710472, 0.00678188, 0.00647369, 0.00617951, 0.00589869,\n",
       "        0.00563063, 0.00537475, 0.00513049, 0.00489733, 0.00467476,\n",
       "        0.00446231, 0.00425951, 0.00406592, 0.00388113, 0.00370474,\n",
       "        0.00353637, 0.00337564, 0.00322222, 0.00307578, 0.00293598,\n",
       "        0.00280254, 0.00267517, 0.00255358, 0.00243752, 0.00232673,\n",
       "        0.00222098, 0.00212004, 0.00202368, 0.0019317 , 0.00184391]))"
      ]
     },
     "execution_count": 42,
     "metadata": {},
     "output_type": "execute_result"
    }
   ],
   "source": [
    "e_inner, e_outer  # Ks increase from 1 to 1000 from the beginning to the end of the array"
   ]
  },
  {
   "cell_type": "markdown",
   "id": "5a8fe77f",
   "metadata": {},
   "source": [
    "$c$ from analytical ecc track:"
   ]
  },
  {
   "cell_type": "code",
   "execution_count": 43,
   "id": "c0ba09a0",
   "metadata": {},
   "outputs": [],
   "source": [
    "c = np.zeros(len(e_inner))\n",
    "\n",
    "for i in range(0, len(e_inner)):\n",
    "    c[i] = (e_inner[i] * masses[0])/(e_outer[i] * masses[1])"
   ]
  },
  {
   "cell_type": "code",
   "execution_count": 44,
   "id": "494f1718",
   "metadata": {},
   "outputs": [
    {
     "data": {
      "text/latex": [
       "$\\displaystyle 0.931400213252601$"
      ],
      "text/plain": [
       "0.9314002132526011"
      ]
     },
     "execution_count": 44,
     "metadata": {},
     "output_type": "execute_result"
    }
   ],
   "source": [
    "np.median(c)"
   ]
  },
  {
   "cell_type": "code",
   "execution_count": 45,
   "id": "665427e2",
   "metadata": {},
   "outputs": [
    {
     "data": {
      "text/plain": [
       "(array([77.,  7.,  4.,  3.,  2.,  2.,  1.,  1.,  2.,  1.]),\n",
       " array([0.92931893, 0.9545779 , 0.97983687, 1.00509584, 1.03035481,\n",
       "        1.05561378, 1.08087275, 1.10613172, 1.13139069, 1.15664966,\n",
       "        1.18190863]),\n",
       " <BarContainer object of 10 artists>)"
      ]
     },
     "execution_count": 45,
     "metadata": {},
     "output_type": "execute_result"
    },
    {
     "data": {
      "image/png": "[encoded data removed]",
      "text/plain": [
       "<Figure size 640x480 with 1 Axes>"
      ]
     },
     "metadata": {},
     "output_type": "display_data"
    }
   ],
   "source": [
    "plt.hist(c)"
   ]
  },
  {
   "cell_type": "code",
   "execution_count": null,
   "id": "efc41a2c",
   "metadata": {},
   "outputs": [],
   "source": [
    "nsims = 100\n",
    "Ks_orig = np.logspace(0, 5, nsims)\n",
    "ecc_sims_location = 'hd_max_mass'  # folder that the ecc sims are in\n",
    "\n",
    "e1_track_orig, e2_track_orig = np.zeros(len(Ks_orig)), np.zeros(len(Ks_orig))\n",
    "\n",
    "for i in range(0, len(Ks_orig)):\n",
    "    ecc_sim = rb.Simulation(f'{ecc_sims_location}/ecc_track_archive_cluster_{i}.bin')  # get the ith eccentricity simulation from the ecc sims folder\n",
    "    inner = ecc_sim.particles[1]\n",
    "    outer = ecc_sim.particles[2]\n",
    "    \n",
    "    e1_track_orig[i] = inner.e  # add the e1/e2 values for that simulation\n",
    "    e2_track_orig[i] = outer.e\n",
    "    \n",
    "# 10^1 to 10^2.5\n",
    "\n",
    "Ks_1025 = np.logspace(1, 2.5, nsims)\n",
    "ecc_sims_location_1025 = 'hd_eccentricity'  # folder that the ecc sims are in\n",
    "\n",
    "e1_track_1025, e2_track_1025 = np.zeros(len(Ks_1025)), np.zeros(len(Ks_1025))\n",
    "\n",
    "for i in range(0, len(Ks_1025)):\n",
    "    ecc_sim_1025 = rb.Simulation(f'{ecc_sims_location_1025}/ecc_track_archive_cluster_101_1025_{i}.bin')  # get the ith eccentricity simulation from the ecc sims folder\n",
    "    # print(ecc_sim_1025)\n",
    "    inner = ecc_sim_1025.particles[1]\n",
    "    outer = ecc_sim_1025.particles[2]\n",
    "    e1_track_1025[i] = inner.e  # add the e1/e2 values for that simulation\n",
    "    e2_track_1025[i] = outer.e\n",
    "\n",
    "# 10^0 to 10^1\n",
    "    \n",
    "Ks_101 = np.logspace(0, 1, nsims)\n",
    "ecc_sims_location_101 = 'hd_eccentricity'  # folder that the ecc sims are in\n",
    "\n",
    "e1_track_101, e2_track_101 = np.zeros(len(Ks_101)), np.zeros(len(Ks_101))\n",
    "\n",
    "for i in range(0, len(Ks_101)):\n",
    "    ecc_sim_101 = rb.Simulation(f'{ecc_sims_location_101}/ecc_track_archive_cluster_100_101_{i}.bin')  # get the ith eccentricity simulation from the ecc sims folder\n",
    "    # print(ecc_sim_1025)\n",
    "    inner = ecc_sim_101.particles[1]\n",
    "    outer = ecc_sim_101.particles[2]\n",
    "    e1_track_101[i] = inner.e  # add the e1/e2 values for that simulation\n",
    "    e2_track_101[i] = outer.e\n",
    "\n",
    "Ks, e1_track, e2_track = np.concatenate((Ks_orig, Ks_1025, Ks_101)), np.concatenate((e1_track_orig, e1_track_1025, e1_track_101)), np.concatenate((e2_track_orig, e2_track_1025, e2_track_101))"
   ]
  },
  {
   "cell_type": "code",
   "execution_count": null,
   "id": "26a5dd4b",
   "metadata": {},
   "outputs": [],
   "source": [
    "masses[1]/masses[0]"
   ]
  },
  {
   "cell_type": "code",
   "execution_count": null,
   "id": "1416b7ea",
   "metadata": {},
   "outputs": [],
   "source": [
    "masses * STAR_MASS"
   ]
  },
  {
   "cell_type": "code",
   "execution_count": null,
   "id": "5b365586",
   "metadata": {},
   "outputs": [],
   "source": [
    "fig = plt.figure(figsize = (12, 8))\n",
    "ax = fig.add_subplot(111)\n",
    "plt.rc('font', size=18)  # fontsize larger\n",
    "# 10^5 annotation\n",
    "# ax.annotate(fr'$K = 10^5$', xy=(np.delete(e1_track, [1, 2])[np.where(np.delete(Ks, [1, 2]) == 10 ** 5)][0], \n",
    "#                                 np.delete(e2_track, [1, 2])[np.where(np.delete(Ks, [1, 2]) == 10 ** 5)][0]), xycoords='data', \n",
    "#             textcoords='axes fraction', xytext=(0.1, 0.3), arrowprops=dict(facecolor='red', shrink=0.01), color ='red')\n",
    "# 10^0 = 1 annotation\n",
    "# ax.annotate(fr'$K = 1$', xy=(np.delete(e1_track, [1, 2])[np.where(np.delete(Ks, [1, 2]) == 1)][0], \n",
    "#                              np.delete(e2_track, [1, 2])[np.where(np.delete(Ks, [1, 2]) == 1)][0]), xycoords='data', \n",
    "#             textcoords='axes fraction', xytext=(0.5, 0.95), arrowprops=dict(facecolor='red', shrink=0.01), color ='red')\n",
    "# pl.scatter(e1_track, e2_track)\n",
    "plt.scatter(np.delete(e1_track, [1, 2]), np.delete(e2_track, [1, 2]), label = 'rebound')\n",
    "\n",
    "e1s = np.linspace(0, 0.1, 100)\n",
    "e2s = e1s * masses[0]/masses[1] * 1.07\n",
    "plt.plot(e1s, e2s)\n",
    "plt.xlabel(r'$e_{inner}$'), plt.ylabel(r'$e_{outer}$')\n",
    "# pl.savefig('ecc_track.png', fmt='png')\n",
    "plt.scatter(e_inner, e_outer, label = 'root finding')\n",
    "plt.xlim(0, 0.1), plt.ylim(0, 0.06)\n",
    "plt.legend()\n",
    "# plt.savefig('order_1.png', fmt='png')\n",
    "plt.show()"
   ]
  },
  {
   "cell_type": "markdown",
   "id": "100be5c0",
   "metadata": {},
   "source": [
    "Compares favourably to `rebound` at low eccentricity values:"
   ]
  },
  {
   "cell_type": "markdown",
   "id": "3112bed1",
   "metadata": {},
   "source": [
    "## Converting posterior distributions to D values:"
   ]
  },
  {
   "cell_type": "markdown",
   "id": "668bda06",
   "metadata": {},
   "source": [
    "First import hd data:"
   ]
  },
  {
   "cell_type": "code",
   "execution_count": null,
   "id": "a6080f68",
   "metadata": {},
   "outputs": [],
   "source": [
    "hd_data = pd.read_csv('hd45364_rvs.csv', sep = ';')\n",
    "hd_data.BJD -= 2.4e6"
   ]
  },
  {
   "cell_type": "markdown",
   "id": "3afd21ba",
   "metadata": {},
   "source": [
    "Convert posterior distributions to get a distribution of D values:"
   ]
  },
  {
   "cell_type": "code",
   "execution_count": null,
   "id": "b87d3271",
   "metadata": {},
   "outputs": [],
   "source": [
    "cluster_data = h5py.File('2021_fall-2022_winter/hd_mcmc_cluster.h5', 'r')  # import the posterior distribution data from the cluster\n",
    "accepted, samples, log_prob = np.array(cluster_data['mcmc']['accepted']), np.array(cluster_data['mcmc']['chain']), np.array(cluster_data['mcmc']['log_prob'])"
   ]
  },
  {
   "cell_type": "markdown",
   "id": "fc071286",
   "metadata": {},
   "source": [
    "Reshape the samples and discard some number of burn-in samples:"
   ]
  },
  {
   "cell_type": "code",
   "execution_count": null,
   "id": "11cae8d1",
   "metadata": {},
   "outputs": [],
   "source": [
    "n_burn_in = 200  # discard the first 200 samples as burn-in time\n",
    "# reshape the chain to flatten it out\n",
    "flat_samples = samples[n_burn_in:].reshape(-1, samples[n_burn_in:].shape[-1])"
   ]
  },
  {
   "cell_type": "markdown",
   "id": "84d0360d",
   "metadata": {},
   "source": [
    "Test with downsampled posterior:"
   ]
  },
  {
   "cell_type": "code",
   "execution_count": null,
   "id": "7cd9c0c0",
   "metadata": {},
   "outputs": [],
   "source": [
    "downsampled_flat_samples = flat_samples[::100]\n",
    "# 10 times fewer samples in the downsampling\n",
    "flat_samples.shape, downsampled_flat_samples.shape"
   ]
  },
  {
   "cell_type": "code",
   "execution_count": null,
   "id": "ae4e2c87",
   "metadata": {},
   "outputs": [],
   "source": [
    "L_Psi_indices = np.array([ct_all.new_qp_vars.index(v) for v in [L, Psi]])\n",
    "xy_indices = np.array([ct_all.new_qp_vars.index(v) for v in [y1, y2, x1, x2]])\n",
    "\n",
    "L_Psi_indices, xy_indices"
   ]
  },
  {
   "cell_type": "markdown",
   "id": "8f9bd5a0",
   "metadata": {},
   "source": [
    "Try with the first flat sample:"
   ]
  },
  {
   "cell_type": "code",
   "execution_count": null,
   "id": "499c4e31",
   "metadata": {},
   "outputs": [],
   "source": [
    "fit_params, flat_samples[0]"
   ]
  },
  {
   "cell_type": "code",
   "execution_count": null,
   "id": "fd788096",
   "metadata": {},
   "outputs": [],
   "source": [
    "# test with both the first flat sample and the best-fit params\n",
    "\n",
    "# best fit\n",
    "# test_sim = get_sim_from_params(fit_params, inclination=np.pi/2, integrator='ias15', time_base=np.median(hd_data.BJD))\n",
    "\n",
    "# flat sample\n",
    "# test_sim = get_sim_from_params(flat_samples[0], inclination = np.pi/2, integrator = 'ias15', time_base = np.median(hd_data.BJD))\n",
    "inner_mass = test_sim.particles[1].m\n",
    "outer_mass = test_sim.particles[2].m\n",
    "\n",
    "test_pvars = cm.Poincare.from_Simulation(test_sim)\n",
    "test_rho_val = (inner_mass/outer_mass) * (2/3)**(1/3) \n",
    "\n",
    "test_L_Psi_vals = ct_all.old_to_new_array(test_pvars.values)[L_Psi_indices]  # values of L and Psi in that order\n",
    "test_xy_vals = ct_all.old_to_new_array(test_pvars.values)[xy_indices]  # values y1, y2, x1, x2 in that order\n",
    "\n",
    "test_D_val = D_exprn.subs(zip([L, Psi], test_L_Psi_vals)).subs(rho, test_rho_val)  # use L and Psi to compute the D value\n",
    "test_L2_val = L2res_exprn.subs(zip([L, Psi], test_L_Psi_vals)).subs(rho, test_rho_val)  # use L and Psi to compute the L2 value as well\n",
    "\n",
    "# pass root using parameters [y1, y2, x1, x2, D]\n",
    "test_root = np.append(test_xy_vals, test_D_val)\n",
    "\n",
    "# now compute K from D, substituting rho and L2 values into fullflow as well (since fullflow should have those numerical values in it)\n",
    "rho_L2_pars = dict(zip([rho, L2res], [test_rho_val, test_L2_val]))\n",
    "# compute K from D, substituting in rho and L2\n",
    "D_to_K(fullflow.subs(rho_L2_pars), test_root)"
   ]
  },
  {
   "cell_type": "code",
   "execution_count": null,
   "id": "fe592892",
   "metadata": {},
   "outputs": [],
   "source": [
    "fullflow.subs(rho_L2_pars).free_symbols  # should only be D, taus and xs, ys"
   ]
  },
  {
   "cell_type": "code",
   "execution_count": null,
   "id": "6aac5651",
   "metadata": {},
   "outputs": [],
   "source": [
    "D_exprn"
   ]
  },
  {
   "cell_type": "markdown",
   "id": "b869beac",
   "metadata": {},
   "source": [
    "D-value for each downsampled sample:"
   ]
  },
  {
   "cell_type": "code",
   "execution_count": null,
   "id": "22c85cd2",
   "metadata": {},
   "outputs": [],
   "source": [
    "# indices of [L, Psi] as well as [y1, y2, x1, x2] in the ct_all canonical transformation new qp vars object\n",
    "\n",
    "L_Psi_indices = np.array([ct_all.new_qp_vars.index(v) for v in [L, Psi]])\n",
    "xy_indices = np.array([ct_all.new_qp_vars.index(v) for v in [y1, y2, x1, x2]])\n",
    "\n",
    "L_Psi_indices, xy_indices"
   ]
  },
  {
   "cell_type": "markdown",
   "id": "516e858d",
   "metadata": {},
   "source": [
    "$c$ for each downsampled posterior sample:"
   ]
  },
  {
   "cell_type": "code",
   "execution_count": null,
   "id": "93de47ba",
   "metadata": {},
   "outputs": [],
   "source": [
    "cs = np.zeros(len(downsampled_flat_samples))\n",
    "\n",
    "for i, sample in tqdm(enumerate(downsampled_flat_samples)):\n",
    "    samp_sim = get_sim_from_params(sample, inclination=np.pi/2, integrator='ias15', time_base=np.median(hd_data.BJD))\n",
    "    samp_inner = samp_sim.particles[1]\n",
    "    samp_outer = samp_sim.particles[2]\n",
    "    # compute c from inner, outer masses\n",
    "    cs[i] = (samp_inner.e * samp_inner.m)/(samp_outer.e * samp_outer.m)"
   ]
  },
  {
   "cell_type": "code",
   "execution_count": null,
   "id": "46baa18c",
   "metadata": {},
   "outputs": [],
   "source": [
    "plt.hist(cs)"
   ]
  },
  {
   "cell_type": "markdown",
   "id": "aeee572d",
   "metadata": {},
   "source": [
    "Copute $D$-value:"
   ]
  },
  {
   "cell_type": "code",
   "execution_count": null,
   "id": "e0cb7a68",
   "metadata": {},
   "outputs": [],
   "source": [
    "D_values = np.zeros(len(downsampled_flat_samples))\n",
    "K_values = np.zeros(len(downsampled_flat_samples))\n",
    "\n",
    "from tqdm import tqdm\n",
    "\n",
    "for i, sample in tqdm(enumerate(downsampled_flat_samples)):\n",
    "    # get rebound simulation from sample:\n",
    "    samp_sim = get_sim_from_params(sample, inclination=np.pi/2, integrator='ias15', time_base=np.median(hd_data.BJD))\n",
    "    # masses of inner, outer planets:\n",
    "    inner_mass = samp_sim.particles[1].m\n",
    "    outer_mass = samp_sim.particles[2].m\n",
    "    # convert to pvars\n",
    "    samp_pvars = cm.Poincare.from_Simulation(samp_sim)\n",
    "    # compute rho value using the equation above:\n",
    "    samp_rho_val = (inner_mass/outer_mass) * ((2/3) ** (1/3))\n",
    "    # get L and Psi values, as well as x and y values, by transforming from samp_pvars (eta, kappa) -> (y, x)\n",
    "    samp_L_Psi_vals = ct_all.old_to_new_array(samp_pvars.values)[L_Psi_indices]  # values of L and Psi in that order\n",
    "    samp_xy_vals = ct_all.old_to_new_array(samp_pvars.values)[xy_indices]  # values y1, y2, x1, x2 in that order\n",
    "    # get D and L2 values using L and Psi, as well as the rho value computed earlier, from the D_exprn expression\n",
    "    samp_D_val = D_exprn.subs(zip([L, Psi], samp_L_Psi_vals)).subs(rho, samp_rho_val)  # use L and Psi to compute the D value\n",
    "    samp_L2_val = L2res_exprn.subs(zip([L, Psi], samp_L_Psi_vals)).subs(rho, samp_rho_val)  # also use L and Psi to compute L2 value\n",
    "    # parameterize root as [y1, y2, x1, x2, D]\n",
    "    samp_root = np.append(samp_xy_vals, samp_D_val)\n",
    "    # compute rho, L2 for this sample for substituting into fullflow\n",
    "    samp_rho_L2_pars = dict(zip([rho, L2res], [samp_rho_val, samp_L2_val]))\n",
    "    # finally, convert from D to K using the D_to_K function:\n",
    "    D_values[i] = samp_D_val  # record sample D value as well as K value from D\n",
    "    # make sure to substitute in rho and L2 for this specific(!) sample into the D to K values\n",
    "    K_values[i] = D_to_K(fullflow.subs(samp_rho_L2_pars), samp_root)  # use the fullflow function from earlier since that doesn't change (two planets and only considering 1st order terms)\n",
    "    "
   ]
  },
  {
   "cell_type": "code",
   "execution_count": null,
   "id": "aaf6e033",
   "metadata": {},
   "outputs": [],
   "source": [
    "plt.hist(D_values)"
   ]
  },
  {
   "cell_type": "markdown",
   "id": "f7d36172",
   "metadata": {},
   "source": [
    "Compute $K$ value of the best-fit parameters:"
   ]
  },
  {
   "cell_type": "code",
   "execution_count": null,
   "id": "9d9e74e6",
   "metadata": {},
   "outputs": [],
   "source": [
    "# test with both the first flat sample and the best-fit params\n",
    "\n",
    "# best fit\n",
    "bf_sim = get_sim_from_params(fit_params, inclination=np.pi/2, integrator='ias15', time_base=np.median(hd_data.BJD))\n",
    "\n",
    "# flat sample\n",
    "# test_sim = get_sim_from_params(flat_samples[0], inclination = np.pi/2, integrator = 'ias15', time_base = np.median(hd_data.BJD))\n",
    "bf_inner_mass = bf_sim.particles[1].m\n",
    "bf_outer_mass = bf_sim.particles[2].m\n",
    "\n",
    "bf_pvars = cm.Poincare.from_Simulation(bf_sim)\n",
    "bf_rho_val = (bf_inner_mass/bf_outer_mass) * (2/3)**(1/3) \n",
    "\n",
    "bf_L_Psi_vals = ct_all.old_to_new_array(bf_pvars.values)[L_Psi_indices]  # values of L and Psi in that order\n",
    "bf_xy_vals = ct_all.old_to_new_array(bf_pvars.values)[xy_indices]  # values y1, y2, x1, x2 in that order\n",
    "\n",
    "bf_D_val = D_exprn.subs(zip([L, Psi], bf_L_Psi_vals)).subs(rho, bf_rho_val)  # use L and Psi to compute the D value\n",
    "bf_L2_val = L2res_exprn.subs(zip([L, Psi], bf_L_Psi_vals)).subs(rho, bf_rho_val)  # use L and Psi to compute the L2 value as well\n",
    "\n",
    "# pass root using parameters [y1, y2, x1, x2, D]\n",
    "bf_root = np.append(bf_xy_vals, bf_D_val)\n",
    "\n",
    "# now compute K from D, substituting rho and L2 values into fullflow as well (since fullflow should have those numerical values in it)\n",
    "bf_rho_L2_pars = dict(zip([rho, L2res], [bf_rho_val, bf_L2_val]))\n",
    "# compute K from D, substituting in rho and L2\n",
    "bf_K_value = D_to_K(fullflow.subs(bf_rho_L2_pars), bf_root)"
   ]
  },
  {
   "cell_type": "code",
   "execution_count": null,
   "id": "6ba90901",
   "metadata": {},
   "outputs": [],
   "source": [
    "np.min(K_values), np.max(K_values)  # minimum, maximum values from downsampled"
   ]
  },
  {
   "cell_type": "code",
   "execution_count": null,
   "id": "210fbc9e",
   "metadata": {},
   "outputs": [],
   "source": [
    "np.median(K_values), np.mean(K_values)"
   ]
  },
  {
   "cell_type": "code",
   "execution_count": null,
   "id": "8b97eed3",
   "metadata": {},
   "outputs": [],
   "source": [
    "plt.hist(K_values, bins='doane')"
   ]
  },
  {
   "cell_type": "code",
   "execution_count": null,
   "id": "108ee6a3",
   "metadata": {},
   "outputs": [],
   "source": [
    "plt.hist(K_values, bins='sturges')"
   ]
  },
  {
   "cell_type": "code",
   "execution_count": null,
   "id": "4653ad2e",
   "metadata": {},
   "outputs": [],
   "source": [
    "plt.hist(K_values)"
   ]
  },
  {
   "cell_type": "code",
   "execution_count": null,
   "id": "134f09ec",
   "metadata": {},
   "outputs": [],
   "source": [
    "plt.figure(figsize = (12, 8))\n",
    "plt.hist(K_values, bins='doane', density=True)  # histogram\n",
    "plt.axvline(bf_K_value, c='orange', label = 'Best-fit')\n",
    "plt.xlabel(r'$K$'), plt.ylabel('density')\n",
    "plt.legend()\n",
    "# plt.savefig('K_value_histogram.png', fmt='png')\n",
    "plt.show()"
   ]
  },
  {
   "cell_type": "markdown",
   "id": "edc5dc1d",
   "metadata": {},
   "source": [
    "Test with known $K$:"
   ]
  },
  {
   "cell_type": "code",
   "execution_count": null,
   "id": "533d1d93",
   "metadata": {},
   "outputs": [],
   "source": [
    "Ks_orig[80]"
   ]
  },
  {
   "cell_type": "code",
   "execution_count": null,
   "id": "f2855b7a",
   "metadata": {},
   "outputs": [],
   "source": [
    "test_sim = rb.Simulation(f'{ecc_sims_location}/ecc_track_archive_cluster_{80}.bin')\n",
    "# test_sim = get_sim_from_params(flat_samples[0], inclination = np.pi/2, integrator = 'ias15', time_base = np.median(hd_data.BJD))\n",
    "inner_mass = test_sim.particles[1].m\n",
    "outer_mass = test_sim.particles[2].m\n",
    "\n",
    "test_pvars = cm.Poincare.from_Simulation(test_sim)\n",
    "test_rho_val = (inner_mass/outer_mass) * (2/3)**(1/3) \n",
    "\n",
    "test_L_Psi_vals = ct_all.old_to_new_array(test_pvars.values)[L_Psi_indices]  # values of L and Psi in that order\n",
    "test_xy_vals = ct_all.old_to_new_array(test_pvars.values)[xy_indices]  # values y1, y2, x1, x2 in that order\n",
    "\n",
    "test_D_val = D_exprn.subs(zip([L, Psi], test_L_Psi_vals)).subs(rho, test_rho_val)  # use L and Psi to compute the D value\n",
    "test_L2_val = L2res_exprn.subs(zip([L, Psi], test_L_Psi_vals)).subs(rho, test_rho_val)  # use L and Psi to compute the L2 value\n",
    "\n",
    "# pass root using parameters [y1, y2, x1, x2, D]\n",
    "test_root = np.append(test_xy_vals, test_D_val)\n",
    "rho_L2_vals = zip([rho, L2res], [test_rho_val, test_L2_val])\n",
    "\n",
    "D_to_K(fullflow.subs(rho_L2_vals), test_root)"
   ]
  },
  {
   "cell_type": "code",
   "execution_count": null,
   "id": "48ef142c",
   "metadata": {},
   "outputs": [],
   "source": [
    "Ks = np.zeros(len(Ks_orig))\n",
    "\n",
    "for i in range(0, len(Ks_orig)):\n",
    "    test_sim = rb.Simulation(f'{ecc_sims_location}/ecc_track_archive_cluster_{i}.bin')  # get the ith eccentricity simulation from the ecc sims folder\n",
    "    \n",
    "    inner_mass = test_sim.particles[1].m\n",
    "    outer_mass = test_sim.particles[2].m\n",
    "\n",
    "    test_pvars = cm.Poincare.from_Simulation(test_sim)\n",
    "    test_rho_val = (inner_mass/outer_mass) * (2/3)**(1/3) \n",
    "\n",
    "    test_L_Psi_vals = ct_all.old_to_new_array(test_pvars.values)[L_Psi_indices]  # values of L and Psi in that order\n",
    "    test_xy_vals = ct_all.old_to_new_array(test_pvars.values)[xy_indices]  # values y1, y2, x1, x2 in that order\n",
    "\n",
    "    test_D_val = D_exprn.subs(zip([L, Psi], test_L_Psi_vals)).subs(rho, test_rho_val)  # use L and Psi to compute the D value\n",
    "    test_L2_val = L2res_exprn.subs(zip([L, Psi], test_L_Psi_vals)).subs(rho, test_rho_val)  # use L and Psi to compute the L2 value\n",
    "\n",
    "    # pass root using parameters [y1, y2, x1, x2, D]\n",
    "    test_root = np.append(test_xy_vals, test_D_val)\n",
    "    rho_L2_vals = zip([rho, L2res], [test_rho_val, test_L2_val])\n",
    "\n",
    "    Ks[i] = D_to_K(fullflow.subs(rho_L2_vals), test_root)"
   ]
  },
  {
   "cell_type": "code",
   "execution_count": null,
   "id": "6166dec7",
   "metadata": {},
   "outputs": [],
   "source": [
    "plt.figure(figsize = (12, 8))\n",
    "plt.scatter(Ks_orig, Ks, label = 'root-finding')\n",
    "plt.scatter(Ks_orig, Ks_orig, label = 'K')\n",
    "plt.xscale('log'), plt.yscale('log')\n",
    "plt.xlabel(r'$K$'), plt.ylabel(r'$K$')\n",
    "plt.legend()"
   ]
  },
  {
   "cell_type": "markdown",
   "id": "429e8f3a",
   "metadata": {},
   "source": [
    "Integrate starting from the end of several randomly chosen posterior points. Plot Libration angles, eccentricities and period ratios:"
   ]
  },
  {
   "cell_type": "markdown",
   "id": "8aa07249",
   "metadata": {},
   "source": [
    "Select $n$ random samples:"
   ]
  },
  {
   "cell_type": "code",
   "execution_count": 69,
   "id": "c9c6bd76",
   "metadata": {},
   "outputs": [],
   "source": [
    "np.random.seed(1234)  # seed\n",
    "n = 100  # number of samples\n",
    "\n",
    "# sample randomly from flat_samples\n",
    "rand_samples = flat_samples[np.random.choice(range(0, len(flat_samples)), n)]"
   ]
  },
  {
   "cell_type": "markdown",
   "id": "52637d01",
   "metadata": {},
   "source": [
    "For each sample, integrate and plot the libration angles, eccentricities and period ratios:"
   ]
  },
  {
   "cell_type": "code",
   "execution_count": 70,
   "id": "d8c48497",
   "metadata": {},
   "outputs": [
    {
     "data": {
      "text/latex": [
       "$\\displaystyle \\left( 0.000218144101680577, \\  0.000613335144756027\\right)$"
      ],
      "text/plain": [
       "(0.00021814410168057689, 0.0006133351447560272)"
      ]
     },
     "execution_count": 70,
     "metadata": {},
     "output_type": "execute_result"
    }
   ],
   "source": [
    "inner_mass, outer_mass"
   ]
  },
  {
   "cell_type": "code",
   "execution_count": 71,
   "id": "a968c36f",
   "metadata": {},
   "outputs": [],
   "source": [
    "# Dval, D_val, float(D_val)"
   ]
  },
  {
   "cell_type": "markdown",
   "id": "f1f8d926",
   "metadata": {},
   "source": [
    "**This thing down here works?**"
   ]
  },
  {
   "cell_type": "code",
   "execution_count": 72,
   "id": "3050a5dd",
   "metadata": {},
   "outputs": [],
   "source": [
    "# list(root) + [D_val]"
   ]
  },
  {
   "cell_type": "code",
   "execution_count": 73,
   "id": "5618ab9b",
   "metadata": {},
   "outputs": [
    {
     "ename": "TypeError",
     "evalue": "can't convert expression to float",
     "output_type": "error",
     "traceback": [
      "\u001b[0;31m---------------------------------------------------------------------------\u001b[0m",
      "\u001b[0;31mTypeError\u001b[0m                                 Traceback (most recent call last)",
      "\u001b[0;32m<ipython-input-73-dde169ac3862>\u001b[0m in \u001b[0;36m<module>\u001b[0;34m\u001b[0m\n\u001b[1;32m     29\u001b[0m \u001b[0mDf\u001b[0m \u001b[0;34m=\u001b[0m \u001b[0;32mlambda\u001b[0m \u001b[0mt\u001b[0m\u001b[0;34m,\u001b[0m \u001b[0mx\u001b[0m\u001b[0;34m:\u001b[0m \u001b[0mconsjac_fn\u001b[0m\u001b[0;34m(\u001b[0m\u001b[0;34m*\u001b[0m\u001b[0mx\u001b[0m\u001b[0;34m)\u001b[0m\u001b[0;34m\u001b[0m\u001b[0;34m\u001b[0m\u001b[0m\n\u001b[1;32m     30\u001b[0m \u001b[0;31m# integrate the equations of motion\u001b[0m\u001b[0;34m\u001b[0m\u001b[0;34m\u001b[0m\u001b[0;34m\u001b[0m\u001b[0m\n\u001b[0;32m---> 31\u001b[0;31m \u001b[0msoln\u001b[0m \u001b[0;34m=\u001b[0m \u001b[0msolve_ivp\u001b[0m\u001b[0;34m(\u001b[0m\u001b[0mf\u001b[0m\u001b[0;34m,\u001b[0m \u001b[0;34m(\u001b[0m\u001b[0mtimes\u001b[0m\u001b[0;34m[\u001b[0m\u001b[0;36m0\u001b[0m\u001b[0;34m]\u001b[0m\u001b[0;34m,\u001b[0m \u001b[0mtimes\u001b[0m\u001b[0;34m[\u001b[0m\u001b[0;34m-\u001b[0m\u001b[0;36m1\u001b[0m\u001b[0;34m]\u001b[0m\u001b[0;34m)\u001b[0m\u001b[0;34m,\u001b[0m \u001b[0mxy_vals\u001b[0m\u001b[0;34m,\u001b[0m \u001b[0mmethod\u001b[0m \u001b[0;34m=\u001b[0m \u001b[0;34m'Radau'\u001b[0m\u001b[0;34m,\u001b[0m \u001b[0mjac\u001b[0m \u001b[0;34m=\u001b[0m \u001b[0mDf\u001b[0m\u001b[0;34m)\u001b[0m\u001b[0;34m\u001b[0m\u001b[0;34m\u001b[0m\u001b[0m\n\u001b[0m\u001b[1;32m     32\u001b[0m \u001b[0;34m\u001b[0m\u001b[0m\n\u001b[1;32m     33\u001b[0m \u001b[0;31m# now solve using newton's method\u001b[0m\u001b[0;34m\u001b[0m\u001b[0;34m\u001b[0m\u001b[0;34m\u001b[0m\u001b[0m\n",
      "\u001b[0;32m~/.local/lib/python3.8/site-packages/scipy/integrate/_ivp/ivp.py\u001b[0m in \u001b[0;36msolve_ivp\u001b[0;34m(fun, t_span, y0, method, t_eval, dense_output, events, vectorized, args, **options)\u001b[0m\n\u001b[1;32m    540\u001b[0m         \u001b[0mmethod\u001b[0m \u001b[0;34m=\u001b[0m \u001b[0mMETHODS\u001b[0m\u001b[0;34m[\u001b[0m\u001b[0mmethod\u001b[0m\u001b[0;34m]\u001b[0m\u001b[0;34m\u001b[0m\u001b[0;34m\u001b[0m\u001b[0m\n\u001b[1;32m    541\u001b[0m \u001b[0;34m\u001b[0m\u001b[0m\n\u001b[0;32m--> 542\u001b[0;31m     \u001b[0msolver\u001b[0m \u001b[0;34m=\u001b[0m \u001b[0mmethod\u001b[0m\u001b[0;34m(\u001b[0m\u001b[0mfun\u001b[0m\u001b[0;34m,\u001b[0m \u001b[0mt0\u001b[0m\u001b[0;34m,\u001b[0m \u001b[0my0\u001b[0m\u001b[0;34m,\u001b[0m \u001b[0mtf\u001b[0m\u001b[0;34m,\u001b[0m \u001b[0mvectorized\u001b[0m\u001b[0;34m=\u001b[0m\u001b[0mvectorized\u001b[0m\u001b[0;34m,\u001b[0m \u001b[0;34m**\u001b[0m\u001b[0moptions\u001b[0m\u001b[0;34m)\u001b[0m\u001b[0;34m\u001b[0m\u001b[0;34m\u001b[0m\u001b[0m\n\u001b[0m\u001b[1;32m    543\u001b[0m \u001b[0;34m\u001b[0m\u001b[0m\n\u001b[1;32m    544\u001b[0m     \u001b[0;32mif\u001b[0m \u001b[0mt_eval\u001b[0m \u001b[0;32mis\u001b[0m \u001b[0;32mNone\u001b[0m\u001b[0;34m:\u001b[0m\u001b[0;34m\u001b[0m\u001b[0;34m\u001b[0m\u001b[0m\n",
      "\u001b[0;32m~/.local/lib/python3.8/site-packages/scipy/integrate/_ivp/radau.py\u001b[0m in \u001b[0;36m__init__\u001b[0;34m(self, fun, t0, y0, t_bound, max_step, rtol, atol, jac, jac_sparsity, vectorized, first_step, **extraneous)\u001b[0m\n\u001b[1;32m    288\u001b[0m         \u001b[0mself\u001b[0m\u001b[0;34m.\u001b[0m\u001b[0mmax_step\u001b[0m \u001b[0;34m=\u001b[0m \u001b[0mvalidate_max_step\u001b[0m\u001b[0;34m(\u001b[0m\u001b[0mmax_step\u001b[0m\u001b[0;34m)\u001b[0m\u001b[0;34m\u001b[0m\u001b[0;34m\u001b[0m\u001b[0m\n\u001b[1;32m    289\u001b[0m         \u001b[0mself\u001b[0m\u001b[0;34m.\u001b[0m\u001b[0mrtol\u001b[0m\u001b[0;34m,\u001b[0m \u001b[0mself\u001b[0m\u001b[0;34m.\u001b[0m\u001b[0matol\u001b[0m \u001b[0;34m=\u001b[0m \u001b[0mvalidate_tol\u001b[0m\u001b[0;34m(\u001b[0m\u001b[0mrtol\u001b[0m\u001b[0;34m,\u001b[0m \u001b[0matol\u001b[0m\u001b[0;34m,\u001b[0m \u001b[0mself\u001b[0m\u001b[0;34m.\u001b[0m\u001b[0mn\u001b[0m\u001b[0;34m)\u001b[0m\u001b[0;34m\u001b[0m\u001b[0;34m\u001b[0m\u001b[0m\n\u001b[0;32m--> 290\u001b[0;31m         \u001b[0mself\u001b[0m\u001b[0;34m.\u001b[0m\u001b[0mf\u001b[0m \u001b[0;34m=\u001b[0m \u001b[0mself\u001b[0m\u001b[0;34m.\u001b[0m\u001b[0mfun\u001b[0m\u001b[0;34m(\u001b[0m\u001b[0mself\u001b[0m\u001b[0;34m.\u001b[0m\u001b[0mt\u001b[0m\u001b[0;34m,\u001b[0m \u001b[0mself\u001b[0m\u001b[0;34m.\u001b[0m\u001b[0my\u001b[0m\u001b[0;34m)\u001b[0m\u001b[0;34m\u001b[0m\u001b[0;34m\u001b[0m\u001b[0m\n\u001b[0m\u001b[1;32m    291\u001b[0m         \u001b[0;31m# Select initial step assuming the same order which is used to control\u001b[0m\u001b[0;34m\u001b[0m\u001b[0;34m\u001b[0m\u001b[0;34m\u001b[0m\u001b[0m\n\u001b[1;32m    292\u001b[0m         \u001b[0;31m# the error.\u001b[0m\u001b[0;34m\u001b[0m\u001b[0;34m\u001b[0m\u001b[0;34m\u001b[0m\u001b[0m\n",
      "\u001b[0;32m~/.local/lib/python3.8/site-packages/scipy/integrate/_ivp/base.py\u001b[0m in \u001b[0;36mfun\u001b[0;34m(t, y)\u001b[0m\n\u001b[1;32m    136\u001b[0m         \u001b[0;32mdef\u001b[0m \u001b[0mfun\u001b[0m\u001b[0;34m(\u001b[0m\u001b[0mt\u001b[0m\u001b[0;34m,\u001b[0m \u001b[0my\u001b[0m\u001b[0;34m)\u001b[0m\u001b[0;34m:\u001b[0m\u001b[0;34m\u001b[0m\u001b[0;34m\u001b[0m\u001b[0m\n\u001b[1;32m    137\u001b[0m             \u001b[0mself\u001b[0m\u001b[0;34m.\u001b[0m\u001b[0mnfev\u001b[0m \u001b[0;34m+=\u001b[0m \u001b[0;36m1\u001b[0m\u001b[0;34m\u001b[0m\u001b[0;34m\u001b[0m\u001b[0m\n\u001b[0;32m--> 138\u001b[0;31m             \u001b[0;32mreturn\u001b[0m \u001b[0mself\u001b[0m\u001b[0;34m.\u001b[0m\u001b[0mfun_single\u001b[0m\u001b[0;34m(\u001b[0m\u001b[0mt\u001b[0m\u001b[0;34m,\u001b[0m \u001b[0my\u001b[0m\u001b[0;34m)\u001b[0m\u001b[0;34m\u001b[0m\u001b[0;34m\u001b[0m\u001b[0m\n\u001b[0m\u001b[1;32m    139\u001b[0m \u001b[0;34m\u001b[0m\u001b[0m\n\u001b[1;32m    140\u001b[0m         \u001b[0mself\u001b[0m\u001b[0;34m.\u001b[0m\u001b[0mfun\u001b[0m \u001b[0;34m=\u001b[0m \u001b[0mfun\u001b[0m\u001b[0;34m\u001b[0m\u001b[0;34m\u001b[0m\u001b[0m\n",
      "\u001b[0;32m~/.local/lib/python3.8/site-packages/scipy/integrate/_ivp/base.py\u001b[0m in \u001b[0;36mfun_wrapped\u001b[0;34m(t, y)\u001b[0m\n\u001b[1;32m     18\u001b[0m \u001b[0;34m\u001b[0m\u001b[0m\n\u001b[1;32m     19\u001b[0m     \u001b[0;32mdef\u001b[0m \u001b[0mfun_wrapped\u001b[0m\u001b[0;34m(\u001b[0m\u001b[0mt\u001b[0m\u001b[0;34m,\u001b[0m \u001b[0my\u001b[0m\u001b[0;34m)\u001b[0m\u001b[0;34m:\u001b[0m\u001b[0;34m\u001b[0m\u001b[0;34m\u001b[0m\u001b[0m\n\u001b[0;32m---> 20\u001b[0;31m         \u001b[0;32mreturn\u001b[0m \u001b[0mnp\u001b[0m\u001b[0;34m.\u001b[0m\u001b[0masarray\u001b[0m\u001b[0;34m(\u001b[0m\u001b[0mfun\u001b[0m\u001b[0;34m(\u001b[0m\u001b[0mt\u001b[0m\u001b[0;34m,\u001b[0m \u001b[0my\u001b[0m\u001b[0;34m)\u001b[0m\u001b[0;34m,\u001b[0m \u001b[0mdtype\u001b[0m\u001b[0;34m=\u001b[0m\u001b[0mdtype\u001b[0m\u001b[0;34m)\u001b[0m\u001b[0;34m\u001b[0m\u001b[0;34m\u001b[0m\u001b[0m\n\u001b[0m\u001b[1;32m     21\u001b[0m \u001b[0;34m\u001b[0m\u001b[0m\n\u001b[1;32m     22\u001b[0m     \u001b[0;32mreturn\u001b[0m \u001b[0mfun_wrapped\u001b[0m\u001b[0;34m,\u001b[0m \u001b[0my0\u001b[0m\u001b[0;34m\u001b[0m\u001b[0;34m\u001b[0m\u001b[0m\n",
      "\u001b[0;32m~/.local/lib/python3.8/site-packages/numpy/core/_asarray.py\u001b[0m in \u001b[0;36masarray\u001b[0;34m(a, dtype, order, like)\u001b[0m\n\u001b[1;32m    100\u001b[0m         \u001b[0;32mreturn\u001b[0m \u001b[0m_asarray_with_like\u001b[0m\u001b[0;34m(\u001b[0m\u001b[0ma\u001b[0m\u001b[0;34m,\u001b[0m \u001b[0mdtype\u001b[0m\u001b[0;34m=\u001b[0m\u001b[0mdtype\u001b[0m\u001b[0;34m,\u001b[0m \u001b[0morder\u001b[0m\u001b[0;34m=\u001b[0m\u001b[0morder\u001b[0m\u001b[0;34m,\u001b[0m \u001b[0mlike\u001b[0m\u001b[0;34m=\u001b[0m\u001b[0mlike\u001b[0m\u001b[0;34m)\u001b[0m\u001b[0;34m\u001b[0m\u001b[0;34m\u001b[0m\u001b[0m\n\u001b[1;32m    101\u001b[0m \u001b[0;34m\u001b[0m\u001b[0m\n\u001b[0;32m--> 102\u001b[0;31m     \u001b[0;32mreturn\u001b[0m \u001b[0marray\u001b[0m\u001b[0;34m(\u001b[0m\u001b[0ma\u001b[0m\u001b[0;34m,\u001b[0m \u001b[0mdtype\u001b[0m\u001b[0;34m,\u001b[0m \u001b[0mcopy\u001b[0m\u001b[0;34m=\u001b[0m\u001b[0;32mFalse\u001b[0m\u001b[0;34m,\u001b[0m \u001b[0morder\u001b[0m\u001b[0;34m=\u001b[0m\u001b[0morder\u001b[0m\u001b[0;34m)\u001b[0m\u001b[0;34m\u001b[0m\u001b[0;34m\u001b[0m\u001b[0m\n\u001b[0m\u001b[1;32m    103\u001b[0m \u001b[0;34m\u001b[0m\u001b[0m\n\u001b[1;32m    104\u001b[0m \u001b[0;34m\u001b[0m\u001b[0m\n",
      "\u001b[0;32m~/.local/lib/python3.8/site-packages/sympy/core/expr.py\u001b[0m in \u001b[0;36m__float__\u001b[0;34m(self)\u001b[0m\n\u001b[1;32m    357\u001b[0m         \u001b[0;32mif\u001b[0m \u001b[0mresult\u001b[0m\u001b[0;34m.\u001b[0m\u001b[0mis_number\u001b[0m \u001b[0;32mand\u001b[0m \u001b[0mresult\u001b[0m\u001b[0;34m.\u001b[0m\u001b[0mas_real_imag\u001b[0m\u001b[0;34m(\u001b[0m\u001b[0;34m)\u001b[0m\u001b[0;34m[\u001b[0m\u001b[0;36m1\u001b[0m\u001b[0;34m]\u001b[0m\u001b[0;34m:\u001b[0m\u001b[0;34m\u001b[0m\u001b[0;34m\u001b[0m\u001b[0m\n\u001b[1;32m    358\u001b[0m             \u001b[0;32mraise\u001b[0m \u001b[0mTypeError\u001b[0m\u001b[0;34m(\u001b[0m\u001b[0;34m\"can't convert complex to float\"\u001b[0m\u001b[0;34m)\u001b[0m\u001b[0;34m\u001b[0m\u001b[0;34m\u001b[0m\u001b[0m\n\u001b[0;32m--> 359\u001b[0;31m         \u001b[0;32mraise\u001b[0m \u001b[0mTypeError\u001b[0m\u001b[0;34m(\u001b[0m\u001b[0;34m\"can't convert expression to float\"\u001b[0m\u001b[0;34m)\u001b[0m\u001b[0;34m\u001b[0m\u001b[0;34m\u001b[0m\u001b[0m\n\u001b[0m\u001b[1;32m    360\u001b[0m \u001b[0;34m\u001b[0m\u001b[0m\n\u001b[1;32m    361\u001b[0m     \u001b[0;32mdef\u001b[0m \u001b[0m__complex__\u001b[0m\u001b[0;34m(\u001b[0m\u001b[0mself\u001b[0m\u001b[0;34m)\u001b[0m\u001b[0;34m:\u001b[0m\u001b[0;34m\u001b[0m\u001b[0;34m\u001b[0m\u001b[0m\n",
      "\u001b[0;31mTypeError\u001b[0m: can't convert expression to float"
     ]
    }
   ],
   "source": [
    "time_base = np.median(hd_data.BJD)\n",
    "\n",
    "tsim = get_sim_from_params(rand_samples[1], inclination = np.pi/2, integrator = 'ias15', time_base = time_base)\n",
    "inner_mass = tsim.particles[1].m/tsim.particles[0].m\n",
    "outer_mass = tsim.particles[2].m/tsim.particles[0].m\n",
    "\n",
    "sim = get_simple_sim([inner_mass, outer_mass])\n",
    "\n",
    "tau_e_val = 1e3\n",
    "\n",
    "pvars = cm.Poincare.from_Simulation(sim)\n",
    "rho_val = (inner_mass/outer_mass) * (2/3)**(1/3) \n",
    "\n",
    "xyvars = [y1, y2, x1, x2]\n",
    "\n",
    "L_Psi_vals = ct_all.old_to_new_array(pvars.values)[L_Psi_indices]  # values of L and Psi in that order\n",
    "xy_vals = ct_all.old_to_new_array(pvars.values)[xy_indices]  # values y1, y2, x1, x2 in that order\n",
    "\n",
    "D_val = D_exprn.subs(zip([L, Psi], L_Psi_vals)).subs(rho, rho_val)  # use L and Psi to compute the D value\n",
    "\n",
    "# use conservative flow, newflow with d value subsitutted in\n",
    "consflow = newflow.subs(D, D_val)\n",
    "consflow_fn = sp.lambdify(xyvars, consflow)\n",
    "# and jacobian\n",
    "consjac = sp.Matrix(4, 4, lambda i, j: sp.diff(consflow[i], xyvars[j]))\n",
    "consjac_fn = sp.lambdify(xyvars, consjac)\n",
    "# now newton solve for the equilibrium values of period ratio and eccentricities\n",
    "f = lambda t, x: consflow_fn(*x).reshape(-1)\n",
    "Df = lambda t, x: consjac_fn(*x)\n",
    "# integrate the equations of motion\n",
    "soln = solve_ivp(f, (times[0], times[-1]), xy_vals, method = 'Radau', jac = Df)\n",
    "\n",
    "# now solve using newton's method\n",
    "ff = lambda x: consflow_fn(*x).reshape(-1)\n",
    "Dff = lambda x: consjac_fn(*x)\n",
    "\n",
    "root = newton_solve(ff, Dff, soln.y.T[-1])\n",
    "root\n",
    "\n",
    "y0 = ct_all.old_to_new_array(pvars.values)\n",
    "y0[indices] = root\n",
    "pvars.values = ct_all.new_to_old_array(y0)\n",
    "\n",
    "pvars.particles[1].e, pvars.particles[2].e, D_val, D_to_K(fullflow, list(root) + [D_val])\n",
    "\n"
   ]
  },
  {
   "cell_type": "code",
   "execution_count": null,
   "id": "71c30fda",
   "metadata": {},
   "outputs": [],
   "source": [
    "D_to_K(fullflow, y0), root"
   ]
  },
  {
   "cell_type": "code",
   "execution_count": null,
   "id": "6b5d0873",
   "metadata": {},
   "outputs": [],
   "source": [
    "# 50 times the inner planet's orbital period\n",
    "ntimes = int(1e3)\n",
    "time_base = np.median(hd_data.BJD) # set time base to median of the BJD of the observed data\n",
    "sample_times = np.linspace(time_base, time_base + fit_params[0] * 500, ntimes)  # fit_params[0] is the inner planet's orbital period\n",
    "\n",
    "# arrays for periods, eccentricities and libration angles\n",
    "sample_p1 = np.zeros((n, len(sample_times)))\n",
    "sample_p2 = np.zeros((n, len(sample_times)))\n",
    "\n",
    "sample_e1 = np.zeros((n, len(sample_times)))\n",
    "sample_e2 = np.zeros((n, len(sample_times)))\n",
    "\n",
    "sample_theta1 = np.zeros((n, len(sample_times)))\n",
    "sample_theta2 = np.zeros((n, len(sample_times)))\n",
    "\n",
    "sample_Ds = np.zeros(len(sample_times))\n",
    "sample_Ks = np.zeros(len(sample_times))\n",
    "\n",
    "# to find equilibrium values\n",
    "roots = np.zeros((n, len(dyvars)))\n",
    "sample_e1_eq, sample_e2_eq = np.zeros(n), np.zeros(n)\n",
    "\n",
    "tau_e_val = 1e3  # tau e value\n",
    "\n",
    "# xy variables\n",
    "xyvars = [y1, y2, x1, x2]\n",
    "\n",
    "\n",
    "for i, sample in tqdm(enumerate(rand_samples)):\n",
    "    \n",
    "    # analytical root-finding\n",
    "    \n",
    "    # get sim from params to find the masses of the particles and to use\n",
    "    sim = get_sim_from_params(sample, inclination = np.pi/2, integrator = 'ias15', time_base = time_base)\n",
    "    # inner, outer planets\n",
    "    inner = sim.particles[1]\n",
    "    outer = sim.particles[2]\n",
    "    # get pvars from sim and the rho value of the system\n",
    "    pvars = cm.Poincare.from_Simulation(sim)\n",
    "    rho_val = (inner.m/outer.m) * (2/3)**(1/3) \n",
    "    \n",
    "    # L, Psi value computation using canonical transformation\n",
    "    L_Psi_vals = ct_all.old_to_new_array(pvars.values)[L_Psi_indices]  # values of L and Psi in that order\n",
    "    xy_vals = ct_all.old_to_new_array(pvars.values)[xy_indices]  # values y1, y2, x1, x2 in that order\n",
    "    \n",
    "    # D value computation\n",
    "    D_val = D_exprn.subs(zip([L, Psi], L_Psi_vals)).subs(rho, rho_val)  # use L and Psi to compute the D value\n",
    "\n",
    "    # use conservative flow, newflow with d value subsitutted in\n",
    "    consflow = newflow.subs(D, D_val)\n",
    "    consflow_fn = sp.lambdify(xyvars, consflow)\n",
    "    \n",
    "    # and jacobian\n",
    "    consjac = sp.Matrix(4, 4, lambda m, n: sp.diff(consflow[m], xyvars[n]))\n",
    "    consjac_fn = sp.lambdify(xyvars, consjac)\n",
    "    \n",
    "    # now newton solve for the equilibrium values of period ratio and eccentricities\n",
    "    f = lambda t, x: consflow_fn(*x).reshape(-1)\n",
    "    Df = lambda t, x: consjac_fn(*x)\n",
    "    \n",
    "    # integrate the equations of motion to find somewhere that's close to equilibrium\n",
    "    soln = solve_ivp(f, (times[0], times[-1]), xy_vals, method = 'Radau', jac = Df)\n",
    "    \n",
    "    # now solve using newton's method\n",
    "    ff = lambda x: consflow_fn(*x).reshape(-1)\n",
    "    Dff = lambda x: consjac_fn(*x)\n",
    "    root = newton_solve(ff, Dff, soln.y.T[-1])\n",
    "    \n",
    "    # now put the root values into the pvars so can find eccentricities\n",
    "    y0 = ct_all.old_to_new_array(pvars.values)\n",
    "    y0[indices] = root\n",
    "    pvars.values = ct_all.new_to_old_array(y0)\n",
    "    \n",
    "    # record e1, e2 at equilibrium\n",
    "    sample_e1_eq[i] = pvars.particles[1].e\n",
    "    sample_e2_eq[i] = pvars.particles[2].e\n",
    "    \n",
    "    # record D, K values for that point in the posterior distribution\n",
    "    sample_Ds[i] = D_val\n",
    "    sample_Ks[i] = D_to_K(fullflow, list(root) + [D_val])\n",
    "    \n",
    "    # REBOUND integration\n",
    "    for j, t in enumerate(sample_times):\n",
    "        # integrate\n",
    "        sim.integrate(t)\n",
    "        \n",
    "        # record periods, eccentricities and libration angles\n",
    "        sample_p1[i][j] = inner.P\n",
    "        sample_p2[i][j] = outer.P\n",
    "        \n",
    "        sample_e1[i][j] = inner.e\n",
    "        sample_e2[i][j] = outer.e\n",
    "        \n",
    "        # mean longitude angle\n",
    "        resonant_angle = 3 * outer.l - 2 * inner.l\n",
    "        sample_theta1[i][j] = np.mod(resonant_angle - inner.pomega, 2 * np.pi)\n",
    "        sample_theta2[i][j] = np.mod(resonant_angle - outer.pomega, 2 * np.pi)"
   ]
  },
  {
   "cell_type": "code",
   "execution_count": null,
   "id": "60cd8984",
   "metadata": {},
   "outputs": [],
   "source": [
    "num = 50\n",
    "\n",
    "plt.figure(figsize = (12, 8))\n",
    "plt.plot(sample_times, sample_e1[num], label = r'$e_1$')\n",
    "plt.plot(sample_times, sample_e2[num], label = r'$e_2$')\n",
    "plt.axhline(sample_e1_eq[num], color='k')#, label = r'$e_1$')\n",
    "plt.axhline(sample_e2_eq[num], color='k')#, label = r'$e_2$')\n",
    "plt.legend()\n",
    "sample_Ks[num]"
   ]
  },
  {
   "cell_type": "code",
   "execution_count": null,
   "id": "b4bfd23b",
   "metadata": {},
   "outputs": [],
   "source": [
    "plt.plot(sample_times, sample_p2[0]/sample_p1[0])"
   ]
  },
  {
   "cell_type": "code",
   "execution_count": null,
   "id": "7b649365",
   "metadata": {},
   "outputs": [],
   "source": [
    "plt.plot(sample_times, sample_theta1[0], 'o')\n",
    "plt.plot(sample_times, sample_theta2[0], 'o')\n",
    "plt.xlim(50000, 100000)"
   ]
  },
  {
   "cell_type": "code",
   "execution_count": null,
   "id": "b68638ad",
   "metadata": {},
   "outputs": [],
   "source": []
  },
  {
   "cell_type": "markdown",
   "id": "9ff540e4",
   "metadata": {},
   "source": [
    "Plot eccentricities:"
   ]
  },
  {
   "cell_type": "code",
   "execution_count": null,
   "id": "9b9c833e",
   "metadata": {},
   "outputs": [],
   "source": [
    "plt.figure(figsize = (12, 8))\n",
    "for i in range(0, n):\n",
    "    plt.plot(sample_times, sample_e1[i], color='r', label = 'e1' if i == 0 else '')\n",
    "    plt.plot(sample_times, sample_e2[i], color='k', label = 'e2' if i == 0 else '')\n",
    "plt.xlabel('Time'), plt.ylabel('Eccentricity')\n",
    "plt.legend()\n",
    "# plt.show()"
   ]
  },
  {
   "cell_type": "markdown",
   "id": "30d6c101",
   "metadata": {},
   "source": [
    "Period ratios:"
   ]
  },
  {
   "cell_type": "code",
   "execution_count": null,
   "id": "8dd69e2d",
   "metadata": {},
   "outputs": [],
   "source": [
    "plt.figure(figsize = (12, 8))\n",
    "for i in range(0, n):\n",
    "    pr = sample_p2[i]/sample_p1[i]\n",
    "    plt.plot(sample_times, pr)#, color='r')\n",
    "plt.xlabel('Time'), plt.ylabel('Period ratio')\n",
    "# plt.legend()"
   ]
  },
  {
   "cell_type": "markdown",
   "id": "c624c500",
   "metadata": {},
   "source": [
    "And libration angles:"
   ]
  },
  {
   "cell_type": "code",
   "execution_count": null,
   "id": "bf87e55c",
   "metadata": {},
   "outputs": [],
   "source": [
    "plt.figure(figsize = (12, 8))\n",
    "for i in range(0, n):\n",
    "    plt.plot(sample_times, sample_theta1[i], 'o', color='r', label = r'$\\theta_1$' if i == 0 else '')\n",
    "    plt.plot(sample_times, sample_theta2[i], 'o', color='k', label = r'$\\theta_2$' if i == 0 else '')\n",
    "plt.xlabel('Time'), plt.ylabel(r'$\\theta$')\n",
    "plt.legend()"
   ]
  },
  {
   "cell_type": "code",
   "execution_count": null,
   "id": "83bc84ee",
   "metadata": {},
   "outputs": [],
   "source": []
  }
 ],
 "metadata": {
  "kernelspec": {
   "display_name": "Python 3 (ipykernel)",
   "language": "python",
   "name": "python3"
  },
  "language_info": {
   "codemirror_mode": {
    "name": "ipython",
    "version": 3
   },
   "file_extension": ".py",
   "mimetype": "text/x-python",
   "name": "python",
   "nbconvert_exporter": "python",
   "pygments_lexer": "ipython3",
   "version": "3.10.12"
  }
 },
 "nbformat": 4,
 "nbformat_minor": 5
}
