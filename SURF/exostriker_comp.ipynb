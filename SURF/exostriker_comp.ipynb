{
 "cells": [
  {
   "cell_type": "code",
   "execution_count": 1,
   "id": "a0883daa-3129-4123-8ea4-f7feba9fc3fb",
   "metadata": {},
   "outputs": [
    {
     "name": "stderr",
     "output_type": "stream",
     "text": [
      "/home/ichow9/.conda/envs/wmpl/lib/python3.10/site-packages/radvel/gp.py:32: ImportWarning: celerite not installed. GP kernals using celerite will not work. Try installing celerite using 'pip install celerite'\n",
      "  warnings.warn(\"celerite not installed. GP kernals using celerite will not work. \\\n"
     ]
    }
   ],
   "source": [
    "import pickle\n",
    "import radvel\n",
    "import rebound as rb\n",
    "import pandas as pd\n",
    "import numpy as np\n",
    "import matplotlib.pyplot as pl\n",
    "from scipy import optimize, stats\n",
    "import corner\n",
    "from radvel.plot import mcmc_plots\n",
    "import reboundx\n",
    "import emcee\n",
    "from multiprocessing import Pool\n",
    "import h5py\n",
    "import time\n",
    "from celmech.nbody_simulation_utilities import align_simulation\n",
    "from tqdm import tqdm\n",
    "from emcee.interruptible_pool import InterruptiblePool\n",
    "import os\n",
    "from getdist import plots, MCSamples\n",
    "%matplotlib inline"
   ]
  },
  {
   "cell_type": "code",
   "execution_count": 2,
   "id": "3ff3d201-a577-4f48-ad8c-18b30d9d0614",
   "metadata": {},
   "outputs": [],
   "source": [
    "pl.rc('font', size=18)"
   ]
  },
  {
   "cell_type": "code",
   "execution_count": 3,
   "id": "4f8f866f-32e6-4276-b3ac-ff0f442661bb",
   "metadata": {},
   "outputs": [],
   "source": [
    "MAY_1_2015 = 57143.5  # barycentric julian date for May 1, 2015 (the date of the HARPS instrument upgrade as per trifonov et al 2020)\n",
    "# 57143.5 is BJD for May 1, 2015\n",
    "# 57173.5 is BJD for May 31, 2015\n",
    "\n",
    "# exostriker\n",
    "exostriker_hd_data = pd.read_csv('./exostriker_hd45364_rv_data.csv', sep=',')"
   ]
  },
  {
   "cell_type": "code",
   "execution_count": 4,
   "id": "90851648-0e5f-43db-b404-8919793624b3",
   "metadata": {},
   "outputs": [],
   "source": [
    "def target_func(row):\n",
    "    if row.target == 1.0:\n",
    "        return 'HARPS1'\n",
    "    if row.target == 2.0:\n",
    "        return 'HARPS2'\n",
    "    if row.target == 3.0:\n",
    "        return 'HIRES'\n",
    "\n",
    "hd_data_mod = exostriker_hd_data.copy()\n",
    "hd_data_mod.columns = ['BJD', 'RV_mlc_nzp', 'e_RV_mlc_nzp', 'target', 'oc', 'model', 'model1', 'model2', 'test']\n",
    "hd_data = hd_data_mod.copy()\n",
    "hd_data['target'] = hd_data_mod.apply(target_func, axis=1)\n",
    "hd_data.BJD -= 2.4e6\n",
    "\n",
    "# fit params\n",
    "fit_params = ([ 2.25638612e+02,  7.29205979e+00,  5.28083116e+04,  7.39686309e-03,\n",
    "       -2.80725470e-01,  3.45356466e+02,  1.81870570e+01,  5.29845857e+04,\n",
    "        1.74856643e-02,  1.25751168e-02,  1.28654922e-01,  1.35079661e-03,\n",
    "        5.96071487e-01,  1.00000000e+00,  1.42296165e+00,  8.48880201e-01,\n",
    "        4.32096766e+00])\n",
    "\n",
    "\n",
    "obs_time_base = 52984.709\n",
    "# obs_time_base = np.median(hd_data.BJD)"
   ]
  },
  {
   "cell_type": "code",
   "execution_count": 5,
   "id": "54f690e4-6ffe-4fa7-9d12-9c03f12064dc",
   "metadata": {},
   "outputs": [],
   "source": [
    "## CONSTANTS:\n",
    "\n",
    "# STAR_MASS = 920  # 920 jupiter masses\n",
    "STAR_MASS = 859\n",
    "G = 2.825e-7  # converting G to jupiter masses, au, and days\n",
    "AUDAY_MS = 1.731e6  # conversion factor for au/day to m/s\n",
    "\n",
    "# obs_time_base = np.median(hd_data_harps.BJD)\n",
    "# obs_time_base = np.min(hd_data_harps.BJD)\n",
    "\n",
    "# print(f'nbody_params:{nbody_params}\\n fit_params:{fit_params}')\n",
    "\n",
    "def mass_to_semiamp(planet_mass, star_mass, period, eccentricity, inclination):\n",
    "    \"\"\"\n",
    "    planet mass (jupiter masses) to semi amplitude (in au/day)\n",
    "    \"\"\"\n",
    "    return ((2 * np.pi * G/period) ** (1/3) * (planet_mass * np.sin(inclination) / star_mass ** (2/3)) * (1/np.sqrt(1 - eccentricity ** 2)))\n",
    "\n",
    "\n",
    "def semiamp_to_mass(semiamp, star_mass, period, eccentricity, inclination):\n",
    "    \"\"\"\n",
    "    semi amplitude (in au/day) to planet mass (jupiter masses)\n",
    "    \"\"\"\n",
    "    return (((2 * np.pi * G/period) ** (-1/3)) * (semiamp / np.sin(inclination)) * np.sqrt(1 - eccentricity ** 2) * (star_mass ** (2/3)))\n",
    "\n",
    "\n",
    "def get_sim_from_params(params, integrator, time_base, star_mass = STAR_MASS, auday_ms = AUDAY_MS):\n",
    "    \"\"\"\n",
    "    takes in params array, returns a rebound Simulation object with those parameters\n",
    "    \n",
    "    param params: numpy array of params:\n",
    "    \n",
    "    for i in range(0, num_planets):\n",
    "    \n",
    "    params[i + 0] is period\n",
    "    params[i + 1] is semiamp\n",
    "    params[i + 2] is tc (time of conjunction)\n",
    "    params[i + 3] is sqrt(e) * cos(omega)\n",
    "    params[i + 4] is sqrt(e) * sin(omega)\n",
    "    \n",
    "    params[5 * num_planets] is rv offset for HARPS1\n",
    "    params[5 * num_planets + 1] is rv offset for HARPS2\n",
    "    params[5 * num_planets + 2] is rv offset for HIRES\n",
    "    params[5 * num_planets + 3] is sin(i)\n",
    "    params[5 * num_planets + 4] is jitter for HARPS1\n",
    "    params[5 * num_planets + 5] is jitter for HARPS2\n",
    "    params[5 * num_planets + 6] is jitter for HIRES\n",
    "    \n",
    "    param integrator: integrator to use, one of 'whfast' or 'ias15'\n",
    "    param time_base: base time (to begin integration from) in the simulation\n",
    "    \"\"\"\n",
    "    \n",
    "    num_planets = 2 # 2 planets\n",
    "    \n",
    "    sim = rb.Simulation()\n",
    "    sim.integrator = integrator\n",
    "    sim.t = time_base  # keplerian and n-body models initialized at the same time offset\n",
    "    # print(sim.t)\n",
    "    if integrator == 'whfast':  # if using whfast integrator, set timestep\n",
    "        sim.dt = 1/50 * np.min([params[0], params[5]])  # timestep is 1/20th of the shortest orbital period of any planet\n",
    "        # print(sim.dt)\n",
    "    sim.units = ('AU', 'Mjupiter', 'day')\n",
    "    sim.add(m = star_mass)  # star mass as a constant\n",
    "    \n",
    "    inclination = np.arcsin(params[-4])  # sin(i) is fourth from the back of the array\n",
    "        \n",
    "    for i in range (0, num_planets):\n",
    "        # print(i)\n",
    "        # planet parameters\n",
    "        period = params[5*i]  # in days\n",
    "        semiamp = params[5*i + 1] / auday_ms # divide by auday_ms because semiamp given in m/s\n",
    "        eccentricity = params[5*i + 3] ** 2 + params[5*i + 4] ** 2  # eccentricity from secos, sesin\n",
    "        omega = np.arctan2(params[5*i + 4], params[5*i + 3])  # omega from arctan of sesin, secos  (in that order!)\n",
    "        # get tp by converting from tc\n",
    "        tp = radvel.orbit.timetrans_to_timeperi(tc = params[5*i + 2], per = period, ecc = eccentricity, omega = omega)\n",
    "        \n",
    "        # mass\n",
    "        mass = semiamp_to_mass(semiamp = semiamp, star_mass = star_mass, period = period, eccentricity = eccentricity, inclination = inclination)\n",
    "        \n",
    "        # adding to simulation\n",
    "        sim.add(m = mass, P = period, e = eccentricity, T = tp, omega = omega, inc = inclination)\n",
    "        \n",
    "    sim.move_to_com()  # move to center of mass\n",
    "    \n",
    "    return sim\n",
    "\n",
    "def get_simple_sim(masses, integrator = 'ias15', period_ratio = 3/2, epsilon=0.01):\n",
    "    \"\"\"\n",
    "    gets simple sim (for eccentricity track stuff)\n",
    "    param masses: array of planet masses\n",
    "    param integrator: integrator\n",
    "    param epsilon: amount by which the resonant period ratio should be offset from the equilibrium in the simulation\n",
    "    \"\"\"\n",
    "    sim = rb.Simulation()\n",
    "    sim.integrator = integrator\n",
    "    # central star\n",
    "    sim.add(m = 1)\n",
    "    \n",
    "    sim.add(m = masses[0], P = 1)\n",
    "    sim.add(m = masses[1], P = period_ratio * (1 + epsilon))\n",
    "\n",
    "    sim.move_to_com()\n",
    "    if integrator == 'whfast':\n",
    "        sim.dt = 1/50 * 1  # dy default use 1/50th of the inner planet's orbital period for the timestep if using whfast\n",
    "    return sim\n",
    "\n",
    "\n",
    "def get_rvs(params, instrument, times, integrator, time_base, auday_ms = AUDAY_MS):\n",
    "    \n",
    "    \"\"\"\n",
    "    Gets RVs from a Numpy array of planet params\n",
    "    \n",
    "    param params:     for i in range(0, num_planets):\n",
    "    \n",
    "    params[i + 0] is period\n",
    "    params[i + 1] is semiamp\n",
    "    params[i + 2] is tc (time of conjunction)\n",
    "    params[i + 3] is sqrt(e) * cos(omega)\n",
    "    params[i + 4] is sqrt(e) * sin(omega)\n",
    "    \n",
    "    params[5 * num_planets] is rv offset for HARPS1\n",
    "    params[5 * num_planets + 1] is rv offset for HARPS2\n",
    "    params[5 * num_planets + 2] is rv offset for HIRES\n",
    "    params[5 * num_planets + 3] is sin(i) (also params[-4])\n",
    "    params[5 * num_planets + 4] is jitter for HARPS1 (also params[-3])\n",
    "    params[5 * num_planets + 5] is jitter for HARPS2 (also params[-2])\n",
    "    params[5 * num_planets + 6] is jitter for HIRES (also params[-1])\n",
    "\n",
    "    param instrument: instrument (HARPS1, HARPS2, or HIRES)\n",
    "    param times: array of times to integrate over\n",
    "    param integrator: integrator to use, one of 'whfast' or 'ias15'\n",
    "    \n",
    "    \"\"\"\n",
    "    \n",
    "    sim = get_sim_from_params(params, integrator, time_base = time_base)\n",
    "    \n",
    "    sim_backwards = sim.copy()\n",
    "    sim_backwards.dt *= -1  # set timestep to be negative if integrating backwards\n",
    "\n",
    "    times = pd.Series(times)  # convert to series if not already\n",
    "    \n",
    "    forward_times = times[times - time_base >= 0]\n",
    "    backward_times = times[times - time_base < 0]\n",
    "    forward_indices = forward_times.index\n",
    "    backward_indices = backward_times.index\n",
    "    \n",
    "    # initialize rvs\n",
    "    rv_forward = np.zeros(len(forward_times))\n",
    "    rv_backward = np.zeros(len(backward_times))\n",
    "    \n",
    "    num_planets = 2  # find number of planets in params passed\n",
    "    \n",
    "    # get the rvs (z velocity, assuming 90 deg inclination) from the rebound simulation to compare with the actual simulation\n",
    "    for j, it in enumerate(zip(forward_indices, forward_times)):\n",
    "        i, t = it  # forward index, forward time\n",
    "        sim.integrate(t, exact_finish_time = 1)\n",
    "        # integrate to the specified time, exact_finish_time = 1 for ias15, \n",
    "        # sim.status()\n",
    "        star = sim.particles[0]\n",
    "        # print(instrument[i])\n",
    "        # use one of 3 different radial velocity offsets depending on whether the data is from HARPS1, HARPS2 or HIRES\n",
    "        if instrument[i] == 'HARPS1':\n",
    "            rv_offset = params[5 * num_planets]\n",
    "        elif instrument[i] == 'HARPS2':\n",
    "            rv_offset = params[5 * num_planets + 1]\n",
    "        elif instrument[i] == 'HIRES':\n",
    "            rv_offset = params[5 * num_planets + 2]\n",
    "        else:\n",
    "            rv_offset = 0.\n",
    "        rv_forward[j] = (-star.vz * auday_ms) + rv_offset  # use x-velocity of the star as the radial velocity, convert to m/s\n",
    "    \n",
    "    for j, it in enumerate(zip(backward_indices, backward_times)):\n",
    "        i, t = it  # backward index, backward time\n",
    "        sim_backwards.integrate(t, exact_finish_time = 1)\n",
    "        star = sim_backwards.particles[0]\n",
    "        # use one of 3 different radial velocity offsets depending on whether the data is from HARPS1, HARPS2 or HIRES\n",
    "        # print(instrument[i])\n",
    "        if instrument[i] == 'HARPS1':\n",
    "            rv_offset = params[5 * num_planets]\n",
    "        elif instrument[i] == 'HARPS2':\n",
    "            rv_offset = params[5 * num_planets + 1]\n",
    "        elif instrument[i] == 'HIRES':\n",
    "            rv_offset = params[5 * num_planets + 2]\n",
    "        else:\n",
    "            rv_offset = 0.\n",
    "        rv_backward[j] = (-star.vz * auday_ms) + rv_offset\n",
    "    \n",
    "    return np.concatenate((rv_backward, rv_forward))"
   ]
  },
  {
   "cell_type": "code",
   "execution_count": 6,
   "id": "c341fd78-712d-4670-8435-5cfcefb66c2f",
   "metadata": {},
   "outputs": [],
   "source": [
    "def get_nbody_resids(params, integrator, data = hd_data):\n",
    "    \"\"\"\n",
    "    Gets the normalized residuals for the n-body fit with REBOUND\n",
    "    \"\"\"\n",
    "    obs_y = data.RV_mlc_nzp  # observed RVs\n",
    "    synth_y = get_rvs(params, data.target, data.BJD, integrator, time_base=obs_time_base)  # RVs from the rebound simulation\n",
    "    obs_yerr = data.e_RV_mlc_nzp  # y errors\n",
    "    return (obs_y - synth_y) / obs_yerr  # return normalized residuals\n",
    "\n",
    "\n",
    "def neg_log_likelihood(params, time_base = obs_time_base, data = hd_data, num_planets = 2):\n",
    "    \"\"\"\n",
    "    Gets the negative log-likelihood (including a jitter term!) for use with scipy.optimize.minimze\n",
    "    \n",
    "    Iplements the log likelihood using the same method above\n",
    "    \n",
    "    \"\"\"\n",
    "    obs_y = data.RV_mlc_nzp  # observed RVs\n",
    "    \n",
    "    # inclination not handled sparately\n",
    "    # inclination = np.arcsin(params[-4])  # inclination is np.arcsin of the second to last parameter\n",
    "    \n",
    "    synth_y = get_rvs(params, data.target, data.BJD, 'ias15', time_base = time_base)  # RVs from the rebound simulation\n",
    "    obs_yerr = data.e_RV_mlc_nzp  # y errors\n",
    "\n",
    "    conditions = [data.target == 'HARPS1', data.target == 'HARPS2', data.target == 'HIRES']  # conditions are harps1, harps2 or hires\n",
    "\n",
    "    rv_offsets = params[5 * num_planets:5 * num_planets + 3]  # rv_offsets for HARPS1, HARPS2 and HIRES, in that order\n",
    "    jitters = params[-3:]  # jitters for HARPS1, HARPS2 and HIRES, in that order\n",
    "    \n",
    "    # get the jitter and rv values for the corresponding data points\n",
    "    rv_offset = np.select(conditions, rv_offsets, default=np.nan)\n",
    "    jitter = np.select(conditions, jitters, default=np.nan)\n",
    "    # print(rv_offset, jitter)\n",
    "\n",
    "    # compute the log-likelihood\n",
    "    #### OLD\n",
    "    # log_likelihood = -1/2 * np.sum(((obs_y - synth_y) ** 2)/(obs_yerr ** 2 + jitter ** 2) \n",
    "    #                                + np.log(np.sqrt(2 * np.pi * (obs_yerr ** 2 + jitter ** 2))))\n",
    "\n",
    "    #### LI ET AL. 2022 VERSION (NEW)\n",
    "    # sigma_z2 = 1/(np.sum(1/(obs_yerr ** 2 + jitter ** 2)))\n",
    "    log_likelihood = -1/2 * np.sum(((obs_y - synth_y) ** 2)/((obs_yerr ** 2 + jitter ** 2))) - np.sum(np.log(np.sqrt(2 * np.pi * (obs_yerr ** 2 + jitter ** 2)))) # + np.log(np.sqrt(2 * np.pi * sigma_z2))\n",
    "    # log_likelihood = -1/2 * np.sum(np.log(variance) + ((obs_y - synth_y) ** 2/variance))    \n",
    "    # print(-1/2 * np.sum(((obs_y - rv_offset - synth_y) ** 2)/((obs_yerr ** 2 + jitter ** 2))))\n",
    "    # print(-log_likelihood)\n",
    "    return -log_likelihood  # negative since we are trying to minimize the negative log likelihood"
   ]
  },
  {
   "cell_type": "markdown",
   "id": "ecefed26-cb27-4613-bf63-991e173c873b",
   "metadata": {},
   "source": [
    "Exostriker comparison:"
   ]
  },
  {
   "cell_type": "code",
   "execution_count": 7,
   "id": "eccd1796-05ed-4714-8f8e-c8a35a6807ae",
   "metadata": {},
   "outputs": [
    {
     "data": {
      "text/plain": [
       "<ErrorbarContainer object of 3 artists>"
      ]
     },
     "execution_count": 7,
     "metadata": {},
     "output_type": "execute_result"
    },
    {
     "data": {
      "image/png": "[encoded data removed]",
      "text/plain": [
       "<Figure size 640x480 with 1 Axes>"
      ]
     },
     "metadata": {},
     "output_type": "display_data"
    }
   ],
   "source": [
    "pl.errorbar(hd_data[hd_data.target == 'HARPS1'].BJD, hd_data[hd_data.target == 'HARPS1'].RV_mlc_nzp, \n",
    "            yerr = hd_data[hd_data.target == 'HARPS1'].e_RV_mlc_nzp, fmt = 'o', markersize=7, label = 'HARPS1', color='black', alpha=1.)\n",
    "pl.errorbar(hd_data[hd_data.target == 'HARPS2'].BJD, hd_data[hd_data.target == 'HARPS2'].RV_mlc_nzp, \n",
    "            yerr = hd_data[hd_data.target == 'HARPS2'].e_RV_mlc_nzp, fmt = 'o', markersize=7, label = 'HARPS2', color='dodgerblue', alpha=1.)\n",
    "pl.errorbar(hd_data[hd_data.target == 'HIRES'].BJD, hd_data[hd_data.target == 'HIRES'].RV_mlc_nzp, \n",
    "            yerr = hd_data[hd_data.target == 'HIRES'].e_RV_mlc_nzp, fmt = 'o', markersize=7, label = 'HIRES', color='purple', alpha=1.)"
   ]
  },
  {
   "cell_type": "code",
   "execution_count": 8,
   "id": "46cc2f2a-f0ae-4e9a-b6b9-0b030c52ef69",
   "metadata": {},
   "outputs": [
    {
     "data": {
      "text/latex": [
       "$\\displaystyle 233.490517443172$"
      ],
      "text/plain": [
       "233.49051744317225"
      ]
     },
     "execution_count": 8,
     "metadata": {},
     "output_type": "execute_result"
    }
   ],
   "source": [
    "neg_log_likelihood(fit_params)# , neg_log_likelihood(trifonov_params)"
   ]
  },
  {
   "cell_type": "markdown",
   "id": "25893c04-5b18-4766-8296-9f0298b52e23",
   "metadata": {},
   "source": [
    "logL maximization:"
   ]
  },
  {
   "cell_type": "code",
   "execution_count": 9,
   "id": "0511897e-0f02-4ba2-8baf-32f74e6fbac2",
   "metadata": {},
   "outputs": [],
   "source": [
    "# bounds = ([-np.inf, -np.inf, -np.inf, -np.inf, -np.inf, -np.inf, -np.inf, -np.inf, -np.inf, -np.inf, -np.inf, 0], \n",
    "#           [np.inf, np.inf, np.inf, np.inf, np.inf, np.inf, np.inf, np.inf, np.inf, np.inf, np.inf, 1])\n",
    "\n",
    "# fit_params = optimize.least_squares(lambda params: get_nbody_resids(params, integrator = 'ias15'), nbody_params, bounds=bounds)\n",
    "\n",
    "def ecc_con1(params):\n",
    "    return 1 - (params[3] ** 2 + params[4] ** 2)\n",
    "\n",
    "def ecc_con2(params):\n",
    "    return 1 - (params[8] ** 2 + params[9] ** 2)\n",
    "\n",
    "cons = ({'type': 'ineq', 'fun': ecc_con1}, \n",
    "        {'type': 'ineq', 'fun': ecc_con2})\n",
    "\n",
    "# bounds of (0, 1) for sin(i), everything else can vary however\n",
    "bounds = ((None, None), (None, None), (None, None), (None, None), (None, None), \n",
    "          (None, None), (None, None), (None, None), (None, None), (None, None), \n",
    "          (None, None), (None, None), (None, None),\n",
    "          (0, 1), \n",
    "          (None, None), (None, None), (None, None))\n",
    "#### BFGS and L-BFGS do not work without hacky fixes (returns RV array full of nans (ecc greater than 1))\n",
    "#### Nelder-Mead seems to work...\n",
    "best_fit_jitter = optimize.minimize(neg_log_likelihood, x0=np.array(fit_params), method='Nelder-Mead', \n",
    "                                    bounds=bounds, constraints=cons, options={'maxiter': 1000000000000, \n",
    "                                                                              'maxfev': 1000000000000, \n",
    "                                                                              # 'ftol': 1.e-7\n",
    "                                                                             }\n",
    "                                   )  # optimization"
   ]
  },
  {
   "cell_type": "code",
   "execution_count": 10,
   "id": "e5967f7b-8c26-4070-b2f3-362f748bff6a",
   "metadata": {},
   "outputs": [
    {
     "data": {
      "text/plain": [
       "array([ 2.25426732e+02,  7.30394654e+00,  5.28093363e+04,  1.54189571e-02,\n",
       "       -2.64986489e-01,  3.45487052e+02,  1.81882134e+01,  5.29848836e+04,\n",
       "       -5.11213849e-02,  8.01593684e-02, -7.56025400e-03,  4.82848910e-03,\n",
       "       -8.95688663e-01,  1.00000000e+00,  1.42343480e+00,  6.71351801e-01,\n",
       "        2.99513165e+00])"
      ]
     },
     "execution_count": 10,
     "metadata": {},
     "output_type": "execute_result"
    }
   ],
   "source": [
    "best_fit_jitter.x"
   ]
  },
  {
   "cell_type": "code",
   "execution_count": 11,
   "id": "47f84c20-b235-4313-88f1-b0b4341b3d2d",
   "metadata": {},
   "outputs": [
    {
     "data": {
      "text/latex": [
       "$\\displaystyle \\left( 231.759634091401, \\  233.490517443172\\right)$"
      ],
      "text/plain": [
       "(231.75963409140115, 233.49051744317225)"
      ]
     },
     "execution_count": 11,
     "metadata": {},
     "output_type": "execute_result"
    }
   ],
   "source": [
    "neg_log_likelihood(best_fit_jitter.x), neg_log_likelihood(fit_params)"
   ]
  }
 ],
 "metadata": {
  "kernelspec": {
   "display_name": "Python 3 (ipykernel)",
   "language": "python",
   "name": "python3"
  },
  "language_info": {
   "codemirror_mode": {
    "name": "ipython",
    "version": 3
   },
   "file_extension": ".py",
   "mimetype": "text/x-python",
   "name": "python",
   "nbconvert_exporter": "python",
   "pygments_lexer": "ipython3",
   "version": "3.10.15"
  }
 },
 "nbformat": 4,
 "nbformat_minor": 5
}
