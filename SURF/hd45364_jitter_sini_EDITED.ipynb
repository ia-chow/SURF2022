{
 "cells": [
  {
   "cell_type": "code",
   "execution_count": 1,
   "metadata": {},
   "outputs": [
    {
     "name": "stderr",
     "output_type": "stream",
     "text": [
      "/home/ianchow/.local/lib/python3.10/site-packages/radvel/gp.py:32: ImportWarning: celerite not installed. GP kernals using celerite will not work. Try installing celerite using 'pip install celerite'\n",
      "  warnings.warn(\"celerite not installed. GP kernals using celerite will not work. \\\n"
     ]
    }
   ],
   "source": [
    "import radvel\n",
    "import numpy as np\n",
    "import rebound as rb\n",
    "import reboundx\n",
    "import matplotlib.pyplot as plt\n",
    "import celmech as cm\n",
    "import pandas as pd\n",
    "# pd.set_option('display.max_rows', None)\n",
    "import h5py\n",
    "from tqdm import tqdm\n",
    "from scipy import optimize"
   ]
  },
  {
   "cell_type": "markdown",
   "metadata": {},
   "source": [
    "Import data:"
   ]
  },
  {
   "cell_type": "code",
   "execution_count": 2,
   "metadata": {},
   "outputs": [],
   "source": [
    "MAY_1_2015 = 57143.5  # barycentric julian date for May 1, 2015 (the date of the HARPS instrument upgrade as per trifonov et al 2020)\n",
    "# 57143.5 is BJD for May 1, 2015\n",
    "# 57173.5 is BJD for May 31, 2015\n",
    "\n",
    "# harps\n",
    "hd_data_harps = pd.read_csv('hd45364_rvs.csv', sep = ';')\n",
    "# giant outlier at position 116 in the data (found manually earlier) which we remove\n",
    "hd_data_harps.drop(116, inplace=True)  # drop the row and keep the df in place\n",
    "# subtract 2.4e6 from all the rows in the data\n",
    "hd_data_harps.BJD -= 2.4e6\n",
    "# rename target to HARPS1 or HARPS2\n",
    "hd_data_harps['target'] = hd_data_harps.apply(lambda row: 'HARPS1' if row.BJD < MAY_1_2015 else 'HARPS2', axis = 1)\n",
    "# hires\n",
    "hd_data_hires = pd.read_csv('hires_rvs.txt', sep = '\\t', index_col=False, header='infer', dtype=np.float64)\n",
    "hd_data_hires['BJD - 2,450,000'] += 50000.  # adding 50000 to have the same units as harps\n",
    "hd_data_hires['target'] = 'HIRES'\n",
    "hd_data_hires.columns = ['BJD', 'RV_mlc_nzp', 'e_RV_mlc_nzp', 'target']\n",
    "# concatenate two data sets one on top of the other\n",
    "hd_data = pd.concat((hd_data_harps, hd_data_hires), axis=0)  # matching BJD, RV_mlc_nzp and e_RV_mlc_nzp columns\n",
    "# reset index\n",
    "hd_data.reset_index(drop=True, inplace=True)"
   ]
  },
  {
   "cell_type": "code",
   "execution_count": 3,
   "metadata": {},
   "outputs": [],
   "source": [
    "## CONSTANTS:\n",
    "\n",
    "STAR_MASS = 920  # 920 jupiter masses\n",
    "G = 2.825e-7  # converting G to jupiter masses, au, and days\n",
    "AUDAY_MS = 1.731e6  # conversion factor for au/day to m/s\n",
    "\n",
    "obs_time_base = np.median(hd_data_harps.BJD)\n",
    "\n",
    "# print(f'nbody_params:{nbody_params}\\n fit_params:{fit_params}')\n",
    "\n",
    "def mass_to_semiamp(planet_mass, star_mass, period, eccentricity, inclination):\n",
    "    \"\"\"\n",
    "    planet mass (jupiter masses) to semi amplitude (in au/day)\n",
    "    \"\"\"\n",
    "    return ((2 * np.pi * G/period) ** (1/3) * (planet_mass * np.sin(inclination) / star_mass ** (2/3)) * (1/np.sqrt(1 - eccentricity ** 2)))\n",
    "\n",
    "\n",
    "def semiamp_to_mass(semiamp, star_mass, period, eccentricity, inclination):\n",
    "    \"\"\"\n",
    "    semi amplitude (in au/day) to planet mass (jupiter masses)\n",
    "    \"\"\"\n",
    "    return (((2 * np.pi * G/period) ** (-1/3)) * (semiamp / np.sin(inclination)) * np.sqrt(1 - eccentricity ** 2) * (star_mass ** (2/3)))\n",
    "\n",
    "\n",
    "def get_sim_from_params(params, integrator, time_base, star_mass = STAR_MASS, auday_ms = AUDAY_MS):\n",
    "    \"\"\"\n",
    "    takes in params array, returns a rebound Simulation object with those parameters\n",
    "    \n",
    "    param params: numpy array of params:\n",
    "    \n",
    "    for i in range(0, num_planets):\n",
    "    \n",
    "    params[i + 0] is period\n",
    "    params[i + 1] is semiamp\n",
    "    params[i + 2] is tc (time of conjunction)\n",
    "    params[i + 3] is sqrt(e) * cos(omega)\n",
    "    params[i + 4] is sqrt(e) * sin(omega)\n",
    "    \n",
    "    params[5 * num_planets] is rv offset for HARPS1\n",
    "    params[5 * num_planets + 1] is rv offset for HARPS2\n",
    "    params[5 * num_planets + 2] is rv offset for HIRES\n",
    "    params[5 * num_planets + 3] is sin(i)\n",
    "    params[5 * num_planets + 4] is jitter for HARPS1\n",
    "    params[5 * num_planets + 5] is jitter for HARPS2\n",
    "    params[5 * num_planets + 6] is jitter for HIRES\n",
    "    \n",
    "    param integrator: integrator to use, one of 'whfast' or 'ias15'\n",
    "    param time_base: base time (to begin integration from) in the simulation\n",
    "    \"\"\"\n",
    "    \n",
    "    num_planets = 2 # 2 planets\n",
    "    \n",
    "    sim = rb.Simulation()\n",
    "    sim.integrator = integrator\n",
    "    sim.t = time_base  # keplerian and n-body models initialized at the same time offset\n",
    "    # print(sim.t)\n",
    "    if integrator == 'whfast':  # if using whfast integrator, set timestep\n",
    "        sim.dt = 1/50 * np.min([params[0], params[5]])  # timestep is 1/20th of the shortest orbital period of any planet\n",
    "        # print(sim.dt)\n",
    "    sim.units = ('AU', 'Mjupiter', 'day')\n",
    "    sim.add(m = star_mass)  # star mass as a constant\n",
    "    \n",
    "    inclination = np.arcsin(params[-4])  # sin(i) is fourth from the back of the array\n",
    "        \n",
    "    for i in range (0, num_planets):\n",
    "        # print(i)\n",
    "        # planet parameters\n",
    "        period = params[5*i]  # in days\n",
    "        semiamp = params[5*i + 1] / auday_ms # divide by auday_ms because semiamp given in m/s\n",
    "        eccentricity = params[5*i + 3] ** 2 + params[5*i + 4] ** 2  # eccentricity from secos, sesin\n",
    "        omega = np.arctan2(params[5*i + 4], params[5*i + 3])  # omega from arctan of sesin, secos  (in that order!)\n",
    "        # get tp by converting from tc\n",
    "        tp = radvel.orbit.timetrans_to_timeperi(tc = params[5*i + 2], per = period, ecc = eccentricity, omega = omega)\n",
    "        \n",
    "        # mass\n",
    "        mass = semiamp_to_mass(semiamp = semiamp, star_mass = star_mass, period = period, eccentricity = eccentricity, inclination = inclination)\n",
    "        \n",
    "        # adding to simulation\n",
    "        sim.add(m = mass, P = period, e = eccentricity, T = tp, omega = omega, inc = inclination)\n",
    "        \n",
    "    sim.move_to_com()  # move to center of mass\n",
    "    \n",
    "    return sim\n",
    "\n",
    "def get_simple_sim(masses, integrator = 'ias15', period_ratio = 3/2, epsilon=0.01):\n",
    "    \"\"\"\n",
    "    gets simple sim (for eccentricity track stuff)\n",
    "    param masses: array of planet masses\n",
    "    param integrator: integrator\n",
    "    param epsilon: amount by which the resonant period ratio should be offset from the equilibrium in the simulation\n",
    "    \"\"\"\n",
    "    sim = rb.Simulation()\n",
    "    sim.integrator = integrator\n",
    "    # central star\n",
    "    sim.add(m = 1)\n",
    "    \n",
    "    sim.add(m = masses[0], P = 1)\n",
    "    sim.add(m = masses[1], P = period_ratio * (1 + epsilon))\n",
    "\n",
    "    sim.move_to_com()\n",
    "    if integrator == 'whfast':\n",
    "        sim.dt = 1/50 * 1  # dy default use 1/50th of the inner planet's orbital period for the timestep if using whfast\n",
    "    return sim\n",
    "\n",
    "\n",
    "def get_rvs(params, instrument, times, integrator, time_base, auday_ms = AUDAY_MS):\n",
    "    \n",
    "    \"\"\"\n",
    "    Gets RVs from a Numpy array of planet params\n",
    "    \n",
    "    param params:     for i in range(0, num_planets):\n",
    "    \n",
    "    params[i + 0] is period\n",
    "    params[i + 1] is semiamp\n",
    "    params[i + 2] is tc (time of conjunction)\n",
    "    params[i + 3] is sqrt(e) * cos(omega)\n",
    "    params[i + 4] is sqrt(e) * sin(omega)\n",
    "    \n",
    "    params[5 * num_planets] is rv offset for HARPS1\n",
    "    params[5 * num_planets + 1] is rv offset for HARPS2\n",
    "    params[5 * num_planets + 2] is rv offset for HIRES\n",
    "    params[5 * num_planets + 3] is sin(i) (also params[-4])\n",
    "    params[5 * num_planets + 4] is jitter for HARPS1 (also params[-3])\n",
    "    params[5 * num_planets + 5] is jitter for HARPS2 (also params[-2])\n",
    "    params[5 * num_planets + 6] is jitter for HIRES (also params[-1])\n",
    "\n",
    "    param instrument: instrument (HARPS1, HARPS2, or HIRES)\n",
    "    param times: array of times to integrate over\n",
    "    param integrator: integrator to use, one of 'whfast' or 'ias15'\n",
    "    \n",
    "    \"\"\"\n",
    "    \n",
    "    sim = get_sim_from_params(params, integrator, time_base = time_base)\n",
    "    \n",
    "    sim_backwards = sim.copy()\n",
    "    sim_backwards.dt *= -1  # set timestep to be negative if integrating backwards\n",
    "\n",
    "    times = pd.Series(times)  # convert to series if not already\n",
    "    \n",
    "    forward_times = times[times - obs_time_base >= 0]\n",
    "    backward_times = times[times - obs_time_base < 0]\n",
    "    forward_indices = forward_times.index\n",
    "    backward_indices = backward_times.index\n",
    "    \n",
    "    # initialize rvs\n",
    "    rv_forward = np.zeros(len(forward_times))\n",
    "    rv_backward = np.zeros(len(backward_times))\n",
    "    \n",
    "    num_planets = 2  # find number of planets in params passed\n",
    "    \n",
    "    # get the rvs (z velocity, assuming 90 deg inclination) from the rebound simulation to compare with the actual simulation\n",
    "    for j, it in enumerate(zip(forward_indices, forward_times)):\n",
    "        i, t = it  # forward index, forward time\n",
    "        sim.integrate(t, exact_finish_time = 1)\n",
    "        # integrate to the specified time, exact_finish_time = 1 for ias15, \n",
    "        # sim.status()\n",
    "        star = sim.particles[0]\n",
    "        # print(instrument[i])\n",
    "        # use one of 3 different radial velocity offsets depending on whether the data is from HARPS1, HARPS2 or HIRES\n",
    "        if instrument[i] == 'HARPS1':\n",
    "            rv_offset = params[5 * num_planets]\n",
    "        elif instrument[i] == 'HARPS2':\n",
    "            rv_offset = params[5 * num_planets + 1]\n",
    "        elif instrument[i] == 'HIRES':\n",
    "            rv_offset = params[5 * num_planets + 2]\n",
    "        else:\n",
    "            rv_offset = 0.\n",
    "        rv_forward[j] = (-star.vz * auday_ms) + rv_offset  # use x-velocity of the star as the radial velocity, convert to m/s\n",
    "    \n",
    "    for j, it in enumerate(zip(backward_indices, backward_times)):\n",
    "        i, t = it  # backward index, backward time\n",
    "        sim_backwards.integrate(t, exact_finish_time = 1)\n",
    "        star = sim_backwards.particles[0]\n",
    "        # use one of 3 different radial velocity offsets depending on whether the data is from HARPS1, HARPS2 or HIRES\n",
    "        # print(instrument[i])\n",
    "        if instrument[i] == 'HARPS1':\n",
    "            rv_offset = params[5 * num_planets]\n",
    "        elif instrument[i] == 'HARPS2':\n",
    "            rv_offset = params[5 * num_planets + 1]\n",
    "        elif instrument[i] == 'HIRES':\n",
    "            rv_offset = params[5 * num_planets + 2]\n",
    "        else:\n",
    "            rv_offset = 0.\n",
    "        rv_backward[j] = (-star.vz * auday_ms) + rv_offset\n",
    "    \n",
    "    return np.concatenate((rv_backward, rv_forward))"
   ]
  },
  {
   "cell_type": "code",
   "execution_count": 4,
   "metadata": {},
   "outputs": [],
   "source": [
    "#Very original parameters used in Hadden and Payne\n",
    "nbody_params =[ 2.27798546e+02,  7.25405874e+00,  5.39392010e+04,  1.71866112e-01, 1.17923823e-01,  \n",
    "               3.43881599e+02,  1.87692753e+01,  5.40138425e+04, 1.68408461e-01,  5.05903191e-02, \n",
    "               -3.28526403e-03, 0., 0., \n",
    "               1, \n",
    "               1.84, 0., 0.]  # inserted 0 for harps2 and hires for both rv offset and jitter\n",
    "\n",
    "# #Least squares fit: \n",
    "# fit_params = [ 2.28512793e+02, 7.27736501e+00, 5.39371914e+04, -4.66868256e-02, \n",
    "#                -1.78080009e-01, 3.43378038e+02, 1.78603341e+01, 5.40186750e+04, \n",
    "#                9.72945632e-02,  1.32194117e-01, -5.29072002e-01, 0., 0., 1, 2.428]#-7.68527759e-03] \n",
    "\n",
    "# Neg log likelihood jitter fit:\n",
    "\n",
    "fit_params = [2.27859008e+02, 7.20396587e+00,  5.39386707e+04, -7.17270858e-03, -2.13670237e-01,\n",
    "              3.44028221e+02, 1.82216479e+01,  5.47055869e+04, 1.14530821e-01,  3.81765820e-02,\n",
    "              -1.38087163e-01, -2.89290650e+00, 1.70788055e+00, \n",
    "              1.00000000e+00,\n",
    "              2.15025156e+00, 1.48605174e+00, 4.42809302e+00] "
   ]
  },
  {
   "cell_type": "markdown",
   "metadata": {},
   "source": [
    "Define a negative log-likelihood function to minimize for the least-squares fit with jitter, using equation (1) from this paper https://iopscience.iop.org/article/10.1088/0004-637X/794/1/51/pdf "
   ]
  },
  {
   "cell_type": "code",
   "execution_count": 5,
   "metadata": {},
   "outputs": [],
   "source": [
    "def neg_log_likelihood(params, data = hd_data):\n",
    "    \"\"\"\n",
    "    Gets the negative log-likelihood (including a jitter term!) for use with scipy.optimize.minimze\n",
    "    \n",
    "    Iplements the log likelihood using the same method above\n",
    "    \n",
    "    \"\"\"\n",
    "    obs_y = data.RV_mlc_nzp  # observed RVs\n",
    "    \n",
    "    # inclination not handled sparately\n",
    "    # inclination = np.arcsin(params[-4])  # inclination is np.arcsin of the second to last parameter\n",
    "    \n",
    "    synth_y = get_rvs(params, data.target, data.BJD, 'ias15', time_base = obs_time_base)  # RVs from the rebound simulation\n",
    "    obs_yerr = data.e_RV_mlc_nzp  # y errors\n",
    "\n",
    "    conditions = [data.target == 'HARPS1', data.target == 'HARPS2', data.target == 'HIRES']  # conditions are harps1, harps2 or hires\n",
    "    jitters = params[-3:]  # jitters for HARPS1, HARPS2 and HIRES, in that order\n",
    "    \n",
    "    # get the jitter values for the corresponding data points\n",
    "    jitter = np.select(conditions, jitters, default=np.nan)\n",
    "\n",
    "    # compute the log-likelihood\n",
    "    log_likelihood = -1/2 * np.sum(((obs_y - synth_y) ** 2)/(obs_yerr ** 2 + jitter ** 2) \n",
    "                                   + np.log(np.sqrt(2 * np.pi * (obs_yerr ** 2 + jitter ** 2))))\n",
    "    \n",
    "    # log_likelihood = -1/2 * np.sum(np.log(variance) + ((obs_y - synth_y) ** 2/variance))\n",
    "    \n",
    "    return -log_likelihood  # negative since we are trying to minimize the negative log likelihood"
   ]
  },
  {
   "cell_type": "code",
   "execution_count": 6,
   "metadata": {},
   "outputs": [
    {
     "data": {
      "text/latex": [
       "$\\displaystyle 145.836993516676$"
      ],
      "text/plain": [
       "145.83699351667633"
      ]
     },
     "execution_count": 6,
     "metadata": {},
     "output_type": "execute_result"
    }
   ],
   "source": [
    "# test on fit_params\n",
    "neg_log_likelihood(fit_params)"
   ]
  },
  {
   "cell_type": "markdown",
   "metadata": {},
   "source": [
    "Now find the fit by maximizing the log likelihood (minimizing the negative log likelihood), with appropriate bounds (bounds of [0, 1] for sin(i))"
   ]
  },
  {
   "cell_type": "code",
   "execution_count": 7,
   "metadata": {},
   "outputs": [],
   "source": [
    "# bounds of (0, 1) for sin(i), everything else can vary however\n",
    "bounds = ((None, None), (None, None), (None, None), (None, None), (None, None), \n",
    "          (None, None), (None, None), (None, None), (None, None), (None, None), \n",
    "          (None, None), (None, None), (None, None),\n",
    "          (0, 1), \n",
    "          (None, None), (None, None), (None, None))\n",
    "\n",
    "best_fit_jitter = optimize.minimize(neg_log_likelihood, x0=np.array(fit_params), method='Nelder-Mead', \n",
    "                                    bounds=bounds, options={'maxiter': np.inf, 'maxfev': np.inf})  # optimization"
   ]
  },
  {
   "cell_type": "code",
   "execution_count": 8,
   "metadata": {},
   "outputs": [
    {
     "data": {
      "text/latex": [
       "$\\displaystyle \\left( 1442.34396742473, \\  145.836993516604\\right)$"
      ],
      "text/plain": [
       "(1442.3439674247297, 145.83699351660437)"
      ]
     },
     "execution_count": 8,
     "metadata": {},
     "output_type": "execute_result"
    }
   ],
   "source": [
    "neg_log_likelihood(nbody_params), neg_log_likelihood(best_fit_jitter.x)"
   ]
  },
  {
   "cell_type": "code",
   "execution_count": 9,
   "metadata": {},
   "outputs": [
    {
     "name": "stdout",
     "output_type": "stream",
     "text": [
      "original guess:\n",
      "[ 2.27859008e+02  7.20396587e+00  5.39386707e+04 -7.17270858e-03\n",
      " -2.13670237e-01  3.44028221e+02  1.82216479e+01  5.47055869e+04\n",
      "  1.14530821e-01  3.81765820e-02 -1.38087163e-01 -2.89290650e+00\n",
      "  1.70788055e+00  1.00000000e+00  2.15025156e+00  1.48605174e+00\n",
      "  4.42809302e+00]\n",
      "\n",
      "optimization with jitter:\n",
      "[ 2.27859014e+02  7.20396610e+00  5.39386707e+04 -7.17559020e-03\n",
      " -2.13669346e-01  3.44028217e+02  1.82216589e+01  5.47055869e+04\n",
      "  1.14531498e-01  3.81775332e-02 -1.38093056e-01 -2.89290989e+00\n",
      "  1.70793414e+00  1.00000000e+00  2.15024775e+00  1.48604155e+00\n",
      "  4.42811849e+00]\n",
      "\n",
      "        message: Optimization terminated successfully.\n",
      "       success: True\n",
      "        status: 0\n",
      "           fun: 145.83699351660437\n",
      "             x: [ 2.279e+02  7.204e+00 ...  1.486e+00  4.428e+00]\n",
      "           nit: 235\n",
      "          nfev: 485\n",
      " final_simplex: (array([[ 2.279e+02,  7.204e+00, ...,  1.486e+00,\n",
      "                         4.428e+00],\n",
      "                       [ 2.279e+02,  7.204e+00, ...,  1.486e+00,\n",
      "                         4.428e+00],\n",
      "                       ...,\n",
      "                       [ 2.279e+02,  7.204e+00, ...,  1.486e+00,\n",
      "                         4.428e+00],\n",
      "                       [ 2.279e+02,  7.204e+00, ...,  1.486e+00,\n",
      "                         4.428e+00]]), array([ 1.458e+02,  1.458e+02, ...,  1.458e+02,  1.458e+02]))\n"
     ]
    }
   ],
   "source": [
    "print(f'original guess:\\n{np.array(fit_params)}\\n\\noptimization with jitter:\\n{best_fit_jitter.x}\\n\\n', best_fit_jitter)"
   ]
  },
  {
   "cell_type": "markdown",
   "metadata": {},
   "source": [
    "**NBODY_VS_PREV_FINAL equivalent but using the jitter fit parameters instead of the original fit parameters without any jitter**:"
   ]
  },
  {
   "cell_type": "code",
   "execution_count": 10,
   "metadata": {},
   "outputs": [],
   "source": [
    "# plt.figure(figsize=(14, 8))\n",
    "# plt.rc('font', size = 18)\n",
    "# # pltot the observed RVs\n",
    "# plt.errorbar(hd_data.BJD, hd_data.RV_mlc_nzp, yerr = hd_data.e_RV_mlc_nzp, fmt= 'o', label = 'Observed RVs')\n",
    "# times = np.linspace(np.min(hd_data.BJD), np.max(hd_data.BJD), int(1e4))  # time array\n",
    "# # pltot the REBOUND n-body reuslt for original parameters and least-squares fit\n",
    "# plt.plot(times, get_rvs(nbody_params, times, 'ias15', obs_time_base), label = 'Previous fit', color='darkgreen')#, color='black')\n",
    "# # plt.plot(times, get_rvs(fit_params, np.pi/2, times, 'ias15', obs_time_base), label = 'New fit (no jitter)', color='orange')#, color='orange')\n",
    "# plt.plot(times, get_rvs(best_fit_jitter.x, times, 'ias15', obs_time_base), label = 'New fit (jitter)', color='red')\n",
    "# # pltot the Keplterian result\n",
    "# # plt.pltot(times, post.model(times), label = 'Keplterian')\n",
    "# plt.axvline(x = 54650, color='black', label='New data')\n",
    "# plt.xlabel('BJD - 2.4e6'), plt.ylabel('Radial Velocity (m/s)')\n",
    "# # plt.ylim(bottom = -30)\n",
    "# # plt.title('N-body least-squares fit vs. previous fit')\n",
    "# plt.legend(loc = 'lower left')\n",
    "# plt.savefig('nbody_vs_prev_final_jitter.png', pad_inches=0)# fmt = 'png', pad_inches = 0)"
   ]
  },
  {
   "cell_type": "markdown",
   "metadata": {},
   "source": [
    "Compare to the observed RV data:"
   ]
  },
  {
   "cell_type": "code",
   "execution_count": 11,
   "metadata": {},
   "outputs": [],
   "source": [
    "# plt.figure(figsize=(14, 8))\n",
    "# plt.rc('font', size = 18)\n",
    "# # plot observed RVs\n",
    "# plt.errorbar(hd_data.BJD, hd_data.RV_mlc_nzp, yerr = hd_data.e_RV_mlc_nzp, fmt= 'o', label = 'Observed RVs')\n",
    "# # plot the RV curve for original least-squares optimization (without jitter) and the nonlinear optimization (with jitter)\n",
    "# times = np.linspace(np.min(hd_data.BJD), np.max(hd_data.BJD), int(1e4))  # time array\n",
    "# # original least squares optimization (no jitter)\n",
    "# plt.plot(times, get_rvs(fit_params, times, 'ias15', obs_time_base), label = 'Least-squares (no jitter)', color='blue')\n",
    "# # nonlinear optimization (jitter)\n",
    "# plt.plot(times, get_rvs(best_fit_jitter.x, times, 'ias15', obs_time_base), label = 'Nonlinear (jitter)', color='orange')\n",
    "# plt.axvline(x = 54650, c='k', label = 'New data')\n",
    "# plt.xlabel('BJD - 2.4e6'), plt.ylabel('Radial Velocity (m/s)')\n",
    "# plt.legend(loc = 'lower left')\n",
    "# plt.show()\n"
   ]
  },
  {
   "cell_type": "markdown",
   "metadata": {},
   "source": [
    "## Jitter:"
   ]
  },
  {
   "cell_type": "markdown",
   "metadata": {},
   "source": [
    "Scale the best-fit jitter values simultaneously by a single factor:\n"
   ]
  },
  {
   "cell_type": "markdown",
   "metadata": {},
   "source": [
    "Now changing jitter, holding the planet parameters constant and plotting likelihood as a function of jitter for the original solution without jitter as a parameter and the solution with jitter as a parameter"
   ]
  },
  {
   "cell_type": "code",
   "execution_count": 12,
   "metadata": {},
   "outputs": [],
   "source": [
    "jitter_sfs = np.linspace(0., 2.5, int(1e3))  # try 1000 from 0 to 2.5\n",
    "# get the best-fit jitter values\n",
    "fit_param_jitters = np.array(fit_params[-3:])\n",
    "# scale all of them simultaneously by a single factor from 0 to 2.5\n",
    "# without jitter as a parameter set of params\n",
    "# no_jitter_neg_log_likelihoods = [neg_log_likelihood(np.append(fit_params[:-3], jitter_sf * jitters)) for jitter_sf in jitter_sfs]\n",
    "# jitter as a parameter set of params\n",
    "# scale all of the best fit jitter values simultaneously by jitter_sf scale factor\n",
    "jitter_neg_log_likelihoods = [neg_log_likelihood(np.append(best_fit_jitter.x[:-3], jitter_sf * fit_param_jitters)) for jitter_sf in jitter_sfs]  # compute negative log likelihood for each"
   ]
  },
  {
   "cell_type": "markdown",
   "metadata": {},
   "source": [
    "And plot:"
   ]
  },
  {
   "cell_type": "code",
   "execution_count": 13,
   "metadata": {},
   "outputs": [
    {
     "name": "stderr",
     "output_type": "stream",
     "text": [
      "No artists with labels found to put in legend.  Note that artists whose label start with an underscore are ignored when legend() is called with no argument.\n"
     ]
    },
    {
     "data": {
      "image/png": "[encoded data removed]",
      "text/plain": [
       "<Figure size 1200x800 with 1 Axes>"
      ]
     },
     "metadata": {},
     "output_type": "display_data"
    }
   ],
   "source": [
    "plt.figure(figsize = (12, 8))\n",
    "# no jitter fit\n",
    "# plt.scatter(jitters, no_jitter_neg_log_likelihoods, label = 'no jitter fit')\n",
    "# jitter fit\n",
    "plt.scatter(jitter_sfs, jitter_neg_log_likelihoods)#, label = 'jitter fit')\n",
    "plt.xlabel('jitter scale factor for best-fit value'), plt.ylabel('negative log likelihood')\n",
    "plt.axvline(1., color = 'k')\n",
    "plt.legend()\n",
    "plt.show()"
   ]
  },
  {
   "cell_type": "code",
   "execution_count": 14,
   "metadata": {},
   "outputs": [
    {
     "data": {
      "text/latex": [
       "$\\displaystyle 1.001001001001$"
      ],
      "text/plain": [
       "1.001001001001001"
      ]
     },
     "execution_count": 14,
     "metadata": {},
     "output_type": "execute_result"
    }
   ],
   "source": [
    "# jitter that produces the minimum negative log likelihood for different values\n",
    "# jitters[np.argmin(no_jitter_neg_log_likelihoods)], \n",
    "jitter_sfs[np.argmin(jitter_neg_log_likelihoods)]"
   ]
  },
  {
   "cell_type": "code",
   "execution_count": 15,
   "metadata": {},
   "outputs": [],
   "source": [
    "# # minimum negative log likelihood\n",
    "# neg_log_likelihood(params=np.append(best_fit_jitter.x[:-3], jitter_sfs[np.argmin(jitter_neg_log_likelihoods)]))"
   ]
  },
  {
   "cell_type": "markdown",
   "metadata": {},
   "source": [
    "Try optimizing again with the jitter producing the minimum negative log likelihood"
   ]
  },
  {
   "cell_type": "code",
   "execution_count": 16,
   "metadata": {},
   "outputs": [],
   "source": [
    "# best_fit_jitter2 = optimize.minimize(neg_log_likelihood, x0=np.append(best_fit_jitter.x[:-1], jitters[np.argmin(jitter_neg_log_likelihoods)]), method='Nelder-Mead', bounds=bounds, options={'maxiter': int(1e5), 'maxfev': int(1e5)})  # optimization"
   ]
  },
  {
   "cell_type": "code",
   "execution_count": 17,
   "metadata": {},
   "outputs": [],
   "source": [
    "# plt.figure(figsize=(14, 8))\n",
    "# plt.rc('font', size = 18)\n",
    "# # plot observed RVs\n",
    "# plt.errorbar(hd_data.BJD, hd_data.RV_mlc_nzp, yerr = hd_data.e_RV_mlc_nzp, fmt= 'o', label = 'Observed RVs')\n",
    "# # plot the RV curve for original least-squares optimization (without jitter) and the nonlinear optimization (with jitter)\n",
    "# times = np.linspace(np.min(hd_data.BJD), np.max(hd_data.BJD), int(1e4))  # time array\n",
    "# # original least squares optimization (no jitter)\n",
    "# # plt.plot(times, get_rvs(fit_params, np.pi/2, times, 'ias15', obs_time_base), label = 'Least-squares (no jitter)', color='blue')\n",
    "# # nonlinear optimization (jitter)\n",
    "# # plt.plot(times, get_rvs(best_fit_jitter.x, np.pi/2, times, 'ias15', obs_time_base), label = 'Nonlinear fit from LS solution (jitter)', color='orange')\n",
    "# # nonlinear optimization (jitter) with the jitter producing the minimum negative log likelihood manually added\n",
    "# plt.plot(times, get_rvs(best_fit_jitter2.x, times, 'ias15', obs_time_base), label = 'Nonlinear fit manual (jitter)')\n",
    "# plt.axvline(x = 54650, c='k', label = 'New data')\n",
    "# plt.xlabel('BJD - 2.4e6'), plt.ylabel('Radial Velocity (m/s)')\n",
    "# plt.legend(loc = 'lower left')\n",
    "# plt.show()"
   ]
  },
  {
   "cell_type": "markdown",
   "metadata": {},
   "source": [
    "Check likelihood and compare:"
   ]
  },
  {
   "cell_type": "code",
   "execution_count": 18,
   "metadata": {},
   "outputs": [
    {
     "data": {
      "text/latex": [
       "$\\displaystyle \\left( 145.836993516676, \\  145.836993516604\\right)$"
      ],
      "text/plain": [
       "(145.83699351667633, 145.83699351660437)"
      ]
     },
     "execution_count": 18,
     "metadata": {},
     "output_type": "execute_result"
    }
   ],
   "source": [
    "neg_log_likelihood(fit_params), neg_log_likelihood(best_fit_jitter.x)# , neg_log_likelihood(best_fit_jitter2.x)"
   ]
  },
  {
   "cell_type": "code",
   "execution_count": 19,
   "metadata": {},
   "outputs": [
    {
     "data": {
      "text/plain": [
       "([227.859008,\n",
       "  7.20396587,\n",
       "  53938.6707,\n",
       "  -0.00717270858,\n",
       "  -0.213670237,\n",
       "  344.028221,\n",
       "  18.2216479,\n",
       "  54705.5869,\n",
       "  0.114530821,\n",
       "  0.038176582,\n",
       "  -0.138087163,\n",
       "  -2.8929065,\n",
       "  1.70788055,\n",
       "  1.0,\n",
       "  2.15025156,\n",
       "  1.48605174,\n",
       "  4.42809302],\n",
       " array([ 2.27859014e+02,  7.20396610e+00,  5.39386707e+04, -7.17559020e-03,\n",
       "        -2.13669346e-01,  3.44028217e+02,  1.82216589e+01,  5.47055869e+04,\n",
       "         1.14531498e-01,  3.81775332e-02, -1.38093056e-01, -2.89290989e+00,\n",
       "         1.70793414e+00,  1.00000000e+00,  2.15024775e+00,  1.48604155e+00,\n",
       "         4.42811849e+00]))"
      ]
     },
     "execution_count": 19,
     "metadata": {},
     "output_type": "execute_result"
    }
   ],
   "source": [
    "fit_params, best_fit_jitter.x# , best_fit_jitter2.x"
   ]
  },
  {
   "cell_type": "markdown",
   "metadata": {},
   "source": [
    "Create a 2D grid of $S$ and jitter scale factors, then for each point hold them constant while optimizing the parameters using least-squares (or nonlinear) and compute the likelihood "
   ]
  },
  {
   "cell_type": "code",
   "execution_count": 20,
   "metadata": {},
   "outputs": [],
   "source": [
    "njitter, nlib = (50, 50)  # can change this\n",
    "# create jitter and A_0 points\n",
    "jitter_sfs = np.linspace(0., 4, njitter)  # use 1 to 6 for jitter as recommended\n",
    "Alibs = np.linspace(1., 0.05, nlib)  # use Alib 1 to 0.05\n",
    "# create meshgrid\n",
    "jitter_sfs_grid, Alibs_grid = np.meshgrid(jitter_sfs, Alibs)"
   ]
  },
  {
   "cell_type": "markdown",
   "metadata": {},
   "source": [
    "Optimize the parameters using least squares while holding $A_{0}$ and jitter constant for each point, then compute the likelihood ($\\chi^2$) just of the fit for each point:"
   ]
  },
  {
   "cell_type": "code",
   "execution_count": 21,
   "metadata": {},
   "outputs": [],
   "source": [
    "def get_rvs_jitter(params, jitter_sf, times, integrator, time_base, auday_ms = AUDAY_MS):\n",
    "    \n",
    "    \"\"\"\n",
    "    Gets RVs from a Numpy array of planet params, taking into account a jitter term\n",
    "    \n",
    "    param params:     for i in range(0, num_planets):\n",
    "    \n",
    "    params[i + 0] is period\n",
    "    params[i + 1] is semiamp\n",
    "    params[i + 2] is tc (time of conjunction)\n",
    "    params[i + 3] is sqrt(e) * cos(omega)\n",
    "    params[i + 4] is sqrt(e) * sin(omega)\n",
    "    \n",
    "    params[5 * num_planets] is rv offset for HARPS1\n",
    "    params[5 * num_planets + 1] is rv offset for HARPS2\n",
    "    params[5 * num_planets + 2] is rv offset for HIRES\n",
    "    params[5 * num_planets + 3] is sin(i) (also params[-4])\n",
    "    \n",
    "    param jitter: constant jitter scale factor\n",
    "    param times: array of times to integrate over\n",
    "    param integrator: integrator to use, one of 'whfast' or 'ias15'\n",
    "    \n",
    "    \"\"\"\n",
    "\n",
    "    sim = get_sim_from_params(params, integrator, time_base = time_base)\n",
    "    \n",
    "    sim_backwards = sim.copy()\n",
    "    sim_backwards.dt *= -1  # set timestep to be negative if integrating backwards\n",
    "\n",
    "    times = pd.Series(times)  # convert to series if not already\n",
    "    \n",
    "    forward_times = times[times - obs_time_base >= 0]\n",
    "    backward_times = times[times - obs_time_base < 0]\n",
    "    forward_indices = forward_times.index\n",
    "    backward_indices = backward_times.index\n",
    "    \n",
    "    # initialize rvs\n",
    "    rv_forward = np.zeros(len(forward_times))\n",
    "    rv_backward = np.zeros(len(backward_times))\n",
    "    \n",
    "    num_planets = 2  # find number of planets in params passed\n",
    "    \n",
    "    # get the rvs (z velocity, assuming 90 deg inclination) from the rebound simulation to compare with the actual simulation\n",
    "    for j, it in enumerate(zip(forward_indices, forward_times)):\n",
    "        i, t = it  # forward index, forward time\n",
    "        sim.integrate(t, exact_finish_time = 1)\n",
    "        # integrate to the specified time, exact_finish_time = 1 for ias15, \n",
    "        # sim.status()\n",
    "        star = sim.particles[0]\n",
    "        # print(instrument[i])\n",
    "        # use one of 3 different radial velocity offsets depending on whether the data is from HARPS1, HARPS2 or HIRES\n",
    "        if instrument[i] == 'HARPS1':\n",
    "            rv_offset = params[5 * num_planets]\n",
    "        elif instrument[i] == 'HARPS2':\n",
    "            rv_offset = params[5 * num_planets + 1]\n",
    "        elif instrument[i] == 'HIRES':\n",
    "            rv_offset = params[5 * num_planets + 2]\n",
    "        else:\n",
    "            rv_offset = 0.\n",
    "        rv_forward[j] = (-star.vz * auday_ms) + rv_offset  # use x-velocity of the star as the radial velocity, convert to m/s\n",
    "    \n",
    "    for j, it in enumerate(zip(backward_indices, backward_times)):\n",
    "        i, t = it  # backward index, backward time\n",
    "        sim_backwards.integrate(t, exact_finish_time = 1)\n",
    "        star = sim_backwards.particles[0]\n",
    "        # use one of 3 different radial velocity offsets depending on whether the data is from HARPS1, HARPS2 or HIRES\n",
    "        # print(instrument[i])\n",
    "        if instrument[i] == 'HARPS1':\n",
    "            rv_offset = params[5 * num_planets]\n",
    "        elif instrument[i] == 'HARPS2':\n",
    "            rv_offset = params[5 * num_planets + 1]\n",
    "        elif instrument[i] == 'HIRES':\n",
    "            rv_offset = params[5 * num_planets + 2]\n",
    "        else:\n",
    "            rv_offset = 0.\n",
    "        rv_backward[j] = (-star.vz * auday_ms) + rv_offset\n",
    "    \n",
    "    return np.concatenate((rv_backward, rv_forward))\n",
    "\n",
    "\n",
    "def get_nbody_resids_jitter_libration(params, jitters, Alib, nperiods=500, nsamples=1000, integrator='ias15', data=hd_data, time_base=obs_time_base):\n",
    "    \"\"\"\n",
    "    Gets the normalized residuals for the n-body fit with REBOUND, penalizing for the RMS of the libration angle a \n",
    "    and for jitter, holding each of them constant (this is the function we want to optimize)\n",
    "    \n",
    "    params is in the form of params for the 10-param model (n-body rebound) rather than the 7-param equilibrium model (keplerian)\n",
    "    \n",
    "    Alib is 0.01 by default\n",
    "    \"\"\"\n",
    "\n",
    "    obs_y = data.RV_mlc_nzp  # observed RVs\n",
    "    synth_y = get_rvs(params, data.target, data.BJD, 'ias15', time_base = obs_time_base)  # RVs from the rebound simulation\n",
    "    obs_yerr = data.e_RV_mlc_nzp  # y error\n",
    "\n",
    "    # get numpy array of jitters corresponding to each instrument\n",
    "    conditions = [data.target == 'HARPS1', data.target == 'HARPS2', data.target == 'HIRES']  # conditions are harps1, harps2 or hires\n",
    "    # get the jitter values for the corresponding data points\n",
    "    jitter = np.select(conditions, jitters, default=np.nan)\n",
    "\n",
    "    # then first compute the normalized residuals taking into account jitter, as follows:\n",
    "    jitter_normalized_resids = (obs_y - synth_y)/np.sqrt(obs_yerr ** 2 + jitter ** 2)  # compute normalized residuals using rebound\n",
    "    \n",
    "    # define p1\n",
    "    p1 = params[0]\n",
    "\n",
    "    angle_times = np.linspace(0, 0 + p1 * nperiods, nsamples)  # angle times, use length of observed rvs\n",
    "    angle_time_base = 0#np.median(angle_times)  # reset angle time base to something else to find the libration amplitude \n",
    "    # initialize sim\n",
    "    angle_sim = get_sim_from_params(params, integrator='whfast', time_base=0)\n",
    "    inner = angle_sim.particles[1]\n",
    "    outer = angle_sim.particles[2]\n",
    "    # define empty arrays\n",
    "    angle1, angle2 = np.zeros((2, nsamples))  # init empty arrays\n",
    "    # now compute the libration angle arrays\n",
    "    # test2 = np.zeros(len(angle_times))\n",
    "    for i, t in enumerate(angle_times):\n",
    "        angle_sim.integrate(t, exact_finish_time = 0)\n",
    "        resonant_angle = 3 * outer.l - 2 * inner.l  # 3*lambda_2 - 2*lambda_1\n",
    "        # test2[i] = resonant_angle\n",
    "        angle1[i] = np.mod(resonant_angle - inner.pomega, 2 * np.pi)  # 3*lambda_2 - 2*lambda_1 - pomega_1, mod 2pi\n",
    "        angle2[i] = np.mod(resonant_angle - outer.pomega, 2 * np.pi)  # 3*lambda_2 - 2*lambda_1 - pomega_2, mod 2pi\n",
    "    \n",
    "    # now return the rms libration amplitude for inner and outer to penalize by\n",
    "    # compute the normalized \"residuals\" A_lib_resids_1 (inner planet) and A_lib_resids_2 (outer planet)\n",
    "    A_lib_normalized_resids_1 = np.array([(angle - 0)/(Alib * np.sqrt(len(angle1))) \n",
    "                     for angle in [angle - 2 * np.pi if angle > np.pi else angle for angle in angle1]])  # since inner planet oscillates around 0\n",
    "    A_lib_normalized_resids_2 = np.array([(angle - np.pi)/(Alib * np.sqrt(len(angle2))) for angle in angle2])  # since outer planet oscillates around pi\n",
    "\n",
    "    # return normalized residuals plus the \"residuals\" used for the RMS libration amplitude penalty\n",
    "    return np.concatenate((jitter_normalized_resids, A_lib_normalized_resids_1, A_lib_normalized_resids_2))  # concatenate all 3 arrays to pass to the least squares optimizer"
   ]
  },
  {
   "cell_type": "markdown",
   "metadata": {},
   "source": [
    "Test to make sure it's computing residuals properly"
   ]
  },
  {
   "cell_type": "code",
   "execution_count": 22,
   "metadata": {},
   "outputs": [
    {
     "data": {
      "text/latex": [
       "$\\displaystyle \\left( 145.836993516604, \\  224.546331603819\\right)$"
      ],
      "text/plain": [
       "(145.83699351660437, 224.54633160381871)"
      ]
     },
     "execution_count": 22,
     "metadata": {},
     "output_type": "execute_result"
    }
   ],
   "source": [
    "test_jitters = best_fit_jitter.x[-3:]\n",
    "\n",
    "test_resids = get_nbody_resids_jitter_libration(best_fit_jitter.x, jitters=jitter_sfs_grid[0, 1] * test_jitters, Alib=Alibs_grid[0, 1])\n",
    "neg_log_likelihood(best_fit_jitter.x), (test_resids @ test_resids)/2  # neg log likelihood has an extra constant term added to it so it may be higher than the test resids"
   ]
  },
  {
   "cell_type": "code",
   "execution_count": 23,
   "metadata": {},
   "outputs": [
    {
     "data": {
      "text/plain": [
       "array([ 3.5524189 , -1.07620185, -0.02548022, ..., -0.01950902,\n",
       "       -0.0198855 , -0.01906373])"
      ]
     },
     "execution_count": 23,
     "metadata": {},
     "output_type": "execute_result"
    }
   ],
   "source": [
    "test_resids"
   ]
  },
  {
   "cell_type": "markdown",
   "metadata": {},
   "source": [
    "And optimize the fit"
   ]
  },
  {
   "cell_type": "code",
   "execution_count": 24,
   "metadata": {},
   "outputs": [
    {
     "data": {
      "text/plain": [
       "array([ 2.27859008e+02,  7.20401250e+00,  5.39386707e+04, -6.69675119e-03,\n",
       "       -2.11502032e-01,  3.44028360e+02,  1.82216583e+01,  5.47055869e+04,\n",
       "        1.14551494e-01,  3.72067252e-02, -1.38080314e-01, -2.89291055e+00,\n",
       "        1.70788969e+00,  9.99818337e-01,  2.15025156e+00,  1.48605174e+00,\n",
       "        4.42809302e+00])"
      ]
     },
     "execution_count": 24,
     "metadata": {},
     "output_type": "execute_result"
    }
   ],
   "source": [
    "bounds2 = ([-np.inf, -np.inf, -np.inf, -np.inf, -np.inf, -np.inf, -np.inf, -np.inf, -np.inf, -np.inf, -np.inf, -np.inf, -np.inf, 0, -np.inf, -np.inf, -np.inf],\n",
    "          [np.inf, np.inf, np.inf, np.inf, np.inf, np.inf, np.inf, np.inf, np.inf, np.inf, np.inf, np.inf, np.inf, 1, np.inf, np.inf, np.inf])\n",
    "\n",
    "fit_param_jitters = np.array(fit_params[-3:])  # fit param jitters are the last 3 entries in the array\n",
    "test_fit_params = optimize.least_squares(lambda params: get_nbody_resids_jitter_libration(params, \n",
    "                                                                                          jitters = fit_param_jitters * jitter_sfs_grid[0, 1], \n",
    "                                                                                          Alib=Alibs_grid[0, 1]), fit_params, bounds=bounds2)\n",
    "test_fit_params.x"
   ]
  },
  {
   "cell_type": "code",
   "execution_count": 25,
   "metadata": {},
   "outputs": [
    {
     "data": {
      "text/plain": [
       "     message: `xtol` termination condition is satisfied.\n",
       "     success: True\n",
       "      status: 3\n",
       "         fun: [ 3.539e+00 -1.086e+00 ...  1.509e-02  1.404e-02]\n",
       "           x: [ 2.279e+02  7.204e+00 ...  1.486e+00  4.428e+00]\n",
       "        cost: 224.09683467998485\n",
       "         jac: [[ 3.590e-01 -1.194e+00 ...  0.000e+00  0.000e+00]\n",
       "               [ 5.832e-01 -6.314e-01 ...  0.000e+00  0.000e+00]\n",
       "               ...\n",
       "               [-7.047e-01  1.330e-02 ...  0.000e+00  0.000e+00]\n",
       "               [-6.985e-01  1.428e-02 ...  0.000e+00  0.000e+00]]\n",
       "        grad: [-5.893e+00 -4.273e+00 ...  0.000e+00  0.000e+00]\n",
       "  optimality: 37.73917176294161\n",
       " active_mask: [0 0 ... 0 0]\n",
       "        nfev: 3\n",
       "        njev: 3"
      ]
     },
     "execution_count": 25,
     "metadata": {},
     "output_type": "execute_result"
    }
   ],
   "source": [
    "test_fit_params"
   ]
  },
  {
   "cell_type": "markdown",
   "metadata": {},
   "source": [
    "### Computing likelihoods over the $A_0$-jitter grid:"
   ]
  },
  {
   "cell_type": "markdown",
   "metadata": {},
   "source": [
    "Test for a single iteration of the loop:"
   ]
  },
  {
   "cell_type": "code",
   "execution_count": 26,
   "metadata": {},
   "outputs": [],
   "source": [
    "njitter, nlib = (50, 50)  # can change this\n",
    "# create jitter and A_0 points\n",
    "jitter_sfs = np.linspace(0., 4, njitter)  # use 0 to 4 for jitter scale factor as recommended\n",
    "Alibs = np.linspace(1., 0.05, nlib)  # use Alib 1 to 0.05\n",
    "# create meshgrid\n",
    "jitter_sfs_grid, Alibs_grid = np.meshgrid(jitter_sfs, Alibs)\n",
    "\n",
    "x0 = fit_params\n",
    "best_fit_jitters = best_fit_jitter.x[-3:]  # these are the best fit jitter values\n",
    "neg_log_likelihoods = np.zeros((njitter, nlib))\n",
    "\n",
    "Alib = Alibs_grid[0, 1]  \n",
    "jitters = jitter_sfs_grid[0, 1] * best_fit_jitters\n",
    "# optimize the parameters, holding Alib and jitter scale factor constant at the specified grid point\n",
    "Alib_jitter_fit_params = optimize.least_squares(lambda params: get_nbody_resids_jitter_libration(params, jitters=jitters, Alib=Alib), \n",
    "                                                x0, bounds=bounds2, ftol=1e-8, xtol=1e-8).x\n",
    "# then compute the negative log likelihood of fit just from the parameters (not the total cost function including the libration penalty term)\n",
    "# assuming the jitter scale factor used in the optimization\n",
    "Alib_jitter_fit_params[-3:] = jitters\n",
    "# plug params into negative log likelihood and record it\n",
    "neg_log_likelihoods[0, 1] = neg_log_likelihood(Alib_jitter_fit_params)\n",
    "# update fit params with previous value\n",
    "x0 = Alib_jitter_fit_params"
   ]
  },
  {
   "cell_type": "markdown",
   "metadata": {},
   "source": [
    "Now optimize the parameters for each given value of $A_0$ and jitter, computing the likelihood $\\mathfrak{L}$, for a jitter scale factor from $0.1$ to $4$, to show the contours for hgih jitter:"
   ]
  },
  {
   "cell_type": "code",
   "execution_count": 27,
   "metadata": {},
   "outputs": [],
   "source": [
    "njitter, nlib = (50, 50)  # can change this\n",
    "# create jitter and A_0 points\n",
    "jitter_sfs = np.linspace(0.1, 4, njitter)  # use 0.1 to 4 for jitter scale factor as recommended\n",
    "Alibs = np.linspace(1., 0.05, nlib)  # use Alib 1 to 0.05\n",
    "# create meshgrid\n",
    "jitter_sfs_grid, Alibs_grid = np.meshgrid(jitter_sfs, Alibs)\n",
    "\n",
    "x0 = fit_params\n",
    "best_fit_jitters = best_fit_jitter.x[-3:]  # these are the best fit jitter values \n",
    "\n",
    "# they are constant and are scaled by some uniform jitter scaling factor in the loop, and held constant during the optimization procedure\n",
    "# neg_log_likelihoods = np.zeros((njitter, nlib))\n",
    "# for i in tqdm(range(njitter)):\n",
    "#     # add something here to reset the original guess which could maybe speed it up a bit\n",
    "#     for j in range(nlib):\n",
    "#         # get the A0, jitter scale factor point on the grid and then multiply the best-fit jitters by the scale factor\n",
    "#         Alib = Alibs_grid[i, j]  \n",
    "#         jitters = jitter_sfs_grid[i, j] * best_fit_jitters\n",
    "#         # optimize the parameters, holding Alib and jitter scale factor constant at the specified grid point\n",
    "#         Alib_jitter_fit_params = optimize.least_squares(lambda params: get_nbody_resids_jitter_libration(params, jitters=jitters, Alib=Alib), \n",
    "#                                                         x0, bounds=bounds2, ftol=1e-8, xtol=1e-8).x\n",
    "#         # then compute the negative log likelihood of fit just from the parameters (not the total cost function including the libration penalty term)\n",
    "#         # assuming the jitter scale factor used in the optimization\n",
    "#         Alib_jitter_fit_params[-3:] = jitters\n",
    "#         # plug params into negative log likelihood and record it\n",
    "#         neg_log_likelihoods[i, j] = neg_log_likelihood(Alib_jitter_fit_params)\n",
    "#         # update fit params with previous value\n",
    "#         x0 = Alib_jitter_fit_params"
   ]
  },
  {
   "cell_type": "markdown",
   "metadata": {},
   "source": [
    "Save/load the neg log likelihoods (uncomment following code if need to save/load...):"
   ]
  },
  {
   "cell_type": "code",
   "execution_count": 28,
   "metadata": {},
   "outputs": [],
   "source": [
    "# np.save('neg_log_likelihoods_everything_contours', neg_log_likelihoods) # save the neg log likelihood array in numpy\n",
    "neg_log_likelihoods = np.load('neg_log_likelihoods_everything_contours.npy')"
   ]
  },
  {
   "cell_type": "markdown",
   "metadata": {},
   "source": [
    "And computing neg log likelihoods for $0.02$-$2$ jitter scale factor to show the contours for low jitter:"
   ]
  },
  {
   "cell_type": "code",
   "execution_count": 29,
   "metadata": {},
   "outputs": [],
   "source": [
    "njitter_02, nlib_02 = (50, 50) \n",
    "# create jitter, A_0 points\n",
    "jitter_sfs_02 = np.linspace(0.02, 2., njitter_02)  # use 0 to 0.5 for jitter\n",
    "Alibs_02 = np.linspace(1., 0.05, nlib_02)\n",
    "# Alibs_05 = 1.05 - np.geomspace(1, 0.05)  # use Alib 1 to 0.05\n",
    "# create meshgrid\n",
    "jitter_sfs_grid_02, Alibs_grid_02 = np.meshgrid(jitter_sfs_02, Alibs_02)\n",
    "# this now takes only ~40 minutes, not too bad...\n",
    "\n",
    "x0_02 = fit_params\n",
    "best_fit_jitters_02 = best_fit_jitter.x[-3:]\n",
    "\n",
    "# # same as before\n",
    "# neg_log_likelihoods_02 = np.zeros((njitter_02, nlib_02))\n",
    "# for i in tqdm(range(njitter_02)):\n",
    "#     # add something here to reset the original guess which could maybe speed it up a bit\n",
    "#     for j in range(nlib_02):\n",
    "#         # get the A0, jitterpoint on the grid\n",
    "#         Alib_02 = Alibs_grid_02[i, j]  \n",
    "#         jitters_02 = jitter_sfs_grid_02[i, j] * best_fit_jitters\n",
    "#         # optimize the parameters, holding A0 and jitter constant at the specified grid point\n",
    "#         # set the f and x tolerance to be much lower!\n",
    "#         Alib_jitter_fit_params_02 = optimize.least_squares(lambda params: get_nbody_resids_jitter_libration(params, jitters=jitters_02, Alib=Alib_02), \n",
    "#                                                            x0_02, bounds=bounds2, ftol=1e-8, xtol=1e-8).x\n",
    "#         # then compute the negative log likelihood of fit just from the parameters (not the total cost function including the libration penalty term)\n",
    "#         # add jitter back to the parameters\n",
    "#         Alib_jitter_fit_params_02[-3:] = jitters_02 \n",
    "#         # plug params into negative log likelihood and record it\n",
    "#         neg_log_likelihoods_02[i, j] = neg_log_likelihood(Alib_jitter_fit_params_02)\n",
    "#         # update fit params with previous value\n",
    "#         x0_02 = Alib_jitter_fit_params_02"
   ]
  },
  {
   "cell_type": "markdown",
   "metadata": {},
   "source": [
    "Optional: Save/load:"
   ]
  },
  {
   "cell_type": "code",
   "execution_count": 30,
   "metadata": {},
   "outputs": [],
   "source": [
    "# save\n",
    "# np.save('neg_log_likelihoods_everything_02', neg_log_likelihoods_02)\n",
    "\n",
    "# load\n",
    "neg_log_likelihoods_02 = np.load('neg_log_likelihoods_everything_02.npy')"
   ]
  },
  {
   "cell_type": "markdown",
   "metadata": {},
   "source": [
    "And for $0.5$-$2$ jitter scale factor:"
   ]
  },
  {
   "cell_type": "markdown",
   "metadata": {},
   "source": [
    "Plot:"
   ]
  },
  {
   "cell_type": "markdown",
   "metadata": {},
   "source": [
    "### Plot:"
   ]
  },
  {
   "cell_type": "code",
   "execution_count": 31,
   "metadata": {},
   "outputs": [],
   "source": [
    "import matplotlib.colors\n",
    "import matplotlib.cm\n",
    "\n",
    "def rgb_white2alpha(rgb, ensure_increasing=False):\n",
    "    \"\"\"\n",
    "    Convert a set of RGB colors to RGBA with maximum transparency.\n",
    "    \n",
    "    The transparency is maximised for each color individually, assuming\n",
    "    that the background is white.\n",
    "    \n",
    "    Parameters\n",
    "    ----------\n",
    "    rgb : array_like shaped (N, 3)\n",
    "        Original colors.\n",
    "    ensure_increasing : bool, default=False\n",
    "        Ensure that alpha values are strictly increasing.\n",
    "    \n",
    "    Returns\n",
    "    -------\n",
    "    rgba : numpy.ndarray shaped (N, 4)\n",
    "        Colors with maximum possible transparency, assuming a white\n",
    "        background.\n",
    "    \"\"\"\n",
    "    # The most transparent alpha we can use is given by the min of RGB\n",
    "    # Convert it from saturation to opacity\n",
    "    alpha = 1. - np.min(rgb, axis=1)\n",
    "    if ensure_increasing:\n",
    "        # Let's also ensure the alpha value is monotonically increasing\n",
    "        a_max = alpha[0]\n",
    "        for i, a in enumerate(alpha):\n",
    "            alpha[i] = a_max = np.maximum(a, a_max)\n",
    "    alpha = np.expand_dims(alpha, -1)\n",
    "    # Rescale colors to discount the white that will show through from transparency\n",
    "    rgb = (rgb + alpha - 1) / alpha\n",
    "    # Concatenate our alpha channel\n",
    "    return np.concatenate((rgb, alpha), axis=1)\n",
    "\n",
    "def cmap_white2alpha(name, ensure_increasing=False, register=True):\n",
    "    \"\"\"\n",
    "    Convert colormap to have the most transparency possible, assuming white background.\n",
    "    \n",
    "    Parameters\n",
    "    ----------\n",
    "    name : str\n",
    "        Name of builtin (or registered) colormap.\n",
    "    ensure_increasing : bool, default=False\n",
    "        Ensure that alpha values are strictly increasing.\n",
    "    register : bool, default=True\n",
    "        Whether to register the new colormap.\n",
    "\n",
    "    Returns\n",
    "    -------\n",
    "    cmap : matplotlib.colors.ListedColormap\n",
    "        Colormap with alpha set as low as possible.\n",
    "    \"\"\"\n",
    "    # Fetch the cmap callable\n",
    "    cmap = plt.get_cmap(name)\n",
    "    # Get the colors out from the colormap LUT\n",
    "    rgb = cmap(np.arange(cmap.N))[:, :3]  # N-by-3\n",
    "    # Convert white to alpha\n",
    "    rgba = rgb_white2alpha(rgb, ensure_increasing=ensure_increasing)\n",
    "    # Create a new Colormap object\n",
    "    cmap_alpha = matplotlib.colors.ListedColormap(rgba, name=name + \"_alpha\")\n",
    "    if register:\n",
    "        matplotlib.cm.register_cmap(name=name + \"_alpha\", cmap=cmap_alpha)\n",
    "    return cmap_alpha\n",
    "\n",
    "# Get original Reds colormap\n",
    "cmap_og = plt.get_cmap(\"Reds\")"
   ]
  },
  {
   "cell_type": "code",
   "execution_count": 32,
   "metadata": {},
   "outputs": [],
   "source": [
    "# from matplotlib.ticker import MultipleLocator\n",
    "# # load data\n",
    "# neg_log_likelihoods_02 = np.load('neg_log_likelihoods_everything_02.npy')\n",
    "# # minimum neg log likelihood at zero jitter\n",
    "# min_neg_log_likelihood_02 = neg_log_likelihoods_02[5, 0] \n",
    "# # locations of contour labels\n",
    "# # manual_locations = [(2.4, 0.7), (1.7, 0.6), (2.0, 0.6), (3.3, 0.6), (3.9, 0.6)]\n",
    "# # levels\n",
    "# levels_02 = [min_neg_log_likelihood_02 + 1, min_neg_log_likelihood_02 + 4, min_neg_log_likelihood_02 + 9]\n",
    "\n",
    "# import scipy.ndimage\n",
    "# sigma = 1.\n",
    "# neg_log_likelihoods_02 = scipy.ndimage.filters.gaussian_filter(neg_log_likelihoods_02, sigma)\n",
    "\n",
    "# njitter_02, nlib_02 = (50, 50) \n",
    "# jitters_02 = np.linspace(0., 0.2, njitter_02)  # use 0 to 0.5 for jitter\n",
    "# Alibs_02 = np.linspace(1.1, 0.05, nlib_02)\n",
    "# jitters_grid_02, Alibs_grid_02 = np.meshgrid(jitters_02, Alibs_02)\n",
    "\n",
    "# # plotting\n",
    "# fig_, ax = plt.subplots(nrows=1, ncols=1, figsize = (12, 9), dpi=100)\n",
    "# fig3 = plt.contourf(jitters_grid_02, Alibs_grid_02, neg_log_likelihoods_02, cmap=plt.get_cmap('Blues_r'), alpha=1., \n",
    "#                     antialiased=True, levels=levels_02, extend='min')\n",
    "# plt.scatter(jitters_grid_02[5, 0], Alibs_grid_02[5, 0], label = 'Best fit', color='red', s=50)\n",
    "# plt.annotate(f'{np.round(min_neg_log_likelihood_02, 2)}', xy=(jitters_grid_02[5, 0], Alibs_grid_02[5, 0]), \n",
    "#               xycoords='data', textcoords='axes fraction', xytext=(0.005, 0.95), color='red')\n",
    "# plt.xlabel('jitter (m/s)'), plt.ylabel(r'$S$')\n",
    "# # plt.clabel(fig3, inline=True, fontsize=14)#, manual=manual_locations)\n",
    "# plt.ylim(top=1.)\n",
    "# plt.tick_params('both', length=6, width=1.5, which='major')\n",
    "# plt.tick_params('both', length=3, width=0.75, which='minor')\n",
    "# ax.yaxis.set_major_locator(MultipleLocator(0.1))\n",
    "# ax.yaxis.set_minor_locator(MultipleLocator(0.05))\n",
    "# # save\n",
    "# plt.savefig('2021_fall-2022_winter/paper_figures/Alib_jitter_sini_contour_0_02.png')#, fmt='png')"
   ]
  },
  {
   "cell_type": "markdown",
   "metadata": {},
   "source": [
    "#### Figure in paper; Alib-jitter plot \n",
    "\n",
    "Methodology: \n",
    "- Take full set of planet parameters, but hold A_lib and jitter constant across a grid of values\n",
    "- Optimize the function `get_nbody_results_jitter_libration()` which is the same least-squares function for RVs used, but with an additional penalty for the RMS libration amplitude, for each set of parameters\n",
    "- Then compute the negative log-likelihood of each set of parameters following Eq. 1 of (https://iopscience.iop.org/article/10.1088/0004-637X/794/1/51/pdf), which takes into account all parameters (including jitter) but not libration\n",
    "- Plot the best-fit point (lowest log-likelihood) and likelihood contours of best fit $\\mathcal{L}$ + ($1$, $4$, $9$) corresponding to ($1, 2, 3 \\sigma$) from best-fit likelihood\n",
    "\n",
    "Results strongly suggests nonzero jitter but shows that A_lib doesn't matter until a very strong penalty is applied (below $A \\approx 0.3$) and that the fit is better with a weaker penalty"
   ]
  },
  {
   "cell_type": "code",
   "execution_count": 33,
   "metadata": {},
   "outputs": [
    {
     "data": {
      "text/latex": [
       "$\\displaystyle 145.902807752449$"
      ],
      "text/plain": [
       "145.90280775244878"
      ]
     },
     "execution_count": 33,
     "metadata": {},
     "output_type": "execute_result"
    }
   ],
   "source": [
    "np.min(neg_log_likelihoods)"
   ]
  },
  {
   "cell_type": "code",
   "execution_count": 34,
   "metadata": {},
   "outputs": [
    {
     "data": {
      "text/plain": [
       "<a list of 4 text.Text objects>"
      ]
     },
     "execution_count": 34,
     "metadata": {},
     "output_type": "execute_result"
    },
    {
     "data": {
      "image/png": "[encoded data removed]",
      "text/plain": [
       "<Figure size 640x480 with 1 Axes>"
      ]
     },
     "metadata": {},
     "output_type": "display_data"
    }
   ],
   "source": [
    "levels2 = [280, 285, 290, 295, 300]\n",
    "\n",
    "fig = plt.contour(jitter_sfs_grid_02, Alibs_grid_02, neg_log_likelihoods_02, levels = levels2, alpha = 0.9, antialiased=True)\n",
    "plt.xscale('log')\n",
    "plt.xlim(left=2e-2)\n",
    "plt.clabel(fig)"
   ]
  },
  {
   "cell_type": "code",
   "execution_count": 35,
   "metadata": {},
   "outputs": [
    {
     "data": {
      "text/latex": [
       "$\\displaystyle \\left( 0.975510204081633, \\  1.0\\right)$"
      ],
      "text/plain": [
       "(0.9755102040816326, 1.0)"
      ]
     },
     "execution_count": 35,
     "metadata": {},
     "output_type": "execute_result"
    }
   ],
   "source": [
    "min_likelihood = np.min(neg_log_likelihoods)\n",
    "min_likelihood_index = tuple(np.argwhere(neg_log_likelihoods == min_likelihood).reshape(-1))\n",
    "jitter_sfs_grid[min_likelihood_index], Alibs_grid[min_likelihood_index]"
   ]
  },
  {
   "cell_type": "code",
   "execution_count": 36,
   "metadata": {},
   "outputs": [
    {
     "data": {
      "image/png": "[encoded data removed]",
      "text/plain": [
       "<Figure size 1200x900 with 1 Axes>"
      ]
     },
     "metadata": {},
     "output_type": "display_data"
    }
   ],
   "source": [
    "from matplotlib.ticker import MultipleLocator\n",
    "import scipy.ndimage\n",
    "\n",
    "neg_log_likelihoods = np.load('neg_log_likelihoods_everything_contours.npy')\n",
    "neg_log_likelihoods_02 = np.load('neg_log_likelihoods_everything_02.npy')\n",
    "\n",
    "# neg_log_likelihoods = scipy.ndimage.filters.gaussian_filter(neg_log_likelihoods, sigma=1.2)# [5:,:]\n",
    "\n",
    "neg_log_likelihoods = scipy.ndimage.filters.gaussian_filter(neg_log_likelihoods, sigma=0.)\n",
    "neg_log_likelihoods_02 = scipy.ndimage.filters.gaussian_filter(neg_log_likelihoods_02, sigma=1.)\n",
    "\n",
    "# neg_log_likelihoods = scipy.ndimage.zoom(neg_log_likelihoods, zoom=3)\n",
    "\n",
    "# jitters_0_05 = np.linspace(0., 0.2, 50)\n",
    "# Alibs_0_05 = np.linspace(1.1, 0.05, 50)\n",
    "# jitters_grid_0_05, Alibs_grid_0_05 = np.meshgrid(jitters_0_05, Alibs_0_05)\n",
    "# neg_log_likelihoods_0_05 = scipy.ndimage.filters.gaussian_filter(neg_log_likelihoods_02, sigma=1.)\n",
    "\n",
    "# min_likelihood = 144.46\n",
    "min_likelihood = np.min(neg_log_likelihoods)\n",
    "min_likelihood_index = tuple(np.argwhere(neg_log_likelihoods == min_likelihood).reshape(-1))\n",
    "\n",
    "# min_likelihood_zero_jitter = np.min(neg_log_likelihoods_0_05[:,0])\n",
    "\n",
    "# levels\n",
    "levels = [min_likelihood + 1, min_likelihood + 4, min_likelihood + 9]\n",
    "# levels = [min_likelihood + 1, min_likelihood + 4, min_likelihood + 9, \n",
    "#                             min_likelihood + 16, min_likelihood + 25, min_likelihood + 36, \n",
    "#                             min_likelihood + 49, min_likelihood + 64, min_likelihood + 81, \n",
    "#                             min_likelihood + 100]\n",
    "levels2 = [min_likelihood + 11. ** 2, min_likelihood + 11.25 ** 2, min_likelihood + 11.5 ** 2, min_likelihood + 11.75 ** 2,\n",
    "           min_likelihood + 12. ** 2]#, min_likelihood + 11.5 ** 2]#, min_likelihood + 11.5 ** 2]\n",
    "\n",
    "njitter, nlib = (50, 50)  # can change this\n",
    "# create jitter and A_0 points\n",
    "jitter_sfs = np.linspace(0.1, 4, njitter)  # use 0 to 4 for jitter scale factor as recommended\n",
    "Alibs = np.linspace(1., 0.05, nlib)  # use Alib 1 to 0.05\n",
    "# create meshgrid\n",
    "jitter_sfs_grid, Alibs_grid = np.meshgrid(jitter_sfs, Alibs)\n",
    "\n",
    "njitter_02, nlib_02 = (50, 50) \n",
    "# create jitter, A_0 points\n",
    "jitter_sfs_02 = np.linspace(0.02, 2., njitter_02)  # use 0 to 0.5 for jitter\n",
    "Alibs_02 = np.linspace(1., 0.05, nlib_02)\n",
    "# Alibs_05 = 1.05 - np.geomspace(1, 0.05)  # use Alib 1 to 0.05\n",
    "# create meshgrid\n",
    "jitter_sfs_grid_02, Alibs_grid_02 = np.meshgrid(jitter_sfs_02, Alibs_02)\n",
    "# this now takes only ~40 minutes, not too bad...\n",
    "\n",
    "# locations of contour labels\n",
    "manual_locations = [(2.4, 0.7), (1.7, 0.6), (2.0, 0.6), (3.3, 0.6), (3.9, 0.6)]\n",
    "\n",
    "# plotting\n",
    "plt.rc('font', size=20)\n",
    "fig_, ax = plt.subplots(nrows=1, ncols=1, figsize = (12, 9), dpi=100)\n",
    "plt.xscale('log')\n",
    "fig = plt.contourf(jitter_sfs_grid, Alibs_grid, neg_log_likelihoods, levels = levels, cmap=plt.get_cmap('Greys_r'), alpha=1., \n",
    "                   antialiased=True, extend='min', label='negative log likelihoods')\n",
    "fig = plt.contour(jitter_sfs_grid, Alibs_grid, neg_log_likelihoods, levels = levels, colors = 'r', alpha = 0.9, antialiased=True)\n",
    "fig2 = plt.contour(jitter_sfs_grid_02, Alibs_grid_02, neg_log_likelihoods_02, levels = levels2, colors='r', alpha = 0.9, antialiased=True)\n",
    "# fig3 = plt.contour(jitters_grid_02, Alibs_grid_02, neg_log_likelihoods_02, levels = levels2)\n",
    "# fig2 = plt.contour(jitters_grid_05, Alibs_grid_05, neg_log_likelihoods_05, levels = [396, 397, 397.5])\n",
    "\n",
    "plt.scatter(jitter_sfs_grid[min_likelihood_index], Alibs_grid[min_likelihood_index], label = 'Best fit', color='darkorange', s=150)\n",
    "# plt.annotate(f'{np.round(min_likelihood, 2)}', xy=(jitters_grid[min_likelihood_index], Alibs_grid[min_likelihood_index]), \n",
    "#               xycoords='data', textcoords='axes fraction', xytext=(0.45, 0.95), color='red')\n",
    "plt.xlabel('jitter (m/s)'), plt.ylabel(r'$S$')\n",
    "# plt.clabel(fig, inline=True, fontsize=28, colors='k')#, manual=manual_locations)\n",
    "\n",
    "low_fmt = {}\n",
    "high_fmt = {}\n",
    "strs_low = [r'$11\\sigma$', r'$11.25\\sigma$', r'$11.5\\sigma$', r'$11.75\\sigma$', r'$12\\sigma$']\n",
    "strs_high = [r'$1\\sigma$', r'$2\\sigma$', r'$3\\sigma$']\n",
    "for l, s in zip(levels2, strs_low):\n",
    "    low_fmt[l] = s\n",
    "for l, s in zip(levels, strs_high):\n",
    "    high_fmt[l] = s\n",
    "\n",
    "# Basic contour plot\n",
    "# plt.clabel(fig3, inline=True, fontsize=14)\n",
    "# yticks\n",
    "ax.tick_params('both', length=12, width=1.5, which='major')\n",
    "ax.tick_params('both', length=6, width=0.8, which='minor')\n",
    "ax.yaxis.set_major_locator(MultipleLocator(0.1))\n",
    "ax.yaxis.set_minor_locator(MultipleLocator(0.05))\n",
    "plt.xlim(left=3e-2)\n",
    "plt.ylim(top=1.)\n",
    "plt.gca().clabel(fig, inline=True, fmt=high_fmt, fontsize=16)\n",
    "plt.gca().clabel(fig2, inline=True, fmt=low_fmt, fontsize=16)\n",
    "# plt.legend(loc='upper right')\n",
    "plt.savefig('2021_fall-2022_winter/paper_figures/Alib_jitter_sini_contour_05_5.png')#, fmt='png')"
   ]
  },
  {
   "cell_type": "code",
   "execution_count": 37,
   "metadata": {},
   "outputs": [
    {
     "data": {
      "text/plain": [
       "<matplotlib.collections.LineCollection at 0x7f53f3124bb0>"
      ]
     },
     "execution_count": 37,
     "metadata": {},
     "output_type": "execute_result"
    },
    {
     "data": {
      "image/png": "[encoded data removed]",
      "text/plain": [
       "<Figure size 1200x800 with 1 Axes>"
      ]
     },
     "metadata": {},
     "output_type": "display_data"
    }
   ],
   "source": [
    "# neg_log_likelihoods = np.load('neg_log_likelihoods_everything_contours.npy')\n",
    "fig, ax = plt.subplots(1, 1, figsize = (12, 8), dpi=100)\n",
    "plt.scatter(Alibs, neg_log_likelihoods[:,min_likelihood_index[-1]])\n",
    "ax.hlines(levels, cmap=plt.get_cmap('Blues_r'), alpha=1., xmin=0., xmax=1.)"
   ]
  },
  {
   "cell_type": "code",
   "execution_count": 38,
   "metadata": {},
   "outputs": [],
   "source": [
    "# fig, ax = plt.subplots(1, 1, figsize = (12, 8), dpi=100)\n",
    "# plt.scatter(Alibs_02[5:], neg_log_likelihoods_02[5:, 5])\n",
    "# ax.hlines(levels_02, cmap=plt.get_cmap('Blues_r'), alpha=1., xmin=0., xmax=1.)"
   ]
  },
  {
   "cell_type": "markdown",
   "metadata": {},
   "source": [
    "Finding the approximate value of $1\\sigma_\\text{jit}$:"
   ]
  },
  {
   "cell_type": "code",
   "execution_count": 41,
   "metadata": {},
   "outputs": [
    {
     "data": {
      "text/latex": [
       "$\\displaystyle 0.321428571428572$"
      ],
      "text/plain": [
       "0.3214285714285716"
      ]
     },
     "execution_count": 41,
     "metadata": {},
     "output_type": "execute_result"
    }
   ],
   "source": [
    "jitter_range = jitters_grid[0][[np.argwhere(neg_log_likelihoods[0] < np.min(neg_log_likelihoods[0] + 1))]]\n",
    "onesigma_jit = (np.max(jitter_range) - np.min(jitter_range))/2\n",
    "onesigma_jit"
   ]
  },
  {
   "cell_type": "markdown",
   "metadata": {
    "jp-MarkdownHeadingCollapsed": true
   },
   "source": [
    "### Testing/Debugging:"
   ]
  },
  {
   "cell_type": "markdown",
   "metadata": {},
   "source": [
    "Optional: Now compute and plot the likelihood for varying $A_0$ while holding jitter at $0$:"
   ]
  },
  {
   "cell_type": "code",
   "execution_count": 50,
   "metadata": {},
   "outputs": [
    {
     "name": "stderr",
     "output_type": "stream",
     "text": [
      "100%|██████████████████████████████████████████████████████████████████████████████████████████████████████████████████████████████████████████████████████████████████████████| 150/150 [12:47<00:00,  5.11s/it]\n"
     ]
    }
   ],
   "source": [
    "nlib = 150\n",
    "Alibs = np.linspace(1.1, 0.05, nlib)\n",
    "\n",
    "neg_log_likelihoods_zero_jitter = np.zeros(nlib)\n",
    "\n",
    "x0 = fit_params\n",
    "for j in tqdm(range(nlib)):\n",
    "    # get the A0, jitter point on the grid\n",
    "    Alib = Alibs[j]  \n",
    "    jitter = 0.\n",
    "    # optimize the parameters, holding A0 and jitter constant at the specified grid point\n",
    "    Alib_jitter_fit_params = optimize.least_squares(lambda params: get_nbody_resids_jitter_libration(params, jitter=jitter, Alib=Alib), \n",
    "                                                    x0, bounds=bounds2, ftol=1e-12, xtol=1e-12, verbose=0).x\n",
    "    # then compute the negative log likelihood of fit just from the parameters (not the total cost function including the libration penalty term)\n",
    "    # add jitter back to the parameters\n",
    "    Alib_jitter_fit_params[-1] = jitter \n",
    "    # plug params into negative log likelihood and record it\n",
    "    neg_log_likelihoods_zero_jitter[j] = neg_log_likelihood(Alib_jitter_fit_params)\n",
    "    # update fit params with previous value\n",
    "    x0 = Alib_jitter_fit_params"
   ]
  },
  {
   "cell_type": "markdown",
   "metadata": {},
   "source": [
    "Optional: Save/load:"
   ]
  },
  {
   "cell_type": "code",
   "execution_count": 55,
   "metadata": {},
   "outputs": [],
   "source": [
    "# save\n",
    "# np.save('neg_log_likelihoods_zero_jitter', neg_log_likelihoods_zero_jitter)\n",
    "\n",
    "# load\n",
    "neg_log_likelihoods_zero_jitter = np.load('neg_log_likelihoods_zero_jitter.npy')"
   ]
  },
  {
   "cell_type": "markdown",
   "metadata": {},
   "source": [
    "Plot:"
   ]
  },
  {
   "cell_type": "code",
   "execution_count": 56,
   "metadata": {},
   "outputs": [
    {
     "data": {
      "text/latex": [
       "$\\displaystyle \\left( -0.0025, \\  1.0\\right)$"
      ],
      "text/plain": [
       "(-0.0025000000000000022, 1.0)"
      ]
     },
     "execution_count": 56,
     "metadata": {},
     "output_type": "execute_result"
    },
    {
     "data": {
      "application/vnd.jupyter.widget-view+json": {
       "model_id": "ef9b868770544b1384e53b3352a2f597",
       "version_major": 2,
       "version_minor": 0
      },
      "image/png": "[encoded data removed]",
      "text/html": [
       "\n",
       "            <div style=\"display: inline-block;\">\n",
       "                <div class=\"jupyter-widgets widget-label\" style=\"text-align: center;\">\n",
       "                    Figure\n",
       "                </div>\n",
       "                <img src='data:image/png;base64,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' width=640.0/>\n",
       "            </div>\n",
       "        "
      ],
      "text/plain": [
       "Canvas(toolbar=Toolbar(toolitems=[('Home', 'Reset original view', 'home', 'home'), ('Back', 'Back to previous …"
      ]
     },
     "metadata": {},
     "output_type": "display_data"
    }
   ],
   "source": [
    "plt.figure()\n",
    "plt.scatter(Alibs, neg_log_likelihoods_zero_jitter)\n",
    "plt.xlim(right=1.)\n",
    "# plt.ylim(396, 399)"
   ]
  },
  {
   "cell_type": "code",
   "execution_count": 42,
   "metadata": {},
   "outputs": [
    {
     "data": {
      "text/latex": [
       "$\\displaystyle 0.304545454545455$"
      ],
      "text/plain": [
       "0.30454545454545456"
      ]
     },
     "execution_count": 42,
     "metadata": {},
     "output_type": "execute_result"
    }
   ],
   "source": [
    "Alibs[75]"
   ]
  },
  {
   "cell_type": "code",
   "execution_count": 43,
   "metadata": {},
   "outputs": [],
   "source": [
    "test_fit_params = optimize.least_squares(lambda params: get_nbody_resids_jitter_libration(params, jitter=0., Alib=Alibs[75]), \n",
    "                                                fit_params, bounds=bounds2, verbose=0).x"
   ]
  },
  {
   "cell_type": "code",
   "execution_count": 44,
   "metadata": {},
   "outputs": [
    {
     "data": {
      "text/plain": [
       "array([ 2.28500263e+02,  7.27740751e+00,  5.39371913e+04, -4.92940348e-02,\n",
       "       -1.61370447e-01,  3.43385758e+02,  1.78605456e+01,  5.40186750e+04,\n",
       "        9.77368753e-02,  1.16472358e-01, -5.28690875e-01,  9.98593841e-01,\n",
       "        2.42800000e+00])"
      ]
     },
     "execution_count": 44,
     "metadata": {},
     "output_type": "execute_result"
    }
   ],
   "source": [
    "test_fit_params"
   ]
  },
  {
   "cell_type": "code",
   "execution_count": 45,
   "metadata": {},
   "outputs": [
    {
     "data": {
      "text/latex": [
       "$\\displaystyle 347.733166387303$"
      ],
      "text/plain": [
       "347.73316638730347"
      ]
     },
     "execution_count": 45,
     "metadata": {},
     "output_type": "execute_result"
    }
   ],
   "source": [
    "test_fit_params[-1] = 0\n",
    "neg_log_likelihood(test_fit_params)"
   ]
  },
  {
   "cell_type": "code",
   "execution_count": 46,
   "metadata": {},
   "outputs": [
    {
     "data": {
      "application/vnd.jupyter.widget-view+json": {
       "model_id": "6c509a534de64f73bda8365b92f3f62a",
       "version_major": 2,
       "version_minor": 0
      },
      "image/png": "[encoded data removed]",
      "text/html": [
       "\n",
       "            <div style=\"display: inline-block;\">\n",
       "                <div class=\"jupyter-widgets widget-label\" style=\"text-align: center;\">\n",
       "                    Figure\n",
       "                </div>\n",
       "                <img src='data:image/png;base64,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' width=500.0/>\n",
       "            </div>\n",
       "        "
      ],
      "text/plain": [
       "Canvas(toolbar=Toolbar(toolitems=[('Home', 'Reset original view', 'home', 'home'), ('Back', 'Back to previous …"
      ]
     },
     "metadata": {},
     "output_type": "display_data"
    }
   ],
   "source": [
    "%matplotlib widget\n",
    "sim = get_sim_from_params(test_fit_params, integrator='ias15', time_base=obs_time_base)\n",
    "op = rb.OrbitPlot(sim, orbit_style='solid', color=True)\n",
    "fig = op.fig\n",
    "for i in range(100):\n",
    "    op.sim.integrate(sim.t+1000)\n",
    "    op.update()       # update data\n",
    "    op.fig.savefig(\"op_frames/out_%02d.png\"%i)"
   ]
  },
  {
   "cell_type": "code",
   "execution_count": 36,
   "metadata": {},
   "outputs": [
    {
     "ename": "NameError",
     "evalue": "name 'cluster2samples' is not defined",
     "output_type": "error",
     "traceback": [
      "\u001b[0;31m---------------------------------------------------------------------------\u001b[0m",
      "\u001b[0;31mNameError\u001b[0m                                 Traceback (most recent call last)",
      "Cell \u001b[0;32mIn[36], line 1\u001b[0m\n\u001b[0;32m----> 1\u001b[0m plt\u001b[38;5;241m.\u001b[39mscatter(\u001b[43mcluster2samples\u001b[49m[\u001b[38;5;241m200\u001b[39m:]\u001b[38;5;241m.\u001b[39mreshape(\u001b[38;5;241m-\u001b[39m\u001b[38;5;241m1\u001b[39m, \u001b[38;5;241m13\u001b[39m)[:,\u001b[38;5;241m-\u001b[39m\u001b[38;5;241m1\u001b[39m], cluster2log_prob[\u001b[38;5;241m200\u001b[39m:]\u001b[38;5;241m.\u001b[39mreshape(\u001b[38;5;241m-\u001b[39m\u001b[38;5;241m1\u001b[39m))\n\u001b[1;32m      2\u001b[0m plt\u001b[38;5;241m.\u001b[39mylim(\u001b[38;5;241m-\u001b[39m\u001b[38;5;241m180\u001b[39m, \u001b[38;5;241m-\u001b[39m\u001b[38;5;241m140\u001b[39m)\n",
      "\u001b[0;31mNameError\u001b[0m: name 'cluster2samples' is not defined"
     ]
    }
   ],
   "source": [
    "plt.scatter(cluster2samples[200:].reshape(-1, 13)[:,-1], cluster2log_prob[200:].reshape(-1))\n",
    "plt.ylim(-180, -140)"
   ]
  },
  {
   "cell_type": "code",
   "execution_count": null,
   "metadata": {},
   "outputs": [],
   "source": []
  },
  {
   "cell_type": "code",
   "execution_count": null,
   "metadata": {},
   "outputs": [],
   "source": []
  },
  {
   "cell_type": "code",
   "execution_count": 77,
   "metadata": {},
   "outputs": [],
   "source": [
    "testdata = h5py.File('mcmc_hd45364_test_everything_with_libration_penalty.h5', 'r')\n",
    "clusterdata = h5py.File('2021_fall-2022_winter/mcmc_hd45364_cluster_everything.h5', 'r')"
   ]
  },
  {
   "cell_type": "code",
   "execution_count": 78,
   "metadata": {},
   "outputs": [
    {
     "data": {
      "text/plain": [
       "(<HDF5 file \"mcmc_hd45364_test_everything_with_libration_penalty.h5\" (mode r)>,\n",
       " <HDF5 file \"mcmc_hd45364_cluster_everything.h5\" (mode r)>)"
      ]
     },
     "execution_count": 78,
     "metadata": {},
     "output_type": "execute_result"
    }
   ],
   "source": [
    "testdata, clusterdata"
   ]
  },
  {
   "cell_type": "code",
   "execution_count": 79,
   "metadata": {},
   "outputs": [],
   "source": [
    "clusteraccepted, clustersamples, clusterlog_prob = np.array(clusterdata['mcmc']['accepted']), np.array(clusterdata['mcmc']['chain']), np.array(clusterdata['mcmc']['log_prob'])"
   ]
  },
  {
   "cell_type": "code",
   "execution_count": 80,
   "metadata": {},
   "outputs": [],
   "source": [
    "testaccepted, testsamples, testlog_prob = np.array(testdata['mcmc']['accepted']), np.array(testdata['mcmc']['chain']), np.array(testdata['mcmc']['log_prob'])"
   ]
  },
  {
   "cell_type": "code",
   "execution_count": 84,
   "metadata": {},
   "outputs": [
    {
     "data": {
      "text/plain": [
       "(array([         -inf, -146.51678715,          -inf,          -inf,\n",
       "        -144.47196042, -145.22481037, -149.81785781, -150.14552392,\n",
       "        -144.65341603,          -inf, -145.0619669 ,          -inf,\n",
       "        -145.70774688, -145.86152335, -146.69308586,          -inf,\n",
       "                 -inf,          -inf,          -inf, -147.66977602,\n",
       "        -146.43029218,          -inf, -148.13441221, -144.43619085,\n",
       "        -145.21614697, -144.98678277,          -inf, -144.89881705,\n",
       "                 -inf,          -inf, -144.98201814, -144.96430861,\n",
       "                 -inf,          -inf, -144.6004966 ,          -inf,\n",
       "        -150.14182548, -144.41217735,          -inf, -146.38755823,\n",
       "                 -inf, -145.63305125,          -inf,          -inf,\n",
       "        -144.65213382, -144.85934061, -147.60115545, -144.5074776 ,\n",
       "                 -inf, -146.30119724]),\n",
       " array([          -inf,           -inf,           -inf,           -inf,\n",
       "                  -inf,           -inf, -3445.53532335,           -inf,\n",
       "                  -inf,           -inf,           -inf,           -inf,\n",
       "                  -inf,           -inf,           -inf,           -inf,\n",
       "                  -inf,           -inf,           -inf,           -inf,\n",
       "                  -inf,           -inf,           -inf,           -inf,\n",
       "                  -inf,           -inf,           -inf,           -inf,\n",
       "                  -inf,           -inf,           -inf,           -inf,\n",
       "                  -inf,           -inf,           -inf,           -inf,\n",
       "                  -inf,           -inf,           -inf,           -inf,\n",
       "                  -inf,           -inf,           -inf,           -inf,\n",
       "                  -inf,           -inf,           -inf,           -inf,\n",
       "                  -inf,           -inf]))"
      ]
     },
     "execution_count": 84,
     "metadata": {},
     "output_type": "execute_result"
    }
   ],
   "source": [
    "clusterlog_prob[0], testlog_prob[0]"
   ]
  },
  {
   "cell_type": "markdown",
   "metadata": {},
   "source": [
    "#### extra:"
   ]
  },
  {
   "cell_type": "markdown",
   "metadata": {},
   "source": [
    "Testing to make sure I can get a jacobian that's nonzero for every parameter:"
   ]
  },
  {
   "cell_type": "code",
   "execution_count": null,
   "metadata": {},
   "outputs": [],
   "source": [
    "# jacobian_fit_params = optimize.least_squares(lambda params: get_nbody_resids_jitter_libration2(params, Alib=1, integrator='ias15'), best_fit_jitter2.x, bounds=bounds2)\n",
    "jacobian_fit_params = optimize.least_squares(lambda params: get_nbody_resids(params, integrator='ias15'), best_fit_jitter2.x, bounds=bounds2)"
   ]
  },
  {
   "cell_type": "code",
   "execution_count": null,
   "metadata": {},
   "outputs": [],
   "source": [
    "jacobian_fit_params.x, best_fit_jitter2.x"
   ]
  },
  {
   "cell_type": "code",
   "execution_count": null,
   "metadata": {},
   "outputs": [],
   "source": [
    "j = jacobian_fit_params.jac\n",
    "j[-1][-1] = onesigma_jit\n",
    "np.linalg.inv(j.T @ j)"
   ]
  },
  {
   "cell_type": "code",
   "execution_count": null,
   "metadata": {},
   "outputs": [],
   "source": [
    "neg_log_likelihood(jacobian_fit_params.x), neg_log_likelihood(best_fit_jitter2.x)"
   ]
  },
  {
   "cell_type": "code",
   "execution_count": null,
   "metadata": {},
   "outputs": [],
   "source": [
    "# obs_yerr = hd_data.e_RV_mlc_nzp\n",
    "# jitter_penalties = [np.sum(np.log(np.sqrt(2 * np.pi * (obs_yerr ** 2 + jitter ** 2)))) for jitter in jitters]\n",
    "\n",
    "# plt.plot(jitters, jitter_penalties)\n",
    "\n",
    "# fit_params = np.array([ 2.28306953e+02,  7.26248510e+00,  5.39345613e+04,  4.02153494e-02,\n",
    "#        -1.76686411e-01,  3.43427379e+02,  1.79425723e+01,  5.40193481e+04,\n",
    "#         1.01456416e-01,  1.18819868e-01, -4.99414710e-01,  1.00000000e+00])\n",
    "\n",
    "# result = optimize.least_squares(lambda params: get_nbody_resids_jitter_libration(params, jitter=1, Alib=1), fit_params)\n",
    "\n",
    "# result2 = optimize.least_squares(lambda params: get_nbody_resids_jitter_libration(params, jitter=2, Alib=1), result.x)\n",
    "\n",
    "# result3 = optimize.least_squares(lambda params: get_nbody_resids_jitter_libration(params, jitter=3, Alib=1), result2.x)\n",
    "\n",
    "# result3"
   ]
  },
  {
   "cell_type": "code",
   "execution_count": null,
   "metadata": {},
   "outputs": [],
   "source": []
  }
 ],
 "metadata": {
  "kernelspec": {
   "display_name": "Python 3 (ipykernel)",
   "language": "python",
   "name": "python3"
  },
  "language_info": {
   "codemirror_mode": {
    "name": "ipython",
    "version": 3
   },
   "file_extension": ".py",
   "mimetype": "text/x-python",
   "name": "python",
   "nbconvert_exporter": "python",
   "pygments_lexer": "ipython3",
   "version": "3.10.12"
  }
 },
 "nbformat": 4,
 "nbformat_minor": 4
}
