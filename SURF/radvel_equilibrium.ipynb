{
 "cells": [
  {
   "cell_type": "code",
   "execution_count": 53,
   "metadata": {},
   "outputs": [],
   "source": [
    "import radvel\n",
    "import numpy as np\n",
    "import rebound as rb\n",
    "import matplotlib.pyplot as plt\n",
    "import celmech as cm\n",
    "import pandas as pd\n",
    "import h5py"
   ]
  },
  {
   "cell_type": "markdown",
   "metadata": {},
   "source": [
    "Set up model using $K_1$, $\\frac{m_2}{m_1}$, $e_1$, $\\omega_1$, $\\dot{\\omega}$, $P_1$, $\\lambda_1$ or $M_1$:"
   ]
  },
  {
   "cell_type": "code",
   "execution_count": 54,
   "metadata": {},
   "outputs": [],
   "source": [
    "hd_data = pd.read_csv('hd45364_rvs.csv', sep = ';')\n",
    "hd_data.BJD -= 2.4e6\n",
    "\n",
    "cluster_data = h5py.File('hd_mcmc_cluster.h5', 'r')  # import the posterior distribution data from the cluster\n",
    "accepted, samples, log_prob = np.array(cluster_data['mcmc']['accepted']), np.array(cluster_data['mcmc']['chain']), np.array(cluster_data['mcmc']['log_prob'])\n",
    "\n",
    "n_burn_in = 200  # discard the first 200 samples as burn-in time\n",
    "# reshape the chain to flatten it out\n",
    "flat_samples = samples[n_burn_in:].reshape(-1, samples[n_burn_in:].shape[-1])"
   ]
  },
  {
   "cell_type": "markdown",
   "metadata": {},
   "source": [
    "Model -- use RV model in equilibrium. First find the constant $c$ in $\\frac{e_1}{e_2} = c \\times \\frac{m2}{m1}$, using the `REBOUNDx` eccentricity track simulations:"
   ]
  },
  {
   "cell_type": "code",
   "execution_count": 55,
   "metadata": {},
   "outputs": [],
   "source": [
    "nsims = 100\n",
    "Ks_orig = np.logspace(0, 5, nsims)\n",
    "ecc_sims_location = 'hd_max_mass'\n",
    "# initialize c array\n",
    "cs = np.zeros(len(Ks_orig))\n",
    "\n",
    "for i in range(0, len(Ks_orig)):\n",
    "    ecc_sim = rb.Simulation(f'{ecc_sims_location}/ecc_track_archive_cluster_{i}.bin')  # get the ith eccentricity simulation from the ecc sims folder\n",
    "    inner = ecc_sim.particles[1]\n",
    "    outer = ecc_sim.particles[2]\n",
    "    # print(inner.m, outer.m)\n",
    "    cs[i] = (inner.e * inner.m)/(outer.e * outer.m)  # compute c by rearranging"
   ]
  },
  {
   "cell_type": "code",
   "execution_count": 56,
   "metadata": {},
   "outputs": [
    {
     "data": {
      "text/latex": [
       "$\\displaystyle 0.906796329356936$"
      ],
      "text/plain": [
       "0.9067963293569362"
      ]
     },
     "execution_count": 56,
     "metadata": {},
     "output_type": "execute_result"
    }
   ],
   "source": [
    "np.median(cs)"
   ]
  },
  {
   "cell_type": "code",
   "execution_count": 57,
   "metadata": {},
   "outputs": [
    {
     "data": {
      "text/plain": [
       "(array([ 1.,  4.,  2.,  3.,  2.,  3., 10., 29., 31., 15.]),\n",
       " array([0.19111961, 0.28128896, 0.37145831, 0.46162766, 0.55179701,\n",
       "        0.64196636, 0.73213571, 0.82230506, 0.91247441, 1.00264376,\n",
       "        1.09281311]),\n",
       " <BarContainer object of 10 artists>)"
      ]
     },
     "execution_count": 57,
     "metadata": {},
     "output_type": "execute_result"
    },
    {
     "data": {
      "image/png": "[encoded data removed]",
      "text/plain": [
       "<Figure size 432x288 with 1 Axes>"
      ]
     },
     "metadata": {
      "needs_background": "light"
     },
     "output_type": "display_data"
    }
   ],
   "source": [
    "plt.hist(cs)"
   ]
  },
  {
   "cell_type": "markdown",
   "metadata": {},
   "source": [
    "Create rv"
   ]
  },
  {
   "cell_type": "code",
   "execution_count": 58,
   "metadata": {},
   "outputs": [],
   "source": [
    "#Least squares fit: \n",
    "fit_params = [ 2.28513053e+02, 7.27743508e+00, 5.39371890e+04, -1.78110513e-01, \n",
    "              -4.66450116e-02, 3.43378023e+02, 1.78603199e+01, 5.40186750e+04,\n",
    "               1.32165040e-01, 9.73129308e-02, -5.29039776e-01] \n",
    "\n",
    "# star mass, g and auday to m/s conversion factor\n",
    "STAR_MASS = 920  # 920 jupiter masses\n",
    "G = 2.825e-7  # converting G to jupiter masses, au, and days\n",
    "AUDAY_MS = 1.731e6  # conversion factor for au/day to m/s\n",
    "\n",
    "def mass_to_semiamp(planet_mass, star_mass, period, eccentricity, inclination):\n",
    "    \"\"\"\n",
    "    planet mass (jupiter masses) to semi amplitude\n",
    "    \"\"\"\n",
    "    return ((2 * np.pi * G/period) ** (1/3) * (planet_mass * np.sin(inclination) / star_mass ** (2/3)) * (1/np.sqrt(1 - eccentricity ** 2)))\n",
    "\n",
    "def semiamp_to_mass(semiamp, star_mass, period, eccentricity, inclination):\n",
    "    \"\"\"\n",
    "    semi amplitude to planet mass (jupiter masses)\n",
    "    \"\"\"\n",
    "    return (((2 * np.pi * G/period) ** (-1/3)) * (semiamp / np.sin(inclination)) * np.sqrt(1 - eccentricity ** 2) * (star_mass ** (2/3)))\n",
    "\n",
    "\n",
    "def get_sim_from_params(params, inclination, integrator, time_base, star_mass = STAR_MASS, auday_ms = AUDAY_MS):\n",
    "    \"\"\"\n",
    "    takes in params array, returns a rebound Simulation object with those parameters\n",
    "    \n",
    "    param params: numpy array of params:\n",
    "    \n",
    "    for i in range(0, num_planets):\n",
    "    \n",
    "    params[i + 0] is period\n",
    "    params[i + 1] is semiamp\n",
    "    params[i + 2] is tc (time of conjunction)\n",
    "    params[i + 3] is sqrt(e) * cos(omega)\n",
    "    params[i + 4] is sqrt(e) * sin(omega)\n",
    "    \n",
    "    params[5 * num_planets] is rv offset\n",
    "    params[5 * num_planets + 1] is jit\n",
    "    \n",
    "    param inclination: inclination of system in the observation plane (pi/2 is in the plane of the sky, 0 is edge-on)\n",
    "    param integrator: integrator to use, one of 'whfast' or 'ias15'\n",
    "    param time_base: base time (to begin integration from) in the simulation\n",
    "    \"\"\"\n",
    "    \n",
    "    num_planets = int((len(params) - 1) / 5) # -2 because there are rv_offset and jit parameters:\n",
    "    \n",
    "    sim = rb.Simulation()\n",
    "    sim.integrator = integrator\n",
    "    sim.t = time_base  # keplerian and n-body models initialized at the same time offset\n",
    "    # print(sim.t)\n",
    "    if integrator == 'whfast':  # if using whfast integrator, set timestep\n",
    "        sim.dt = 1/50 * min(params[0::5][:-1])  # timestep is 1/20th of the shortest orbital period of any planet\n",
    "        # print(sim.dt)\n",
    "    sim.units = ('AU', 'Mjupiter', 'day')\n",
    "\n",
    "    sim.add(m = star_mass)  # star mass as a constant\n",
    "        \n",
    "    for i in range (0, num_planets):\n",
    "        # print(i)\n",
    "        # planet parameters\n",
    "        period = params[5*i]  # in days\n",
    "        semiamp = params[5*i + 1] / auday_ms # divide by auday_ms because semiamp given in m/s\n",
    "        eccentricity = params[5*i + 3] ** 2 + params[5*i + 4] ** 2  # eccentricity from secos, sesin\n",
    "        omega = np.arctan2(params[5*i + 3], params[5*i + 4])  # omega from arctan of sesin, secos\n",
    "        # get tp by converting from tc\n",
    "        tp = radvel.orbit.timetrans_to_timeperi(params[5*i + 2], per = period, ecc = eccentricity, omega = omega)\n",
    "        \n",
    "        # mass\n",
    "        mass = semiamp_to_mass(semiamp = semiamp, star_mass = star_mass, period = period, eccentricity = eccentricity, inclination = inclination)\n",
    "        \n",
    "        # adding to simulation\n",
    "        sim.add(m = mass, P = period, e = eccentricity, T = tp, omega = omega, inc = inclination)\n",
    "        \n",
    "    sim.move_to_com()  # move to center of mass\n",
    "    \n",
    "    return sim\n",
    "\n",
    "def get_simple_sim(masses, integrator = 'ias15', period_ratio = 3/2, epsilon=0.01):\n",
    "    \"\"\"\n",
    "    gets simple sim (for eccentricity track stuff)\n",
    "    param masses: array of planet masses\n",
    "    param integrator: integrator\n",
    "    param epsilon: amount by which the resonant period ratio should be offset from the equilibrium in the simulation\n",
    "    \"\"\"\n",
    "    sim = rb.Simulation()\n",
    "    sim.integrator = integrator\n",
    "    # central star\n",
    "    sim.add(m = 1)\n",
    "    \n",
    "    sim.add(m = masses[0], P = 1)\n",
    "    sim.add(m = masses[1], P = period_ratio * (1 + epsilon))\n",
    "\n",
    "    sim.move_to_com()\n",
    "    if integrator == 'whfast':\n",
    "        sim.dt = 1/50 * 1  # dy default use 1/50th of the inner planet's orbital period for the timestep if using whfast\n",
    "    return sim"
   ]
  },
  {
   "cell_type": "markdown",
   "metadata": {},
   "source": [
    "Parameters ($K_1, \\frac{m_2}{m_1}, e_1, \\omega_1, \\dot\\omega, P_1, \\lambda_1$ or $M_1$):"
   ]
  },
  {
   "cell_type": "code",
   "execution_count": 59,
   "metadata": {},
   "outputs": [],
   "source": [
    "test_samp = flat_samples[0]"
   ]
  },
  {
   "cell_type": "code",
   "execution_count": 64,
   "metadata": {},
   "outputs": [],
   "source": [
    "# test parameters\n",
    "time_base = np.median(hd_data.BJD)\n",
    "fit_sim = get_sim_from_params(fit_params, inclination = np.pi/2, integrator = 'ias15', time_base = time_base)\n",
    "# 7 parameters\n",
    "k1 = test_samp[1]/AUDAY_MS  # k1\n",
    "e1 = test_samp[3] ** 2 + test_samp[4] ** 2  # e1\n",
    "p1 = test_samp[0]  # p1\n",
    "Tprecess = 50 * p1\n",
    "m2_m1 = fit_sim.particles[2].m/fit_sim.particles[1].m\n",
    "omega1 = np.arctan2(test_samp[3], test_samp[4])\n",
    "# use from the precessingrvsignal notebook\n",
    "omegadot = 2 * np.pi /Tprecess  # omegadot = omegadot1 = omegadot2\n",
    "tp1 = radvel.orbit.timetrans_to_timeperi(test_samp[2], per = p1, ecc = e1, omega = omega1)\n",
    "# and the constant c, using the median as the constant\n",
    "c = np.median(cs)\n",
    "\n",
    "# compute tihngs needed\n",
    "\n",
    "# compute m1 from K1 and e1 using semiamp_to_mass\n",
    "m1 = semiamp_to_mass(semiamp = k1, star_mass = STAR_MASS, period = p1, eccentricity = e1, inclination = np.pi/2)\n",
    "# compute m2 using m1 and m2/m1 as a parameter\n",
    "m2 = m2_m1 * m1\n",
    "# compute e2 using e1, m1, m2\n",
    "e2 = (e1 * m1)/(c * m2)\n",
    "# compute p2 usng omegadot, since thetadot1 = thetadot2 = 0\n",
    "p2 = (3 * np.pi * p1)/(2 * np.pi + p1 * omegadot)  # rearrange the equation\n",
    "# compute K2 using m2, e2, and p2\n",
    "k2 = mass_to_semiamp(planet_mass = m2, star_mass = STAR_MASS, period = p2, eccentricity = e2, inclination=np.pi/2)\n",
    "# compute omega2 as omega1 + pi\n",
    "omega2 = omega1 + np.pi\n",
    "\n",
    "\n",
    "# TODO:\n",
    "# convert tp to lambda, and compute lambda1 and lambda2\n",
    "# also compute theta1 and 2 as well"
   ]
  },
  {
   "cell_type": "markdown",
   "metadata": {},
   "source": [
    "Compare fit params and this:"
   ]
  },
  {
   "cell_type": "code",
   "execution_count": 66,
   "metadata": {},
   "outputs": [
    {
     "data": {
      "text/latex": [
       "$\\displaystyle \\left[ 228.513053, \\  7.27743508, \\  53937.189, \\  -0.178110513, \\  -0.0466450116, \\  343.378023, \\  17.8603199, \\  54018.675, \\  0.13216504, \\  0.0973129308, \\  -0.529039776\\right]$"
      ],
      "text/plain": [
       "[228.513053, 7.27743508, 53937.189, -0.178110513, -0.0466450116, 343.378023, 1\n",
       "7.8603199, 54018.675, 0.13216504, 0.0973129308, -0.529039776]"
      ]
     },
     "execution_count": 66,
     "metadata": {},
     "output_type": "execute_result"
    }
   ],
   "source": [
    "fit_params  # p1, k1, tc1, sqrt(e1) * cos(omega1), sqrt(e1) * sin(omega1) and same for 2, plus rv offset at the end"
   ]
  },
  {
   "cell_type": "code",
   "execution_count": 70,
   "metadata": {},
   "outputs": [
    {
     "data": {
      "text/latex": [
       "$\\displaystyle \\left( 228.437134756917, \\  4.2148733757433 \\cdot 10^{-6}, \\  0.0190315779653312, \\  0.201258336912851, \\  335.936962877819, \\  1.04194400275633 \\cdot 10^{-5}, \\  0.00746462972674715, \\  0.565862162045119\\right)$"
      ],
      "text/plain": [
       "(228.43713475691726, 4.214873375743303e-06, 0.019031577965331243, 0.2012583369\n",
       "1285097, 335.9369628778195, 1.0419440027563347e-05, 0.007464629726747151, 0.56\n",
       "58621620451185)"
      ]
     },
     "execution_count": 70,
     "metadata": {},
     "output_type": "execute_result"
    }
   ],
   "source": [
    "p1, k1, e1, m1, p2, k2, e2, m2"
   ]
  },
  {
   "cell_type": "code",
   "execution_count": 69,
   "metadata": {},
   "outputs": [],
   "source": [
    "?get_sim_from_params"
   ]
  },
  {
   "cell_type": "markdown",
   "metadata": {},
   "source": [
    "Write a function that takes in the parameters and returns a `rebound` sim from it"
   ]
  },
  {
   "cell_type": "code",
   "execution_count": null,
   "metadata": {},
   "outputs": [],
   "source": [
    "# def rebound_to_equilibrium_params(sim, c):\n",
    "#     \"\"\"\n",
    "#     Takes in a rebound simulation and then outputs the equilibrium parameters\n",
    "    \n",
    "#     \"\"\"\n",
    "    \n",
    "    "
   ]
  }
 ],
 "metadata": {
  "kernelspec": {
   "display_name": "Python 3",
   "language": "python",
   "name": "python3"
  },
  "language_info": {
   "codemirror_mode": {
    "name": "ipython",
    "version": 3
   },
   "file_extension": ".py",
   "mimetype": "text/x-python",
   "name": "python",
   "nbconvert_exporter": "python",
   "pygments_lexer": "ipython3",
   "version": "3.8.10"
  }
 },
 "nbformat": 4,
 "nbformat_minor": 4
}
