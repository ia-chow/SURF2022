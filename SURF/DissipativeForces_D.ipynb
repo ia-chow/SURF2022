{
 "cells": [
  {
   "cell_type": "code",
   "execution_count": 79,
   "metadata": {},
   "outputs": [],
   "source": [
    "import rebound as rb\n",
    "from matplotlib import pyplot as plt\n",
    "import celmech as cm\n",
    "import numpy as np\n",
    "import sympy as sp\n",
    "import radvel\n",
    "import pandas as pd\n",
    "import h5py"
   ]
  },
  {
   "cell_type": "code",
   "execution_count": 80,
   "metadata": {},
   "outputs": [],
   "source": [
    "#Least squares fit: \n",
    "fit_params = [ 2.28513053e+02, 7.27743508e+00, 5.39371890e+04, -1.78110513e-01, \n",
    "              -4.66450116e-02, 3.43378023e+02, 1.78603199e+01, 5.40186750e+04,\n",
    "               1.32165040e-01, 9.73129308e-02, -5.29039776e-01] \n",
    "\n",
    "# star mass, g and auday to m/s conversion factor\n",
    "STAR_MASS = 920  # 920 jupiter masses\n",
    "G = 2.825e-7  # converting G to jupiter masses, au, and days\n",
    "AUDAY_MS = 1.731e6  # conversion factor for au/day to m/s\n",
    "\n",
    "def mass_to_semiamp(planet_mass, star_mass, period, eccentricity, inclination):\n",
    "    \"\"\"\n",
    "    planet mass (jupiter masses) to semi amplitude\n",
    "    \"\"\"\n",
    "    return ((2 * np.pi * G/period) ** (1/3) * (planet_mass * np.sin(inclination) / star_mass ** (2/3)) * (1/np.sqrt(1 - eccentricity ** 2)))\n",
    "\n",
    "def semiamp_to_mass(semiamp, star_mass, period, eccentricity, inclination):\n",
    "    \"\"\"\n",
    "    semi amplitude to planet mass (jupiter masses)\n",
    "    \"\"\"\n",
    "    return (((2 * np.pi * G/period) ** (-1/3)) * (semiamp / np.sin(inclination)) * np.sqrt(1 - eccentricity ** 2) * (star_mass ** (2/3)))\n",
    "\n",
    "\n",
    "def get_sim_from_params(params, inclination, integrator, time_base, star_mass = STAR_MASS, auday_ms = AUDAY_MS):\n",
    "    \"\"\"\n",
    "    takes in params array, returns a rebound Simulation object with those parameters\n",
    "    \n",
    "    param params: numpy array of params:\n",
    "    \n",
    "    for i in range(0, num_planets):\n",
    "    \n",
    "    params[i + 0] is period\n",
    "    params[i + 1] is semiamp\n",
    "    params[i + 2] is tc (time of conjunction)\n",
    "    params[i + 3] is sqrt(e) * cos(omega)\n",
    "    params[i + 4] is sqrt(e) * sin(omega)\n",
    "    \n",
    "    params[5 * num_planets] is rv offset\n",
    "    params[5 * num_planets + 1] is jit\n",
    "    \n",
    "    param inclination: inclination of system in the observation plane (pi/2 is in the plane of the sky, 0 is edge-on)\n",
    "    param integrator: integrator to use, one of 'whfast' or 'ias15'\n",
    "    param time_base: base time (to begin integration from) in the simulation\n",
    "    \"\"\"\n",
    "    \n",
    "    num_planets = int((len(params) - 1) / 5) # -2 because there are rv_offset and jit parameters:\n",
    "    \n",
    "    sim = rb.Simulation()\n",
    "    sim.integrator = integrator\n",
    "    sim.t = time_base  # keplerian and n-body models initialized at the same time offset\n",
    "    # print(sim.t)\n",
    "    if integrator == 'whfast':  # if using whfast integrator, set timestep\n",
    "        sim.dt = 1/50 * min(params[0::5][:-1])  # timestep is 1/20th of the shortest orbital period of any planet\n",
    "        # print(sim.dt)\n",
    "    sim.units = ('AU', 'Mjupiter', 'day')\n",
    "\n",
    "    sim.add(m = star_mass)  # star mass as a constant\n",
    "        \n",
    "    for i in range (0, num_planets):\n",
    "        # print(i)\n",
    "        # planet parameters\n",
    "        period = params[5*i]  # in days\n",
    "        semiamp = params[5*i + 1] / auday_ms # divide by auday_ms because semiamp given in m/s\n",
    "        eccentricity = params[5*i + 3] ** 2 + params[5*i + 4] ** 2  # eccentricity from secos, sesin\n",
    "        omega = np.arctan2(params[5*i + 3], params[5*i + 4])  # omega from arctan of sesin, secos\n",
    "        # get tp by converting from tc\n",
    "        tp = radvel.orbit.timetrans_to_timeperi(params[5*i + 2], per = period, ecc = eccentricity, omega = omega)\n",
    "        \n",
    "        # mass\n",
    "        mass = semiamp_to_mass(semiamp = semiamp, star_mass = star_mass, period = period, eccentricity = eccentricity, inclination = inclination)\n",
    "        \n",
    "        # adding to simulation\n",
    "        sim.add(m = mass, P = period, e = eccentricity, T = tp, omega = omega, inc = inclination)\n",
    "        \n",
    "    sim.move_to_com()  # move to center of mass\n",
    "    \n",
    "    return sim\n",
    "\n",
    "def get_simple_sim(masses, integrator = 'ias15', period_ratio = 3/2, epsilon=0.01):\n",
    "    \"\"\"\n",
    "    gets simple sim (for eccentricity track stuff)\n",
    "    param masses: array of planet masses\n",
    "    param integrator: integrator\n",
    "    param epsilon: amount by which the resonant period ratio should be offset from the equilibrium in the simulation\n",
    "    \"\"\"\n",
    "    sim = rb.Simulation()\n",
    "    sim.integrator = integrator\n",
    "    # central star\n",
    "    sim.add(m = 1)\n",
    "    \n",
    "    sim.add(m = masses[0], P = 1)\n",
    "    sim.add(m = masses[1], P = period_ratio * (1 + epsilon))\n",
    "\n",
    "    sim.move_to_com()\n",
    "    if integrator == 'whfast':\n",
    "        sim.dt = 1/50 * 1  # dy default use 1/50th of the inner planet's orbital period for the timestep if using whfast\n",
    "    return sim"
   ]
  },
  {
   "cell_type": "code",
   "execution_count": 3,
   "metadata": {},
   "outputs": [],
   "source": [
    "# sim=rb.Simulation()\n",
    "# sim.add(m=1)\n",
    "# sim.add(m=1e-4,P=1)\n",
    "# sim.add(m=1e-4,P=1.5)\n",
    "\n",
    "gsim = get_sim_from_params(fit_params, inclination = np.pi/2, integrator= 'ias15', time_base = 0)\n",
    "\n",
    "masses = np.array([gsim.particles[1].m, gsim.particles[2].m])/gsim.particles[0].m  # divide by star mass!\n",
    "sim = get_simple_sim(masses, integrator = 'ias15')\n",
    "\n",
    "pvars = cm.Poincare.from_Simulation(sim)\n",
    "pham = cm.PoincareHamiltonian(pvars)"
   ]
  },
  {
   "cell_type": "markdown",
   "metadata": {},
   "source": [
    "Add MMR terms:"
   ]
  },
  {
   "cell_type": "code",
   "execution_count": 4,
   "metadata": {},
   "outputs": [],
   "source": [
    "pham.add_MMR_terms(3, 1, max_order = 1, inclinations=False)  # try adding max order up to 3"
   ]
  },
  {
   "cell_type": "code",
   "execution_count": 5,
   "metadata": {},
   "outputs": [],
   "source": [
    "A = np.eye(pham.N_dof,dtype = int)\n",
    "A[0,:4] = [-2,3,1,0]\n",
    "A[1,:4] = [-2,3,0,1]\n",
    "A[2,:4] = [1,-1,0,0]\n",
    "A[3,:4] = [-2,3,0,0]\n",
    "angvars=sp.symbols(\"theta1,theta2,psi,l,phi1,phi2\",real=True)\n",
    "actions=sp.symbols(\"p1,p2,Psi,L,Phi1,Phi2\",positive=True)\n",
    "_,_,Psi,L,_,_=actions\n",
    "ct1 = cm.CanonicalTransformation.from_poincare_angles_matrix(pvars,A,new_qp_pairs=list(zip(angvars,actions)))"
   ]
  },
  {
   "cell_type": "markdown",
   "metadata": {},
   "source": [
    "'ham1' will be the Hamiltonian in the resonant variables you're used to"
   ]
  },
  {
   "cell_type": "code",
   "execution_count": 6,
   "metadata": {},
   "outputs": [
    {
     "data": {
      "text/latex": [
       "$\\displaystyle - \\frac{\\sqrt{2} C_{(3,-2,-1,0,0,0)}^{(0,0,0,0),(0,0)}(\\alpha_{1,2}) G m_{1} m_{2} \\sqrt{p_{1}} \\cos{\\left(\\theta_{1} \\right)}}{\\sqrt{\\Lambda_{1,0}} a_{2,0}} - \\frac{\\sqrt{2} C_{(3,-2,0,-1,0,0)}^{(0,0,0,0),(0,0)}(\\alpha_{1,2}) G m_{1} m_{2} \\sqrt{p_{2}} \\cos{\\left(\\theta_{2} \\right)}}{\\sqrt{\\Lambda_{2,0}} a_{2,0}} - \\frac{G^{2} M_{1}^{2} \\mu_{1}^{3}}{2 \\left(- 2 L + \\Psi - 2 p_{1} - 2 p_{2}\\right)^{2}} - \\frac{G^{2} M_{2}^{2} \\mu_{2}^{3}}{2 \\left(3 L - \\Psi + 3 p_{1} + 3 p_{2}\\right)^{2}}$"
      ],
      "text/plain": [
       "                                                                    ____      \n",
       "  √2⋅C_{(3,-2,-1,0,0,0)}_{1,2})__{(0,0,0,0),(0,0)}(\\alpha⋅G⋅m₁⋅m₂⋅╲╱ p₁ ⋅cos(θ\n",
       "- ────────────────────────────────────────────────────────────────────────────\n",
       "                              _______________                                 \n",
       "                            ╲╱ \\Lambda_{1,0} ⋅a_{2,0}                         \n",
       "\n",
       "                                                                       ____   \n",
       "₁)   √2⋅C_{(3,-2,0,-1,0,0)}_{1,2})__{(0,0,0,0),(0,0)}(\\alpha⋅G⋅m₁⋅m₂⋅╲╱ p₂ ⋅co\n",
       "── - ─────────────────────────────────────────────────────────────────────────\n",
       "                                 _______________                              \n",
       "                               ╲╱ \\Lambda_{2,0} ⋅a_{2,0}                      \n",
       "\n",
       "                  2   2   3                    2   2   3        \n",
       "s(θ₂)            G ⋅M₁ ⋅μ₁                    G ⋅M₂ ⋅μ₂         \n",
       "───── - ─────────────────────────── - ──────────────────────────\n",
       "                                  2                            2\n",
       "        2⋅(-2⋅L + Ψ - 2⋅p₁ - 2⋅p₂)    2⋅(3⋅L - Ψ + 3⋅p₁ + 3⋅p₂) "
      ]
     },
     "execution_count": 6,
     "metadata": {},
     "output_type": "execute_result"
    }
   ],
   "source": [
    "ham1=ct1.old_to_new_hamiltonian(pham,do_reduction=True)\n",
    "ham1.H"
   ]
  },
  {
   "cell_type": "markdown",
   "metadata": {},
   "source": [
    "'ham2' transforms from polar $(\\theta_i,p_i)$ variables to cartesian $(y_i,x_i)$ variables. These are usually more convenient for numerical integration and root-finding"
   ]
  },
  {
   "cell_type": "code",
   "execution_count": 7,
   "metadata": {},
   "outputs": [
    {
     "data": {
      "text/latex": [
       "$\\displaystyle - \\frac{C_{(3,-2,-1,0,0,0)}^{(0,0,0,0),(0,0)}(\\alpha_{1,2}) G m_{1} m_{2} x_{1}}{\\sqrt{\\Lambda_{1,0}} a_{2,0}} - \\frac{C_{(3,-2,0,-1,0,0)}^{(0,0,0,0),(0,0)}(\\alpha_{1,2}) G m_{1} m_{2} x_{2}}{\\sqrt{\\Lambda_{2,0}} a_{2,0}} - \\frac{G^{2} M_{1}^{2} \\mu_{1}^{3}}{8 L^{2} - 8 L \\Psi + 8 L x_{1}^{2} + 8 L x_{2}^{2} + 8 L y_{1}^{2} + 8 L y_{2}^{2} + 2 \\Psi^{2} - 4 \\Psi x_{1}^{2} - 4 \\Psi x_{2}^{2} - 4 \\Psi y_{1}^{2} - 4 \\Psi y_{2}^{2} + 2 x_{1}^{4} + 4 x_{1}^{2} x_{2}^{2} + 4 x_{1}^{2} y_{1}^{2} + 4 x_{1}^{2} y_{2}^{2} + 2 x_{2}^{4} + 4 x_{2}^{2} y_{1}^{2} + 4 x_{2}^{2} y_{2}^{2} + 2 y_{1}^{4} + 4 y_{1}^{2} y_{2}^{2} + 2 y_{2}^{4}} - \\frac{2 G^{2} M_{2}^{2} \\mu_{2}^{3}}{36 L^{2} - 24 L \\Psi + 36 L x_{1}^{2} + 36 L x_{2}^{2} + 36 L y_{1}^{2} + 36 L y_{2}^{2} + 4 \\Psi^{2} - 12 \\Psi x_{1}^{2} - 12 \\Psi x_{2}^{2} - 12 \\Psi y_{1}^{2} - 12 \\Psi y_{2}^{2} + 9 x_{1}^{4} + 18 x_{1}^{2} x_{2}^{2} + 18 x_{1}^{2} y_{1}^{2} + 18 x_{1}^{2} y_{2}^{2} + 9 x_{2}^{4} + 18 x_{2}^{2} y_{1}^{2} + 18 x_{2}^{2} y_{2}^{2} + 9 y_{1}^{4} + 18 y_{1}^{2} y_{2}^{2} + 9 y_{2}^{4}}$"
      ],
      "text/plain": [
       "                                                                              \n",
       "  C_{(3,-2,-1,0,0,0)}_{1,2})__{(0,0,0,0),(0,0)}(\\alpha⋅G⋅m₁⋅m₂⋅x₁   C_{(3,-2,0\n",
       "- ─────────────────────────────────────────────────────────────── - ──────────\n",
       "                       _______________                                        \n",
       "                     ╲╱ \\Lambda_{1,0} ⋅a_{2,0}                                \n",
       "\n",
       "                                                                              \n",
       ",-1,0,0)}_{1,2})__{(0,0,0,0),(0,0)}(\\alpha⋅G⋅m₁⋅m₂⋅x₂                         \n",
       "───────────────────────────────────────────────────── - ──────────────────────\n",
       "           _______________                                 2                 2\n",
       "         ╲╱ \\Lambda_{2,0} ⋅a_{2,0}                      8⋅L  - 8⋅L⋅Ψ + 8⋅L⋅x₁ \n",
       "\n",
       "                                                                            2 \n",
       "                                                                           G ⋅\n",
       "──────────────────────────────────────────────────────────────────────────────\n",
       "         2         2         2      2         2         2         2         2 \n",
       " + 8⋅L⋅x₂  + 8⋅L⋅y₁  + 8⋅L⋅y₂  + 2⋅Ψ  - 4⋅Ψ⋅x₁  - 4⋅Ψ⋅x₂  - 4⋅Ψ⋅y₁  - 4⋅Ψ⋅y₂  \n",
       "\n",
       "  2   3                                                                       \n",
       "M₁ ⋅μ₁                                                                        \n",
       "──────────────────────────────────────────────────────────────────────────────\n",
       "      4       2   2       2   2       2   2       4       2   2       2   2   \n",
       "+ 2⋅x₁  + 4⋅x₁ ⋅x₂  + 4⋅x₁ ⋅y₁  + 4⋅x₁ ⋅y₂  + 2⋅x₂  + 4⋅x₂ ⋅y₁  + 4⋅x₂ ⋅y₂  + \n",
       "\n",
       "                                                                              \n",
       "                                                                              \n",
       "───────────────────────── - ──────────────────────────────────────────────────\n",
       "    4       2   2       4       2                   2          2          2   \n",
       "2⋅y₁  + 4⋅y₁ ⋅y₂  + 2⋅y₂    36⋅L  - 24⋅L⋅Ψ + 36⋅L⋅x₁  + 36⋅L⋅x₂  + 36⋅L⋅y₁  + \n",
       "\n",
       "                                                         2   2   3            \n",
       "                                                      2⋅G ⋅M₂ ⋅μ₂             \n",
       "──────────────────────────────────────────────────────────────────────────────\n",
       "       2      2          2          2          2          2       4        2  \n",
       "36⋅L⋅y₂  + 4⋅Ψ  - 12⋅Ψ⋅x₁  - 12⋅Ψ⋅x₂  - 12⋅Ψ⋅y₁  - 12⋅Ψ⋅y₂  + 9⋅x₁  + 18⋅x₁ ⋅x\n",
       "\n",
       "                                                                              \n",
       "                                                                              \n",
       "──────────────────────────────────────────────────────────────────────────────\n",
       " 2        2   2        2   2       4        2   2        2   2       4        \n",
       "₂  + 18⋅x₁ ⋅y₁  + 18⋅x₁ ⋅y₂  + 9⋅x₂  + 18⋅x₂ ⋅y₁  + 18⋅x₂ ⋅y₂  + 9⋅y₁  + 18⋅y₁\n",
       "\n",
       "             \n",
       "             \n",
       "─────────────\n",
       "2   2       4\n",
       " ⋅y₂  + 9⋅y₂ "
      ]
     },
     "execution_count": 7,
     "metadata": {},
     "output_type": "execute_result"
    }
   ],
   "source": [
    "ct2 = cm.CanonicalTransformation.polar_to_cartesian(ham1.full_qp_vars,indices=[0,1])\n",
    "\n",
    "ham2=ct2.old_to_new_hamiltonian(ham1)\n",
    "ham2.H"
   ]
  },
  {
   "cell_type": "markdown",
   "metadata": {},
   "source": [
    "A composite transformation representing all the transformations so far"
   ]
  },
  {
   "cell_type": "code",
   "execution_count": 8,
   "metadata": {},
   "outputs": [],
   "source": [
    "ct_all = cm.CanonicalTransformation.composite([ct1,ct2])"
   ]
  },
  {
   "cell_type": "code",
   "execution_count": 9,
   "metadata": {},
   "outputs": [],
   "source": [
    "oldvars = ct_all.old_qp_vars\n",
    "_,eta1,_,_,eta2,_,L1,kappa1,_,L2,kappa2,_= oldvars\n",
    "newvars = ct_all.new_qp_vars\n",
    "y1,y2,_,_,_,_,x1,x2,Psi,L,_,_ = newvars"
   ]
  },
  {
   "cell_type": "markdown",
   "metadata": {},
   "source": [
    "Conserved quantities after transformation:"
   ]
  },
  {
   "cell_type": "code",
   "execution_count": 10,
   "metadata": {},
   "outputs": [
    {
     "data": {
      "text/latex": [
       "$\\displaystyle \\left( L, \\  \\Lambda_{1} + \\Lambda_{2} - \\frac{\\eta_{1}^{2}}{2} - \\frac{\\eta_{2}^{2}}{2} - \\frac{\\kappa_{1}^{2}}{2} - \\frac{\\kappa_{2}^{2}}{2}\\right)$"
      ],
      "text/plain": [
       "⎛               2     2     2     2⎞\n",
       "⎜             η₁    η₂    κ₁    κ₂ ⎟\n",
       "⎜L, Λ₁ + Λ₂ - ─── - ─── - ─── - ───⎟\n",
       "⎝              2     2     2     2 ⎠"
      ]
     },
     "execution_count": 10,
     "metadata": {},
     "output_type": "execute_result"
    }
   ],
   "source": [
    "L,ct_all.new_to_old(L)"
   ]
  },
  {
   "cell_type": "code",
   "execution_count": 11,
   "metadata": {},
   "outputs": [
    {
     "data": {
      "text/latex": [
       "$\\displaystyle \\left( \\Psi, \\  3 \\Lambda_{1} + 2 \\Lambda_{2}\\right)$"
      ],
      "text/plain": [
       "(Ψ, 3⋅Λ₁ + 2⋅Λ₂)"
      ]
     },
     "execution_count": 11,
     "metadata": {},
     "output_type": "execute_result"
    }
   ],
   "source": [
    "Psi,ct_all.new_to_old(Psi)"
   ]
  },
  {
   "cell_type": "markdown",
   "metadata": {},
   "source": [
    "## dissipation\n",
    "The effect of dissipation, written in terms of the original variables"
   ]
  },
  {
   "cell_type": "code",
   "execution_count": 12,
   "metadata": {},
   "outputs": [
    {
     "data": {
      "text/latex": [
       "$\\displaystyle \\left[\\begin{matrix}0\\\\- \\frac{\\eta_{1}}{\\tau_{e1}}\\\\0\\\\0\\\\- \\frac{\\eta_{2}}{\\tau_{e2}}\\\\0\\\\- \\frac{\\Lambda_{1}}{2 \\tau_{a1}}\\\\- \\frac{\\kappa_{1}}{\\tau_{e1}}\\\\0\\\\- \\frac{\\Lambda_{2}}{2 \\tau_{a2}}\\\\- \\frac{\\kappa_{2}}{\\tau_{e2}}\\\\0\\end{matrix}\\right]$"
      ],
      "text/plain": [
       "⎡  0  ⎤\n",
       "⎢     ⎥\n",
       "⎢-η₁  ⎥\n",
       "⎢──── ⎥\n",
       "⎢τₑ₁  ⎥\n",
       "⎢     ⎥\n",
       "⎢  0  ⎥\n",
       "⎢     ⎥\n",
       "⎢  0  ⎥\n",
       "⎢     ⎥\n",
       "⎢-η₂  ⎥\n",
       "⎢──── ⎥\n",
       "⎢τₑ₂  ⎥\n",
       "⎢     ⎥\n",
       "⎢  0  ⎥\n",
       "⎢     ⎥\n",
       "⎢ -Λ₁ ⎥\n",
       "⎢─────⎥\n",
       "⎢2⋅τₐ₁⎥\n",
       "⎢     ⎥\n",
       "⎢-κ₁  ⎥\n",
       "⎢──── ⎥\n",
       "⎢τₑ₁  ⎥\n",
       "⎢     ⎥\n",
       "⎢  0  ⎥\n",
       "⎢     ⎥\n",
       "⎢ -Λ₂ ⎥\n",
       "⎢─────⎥\n",
       "⎢2⋅τₐ₂⎥\n",
       "⎢     ⎥\n",
       "⎢-κ₂  ⎥\n",
       "⎢──── ⎥\n",
       "⎢τₑ₂  ⎥\n",
       "⎢     ⎥\n",
       "⎣  0  ⎦"
      ]
     },
     "execution_count": 12,
     "metadata": {},
     "output_type": "execute_result"
    }
   ],
   "source": [
    "tau_a1,tau_a2,tau_e1,tau_e2 = sp.symbols(\"tau_a1,tau_a2,tau_e1,tau_e2\")\n",
    "disflow = sp.Matrix(np.zeros(pham.N_dim))\n",
    "for hk,tau in zip([(eta1,kappa1),(eta2,kappa2)],(tau_e1,tau_e2)):\n",
    "    h,k = hk\n",
    "    disflow[oldvars.index(h)] = -h/tau\n",
    "    disflow[oldvars.index(k)] = -k/tau\n",
    "disflow[oldvars.index(L1)] = -L1/tau_a1/sp.S(2)\n",
    "disflow[oldvars.index(L2)] = -L2/tau_a2/sp.S(2)\n",
    "disflow"
   ]
  },
  {
   "cell_type": "markdown",
   "metadata": {},
   "source": [
    "Define $(D, L_2)$ new variables s.t.\n",
    "$$\n",
    "\\begin{pmatrix}\n",
    "L\\\\\n",
    "\\Psi\n",
    "\\end{pmatrix}\n",
    "= \n",
    "\\begin{pmatrix}\n",
    "-1 & 1+\\rho\\\\\n",
    "0 & j\\rho+(j-1)\n",
    "\\end{pmatrix}\n",
    "\\cdot\n",
    "\\begin{pmatrix}\n",
    "D\\\\\n",
    "L_2\n",
    "\\end{pmatrix}\n",
    "$$\n",
    "where $\\rho = \\left(\\frac{\\Lambda_1}{\\Lambda_2}\\right)_\\mathrm{res} \\approx \\frac{m_1}{m_2}\\left(\\frac{j-1}{j}\\right)^{1/3}$.\n",
    "\n",
    "In terms of old variables,\n",
    "$$\n",
    "L = \\Lambda_{1} + \\Lambda_{2} - \\frac{\\eta_{1}^{2}}{2} - \\frac{\\eta_{2}^{2}}{2} - \\frac{\\kappa_{1}^{2}}{2} - \\frac{\\kappa_{2}^{2}}{2} = (1 + \\rho)L_2 - D\\\\\n",
    "\\Psi = j \\Lambda_{1} + (j-1) \\Lambda_{2} = (j\\rho+(j-1))L_2~.\n",
    "$$\n",
    "In other words, $L_2$ represents the value of $\\Lambda_2$ when the planets' instantaneous period ratio is at the exact resonant value and $D$ is the value of $(p_1+p_2)$ when $\\Lambda_2 = L_2$.\n",
    "\n",
    "The planets' period ratio can be expressed in terms of \n",
    "$$\n",
    "\\Delta = \\frac{j-1}{j}\\frac{P_2}{P_1} - 1 \\approx 3\\left(\\frac{\\Lambda_2 - L_2}{L_2} - \\frac{\\Lambda_1 - \\rho L_2}{\\rho L_2}\\right) = 3\\frac{\\delta\\Lambda_2}{L_2}\\left(1+\\frac{j-1}{j\\rho}\\right)\n",
    "$$\n",
    "where $\\delta\\Lambda_2 = \\Lambda_2 - L_2$\n",
    "\n",
    "Therefore, we can write \n",
    "$$\n",
    "D = p_1+p_2+(1+\\rho)L_2-\\Lambda_1 - \\Lambda_2\n",
    "$$\n",
    "Or\n",
    "$$\n",
    "\\begin{eqnarray}\n",
    "D &=& p_1+p_2 - \\frac{1}{j}\\delta\\Lambda_2\\\\\n",
    "  &=& p_1+p_2 + \\frac{1}{3}\\left(\\frac{\\rho L_2}{j\\rho+j-1}\\right)\\Delta\n",
    "\\end{eqnarray}\n",
    "$$\n",
    "\n",
    "The dissipative evolution of $D$ is therefore\n",
    "$$\n",
    "\\begin{eqnarray}\n",
    "\\dot{D}\\big|_\\mathrm{dis} &=&-\\frac{p_1}{\\tau_{e1}}-\\frac{p_2}{\\tau_{e2}}- \\frac{1}{3}\\left(\\frac{\\rho L_2}{j\\rho+j-1}\\right)\\dot{\\Delta}\\big|_\\mathrm{dis}\\\\\n",
    "&=&\n",
    "-\\frac{p_1}{\\tau_{e1}}-\\frac{p_2}{\\tau_{e2}}-\\frac{1}{2}\\left(\\frac{\\rho L_2}{j\\rho+j-1}\\right)\\frac{1}{\\tau_\\alpha}\n",
    "\\end{eqnarray}\n",
    "$$\n",
    "where I've used $\\dot{\\Delta}\\big|_\\mathrm{dis}=\\frac{2}{3}\\frac{1}{\\tau_\\alpha}$ with $\\tau_\\alpha^{-1} = \\tau_{a,1}^{-1}- \\tau_{a,2}^{-1}$"
   ]
  },
  {
   "cell_type": "markdown",
   "metadata": {},
   "source": [
    "Convert from $L,\\Psi$ to $D,L_2$"
   ]
  },
  {
   "cell_type": "code",
   "execution_count": 13,
   "metadata": {},
   "outputs": [],
   "source": [
    "D,L2res,rho = sp.symbols(\"D,L2,rho\")\n",
    "rho_val = (pham.particles[1].m/pham.particles[2].m) * (2/3)**(1/3) \n",
    "mtrx = sp.Matrix([[-1,1+rho],[0,3*rho + 2]]) \n",
    "D_exprn,L2res_exprn = mtrx.inv() * sp.Matrix([L,Psi])\n",
    "Dval,L2val = [float(s.subs(ham2.full_qp).subs({rho:rho_val})) for s in (D_exprn,L2res_exprn)]\n",
    "newvars = [y1,y2,x1,x2,D_exprn]\n",
    "subsrule = dict(zip([L,Psi],mtrx * sp.Matrix([D,L2res])))\n"
   ]
  },
  {
   "cell_type": "code",
   "execution_count": 14,
   "metadata": {},
   "outputs": [
    {
     "data": {
      "text/latex": [
       "$\\displaystyle - L + \\frac{\\Psi \\left(\\rho + 1\\right)}{3 \\rho + 2}$"
      ],
      "text/plain": [
       "     Ψ⋅(ρ + 1)\n",
       "-L + ─────────\n",
       "      3⋅ρ + 2 "
      ]
     },
     "execution_count": 14,
     "metadata": {},
     "output_type": "execute_result"
    }
   ],
   "source": [
    "D_exprn"
   ]
  },
  {
   "cell_type": "markdown",
   "metadata": {},
   "source": [
    " Initial value of $D$"
   ]
  },
  {
   "cell_type": "code",
   "execution_count": 15,
   "metadata": {},
   "outputs": [
    {
     "data": {
      "text/latex": [
       "$\\displaystyle - \\frac{L_{2} \\rho \\left(- \\frac{1}{\\tau_{a2}} + \\frac{1}{\\tau_{a1}}\\right)}{2 \\left(3 \\rho + 2\\right)} - \\frac{\\frac{x_{2}^{2}}{2} + \\frac{y_{2}^{2}}{2}}{\\tau_{e2}} - \\frac{\\frac{x_{1}^{2}}{2} + \\frac{y_{1}^{2}}{2}}{\\tau_{e1}}$"
      ],
      "text/plain": [
       "                         2     2     2     2\n",
       "       ⎛   1     1 ⎞   x₂    y₂    x₁    y₁ \n",
       "  L₂⋅ρ⋅⎜- ─── + ───⎟   ─── + ───   ─── + ───\n",
       "       ⎝  τₐ₂   τₐ₁⎠    2     2     2     2 \n",
       "- ────────────────── - ───────── - ─────────\n",
       "     2⋅(3⋅ρ + 2)          τₑ₂         τₑ₁   "
      ]
     },
     "execution_count": 15,
     "metadata": {},
     "output_type": "execute_result"
    }
   ],
   "source": [
    "from sympy.simplify.fu import TR10,TR10i,TR11\n",
    "mtrx_func = lambda i,j: sp.simplify(TR10i(TR10(sp.diff(ct_all.new_to_old(newvars[i]),oldvars[j]))))\n",
    "jac_old = sp.Matrix(len(newvars),len(oldvars),mtrx_func)\n",
    "newdisflow = sp.simplify(ct_all.old_to_new(jac_old * disflow))\n",
    "\n",
    "newdisflow = newdisflow.subs(subsrule)\n",
    "\n",
    "p1 = (x1*x1 + y1*y1)/sp.S(2)\n",
    "p2 = (x2*x2 + y2*y2)/sp.S(2)\n",
    "factor = rho * L2res / (3*rho+2)\n",
    "tau_alpha = 1/(1/tau_a1 - 1/tau_a2)\n",
    "Ddot_dis = -1*factor *(1/sp.S(2))* 1/tau_alpha - p1/tau_e1 - p2/tau_e2\n",
    "newdisflow_approx = sp.Matrix([(newdisflow[i] if i<4 else Ddot_dis) for i in range(5)])\n",
    "\n",
    "Ddot_dis"
   ]
  },
  {
   "cell_type": "code",
   "execution_count": 16,
   "metadata": {},
   "outputs": [
    {
     "data": {
      "text/latex": [
       "$\\displaystyle \\left[\\begin{matrix}- \\frac{y_{1}}{\\tau_{e1}}\\\\- \\frac{y_{2}}{\\tau_{e2}}\\\\- \\frac{x_{1}}{\\tau_{e1}}\\\\- \\frac{x_{2}}{\\tau_{e2}}\\\\- \\frac{L_{2} \\rho \\left(- \\frac{1}{\\tau_{a2}} + \\frac{1}{\\tau_{a1}}\\right)}{2 \\left(3 \\rho + 2\\right)} - \\frac{\\frac{x_{2}^{2}}{2} + \\frac{y_{2}^{2}}{2}}{\\tau_{e2}} - \\frac{\\frac{x_{1}^{2}}{2} + \\frac{y_{1}^{2}}{2}}{\\tau_{e1}}\\end{matrix}\\right]$"
      ],
      "text/plain": [
       "⎡                    -y₁                     ⎤\n",
       "⎢                    ────                    ⎥\n",
       "⎢                    τₑ₁                     ⎥\n",
       "⎢                                            ⎥\n",
       "⎢                    -y₂                     ⎥\n",
       "⎢                    ────                    ⎥\n",
       "⎢                    τₑ₂                     ⎥\n",
       "⎢                                            ⎥\n",
       "⎢                    -x₁                     ⎥\n",
       "⎢                    ────                    ⎥\n",
       "⎢                    τₑ₁                     ⎥\n",
       "⎢                                            ⎥\n",
       "⎢                    -x₂                     ⎥\n",
       "⎢                    ────                    ⎥\n",
       "⎢                    τₑ₂                     ⎥\n",
       "⎢                                            ⎥\n",
       "⎢                         2     2     2     2⎥\n",
       "⎢       ⎛   1     1 ⎞   x₂    y₂    x₁    y₁ ⎥\n",
       "⎢  L₂⋅ρ⋅⎜- ─── + ───⎟   ─── + ───   ─── + ───⎥\n",
       "⎢       ⎝  τₐ₂   τₐ₁⎠    2     2     2     2 ⎥\n",
       "⎢- ────────────────── - ───────── - ─────────⎥\n",
       "⎣     2⋅(3⋅ρ + 2)          τₑ₂         τₑ₁   ⎦"
      ]
     },
     "execution_count": 16,
     "metadata": {},
     "output_type": "execute_result"
    }
   ],
   "source": [
    "newdisflow_approx"
   ]
  },
  {
   "cell_type": "markdown",
   "metadata": {},
   "source": [
    "We'll need to substitute the following numerical values into our equations of motion in a few places:"
   ]
  },
  {
   "cell_type": "code",
   "execution_count": 17,
   "metadata": {},
   "outputs": [
    {
     "data": {
      "text/latex": [
       "$\\displaystyle \\left\\{ L_{2} : 0.000381298367157599, \\  \\rho : 0.310703495100216\\right\\}$"
      ],
      "text/plain": [
       "{L₂: 0.000381298367157599, ρ: 0.3107034951002157}"
      ]
     },
     "execution_count": 17,
     "metadata": {},
     "output_type": "execute_result"
    }
   ],
   "source": [
    "newpars = {L2res:L2val,rho:rho_val}\n",
    "newpars"
   ]
  },
  {
   "cell_type": "markdown",
   "metadata": {},
   "source": [
    "conservative flow expressed in term of dynamical variables (need to augment with $\\dot{D}=0$)"
   ]
  },
  {
   "cell_type": "code",
   "execution_count": 18,
   "metadata": {},
   "outputs": [],
   "source": [
    "newflow = ham2.flow.subs(subsrule).subs(ham2.H_params).subs(newpars)"
   ]
  },
  {
   "cell_type": "markdown",
   "metadata": {},
   "source": [
    "dissipative flow in terms of new dynamical varaibles:"
   ]
  },
  {
   "cell_type": "code",
   "execution_count": 19,
   "metadata": {},
   "outputs": [
    {
     "data": {
      "text/latex": [
       "$\\displaystyle \\left[ y_{1}, \\  y_{2}, \\  x_{1}, \\  x_{2}\\right]$"
      ],
      "text/plain": [
       "[y₁, y₂, x₁, x₂]"
      ]
     },
     "execution_count": 19,
     "metadata": {},
     "output_type": "execute_result"
    }
   ],
   "source": [
    "ham2.qp_vars"
   ]
  },
  {
   "cell_type": "code",
   "execution_count": 20,
   "metadata": {},
   "outputs": [
    {
     "data": {
      "text/latex": [
       "$\\displaystyle \\left[\\begin{matrix}- \\frac{C_{(3,-2,-1,0,0,0)}^{(0,0,0,0),(0,0)}(\\alpha_{1,2}) G m_{1} m_{2}}{\\sqrt{\\Lambda_{1,0}} a_{2,0}} - \\frac{G^{2} M_{1}^{2} \\mu_{1}^{3} \\left(- 16 L x_{1} + 8 \\Psi x_{1} - 8 x_{1}^{3} - 8 x_{1} x_{2}^{2} - 8 x_{1} y_{1}^{2} - 8 x_{1} y_{2}^{2}\\right)}{\\left(8 L^{2} - 8 L \\Psi + 8 L x_{1}^{2} + 8 L x_{2}^{2} + 8 L y_{1}^{2} + 8 L y_{2}^{2} + 2 \\Psi^{2} - 4 \\Psi x_{1}^{2} - 4 \\Psi x_{2}^{2} - 4 \\Psi y_{1}^{2} - 4 \\Psi y_{2}^{2} + 2 x_{1}^{4} + 4 x_{1}^{2} x_{2}^{2} + 4 x_{1}^{2} y_{1}^{2} + 4 x_{1}^{2} y_{2}^{2} + 2 x_{2}^{4} + 4 x_{2}^{2} y_{1}^{2} + 4 x_{2}^{2} y_{2}^{2} + 2 y_{1}^{4} + 4 y_{1}^{2} y_{2}^{2} + 2 y_{2}^{4}\\right)^{2}} - \\frac{2 G^{2} M_{2}^{2} \\mu_{2}^{3} \\left(- 72 L x_{1} + 24 \\Psi x_{1} - 36 x_{1}^{3} - 36 x_{1} x_{2}^{2} - 36 x_{1} y_{1}^{2} - 36 x_{1} y_{2}^{2}\\right)}{\\left(36 L^{2} - 24 L \\Psi + 36 L x_{1}^{2} + 36 L x_{2}^{2} + 36 L y_{1}^{2} + 36 L y_{2}^{2} + 4 \\Psi^{2} - 12 \\Psi x_{1}^{2} - 12 \\Psi x_{2}^{2} - 12 \\Psi y_{1}^{2} - 12 \\Psi y_{2}^{2} + 9 x_{1}^{4} + 18 x_{1}^{2} x_{2}^{2} + 18 x_{1}^{2} y_{1}^{2} + 18 x_{1}^{2} y_{2}^{2} + 9 x_{2}^{4} + 18 x_{2}^{2} y_{1}^{2} + 18 x_{2}^{2} y_{2}^{2} + 9 y_{1}^{4} + 18 y_{1}^{2} y_{2}^{2} + 9 y_{2}^{4}\\right)^{2}}\\\\- \\frac{C_{(3,-2,0,-1,0,0)}^{(0,0,0,0),(0,0)}(\\alpha_{1,2}) G m_{1} m_{2}}{\\sqrt{\\Lambda_{2,0}} a_{2,0}} - \\frac{G^{2} M_{1}^{2} \\mu_{1}^{3} \\left(- 16 L x_{2} + 8 \\Psi x_{2} - 8 x_{1}^{2} x_{2} - 8 x_{2}^{3} - 8 x_{2} y_{1}^{2} - 8 x_{2} y_{2}^{2}\\right)}{\\left(8 L^{2} - 8 L \\Psi + 8 L x_{1}^{2} + 8 L x_{2}^{2} + 8 L y_{1}^{2} + 8 L y_{2}^{2} + 2 \\Psi^{2} - 4 \\Psi x_{1}^{2} - 4 \\Psi x_{2}^{2} - 4 \\Psi y_{1}^{2} - 4 \\Psi y_{2}^{2} + 2 x_{1}^{4} + 4 x_{1}^{2} x_{2}^{2} + 4 x_{1}^{2} y_{1}^{2} + 4 x_{1}^{2} y_{2}^{2} + 2 x_{2}^{4} + 4 x_{2}^{2} y_{1}^{2} + 4 x_{2}^{2} y_{2}^{2} + 2 y_{1}^{4} + 4 y_{1}^{2} y_{2}^{2} + 2 y_{2}^{4}\\right)^{2}} - \\frac{2 G^{2} M_{2}^{2} \\mu_{2}^{3} \\left(- 72 L x_{2} + 24 \\Psi x_{2} - 36 x_{1}^{2} x_{2} - 36 x_{2}^{3} - 36 x_{2} y_{1}^{2} - 36 x_{2} y_{2}^{2}\\right)}{\\left(36 L^{2} - 24 L \\Psi + 36 L x_{1}^{2} + 36 L x_{2}^{2} + 36 L y_{1}^{2} + 36 L y_{2}^{2} + 4 \\Psi^{2} - 12 \\Psi x_{1}^{2} - 12 \\Psi x_{2}^{2} - 12 \\Psi y_{1}^{2} - 12 \\Psi y_{2}^{2} + 9 x_{1}^{4} + 18 x_{1}^{2} x_{2}^{2} + 18 x_{1}^{2} y_{1}^{2} + 18 x_{1}^{2} y_{2}^{2} + 9 x_{2}^{4} + 18 x_{2}^{2} y_{1}^{2} + 18 x_{2}^{2} y_{2}^{2} + 9 y_{1}^{4} + 18 y_{1}^{2} y_{2}^{2} + 9 y_{2}^{4}\\right)^{2}}\\\\\\frac{G^{2} M_{1}^{2} \\mu_{1}^{3} \\left(- 16 L y_{1} + 8 \\Psi y_{1} - 8 x_{1}^{2} y_{1} - 8 x_{2}^{2} y_{1} - 8 y_{1}^{3} - 8 y_{1} y_{2}^{2}\\right)}{\\left(8 L^{2} - 8 L \\Psi + 8 L x_{1}^{2} + 8 L x_{2}^{2} + 8 L y_{1}^{2} + 8 L y_{2}^{2} + 2 \\Psi^{2} - 4 \\Psi x_{1}^{2} - 4 \\Psi x_{2}^{2} - 4 \\Psi y_{1}^{2} - 4 \\Psi y_{2}^{2} + 2 x_{1}^{4} + 4 x_{1}^{2} x_{2}^{2} + 4 x_{1}^{2} y_{1}^{2} + 4 x_{1}^{2} y_{2}^{2} + 2 x_{2}^{4} + 4 x_{2}^{2} y_{1}^{2} + 4 x_{2}^{2} y_{2}^{2} + 2 y_{1}^{4} + 4 y_{1}^{2} y_{2}^{2} + 2 y_{2}^{4}\\right)^{2}} + \\frac{2 G^{2} M_{2}^{2} \\mu_{2}^{3} \\left(- 72 L y_{1} + 24 \\Psi y_{1} - 36 x_{1}^{2} y_{1} - 36 x_{2}^{2} y_{1} - 36 y_{1}^{3} - 36 y_{1} y_{2}^{2}\\right)}{\\left(36 L^{2} - 24 L \\Psi + 36 L x_{1}^{2} + 36 L x_{2}^{2} + 36 L y_{1}^{2} + 36 L y_{2}^{2} + 4 \\Psi^{2} - 12 \\Psi x_{1}^{2} - 12 \\Psi x_{2}^{2} - 12 \\Psi y_{1}^{2} - 12 \\Psi y_{2}^{2} + 9 x_{1}^{4} + 18 x_{1}^{2} x_{2}^{2} + 18 x_{1}^{2} y_{1}^{2} + 18 x_{1}^{2} y_{2}^{2} + 9 x_{2}^{4} + 18 x_{2}^{2} y_{1}^{2} + 18 x_{2}^{2} y_{2}^{2} + 9 y_{1}^{4} + 18 y_{1}^{2} y_{2}^{2} + 9 y_{2}^{4}\\right)^{2}}\\\\\\frac{G^{2} M_{1}^{2} \\mu_{1}^{3} \\left(- 16 L y_{2} + 8 \\Psi y_{2} - 8 x_{1}^{2} y_{2} - 8 x_{2}^{2} y_{2} - 8 y_{1}^{2} y_{2} - 8 y_{2}^{3}\\right)}{\\left(8 L^{2} - 8 L \\Psi + 8 L x_{1}^{2} + 8 L x_{2}^{2} + 8 L y_{1}^{2} + 8 L y_{2}^{2} + 2 \\Psi^{2} - 4 \\Psi x_{1}^{2} - 4 \\Psi x_{2}^{2} - 4 \\Psi y_{1}^{2} - 4 \\Psi y_{2}^{2} + 2 x_{1}^{4} + 4 x_{1}^{2} x_{2}^{2} + 4 x_{1}^{2} y_{1}^{2} + 4 x_{1}^{2} y_{2}^{2} + 2 x_{2}^{4} + 4 x_{2}^{2} y_{1}^{2} + 4 x_{2}^{2} y_{2}^{2} + 2 y_{1}^{4} + 4 y_{1}^{2} y_{2}^{2} + 2 y_{2}^{4}\\right)^{2}} + \\frac{2 G^{2} M_{2}^{2} \\mu_{2}^{3} \\left(- 72 L y_{2} + 24 \\Psi y_{2} - 36 x_{1}^{2} y_{2} - 36 x_{2}^{2} y_{2} - 36 y_{1}^{2} y_{2} - 36 y_{2}^{3}\\right)}{\\left(36 L^{2} - 24 L \\Psi + 36 L x_{1}^{2} + 36 L x_{2}^{2} + 36 L y_{1}^{2} + 36 L y_{2}^{2} + 4 \\Psi^{2} - 12 \\Psi x_{1}^{2} - 12 \\Psi x_{2}^{2} - 12 \\Psi y_{1}^{2} - 12 \\Psi y_{2}^{2} + 9 x_{1}^{4} + 18 x_{1}^{2} x_{2}^{2} + 18 x_{1}^{2} y_{1}^{2} + 18 x_{1}^{2} y_{2}^{2} + 9 x_{2}^{4} + 18 x_{2}^{2} y_{1}^{2} + 18 x_{2}^{2} y_{2}^{2} + 9 y_{1}^{4} + 18 y_{1}^{2} y_{2}^{2} + 9 y_{2}^{4}\\right)^{2}}\\end{matrix}\\right]$"
      ],
      "text/plain": [
       "⎡                                                                             \n",
       "⎢  C_{(3,-2,-1,0,0,0)}_{1,2})__{(0,0,0,0),(0,0)}(\\alpha⋅G⋅m₁⋅m₂               \n",
       "⎢- ──────────────────────────────────────────────────────────── - ────────────\n",
       "⎢                     _______________                                         \n",
       "⎢                   ╲╱ \\Lambda_{1,0} ⋅a_{2,0}                     ⎛   2       \n",
       "⎢                                                                 ⎝8⋅L  - 8⋅L⋅\n",
       "⎢                                                                             \n",
       "⎢                                                                             \n",
       "⎢  C_{(3,-2,0,-1,0,0)}_{1,2})__{(0,0,0,0),(0,0)}(\\alpha⋅G⋅m₁⋅m₂               \n",
       "⎢- ──────────────────────────────────────────────────────────── - ────────────\n",
       "⎢                     _______________                                         \n",
       "⎢                   ╲╱ \\Lambda_{2,0} ⋅a_{2,0}                     ⎛   2       \n",
       "⎢                                                                 ⎝8⋅L  - 8⋅L⋅\n",
       "⎢                                                                             \n",
       "⎢                                                                             \n",
       "⎢                                                                             \n",
       "⎢                                ─────────────────────────────────────────────\n",
       "⎢                                                                             \n",
       "⎢                                ⎛   2                 2         2         2  \n",
       "⎢                                ⎝8⋅L  - 8⋅L⋅Ψ + 8⋅L⋅x₁  + 8⋅L⋅x₂  + 8⋅L⋅y₁  +\n",
       "⎢                                                                             \n",
       "⎢                                                                             \n",
       "⎢                                                                             \n",
       "⎢                                ─────────────────────────────────────────────\n",
       "⎢                                                                             \n",
       "⎢                                ⎛   2                 2         2         2  \n",
       "⎣                                ⎝8⋅L  - 8⋅L⋅Ψ + 8⋅L⋅x₁  + 8⋅L⋅x₂  + 8⋅L⋅y₁  +\n",
       "\n",
       "                                                        2   2   3 ⎛           \n",
       "                                                       G ⋅M₁ ⋅μ₁ ⋅⎝-16⋅L⋅x₁ + \n",
       "──────────────────────────────────────────────────────────────────────────────\n",
       "                                                                              \n",
       "          2         2         2         2      2         2         2         2\n",
       "Ψ + 8⋅L⋅x₁  + 8⋅L⋅x₂  + 8⋅L⋅y₁  + 8⋅L⋅y₂  + 2⋅Ψ  - 4⋅Ψ⋅x₁  - 4⋅Ψ⋅x₂  - 4⋅Ψ⋅y₁ \n",
       "                                                                              \n",
       "                                                        2   2   3 ⎛           \n",
       "                                                       G ⋅M₁ ⋅μ₁ ⋅⎝-16⋅L⋅x₂ + \n",
       "──────────────────────────────────────────────────────────────────────────────\n",
       "                                                                              \n",
       "          2         2         2         2      2         2         2         2\n",
       "Ψ + 8⋅L⋅x₁  + 8⋅L⋅x₂  + 8⋅L⋅y₁  + 8⋅L⋅y₂  + 2⋅Ψ  - 4⋅Ψ⋅x₁  - 4⋅Ψ⋅x₂  - 4⋅Ψ⋅y₁ \n",
       "                                                                              \n",
       "                       2   2   3 ⎛                        2          2        \n",
       "                      G ⋅M₁ ⋅μ₁ ⋅⎝-16⋅L⋅y₁ + 8⋅Ψ⋅y₁ - 8⋅x₁ ⋅y₁ - 8⋅x₂ ⋅y₁ - 8⋅\n",
       "──────────────────────────────────────────────────────────────────────────────\n",
       "                                                                              \n",
       "       2      2         2         2         2         2       4       2   2   \n",
       " 8⋅L⋅y₂  + 2⋅Ψ  - 4⋅Ψ⋅x₁  - 4⋅Ψ⋅x₂  - 4⋅Ψ⋅y₁  - 4⋅Ψ⋅y₂  + 2⋅x₁  + 4⋅x₁ ⋅x₂  + \n",
       "                                                                              \n",
       "                       2   2   3 ⎛                        2          2        \n",
       "                      G ⋅M₁ ⋅μ₁ ⋅⎝-16⋅L⋅y₂ + 8⋅Ψ⋅y₂ - 8⋅x₁ ⋅y₂ - 8⋅x₂ ⋅y₂ - 8⋅\n",
       "──────────────────────────────────────────────────────────────────────────────\n",
       "                                                                              \n",
       "       2      2         2         2         2         2       4       2   2   \n",
       " 8⋅L⋅y₂  + 2⋅Ψ  - 4⋅Ψ⋅x₁  - 4⋅Ψ⋅x₂  - 4⋅Ψ⋅y₁  - 4⋅Ψ⋅y₂  + 2⋅x₁  + 4⋅x₁ ⋅x₂  + \n",
       "\n",
       "             3          2          2          2⎞                              \n",
       "8⋅Ψ⋅x₁ - 8⋅x₁  - 8⋅x₁⋅x₂  - 8⋅x₁⋅y₁  - 8⋅x₁⋅y₂ ⎠                              \n",
       "──────────────────────────────────────────────────────────────────────────────\n",
       "                                                                              \n",
       "         2       4       2   2       2   2       2   2       4       2   2    \n",
       " - 4⋅Ψ⋅y₂  + 2⋅x₁  + 4⋅x₁ ⋅x₂  + 4⋅x₁ ⋅y₁  + 4⋅x₁ ⋅y₂  + 2⋅x₂  + 4⋅x₂ ⋅y₁  + 4\n",
       "                                                                              \n",
       "             2          3          2          2⎞                              \n",
       "8⋅Ψ⋅x₂ - 8⋅x₁ ⋅x₂ - 8⋅x₂  - 8⋅x₂⋅y₁  - 8⋅x₂⋅y₂ ⎠                              \n",
       "──────────────────────────────────────────────────────────────────────────────\n",
       "                                                                              \n",
       "         2       4       2   2       2   2       2   2       4       2   2    \n",
       " - 4⋅Ψ⋅y₂  + 2⋅x₁  + 4⋅x₁ ⋅x₂  + 4⋅x₁ ⋅y₁  + 4⋅x₁ ⋅y₂  + 2⋅x₂  + 4⋅x₂ ⋅y₁  + 4\n",
       "                                                                              \n",
       "  3          2⎞                                                               \n",
       "y₁  - 8⋅y₁⋅y₂ ⎠                                                               \n",
       "──────────────────────────────────────────────────────────────────────────────\n",
       "                                                                              \n",
       "    2   2       2   2       4       2   2       2   2       4       2   2     \n",
       "4⋅x₁ ⋅y₁  + 4⋅x₁ ⋅y₂  + 2⋅x₂  + 4⋅x₂ ⋅y₁  + 4⋅x₂ ⋅y₂  + 2⋅y₁  + 4⋅y₁ ⋅y₂  + 2⋅\n",
       "                                                                              \n",
       "  2          3⎞                                                               \n",
       "y₁ ⋅y₂ - 8⋅y₂ ⎠                                                               \n",
       "──────────────────────────────────────────────────────────────────────────────\n",
       "                                                                              \n",
       "    2   2       2   2       4       2   2       2   2       4       2   2     \n",
       "4⋅x₁ ⋅y₁  + 4⋅x₁ ⋅y₂  + 2⋅x₂  + 4⋅x₂ ⋅y₁  + 4⋅x₂ ⋅y₂  + 2⋅y₁  + 4⋅y₁ ⋅y₂  + 2⋅\n",
       "\n",
       "                                                                              \n",
       "                                                                              \n",
       "────────────────────────────────────── - ─────────────────────────────────────\n",
       "                                     2                                        \n",
       "   2   2       4       2   2       4⎞    ⎛    2                   2          2\n",
       "⋅x₂ ⋅y₂  + 2⋅y₁  + 4⋅y₁ ⋅y₂  + 2⋅y₂ ⎠    ⎝36⋅L  - 24⋅L⋅Ψ + 36⋅L⋅x₁  + 36⋅L⋅x₂ \n",
       "                                                                              \n",
       "                                                                              \n",
       "                                                                              \n",
       "────────────────────────────────────── - ─────────────────────────────────────\n",
       "                                     2                                        \n",
       "   2   2       4       2   2       4⎞    ⎛    2                   2          2\n",
       "⋅x₂ ⋅y₂  + 2⋅y₁  + 4⋅y₁ ⋅y₂  + 2⋅y₂ ⎠    ⎝36⋅L  - 24⋅L⋅Ψ + 36⋅L⋅x₁  + 36⋅L⋅x₂ \n",
       "                                                                              \n",
       "                                                                              \n",
       "                                                                              \n",
       "───── + ──────────────────────────────────────────────────────────────────────\n",
       "    2                                                                         \n",
       "  4⎞    ⎛    2                   2          2          2          2      2    \n",
       "y₂ ⎠    ⎝36⋅L  - 24⋅L⋅Ψ + 36⋅L⋅x₁  + 36⋅L⋅x₂  + 36⋅L⋅y₁  + 36⋅L⋅y₂  + 4⋅Ψ  - 1\n",
       "                                                                              \n",
       "                                                                              \n",
       "                                                                              \n",
       "───── + ──────────────────────────────────────────────────────────────────────\n",
       "    2                                                                         \n",
       "  4⎞    ⎛    2                   2          2          2          2      2    \n",
       "y₂ ⎠    ⎝36⋅L  - 24⋅L⋅Ψ + 36⋅L⋅x₁  + 36⋅L⋅x₂  + 36⋅L⋅y₁  + 36⋅L⋅y₂  + 4⋅Ψ  - 1\n",
       "\n",
       "                                      2   2   3 ⎛                          3  \n",
       "                                   2⋅G ⋅M₂ ⋅μ₂ ⋅⎝-72⋅L⋅x₁ + 24⋅Ψ⋅x₁ - 36⋅x₁  -\n",
       "──────────────────────────────────────────────────────────────────────────────\n",
       "                                                                              \n",
       "          2          2      2          2          2          2          2     \n",
       " + 36⋅L⋅y₁  + 36⋅L⋅y₂  + 4⋅Ψ  - 12⋅Ψ⋅x₁  - 12⋅Ψ⋅x₂  - 12⋅Ψ⋅y₁  - 12⋅Ψ⋅y₂  + 9⋅\n",
       "                                                                              \n",
       "                                      2   2   3 ⎛                          2  \n",
       "                                   2⋅G ⋅M₂ ⋅μ₂ ⋅⎝-72⋅L⋅x₂ + 24⋅Ψ⋅x₂ - 36⋅x₁ ⋅x\n",
       "──────────────────────────────────────────────────────────────────────────────\n",
       "                                                                              \n",
       "          2          2      2          2          2          2          2     \n",
       " + 36⋅L⋅y₁  + 36⋅L⋅y₂  + 4⋅Ψ  - 12⋅Ψ⋅x₁  - 12⋅Ψ⋅x₂  - 12⋅Ψ⋅y₁  - 12⋅Ψ⋅y₂  + 9⋅\n",
       "                                                                              \n",
       "     2   2   3 ⎛                          2           2           3           \n",
       "  2⋅G ⋅M₂ ⋅μ₂ ⋅⎝-72⋅L⋅y₁ + 24⋅Ψ⋅y₁ - 36⋅x₁ ⋅y₁ - 36⋅x₂ ⋅y₁ - 36⋅y₁  - 36⋅y₁⋅y₂\n",
       "──────────────────────────────────────────────────────────────────────────────\n",
       "                                                                              \n",
       "      2          2          2          2       4        2   2        2   2    \n",
       "2⋅Ψ⋅x₁  - 12⋅Ψ⋅x₂  - 12⋅Ψ⋅y₁  - 12⋅Ψ⋅y₂  + 9⋅x₁  + 18⋅x₁ ⋅x₂  + 18⋅x₁ ⋅y₁  + 1\n",
       "                                                                              \n",
       "     2   2   3 ⎛                          2           2           2           \n",
       "  2⋅G ⋅M₂ ⋅μ₂ ⋅⎝-72⋅L⋅y₂ + 24⋅Ψ⋅y₂ - 36⋅x₁ ⋅y₂ - 36⋅x₂ ⋅y₂ - 36⋅y₁ ⋅y₂ - 36⋅y₂\n",
       "──────────────────────────────────────────────────────────────────────────────\n",
       "                                                                              \n",
       "      2          2          2          2       4        2   2        2   2    \n",
       "2⋅Ψ⋅x₁  - 12⋅Ψ⋅x₂  - 12⋅Ψ⋅y₁  - 12⋅Ψ⋅y₂  + 9⋅x₁  + 18⋅x₁ ⋅x₂  + 18⋅x₁ ⋅y₁  + 1\n",
       "\n",
       "         2           2           2⎞                                           \n",
       " 36⋅x₁⋅x₂  - 36⋅x₁⋅y₁  - 36⋅x₁⋅y₂ ⎠                                           \n",
       "──────────────────────────────────────────────────────────────────────────────\n",
       "                                                                              \n",
       "  4        2   2        2   2        2   2       4        2   2        2   2  \n",
       "x₁  + 18⋅x₁ ⋅x₂  + 18⋅x₁ ⋅y₁  + 18⋅x₁ ⋅y₂  + 9⋅x₂  + 18⋅x₂ ⋅y₁  + 18⋅x₂ ⋅y₂  +\n",
       "                                                                              \n",
       "         3           2           2⎞                                           \n",
       "₂ - 36⋅x₂  - 36⋅x₂⋅y₁  - 36⋅x₂⋅y₂ ⎠                                           \n",
       "──────────────────────────────────────────────────────────────────────────────\n",
       "                                                                              \n",
       "  4        2   2        2   2        2   2       4        2   2        2   2  \n",
       "x₁  + 18⋅x₁ ⋅x₂  + 18⋅x₁ ⋅y₁  + 18⋅x₁ ⋅y₂  + 9⋅x₂  + 18⋅x₂ ⋅y₁  + 18⋅x₂ ⋅y₂  +\n",
       "                                                                              \n",
       "2⎞                                                                            \n",
       " ⎠                                                                            \n",
       "──────────────────────────────────────────────────────────────────────────    \n",
       "                                                                         2    \n",
       "    2   2       4        2   2        2   2       4        2   2       4⎞     \n",
       "8⋅x₁ ⋅y₂  + 9⋅x₂  + 18⋅x₂ ⋅y₁  + 18⋅x₂ ⋅y₂  + 9⋅y₁  + 18⋅y₁ ⋅y₂  + 9⋅y₂ ⎠     \n",
       "                                                                              \n",
       "3⎞                                                                            \n",
       " ⎠                                                                            \n",
       "──────────────────────────────────────────────────────────────────────────    \n",
       "                                                                         2    \n",
       "    2   2       4        2   2        2   2       4        2   2       4⎞     \n",
       "8⋅x₁ ⋅y₂  + 9⋅x₂  + 18⋅x₂ ⋅y₁  + 18⋅x₂ ⋅y₂  + 9⋅y₁  + 18⋅y₁ ⋅y₂  + 9⋅y₂ ⎠     \n",
       "\n",
       "                             ⎤\n",
       "                             ⎥\n",
       "─────────────────────────────⎥\n",
       "                            2⎥\n",
       "     4        2   2       4⎞ ⎥\n",
       " 9⋅y₁  + 18⋅y₁ ⋅y₂  + 9⋅y₂ ⎠ ⎥\n",
       "                             ⎥\n",
       "                             ⎥\n",
       "                             ⎥\n",
       "─────────────────────────────⎥\n",
       "                            2⎥\n",
       "     4        2   2       4⎞ ⎥\n",
       " 9⋅y₁  + 18⋅y₁ ⋅y₂  + 9⋅y₂ ⎠ ⎥\n",
       "                             ⎥\n",
       "                             ⎥\n",
       "                             ⎥\n",
       "                             ⎥\n",
       "                             ⎥\n",
       "                             ⎥\n",
       "                             ⎥\n",
       "                             ⎥\n",
       "                             ⎥\n",
       "                             ⎥\n",
       "                             ⎥\n",
       "                             ⎥\n",
       "                             ⎥\n",
       "                             ⎦"
      ]
     },
     "execution_count": 20,
     "metadata": {},
     "output_type": "execute_result"
    }
   ],
   "source": [
    "ham2.flow"
   ]
  },
  {
   "cell_type": "code",
   "execution_count": 21,
   "metadata": {},
   "outputs": [],
   "source": [
    "def get_tau_alphas(tau_alpha, m_inner, m_outer, period_ratio):\n",
    "    # use Kepler's third law to compute the ratio of semi-major axes in resonance from the period ratio in resonance\n",
    "    sma_ratio = period_ratio ** (2/3)  # ratio of outer planet's semi-major axis to inner\n",
    "    # define matrix A\n",
    "    A = np.array([[-1, 1],\n",
    "                 [m_outer, m_inner * sma_ratio]])\n",
    "    # compute gamma_1 and gamma_2\n",
    "    gammas = np.matmul(np.linalg.inv(A), np.array([-1/tau_alpha, 0]))\n",
    "    # gamma = 1/tau\n",
    "    taus = 1/gammas\n",
    "    \n",
    "    return tuple(taus)  # returns (tau_alpha_outer, tau_alpha_inner) as a tuple"
   ]
  },
  {
   "cell_type": "code",
   "execution_count": 22,
   "metadata": {},
   "outputs": [],
   "source": [
    "# full flow is the conservative flow matrix augmented with Ddot = 0 plus the dissipative flow matrix\n",
    "fullflow = sp.Matrix(list(newflow) + [0]) + newdisflow_approx.subs(newpars)\n",
    "\n",
    "taus = [tau_a1,tau_a2,tau_e1,tau_e2]\n",
    "dyvars = [y1, y2, x1, x2, D]\n",
    "\n",
    "flow_fn=sp.lambdify(dyvars+taus,fullflow)\n",
    "\n",
    "jac_fn=sp.lambdify(\n",
    "    dyvars+taus,\n",
    "    sp.Matrix(5,5,lambda i,j : sp.diff(fullflow[i],dyvars[j]) )\n",
    ")\n",
    "\n",
    "# negative so it works properly\n",
    "tauvals = list(get_tau_alphas(-50 * 1e3, masses[0], masses[1], period_ratio=3/2)) + [1e3, 1e3]\n",
    "\n",
    "# tauvals = [-1e5,+1e5,1e3,1e3]\n",
    "# tauvals, list(get_tau_alphas(-50 * 1e3, masses[0], masses[1], period_ratio=3/2)) + [1e3, 1e3]"
   ]
  },
  {
   "cell_type": "code",
   "execution_count": 23,
   "metadata": {},
   "outputs": [],
   "source": [
    "from scipy.integrate import solve_ivp\n",
    "\n",
    "times = np.linspace(0,6e3,200)\n",
    "f=lambda t,x: flow_fn(*x,*tauvals).reshape(-1)\n",
    "Df = lambda t,x: jac_fn(*x,*tauvals)\n",
    "soln=solve_ivp(f,(times[0],times[-1]),[0,0,0,0,float(Dval)],method='Radau',t_eval=times,jac=Df)\n",
    "# root=newton_solve(f,Df,soln.y.T[-1])"
   ]
  },
  {
   "cell_type": "code",
   "execution_count": 24,
   "metadata": {},
   "outputs": [
    {
     "data": {
      "text/plain": [
       "[<matplotlib.lines.Line2D at 0x7f39bc39ed30>]"
      ]
     },
     "execution_count": 24,
     "metadata": {},
     "output_type": "execute_result"
    },
    {
     "data": {
      "image/png": "[encoded data removed]",
      "text/plain": [
       "<Figure size 432x288 with 2 Axes>"
      ]
     },
     "metadata": {
      "needs_background": "light"
     },
     "output_type": "display_data"
    }
   ],
   "source": [
    "fig,ax= plt.subplots(2,1,sharex=True)\n",
    "ax[0].plot(times,soln.y[-1])\n",
    "ax[1].plot(soln.t,soln.y[0])\n",
    "ax[1].plot(soln.t,soln.y[1])\n",
    "ax[1].plot(soln.t,soln.y[2])\n",
    "ax[1].plot(soln.t,soln.y[3])"
   ]
  },
  {
   "cell_type": "code",
   "execution_count": 25,
   "metadata": {},
   "outputs": [],
   "source": [
    "import warnings\n",
    "#warnings.filterwarnings(\"ignore\")\n",
    "from scipy.linalg import solve as lin_solve\n",
    "def newton_solve(fun,Dfun,guess,max_iter=100,rtol=1e-6,atol=1e-12):\n",
    "    y = guess.copy()\n",
    "    for itr in range(max_iter):\n",
    "        f = fun(y)\n",
    "        Df = Dfun(y)\n",
    "        dy = -1 * lin_solve(Df,f)\n",
    "        y+=dy\n",
    "        if np.alltrue( np.abs(dy) < rtol * np.abs(y) + atol ):\n",
    "            break\n",
    "    else:\n",
    "        warnings.warn(\"did not converge\")\n",
    "    return y"
   ]
  },
  {
   "cell_type": "code",
   "execution_count": 26,
   "metadata": {},
   "outputs": [
    {
     "data": {
      "text/plain": [
       "<matplotlib.legend.Legend at 0x7f39bc2bc850>"
      ]
     },
     "execution_count": 26,
     "metadata": {},
     "output_type": "execute_result"
    },
    {
     "data": {
      "image/png": "[encoded data removed]",
      "text/plain": [
       "<Figure size 432x288 with 1 Axes>"
      ]
     },
     "metadata": {
      "needs_background": "light"
     },
     "output_type": "display_data"
    }
   ],
   "source": [
    "f=lambda x: flow_fn(*x,*tauvals).reshape(-1)\n",
    "Df = lambda x: jac_fn(*x,*tauvals)\n",
    "root=newton_solve(f,Df,soln.y.T[-1])\n",
    "\n",
    "plt.plot(soln.t,soln.y[0], label = 'y1')\n",
    "plt.plot(soln.t,soln.y[1], label = 'y2')\n",
    "plt.plot(soln.t,soln.y[2], label= 'x1')\n",
    "plt.plot(soln.t,soln.y[3], label = 'x2')\n",
    "for i, r in enumerate(root[:4]):\n",
    "    plt.axhline(r,color='k')\n",
    "plt.legend()"
   ]
  },
  {
   "cell_type": "code",
   "execution_count": 135,
   "metadata": {},
   "outputs": [
    {
     "data": {
      "text/latex": [
       "$\\displaystyle \\left[ 50.0 \\tau_{e}\\right]$"
      ],
      "text/plain": [
       "[50.0⋅τₑ]"
      ]
     },
     "execution_count": 135,
     "metadata": {},
     "output_type": "execute_result"
    }
   ],
   "source": [
    "tau_alpha_sym, tau_e = sp.symbols('tau_alpha, tau_e')\n",
    "\n",
    "xydict = dict(zip(dyvars, root))    \n",
    "# sub with the equilibrium values of d, y1, y2, x1, x2, set ddot = 0 and set tau a1 equal to tau a2\n",
    "fullflow_N = fullflow.subs(xydict).subs([(-tau_e2, tau_e), (-tau_e1, tau_e)])[4]\n",
    "\n",
    "# substitute 1/tau_a = 1/tau_a1 - 1/tau_a2 usign the coefficient\n",
    "\n",
    "ddot_eq = fullflow_N.subs(-fullflow_N.coeff(1/tau_a2)/tau_alpha, -fullflow_N.coeff(1/tau_a2)/tau_alpha_sym)\n",
    "sp.solve(ddot_eq, tau_alpha_sym)"
   ]
  },
  {
   "cell_type": "code",
   "execution_count": 136,
   "metadata": {},
   "outputs": [
    {
     "data": {
      "text/plain": [
       "True"
      ]
     },
     "execution_count": 136,
     "metadata": {},
     "output_type": "execute_result"
    }
   ],
   "source": [
    "tau_a1 in fullflow_N.free_symbols"
   ]
  },
  {
   "cell_type": "code",
   "execution_count": 137,
   "metadata": {},
   "outputs": [
    {
     "data": {
      "text/latex": [
       "$\\displaystyle \\left[ 50.0\\right]$"
      ],
      "text/plain": [
       "[50.0]"
      ]
     },
     "execution_count": 137,
     "metadata": {},
     "output_type": "execute_result"
    }
   ],
   "source": [
    "K = sp.symbols('K')\n",
    "\n",
    "sp.solve(sp.simplify(fullflow_N.subs(tau_a1, 1/(1/tau_alpha_sym + 1/tau_a2)).subs(tau_alpha_sym, K * tau_e)), K)"
   ]
  },
  {
   "cell_type": "code",
   "execution_count": 109,
   "metadata": {},
   "outputs": [],
   "source": [
    "def D_to_K(flow_mat, root, dyvars=dyvars):\n",
    "    \"\"\"\n",
    "    Computes K = tau_a/tau_e using the flow matrix and its roots\n",
    "    Flow matrix is zdot = d/dt[y1, y2, x1, x2, D] and settting D_dot to 0    \n",
    "    \"\"\"\n",
    "    tau_alpha_sym, tau_e, K = sp.symbols('tau_alpha, tau_e, K')\n",
    "    # sub with equilibrium values of y1, y2, x1, x2, d, and set tau_e1 = tau_e2 = tau_e\n",
    "    xydict = dict(zip(dyvars, root))    \n",
    "    # tau_e1, tau_e2, tau_a1, tau_a2 need to be defined\n",
    "    flow_mat_N = flow_mat.subs(xydict).subs([(-tau_e2, tau_e), (-tau_e1, tau_e)])[-1]  # D entry is at the end of the matrix\n",
    "    # substitute tau_a1 = 1/(1/tau_a + 1/tau_a2) and them sub in tau_a = K * tau_e into the sympy expression\n",
    "    ddot_eq = flow_mat_N.subs(tau_a1, 1/(1/tau_alpha_sym + 1/tau_a2)).subs(tau_alpha_sym, K * tau_e)\n",
    "    # return solving for tau_a in terms of tau_e (coefficient is equal to K)\n",
    "    return sp.solve(ddot_eq, K)[0]  # since sp.solve returns a singleton list"
   ]
  },
  {
   "cell_type": "code",
   "execution_count": 29,
   "metadata": {},
   "outputs": [],
   "source": [
    "Ddot_dis = -1*factor *(1/sp.S(2))* 1/tau_alpha - p1/tau_e1 - p2/tau_e2\n",
    "newdisflow_approx = sp.Matrix([(newdisflow[i] if i<4 else Ddot_dis) for i in range(5)])\n",
    "fullflow = sp.Matrix(list(newflow) + [0]) + newdisflow_approx.subs(newpars) \n",
    "\n",
    "flow_fn=sp.lambdify(dyvars+taus,fullflow)\n",
    "jac_fn=sp.lambdify(dyvars+taus, sp.Matrix(5,5,lambda i,j : sp.diff(fullflow[i],dyvars[j])))\n"
   ]
  },
  {
   "cell_type": "code",
   "execution_count": 48,
   "metadata": {},
   "outputs": [
    {
     "data": {
      "text/latex": [
       "$\\displaystyle \\left[\\begin{matrix}- \\frac{3.55835013590981 \\cdot 10^{-13} \\left(- 36 x_{1}^{3} - 36 x_{1} x_{2}^{2} - 36 x_{1} y_{1}^{2} - 36 x_{1} y_{2}^{2} - 72 x_{1} \\left(0.00049976910250947 - D\\right) + 0.0268322145688995 x_{1}\\right)}{\\left(0.000745339293580541 D + \\frac{x_{1}^{4}}{4} + \\frac{x_{1}^{2} x_{2}^{2}}{2} + \\frac{x_{1}^{2} y_{1}^{2}}{2} + \\frac{x_{1}^{2} y_{2}^{2}}{2} + x_{1}^{2} \\left(0.00049976910250947 - D\\right) - 0.000372669646790271 x_{1}^{2} + \\frac{x_{2}^{4}}{4} + \\frac{x_{2}^{2} y_{1}^{2}}{2} + \\frac{x_{2}^{2} y_{2}^{2}}{2} + x_{2}^{2} \\left(0.00049976910250947 - D\\right) - 0.000372669646790271 x_{2}^{2} + \\frac{y_{1}^{4}}{4} + \\frac{y_{1}^{2} y_{2}^{2}}{2} + y_{1}^{2} \\left(0.00049976910250947 - D\\right) - 0.000372669646790271 y_{1}^{2} + \\frac{y_{2}^{4}}{4} + y_{2}^{2} \\left(0.00049976910250947 - D\\right) - 0.000372669646790271 y_{2}^{2} + \\left(0.00049976910250947 - D\\right)^{2} - 2.33614884179005 \\cdot 10^{-7}\\right)^{2}} - \\frac{1.62160451415598 \\cdot 10^{-13} \\left(- 8 x_{1}^{3} - 8 x_{1} x_{2}^{2} - 8 x_{1} y_{1}^{2} - 8 x_{1} y_{2}^{2} - 16 x_{1} \\left(0.00049976910250947 - D\\right) + 0.0089440715229665 x_{1}\\right)}{\\left(0.00111800894037081 D + \\frac{x_{1}^{4}}{4} + \\frac{x_{1}^{2} x_{2}^{2}}{2} + \\frac{x_{1}^{2} y_{1}^{2}}{2} + \\frac{x_{1}^{2} y_{2}^{2}}{2} + x_{1}^{2} \\left(0.00049976910250947 - D\\right) - 0.000559004470185406 x_{1}^{2} + \\frac{x_{2}^{4}}{4} + \\frac{x_{2}^{2} y_{1}^{2}}{2} + \\frac{x_{2}^{2} y_{2}^{2}}{2} + x_{2}^{2} \\left(0.00049976910250947 - D\\right) - 0.000559004470185406 x_{2}^{2} + \\frac{y_{1}^{4}}{4} + \\frac{y_{1}^{2} y_{2}^{2}}{2} + y_{1}^{2} \\left(0.00049976910250947 - D\\right) - 0.000559004470185406 y_{1}^{2} + \\frac{y_{2}^{4}}{4} + y_{2}^{2} \\left(0.00049976910250947 - D\\right) - 0.000559004470185406 y_{2}^{2} + \\left(0.00049976910250947 - D\\right)^{2} - 2.46260327039418 \\cdot 10^{-7}\\right)^{2}} + 6.18604945527417 \\cdot 10^{-5} - \\frac{y_{1}}{\\tau_{e1}}\\\\- \\frac{3.55835013590981 \\cdot 10^{-13} \\left(- 36 x_{1}^{2} x_{2} - 36 x_{2}^{3} - 36 x_{2} y_{1}^{2} - 36 x_{2} y_{2}^{2} - 72 x_{2} \\left(0.00049976910250947 - D\\right) + 0.0268322145688995 x_{2}\\right)}{\\left(0.000745339293580541 D + \\frac{x_{1}^{4}}{4} + \\frac{x_{1}^{2} x_{2}^{2}}{2} + \\frac{x_{1}^{2} y_{1}^{2}}{2} + \\frac{x_{1}^{2} y_{2}^{2}}{2} + x_{1}^{2} \\left(0.00049976910250947 - D\\right) - 0.000372669646790271 x_{1}^{2} + \\frac{x_{2}^{4}}{4} + \\frac{x_{2}^{2} y_{1}^{2}}{2} + \\frac{x_{2}^{2} y_{2}^{2}}{2} + x_{2}^{2} \\left(0.00049976910250947 - D\\right) - 0.000372669646790271 x_{2}^{2} + \\frac{y_{1}^{4}}{4} + \\frac{y_{1}^{2} y_{2}^{2}}{2} + y_{1}^{2} \\left(0.00049976910250947 - D\\right) - 0.000372669646790271 y_{1}^{2} + \\frac{y_{2}^{4}}{4} + y_{2}^{2} \\left(0.00049976910250947 - D\\right) - 0.000372669646790271 y_{2}^{2} + \\left(0.00049976910250947 - D\\right)^{2} - 2.33614884179005 \\cdot 10^{-7}\\right)^{2}} - \\frac{1.62160451415598 \\cdot 10^{-13} \\left(- 8 x_{1}^{2} x_{2} - 8 x_{2}^{3} - 8 x_{2} y_{1}^{2} - 8 x_{2} y_{2}^{2} - 16 x_{2} \\left(0.00049976910250947 - D\\right) + 0.0089440715229665 x_{2}\\right)}{\\left(0.00111800894037081 D + \\frac{x_{1}^{4}}{4} + \\frac{x_{1}^{2} x_{2}^{2}}{2} + \\frac{x_{1}^{2} y_{1}^{2}}{2} + \\frac{x_{1}^{2} y_{2}^{2}}{2} + x_{1}^{2} \\left(0.00049976910250947 - D\\right) - 0.000559004470185406 x_{1}^{2} + \\frac{x_{2}^{4}}{4} + \\frac{x_{2}^{2} y_{1}^{2}}{2} + \\frac{x_{2}^{2} y_{2}^{2}}{2} + x_{2}^{2} \\left(0.00049976910250947 - D\\right) - 0.000559004470185406 x_{2}^{2} + \\frac{y_{1}^{4}}{4} + \\frac{y_{1}^{2} y_{2}^{2}}{2} + y_{1}^{2} \\left(0.00049976910250947 - D\\right) - 0.000559004470185406 y_{1}^{2} + \\frac{y_{2}^{4}}{4} + y_{2}^{2} \\left(0.00049976910250947 - D\\right) - 0.000559004470185406 y_{2}^{2} + \\left(0.00049976910250947 - D\\right)^{2} - 2.46260327039418 \\cdot 10^{-7}\\right)^{2}} - 4.25601349576217 \\cdot 10^{-5} - \\frac{y_{2}}{\\tau_{e2}}\\\\\\frac{3.55835013590981 \\cdot 10^{-13} \\left(- 36 x_{1}^{2} y_{1} - 36 x_{2}^{2} y_{1} - 36 y_{1}^{3} - 36 y_{1} y_{2}^{2} - 72 y_{1} \\left(0.00049976910250947 - D\\right) + 0.0268322145688995 y_{1}\\right)}{\\left(0.000745339293580541 D + \\frac{x_{1}^{4}}{4} + \\frac{x_{1}^{2} x_{2}^{2}}{2} + \\frac{x_{1}^{2} y_{1}^{2}}{2} + \\frac{x_{1}^{2} y_{2}^{2}}{2} + x_{1}^{2} \\left(0.00049976910250947 - D\\right) - 0.000372669646790271 x_{1}^{2} + \\frac{x_{2}^{4}}{4} + \\frac{x_{2}^{2} y_{1}^{2}}{2} + \\frac{x_{2}^{2} y_{2}^{2}}{2} + x_{2}^{2} \\left(0.00049976910250947 - D\\right) - 0.000372669646790271 x_{2}^{2} + \\frac{y_{1}^{4}}{4} + \\frac{y_{1}^{2} y_{2}^{2}}{2} + y_{1}^{2} \\left(0.00049976910250947 - D\\right) - 0.000372669646790271 y_{1}^{2} + \\frac{y_{2}^{4}}{4} + y_{2}^{2} \\left(0.00049976910250947 - D\\right) - 0.000372669646790271 y_{2}^{2} + \\left(0.00049976910250947 - D\\right)^{2} - 2.33614884179005 \\cdot 10^{-7}\\right)^{2}} + \\frac{1.62160451415598 \\cdot 10^{-13} \\left(- 8 x_{1}^{2} y_{1} - 8 x_{2}^{2} y_{1} - 8 y_{1}^{3} - 8 y_{1} y_{2}^{2} - 16 y_{1} \\left(0.00049976910250947 - D\\right) + 0.0089440715229665 y_{1}\\right)}{\\left(0.00111800894037081 D + \\frac{x_{1}^{4}}{4} + \\frac{x_{1}^{2} x_{2}^{2}}{2} + \\frac{x_{1}^{2} y_{1}^{2}}{2} + \\frac{x_{1}^{2} y_{2}^{2}}{2} + x_{1}^{2} \\left(0.00049976910250947 - D\\right) - 0.000559004470185406 x_{1}^{2} + \\frac{x_{2}^{4}}{4} + \\frac{x_{2}^{2} y_{1}^{2}}{2} + \\frac{x_{2}^{2} y_{2}^{2}}{2} + x_{2}^{2} \\left(0.00049976910250947 - D\\right) - 0.000559004470185406 x_{2}^{2} + \\frac{y_{1}^{4}}{4} + \\frac{y_{1}^{2} y_{2}^{2}}{2} + y_{1}^{2} \\left(0.00049976910250947 - D\\right) - 0.000559004470185406 y_{1}^{2} + \\frac{y_{2}^{4}}{4} + y_{2}^{2} \\left(0.00049976910250947 - D\\right) - 0.000559004470185406 y_{2}^{2} + \\left(0.00049976910250947 - D\\right)^{2} - 2.46260327039418 \\cdot 10^{-7}\\right)^{2}} - \\frac{x_{1}}{\\tau_{e1}}\\\\\\frac{3.55835013590981 \\cdot 10^{-13} \\left(- 36 x_{1}^{2} y_{2} - 36 x_{2}^{2} y_{2} - 36 y_{1}^{2} y_{2} - 36 y_{2}^{3} - 72 y_{2} \\left(0.00049976910250947 - D\\right) + 0.0268322145688995 y_{2}\\right)}{\\left(0.000745339293580541 D + \\frac{x_{1}^{4}}{4} + \\frac{x_{1}^{2} x_{2}^{2}}{2} + \\frac{x_{1}^{2} y_{1}^{2}}{2} + \\frac{x_{1}^{2} y_{2}^{2}}{2} + x_{1}^{2} \\left(0.00049976910250947 - D\\right) - 0.000372669646790271 x_{1}^{2} + \\frac{x_{2}^{4}}{4} + \\frac{x_{2}^{2} y_{1}^{2}}{2} + \\frac{x_{2}^{2} y_{2}^{2}}{2} + x_{2}^{2} \\left(0.00049976910250947 - D\\right) - 0.000372669646790271 x_{2}^{2} + \\frac{y_{1}^{4}}{4} + \\frac{y_{1}^{2} y_{2}^{2}}{2} + y_{1}^{2} \\left(0.00049976910250947 - D\\right) - 0.000372669646790271 y_{1}^{2} + \\frac{y_{2}^{4}}{4} + y_{2}^{2} \\left(0.00049976910250947 - D\\right) - 0.000372669646790271 y_{2}^{2} + \\left(0.00049976910250947 - D\\right)^{2} - 2.33614884179005 \\cdot 10^{-7}\\right)^{2}} + \\frac{1.62160451415598 \\cdot 10^{-13} \\left(- 8 x_{1}^{2} y_{2} - 8 x_{2}^{2} y_{2} - 8 y_{1}^{2} y_{2} - 8 y_{2}^{3} - 16 y_{2} \\left(0.00049976910250947 - D\\right) + 0.0089440715229665 y_{2}\\right)}{\\left(0.00111800894037081 D + \\frac{x_{1}^{4}}{4} + \\frac{x_{1}^{2} x_{2}^{2}}{2} + \\frac{x_{1}^{2} y_{1}^{2}}{2} + \\frac{x_{1}^{2} y_{2}^{2}}{2} + x_{1}^{2} \\left(0.00049976910250947 - D\\right) - 0.000559004470185406 x_{1}^{2} + \\frac{x_{2}^{4}}{4} + \\frac{x_{2}^{2} y_{1}^{2}}{2} + \\frac{x_{2}^{2} y_{2}^{2}}{2} + x_{2}^{2} \\left(0.00049976910250947 - D\\right) - 0.000559004470185406 x_{2}^{2} + \\frac{y_{1}^{4}}{4} + \\frac{y_{1}^{2} y_{2}^{2}}{2} + y_{1}^{2} \\left(0.00049976910250947 - D\\right) - 0.000559004470185406 y_{1}^{2} + \\frac{y_{2}^{4}}{4} + y_{2}^{2} \\left(0.00049976910250947 - D\\right) - 0.000559004470185406 y_{2}^{2} + \\left(0.00049976910250947 - D\\right)^{2} - 2.46260327039418 \\cdot 10^{-7}\\right)^{2}} - \\frac{x_{2}}{\\tau_{e2}}\\\\- \\frac{\\frac{x_{2}^{2}}{2} + \\frac{y_{2}^{2}}{2}}{\\tau_{e2}} - \\frac{\\frac{x_{1}^{2}}{2} + \\frac{y_{1}^{2}}{2}}{\\tau_{e1}} + \\frac{2.02022972779833 \\cdot 10^{-5}}{\\tau_{a2}} - \\frac{2.02022972779833 \\cdot 10^{-5}}{\\tau_{a1}}\\end{matrix}\\right]$"
      ],
      "text/plain": [
       "⎡                                                                             \n",
       "⎢                                                                             \n",
       "⎢- ───────────────────────────────────────────────────────────────────────────\n",
       "⎢                                                                             \n",
       "⎢  ⎛                           4     2   2     2   2     2   2                \n",
       "⎢  ⎜                         x₁    x₁ ⋅x₂    x₁ ⋅y₁    x₁ ⋅y₂      2          \n",
       "⎢  ⎜0.000745339293580541⋅D + ─── + ─────── + ─────── + ─────── + x₁ ⋅(0.000499\n",
       "⎢  ⎝                          4       2         2         2                   \n",
       "⎢                                                                             \n",
       "⎢                                                                             \n",
       "⎢                                                                             \n",
       "⎢- ───────────────────────────────────────────────────────────────────────────\n",
       "⎢                                                                             \n",
       "⎢  ⎛                           4     2   2     2   2     2   2                \n",
       "⎢  ⎜                         x₁    x₁ ⋅x₂    x₁ ⋅y₁    x₁ ⋅y₂      2          \n",
       "⎢  ⎜0.000745339293580541⋅D + ─── + ─────── + ─────── + ─────── + x₁ ⋅(0.000499\n",
       "⎢  ⎝                          4       2         2         2                   \n",
       "⎢                                                                             \n",
       "⎢                                                                             \n",
       "⎢                                                                             \n",
       "⎢            ─────────────────────────────────────────────────────────────────\n",
       "⎢                                                                             \n",
       "⎢            ⎛                           4     2   2     2   2     2   2      \n",
       "⎢            ⎜                         x₁    x₁ ⋅x₂    x₁ ⋅y₁    x₁ ⋅y₂      2\n",
       "⎢            ⎜0.000745339293580541⋅D + ─── + ─────── + ─────── + ─────── + x₁ \n",
       "⎢            ⎝                          4       2         2         2         \n",
       "⎢                                                                             \n",
       "⎢                                                                             \n",
       "⎢                                                                             \n",
       "⎢            ─────────────────────────────────────────────────────────────────\n",
       "⎢                                                                             \n",
       "⎢            ⎛                           4     2   2     2   2     2   2      \n",
       "⎢            ⎜                         x₁    x₁ ⋅x₂    x₁ ⋅y₁    x₁ ⋅y₂      2\n",
       "⎢            ⎜0.000745339293580541⋅D + ─── + ─────── + ─────── + ─────── + x₁ \n",
       "⎢            ⎝                          4       2         2         2         \n",
       "⎢                                                                             \n",
       "⎢                                                                             \n",
       "⎢                                                                             \n",
       "⎢                                                                             \n",
       "⎢                                                                             \n",
       "⎢                                                                             \n",
       "⎣                                                                             \n",
       "\n",
       "                                                                              \n",
       "                                                            3.55835013590981e-\n",
       "──────────────────────────────────────────────────────────────────────────────\n",
       "                                                                              \n",
       "                                                4     2   2     2   2         \n",
       "                                          2   x₂    x₂ ⋅y₁    x₂ ⋅y₂      2   \n",
       "76910250947 - D) - 0.000372669646790271⋅x₁  + ─── + ─────── + ─────── + x₂ ⋅(0\n",
       "                                               4       2         2            \n",
       "                                                                              \n",
       "                                                                              \n",
       "                                                            3.55835013590981e-\n",
       "──────────────────────────────────────────────────────────────────────────────\n",
       "                                                                              \n",
       "                                                4     2   2     2   2         \n",
       "                                          2   x₂    x₂ ⋅y₁    x₂ ⋅y₂      2   \n",
       "76910250947 - D) - 0.000372669646790271⋅x₁  + ─── + ─────── + ─────── + x₂ ⋅(0\n",
       "                                               4       2         2            \n",
       "                                                                              \n",
       "                                                                              \n",
       "                                                                      3.558350\n",
       "──────────────────────────────────────────────────────────────────────────────\n",
       "                                                                              \n",
       "                                                          4     2   2     2   \n",
       "                                                    2   x₂    x₂ ⋅y₁    x₂ ⋅y₂\n",
       "⋅(0.00049976910250947 - D) - 0.000372669646790271⋅x₁  + ─── + ─────── + ──────\n",
       "                                                         4       2         2  \n",
       "                                                                              \n",
       "                                                                              \n",
       "                                                                      3.558350\n",
       "──────────────────────────────────────────────────────────────────────────────\n",
       "                                                                              \n",
       "                                                          4     2   2     2   \n",
       "                                                    2   x₂    x₂ ⋅y₁    x₂ ⋅y₂\n",
       "⋅(0.00049976910250947 - D) - 0.000372669646790271⋅x₁  + ─── + ─────── + ──────\n",
       "                                                         4       2         2  \n",
       "                                                                              \n",
       "                                                                              \n",
       "                                                                              \n",
       "                                                                              \n",
       "                                                                              \n",
       "                                                                              \n",
       "                                                                              \n",
       "\n",
       "   ⎛       3           2           2           2                              \n",
       "13⋅⎝- 36⋅x₁  - 36⋅x₁⋅x₂  - 36⋅x₁⋅y₁  - 36⋅x₁⋅y₂  - 72⋅x₁⋅(0.00049976910250947 \n",
       "──────────────────────────────────────────────────────────────────────────────\n",
       "                                                                              \n",
       "                                                       4     2   2            \n",
       "                                                 2   y₁    y₁ ⋅y₂      2      \n",
       ".00049976910250947 - D) - 0.000372669646790271⋅x₂  + ─── + ─────── + y₁ ⋅(0.00\n",
       "                                                      4       2               \n",
       "                                                                              \n",
       "   ⎛       2           3           2           2                              \n",
       "13⋅⎝- 36⋅x₁ ⋅x₂ - 36⋅x₂  - 36⋅x₂⋅y₁  - 36⋅x₂⋅y₂  - 72⋅x₂⋅(0.00049976910250947 \n",
       "──────────────────────────────────────────────────────────────────────────────\n",
       "                                                                              \n",
       "                                                       4     2   2            \n",
       "                                                 2   y₁    y₁ ⋅y₂      2      \n",
       ".00049976910250947 - D) - 0.000372669646790271⋅x₂  + ─── + ─────── + y₁ ⋅(0.00\n",
       "                                                      4       2               \n",
       "                                                                              \n",
       "             ⎛       2           2           3           2                    \n",
       "13590981e-13⋅⎝- 36⋅x₁ ⋅y₁ - 36⋅x₂ ⋅y₁ - 36⋅y₁  - 36⋅y₁⋅y₂  - 72⋅y₁⋅(0.00049976\n",
       "──────────────────────────────────────────────────────────────────────────────\n",
       "                                                                              \n",
       "2                                                                4     2   2  \n",
       "      2                                                    2   y₁    y₁ ⋅y₂   \n",
       "─ + x₂ ⋅(0.00049976910250947 - D) - 0.000372669646790271⋅x₂  + ─── + ─────── +\n",
       "                                                                4       2     \n",
       "                                                                              \n",
       "             ⎛       2           2           2           3                    \n",
       "13590981e-13⋅⎝- 36⋅x₁ ⋅y₂ - 36⋅x₂ ⋅y₂ - 36⋅y₁ ⋅y₂ - 36⋅y₂  - 72⋅y₂⋅(0.00049976\n",
       "──────────────────────────────────────────────────────────────────────────────\n",
       "                                                                              \n",
       "2                                                                4     2   2  \n",
       "      2                                                    2   y₁    y₁ ⋅y₂   \n",
       "─ + x₂ ⋅(0.00049976910250947 - D) - 0.000372669646790271⋅x₂  + ─── + ─────── +\n",
       "                                                                4       2     \n",
       "                                                                              \n",
       "                                                                              \n",
       "                                                                              \n",
       "                                                                              \n",
       "                                                                              \n",
       "                                                                              \n",
       "                                                                              \n",
       "\n",
       "                            ⎞                                                 \n",
       "- D) + 0.0268322145688995⋅x₁⎠                                                 \n",
       "──────────────────────────────────────────────────────────────────────────────\n",
       "                                                                              \n",
       "                                                    4                         \n",
       "                                              2   y₂      2                   \n",
       "049976910250947 - D) - 0.000372669646790271⋅y₁  + ─── + y₂ ⋅(0.000499769102509\n",
       "                                                   4                          \n",
       "                                                                              \n",
       "                            ⎞                                                 \n",
       "- D) + 0.0268322145688995⋅x₂⎠                                                 \n",
       "──────────────────────────────────────────────────────────────────────────────\n",
       "                                                                              \n",
       "                                                    4                         \n",
       "                                              2   y₂      2                   \n",
       "049976910250947 - D) - 0.000372669646790271⋅y₁  + ─── + y₂ ⋅(0.000499769102509\n",
       "                                                   4                          \n",
       "                                                                              \n",
       "                                      ⎞                                       \n",
       "910250947 - D) + 0.0268322145688995⋅y₁⎠                                       \n",
       "──────────────────────────────────────────────────────────────────────────────\n",
       "                                                                              \n",
       "                                                              4               \n",
       "   2                                                    2   y₂      2         \n",
       " y₁ ⋅(0.00049976910250947 - D) - 0.000372669646790271⋅y₁  + ─── + y₂ ⋅(0.00049\n",
       "                                                             4                \n",
       "                                                                              \n",
       "                                      ⎞                                       \n",
       "910250947 - D) + 0.0268322145688995⋅y₂⎠                                       \n",
       "──────────────────────────────────────────────────────────────────────────────\n",
       "                                                                              \n",
       "                                                              4               \n",
       "   2                                                    2   y₂      2         \n",
       " y₁ ⋅(0.00049976910250947 - D) - 0.000372669646790271⋅y₁  + ─── + y₂ ⋅(0.00049\n",
       "                                                             4                \n",
       "                                                                              \n",
       "                                                                              \n",
       "                                                                              \n",
       "                                                                              \n",
       "                                                                              \n",
       "                                                                              \n",
       "                                                                              \n",
       "\n",
       "                                                                              \n",
       "                                                                              \n",
       "──────────────────────────────────────────────────────────────────────────────\n",
       "                                                                              \n",
       "                                                                              \n",
       "                                 2                            2               \n",
       "47 - D) - 0.000372669646790271⋅y₂  + (0.00049976910250947 - D)  - 2.3361488417\n",
       "                                                                              \n",
       "                                                                              \n",
       "                                                                              \n",
       "                                                                              \n",
       "──────────────────────────────────────────────────────────────────────────────\n",
       "                                                                              \n",
       "                                                                              \n",
       "                                 2                            2               \n",
       "47 - D) - 0.000372669646790271⋅y₂  + (0.00049976910250947 - D)  - 2.3361488417\n",
       "                                                                              \n",
       "                                                                              \n",
       "                                                                              \n",
       "                                                                              \n",
       "──────────────────────────────────────────────────────────────────────────────\n",
       "                                                                              \n",
       "                                                                              \n",
       "                                           2                            2     \n",
       "976910250947 - D) - 0.000372669646790271⋅y₂  + (0.00049976910250947 - D)  - 2.\n",
       "                                                                              \n",
       "                                                                              \n",
       "                                                                              \n",
       "                                                                              \n",
       "──────────────────────────────────────────────────────────────────────────────\n",
       "                                                                              \n",
       "                                                                              \n",
       "                                           2                            2     \n",
       "976910250947 - D) - 0.000372669646790271⋅y₂  + (0.00049976910250947 - D)  - 2.\n",
       "                                                                              \n",
       "                                                                              \n",
       "                                                                       2     2\n",
       "                                                                     x₂    y₂ \n",
       "                                                                     ─── + ───\n",
       "                                                                      2     2 \n",
       "                                                                   - ─────────\n",
       "                                                                        τₑ₂   \n",
       "\n",
       "                                                                              \n",
       "                                                                              \n",
       "───────── - ──────────────────────────────────────────────────────────────────\n",
       "        2                                                                     \n",
       "       ⎞    ⎛                          4     2   2     2   2     2   2        \n",
       "       ⎟    ⎜                        x₁    x₁ ⋅x₂    x₁ ⋅y₁    x₁ ⋅y₂      2  \n",
       "9005e-7⎟    ⎜0.00111800894037081⋅D + ─── + ─────── + ─────── + ─────── + x₁ ⋅(\n",
       "       ⎠    ⎝                         4       2         2         2           \n",
       "                                                                              \n",
       "                                                                              \n",
       "                                                                              \n",
       "───────── - ──────────────────────────────────────────────────────────────────\n",
       "        2                                                                     \n",
       "       ⎞    ⎛                          4     2   2     2   2     2   2        \n",
       "       ⎟    ⎜                        x₁    x₁ ⋅x₂    x₁ ⋅y₁    x₁ ⋅y₂      2  \n",
       "9005e-7⎟    ⎜0.00111800894037081⋅D + ─── + ─────── + ─────── + ─────── + x₁ ⋅(\n",
       "       ⎠    ⎝                         4       2         2         2           \n",
       "                                                                              \n",
       "                                                                              \n",
       "                                                                              \n",
       "─────────────────── + ────────────────────────────────────────────────────────\n",
       "                  2                                                           \n",
       "                 ⎞    ⎛                          4     2   2     2   2     2  \n",
       "                 ⎟    ⎜                        x₁    x₁ ⋅x₂    x₁ ⋅y₁    x₁ ⋅y\n",
       "33614884179005e-7⎟    ⎜0.00111800894037081⋅D + ─── + ─────── + ─────── + ─────\n",
       "                 ⎠    ⎝                         4       2         2         2 \n",
       "                                                                              \n",
       "                                                                              \n",
       "                                                                              \n",
       "─────────────────── + ────────────────────────────────────────────────────────\n",
       "                  2                                                           \n",
       "                 ⎞    ⎛                          4     2   2     2   2     2  \n",
       "                 ⎟    ⎜                        x₁    x₁ ⋅x₂    x₁ ⋅y₁    x₁ ⋅y\n",
       "33614884179005e-7⎟    ⎜0.00111800894037081⋅D + ─── + ─────── + ─────── + ─────\n",
       "                 ⎠    ⎝                         4       2         2         2 \n",
       "                                                                              \n",
       "     2     2                                                                  \n",
       "   x₁    y₁                                                                   \n",
       "   ─── + ───                                                                  \n",
       "    2     2    2.02022972779833e-5   2.02022972779833e-5                      \n",
       " - ───────── + ─────────────────── - ───────────────────                      \n",
       "      τₑ₁              τₐ₂                   τₐ₁                              \n",
       "\n",
       "                                                                              \n",
       "                                                                       1.62160\n",
       "──────────────────────────────────────────────────────────────────────────────\n",
       "                                                                              \n",
       "                                                        4     2   2     2   2 \n",
       "                                                  2   x₂    x₂ ⋅y₁    x₂ ⋅y₂  \n",
       "0.00049976910250947 - D) - 0.000559004470185406⋅x₁  + ─── + ─────── + ─────── \n",
       "                                                       4       2         2    \n",
       "                                                                              \n",
       "                                                                              \n",
       "                                                                       1.62160\n",
       "──────────────────────────────────────────────────────────────────────────────\n",
       "                                                                              \n",
       "                                                        4     2   2     2   2 \n",
       "                                                  2   x₂    x₂ ⋅y₁    x₂ ⋅y₂  \n",
       "0.00049976910250947 - D) - 0.000559004470185406⋅x₁  + ─── + ─────── + ─────── \n",
       "                                                       4       2         2    \n",
       "                                                                              \n",
       "                                                                              \n",
       "                                                                              \n",
       "──────────────────────────────────────────────────────────────────────────────\n",
       "                                                                              \n",
       " 2                                                                4     2   2 \n",
       "₂      2                                                    2   x₂    x₂ ⋅y₁  \n",
       "── + x₁ ⋅(0.00049976910250947 - D) - 0.000559004470185406⋅x₁  + ─── + ─────── \n",
       "                                                                 4       2    \n",
       "                                                                              \n",
       "                                                                              \n",
       "                                                                              \n",
       "──────────────────────────────────────────────────────────────────────────────\n",
       "                                                                              \n",
       " 2                                                                4     2   2 \n",
       "₂      2                                                    2   x₂    x₂ ⋅y₁  \n",
       "── + x₁ ⋅(0.00049976910250947 - D) - 0.000559004470185406⋅x₁  + ─── + ─────── \n",
       "                                                                 4       2    \n",
       "                                                                              \n",
       "                                                                              \n",
       "                                                                              \n",
       "                                                                              \n",
       "                                                                              \n",
       "                                                                              \n",
       "                                                                              \n",
       "\n",
       "              ⎛      3          2          2          2                       \n",
       "451415598e-13⋅⎝- 8⋅x₁  - 8⋅x₁⋅x₂  - 8⋅x₁⋅y₁  - 8⋅x₁⋅y₂  - 16⋅x₁⋅(0.00049976910\n",
       "──────────────────────────────────────────────────────────────────────────────\n",
       "                                                                              \n",
       "                                                               4     2   2    \n",
       "    2                                                    2   y₁    y₁ ⋅y₂     \n",
       "+ x₂ ⋅(0.00049976910250947 - D) - 0.000559004470185406⋅x₂  + ─── + ─────── + y\n",
       "                                                              4       2       \n",
       "                                                                              \n",
       "              ⎛      2          3          2          2                       \n",
       "451415598e-13⋅⎝- 8⋅x₁ ⋅x₂ - 8⋅x₂  - 8⋅x₂⋅y₁  - 8⋅x₂⋅y₂  - 16⋅x₂⋅(0.00049976910\n",
       "──────────────────────────────────────────────────────────────────────────────\n",
       "                                                                              \n",
       "                                                               4     2   2    \n",
       "    2                                                    2   y₁    y₁ ⋅y₂     \n",
       "+ x₂ ⋅(0.00049976910250947 - D) - 0.000559004470185406⋅x₂  + ─── + ─────── + y\n",
       "                                                              4       2       \n",
       "                                                                              \n",
       "                        ⎛      2          2          3          2             \n",
       "   1.62160451415598e-13⋅⎝- 8⋅x₁ ⋅y₁ - 8⋅x₂ ⋅y₁ - 8⋅y₁  - 8⋅y₁⋅y₂  - 16⋅y₁⋅(0.0\n",
       "──────────────────────────────────────────────────────────────────────────────\n",
       "                                                                              \n",
       "    2   2                                                                4    \n",
       "  x₂ ⋅y₂      2                                                    2   y₁    y\n",
       "+ ─────── + x₂ ⋅(0.00049976910250947 - D) - 0.000559004470185406⋅x₂  + ─── + ─\n",
       "     2                                                                  4     \n",
       "                                                                              \n",
       "                        ⎛      2          2          2          3             \n",
       "   1.62160451415598e-13⋅⎝- 8⋅x₁ ⋅y₂ - 8⋅x₂ ⋅y₂ - 8⋅y₁ ⋅y₂ - 8⋅y₂  - 16⋅y₂⋅(0.0\n",
       "──────────────────────────────────────────────────────────────────────────────\n",
       "                                                                              \n",
       "    2   2                                                                4    \n",
       "  x₂ ⋅y₂      2                                                    2   y₁    y\n",
       "+ ─────── + x₂ ⋅(0.00049976910250947 - D) - 0.000559004470185406⋅x₂  + ─── + ─\n",
       "     2                                                                  4     \n",
       "                                                                              \n",
       "                                                                              \n",
       "                                                                              \n",
       "                                                                              \n",
       "                                                                              \n",
       "                                                                              \n",
       "                                                                              \n",
       "\n",
       "                                   ⎞                                          \n",
       "250947 - D) + 0.0089440715229665⋅x₁⎠                                          \n",
       "──────────────────────────────────────────────────────────────────────────────\n",
       "                                                                              \n",
       "                                                            4                 \n",
       " 2                                                    2   y₂      2           \n",
       "₁ ⋅(0.00049976910250947 - D) - 0.000559004470185406⋅y₁  + ─── + y₂ ⋅(0.0004997\n",
       "                                                           4                  \n",
       "                                                                              \n",
       "                                   ⎞                                          \n",
       "250947 - D) + 0.0089440715229665⋅x₂⎠                                          \n",
       "──────────────────────────────────────────────────────────────────────────────\n",
       "                                                                              \n",
       "                                                            4                 \n",
       " 2                                                    2   y₂      2           \n",
       "₁ ⋅(0.00049976910250947 - D) - 0.000559004470185406⋅y₁  + ─── + y₂ ⋅(0.0004997\n",
       "                                                           4                  \n",
       "                                                                              \n",
       "                                             ⎞                                \n",
       "0049976910250947 - D) + 0.0089440715229665⋅y₁⎠                                \n",
       "──────────────────────────────────────────────────────────────────────────────\n",
       "                                                                              \n",
       " 2   2                                                                4       \n",
       "₁ ⋅y₂      2                                                    2   y₂      2 \n",
       "────── + y₁ ⋅(0.00049976910250947 - D) - 0.000559004470185406⋅y₁  + ─── + y₂ ⋅\n",
       "  2                                                                  4        \n",
       "                                                                              \n",
       "                                             ⎞                                \n",
       "0049976910250947 - D) + 0.0089440715229665⋅y₂⎠                                \n",
       "──────────────────────────────────────────────────────────────────────────────\n",
       "                                                                              \n",
       " 2   2                                                                4       \n",
       "₁ ⋅y₂      2                                                    2   y₂      2 \n",
       "────── + y₁ ⋅(0.00049976910250947 - D) - 0.000559004470185406⋅y₁  + ─── + y₂ ⋅\n",
       "  2                                                                  4        \n",
       "                                                                              \n",
       "                                                                              \n",
       "                                                                              \n",
       "                                                                              \n",
       "                                                                              \n",
       "                                                                              \n",
       "                                                                              \n",
       "\n",
       "                                                                              \n",
       "                                                                              \n",
       "──────────────────────────────────────────────────────────────────────────────\n",
       "                                                                              \n",
       "                                                                              \n",
       "                                         2                            2       \n",
       "6910250947 - D) - 0.000559004470185406⋅y₂  + (0.00049976910250947 - D)  - 2.46\n",
       "                                                                              \n",
       "                                                                              \n",
       "                                                                              \n",
       "                                                                              \n",
       "──────────────────────────────────────────────────────────────────────────────\n",
       "                                                                              \n",
       "                                                                              \n",
       "                                         2                            2       \n",
       "6910250947 - D) - 0.000559004470185406⋅y₂  + (0.00049976910250947 - D)  - 2.46\n",
       "                                                                              \n",
       "                                                                              \n",
       "                                                                              \n",
       "                                                                              \n",
       "──────────────────────────────────────────────────────────────────────────────\n",
       "                                                                              \n",
       "                                                                              \n",
       "                                                   2                          \n",
       "(0.00049976910250947 - D) - 0.000559004470185406⋅y₂  + (0.00049976910250947 - \n",
       "                                                                              \n",
       "                                                                              \n",
       "                                                                              \n",
       "                                                                              \n",
       "──────────────────────────────────────────────────────────────────────────────\n",
       "                                                                              \n",
       "                                                                              \n",
       "                                                   2                          \n",
       "(0.00049976910250947 - D) - 0.000559004470185406⋅y₂  + (0.00049976910250947 - \n",
       "                                                                              \n",
       "                                                                              \n",
       "                                                                              \n",
       "                                                                              \n",
       "                                                                              \n",
       "                                                                              \n",
       "                                                                              \n",
       "                                                                              \n",
       "\n",
       "                                             ⎤\n",
       "                                           y₁⎥\n",
       "───────────────── + 6.18604945527417e-5 - ───⎥\n",
       "                2                         τₑ₁⎥\n",
       "               ⎞                             ⎥\n",
       "               ⎟                             ⎥\n",
       "260327039418e-7⎟                             ⎥\n",
       "               ⎠                             ⎥\n",
       "                                             ⎥\n",
       "                                             ⎥\n",
       "                                           y₂⎥\n",
       "───────────────── - 4.25601349576217e-5 - ───⎥\n",
       "                2                         τₑ₂⎥\n",
       "               ⎞                             ⎥\n",
       "               ⎟                             ⎥\n",
       "260327039418e-7⎟                             ⎥\n",
       "               ⎠                             ⎥\n",
       "                                             ⎥\n",
       "                                             ⎥\n",
       "                               x₁            ⎥\n",
       "─────────────────────────── - ───            ⎥\n",
       "                          2   τₑ₁            ⎥\n",
       "                         ⎞                   ⎥\n",
       "  2                      ⎟                   ⎥\n",
       "D)  - 2.46260327039418e-7⎟                   ⎥\n",
       "                         ⎠                   ⎥\n",
       "                                             ⎥\n",
       "                                             ⎥\n",
       "                               x₂            ⎥\n",
       "─────────────────────────── - ───            ⎥\n",
       "                          2   τₑ₂            ⎥\n",
       "                         ⎞                   ⎥\n",
       "  2                      ⎟                   ⎥\n",
       "D)  - 2.46260327039418e-7⎟                   ⎥\n",
       "                         ⎠                   ⎥\n",
       "                                             ⎥\n",
       "                                             ⎥\n",
       "                                             ⎥\n",
       "                                             ⎥\n",
       "                                             ⎥\n",
       "                                             ⎥\n",
       "                                             ⎦"
      ]
     },
     "execution_count": 48,
     "metadata": {},
     "output_type": "execute_result"
    }
   ],
   "source": [
    "fullflow"
   ]
  },
  {
   "cell_type": "code",
   "execution_count": 30,
   "metadata": {},
   "outputs": [
    {
     "name": "stderr",
     "output_type": "stream",
     "text": [
      "100it [07:46,  4.66s/it]\n"
     ]
    }
   ],
   "source": [
    "# number of d values\n",
    "nsims = int(1e2)\n",
    "# array of roots\n",
    "roots = np.zeros((nsims, len(dyvars)))\n",
    "\n",
    "# this is constant, tau_e = tau_e1 = tau_e2\n",
    "tau_e_val = 1e3\n",
    "\n",
    "# tau_alpha_vals are K * tau_e_val\n",
    "tau_alpha_vals = np.logspace(0, 4, nsims) * tau_e_val\n",
    "\n",
    "from tqdm import tqdm\n",
    "for i, tau_alpha_val in tqdm(enumerate(tau_alpha_vals)):\n",
    "    # tau_a1, tau_a2 from tau_a, as well as tau_e1, tau_e2 set to the tau_e_val\n",
    "    tauvals = list(get_tau_alphas(-tau_alpha_val, masses[0], masses[1], period_ratio=3/2)) + [tau_e_val, tau_e_val]\n",
    "    f=lambda t,x: flow_fn(*x,*tauvals).reshape(-1)\n",
    "    Df = lambda t,x: jac_fn(*x,*tauvals)\n",
    "    soln=solve_ivp(f,(times[0],times[-1]),[0,0,0,0,float(Dval)],method='Radau',t_eval=times,jac=Df)\n",
    "    f=lambda x: flow_fn(*x,*tauvals).reshape(-1)\n",
    "    Df = lambda x: jac_fn(*x,*tauvals)\n",
    "    # record roots\n",
    "    roots[i] = newton_solve(f,Df,soln.y.T[-1])\n",
    "    \n",
    "# for i, D_val in tqdm(enumerate(np.linspace(lb, ub, nds))):\n",
    "#     f=lambda t,x: flow_fn(*x,*tauvals).reshape(-1)\n",
    "#     Df = lambda t,x: jac_fn(*x,*tauvals)\n",
    "#     soln=solve_ivp(f,(times[0],times[-1]),[0,0,0,0,float(D_val)],method='Radau',t_eval=times,jac=Df)\n",
    "#     f=lambda x: flow_fn(*x,*tauvals).reshape(-1)\n",
    "#     Df = lambda x: jac_fn(*x,*tauvals)\n",
    "#     # record roots\n",
    "#     roots[i] =newton_solve(f,Df,soln.y.T[-1])"
   ]
  },
  {
   "cell_type": "code",
   "execution_count": 110,
   "metadata": {},
   "outputs": [
    {
     "data": {
      "text/latex": [
       "$\\displaystyle \\left[ 1.0, \\  1.09749876549305, \\  1.20450354025878, \\  1.32194114846603, \\  1.45082877849594, \\  1.59228279334109, \\  1.74752840000768, \\  1.91791026167248, \\  2.10490414451202, \\  2.31012970008316, \\  2.53536449397011, \\  2.78255940220712, \\  3.05385550883342, \\  3.35160265093884, \\  3.67837977182863, \\  4.03701725859656, \\  4.43062145758388, \\  4.86260158006536, \\  5.33669923120631, \\  5.85702081805667, \\  6.42807311728433, \\  7.05480231071866, \\  7.74263682681128, \\  8.49753435908644, \\  9.32603346883218, \\  10.2353102189903, \\  11.2332403297803, \\  12.3284673944207, \\  13.5304777457981, \\  14.8496826225446, \\  16.2975083462064, \\  17.8864952905743, \\  19.6304065004027, \\  21.5443469003188, \\  23.6448941264541, \\  25.9502421139974, \\  28.480358684358, \\  31.2571584968824, \\  34.3046928631492, \\  37.6493580679247, \\  41.3201240011534, \\  45.3487850812858, \\  49.7702356433211, \\  54.6227721768435, \\  59.9484250318942, \\  65.7933224657568, \\  72.2080901838547, \\  79.2482898353919, \\  86.9749002617785, \\  95.4548456661833, \\  104.761575278967, \\  114.975699539774, \\  126.185688306602, \\  138.488637139387, \\  151.991108295293, \\  166.810053720006, \\  183.073828029538, \\  200.923300256505, \\  220.513073990305, \\  242.012826479438, \\  265.608778294669, \\  291.505306282518, \\  319.926713779738, \\  351.119173421513, \\  385.352859371053, \\  422.924287438949, \\  464.158883361276, \\  509.413801481588, \\  559.081018251223, \\  613.590727341318, \\  673.415065775084, \\  739.072203352578, \\  811.130830789688, \\  890.21508544504, \\  977.009957299224, \\  1072.26722201032, \\  1176.811952435, \\  1291.54966501488, \\  1417.47416292681, \\  1555.67614393047, \\  1707.35264747069, \\  1873.81742286038, \\  2056.51230834865, \\  2257.01971963392, \\  2477.07635599171, \\  2718.58824273294, \\  2983.64724028334, \\  3274.54916287773, \\  3593.81366380463, \\  3944.20605943766, \\  4328.76128108306, \\  4750.81016210279, \\  5214.00828799969, \\  5722.36765935022, \\  6280.29144183425, \\  6892.61210434971, \\  7564.63327554628, \\  8302.17568131976, \\  9111.62756115489, \\  10000.0\\right]$"
      ],
      "text/plain": [
       "[1.0, 1.09749876549305, 1.20450354025878, 1.32194114846603, 1.45082877849594, \n",
       "1.59228279334109, 1.74752840000768, 1.91791026167248, 2.10490414451202, 2.3101\n",
       "2970008316, 2.53536449397011, 2.78255940220712, 3.05385550883342, 3.3516026509\n",
       "3884, 3.67837977182863, 4.03701725859656, 4.43062145758388, 4.86260158006536, \n",
       "5.33669923120631, 5.85702081805667, 6.42807311728433, 7.05480231071866, 7.7426\n",
       "3682681128, 8.49753435908644, 9.32603346883218, 10.2353102189903, 11.233240329\n",
       "7803, 12.3284673944207, 13.5304777457981, 14.8496826225446, 16.2975083462064, \n",
       "17.8864952905743, 19.6304065004027, 21.5443469003188, 23.6448941264541, 25.950\n",
       "2421139974, 28.480358684358, 31.2571584968824, 34.3046928631492, 37.6493580679\n",
       "247, 41.3201240011534, 45.3487850812858, 49.7702356433211, 54.6227721768435, 5\n",
       "9.9484250318942, 65.7933224657568, 72.2080901838547, 79.2482898353919, 86.9749\n",
       "002617785, 95.4548456661833, 104.761575278967, 114.975699539774, 126.185688306\n",
       "602, 138.488637139387, 151.991108295293, 166.810053720006, 183.073828029538, 2\n",
       "00.923300256505, 220.513073990305, 242.012826479438, 265.608778294669, 291.505\n",
       "306282518, 319.926713779738, 351.119173421513, 385.352859371053, 422.924287438\n",
       "949, 464.158883361276, 509.413801481588, 559.081018251223, 613.590727341318, 6\n",
       "73.415065775084, 739.072203352578, 811.130830789688, 890.21508544504, 977.0099\n",
       "57299224, 1072.26722201032, 1176.811952435, 1291.54966501488, 1417.47416292681\n",
       ", 1555.67614393047, 1707.35264747069, 1873.81742286038, 2056.51230834865, 2257\n",
       ".01971963392, 2477.07635599171, 2718.58824273294, 2983.64724028334, 3274.54916\n",
       "287773, 3593.81366380463, 3944.20605943766, 4328.76128108306, 4750.81016210279\n",
       ", 5214.00828799969, 5722.36765935022, 6280.29144183425, 6892.61210434971, 7564\n",
       ".63327554628, 8302.17568131976, 9111.62756115489, 10000.0]"
      ]
     },
     "execution_count": 110,
     "metadata": {},
     "output_type": "execute_result"
    }
   ],
   "source": [
    "# check to see if these match the Ks\n",
    "Ks = [D_to_K(fullflow, root) for root in roots]\n",
    "Ks"
   ]
  },
  {
   "cell_type": "markdown",
   "metadata": {},
   "source": [
    "Get pvars from ham2, the (x, y) Hamiltonian:"
   ]
  },
  {
   "cell_type": "code",
   "execution_count": 32,
   "metadata": {},
   "outputs": [
    {
     "data": {
      "text/latex": [
       "$\\displaystyle \\left( \\left[ \\lambda_{1}, \\  \\eta_{1}, \\  \\rho_{1}, \\  \\lambda_{2}, \\  \\eta_{2}, \\  \\rho_{2}, \\  \\Lambda_{1}, \\  \\kappa_{1}, \\  \\sigma_{1}, \\  \\Lambda_{2}, \\  \\kappa_{2}, \\  \\sigma_{2}\\right], \\  \\left[ \\theta_{1}, \\  \\theta_{2}, \\  \\psi, \\  l, \\  \\phi_{1}, \\  \\phi_{2}, \\  p_{1}, \\  p_{2}, \\  \\Psi, \\  L, \\  \\Phi_{1}, \\  \\Phi_{2}\\right]\\right)$"
      ],
      "text/plain": [
       "([λ₁, η₁, ρ₁, λ₂, η₂, ρ₂, Λ₁, κ₁, σ₁, Λ₂, κ₂, σ₂], [θ₁, θ₂, ψ, l, φ₁, φ₂, p₁, \n",
       "p₂, Ψ, L, Φ₁, Φ₂])"
      ]
     },
     "execution_count": 32,
     "metadata": {},
     "output_type": "execute_result"
    }
   ],
   "source": [
    "ct1.old_qp_vars, ct1.new_qp_vars"
   ]
  },
  {
   "cell_type": "code",
   "execution_count": 33,
   "metadata": {},
   "outputs": [
    {
     "data": {
      "text/latex": [
       "$\\displaystyle \\left[ - 2 \\lambda_{1} + 3 \\lambda_{2} + \\operatorname{atan_{2}}{\\left(\\eta_{1},\\kappa_{1} \\right)}, \\  - 2 \\lambda_{1} + 3 \\lambda_{2} + \\operatorname{atan_{2}}{\\left(\\eta_{2},\\kappa_{2} \\right)}, \\  \\lambda_{1} - \\lambda_{2}, \\  - 2 \\lambda_{1} + 3 \\lambda_{2}, \\  \\operatorname{atan_{2}}{\\left(\\rho_{1},\\sigma_{1} \\right)}, \\  \\operatorname{atan_{2}}{\\left(\\rho_{2},\\sigma_{2} \\right)}, \\  \\frac{\\eta_{1}^{2}}{2} + \\frac{\\kappa_{1}^{2}}{2}, \\  \\frac{\\eta_{2}^{2}}{2} + \\frac{\\kappa_{2}^{2}}{2}, \\  3 \\Lambda_{1} + 2 \\Lambda_{2}, \\  \\Lambda_{1} + \\Lambda_{2} - \\frac{\\eta_{1}^{2}}{2} - \\frac{\\eta_{2}^{2}}{2} - \\frac{\\kappa_{1}^{2}}{2} - \\frac{\\kappa_{2}^{2}}{2}, \\  \\frac{\\rho_{1}^{2}}{2} + \\frac{\\sigma_{1}^{2}}{2}, \\  \\frac{\\rho_{2}^{2}}{2} + \\frac{\\sigma_{2}^{2}}{2}\\right]$"
      ],
      "text/plain": [
       "⎡                                                                             \n",
       "⎢                                                                             \n",
       "⎢-2⋅λ₁ + 3⋅λ₂ + atan2(η₁, κ₁), -2⋅λ₁ + 3⋅λ₂ + atan2(η₂, κ₂), λ₁ - λ₂, -2⋅λ₁ + \n",
       "⎣                                                                             \n",
       "\n",
       "                                      2     2    2     2                      \n",
       "                                    η₁    κ₁   η₂    κ₂                       \n",
       "3⋅λ₂, atan2(ρ₁, σ₁), atan2(ρ₂, σ₂), ─── + ───, ─── + ───, 3⋅Λ₁ + 2⋅Λ₂, Λ₁ + Λ₂\n",
       "                                     2     2    2     2                       \n",
       "\n",
       "     2     2     2     2    2     2    2     2⎤\n",
       "   η₁    η₂    κ₁    κ₂   ρ₁    σ₁   ρ₂    σ₂ ⎥\n",
       " - ─── - ─── - ─── - ───, ─── + ───, ─── + ───⎥\n",
       "    2     2     2     2    2     2    2     2 ⎦"
      ]
     },
     "execution_count": 33,
     "metadata": {},
     "output_type": "execute_result"
    }
   ],
   "source": [
    "[ct1.new_to_old(var) for var in ct1.new_qp_vars]"
   ]
  },
  {
   "cell_type": "code",
   "execution_count": 34,
   "metadata": {},
   "outputs": [
    {
     "data": {
      "text/latex": [
       "$\\displaystyle \\left( \\left[ -1.83873508689674 \\cdot 10^{-11}, \\  1.18801311147697 \\cdot 10^{-11}, \\  -5.2831604335779 \\cdot 10^{-7}, \\  1.58494813007337 \\cdot 10^{-6}, \\  0.0, \\  0.0, \\  -1.16012319385367 \\cdot 10^{-5}, \\  7.49559615822238 \\cdot 10^{-6}, \\  0.00111800894037081, \\  0.000499931689689205, \\  0.0, \\  0.0\\right], \\  \\left[ y_{1}, \\  y_{2}, \\  \\psi, \\  l, \\  \\phi_{1}, \\  \\phi_{2}, \\  x_{1}, \\  x_{2}, \\  \\Psi, \\  L, \\  \\Phi_{1}, \\  \\Phi_{2}\\right]\\right)$"
      ],
      "text/plain": [
       "([-1.8387350868967372e-11, 1.1880131114769659e-11, -5.283160433577905e-07, 1.5\n",
       "849481300733714e-06, -0.0, -0.0, -1.1601231938536712e-05, 7.495596158222382e-0\n",
       "6, 0.001118008940370812, 0.0004999316896892047, 0.0, 0.0], [y₁, y₂, ψ, l, φ₁, \n",
       "φ₂, x₁, x₂, Ψ, L, Φ₁, Φ₂])"
      ]
     },
     "execution_count": 34,
     "metadata": {},
     "output_type": "execute_result"
    }
   ],
   "source": [
    "ham2.full_values, ham2.full_qp_vars"
   ]
  },
  {
   "cell_type": "code",
   "execution_count": 35,
   "metadata": {},
   "outputs": [],
   "source": [
    "e_inner, e_outer = np.zeros(len(roots)), np.zeros(len(roots))\n",
    "\n",
    "# make a sim to get pvars from:\n",
    "sim2 = get_simple_sim(masses, integrator = 'ias15')\n",
    "pvars2 = cm.Poincare.from_Simulation(sim)\n",
    "\n",
    "# indices of dynamical variables y1, y2, x1, x2\n",
    "indices = np.array([ct_all.new_qp_vars.index(v) for v in ham2.qp_vars])\n",
    "# transofmring pvarsfrom old to new values\n",
    "y0 = ct_all.old_to_new_array(pvars2.values)\n",
    "    \n",
    "for i, val in enumerate(roots):\n",
    "    # for each value, take the 4 dynamical variables y1, y2, x1, and x2 (not including D) and set those as our y0 values\n",
    "    y0[indices] = val[0:4]\n",
    "    # then transform all the way from new y, x to old eta, kappa, and then making them pvars\n",
    "    pvars2.values = ct_all.new_to_old_array(y0)\n",
    "    # now record the eccentricities\n",
    "    e_inner[i] = pvars2.particles[1].e\n",
    "    e_outer[i] = pvars2.particles[2].e"
   ]
  },
  {
   "cell_type": "code",
   "execution_count": 36,
   "metadata": {},
   "outputs": [
    {
     "data": {
      "text/plain": [
       "(array([0.56714002, 0.53257449, 0.50101071, 0.47205956, 0.44539749,\n",
       "        0.42075431, 0.3979031 , 0.37665196, 0.35683755, 0.33831987,\n",
       "        0.32097814, 0.3047075 , 0.28941638, 0.27502434, 0.26146031,\n",
       "        0.24866124, 0.23657084, 0.22513869, 0.2143194 , 0.20407194,\n",
       "        0.19435911, 0.18514699, 0.17640463, 0.16810365, 0.16021794,\n",
       "        0.15272346, 0.14559795, 0.13882082, 0.13237292, 0.12623644,\n",
       "        0.12039475, 0.11483235, 0.10953468, 0.10448814, 0.09967994,\n",
       "        0.09509805, 0.09073116, 0.08656861, 0.08260032, 0.07881682,\n",
       "        0.0752091 , 0.07176869, 0.06848753, 0.06535802, 0.06237293,\n",
       "        0.05952541, 0.05680895, 0.05421739, 0.05174487, 0.0493858 ,\n",
       "        0.04713489, 0.04498711, 0.04293766, 0.04098197, 0.03911571,\n",
       "        0.03733473, 0.03563511, 0.0340131 , 0.03246511, 0.03098774,\n",
       "        0.02957776, 0.02823206, 0.0269477 , 0.02572187, 0.02455189,\n",
       "        0.0234352 , 0.02236937, 0.02135207, 0.02038108, 0.01945429,\n",
       "        0.01856968, 0.01772533, 0.01691939, 0.01615013, 0.01541586,\n",
       "        0.014715  , 0.01404601, 0.01340746, 0.01279794, 0.01221615,\n",
       "        0.01166081, 0.01113073, 0.01062475, 0.01014177, 0.00968076,\n",
       "        0.00924071, 0.00882066, 0.00841971, 0.00803699, 0.00767167,\n",
       "        0.00732296, 0.0069901 , 0.00667237, 0.00636909, 0.00607959,\n",
       "        0.00580325, 0.00553947, 0.00528769, 0.00504735, 0.00481793]),\n",
       " array([0.17066702, 0.16395743, 0.15743331, 0.15109869, 0.14495631,\n",
       "        0.1390078 , 0.13325373, 0.12769372, 0.1223266 , 0.11715045,\n",
       "        0.11216273, 0.10736036, 0.10273981, 0.09829714, 0.09402815,\n",
       "        0.08992835, 0.08599308, 0.08221753, 0.07859681, 0.07512594,\n",
       "        0.07179996, 0.06861388, 0.06556275, 0.06264169, 0.05984587,\n",
       "        0.05717054, 0.05461107, 0.05216291, 0.04982166, 0.047583  ,\n",
       "        0.04544277, 0.04339691, 0.04144151, 0.03957278, 0.03778707,\n",
       "        0.03608085, 0.03445072, 0.03289341, 0.03140578, 0.0299848 ,\n",
       "        0.02862757, 0.0273313 , 0.02609331, 0.02491103, 0.02378201,\n",
       "        0.02270389, 0.0216744 , 0.02069139, 0.01975278, 0.0188566 ,\n",
       "        0.01800093, 0.01718398, 0.016404  , 0.01565933, 0.01494839,\n",
       "        0.01426966, 0.01362169, 0.01300309, 0.01241254, 0.01184877,\n",
       "        0.01131057, 0.01079679, 0.01030632, 0.00983811, 0.00939115,\n",
       "        0.00896448, 0.00855718, 0.00816838, 0.00779723, 0.00744293,\n",
       "        0.00710472, 0.00678188, 0.00647369, 0.00617951, 0.00589869,\n",
       "        0.00563063, 0.00537475, 0.00513049, 0.00489733, 0.00467476,\n",
       "        0.00446231, 0.00425951, 0.00406592, 0.00388113, 0.00370474,\n",
       "        0.00353637, 0.00337564, 0.00322222, 0.00307578, 0.00293598,\n",
       "        0.00280254, 0.00267517, 0.00255358, 0.00243752, 0.00232673,\n",
       "        0.00222098, 0.00212004, 0.00202368, 0.0019317 , 0.00184391]))"
      ]
     },
     "execution_count": 36,
     "metadata": {},
     "output_type": "execute_result"
    }
   ],
   "source": [
    "e_inner, e_outer  # Ks increase from 1 to 1000 from the beginning to the end of the array"
   ]
  },
  {
   "cell_type": "code",
   "execution_count": 37,
   "metadata": {},
   "outputs": [],
   "source": [
    "nsims = 100\n",
    "Ks_orig = np.logspace(0, 5, nsims)\n",
    "ecc_sims_location = 'hd_max_mass'  # folder that the ecc sims are in\n",
    "\n",
    "e1_track_orig, e2_track_orig = np.zeros(len(Ks_orig)), np.zeros(len(Ks_orig))\n",
    "\n",
    "for i in range(0, len(Ks_orig)):\n",
    "    ecc_sim = rb.Simulation(f'{ecc_sims_location}/ecc_track_archive_cluster_{i}.bin')  # get the ith eccentricity simulation from the ecc sims folder\n",
    "    inner = ecc_sim.particles[1]\n",
    "    outer = ecc_sim.particles[2]\n",
    "    \n",
    "    e1_track_orig[i] = inner.e  # add the e1/e2 values for that simulation\n",
    "    e2_track_orig[i] = outer.e\n",
    "    \n",
    "# 10^1 to 10^2.5\n",
    "\n",
    "Ks_1025 = np.logspace(1, 2.5, nsims)\n",
    "ecc_sims_location_1025 = 'hd_eccentricity'  # folder that the ecc sims are in\n",
    "\n",
    "e1_track_1025, e2_track_1025 = np.zeros(len(Ks_1025)), np.zeros(len(Ks_1025))\n",
    "\n",
    "for i in range(0, len(Ks_1025)):\n",
    "    ecc_sim_1025 = rb.Simulation(f'{ecc_sims_location_1025}/ecc_track_archive_cluster_101_1025_{i}.bin')  # get the ith eccentricity simulation from the ecc sims folder\n",
    "    # print(ecc_sim_1025)\n",
    "    inner = ecc_sim_1025.particles[1]\n",
    "    outer = ecc_sim_1025.particles[2]\n",
    "    e1_track_1025[i] = inner.e  # add the e1/e2 values for that simulation\n",
    "    e2_track_1025[i] = outer.e\n",
    "\n",
    "# 10^0 to 10^1\n",
    "    \n",
    "Ks_101 = np.logspace(0, 1, nsims)\n",
    "ecc_sims_location_101 = 'hd_eccentricity'  # folder that the ecc sims are in\n",
    "\n",
    "e1_track_101, e2_track_101 = np.zeros(len(Ks_101)), np.zeros(len(Ks_101))\n",
    "\n",
    "for i in range(0, len(Ks_101)):\n",
    "    ecc_sim_101 = rb.Simulation(f'{ecc_sims_location_101}/ecc_track_archive_cluster_100_101_{i}.bin')  # get the ith eccentricity simulation from the ecc sims folder\n",
    "    # print(ecc_sim_1025)\n",
    "    inner = ecc_sim_101.particles[1]\n",
    "    outer = ecc_sim_101.particles[2]\n",
    "    e1_track_101[i] = inner.e  # add the e1/e2 values for that simulation\n",
    "    e2_track_101[i] = outer.e\n",
    "\n",
    "Ks, e1_track, e2_track = np.concatenate((Ks_orig, Ks_1025, Ks_101)), np.concatenate((e1_track_orig, e1_track_1025, e1_track_101)), np.concatenate((e2_track_orig, e2_track_1025, e2_track_101))"
   ]
  },
  {
   "cell_type": "code",
   "execution_count": 46,
   "metadata": {},
   "outputs": [
    {
     "data": {
      "image/png": "[encoded data removed]",
      "text/plain": [
       "<Figure size 864x576 with 1 Axes>"
      ]
     },
     "metadata": {
      "needs_background": "light"
     },
     "output_type": "display_data"
    }
   ],
   "source": [
    "fig = plt.figure(figsize = (12, 8))\n",
    "ax = fig.add_subplot(111)\n",
    "plt.rc('font', size=18)  # fontsize larger\n",
    "# 10^5 annotation\n",
    "# ax.annotate(fr'$K = 10^5$', xy=(np.delete(e1_track, [1, 2])[np.where(np.delete(Ks, [1, 2]) == 10 ** 5)][0], \n",
    "#                                 np.delete(e2_track, [1, 2])[np.where(np.delete(Ks, [1, 2]) == 10 ** 5)][0]), xycoords='data', \n",
    "#             textcoords='axes fraction', xytext=(0.1, 0.3), arrowprops=dict(facecolor='red', shrink=0.01), color ='red')\n",
    "# 10^0 = 1 annotation\n",
    "# ax.annotate(fr'$K = 1$', xy=(np.delete(e1_track, [1, 2])[np.where(np.delete(Ks, [1, 2]) == 1)][0], \n",
    "#                              np.delete(e2_track, [1, 2])[np.where(np.delete(Ks, [1, 2]) == 1)][0]), xycoords='data', \n",
    "#             textcoords='axes fraction', xytext=(0.5, 0.95), arrowprops=dict(facecolor='red', shrink=0.01), color ='red')\n",
    "# pl.scatter(e1_track, e2_track)\n",
    "plt.scatter(np.delete(e1_track, [1, 2]), np.delete(e2_track, [1, 2]), label = 'rebound')\n",
    "plt.xlabel(r'$e_{inner}$'), plt.ylabel(r'$e_{outer}$')\n",
    "# pl.savefig('ecc_track.png', fmt='png')\n",
    "plt.scatter(e_inner, e_outer, label = 'root finding')\n",
    "plt.xlim(0, 0.1), plt.ylim(0, 0.06)\n",
    "plt.legend()\n",
    "# plt.savefig('order_1.png', fmt='png')\n",
    "plt.show()"
   ]
  },
  {
   "cell_type": "markdown",
   "metadata": {},
   "source": [
    "Compares favourably to `rebound` at low eccentricity values:"
   ]
  },
  {
   "cell_type": "markdown",
   "metadata": {},
   "source": [
    "## Converting posterior distributions to D values:"
   ]
  },
  {
   "cell_type": "markdown",
   "metadata": {},
   "source": [
    "First import hd data:"
   ]
  },
  {
   "cell_type": "code",
   "execution_count": 83,
   "metadata": {},
   "outputs": [],
   "source": [
    "hd_data = pd.read_csv('hd45364_rvs.csv', sep = ';')\n",
    "hd_data.BJD -= 2.4e6"
   ]
  },
  {
   "cell_type": "markdown",
   "metadata": {},
   "source": [
    "Convert posterior distributions to get a distribution of D values:"
   ]
  },
  {
   "cell_type": "code",
   "execution_count": 62,
   "metadata": {},
   "outputs": [],
   "source": [
    "cluster_data = h5py.File('hd_mcmc_cluster.h5', 'r')  # import the posterior distribution data from the cluster\n",
    "accepted, samples, log_prob = np.array(cluster_data['mcmc']['accepted']), np.array(cluster_data['mcmc']['chain']), np.array(cluster_data['mcmc']['log_prob'])"
   ]
  },
  {
   "cell_type": "markdown",
   "metadata": {},
   "source": [
    "Reshape the samples and discard some number of burn-in samples:"
   ]
  },
  {
   "cell_type": "code",
   "execution_count": 70,
   "metadata": {},
   "outputs": [],
   "source": [
    "n_burn_in = 200  # discard the first 200 samples as burn-in time\n",
    "# reshape the chain to flatten it out\n",
    "flat_samples = samples[n_burn_in:].reshape(-1, samples[n_burn_in:].shape[-1])"
   ]
  },
  {
   "cell_type": "markdown",
   "metadata": {},
   "source": [
    "Test with downsampled posterior:"
   ]
  },
  {
   "cell_type": "code",
   "execution_count": 127,
   "metadata": {},
   "outputs": [
    {
     "data": {
      "text/latex": [
       "$\\displaystyle \\left( \\left( 2490000, \\  11\\right), \\  \\left( 2490, \\  11\\right)\\right)$"
      ],
      "text/plain": [
       "((2490000, 11), (2490, 11))"
      ]
     },
     "execution_count": 127,
     "metadata": {},
     "output_type": "execute_result"
    }
   ],
   "source": [
    "downsampled_flat_samples = flat_samples[::1000]\n",
    "# 10 times fewer samples in the downsampling\n",
    "flat_samples.shape, downsampled_flat_samples.shape"
   ]
  },
  {
   "cell_type": "code",
   "execution_count": 128,
   "metadata": {},
   "outputs": [
    {
     "data": {
      "text/plain": [
       "(array([9, 8]), array([0, 1, 6, 7]))"
      ]
     },
     "execution_count": 128,
     "metadata": {},
     "output_type": "execute_result"
    }
   ],
   "source": [
    "L_Psi_indices = np.array([ct_all.new_qp_vars.index(v) for v in [L, Psi]])\n",
    "xy_indices = np.array([ct_all.new_qp_vars.index(v) for v in [y1, y2, x1, x2]])\n",
    "\n",
    "L_Psi_indices, xy_indices"
   ]
  },
  {
   "cell_type": "markdown",
   "metadata": {},
   "source": [
    "Try with the first flat sample:"
   ]
  },
  {
   "cell_type": "code",
   "execution_count": 129,
   "metadata": {},
   "outputs": [
    {
     "data": {
      "text/latex": [
       "$\\displaystyle 2.92225096421604$"
      ],
      "text/plain": [
       "2.92225096421604"
      ]
     },
     "execution_count": 129,
     "metadata": {},
     "output_type": "execute_result"
    }
   ],
   "source": [
    "test_sim = get_sim_from_params(flat_samples[0], inclination = np.pi/2, integrator = 'ias15', time_base = np.median(hd_data.BJD))\n",
    "inner_mass = test_sim.particles[1].m\n",
    "outer_mass = test_sim.particles[2].m\n",
    "\n",
    "test_pvars = cm.Poincare.from_Simulation(test_sim)\n",
    "test_rho_val = (inner_mass/outer_mass) * (2/3)**(1/3) \n",
    "\n",
    "test_L_Psi_vals = ct_all.old_to_new_array(test_pvars.values)[L_Psi_indices]  # values of L and Psi in that order\n",
    "test_xy_vals = ct_all.old_to_new_array(test_pvars.values)[xy_indices]  # values y1, y2, x1, x2 in that order\n",
    "\n",
    "test_D_val = D_exprn.subs(zip([L, Psi], L_Psi_vals)).subs(rho, test_rho_val)  # use L and Psi to compute the D value\n",
    "\n",
    "# pass root using parameters [y1, y2, x1, x2, D]\n",
    "test_root = np.append(test_xy_vals, test_D_val)\n",
    "\n",
    "D_to_K(fullflow, test_root)"
   ]
  },
  {
   "cell_type": "code",
   "execution_count": 144,
   "metadata": {},
   "outputs": [
    {
     "data": {
      "text/latex": [
       "$\\displaystyle - L + \\frac{\\Psi \\left(\\rho + 1\\right)}{3 \\rho + 2}$"
      ],
      "text/plain": [
       "     Ψ⋅(ρ + 1)\n",
       "-L + ─────────\n",
       "      3⋅ρ + 2 "
      ]
     },
     "execution_count": 144,
     "metadata": {},
     "output_type": "execute_result"
    }
   ],
   "source": [
    "D_exprn"
   ]
  },
  {
   "cell_type": "markdown",
   "metadata": {},
   "source": [
    "D-value for each downsampled sample:"
   ]
  },
  {
   "cell_type": "code",
   "execution_count": 130,
   "metadata": {},
   "outputs": [
    {
     "data": {
      "text/plain": [
       "(array([9, 8]), array([0, 1, 6, 7]))"
      ]
     },
     "execution_count": 130,
     "metadata": {},
     "output_type": "execute_result"
    }
   ],
   "source": [
    "# indices of [L, Psi] as well as [y1, y2, x1, x2] in the ct_all canonical transformation new qp vars object\n",
    "\n",
    "L_Psi_indices = np.array([ct_all.new_qp_vars.index(v) for v in [L, Psi]])\n",
    "xy_indices = np.array([ct_all.new_qp_vars.index(v) for v in [y1, y2, x1, x2]])\n",
    "\n",
    "L_Psi_indices, xy_indices"
   ]
  },
  {
   "cell_type": "code",
   "execution_count": 140,
   "metadata": {},
   "outputs": [
    {
     "name": "stderr",
     "output_type": "stream",
     "text": [
      "2490it [04:36,  9.00it/s]\n"
     ]
    }
   ],
   "source": [
    "D_values = np.zeros(len(downsampled_flat_samples))\n",
    "K_values = np.zeros(len(downsampled_flat_samples))\n",
    "\n",
    "for i, sample in tqdm(enumerate(downsampled_flat_samples)):\n",
    "    # get rebound simulation from sample:\n",
    "    samp_sim = get_sim_from_params(sample, inclination=np.pi/2, integrator='ias15', time_base=np.median(hd_data.BJD))\n",
    "    # masses of inner, outer planets:\n",
    "    inner_mass = samp_sim.particles[1].m\n",
    "    outer_mass = samp_sim.particles[2].m\n",
    "    # convert to pvars\n",
    "    samp_pvars = cm.Poincare.from_Simulation(samp_sim)\n",
    "    # compute rho value using the equation above:\n",
    "    samp_rho_val = (inner_mass/outer_mass) * ((2/3) ** (1/3))\n",
    "    # get L and Psi values, as well as x and y values, by transforming from samp_pvars (eta, kappa) -> (y, x)\n",
    "    samp_L_Psi_vals = ct_all.old_to_new_array(samp_pvars.values)[L_Psi_indices]  # values of L and Psi in that order\n",
    "    samp_xy_vals = ct_all.old_to_new_array(samp_pvars.values)[xy_indices]  # values y1, y2, x1, x2 in that order\n",
    "    # get D value using L and Psi, as well as the rho value computed earlier, from the D_exprn expression\n",
    "    samp_D_val = D_exprn.subs(zip([L, Psi], samp_L_Psi_vals)).subs(rho, samp_rho_val)  # use L and Psi to compute the D value\n",
    "    # parameterize root as [y1, y2, x1, x2, D]\n",
    "    samp_root = np.append(samp_xy_vals, samp_D_val)\n",
    "    # finally, convert from D to K using the D_to_K function:\n",
    "    D_values[i] = samp_D_val  # record sample D value as well as K value from D\n",
    "    K_values[i] = D_to_K(fullflow, samp_root)  # use the fullflow function from earlier since that doesn't change (two planets and only considering 1st order terms)\n",
    "    "
   ]
  },
  {
   "cell_type": "code",
   "execution_count": 143,
   "metadata": {},
   "outputs": [
    {
     "data": {
      "text/plain": [
       "(array([ 98., 596., 789., 513., 277., 139.,  50.,  14.,  10.,   4.]),\n",
       " array([2.59053692e-06, 3.40752068e-06, 4.22450444e-06, 5.04148820e-06,\n",
       "        5.85847196e-06, 6.67545572e-06, 7.49243949e-06, 8.30942325e-06,\n",
       "        9.12640701e-06, 9.94339077e-06, 1.07603745e-05]),\n",
       " <BarContainer object of 10 artists>)"
      ]
     },
     "execution_count": 143,
     "metadata": {},
     "output_type": "execute_result"
    },
    {
     "data": {
      "image/png": "[encoded data removed]",
      "text/plain": [
       "<Figure size 432x288 with 1 Axes>"
      ]
     },
     "metadata": {
      "needs_background": "light"
     },
     "output_type": "display_data"
    }
   ],
   "source": [
    "plt.hist(D_values)"
   ]
  },
  {
   "cell_type": "code",
   "execution_count": 142,
   "metadata": {},
   "outputs": [
    {
     "data": {
      "image/png": "[encoded data removed]",
      "text/plain": [
       "<Figure size 864x576 with 1 Axes>"
      ]
     },
     "metadata": {
      "needs_background": "light"
     },
     "output_type": "display_data"
    }
   ],
   "source": [
    "plt.figure(figsize = (12, 8))\n",
    "plt.hist(K_values)\n",
    "plt.xlabel('K'), plt.ylabel('number')\n",
    "plt.show()"
   ]
  },
  {
   "cell_type": "markdown",
   "metadata": {},
   "source": [
    "Test with known $K$:"
   ]
  },
  {
   "cell_type": "code",
   "execution_count": 173,
   "metadata": {},
   "outputs": [
    {
     "data": {
      "text/latex": [
       "$\\displaystyle 10974.9876549306$"
      ],
      "text/plain": [
       "10974.987654930568"
      ]
     },
     "execution_count": 173,
     "metadata": {},
     "output_type": "execute_result"
    }
   ],
   "source": [
    "Ks_orig[80]"
   ]
  },
  {
   "cell_type": "code",
   "execution_count": 174,
   "metadata": {},
   "outputs": [
    {
     "data": {
      "text/latex": [
       "$\\displaystyle 1657.31414258123$"
      ],
      "text/plain": [
       "1657.31414258123"
      ]
     },
     "execution_count": 174,
     "metadata": {},
     "output_type": "execute_result"
    }
   ],
   "source": [
    "test_sim = rb.Simulation(f'{ecc_sims_location}/ecc_track_archive_cluster_{80}.bin')\n",
    "# test_sim = get_sim_from_params(flat_samples[0], inclination = np.pi/2, integrator = 'ias15', time_base = np.median(hd_data.BJD))\n",
    "inner_mass = test_sim.particles[1].m\n",
    "outer_mass = test_sim.particles[2].m\n",
    "\n",
    "test_pvars = cm.Poincare.from_Simulation(test_sim)\n",
    "test_rho_val = (inner_mass/outer_mass) * (2/3)**(1/3) \n",
    "\n",
    "test_L_Psi_vals = ct_all.old_to_new_array(test_pvars.values)[L_Psi_indices]  # values of L and Psi in that order\n",
    "test_xy_vals = ct_all.old_to_new_array(test_pvars.values)[xy_indices]  # values y1, y2, x1, x2 in that order\n",
    "\n",
    "test_D_val = D_exprn.subs(zip([L, Psi], L_Psi_vals)).subs(rho, test_rho_val)  # use L and Psi to compute the D value\n",
    "\n",
    "# pass root using parameters [y1, y2, x1, x2, D]\n",
    "test_root = np.append(test_xy_vals, test_D_val)\n",
    "\n",
    "D_to_K(fullflow, test_root)"
   ]
  },
  {
   "cell_type": "code",
   "execution_count": 175,
   "metadata": {},
   "outputs": [],
   "source": [
    "Ks = np.zeros(len(Ks_orig))\n",
    "\n",
    "for i in range(0, len(Ks_orig)):\n",
    "    test_sim = rb.Simulation(f'{ecc_sims_location}/ecc_track_archive_cluster_{i}.bin')  # get the ith eccentricity simulation from the ecc sims folder\n",
    "    \n",
    "    inner_mass = test_sim.particles[1].m\n",
    "    outer_mass = test_sim.particles[2].m\n",
    "\n",
    "    test_pvars = cm.Poincare.from_Simulation(test_sim)\n",
    "    test_rho_val = (inner_mass/outer_mass) * (2/3)**(1/3) \n",
    "\n",
    "    test_L_Psi_vals = ct_all.old_to_new_array(test_pvars.values)[L_Psi_indices]  # values of L and Psi in that order\n",
    "    test_xy_vals = ct_all.old_to_new_array(test_pvars.values)[xy_indices]  # values y1, y2, x1, x2 in that order\n",
    "\n",
    "    test_D_val = D_exprn.subs(zip([L, Psi], L_Psi_vals)).subs(rho, test_rho_val)  # use L and Psi to compute the D value\n",
    "\n",
    "    # pass root using parameters [y1, y2, x1, x2, D]\n",
    "    test_root = np.append(test_xy_vals, test_D_val)\n",
    "\n",
    "    Ks[i] = D_to_K(fullflow, test_root)"
   ]
  },
  {
   "cell_type": "code",
   "execution_count": 188,
   "metadata": {},
   "outputs": [
    {
     "data": {
      "text/plain": [
       "(None, None)"
      ]
     },
     "execution_count": 188,
     "metadata": {},
     "output_type": "execute_result"
    },
    {
     "data": {
      "image/png": "[encoded data removed]",
      "text/plain": [
       "<Figure size 864x576 with 1 Axes>"
      ]
     },
     "metadata": {
      "needs_background": "light"
     },
     "output_type": "display_data"
    }
   ],
   "source": [
    "plt.figure(figsize = (12, 8))\n",
    "plt.scatter(Ks_orig, Ks)\n",
    "plt.scatter(Ks_orig, Ks_orig)\n",
    "plt.xscale('log'), plt.yscale('log')"
   ]
  },
  {
   "cell_type": "code",
   "execution_count": null,
   "metadata": {},
   "outputs": [],
   "source": []
  }
 ],
 "metadata": {
  "kernelspec": {
   "display_name": "Python 3",
   "language": "python",
   "name": "python3"
  },
  "language_info": {
   "codemirror_mode": {
    "name": "ipython",
    "version": 3
   },
   "file_extension": ".py",
   "mimetype": "text/x-python",
   "name": "python",
   "nbconvert_exporter": "python",
   "pygments_lexer": "ipython3",
   "version": "3.8.10"
  }
 },
 "nbformat": 4,
 "nbformat_minor": 5
}
