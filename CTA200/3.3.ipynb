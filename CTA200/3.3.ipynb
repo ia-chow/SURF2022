{
 "cells": [
  {
   "cell_type": "code",
   "execution_count": 1,
   "metadata": {},
   "outputs": [],
   "source": [
    "import rebound as rb\n",
    "import celmech as cm\n",
    "import scipy\n",
    "import numpy as np\n",
    "import matplotlib.pyplot as plt\n",
    "import radvel\n",
    "import pandas as pd\n",
    "import reboundx\n",
    "\n",
    "# make font bigger\n",
    "plt.rc('font', size=16)"
   ]
  },
  {
   "cell_type": "code",
   "execution_count": 2,
   "metadata": {},
   "outputs": [],
   "source": [
    "hd_data = pd.read_csv('hd45364_rvs.csv', sep =';')\n",
    "hd_data.BJD -= 2.4e6"
   ]
  },
  {
   "cell_type": "code",
   "execution_count": 3,
   "metadata": {},
   "outputs": [],
   "source": [
    "#Least squares fit: \n",
    "fit_params = [ 2.28513053e+02, 7.27743508e+00, 5.39371890e+04, -1.78110513e-01, \n",
    "              -4.66450116e-02, 3.43378023e+02, 1.78603199e+01, 5.40186750e+04,\n",
    "               1.32165040e-01, 9.73129308e-02, -5.29039776e-01] \n",
    "\n",
    "# star mass, g and auday to m/s conversion factor\n",
    "STAR_MASS = 920  # 920 jupiter masses\n",
    "G = 2.825e-7  # converting G to jupiter masses, au, and days\n",
    "AUDAY_MS = 1.731e6  # conversion factor for au/day to m/s\n",
    "\n",
    "def mass_to_semiamp(planet_mass, star_mass, period, eccentricity, inclination):\n",
    "    \"\"\"\n",
    "    planet mass (jupiter masses) to semi amplitude\n",
    "    \"\"\"\n",
    "    return ((2 * np.pi * G/period) ** (1/3) * (planet_mass * np.sin(inclination) / star_mass ** (2/3)) * (1/np.sqrt(1 - eccentricity ** 2)))\n",
    "\n",
    "def semiamp_to_mass(semiamp, star_mass, period, eccentricity, inclination):\n",
    "    \"\"\"\n",
    "    semi amplitude to planet mass (jupiter masses)\n",
    "    \"\"\"\n",
    "    return (((2 * np.pi * G/period) ** (-1/3)) * (semiamp / np.sin(inclination)) * np.sqrt(1 - eccentricity ** 2) * (star_mass ** (2/3)))\n",
    "\n",
    "\n",
    "def get_sim_from_params(params, inclination, integrator, time_base, star_mass = STAR_MASS, auday_ms = AUDAY_MS):\n",
    "    \"\"\"\n",
    "    takes in params array, returns a rebound Simulation object with those parameters\n",
    "    \n",
    "    param params: numpy array of params:\n",
    "    \n",
    "    for i in range(0, num_planets):\n",
    "    \n",
    "    params[i + 0] is period\n",
    "    params[i + 1] is semiamp\n",
    "    params[i + 2] is tc (time of conjunction)\n",
    "    params[i + 3] is sqrt(e) * cos(omega)\n",
    "    params[i + 4] is sqrt(e) * sin(omega)\n",
    "    \n",
    "    params[5 * num_planets] is rv offset\n",
    "    params[5 * num_planets + 1] is jit\n",
    "    \n",
    "    param inclination: inclination of system in the observation plane (pi/2 is in the plane of the sky, 0 is edge-on)\n",
    "    param integrator: integrator to use, one of 'whfast' or 'ias15'\n",
    "    param time_base: base time (to begin integration from) in the simulation\n",
    "    \"\"\"\n",
    "    \n",
    "    num_planets = int((len(params) - 1) / 5) # -2 because there are rv_offset and jit parameters:\n",
    "    \n",
    "    sim = rb.Simulation()\n",
    "    sim.integrator = integrator\n",
    "    sim.t = time_base  # keplerian and n-body models initialized at the same time offset\n",
    "    # print(sim.t)\n",
    "    if integrator == 'whfast':  # if using whfast integrator, set timestep\n",
    "        sim.dt = 1/50 * min(params[0::5][:-1])  # timestep is 1/20th of the shortest orbital period of any planet\n",
    "        # print(sim.dt)\n",
    "    sim.units = ('AU', 'Mjupiter', 'day')\n",
    "\n",
    "    sim.add(m = star_mass)  # star mass as a constant\n",
    "        \n",
    "    for i in range (0, num_planets):\n",
    "        # print(i)\n",
    "        # planet parameters\n",
    "        period = params[5*i]  # in days\n",
    "        semiamp = params[5*i + 1] / auday_ms # divide by auday_ms because semiamp given in m/s\n",
    "        eccentricity = params[5*i + 3] ** 2 + params[5*i + 4] ** 2  # eccentricity from secos, sesin\n",
    "        omega = np.arctan2(params[5*i + 3], params[5*i + 4])  # omega from arctan of sesin, secos\n",
    "        # get tp by converting from tc\n",
    "        tp = radvel.orbit.timetrans_to_timeperi(params[5*i + 2], per = period, ecc = eccentricity, omega = omega)\n",
    "        \n",
    "        # mass\n",
    "        mass = semiamp_to_mass(semiamp = semiamp, star_mass = star_mass, period = period, eccentricity = eccentricity, inclination = inclination)\n",
    "        \n",
    "        # adding to simulation\n",
    "        sim.add(m = mass, P = period, e = eccentricity, T = tp, omega = omega, inc = inclination)\n",
    "        \n",
    "    sim.move_to_com()  # move to center of mass\n",
    "    \n",
    "    return sim\n",
    "\n",
    "def get_simple_sim(masses, integrator = 'ias15', period_ratio = 3/2, epsilon=0.01):\n",
    "    \"\"\"\n",
    "    gets simple sim (for eccentricity track stuff)\n",
    "    param masses: array of planet masses\n",
    "    param integrator: integrator\n",
    "    param epsilon: amount by which the resonant period ratio should be offset from the equilibrium in the simulation\n",
    "    \"\"\"\n",
    "    sim = rb.Simulation()\n",
    "    sim.integrator = integrator\n",
    "    # central star\n",
    "    sim.add(m = 1)\n",
    "    \n",
    "    sim.add(m = masses[0], P = 1)\n",
    "    sim.add(m = masses[1], P = period_ratio * (1 + epsilon))\n",
    "\n",
    "    sim.move_to_com()\n",
    "    if integrator == 'whfast':\n",
    "        sim.dt = 1/50 * 1  # dy default use 1/50th of the inner planet's orbital period for the timestep if using whfast\n",
    "    return sim"
   ]
  },
  {
   "cell_type": "code",
   "execution_count": 4,
   "metadata": {},
   "outputs": [
    {
     "data": {
      "text/latex": [
       "$\\displaystyle - \\frac{C_{(3,-2,-1,0,0,0)}^{(0,0,0,0),(0,0)}(\\alpha_{1,2}) G m_{1} m_{2} \\left(\\frac{\\eta_{1} \\sin{\\left(2 \\lambda_{1} - 3 \\lambda_{2} \\right)}}{\\sqrt{\\Lambda_{1,0}}} + \\frac{\\kappa_{1} \\cos{\\left(2 \\lambda_{1} - 3 \\lambda_{2} \\right)}}{\\sqrt{\\Lambda_{1,0}}}\\right)}{a_{2,0}} - \\frac{C_{(3,-2,0,-1,0,0)}^{(0,0,0,0),(0,0)}(\\alpha_{1,2}) G m_{1} m_{2} \\left(\\frac{\\eta_{2} \\sin{\\left(2 \\lambda_{1} - 3 \\lambda_{2} \\right)}}{\\sqrt{\\Lambda_{2,0}}} + \\frac{\\kappa_{2} \\cos{\\left(2 \\lambda_{1} - 3 \\lambda_{2} \\right)}}{\\sqrt{\\Lambda_{2,0}}}\\right)}{a_{2,0}} - \\frac{G^{2} M_{2}^{2} \\mu_{2}^{3}}{2 \\Lambda_{2}^{2}} - \\frac{G^{2} M_{1}^{2} \\mu_{1}^{3}}{2 \\Lambda_{1}^{2}}$"
      ],
      "text/plain": [
       "                                                               ⎛η₁⋅sin(2⋅λ₁ - \n",
       "  C_{(3,-2,-1,0,0,0)}_{1,2})__{(0,0,0,0),(0,0)}(\\alpha⋅G⋅m₁⋅m₂⋅⎜──────────────\n",
       "                                                               ⎜   ___________\n",
       "                                                               ⎝ ╲╱ \\Lambda_{1\n",
       "- ────────────────────────────────────────────────────────────────────────────\n",
       "                                                  a_{2,0}                     \n",
       "                                                                              \n",
       "\n",
       "3⋅λ₂)   κ₁⋅cos(2⋅λ₁ - 3⋅λ₂)⎞                                                  \n",
       "───── + ───────────────────⎟   C_{(3,-2,0,-1,0,0)}_{1,2})__{(0,0,0,0),(0,0)}(\\\n",
       "____       _______________ ⎟                                                  \n",
       ",0}      ╲╱ \\Lambda_{1,0}  ⎠                                                  \n",
       "──────────────────────────── - ───────────────────────────────────────────────\n",
       "                                                                              \n",
       "                                                                              \n",
       "\n",
       "              ⎛η₂⋅sin(2⋅λ₁ - 3⋅λ₂)   κ₂⋅cos(2⋅λ₁ - 3⋅λ₂)⎞                     \n",
       "alpha⋅G⋅m₁⋅m₂⋅⎜─────────────────── + ───────────────────⎟                     \n",
       "              ⎜   _______________       _______________ ⎟    2   2   3    2   \n",
       "              ⎝ ╲╱ \\Lambda_{2,0}      ╲╱ \\Lambda_{2,0}  ⎠   G ⋅M₂ ⋅μ₂    G ⋅M₁\n",
       "───────────────────────────────────────────────────────── - ────────── - ─────\n",
       " a_{2,0}                                                          2           \n",
       "                                                              2⋅Λ₂         2⋅Λ\n",
       "\n",
       "     \n",
       "     \n",
       "2   3\n",
       " ⋅μ₁ \n",
       "─────\n",
       " 2   \n",
       "₁    "
      ]
     },
     "execution_count": 4,
     "metadata": {},
     "output_type": "execute_result"
    }
   ],
   "source": [
    "# make simulation\n",
    "sim = get_sim_from_params(fit_params, inclination = np.pi/2, integrator = 'ias15', time_base = 0)\n",
    "inner = sim.particles[1]\n",
    "outer = sim.particles[2]\n",
    "\n",
    "cm.nbody_simulation_utilities.align_simulation(sim)\n",
    "# convert to poincarehamiltonian\n",
    "pvars = cm.Poincare.from_Simulation(sim)\n",
    "pham = cm.PoincareHamiltonian(pvars)\n",
    "pham.add_MMR_terms(3, 1, max_order=1, inclinations=False)\n",
    "pham.H"
   ]
  },
  {
   "cell_type": "code",
   "execution_count": 5,
   "metadata": {},
   "outputs": [
    {
     "data": {
      "text/latex": [
       "$\\displaystyle \\left( \\left[ \\lambda_{1}, \\  \\eta_{1}, \\  \\rho_{1}, \\  \\lambda_{2}, \\  \\eta_{2}, \\  \\rho_{2}, \\  \\Lambda_{1}, \\  \\kappa_{1}, \\  \\sigma_{1}, \\  \\Lambda_{2}, \\  \\kappa_{2}, \\  \\sigma_{2}\\right], \\  \\left[ \\theta_{1}, \\  \\theta_{2}, \\  l, \\  \\psi, \\  \\phi_{1}, \\  \\phi_{2}, \\  p_{1}, \\  p_{2}, \\  L, \\  \\Psi, \\  \\Phi_{1}, \\  \\Phi_{2}\\right]\\right)$"
      ],
      "text/plain": [
       "([λ₁, η₁, ρ₁, λ₂, η₂, ρ₂, Λ₁, κ₁, σ₁, Λ₂, κ₂, σ₂], [θ₁, θ₂, l, ψ, φ₁, φ₂, p₁, \n",
       "p₂, L, Ψ, Φ₁, Φ₂])"
      ]
     },
     "execution_count": 5,
     "metadata": {},
     "output_type": "execute_result"
    }
   ],
   "source": [
    "import sympy as sp\n",
    "# defining stuff:\n",
    "\n",
    "# action variables\n",
    "# Lambda1, Lambda2, Gamma1, Gamma2, Q1, Q2 = sp.symbols('Lambda_1, Lambda_2, Gamma_1, Gamma_2, Q_1, Q_2')\n",
    "# old angle coordinates\n",
    "lambda1, lambda2, pomega1, pomega2, Omega1, Omega2 = sp.symbols('lambda_1, lambda_2, varpi_1, varpi_2, Omega_1, Omega_2')\n",
    "# new angle coordinates\n",
    "theta1, theta2, l, psi, phi1, phi2 = sp.symbols('theta_1, theta_2, l, psi, phi_1, phi_2')\n",
    "p1, p2, L, Psi, Phi1, Phi2 = sp.symbols('p_1, p_2, L, Psi, Phi_1, Phi_2')\n",
    "\n",
    "# converts\n",
    "# lambda_1, lambda_2, pomega_1, pomega_2, Omega_1, Omega_2 to\n",
    "# theta_1, theta_2, l, psi, phi_1, phi_2\n",
    "pmatrix = [[-2, 3, 1, 0, 0, 0], [-2, 3, 0, 1, 0, 0], [-2, 3, 0, 0, 0, 0], \n",
    "           [1, -1, 0, 0, 0, 0], [0, 0, 0, 0, 1, 0], [0, 0, 0, 0, 0, 1]]\n",
    "\n",
    "ct = cm.CanonicalTransformation.from_poincare_angles_matrix(pvars, pmatrix, \n",
    "                                                            new_qp_pairs = [(theta1, p1), (theta2, p2), \n",
    "                                                                            (l, L), (psi, Psi), \n",
    "                                                                            (phi1, Phi1), (phi2, Phi2)])\n",
    "ct.old_qp_vars, ct.new_qp_vars"
   ]
  },
  {
   "cell_type": "code",
   "execution_count": 6,
   "metadata": {},
   "outputs": [],
   "source": [
    "new_ham = ct.old_to_new_hamiltonian(pham)\n",
    "ctxy = cm.CanonicalTransformation.polar_to_cartesian(new_ham.full_qp_vars,[0,1])\n",
    "hamxy = ctxy.old_to_new_hamiltonian(new_ham)"
   ]
  },
  {
   "cell_type": "code",
   "execution_count": 7,
   "metadata": {},
   "outputs": [],
   "source": [
    "y1, y2, _, _, _, _, x1, x2, L, Psi, _, _ = hamxy.qp_vars"
   ]
  },
  {
   "cell_type": "code",
   "execution_count": 8,
   "metadata": {},
   "outputs": [
    {
     "data": {
      "text/latex": [
       "$\\displaystyle \\left( \\left[ \\theta_{1}, \\  \\theta_{2}, \\  l, \\  \\psi, \\  \\phi_{1}, \\  \\phi_{2}, \\  p_{1}, \\  p_{2}, \\  L, \\  \\Psi, \\  \\Phi_{1}, \\  \\Phi_{2}\\right], \\  \\left[ y_{1}, \\  y_{2}, \\  l, \\  \\psi, \\  \\phi_{1}, \\  \\phi_{2}, \\  x_{1}, \\  x_{2}, \\  L, \\  \\Psi, \\  \\Phi_{1}, \\  \\Phi_{2}\\right]\\right)$"
      ],
      "text/plain": [
       "([θ₁, θ₂, l, ψ, φ₁, φ₂, p₁, p₂, L, Ψ, Φ₁, Φ₂], [y₁, y₂, l, ψ, φ₁, φ₂, x₁, x₂, \n",
       "L, Ψ, Φ₁, Φ₂])"
      ]
     },
     "execution_count": 8,
     "metadata": {},
     "output_type": "execute_result"
    }
   ],
   "source": [
    "new_ham.qp_vars, hamxy.qp_vars"
   ]
  },
  {
   "cell_type": "code",
   "execution_count": 9,
   "metadata": {},
   "outputs": [
    {
     "data": {
      "text/latex": [
       "$\\displaystyle \\left[\\begin{matrix}- \\frac{2.4252484235254 \\cdot 10^{-8} \\left(- 72 L x_{1} + 24 \\Psi x_{1} - 36 x_{1}^{3} - 36 x_{1} x_{2}^{2} - 36 x_{1} y_{1}^{2} - 36 x_{1} y_{2}^{2}\\right)}{\\left(36 L^{2} - 24 L \\Psi + 36 L x_{1}^{2} + 36 L x_{2}^{2} + 36 L y_{1}^{2} + 36 L y_{2}^{2} + 4 \\Psi^{2} - 12 \\Psi x_{1}^{2} - 12 \\Psi x_{2}^{2} - 12 \\Psi y_{1}^{2} - 12 \\Psi y_{2}^{2} + 9 x_{1}^{4} + 18 x_{1}^{2} x_{2}^{2} + 18 x_{1}^{2} y_{1}^{2} + 18 x_{1}^{2} y_{2}^{2} + 9 x_{2}^{4} + 18 x_{2}^{2} y_{1}^{2} + 18 x_{2}^{2} y_{2}^{2} + 9 y_{1}^{4} + 18 y_{1}^{2} y_{2}^{2} + 9 y_{2}^{4}\\right)^{2}} - \\frac{5.45792380374233 \\cdot 10^{-10} \\left(- 16 L x_{1} + 8 \\Psi x_{1} - 8 x_{1}^{3} - 8 x_{1} x_{2}^{2} - 8 x_{1} y_{1}^{2} - 8 x_{1} y_{2}^{2}\\right)}{\\left(8 L^{2} - 8 L \\Psi + 8 L x_{1}^{2} + 8 L x_{2}^{2} + 8 L y_{1}^{2} + 8 L y_{2}^{2} + 2 \\Psi^{2} - 4 \\Psi x_{1}^{2} - 4 \\Psi x_{2}^{2} - 4 \\Psi y_{1}^{2} - 4 \\Psi y_{2}^{2} + 2 x_{1}^{4} + 4 x_{1}^{2} x_{2}^{2} + 4 x_{1}^{2} y_{1}^{2} + 4 x_{1}^{2} y_{2}^{2} + 2 x_{2}^{4} + 4 x_{2}^{2} y_{1}^{2} + 4 x_{2}^{2} y_{2}^{2} + 2 y_{1}^{4} + 4 y_{1}^{2} y_{2}^{2} + 2 y_{2}^{4}\\right)^{2}} + 1.3464169490854 \\cdot 10^{-6}\\\\- \\frac{2.4252484235254 \\cdot 10^{-8} \\left(- 72 L x_{2} + 24 \\Psi x_{2} - 36 x_{1}^{2} x_{2} - 36 x_{2}^{3} - 36 x_{2} y_{1}^{2} - 36 x_{2} y_{2}^{2}\\right)}{\\left(36 L^{2} - 24 L \\Psi + 36 L x_{1}^{2} + 36 L x_{2}^{2} + 36 L y_{1}^{2} + 36 L y_{2}^{2} + 4 \\Psi^{2} - 12 \\Psi x_{1}^{2} - 12 \\Psi x_{2}^{2} - 12 \\Psi y_{1}^{2} - 12 \\Psi y_{2}^{2} + 9 x_{1}^{4} + 18 x_{1}^{2} x_{2}^{2} + 18 x_{1}^{2} y_{1}^{2} + 18 x_{1}^{2} y_{2}^{2} + 9 x_{2}^{4} + 18 x_{2}^{2} y_{1}^{2} + 18 x_{2}^{2} y_{2}^{2} + 9 y_{1}^{4} + 18 y_{1}^{2} y_{2}^{2} + 9 y_{2}^{4}\\right)^{2}} - \\frac{5.45792380374233 \\cdot 10^{-10} \\left(- 16 L x_{2} + 8 \\Psi x_{2} - 8 x_{1}^{2} x_{2} - 8 x_{2}^{3} - 8 x_{2} y_{1}^{2} - 8 x_{2} y_{2}^{2}\\right)}{\\left(8 L^{2} - 8 L \\Psi + 8 L x_{1}^{2} + 8 L x_{2}^{2} + 8 L y_{1}^{2} + 8 L y_{2}^{2} + 2 \\Psi^{2} - 4 \\Psi x_{1}^{2} - 4 \\Psi x_{2}^{2} - 4 \\Psi y_{1}^{2} - 4 \\Psi y_{2}^{2} + 2 x_{1}^{4} + 4 x_{1}^{2} x_{2}^{2} + 4 x_{1}^{2} y_{1}^{2} + 4 x_{1}^{2} y_{2}^{2} + 2 x_{2}^{4} + 4 x_{2}^{2} y_{1}^{2} + 4 x_{2}^{2} y_{2}^{2} + 2 y_{1}^{4} + 4 y_{1}^{2} y_{2}^{2} + 2 y_{2}^{4}\\right)^{2}} - 9.21445629094961 \\cdot 10^{-7}\\\\\\frac{2.4252484235254 \\cdot 10^{-8} \\left(- 72 L y_{1} + 24 \\Psi y_{1} - 36 x_{1}^{2} y_{1} - 36 x_{2}^{2} y_{1} - 36 y_{1}^{3} - 36 y_{1} y_{2}^{2}\\right)}{\\left(36 L^{2} - 24 L \\Psi + 36 L x_{1}^{2} + 36 L x_{2}^{2} + 36 L y_{1}^{2} + 36 L y_{2}^{2} + 4 \\Psi^{2} - 12 \\Psi x_{1}^{2} - 12 \\Psi x_{2}^{2} - 12 \\Psi y_{1}^{2} - 12 \\Psi y_{2}^{2} + 9 x_{1}^{4} + 18 x_{1}^{2} x_{2}^{2} + 18 x_{1}^{2} y_{1}^{2} + 18 x_{1}^{2} y_{2}^{2} + 9 x_{2}^{4} + 18 x_{2}^{2} y_{1}^{2} + 18 x_{2}^{2} y_{2}^{2} + 9 y_{1}^{4} + 18 y_{1}^{2} y_{2}^{2} + 9 y_{2}^{4}\\right)^{2}} + \\frac{5.45792380374233 \\cdot 10^{-10} \\left(- 16 L y_{1} + 8 \\Psi y_{1} - 8 x_{1}^{2} y_{1} - 8 x_{2}^{2} y_{1} - 8 y_{1}^{3} - 8 y_{1} y_{2}^{2}\\right)}{\\left(8 L^{2} - 8 L \\Psi + 8 L x_{1}^{2} + 8 L x_{2}^{2} + 8 L y_{1}^{2} + 8 L y_{2}^{2} + 2 \\Psi^{2} - 4 \\Psi x_{1}^{2} - 4 \\Psi x_{2}^{2} - 4 \\Psi y_{1}^{2} - 4 \\Psi y_{2}^{2} + 2 x_{1}^{4} + 4 x_{1}^{2} x_{2}^{2} + 4 x_{1}^{2} y_{1}^{2} + 4 x_{1}^{2} y_{2}^{2} + 2 x_{2}^{4} + 4 x_{2}^{2} y_{1}^{2} + 4 x_{2}^{2} y_{2}^{2} + 2 y_{1}^{4} + 4 y_{1}^{2} y_{2}^{2} + 2 y_{2}^{4}\\right)^{2}}\\\\\\frac{2.4252484235254 \\cdot 10^{-8} \\left(- 72 L y_{2} + 24 \\Psi y_{2} - 36 x_{1}^{2} y_{2} - 36 x_{2}^{2} y_{2} - 36 y_{1}^{2} y_{2} - 36 y_{2}^{3}\\right)}{\\left(36 L^{2} - 24 L \\Psi + 36 L x_{1}^{2} + 36 L x_{2}^{2} + 36 L y_{1}^{2} + 36 L y_{2}^{2} + 4 \\Psi^{2} - 12 \\Psi x_{1}^{2} - 12 \\Psi x_{2}^{2} - 12 \\Psi y_{1}^{2} - 12 \\Psi y_{2}^{2} + 9 x_{1}^{4} + 18 x_{1}^{2} x_{2}^{2} + 18 x_{1}^{2} y_{1}^{2} + 18 x_{1}^{2} y_{2}^{2} + 9 x_{2}^{4} + 18 x_{2}^{2} y_{1}^{2} + 18 x_{2}^{2} y_{2}^{2} + 9 y_{1}^{4} + 18 y_{1}^{2} y_{2}^{2} + 9 y_{2}^{4}\\right)^{2}} + \\frac{5.45792380374233 \\cdot 10^{-10} \\left(- 16 L y_{2} + 8 \\Psi y_{2} - 8 x_{1}^{2} y_{2} - 8 x_{2}^{2} y_{2} - 8 y_{1}^{2} y_{2} - 8 y_{2}^{3}\\right)}{\\left(8 L^{2} - 8 L \\Psi + 8 L x_{1}^{2} + 8 L x_{2}^{2} + 8 L y_{1}^{2} + 8 L y_{2}^{2} + 2 \\Psi^{2} - 4 \\Psi x_{1}^{2} - 4 \\Psi x_{2}^{2} - 4 \\Psi y_{1}^{2} - 4 \\Psi y_{2}^{2} + 2 x_{1}^{4} + 4 x_{1}^{2} x_{2}^{2} + 4 x_{1}^{2} y_{1}^{2} + 4 x_{1}^{2} y_{2}^{2} + 2 x_{2}^{4} + 4 x_{2}^{2} y_{1}^{2} + 4 x_{2}^{2} y_{2}^{2} + 2 y_{1}^{4} + 4 y_{1}^{2} y_{2}^{2} + 2 y_{2}^{4}\\right)^{2}}\\\\0\\\\0\\end{matrix}\\right]$"
      ],
      "text/plain": [
       "⎡                                                                             \n",
       "⎢                                                                       2.4252\n",
       "⎢- ───────────────────────────────────────────────────────────────────────────\n",
       "⎢                                                                             \n",
       "⎢  ⎛    2                   2          2          2          2      2         \n",
       "⎢  ⎝36⋅L  - 24⋅L⋅Ψ + 36⋅L⋅x₁  + 36⋅L⋅x₂  + 36⋅L⋅y₁  + 36⋅L⋅y₂  + 4⋅Ψ  - 12⋅Ψ⋅x\n",
       "⎢                                                                             \n",
       "⎢                                                                             \n",
       "⎢                                                                       2.4252\n",
       "⎢- ───────────────────────────────────────────────────────────────────────────\n",
       "⎢                                                                             \n",
       "⎢  ⎛    2                   2          2          2          2      2         \n",
       "⎢  ⎝36⋅L  - 24⋅L⋅Ψ + 36⋅L⋅x₁  + 36⋅L⋅x₂  + 36⋅L⋅y₁  + 36⋅L⋅y₂  + 4⋅Ψ  - 12⋅Ψ⋅x\n",
       "⎢                                                                             \n",
       "⎢                                                                             \n",
       "⎢                                                                             \n",
       "⎢            ─────────────────────────────────────────────────────────────────\n",
       "⎢                                                                             \n",
       "⎢            ⎛    2                   2          2          2          2      \n",
       "⎢            ⎝36⋅L  - 24⋅L⋅Ψ + 36⋅L⋅x₁  + 36⋅L⋅x₂  + 36⋅L⋅y₁  + 36⋅L⋅y₂  + 4⋅Ψ\n",
       "⎢                                                                             \n",
       "⎢                                                                             \n",
       "⎢                                                                             \n",
       "⎢            ─────────────────────────────────────────────────────────────────\n",
       "⎢                                                                             \n",
       "⎢            ⎛    2                   2          2          2          2      \n",
       "⎢            ⎝36⋅L  - 24⋅L⋅Ψ + 36⋅L⋅x₁  + 36⋅L⋅x₂  + 36⋅L⋅y₁  + 36⋅L⋅y₂  + 4⋅Ψ\n",
       "⎢                                                                             \n",
       "⎢                                                                             \n",
       "⎢                                                                             \n",
       "⎣                                                                             \n",
       "\n",
       "             ⎛                          3           2           2           2⎞\n",
       "484235254e-8⋅⎝-72⋅L⋅x₁ + 24⋅Ψ⋅x₁ - 36⋅x₁  - 36⋅x₁⋅x₂  - 36⋅x₁⋅y₁  - 36⋅x₁⋅y₂ ⎠\n",
       "──────────────────────────────────────────────────────────────────────────────\n",
       "                                                                              \n",
       " 2          2          2          2       4        2   2        2   2        2\n",
       "₁  - 12⋅Ψ⋅x₂  - 12⋅Ψ⋅y₁  - 12⋅Ψ⋅y₂  + 9⋅x₁  + 18⋅x₁ ⋅x₂  + 18⋅x₁ ⋅y₁  + 18⋅x₁ \n",
       "                                                                              \n",
       "             ⎛                          2           3           2           2⎞\n",
       "484235254e-8⋅⎝-72⋅L⋅x₂ + 24⋅Ψ⋅x₂ - 36⋅x₁ ⋅x₂ - 36⋅x₂  - 36⋅x₂⋅y₁  - 36⋅x₂⋅y₂ ⎠\n",
       "──────────────────────────────────────────────────────────────────────────────\n",
       "                                                                              \n",
       " 2          2          2          2       4        2   2        2   2        2\n",
       "₁  - 12⋅Ψ⋅x₂  - 12⋅Ψ⋅y₁  - 12⋅Ψ⋅y₂  + 9⋅x₁  + 18⋅x₁ ⋅x₂  + 18⋅x₁ ⋅y₁  + 18⋅x₁ \n",
       "                                                                              \n",
       "                       ⎛                          2           2           3   \n",
       "    2.4252484235254e-8⋅⎝-72⋅L⋅y₁ + 24⋅Ψ⋅y₁ - 36⋅x₁ ⋅y₁ - 36⋅x₂ ⋅y₁ - 36⋅y₁  - \n",
       "──────────────────────────────────────────────────────────────────────────────\n",
       "                                                                              \n",
       "2          2          2          2          2       4        2   2        2   \n",
       "  - 12⋅Ψ⋅x₁  - 12⋅Ψ⋅x₂  - 12⋅Ψ⋅y₁  - 12⋅Ψ⋅y₂  + 9⋅x₁  + 18⋅x₁ ⋅x₂  + 18⋅x₁ ⋅y₁\n",
       "                                                                              \n",
       "                       ⎛                          2           2           2   \n",
       "    2.4252484235254e-8⋅⎝-72⋅L⋅y₂ + 24⋅Ψ⋅y₂ - 36⋅x₁ ⋅y₂ - 36⋅x₂ ⋅y₂ - 36⋅y₁ ⋅y₂\n",
       "──────────────────────────────────────────────────────────────────────────────\n",
       "                                                                              \n",
       "2          2          2          2          2       4        2   2        2   \n",
       "  - 12⋅Ψ⋅x₁  - 12⋅Ψ⋅x₂  - 12⋅Ψ⋅y₁  - 12⋅Ψ⋅y₂  + 9⋅x₁  + 18⋅x₁ ⋅x₂  + 18⋅x₁ ⋅y₁\n",
       "                                                                              \n",
       "                                                                              \n",
       "                                                                              \n",
       "                                                                              \n",
       "\n",
       "                                                                              \n",
       "                                                                              \n",
       "───────────────────────────────────────────────────────────────────── - ──────\n",
       "                                                                    2         \n",
       "   2       4        2   2        2   2       4        2   2       4⎞    ⎛   2 \n",
       "⋅y₂  + 9⋅x₂  + 18⋅x₂ ⋅y₁  + 18⋅x₂ ⋅y₂  + 9⋅y₁  + 18⋅y₁ ⋅y₂  + 9⋅y₂ ⎠    ⎝8⋅L  \n",
       "                                                                              \n",
       "                                                                              \n",
       "                                                                              \n",
       "───────────────────────────────────────────────────────────────────── - ──────\n",
       "                                                                    2         \n",
       "   2       4        2   2        2   2       4        2   2       4⎞    ⎛   2 \n",
       "⋅y₂  + 9⋅x₂  + 18⋅x₂ ⋅y₁  + 18⋅x₂ ⋅y₂  + 9⋅y₁  + 18⋅y₁ ⋅y₂  + 9⋅y₂ ⎠    ⎝8⋅L  \n",
       "                                                                              \n",
       "        2⎞                                                                    \n",
       "36⋅y₁⋅y₂ ⎠                                                                    \n",
       "──────────────────────────────────────────────────────────────────────────────\n",
       "                                                                              \n",
       "2        2   2       4        2   2        2   2       4        2   2       4⎞\n",
       "  + 18⋅x₁ ⋅y₂  + 9⋅x₂  + 18⋅x₂ ⋅y₁  + 18⋅x₂ ⋅y₂  + 9⋅y₁  + 18⋅y₁ ⋅y₂  + 9⋅y₂ ⎠\n",
       "                                                                              \n",
       "        3⎞                                                                    \n",
       " - 36⋅y₂ ⎠                                                                    \n",
       "──────────────────────────────────────────────────────────────────────────────\n",
       "                                                                              \n",
       "2        2   2       4        2   2        2   2       4        2   2       4⎞\n",
       "  + 18⋅x₁ ⋅y₂  + 9⋅x₂  + 18⋅x₂ ⋅y₁  + 18⋅x₂ ⋅y₂  + 9⋅y₁  + 18⋅y₁ ⋅y₂  + 9⋅y₂ ⎠\n",
       "                                                                              \n",
       "                                                                        0     \n",
       "                                                                              \n",
       "                                                                        0     \n",
       "\n",
       "                                                                             ⎛\n",
       "                                                        5.45792380374233e-10⋅⎝\n",
       "──────────────────────────────────────────────────────────────────────────────\n",
       "                                                                              \n",
       "                2         2         2         2      2         2         2    \n",
       "- 8⋅L⋅Ψ + 8⋅L⋅x₁  + 8⋅L⋅x₂  + 8⋅L⋅y₁  + 8⋅L⋅y₂  + 2⋅Ψ  - 4⋅Ψ⋅x₁  - 4⋅Ψ⋅x₂  - 4\n",
       "                                                                              \n",
       "                                                                             ⎛\n",
       "                                                        5.45792380374233e-10⋅⎝\n",
       "──────────────────────────────────────────────────────────────────────────────\n",
       "                                                                              \n",
       "                2         2         2         2      2         2         2    \n",
       "- 8⋅L⋅Ψ + 8⋅L⋅x₁  + 8⋅L⋅x₂  + 8⋅L⋅y₁  + 8⋅L⋅y₂  + 2⋅Ψ  - 4⋅Ψ⋅x₁  - 4⋅Ψ⋅x₂  - 4\n",
       "                                                                              \n",
       "                                                                              \n",
       "                                                                  5.4579238037\n",
       "─ + ──────────────────────────────────────────────────────────────────────────\n",
       "2                                                                             \n",
       "    ⎛   2                 2         2         2         2      2         2    \n",
       "    ⎝8⋅L  - 8⋅L⋅Ψ + 8⋅L⋅x₁  + 8⋅L⋅x₂  + 8⋅L⋅y₁  + 8⋅L⋅y₂  + 2⋅Ψ  - 4⋅Ψ⋅x₁  - 4\n",
       "                                                                              \n",
       "                                                                              \n",
       "                                                                  5.4579238037\n",
       "─ + ──────────────────────────────────────────────────────────────────────────\n",
       "2                                                                             \n",
       "    ⎛   2                 2         2         2         2      2         2    \n",
       "    ⎝8⋅L  - 8⋅L⋅Ψ + 8⋅L⋅x₁  + 8⋅L⋅x₂  + 8⋅L⋅y₁  + 8⋅L⋅y₂  + 2⋅Ψ  - 4⋅Ψ⋅x₁  - 4\n",
       "                                                                              \n",
       "                                                                              \n",
       "                                                                              \n",
       "                                                                              \n",
       "\n",
       "                        3          2          2          2⎞                   \n",
       "-16⋅L⋅x₁ + 8⋅Ψ⋅x₁ - 8⋅x₁  - 8⋅x₁⋅x₂  - 8⋅x₁⋅y₁  - 8⋅x₁⋅y₂ ⎠                   \n",
       "──────────────────────────────────────────────────────────────────────────────\n",
       "                                                                              \n",
       "     2         2       4       2   2       2   2       2   2       4       2  \n",
       "⋅Ψ⋅y₁  - 4⋅Ψ⋅y₂  + 2⋅x₁  + 4⋅x₁ ⋅x₂  + 4⋅x₁ ⋅y₁  + 4⋅x₁ ⋅y₂  + 2⋅x₂  + 4⋅x₂ ⋅y\n",
       "                                                                              \n",
       "                        2          3          2          2⎞                   \n",
       "-16⋅L⋅x₂ + 8⋅Ψ⋅x₂ - 8⋅x₁ ⋅x₂ - 8⋅x₂  - 8⋅x₂⋅y₁  - 8⋅x₂⋅y₂ ⎠                   \n",
       "──────────────────────────────────────────────────────────────────────────────\n",
       "                                                                              \n",
       "     2         2       4       2   2       2   2       2   2       4       2  \n",
       "⋅Ψ⋅y₁  - 4⋅Ψ⋅y₂  + 2⋅x₁  + 4⋅x₁ ⋅x₂  + 4⋅x₁ ⋅y₁  + 4⋅x₁ ⋅y₂  + 2⋅x₂  + 4⋅x₂ ⋅y\n",
       "                                                                              \n",
       "         ⎛                        2          2          3          2⎞         \n",
       "4233e-10⋅⎝-16⋅L⋅y₁ + 8⋅Ψ⋅y₁ - 8⋅x₁ ⋅y₁ - 8⋅x₂ ⋅y₁ - 8⋅y₁  - 8⋅y₁⋅y₂ ⎠         \n",
       "──────────────────────────────────────────────────────────────────────────────\n",
       "                                                                              \n",
       "     2         2         2       4       2   2       2   2       2   2       4\n",
       "⋅Ψ⋅x₂  - 4⋅Ψ⋅y₁  - 4⋅Ψ⋅y₂  + 2⋅x₁  + 4⋅x₁ ⋅x₂  + 4⋅x₁ ⋅y₁  + 4⋅x₁ ⋅y₂  + 2⋅x₂ \n",
       "                                                                              \n",
       "         ⎛                        2          2          2          3⎞         \n",
       "4233e-10⋅⎝-16⋅L⋅y₂ + 8⋅Ψ⋅y₂ - 8⋅x₁ ⋅y₂ - 8⋅x₂ ⋅y₂ - 8⋅y₁ ⋅y₂ - 8⋅y₂ ⎠         \n",
       "──────────────────────────────────────────────────────────────────────────────\n",
       "                                                                              \n",
       "     2         2         2       4       2   2       2   2       2   2       4\n",
       "⋅Ψ⋅x₂  - 4⋅Ψ⋅y₁  - 4⋅Ψ⋅y₂  + 2⋅x₁  + 4⋅x₁ ⋅x₂  + 4⋅x₁ ⋅y₁  + 4⋅x₁ ⋅y₂  + 2⋅x₂ \n",
       "                                                                              \n",
       "                                                                              \n",
       "                                                                              \n",
       "                                                                              \n",
       "\n",
       "                                                                  ⎤\n",
       "                                                                  ⎥\n",
       "──────────────────────────────────────────── + 1.3464169490854e-6 ⎥\n",
       "                                           2                      ⎥\n",
       " 2       2   2       4       2   2       4⎞                       ⎥\n",
       "₁  + 4⋅x₂ ⋅y₂  + 2⋅y₁  + 4⋅y₁ ⋅y₂  + 2⋅y₂ ⎠                       ⎥\n",
       "                                                                  ⎥\n",
       "                                                                  ⎥\n",
       "                                                                  ⎥\n",
       "──────────────────────────────────────────── - 9.21445629094961e-7⎥\n",
       "                                           2                      ⎥\n",
       " 2       2   2       4       2   2       4⎞                       ⎥\n",
       "₁  + 4⋅x₂ ⋅y₂  + 2⋅y₁  + 4⋅y₁ ⋅y₂  + 2⋅y₂ ⎠                       ⎥\n",
       "                                                                  ⎥\n",
       "                                                                  ⎥\n",
       "                                                                  ⎥\n",
       "──────────────────────────────────────────────────────            ⎥\n",
       "                                                     2            ⎥\n",
       "       2   2       2   2       4       2   2       4⎞             ⎥\n",
       " + 4⋅x₂ ⋅y₁  + 4⋅x₂ ⋅y₂  + 2⋅y₁  + 4⋅y₁ ⋅y₂  + 2⋅y₂ ⎠             ⎥\n",
       "                                                                  ⎥\n",
       "                                                                  ⎥\n",
       "                                                                  ⎥\n",
       "──────────────────────────────────────────────────────            ⎥\n",
       "                                                     2            ⎥\n",
       "       2   2       2   2       4       2   2       4⎞             ⎥\n",
       " + 4⋅x₂ ⋅y₁  + 4⋅x₂ ⋅y₂  + 2⋅y₁  + 4⋅y₁ ⋅y₂  + 2⋅y₂ ⎠             ⎥\n",
       "                                                                  ⎥\n",
       "                                                                  ⎥\n",
       "                                                                  ⎥\n",
       "                                                                  ⎦"
      ]
     },
     "execution_count": 9,
     "metadata": {},
     "output_type": "execute_result"
    }
   ],
   "source": [
    "z = [y1, y2, x1, x2, L, Psi]\n",
    "\n",
    "cons_flow = sp.Matrix([hamxy.N_Lie_deriv(v) for v in z])\n",
    "cons_flow"
   ]
  },
  {
   "cell_type": "code",
   "execution_count": 10,
   "metadata": {},
   "outputs": [
    {
     "data": {
      "text/latex": [
       "$\\displaystyle \\left( - \\frac{\\Lambda_{1}}{2 \\tau_{a 1}}, \\  - \\eta_{1} \\left(\\frac{1}{\\tau_{e 1}} + \\frac{1}{4 \\tau_{a 1}}\\right), \\  - \\kappa_{1} \\left(\\frac{1}{\\tau_{e 1}} + \\frac{1}{4 \\tau_{a 1}}\\right)\\right)$"
      ],
      "text/plain": [
       "⎛ -Λ₁        ⎛ 1       1   ⎞      ⎛ 1       1   ⎞⎞\n",
       "⎜──────, -η₁⋅⎜──── + ──────⎟, -κ₁⋅⎜──── + ──────⎟⎟\n",
       "⎝2⋅τₐ ₁      ⎝τₑ ₁   4⋅τₐ ₁⎠      ⎝τₑ ₁   4⋅τₐ ₁⎠⎠"
      ]
     },
     "execution_count": 10,
     "metadata": {},
     "output_type": "execute_result"
    }
   ],
   "source": [
    "# symbols\n",
    "\n",
    "tau_a_1, tau_e_1 = sp.symbols('tau_a_1, tau_e_1')\n",
    "tau_a_2, tau_e_2 = sp.symbols('tau_a_2, tau_e_2')\n",
    "Lambda1 = pham.qp_vars[6]\n",
    "Lambda2 = pham.qp_vars[9]\n",
    "eta_1 = pham.qp_vars[1]\n",
    "eta_2 = pham.qp_vars[4]\n",
    "kappa_1 = pham.qp_vars[7]\n",
    "kappa_2 = pham.qp_vars[10]\n",
    "t = sp.symbols('t')\n",
    "\n",
    "# dLambda, deta, dkappa equations:\n",
    "\n",
    "dLambda_1 = -Lambda1/(2 * tau_a_1)\n",
    "dLambda_2 = -Lambda2/(2 * tau_a_2)\n",
    "\n",
    "deta_1 = -eta_1 * (1/(4 * tau_a_1) + 1/tau_e_1)\n",
    "deta_2 = -eta_2 * (1/(4 * tau_a_2) + 1/tau_e_2)\n",
    "\n",
    "dkappa_1 = -kappa_1 * (1/(4 * tau_a_1) + 1/tau_e_1)\n",
    "dkappa_2 = -kappa_2 * (1/(4 * tau_a_2) + 1/tau_e_2)\n",
    "\n",
    "dLambda_1, deta_1, dkappa_1"
   ]
  },
  {
   "cell_type": "code",
   "execution_count": 11,
   "metadata": {},
   "outputs": [
    {
     "data": {
      "text/latex": [
       "$\\displaystyle \\left[\\begin{matrix}0\\\\- \\eta_{1} \\left(\\frac{1}{\\tau_{e 1}} + \\frac{1}{4 \\tau_{a 1}}\\right)\\\\0\\\\0\\\\- \\eta_{2} \\left(\\frac{1}{\\tau_{e 2}} + \\frac{1}{4 \\tau_{a 2}}\\right)\\\\0\\\\- \\frac{\\Lambda_{1}}{2 \\tau_{a 1}}\\\\- \\kappa_{1} \\left(\\frac{1}{\\tau_{e 1}} + \\frac{1}{4 \\tau_{a 1}}\\right)\\\\0\\\\- \\frac{\\Lambda_{2}}{2 \\tau_{a 2}}\\\\- \\kappa_{2} \\left(\\frac{1}{\\tau_{e 2}} + \\frac{1}{4 \\tau_{a 2}}\\right)\\\\0\\end{matrix}\\right]$"
      ],
      "text/plain": [
       "⎡         0         ⎤\n",
       "⎢                   ⎥\n",
       "⎢    ⎛ 1       1   ⎞⎥\n",
       "⎢-η₁⋅⎜──── + ──────⎟⎥\n",
       "⎢    ⎝τₑ ₁   4⋅τₐ ₁⎠⎥\n",
       "⎢                   ⎥\n",
       "⎢         0         ⎥\n",
       "⎢                   ⎥\n",
       "⎢         0         ⎥\n",
       "⎢                   ⎥\n",
       "⎢    ⎛ 1       1   ⎞⎥\n",
       "⎢-η₂⋅⎜──── + ──────⎟⎥\n",
       "⎢    ⎝τₑ ₂   4⋅τₐ ₂⎠⎥\n",
       "⎢                   ⎥\n",
       "⎢         0         ⎥\n",
       "⎢                   ⎥\n",
       "⎢       -Λ₁         ⎥\n",
       "⎢      ──────       ⎥\n",
       "⎢      2⋅τₐ ₁       ⎥\n",
       "⎢                   ⎥\n",
       "⎢    ⎛ 1       1   ⎞⎥\n",
       "⎢-κ₁⋅⎜──── + ──────⎟⎥\n",
       "⎢    ⎝τₑ ₁   4⋅τₐ ₁⎠⎥\n",
       "⎢                   ⎥\n",
       "⎢         0         ⎥\n",
       "⎢                   ⎥\n",
       "⎢       -Λ₂         ⎥\n",
       "⎢      ──────       ⎥\n",
       "⎢      2⋅τₐ ₂       ⎥\n",
       "⎢                   ⎥\n",
       "⎢    ⎛ 1       1   ⎞⎥\n",
       "⎢-κ₂⋅⎜──── + ──────⎟⎥\n",
       "⎢    ⎝τₑ ₂   4⋅τₐ ₂⎠⎥\n",
       "⎢                   ⎥\n",
       "⎣         0         ⎦"
      ]
     },
     "execution_count": 11,
     "metadata": {},
     "output_type": "execute_result"
    }
   ],
   "source": [
    "dissipative = sp.zeros(len(pham.values), 1)\n",
    "\n",
    "# add lambda, eta, kappa dissipative terms\n",
    "dissipative[6] = dLambda_1\n",
    "dissipative[9] = dLambda_2\n",
    "\n",
    "dissipative[1] = deta_1\n",
    "dissipative[4] = deta_2\n",
    "\n",
    "dissipative[7] = dkappa_1\n",
    "dissipative[10] = dkappa_2\n",
    "\n",
    "dissipative"
   ]
  },
  {
   "cell_type": "code",
   "execution_count": 12,
   "metadata": {},
   "outputs": [],
   "source": [
    "ctcomp = cm.CanonicalTransformation.composite([ct, ctxy])  "
   ]
  },
  {
   "cell_type": "code",
   "execution_count": 13,
   "metadata": {},
   "outputs": [],
   "source": [
    "ct_jac = sp.Matrix([[sp.diff(ctcomp.new_to_old(dyvar), var) for var in pham.qp_vars] for dyvar in z])"
   ]
  },
  {
   "cell_type": "code",
   "execution_count": 14,
   "metadata": {},
   "outputs": [],
   "source": [
    "new_dissipative = sp.simplify(ctcomp.old_to_new(ct_jac * dissipative))"
   ]
  },
  {
   "cell_type": "markdown",
   "metadata": {},
   "source": [
    "$p, \\theta$ transformation:"
   ]
  },
  {
   "cell_type": "code",
   "execution_count": 15,
   "metadata": {},
   "outputs": [],
   "source": [
    "theta1, theta2, _, _, _, _, p1, p2, L, Psi, _, _ = new_ham.qp_vars\n",
    "z_qp = [theta1, theta2, p1, p2, L, Psi]"
   ]
  },
  {
   "cell_type": "code",
   "execution_count": 16,
   "metadata": {},
   "outputs": [
    {
     "data": {
      "text/latex": [
       "$\\displaystyle \\left[\\begin{array}{cccccccccccc}-2 & \\frac{\\kappa_{1}}{\\eta_{1}^{2} + \\kappa_{1}^{2}} & 0 & 3 & 0 & 0 & 0 & - \\frac{\\eta_{1}}{\\eta_{1}^{2} + \\kappa_{1}^{2}} & 0 & 0 & 0 & 0\\\\-2 & 0 & 0 & 3 & \\frac{\\kappa_{2}}{\\eta_{2}^{2} + \\kappa_{2}^{2}} & 0 & 0 & 0 & 0 & 0 & - \\frac{\\eta_{2}}{\\eta_{2}^{2} + \\kappa_{2}^{2}} & 0\\\\0 & \\eta_{1} & 0 & 0 & 0 & 0 & 0 & \\kappa_{1} & 0 & 0 & 0 & 0\\\\0 & 0 & 0 & 0 & \\eta_{2} & 0 & 0 & 0 & 0 & 0 & \\kappa_{2} & 0\\\\0 & - \\eta_{1} & 0 & 0 & - \\eta_{2} & 0 & 1 & - \\kappa_{1} & 0 & 1 & - \\kappa_{2} & 0\\\\0 & 0 & 0 & 0 & 0 & 0 & 3 & 0 & 0 & 2 & 0 & 0\\end{array}\\right]$"
      ],
      "text/plain": [
       "⎡        κ₁                               -η₁                       ⎤\n",
       "⎢-2  ─────────  0  3      0      0  0  ─────────  0  0      0      0⎥\n",
       "⎢      2     2                           2     2                    ⎥\n",
       "⎢    η₁  + κ₁                          η₁  + κ₁                     ⎥\n",
       "⎢                                                                   ⎥\n",
       "⎢                         κ₂                               -η₂      ⎥\n",
       "⎢-2      0      0  3  ─────────  0  0      0      0  0  ─────────  0⎥\n",
       "⎢                       2     2                           2     2   ⎥\n",
       "⎢                     η₂  + κ₂                          η₂  + κ₂    ⎥\n",
       "⎢                                                                   ⎥\n",
       "⎢0      η₁      0  0      0      0  0     κ₁      0  0      0      0⎥\n",
       "⎢                                                                   ⎥\n",
       "⎢0       0      0  0     η₂      0  0      0      0  0     κ₂      0⎥\n",
       "⎢                                                                   ⎥\n",
       "⎢0      -η₁     0  0     -η₂     0  1     -κ₁     0  1     -κ₂     0⎥\n",
       "⎢                                                                   ⎥\n",
       "⎣0       0      0  0      0      0  3      0      0  2      0      0⎦"
      ]
     },
     "execution_count": 16,
     "metadata": {},
     "output_type": "execute_result"
    }
   ],
   "source": [
    "ctptheta_jac = sp.Matrix([[sp.diff(ct.new_to_old(dyvar), var) for var in pham.qp_vars] for dyvar in z_qp])\n",
    "ctptheta_jac"
   ]
  },
  {
   "cell_type": "code",
   "execution_count": 17,
   "metadata": {},
   "outputs": [],
   "source": [
    "ptheta_dissipative = sp.simplify(sp.Matrix([ct.old_to_new(val) for val in ctptheta_jac * dissipative]))"
   ]
  },
  {
   "cell_type": "markdown",
   "metadata": {},
   "source": [
    "`ptheta_dissipative` is the dissipative flow for the system given as the matrix $\\dot{\\mathbf{z}} = F(\\mathbf{z})$:"
   ]
  },
  {
   "cell_type": "code",
   "execution_count": 18,
   "metadata": {},
   "outputs": [
    {
     "data": {
      "text/latex": [
       "$\\displaystyle \\left[\\begin{matrix}0\\\\0\\\\- \\frac{2 p_{1}}{\\tau_{e 1}} - \\frac{p_{1}}{2 \\tau_{a 1}}\\\\- \\frac{2 p_{2}}{\\tau_{e 2}} - \\frac{p_{2}}{2 \\tau_{a 2}}\\\\- \\frac{3 L}{2 \\tau_{a 2}} + \\frac{L}{\\tau_{a 1}} + \\frac{\\Psi}{2 \\tau_{a 2}} - \\frac{\\Psi}{2 \\tau_{a 1}} + \\frac{2 p_{1}}{\\tau_{e 1}} - \\frac{3 p_{1}}{2 \\tau_{a 2}} + \\frac{3 p_{1}}{2 \\tau_{a 1}} + \\frac{2 p_{2}}{\\tau_{e 2}} - \\frac{p_{2}}{\\tau_{a 2}} + \\frac{p_{2}}{\\tau_{a 1}}\\\\\\frac{\\tau_{a 1} \\left(- 3 L + \\Psi - 3 p_{1} - 3 p_{2}\\right) + \\frac{3 \\tau_{a 2} \\left(2 L - \\Psi + 2 p_{1} + 2 p_{2}\\right)}{2}}{\\tau_{a 1} \\tau_{a 2}}\\end{matrix}\\right]$"
      ],
      "text/plain": [
       "⎡                                       0                                     \n",
       "⎢                                                                             \n",
       "⎢                                       0                                     \n",
       "⎢                                                                             \n",
       "⎢                                  2⋅p₁     p₁                                \n",
       "⎢                                - ──── - ──────                              \n",
       "⎢                                  τₑ ₁   2⋅τₐ ₁                              \n",
       "⎢                                                                             \n",
       "⎢                                  2⋅p₂     p₂                                \n",
       "⎢                                - ──── - ──────                              \n",
       "⎢                                  τₑ ₂   2⋅τₐ ₂                              \n",
       "⎢                                                                             \n",
       "⎢   3⋅L      L       Ψ        Ψ      2⋅p₁    3⋅p₁     3⋅p₁    2⋅p₂    p₂     p\n",
       "⎢- ────── + ──── + ────── - ────── + ──── - ────── + ────── + ──── - ──── + ──\n",
       "⎢  2⋅τₐ ₂   τₐ ₁   2⋅τₐ ₂   2⋅τₐ ₁   τₑ ₁   2⋅τₐ ₂   2⋅τₐ ₁   τₑ ₂   τₐ ₂   τₐ\n",
       "⎢                                                                             \n",
       "⎢                                        3⋅τₐ ₂⋅(2⋅L - Ψ + 2⋅p₁ + 2⋅p₂)       \n",
       "⎢        τₐ ₁⋅(-3⋅L + Ψ - 3⋅p₁ - 3⋅p₂) + ──────────────────────────────       \n",
       "⎢                                                      2                      \n",
       "⎢        ──────────────────────────────────────────────────────────────       \n",
       "⎣                                  τₐ ₁⋅τₐ ₂                                  \n",
       "\n",
       "  ⎤\n",
       "  ⎥\n",
       "  ⎥\n",
       "  ⎥\n",
       "  ⎥\n",
       "  ⎥\n",
       "  ⎥\n",
       "  ⎥\n",
       "  ⎥\n",
       "  ⎥\n",
       "  ⎥\n",
       "  ⎥\n",
       "₂ ⎥\n",
       "──⎥\n",
       " ₁⎥\n",
       "  ⎥\n",
       "  ⎥\n",
       "  ⎥\n",
       "  ⎥\n",
       "  ⎥\n",
       "  ⎦"
      ]
     },
     "execution_count": 18,
     "metadata": {},
     "output_type": "execute_result"
    }
   ],
   "source": [
    "ptheta_dissipative"
   ]
  },
  {
   "cell_type": "markdown",
   "metadata": {},
   "source": [
    "Coordinate transformation from $p_i \\to p'_i$ and $\\Psi = \\Psi'$, where $p'_i = \\frac{p_i}{L}$ and $\\Psi' = \\frac{\\Psi}{L}$. Currently $\\mathbf{z} = \\left(\\theta_1, \\theta_2, p_1, p_2, L, \\Psi\\right)$, so we transform to $\\mathbf{z}' = \\left(\\theta_1', \\theta_2', p_1', p_2', L', \\Psi'\\right)$:"
   ]
  },
  {
   "cell_type": "code",
   "execution_count": 19,
   "metadata": {},
   "outputs": [
    {
     "data": {
      "text/latex": [
       "$\\displaystyle \\left[\\begin{matrix}0\\\\0\\\\- \\frac{L {p}'_{1} \\left(4 \\tau_{a 1} + \\tau_{e 1}\\right)}{2 \\tau_{a 1} \\tau_{e 1}}\\\\- \\frac{L {p}'_{2} \\left(4 \\tau_{a 2} + \\tau_{e 2}\\right)}{2 \\tau_{a 2} \\tau_{e 2}}\\\\\\frac{L \\left(4 {p}'_{1} \\tau_{a 1} \\tau_{a 2} \\tau_{e 2} + 4 {p}'_{2} \\tau_{a 1} \\tau_{a 2} \\tau_{e 1} + \\tau_{a 1} \\tau_{e 1} \\tau_{e 2} \\left({\\Psi}' - 3 {p}'_{1} - 2 {p}'_{2} - 3\\right) + \\tau_{a 2} \\tau_{e 1} \\tau_{e 2} \\left(- {\\Psi}' + 3 {p}'_{1} + 2 {p}'_{2} + 2\\right)\\right)}{2 \\tau_{a 1} \\tau_{a 2} \\tau_{e 1} \\tau_{e 2}}\\\\\\frac{L \\left(- 2 \\tau_{a 1} \\left(- {\\Psi}' + 3 {p}'_{1} + 3 {p}'_{2} + 3\\right) + 3 \\tau_{a 2} \\left(- {\\Psi}' + 2 {p}'_{1} + 2 {p}'_{2} + 2\\right)\\right)}{2 \\tau_{a 1} \\tau_{a 2}}\\end{matrix}\\right]$"
      ],
      "text/plain": [
       "⎡                                                                 0           \n",
       "⎢                                                                             \n",
       "⎢                                                                 0           \n",
       "⎢                                                                             \n",
       "⎢                                                      -L⋅p′₁⋅(4⋅τₐ ₁ + τₑ ₁) \n",
       "⎢                                                      ───────────────────────\n",
       "⎢                                                            2⋅τₐ ₁⋅τₑ ₁      \n",
       "⎢                                                                             \n",
       "⎢                                                      -L⋅p′₂⋅(4⋅τₐ ₂ + τₑ ₂) \n",
       "⎢                                                      ───────────────────────\n",
       "⎢                                                            2⋅τₐ ₂⋅τₑ ₂      \n",
       "⎢                                                                             \n",
       "⎢L⋅(4⋅p′₁⋅τₐ ₁⋅τₐ ₂⋅τₑ ₂ + 4⋅p′₂⋅τₐ ₁⋅τₐ ₂⋅τₑ ₁ + τₐ ₁⋅τₑ ₁⋅τₑ ₂⋅(Ψ′ - 3⋅p′₁ -\n",
       "⎢─────────────────────────────────────────────────────────────────────────────\n",
       "⎢                                                       2⋅τₐ ₁⋅τₐ ₂⋅τₑ ₁⋅τₑ ₂ \n",
       "⎢                                                                             \n",
       "⎢                              L⋅(-2⋅τₐ ₁⋅(-Ψ′ + 3⋅p′₁ + 3⋅p′₂ + 3) + 3⋅τₐ ₂⋅(\n",
       "⎢                              ───────────────────────────────────────────────\n",
       "⎣                                                            2⋅τₐ ₁⋅τₐ ₂      \n",
       "\n",
       "                                                       ⎤\n",
       "                                                       ⎥\n",
       "                                                       ⎥\n",
       "                                                       ⎥\n",
       "                                                       ⎥\n",
       "                                                       ⎥\n",
       "                                                       ⎥\n",
       "                                                       ⎥\n",
       "                                                       ⎥\n",
       "                                                       ⎥\n",
       "                                                       ⎥\n",
       "                                                       ⎥\n",
       " 2⋅p′₂ - 3) + τₐ ₂⋅τₑ ₁⋅τₑ ₂⋅(-Ψ′ + 3⋅p′₁ + 2⋅p′₂ + 2))⎥\n",
       "───────────────────────────────────────────────────────⎥\n",
       "                                                       ⎥\n",
       "                                                       ⎥\n",
       "-Ψ′ + 2⋅p′₁ + 2⋅p′₂ + 2))                              ⎥\n",
       "─────────────────────────                              ⎥\n",
       "                                                       ⎦"
      ]
     },
     "execution_count": 19,
     "metadata": {},
     "output_type": "execute_result"
    }
   ],
   "source": [
    "theta1prime, theta2prime, p1prime, p2prime, Lprime, psiprime, Psiprime = sp.symbols('thetaprime_1, thetaprime_2, pprime_1, pprime_2, Lprime, psiprime, Psiprime')\n",
    "Lambda1prime, Lambda2prime, a2prime = sp.symbols('Lambdaprime_1, Lambdaprime_2, aprime2')\n",
    "    \n",
    "# p_i' = pi/L so pi = L * p_i'\n",
    "ptheta_prime_dissipative = sp.simplify(ptheta_dissipative.subs([(p1, p1prime * L), (p2, p2prime * L), (Psi, Psiprime * L)]))  # substitute p1', p2', Psi' as required\n",
    "ptheta_prime_dissipative"
   ]
  },
  {
   "cell_type": "code",
   "execution_count": 20,
   "metadata": {},
   "outputs": [],
   "source": [
    "zprime_dissipative = sp.simplify((ptheta_prime_dissipative - (ptheta_prime_dissipative[4] * sp.Matrix([0, 0, p1prime, p2prime, 0, Psiprime])))/L)"
   ]
  },
  {
   "cell_type": "markdown",
   "metadata": {},
   "source": [
    "Now to transform $\\dot{p_i} \\to \\dot{p'_i}$, we have $\\dot{p'_i} = \\frac{\\dot{p}_i - \\dot{L}p'_i}{L}$"
   ]
  },
  {
   "cell_type": "code",
   "execution_count": 21,
   "metadata": {},
   "outputs": [
    {
     "data": {
      "text/latex": [
       "$\\displaystyle \\left[\\begin{matrix}0\\\\0\\\\\\frac{{p}'_{1} \\left(- 4 {p}'_{1} \\tau_{a 1} \\tau_{a 2} \\tau_{e 2} - 4 {p}'_{2} \\tau_{a 1} \\tau_{a 2} \\tau_{e 1} + \\tau_{a 1} \\tau_{e 1} \\tau_{e 2} \\left(- {\\Psi}' + 3 {p}'_{1} + 2 {p}'_{2} + 3\\right) - \\tau_{a 2} \\tau_{e 1} \\tau_{e 2} \\left(- {\\Psi}' + 3 {p}'_{1} + 2 {p}'_{2} + 2\\right) - \\tau_{a 2} \\tau_{e 2} \\left(4 \\tau_{a 1} + \\tau_{e 1}\\right)\\right)}{2 \\tau_{a 1} \\tau_{a 2} \\tau_{e 1} \\tau_{e 2}}\\\\\\frac{{p}'_{2} \\left(- 4 {p}'_{1} \\tau_{a 1} \\tau_{a 2} \\tau_{e 2} - 4 {p}'_{2} \\tau_{a 1} \\tau_{a 2} \\tau_{e 1} + \\tau_{a 1} \\tau_{e 1} \\tau_{e 2} \\left(- {\\Psi}' + 3 {p}'_{1} + 2 {p}'_{2} + 3\\right) - \\tau_{a 1} \\tau_{e 1} \\left(4 \\tau_{a 2} + \\tau_{e 2}\\right) - \\tau_{a 2} \\tau_{e 1} \\tau_{e 2} \\left(- {\\Psi}' + 3 {p}'_{1} + 2 {p}'_{2} + 2\\right)\\right)}{2 \\tau_{a 1} \\tau_{a 2} \\tau_{e 1} \\tau_{e 2}}\\\\\\frac{{\\Psi}'}{2 \\tau_{a 2}} - \\frac{{\\Psi}'}{2 \\tau_{a 1}} + \\frac{2 {p}'_{1}}{\\tau_{e 1}} - \\frac{3 {p}'_{1}}{2 \\tau_{a 2}} + \\frac{3 {p}'_{1}}{2 \\tau_{a 1}} + \\frac{2 {p}'_{2}}{\\tau_{e 2}} - \\frac{{p}'_{2}}{\\tau_{a 2}} + \\frac{{p}'_{2}}{\\tau_{a 1}} - \\frac{3}{2 \\tau_{a 2}} + \\frac{1}{\\tau_{a 1}}\\\\- \\frac{{\\Psi}' \\left(4 {p}'_{1} \\tau_{a 1} \\tau_{a 2} \\tau_{e 2} + 4 {p}'_{2} \\tau_{a 1} \\tau_{a 2} \\tau_{e 1} - \\tau_{a 1} \\tau_{e 1} \\tau_{e 2} \\left(- {\\Psi}' + 3 {p}'_{1} + 2 {p}'_{2} + 3\\right) + \\tau_{a 2} \\tau_{e 1} \\tau_{e 2} \\left(- {\\Psi}' + 3 {p}'_{1} + 2 {p}'_{2} + 2\\right)\\right) + \\tau_{e 1} \\tau_{e 2} \\left(2 \\tau_{a 1} \\left(- {\\Psi}' + 3 {p}'_{1} + 3 {p}'_{2} + 3\\right) - 3 \\tau_{a 2} \\left(- {\\Psi}' + 2 {p}'_{1} + 2 {p}'_{2} + 2\\right)\\right)}{2 \\tau_{a 1} \\tau_{a 2} \\tau_{e 1} \\tau_{e 2}}\\end{matrix}\\right]$"
      ],
      "text/plain": [
       "⎡                                                                             \n",
       "⎢                                                                             \n",
       "⎢                                                                             \n",
       "⎢                                                                             \n",
       "⎢                            p′₁⋅(-4⋅p′₁⋅τₐ ₁⋅τₐ ₂⋅τₑ ₂ - 4⋅p′₂⋅τₐ ₁⋅τₐ ₂⋅τₑ ₁\n",
       "⎢                            ─────────────────────────────────────────────────\n",
       "⎢                                                                             \n",
       "⎢                                                                             \n",
       "⎢                            p′₂⋅(-4⋅p′₁⋅τₐ ₁⋅τₐ ₂⋅τₑ ₂ - 4⋅p′₂⋅τₐ ₁⋅τₐ ₂⋅τₑ ₁\n",
       "⎢                            ─────────────────────────────────────────────────\n",
       "⎢                                                                             \n",
       "⎢                                                                             \n",
       "⎢                                                                        Ψ′   \n",
       "⎢                                                                      ────── \n",
       "⎢                                                                      2⋅τₐ ₂ \n",
       "⎢                                                                             \n",
       "⎢-(Ψ′⋅(4⋅p′₁⋅τₐ ₁⋅τₐ ₂⋅τₑ ₂ + 4⋅p′₂⋅τₐ ₁⋅τₐ ₂⋅τₑ ₁ - τₐ ₁⋅τₑ ₁⋅τₑ ₂⋅(-Ψ′ + 3⋅p\n",
       "⎢─────────────────────────────────────────────────────────────────────────────\n",
       "⎣                                                                             \n",
       "\n",
       "                                0                                             \n",
       "                                                                              \n",
       "                                0                                             \n",
       "                                                                              \n",
       " + τₐ ₁⋅τₑ ₁⋅τₑ ₂⋅(-Ψ′ + 3⋅p′₁ + 2⋅p′₂ + 3) - τₐ ₂⋅τₑ ₁⋅τₑ ₂⋅(-Ψ′ + 3⋅p′₁ + 2⋅\n",
       "──────────────────────────────────────────────────────────────────────────────\n",
       "                      2⋅τₐ ₁⋅τₐ ₂⋅τₑ ₁⋅τₑ ₂                                   \n",
       "                                                                              \n",
       " + τₐ ₁⋅τₑ ₁⋅τₑ ₂⋅(-Ψ′ + 3⋅p′₁ + 2⋅p′₂ + 3) - τₐ ₁⋅τₑ ₁⋅(4⋅τₐ ₂ + τₑ ₂) - τₐ ₂\n",
       "──────────────────────────────────────────────────────────────────────────────\n",
       "                      2⋅τₐ ₁⋅τₐ ₂⋅τₑ ₁⋅τₑ ₂                                   \n",
       "                                                                              \n",
       "    Ψ′     2⋅p′₁   3⋅p′₁    3⋅p′₁    2⋅p′₂   p′₂    p′₂      3       1        \n",
       "- ────── + ───── - ────── + ────── + ───── - ──── + ──── - ────── + ────      \n",
       "  2⋅τₐ ₁    τₑ ₁   2⋅τₐ ₂   2⋅τₐ ₁    τₑ ₂   τₐ ₂   τₐ ₁   2⋅τₐ ₂   τₐ ₁      \n",
       "                                                                              \n",
       "′₁ + 2⋅p′₂ + 3) + τₐ ₂⋅τₑ ₁⋅τₑ ₂⋅(-Ψ′ + 3⋅p′₁ + 2⋅p′₂ + 2)) + τₑ ₁⋅τₑ ₂⋅(2⋅τₐ \n",
       "──────────────────────────────────────────────────────────────────────────────\n",
       "                      2⋅τₐ ₁⋅τₐ ₂⋅τₑ ₁⋅τₑ ₂                                   \n",
       "\n",
       "                                                                 ⎤\n",
       "                                                                 ⎥\n",
       "                                                                 ⎥\n",
       "                                                                 ⎥\n",
       "p′₂ + 2) - τₐ ₂⋅τₑ ₂⋅(4⋅τₐ ₁ + τₑ ₁))                            ⎥\n",
       "─────────────────────────────────────                            ⎥\n",
       "                                                                 ⎥\n",
       "                                                                 ⎥\n",
       "⋅τₑ ₁⋅τₑ ₂⋅(-Ψ′ + 3⋅p′₁ + 2⋅p′₂ + 2))                            ⎥\n",
       "─────────────────────────────────────                            ⎥\n",
       "                                                                 ⎥\n",
       "                                                                 ⎥\n",
       "                                                                 ⎥\n",
       "                                                                 ⎥\n",
       "                                                                 ⎥\n",
       "                                                                 ⎥\n",
       "₁⋅(-Ψ′ + 3⋅p′₁ + 3⋅p′₂ + 3) - 3⋅τₐ ₂⋅(-Ψ′ + 2⋅p′₁ + 2⋅p′₂ + 2))) ⎥\n",
       "─────────────────────────────────────────────────────────────────⎥\n",
       "                                                                 ⎦"
      ]
     },
     "execution_count": 21,
     "metadata": {},
     "output_type": "execute_result"
    }
   ],
   "source": [
    "zprime_dissipative #.expand()"
   ]
  },
  {
   "cell_type": "markdown",
   "metadata": {},
   "source": [
    "### 4.6"
   ]
  },
  {
   "cell_type": "markdown",
   "metadata": {},
   "source": [
    "Conservative part:"
   ]
  },
  {
   "cell_type": "code",
   "execution_count": 22,
   "metadata": {},
   "outputs": [
    {
     "data": {
      "text/latex": [
       "$\\displaystyle - \\frac{\\sqrt{2} C_{(3,-2,-1,0,0,0)}^{(0,0,0,0),(0,0)}(\\alpha_{1,2}) G m_{1} m_{2} \\sqrt{p_{1}} \\cos{\\left(\\theta_{1} \\right)}}{\\sqrt{\\Lambda_{1,0}} a_{2,0}} - \\frac{\\sqrt{2} C_{(3,-2,0,-1,0,0)}^{(0,0,0,0),(0,0)}(\\alpha_{1,2}) G m_{1} m_{2} \\sqrt{p_{2}} \\cos{\\left(\\theta_{2} \\right)}}{\\sqrt{\\Lambda_{2,0}} a_{2,0}} - \\frac{G^{2} M_{1}^{2} \\mu_{1}^{3}}{2 \\left(- 2 L + \\Psi - 2 p_{1} - 2 p_{2}\\right)^{2}} - \\frac{G^{2} M_{2}^{2} \\mu_{2}^{3}}{2 \\left(3 L - \\Psi + 3 p_{1} + 3 p_{2}\\right)^{2}}$"
      ],
      "text/plain": [
       "                                                                    ____      \n",
       "  √2⋅C_{(3,-2,-1,0,0,0)}_{1,2})__{(0,0,0,0),(0,0)}(\\alpha⋅G⋅m₁⋅m₂⋅╲╱ p₁ ⋅cos(θ\n",
       "- ────────────────────────────────────────────────────────────────────────────\n",
       "                              _______________                                 \n",
       "                            ╲╱ \\Lambda_{1,0} ⋅a_{2,0}                         \n",
       "\n",
       "                                                                       ____   \n",
       "₁)   √2⋅C_{(3,-2,0,-1,0,0)}_{1,2})__{(0,0,0,0),(0,0)}(\\alpha⋅G⋅m₁⋅m₂⋅╲╱ p₂ ⋅co\n",
       "── - ─────────────────────────────────────────────────────────────────────────\n",
       "                                 _______________                              \n",
       "                               ╲╱ \\Lambda_{2,0} ⋅a_{2,0}                      \n",
       "\n",
       "                  2   2   3                    2   2   3        \n",
       "s(θ₂)            G ⋅M₁ ⋅μ₁                    G ⋅M₂ ⋅μ₂         \n",
       "───── - ─────────────────────────── - ──────────────────────────\n",
       "                                  2                            2\n",
       "        2⋅(-2⋅L + Ψ - 2⋅p₁ - 2⋅p₂)    2⋅(3⋅L - Ψ + 3⋅p₁ + 3⋅p₂) "
      ]
     },
     "execution_count": 22,
     "metadata": {},
     "output_type": "execute_result"
    }
   ],
   "source": [
    "new_ham.H"
   ]
  },
  {
   "cell_type": "code",
   "execution_count": 23,
   "metadata": {},
   "outputs": [
    {
     "data": {
      "text/latex": [
       "$\\displaystyle 1.3464169490854 \\cdot 10^{-6} \\sqrt{2} \\sqrt{p_{1}} \\cos{\\left(\\theta_{1} \\right)} - 9.21445629094961 \\cdot 10^{-7} \\sqrt{2} \\sqrt{p_{2}} \\cos{\\left(\\theta_{2} \\right)} - \\frac{6.06312105881349 \\cdot 10^{-9}}{\\left(3 L - \\Psi + 3 p_{1} + 3 p_{2}\\right)^{2}} - \\frac{2.72896190187117 \\cdot 10^{-10}}{\\left(- 2 L + \\Psi - 2 p_{1} - 2 p_{2}\\right)^{2}}$"
      ],
      "text/plain": [
       "                        ____                                    ____          \n",
       "1.3464169490854e-6⋅√2⋅╲╱ p₁ ⋅cos(θ₁) - 9.21445629094961e-7⋅√2⋅╲╱ p₂ ⋅cos(θ₂) -\n",
       "                                                                              \n",
       "                                                                              \n",
       "\n",
       "   6.06312105881349e-9         2.72896190187117e-10  \n",
       " ──────────────────────── - ─────────────────────────\n",
       "                        2                           2\n",
       " (3⋅L - Ψ + 3⋅p₁ + 3⋅p₂)    (-2⋅L + Ψ - 2⋅p₁ - 2⋅p₂) "
      ]
     },
     "execution_count": 23,
     "metadata": {},
     "output_type": "execute_result"
    }
   ],
   "source": [
    "new_ham.N_H"
   ]
  },
  {
   "cell_type": "markdown",
   "metadata": {},
   "source": [
    "Make the substitutions for $\\theta_i$, $p_i$, $\\Psi$, and also $\\Lambda_i$, $a_i$ to get H prime:"
   ]
  },
  {
   "cell_type": "code",
   "execution_count": 24,
   "metadata": {},
   "outputs": [
    {
     "data": {
      "text/latex": [
       "$\\displaystyle \\left( \\Lambda_{1,0}, \\  \\Lambda_{2,0}, \\  a_{2,0}\\right)$"
      ],
      "text/plain": [
       "(\\Lambda_{1,0}, \\Lambda_{2,0}, a_{2,0})"
      ]
     },
     "execution_count": 24,
     "metadata": {},
     "output_type": "execute_result"
    }
   ],
   "source": [
    "theta1, theta2, l, psi, phi1, phi2, p1, p2, L, Psi, Phi1, Phi2 = new_ham.qp_vars\n",
    "L_0 = sp.symbols('L0', positive=True)\n",
    "vals = [key for key in new_ham.H_params]\n",
    "\n",
    "Lambda1 = vals[4]\n",
    "Lambda2 = vals[10]\n",
    "a2 = vals[11]\n",
    "\n",
    "Lambda1, Lambda2, a2"
   ]
  },
  {
   "cell_type": "code",
   "execution_count": 25,
   "metadata": {},
   "outputs": [
    {
     "data": {
      "text/latex": [
       "$\\displaystyle \\frac{- \\frac{\\sqrt{2} C_{(3,-2,-1,0,0,0)}^{(0,0,0,0),(0,0)}(\\alpha_{1,2}) G L_{0}^{\\frac{5}{2}} m_{1} m_{2} \\sqrt{L {p}'_{1}} \\cos{\\left(\\theta_{1} \\right)}}{L^{\\frac{5}{2}} \\sqrt{\\Lambda_{1,0}} a_{2,0}} - \\frac{\\sqrt{2} C_{(3,-2,0,-1,0,0)}^{(0,0,0,0),(0,0)}(\\alpha_{1,2}) G L_{0}^{\\frac{5}{2}} m_{1} m_{2} \\sqrt{L {p}'_{2}} \\cos{\\left(\\theta_{2} \\right)}}{L^{\\frac{5}{2}} \\sqrt{\\Lambda_{2,0}} a_{2,0}} - \\frac{G^{2} M_{1}^{2} \\mu_{1}^{3}}{2 \\left(L {\\Psi}' - 2 L {p}'_{1} - 2 L {p}'_{2} - 2 L\\right)^{2}} - \\frac{G^{2} M_{2}^{2} \\mu_{2}^{3}}{2 \\left(- L {\\Psi}' + 3 L {p}'_{1} + 3 L {p}'_{2} + 3 L\\right)^{2}}}{L}$"
      ],
      "text/plain": [
       "                                                              5/2         ____\n",
       "  √2⋅C_{(3,-2,-1,0,0,0)}_{1,2})__{(0,0,0,0),(0,0)}(\\alpha⋅G⋅L₀   ⋅m₁⋅m₂⋅╲╱ L⋅p\n",
       "- ────────────────────────────────────────────────────────────────────────────\n",
       "                                5/2   _______________                         \n",
       "                               L   ⋅╲╱ \\Lambda_{1,0} ⋅a_{2,0}                 \n",
       "──────────────────────────────────────────────────────────────────────────────\n",
       "                                                                              \n",
       "\n",
       "___                                                                       5/2 \n",
       "′₁ ⋅cos(θ₁)   √2⋅C_{(3,-2,0,-1,0,0)}_{1,2})__{(0,0,0,0),(0,0)}(\\alpha⋅G⋅L₀   ⋅\n",
       "─────────── - ────────────────────────────────────────────────────────────────\n",
       "                                            5/2   _______________             \n",
       "                                           L   ⋅╲╱ \\Lambda_{2,0} ⋅a_{2,0}     \n",
       "──────────────────────────────────────────────────────────────────────────────\n",
       "                                                 L                            \n",
       "\n",
       "        _______                         2   2   3                             \n",
       "m₁⋅m₂⋅╲╱ L⋅p′₂ ⋅cos(θ₂)                G ⋅M₁ ⋅μ₁                             G\n",
       "─────────────────────── - ─────────────────────────────────── - ──────────────\n",
       "                                                            2                 \n",
       "                          2⋅(L⋅Ψ′ - 2⋅L⋅p′₁ - 2⋅L⋅p′₂ - 2⋅L)    2⋅(-L⋅Ψ′ + 3⋅L\n",
       "──────────────────────────────────────────────────────────────────────────────\n",
       "                                                                              \n",
       "\n",
       "2   2   3             \n",
       " ⋅M₂ ⋅μ₂              \n",
       "──────────────────────\n",
       "                     2\n",
       "⋅p′₁ + 3⋅L⋅p′₂ + 3⋅L) \n",
       "──────────────────────\n",
       "                      "
      ]
     },
     "execution_count": 25,
     "metadata": {},
     "output_type": "execute_result"
    }
   ],
   "source": [
    "Hprime = (new_ham.H.subs([(p1, p1prime * L), (p2, p2prime * L), (Psi, Psiprime * L), (Lambda1, Lambda1 * (L/L_0)), (Lambda2, Lambda2 * (L/L_0)), (a2, a2 * (L/L_0) ** 2)]))/L\n",
    "# Hprime = (new_ham.H.subs([(p1, p1prime * L), (p2, p2prime * L), (Psi, Psiprime * L), (Lambda1, Lambda1prime * (L_0/L)), (Lambda2, Lambda2prime * (L_0/L)), (a2, a2prime * (L_0/L) ** 2)]))\n",
    "Hprime"
   ]
  },
  {
   "cell_type": "markdown",
   "metadata": {},
   "source": [
    "Simplify:"
   ]
  },
  {
   "cell_type": "code",
   "execution_count": 26,
   "metadata": {},
   "outputs": [],
   "source": [
    "Hprime_simplified = sp.simplify(Hprime)"
   ]
  },
  {
   "cell_type": "code",
   "execution_count": 27,
   "metadata": {},
   "outputs": [
    {
     "data": {
      "text/latex": [
       "$\\displaystyle - \\frac{\\sqrt{2} C_{(3,-2,-1,0,0,0)}^{(0,0,0,0),(0,0)}(\\alpha_{1,2}) G L_{0}^{\\frac{5}{2}} m_{1} m_{2} \\sqrt{L {p}'_{1}} \\cos{\\left(\\theta_{1} \\right)}}{L^{\\frac{7}{2}} \\sqrt{\\Lambda_{1,0}} a_{2,0}} - \\frac{\\sqrt{2} C_{(3,-2,0,-1,0,0)}^{(0,0,0,0),(0,0)}(\\alpha_{1,2}) G L_{0}^{\\frac{5}{2}} m_{1} m_{2} \\sqrt{L {p}'_{2}} \\cos{\\left(\\theta_{2} \\right)}}{L^{\\frac{7}{2}} \\sqrt{\\Lambda_{2,0}} a_{2,0}} - \\frac{G^{2} M_{1}^{2} \\mu_{1}^{3}}{2 L^{3} \\left(- {\\Psi}' + 2 {p}'_{1} + 2 {p}'_{2} + 2\\right)^{2}} - \\frac{G^{2} M_{2}^{2} \\mu_{2}^{3}}{2 L^{3} \\left(- {\\Psi}' + 3 {p}'_{1} + 3 {p}'_{2} + 3\\right)^{2}}$"
      ],
      "text/plain": [
       "                                                              5/2         ____\n",
       "  √2⋅C_{(3,-2,-1,0,0,0)}_{1,2})__{(0,0,0,0),(0,0)}(\\alpha⋅G⋅L₀   ⋅m₁⋅m₂⋅╲╱ L⋅p\n",
       "- ────────────────────────────────────────────────────────────────────────────\n",
       "                                7/2   _______________                         \n",
       "                               L   ⋅╲╱ \\Lambda_{1,0} ⋅a_{2,0}                 \n",
       "\n",
       "___                                                                       5/2 \n",
       "′₁ ⋅cos(θ₁)   √2⋅C_{(3,-2,0,-1,0,0)}_{1,2})__{(0,0,0,0),(0,0)}(\\alpha⋅G⋅L₀   ⋅\n",
       "─────────── - ────────────────────────────────────────────────────────────────\n",
       "                                            7/2   _______________             \n",
       "                                           L   ⋅╲╱ \\Lambda_{2,0} ⋅a_{2,0}     \n",
       "\n",
       "        _______                       2   2   3                         2   2 \n",
       "m₁⋅m₂⋅╲╱ L⋅p′₂ ⋅cos(θ₂)              G ⋅M₁ ⋅μ₁                         G ⋅M₂ ⋅\n",
       "─────────────────────── - ─────────────────────────────── - ──────────────────\n",
       "                             3                          2      3              \n",
       "                          2⋅L ⋅(-Ψ′ + 2⋅p′₁ + 2⋅p′₂ + 2)    2⋅L ⋅(-Ψ′ + 3⋅p′₁ \n",
       "\n",
       "  3          \n",
       "μ₂           \n",
       "─────────────\n",
       "            2\n",
       "+ 3⋅p′₂ + 3) "
      ]
     },
     "execution_count": 27,
     "metadata": {},
     "output_type": "execute_result"
    }
   ],
   "source": [
    "Hprime_simplified"
   ]
  },
  {
   "cell_type": "markdown",
   "metadata": {},
   "source": [
    "Finally, eliminate the leading $L^{-3}$ factor by setting it to $1$, and also set $L_0$ to $1$ to normalize:"
   ]
  },
  {
   "cell_type": "code",
   "execution_count": 28,
   "metadata": {},
   "outputs": [
    {
     "data": {
      "text/latex": [
       "$\\displaystyle - \\frac{\\sqrt{2} C_{(3,-2,-1,0,0,0)}^{(0,0,0,0),(0,0)}(\\alpha_{1,2}) G m_{1} m_{2} \\sqrt{{p}'_{1}} \\cos{\\left(\\theta_{1} \\right)}}{\\sqrt{\\Lambda_{1,0}} a_{2,0}} - \\frac{\\sqrt{2} C_{(3,-2,0,-1,0,0)}^{(0,0,0,0),(0,0)}(\\alpha_{1,2}) G m_{1} m_{2} \\sqrt{{p}'_{2}} \\cos{\\left(\\theta_{2} \\right)}}{\\sqrt{\\Lambda_{2,0}} a_{2,0}} - \\frac{G^{2} M_{1}^{2} \\mu_{1}^{3}}{2 \\left(- {\\Psi}' + 2 {p}'_{1} + 2 {p}'_{2} + 2\\right)^{2}} - \\frac{G^{2} M_{2}^{2} \\mu_{2}^{3}}{2 \\left(- {\\Psi}' + 3 {p}'_{1} + 3 {p}'_{2} + 3\\right)^{2}}$"
      ],
      "text/plain": [
       "                                                                    _____     \n",
       "  √2⋅C_{(3,-2,-1,0,0,0)}_{1,2})__{(0,0,0,0),(0,0)}(\\alpha⋅G⋅m₁⋅m₂⋅╲╱ p′₁ ⋅cos(\n",
       "- ────────────────────────────────────────────────────────────────────────────\n",
       "                               _______________                                \n",
       "                             ╲╱ \\Lambda_{1,0} ⋅a_{2,0}                        \n",
       "\n",
       "                                                                        _____ \n",
       "θ₁)   √2⋅C_{(3,-2,0,-1,0,0)}_{1,2})__{(0,0,0,0),(0,0)}(\\alpha⋅G⋅m₁⋅m₂⋅╲╱ p′₂ ⋅\n",
       "─── - ────────────────────────────────────────────────────────────────────────\n",
       "                                   _______________                            \n",
       "                                 ╲╱ \\Lambda_{2,0} ⋅a_{2,0}                    \n",
       "\n",
       "                    2   2   3                      2   2   3         \n",
       "cos(θ₂)            G ⋅M₁ ⋅μ₁                      G ⋅M₂ ⋅μ₂          \n",
       "─────── - ──────────────────────────── - ────────────────────────────\n",
       "                                     2                              2\n",
       "          2⋅(-Ψ′ + 2⋅p′₁ + 2⋅p′₂ + 2)    2⋅(-Ψ′ + 3⋅p′₁ + 3⋅p′₂ + 3) "
      ]
     },
     "execution_count": 28,
     "metadata": {},
     "output_type": "execute_result"
    }
   ],
   "source": [
    "Hprime_simplified_L = Hprime_simplified.subs([(L, 1), (L_0, 1)])\n",
    "Hprime_simplified_L"
   ]
  },
  {
   "cell_type": "markdown",
   "metadata": {},
   "source": [
    "Now that we have a Hamiltonian $H'(q', p')$ in the form $H' = L^{-3} h(q', p')$ we take the Poisson bracket of $\\mathbf{z}$, $h\\left(\\mathbf{z}\\right)$ ($\\{\\mathbf{z}, h\\left(\\mathbf{z}\\right)\\}$), first replacing constants with numerical values:"
   ]
  },
  {
   "cell_type": "code",
   "execution_count": 29,
   "metadata": {},
   "outputs": [
    {
     "data": {
      "text/latex": [
       "$\\displaystyle 1.3464169490854 \\cdot 10^{-6} \\sqrt{2} \\sqrt{{p}'_{1}} \\cos{\\left(\\theta_{1} \\right)} - 9.21445629094961 \\cdot 10^{-7} \\sqrt{2} \\sqrt{{p}'_{2}} \\cos{\\left(\\theta_{2} \\right)} - \\frac{6.06312105881349 \\cdot 10^{-9}}{\\left(- {\\Psi}' + 3 {p}'_{1} + 3 {p}'_{2} + 3\\right)^{2}} - \\frac{2.72896190187117 \\cdot 10^{-10}}{\\left(- {\\Psi}' + 2 {p}'_{1} + 2 {p}'_{2} + 2\\right)^{2}}$"
      ],
      "text/plain": [
       "                        _____                                    _____        \n",
       "1.3464169490854e-6⋅√2⋅╲╱ p′₁ ⋅cos(θ₁) - 9.21445629094961e-7⋅√2⋅╲╱ p′₂ ⋅cos(θ₂)\n",
       "                                                                              \n",
       "                                                                              \n",
       "\n",
       "      6.06312105881349e-9          2.72896190187117e-10   \n",
       " - ────────────────────────── - ──────────────────────────\n",
       "                            2                            2\n",
       "   (-Ψ′ + 3⋅p′₁ + 3⋅p′₂ + 3)    (-Ψ′ + 2⋅p′₁ + 2⋅p′₂ + 2) "
      ]
     },
     "execution_count": 29,
     "metadata": {},
     "output_type": "execute_result"
    }
   ],
   "source": [
    "Hprime_N = Hprime_simplified_L.subs([value for value in new_ham.H_params.items()])\n",
    "Hprime_N"
   ]
  },
  {
   "cell_type": "markdown",
   "metadata": {},
   "source": [
    "Create $\\mathbf{z}' = \\{\\theta_1, \\theta_2, \\psi', p_1', p_2', \\Psi'\\}$:"
   ]
  },
  {
   "cell_type": "code",
   "execution_count": 30,
   "metadata": {},
   "outputs": [],
   "source": [
    "zprime_p = ([theta1, theta2, psi, p1prime, p2prime, Psiprime])"
   ]
  },
  {
   "cell_type": "code",
   "execution_count": 31,
   "metadata": {},
   "outputs": [],
   "source": [
    "# zfunc = sp.lambdify(zprime_p, sp.Lambda(zprime_p, zprime_p))\n",
    "# Hfunc = sp.lambdify(zprime_p, Hprime_N)\n",
    "# zfunc, Hfunc\n",
    "\n",
    "# sp.Matrix([sp.diff(zfunc, v) for v in zprime_p]).dot(sp.Matrix([sp.diff(Hprime_N, v) for v in zprime_p]))\n",
    "\n",
    "# type(sp.Matrix([sp.diff(zfunc, v) for v in zprime_p])), type(sp.Matrix([sp.diff(Hprime_N, v) for v in zprime_p]))\n",
    "\n",
    "# # zfunc = np.array(zprime_p)\n",
    "# sp.Matrix([sp.diff(zfunc, v) for v in zprime_p])\n",
    "\n",
    "# sp.Matrix([sp.diff(Hprime_N, v) for v in zprime_p])\n",
    "\n",
    "# gradf, Omega * gradg\n",
    "\n",
    "# Omega = sp.Matrix(-1j * cm.miscellaneous.getOmegaMatrix(len(zprime_p)//2))\n",
    "\n",
    "# gradf = sp.Matrix([sp.diff(zfunc, v) for v in zprime_p])\n",
    "# gradg = sp.Matrix([sp.diff(Hprime_N, v) for v in zprime_p])\n",
    "\n",
    "# gradf.dot(Omega * gradg)"
   ]
  },
  {
   "cell_type": "markdown",
   "metadata": {},
   "source": [
    "Define a function that computes the poisson bracket of $f$ and $g$:"
   ]
  },
  {
   "cell_type": "code",
   "execution_count": 32,
   "metadata": {},
   "outputs": [],
   "source": [
    "def poisson_bracket(f, g, variables):\n",
    "    \"\"\"\n",
    "    gets the poisson bracket of two functions f(qi, pi, t) and g(qi, pi, t)\n",
    "    f is a sympy expression f(qi, pi, t) -> R\n",
    "    g is a sympy expression g(qi, pi, t) -> R\n",
    "    variables are an array of the form (q_1, ... q_n, p_1, ..... p_n)\n",
    "    \"\"\"\n",
    "    pb_total = sp.zeros(len(variables), 1)\n",
    "    for i in range(0, len(variables) //2):\n",
    "        # get the ith q, p pair\n",
    "        q_i = variables[i]\n",
    "        p_i = variables[len(variables)//2 + i]\n",
    "        # definition of poisson bracket as df/dq dg/dp - df/dp dg/dq\n",
    "        pb_i = sp.diff(f, q_i) * sp.diff(g, p_i) - sp.diff(f, p_i) * sp.diff(g, q_i)\n",
    "        # sum over all i\n",
    "        pb_total += pb_i\n",
    "    return pb_total"
   ]
  },
  {
   "cell_type": "markdown",
   "metadata": {},
   "source": [
    "Use it to compute $\\{\\mathbf{z}, h\\left(\\mathbf{z}\\right)\\}$ which is the conservative term in the equation:"
   ]
  },
  {
   "cell_type": "code",
   "execution_count": 33,
   "metadata": {},
   "outputs": [
    {
     "data": {
      "text/latex": [
       "$\\displaystyle \\left[\\begin{matrix}\\frac{3.6378726352881 \\cdot 10^{-8}}{\\left(- {\\Psi}' + 3 {p}'_{1} + 3 {p}'_{2} + 3\\right)^{3}} + \\frac{1.09158476074847 \\cdot 10^{-9}}{\\left(- {\\Psi}' + 2 {p}'_{1} + 2 {p}'_{2} + 2\\right)^{3}} + \\frac{6.732084745427 \\cdot 10^{-7} \\sqrt{2} \\cos{\\left(\\theta_{1} \\right)}}{\\sqrt{{p}'_{1}}}\\\\\\frac{3.6378726352881 \\cdot 10^{-8}}{\\left(- {\\Psi}' + 3 {p}'_{1} + 3 {p}'_{2} + 3\\right)^{3}} + \\frac{1.09158476074847 \\cdot 10^{-9}}{\\left(- {\\Psi}' + 2 {p}'_{1} + 2 {p}'_{2} + 2\\right)^{3}} - \\frac{4.6072281454748 \\cdot 10^{-7} \\sqrt{2} \\cos{\\left(\\theta_{2} \\right)}}{\\sqrt{{p}'_{2}}}\\\\- \\frac{1.2126242117627 \\cdot 10^{-8}}{\\left(- {\\Psi}' + 3 {p}'_{1} + 3 {p}'_{2} + 3\\right)^{3}} - \\frac{5.45792380374233 \\cdot 10^{-10}}{\\left(- {\\Psi}' + 2 {p}'_{1} + 2 {p}'_{2} + 2\\right)^{3}}\\\\1.3464169490854 \\cdot 10^{-6} \\sqrt{2} \\sqrt{{p}'_{1}} \\sin{\\left(\\theta_{1} \\right)}\\\\- 9.21445629094961 \\cdot 10^{-7} \\sqrt{2} \\sqrt{{p}'_{2}} \\sin{\\left(\\theta_{2} \\right)}\\\\0\\end{matrix}\\right]$"
      ],
      "text/plain": [
       "⎡    3.6378726352881e-8          1.09158476074847e-9       6.732084745427e-7⋅√\n",
       "⎢────────────────────────── + ────────────────────────── + ───────────────────\n",
       "⎢                         3                            3               _____  \n",
       "⎢(-Ψ′ + 3⋅p′₁ + 3⋅p′₂ + 3)    (-Ψ′ + 2⋅p′₁ + 2⋅p′₂ + 2)              ╲╱ p′₁   \n",
       "⎢                                                                             \n",
       "⎢    3.6378726352881e-8          1.09158476074847e-9       4.6072281454748e-7⋅\n",
       "⎢────────────────────────── + ────────────────────────── - ───────────────────\n",
       "⎢                         3                            3                _____ \n",
       "⎢(-Ψ′ + 3⋅p′₁ + 3⋅p′₂ + 3)    (-Ψ′ + 2⋅p′₁ + 2⋅p′₂ + 2)               ╲╱ p′₂  \n",
       "⎢                                                                             \n",
       "⎢                     1.2126242117627e-8          5.45792380374233e-10        \n",
       "⎢               - ────────────────────────── - ──────────────────────────     \n",
       "⎢                                          3                            3     \n",
       "⎢                 (-Ψ′ + 3⋅p′₁ + 3⋅p′₂ + 3)    (-Ψ′ + 2⋅p′₁ + 2⋅p′₂ + 2)      \n",
       "⎢                                                                             \n",
       "⎢                                                 _____                       \n",
       "⎢                         1.3464169490854e-6⋅√2⋅╲╱ p′₁ ⋅sin(θ₁)               \n",
       "⎢                                                                             \n",
       "⎢                                                  _____                      \n",
       "⎢                        -9.21445629094961e-7⋅√2⋅╲╱ p′₂ ⋅sin(θ₂)              \n",
       "⎢                                                                             \n",
       "⎣                                           0                                 \n",
       "\n",
       "2⋅cos(θ₁) ⎤\n",
       "───────── ⎥\n",
       "          ⎥\n",
       "          ⎥\n",
       "          ⎥\n",
       "√2⋅cos(θ₂)⎥\n",
       "──────────⎥\n",
       "          ⎥\n",
       "          ⎥\n",
       "          ⎥\n",
       "          ⎥\n",
       "          ⎥\n",
       "          ⎥\n",
       "          ⎥\n",
       "          ⎥\n",
       "          ⎥\n",
       "          ⎥\n",
       "          ⎥\n",
       "          ⎥\n",
       "          ⎥\n",
       "          ⎥\n",
       "          ⎦"
      ]
     },
     "execution_count": 33,
     "metadata": {},
     "output_type": "execute_result"
    }
   ],
   "source": [
    "zh_pb = poisson_bracket(sp.Matrix(zprime_p), Hprime_N, zprime_p)\n",
    "zh_pb"
   ]
  },
  {
   "cell_type": "markdown",
   "metadata": {},
   "source": [
    "Dissipative component:"
   ]
  },
  {
   "cell_type": "markdown",
   "metadata": {},
   "source": [
    "Sub in values of $\\tau_{a_i} \\to \\tau_{a_i}' = \\tau_{a_i} \\times \\left(L/L_0\\right)^3$ and same with $\\tau_{e_i}$:"
   ]
  },
  {
   "cell_type": "code",
   "execution_count": 34,
   "metadata": {},
   "outputs": [
    {
     "data": {
      "text/latex": [
       "$\\displaystyle \\left[\\begin{matrix}0\\\\0\\\\- \\frac{L_{0}^{3} {p}'_{1} \\left(4 {p}'_{1} \\tau_{a 1} \\tau_{a 2} \\tau_{e 2} + 4 {p}'_{2} \\tau_{a 1} \\tau_{a 2} \\tau_{e 1} - \\tau_{a 1} \\tau_{e 1} \\tau_{e 2} \\left(- {\\Psi}' + 3 {p}'_{1} + 2 {p}'_{2} + 3\\right) + \\tau_{a 2} \\tau_{e 1} \\tau_{e 2} \\left(- {\\Psi}' + 3 {p}'_{1} + 2 {p}'_{2} + 2\\right) + \\tau_{a 2} \\tau_{e 2} \\left(4 \\tau_{a 1} + \\tau_{e 1}\\right)\\right)}{2 L^{3} \\tau_{a 1} \\tau_{a 2} \\tau_{e 1} \\tau_{e 2}}\\\\- \\frac{L_{0}^{3} {p}'_{2} \\left(4 {p}'_{1} \\tau_{a 1} \\tau_{a 2} \\tau_{e 2} + 4 {p}'_{2} \\tau_{a 1} \\tau_{a 2} \\tau_{e 1} - \\tau_{a 1} \\tau_{e 1} \\tau_{e 2} \\left(- {\\Psi}' + 3 {p}'_{1} + 2 {p}'_{2} + 3\\right) + \\tau_{a 1} \\tau_{e 1} \\left(4 \\tau_{a 2} + \\tau_{e 2}\\right) + \\tau_{a 2} \\tau_{e 1} \\tau_{e 2} \\left(- {\\Psi}' + 3 {p}'_{1} + 2 {p}'_{2} + 2\\right)\\right)}{2 L^{3} \\tau_{a 1} \\tau_{a 2} \\tau_{e 1} \\tau_{e 2}}\\\\\\frac{L_{0}^{3} \\left(4 {p}'_{1} \\tau_{a 1} \\tau_{a 2} \\tau_{e 2} + 4 {p}'_{2} \\tau_{a 1} \\tau_{a 2} \\tau_{e 1} + \\tau_{a 1} \\tau_{e 1} \\tau_{e 2} \\left({\\Psi}' - 3 {p}'_{1} - 2 {p}'_{2} - 3\\right) + \\tau_{a 2} \\tau_{e 1} \\tau_{e 2} \\left(- {\\Psi}' + 3 {p}'_{1} + 2 {p}'_{2} + 2\\right)\\right)}{2 L^{3} \\tau_{a 1} \\tau_{a 2} \\tau_{e 1} \\tau_{e 2}}\\\\- \\frac{L_{0}^{3} \\left({\\Psi}' \\left(4 {p}'_{1} \\tau_{a 1} \\tau_{a 2} \\tau_{e 2} + 4 {p}'_{2} \\tau_{a 1} \\tau_{a 2} \\tau_{e 1} - \\tau_{a 1} \\tau_{e 1} \\tau_{e 2} \\left(- {\\Psi}' + 3 {p}'_{1} + 2 {p}'_{2} + 3\\right) + \\tau_{a 2} \\tau_{e 1} \\tau_{e 2} \\left(- {\\Psi}' + 3 {p}'_{1} + 2 {p}'_{2} + 2\\right)\\right) + \\tau_{e 1} \\tau_{e 2} \\left(2 \\tau_{a 1} \\left(- {\\Psi}' + 3 {p}'_{1} + 3 {p}'_{2} + 3\\right) - 3 \\tau_{a 2} \\left(- {\\Psi}' + 2 {p}'_{1} + 2 {p}'_{2} + 2\\right)\\right)\\right)}{2 L^{3} \\tau_{a 1} \\tau_{a 2} \\tau_{e 1} \\tau_{e 2}}\\end{matrix}\\right]$"
      ],
      "text/plain": [
       "⎡                                                                             \n",
       "⎢                                                                             \n",
       "⎢                                                                             \n",
       "⎢                                                                             \n",
       "⎢                              3                                              \n",
       "⎢                           -L₀ ⋅p′₁⋅(4⋅p′₁⋅τₐ ₁⋅τₐ ₂⋅τₑ ₂ + 4⋅p′₂⋅τₐ ₁⋅τₐ ₂⋅τ\n",
       "⎢                           ──────────────────────────────────────────────────\n",
       "⎢                                                                             \n",
       "⎢                                                                             \n",
       "⎢                                                                             \n",
       "⎢                              3                                              \n",
       "⎢                           -L₀ ⋅p′₂⋅(4⋅p′₁⋅τₐ ₁⋅τₐ ₂⋅τₑ ₂ + 4⋅p′₂⋅τₐ ₁⋅τₐ ₂⋅τ\n",
       "⎢                           ──────────────────────────────────────────────────\n",
       "⎢                                                                             \n",
       "⎢                                                                             \n",
       "⎢                                                                             \n",
       "⎢                                               3                             \n",
       "⎢                                             L₀ ⋅(4⋅p′₁⋅τₐ ₁⋅τₐ ₂⋅τₑ ₂ + 4⋅p′\n",
       "⎢                                             ────────────────────────────────\n",
       "⎢                                                                             \n",
       "⎢                                                                             \n",
       "⎢                                                                             \n",
       "⎢   3                                                                         \n",
       "⎢-L₀ ⋅(Ψ′⋅(4⋅p′₁⋅τₐ ₁⋅τₐ ₂⋅τₑ ₂ + 4⋅p′₂⋅τₐ ₁⋅τₐ ₂⋅τₑ ₁ - τₐ ₁⋅τₑ ₁⋅τₑ ₂⋅(-Ψ′ +\n",
       "⎢─────────────────────────────────────────────────────────────────────────────\n",
       "⎢                                                                             \n",
       "⎣                                                                             \n",
       "\n",
       "                                  0                                           \n",
       "                                                                              \n",
       "                                  0                                           \n",
       "                                                                              \n",
       "                                                                              \n",
       "ₑ ₁ - τₐ ₁⋅τₑ ₁⋅τₑ ₂⋅(-Ψ′ + 3⋅p′₁ + 2⋅p′₂ + 3) + τₐ ₂⋅τₑ ₁⋅τₑ ₂⋅(-Ψ′ + 3⋅p′₁ +\n",
       "──────────────────────────────────────────────────────────────────────────────\n",
       "                          3                                                   \n",
       "                       2⋅L ⋅τₐ ₁⋅τₐ ₂⋅τₑ ₁⋅τₑ ₂                               \n",
       "                                                                              \n",
       "                                                                              \n",
       "ₑ ₁ - τₐ ₁⋅τₑ ₁⋅τₑ ₂⋅(-Ψ′ + 3⋅p′₁ + 2⋅p′₂ + 3) + τₐ ₁⋅τₑ ₁⋅(4⋅τₐ ₂ + τₑ ₂) + τ\n",
       "──────────────────────────────────────────────────────────────────────────────\n",
       "                          3                                                   \n",
       "                       2⋅L ⋅τₐ ₁⋅τₐ ₂⋅τₑ ₁⋅τₑ ₂                               \n",
       "                                                                              \n",
       "                                                                              \n",
       "₂⋅τₐ ₁⋅τₐ ₂⋅τₑ ₁ + τₐ ₁⋅τₑ ₁⋅τₑ ₂⋅(Ψ′ - 3⋅p′₁ - 2⋅p′₂ - 3) + τₐ ₂⋅τₑ ₁⋅τₑ ₂⋅(-\n",
       "──────────────────────────────────────────────────────────────────────────────\n",
       "                          3                                                   \n",
       "                       2⋅L ⋅τₐ ₁⋅τₐ ₂⋅τₑ ₁⋅τₑ ₂                               \n",
       "                                                                              \n",
       "                                                                              \n",
       " 3⋅p′₁ + 2⋅p′₂ + 3) + τₐ ₂⋅τₑ ₁⋅τₑ ₂⋅(-Ψ′ + 3⋅p′₁ + 2⋅p′₂ + 2)) + τₑ ₁⋅τₑ ₂⋅(2\n",
       "──────────────────────────────────────────────────────────────────────────────\n",
       "                          3                                                   \n",
       "                       2⋅L ⋅τₐ ₁⋅τₐ ₂⋅τₑ ₁⋅τₑ ₂                               \n",
       "\n",
       "                                                                     ⎤\n",
       "                                                                     ⎥\n",
       "                                                                     ⎥\n",
       "                                                                     ⎥\n",
       "                                                                     ⎥\n",
       " 2⋅p′₂ + 2) + τₐ ₂⋅τₑ ₂⋅(4⋅τₐ ₁ + τₑ ₁))                             ⎥\n",
       "─────────────────────────────────────────                            ⎥\n",
       "                                                                     ⎥\n",
       "                                                                     ⎥\n",
       "                                                                     ⎥\n",
       "                                                                     ⎥\n",
       "ₐ ₂⋅τₑ ₁⋅τₑ ₂⋅(-Ψ′ + 3⋅p′₁ + 2⋅p′₂ + 2))                             ⎥\n",
       "─────────────────────────────────────────                            ⎥\n",
       "                                                                     ⎥\n",
       "                                                                     ⎥\n",
       "                                                                     ⎥\n",
       "                                                                     ⎥\n",
       "Ψ′ + 3⋅p′₁ + 2⋅p′₂ + 2))                                             ⎥\n",
       "────────────────────────                                             ⎥\n",
       "                                                                     ⎥\n",
       "                                                                     ⎥\n",
       "                                                                     ⎥\n",
       "                                                                     ⎥\n",
       "⋅τₐ ₁⋅(-Ψ′ + 3⋅p′₁ + 3⋅p′₂ + 3) - 3⋅τₐ ₂⋅(-Ψ′ + 2⋅p′₁ + 2⋅p′₂ + 2))) ⎥\n",
       "─────────────────────────────────────────────────────────────────────⎥\n",
       "                                                                     ⎥\n",
       "                                                                     ⎦"
      ]
     },
     "execution_count": 34,
     "metadata": {},
     "output_type": "execute_result"
    }
   ],
   "source": [
    "tauprime_z_dissipative = sp.simplify(zprime_dissipative.subs([(tau_a_1, tau_a_1 * (L/L_0) ** 3), (tau_e_1, tau_e_1 * (L/L_0) ** 3), (tau_a_2, tau_a_2 * (L/L_0) ** 3), (tau_e_2, tau_e_2 * (L/L_0) ** 3)]))\n",
    "tauprime_z_dissipative"
   ]
  },
  {
   "cell_type": "markdown",
   "metadata": {},
   "source": [
    "Then set $L = 1$, $L_0 = 1$ to normalize:"
   ]
  },
  {
   "cell_type": "code",
   "execution_count": 35,
   "metadata": {},
   "outputs": [
    {
     "data": {
      "text/latex": [
       "$\\displaystyle \\left[\\begin{matrix}0\\\\0\\\\- \\frac{{p}'_{1} \\left(4 {p}'_{1} \\tau_{a 1} \\tau_{a 2} \\tau_{e 2} + 4 {p}'_{2} \\tau_{a 1} \\tau_{a 2} \\tau_{e 1} - \\tau_{a 1} \\tau_{e 1} \\tau_{e 2} \\left(- {\\Psi}' + 3 {p}'_{1} + 2 {p}'_{2} + 3\\right) + \\tau_{a 2} \\tau_{e 1} \\tau_{e 2} \\left(- {\\Psi}' + 3 {p}'_{1} + 2 {p}'_{2} + 2\\right) + \\tau_{a 2} \\tau_{e 2} \\left(4 \\tau_{a 1} + \\tau_{e 1}\\right)\\right)}{2 \\tau_{a 1} \\tau_{a 2} \\tau_{e 1} \\tau_{e 2}}\\\\- \\frac{{p}'_{2} \\left(4 {p}'_{1} \\tau_{a 1} \\tau_{a 2} \\tau_{e 2} + 4 {p}'_{2} \\tau_{a 1} \\tau_{a 2} \\tau_{e 1} - \\tau_{a 1} \\tau_{e 1} \\tau_{e 2} \\left(- {\\Psi}' + 3 {p}'_{1} + 2 {p}'_{2} + 3\\right) + \\tau_{a 1} \\tau_{e 1} \\left(4 \\tau_{a 2} + \\tau_{e 2}\\right) + \\tau_{a 2} \\tau_{e 1} \\tau_{e 2} \\left(- {\\Psi}' + 3 {p}'_{1} + 2 {p}'_{2} + 2\\right)\\right)}{2 \\tau_{a 1} \\tau_{a 2} \\tau_{e 1} \\tau_{e 2}}\\\\\\frac{4 {p}'_{1} \\tau_{a 1} \\tau_{a 2} \\tau_{e 2} + 4 {p}'_{2} \\tau_{a 1} \\tau_{a 2} \\tau_{e 1} + \\tau_{a 1} \\tau_{e 1} \\tau_{e 2} \\left({\\Psi}' - 3 {p}'_{1} - 2 {p}'_{2} - 3\\right) + \\tau_{a 2} \\tau_{e 1} \\tau_{e 2} \\left(- {\\Psi}' + 3 {p}'_{1} + 2 {p}'_{2} + 2\\right)}{2 \\tau_{a 1} \\tau_{a 2} \\tau_{e 1} \\tau_{e 2}}\\\\- \\frac{{\\Psi}' \\left(4 {p}'_{1} \\tau_{a 1} \\tau_{a 2} \\tau_{e 2} + 4 {p}'_{2} \\tau_{a 1} \\tau_{a 2} \\tau_{e 1} - \\tau_{a 1} \\tau_{e 1} \\tau_{e 2} \\left(- {\\Psi}' + 3 {p}'_{1} + 2 {p}'_{2} + 3\\right) + \\tau_{a 2} \\tau_{e 1} \\tau_{e 2} \\left(- {\\Psi}' + 3 {p}'_{1} + 2 {p}'_{2} + 2\\right)\\right) + \\tau_{e 1} \\tau_{e 2} \\left(2 \\tau_{a 1} \\left(- {\\Psi}' + 3 {p}'_{1} + 3 {p}'_{2} + 3\\right) - 3 \\tau_{a 2} \\left(- {\\Psi}' + 2 {p}'_{1} + 2 {p}'_{2} + 2\\right)\\right)}{2 \\tau_{a 1} \\tau_{a 2} \\tau_{e 1} \\tau_{e 2}}\\end{matrix}\\right]$"
      ],
      "text/plain": [
       "⎡                                                                             \n",
       "⎢                                                                             \n",
       "⎢                                                                             \n",
       "⎢                                                                             \n",
       "⎢                           -p′₁⋅(4⋅p′₁⋅τₐ ₁⋅τₐ ₂⋅τₑ ₂ + 4⋅p′₂⋅τₐ ₁⋅τₐ ₂⋅τₑ ₁ \n",
       "⎢                           ──────────────────────────────────────────────────\n",
       "⎢                                                                             \n",
       "⎢                                                                             \n",
       "⎢                           -p′₂⋅(4⋅p′₁⋅τₐ ₁⋅τₐ ₂⋅τₑ ₂ + 4⋅p′₂⋅τₐ ₁⋅τₐ ₂⋅τₑ ₁ \n",
       "⎢                           ──────────────────────────────────────────────────\n",
       "⎢                                                                             \n",
       "⎢                                                                             \n",
       "⎢                                              4⋅p′₁⋅τₐ ₁⋅τₐ ₂⋅τₑ ₂ + 4⋅p′₂⋅τₐ\n",
       "⎢                                              ───────────────────────────────\n",
       "⎢                                                                             \n",
       "⎢                                                                             \n",
       "⎢-(Ψ′⋅(4⋅p′₁⋅τₐ ₁⋅τₐ ₂⋅τₑ ₂ + 4⋅p′₂⋅τₐ ₁⋅τₐ ₂⋅τₑ ₁ - τₐ ₁⋅τₑ ₁⋅τₑ ₂⋅(-Ψ′ + 3⋅p\n",
       "⎢─────────────────────────────────────────────────────────────────────────────\n",
       "⎣                                                                             \n",
       "\n",
       "                                0                                             \n",
       "                                                                              \n",
       "                                0                                             \n",
       "                                                                              \n",
       "- τₐ ₁⋅τₑ ₁⋅τₑ ₂⋅(-Ψ′ + 3⋅p′₁ + 2⋅p′₂ + 3) + τₐ ₂⋅τₑ ₁⋅τₑ ₂⋅(-Ψ′ + 3⋅p′₁ + 2⋅p\n",
       "──────────────────────────────────────────────────────────────────────────────\n",
       "                      2⋅τₐ ₁⋅τₐ ₂⋅τₑ ₁⋅τₑ ₂                                   \n",
       "                                                                              \n",
       "- τₐ ₁⋅τₑ ₁⋅τₑ ₂⋅(-Ψ′ + 3⋅p′₁ + 2⋅p′₂ + 3) + τₐ ₁⋅τₑ ₁⋅(4⋅τₐ ₂ + τₑ ₂) + τₐ ₂⋅\n",
       "──────────────────────────────────────────────────────────────────────────────\n",
       "                      2⋅τₐ ₁⋅τₐ ₂⋅τₑ ₁⋅τₑ ₂                                   \n",
       "                                                                              \n",
       " ₁⋅τₐ ₂⋅τₑ ₁ + τₐ ₁⋅τₑ ₁⋅τₑ ₂⋅(Ψ′ - 3⋅p′₁ - 2⋅p′₂ - 3) + τₐ ₂⋅τₑ ₁⋅τₑ ₂⋅(-Ψ′ +\n",
       "──────────────────────────────────────────────────────────────────────────────\n",
       "                      2⋅τₐ ₁⋅τₐ ₂⋅τₑ ₁⋅τₑ ₂                                   \n",
       "                                                                              \n",
       "′₁ + 2⋅p′₂ + 3) + τₐ ₂⋅τₑ ₁⋅τₑ ₂⋅(-Ψ′ + 3⋅p′₁ + 2⋅p′₂ + 2)) + τₑ ₁⋅τₑ ₂⋅(2⋅τₐ \n",
       "──────────────────────────────────────────────────────────────────────────────\n",
       "                      2⋅τₐ ₁⋅τₐ ₂⋅τₑ ₁⋅τₑ ₂                                   \n",
       "\n",
       "                                                                 ⎤\n",
       "                                                                 ⎥\n",
       "                                                                 ⎥\n",
       "                                                                 ⎥\n",
       "′₂ + 2) + τₐ ₂⋅τₑ ₂⋅(4⋅τₐ ₁ + τₑ ₁))                             ⎥\n",
       "─────────────────────────────────────                            ⎥\n",
       "                                                                 ⎥\n",
       "                                                                 ⎥\n",
       "τₑ ₁⋅τₑ ₂⋅(-Ψ′ + 3⋅p′₁ + 2⋅p′₂ + 2))                             ⎥\n",
       "─────────────────────────────────────                            ⎥\n",
       "                                                                 ⎥\n",
       "                                                                 ⎥\n",
       " 3⋅p′₁ + 2⋅p′₂ + 2)                                              ⎥\n",
       "───────────────────                                              ⎥\n",
       "                                                                 ⎥\n",
       "                                                                 ⎥\n",
       "₁⋅(-Ψ′ + 3⋅p′₁ + 3⋅p′₂ + 3) - 3⋅τₐ ₂⋅(-Ψ′ + 2⋅p′₁ + 2⋅p′₂ + 2))) ⎥\n",
       "─────────────────────────────────────────────────────────────────⎥\n",
       "                                                                 ⎦"
      ]
     },
     "execution_count": 35,
     "metadata": {},
     "output_type": "execute_result"
    }
   ],
   "source": [
    "# set L = 1 to normalize, since we just want to solve this\n",
    "# L = 1\n",
    "# L_0 = 1\n",
    "\n",
    "tauprime_z_dissipative_normalized = tauprime_z_dissipative.subs([(L, 1), (L_0, 1)])\n",
    "tauprime_z_dissipative_normalized"
   ]
  },
  {
   "cell_type": "markdown",
   "metadata": {},
   "source": [
    "Finally, add conservative and dissipative forces to obtain the final value of $\\dot{\\mathbf{z}}$:"
   ]
  },
  {
   "cell_type": "code",
   "execution_count": 36,
   "metadata": {},
   "outputs": [
    {
     "data": {
      "text/latex": [
       "$\\displaystyle \\left[\\begin{matrix}\\frac{3.6378726352881 \\cdot 10^{-8}}{\\left(- {\\Psi}' + 3 {p}'_{1} + 3 {p}'_{2} + 3\\right)^{3}} + \\frac{1.09158476074847 \\cdot 10^{-9}}{\\left(- {\\Psi}' + 2 {p}'_{1} + 2 {p}'_{2} + 2\\right)^{3}} + \\frac{6.732084745427 \\cdot 10^{-7} \\sqrt{2} \\cos{\\left(\\theta_{1} \\right)}}{\\sqrt{{p}'_{1}}}\\\\\\frac{3.6378726352881 \\cdot 10^{-8}}{\\left(- {\\Psi}' + 3 {p}'_{1} + 3 {p}'_{2} + 3\\right)^{3}} + \\frac{1.09158476074847 \\cdot 10^{-9}}{\\left(- {\\Psi}' + 2 {p}'_{1} + 2 {p}'_{2} + 2\\right)^{3}} - \\frac{4.6072281454748 \\cdot 10^{-7} \\sqrt{2} \\cos{\\left(\\theta_{2} \\right)}}{\\sqrt{{p}'_{2}}}\\\\- \\frac{{p}'_{1} \\left(4 {p}'_{1} \\tau_{a 1} \\tau_{a 2} \\tau_{e 2} + 4 {p}'_{2} \\tau_{a 1} \\tau_{a 2} \\tau_{e 1} - \\tau_{a 1} \\tau_{e 1} \\tau_{e 2} \\left(- {\\Psi}' + 3 {p}'_{1} + 2 {p}'_{2} + 3\\right) + \\tau_{a 2} \\tau_{e 1} \\tau_{e 2} \\left(- {\\Psi}' + 3 {p}'_{1} + 2 {p}'_{2} + 2\\right) + \\tau_{a 2} \\tau_{e 2} \\left(4 \\tau_{a 1} + \\tau_{e 1}\\right)\\right)}{2 \\tau_{a 1} \\tau_{a 2} \\tau_{e 1} \\tau_{e 2}} - \\frac{1.2126242117627 \\cdot 10^{-8}}{\\left(- {\\Psi}' + 3 {p}'_{1} + 3 {p}'_{2} + 3\\right)^{3}} - \\frac{5.45792380374233 \\cdot 10^{-10}}{\\left(- {\\Psi}' + 2 {p}'_{1} + 2 {p}'_{2} + 2\\right)^{3}}\\\\1.3464169490854 \\cdot 10^{-6} \\sqrt{2} \\sqrt{{p}'_{1}} \\sin{\\left(\\theta_{1} \\right)} - \\frac{{p}'_{2} \\left(4 {p}'_{1} \\tau_{a 1} \\tau_{a 2} \\tau_{e 2} + 4 {p}'_{2} \\tau_{a 1} \\tau_{a 2} \\tau_{e 1} - \\tau_{a 1} \\tau_{e 1} \\tau_{e 2} \\left(- {\\Psi}' + 3 {p}'_{1} + 2 {p}'_{2} + 3\\right) + \\tau_{a 1} \\tau_{e 1} \\left(4 \\tau_{a 2} + \\tau_{e 2}\\right) + \\tau_{a 2} \\tau_{e 1} \\tau_{e 2} \\left(- {\\Psi}' + 3 {p}'_{1} + 2 {p}'_{2} + 2\\right)\\right)}{2 \\tau_{a 1} \\tau_{a 2} \\tau_{e 1} \\tau_{e 2}}\\\\- 9.21445629094961 \\cdot 10^{-7} \\sqrt{2} \\sqrt{{p}'_{2}} \\sin{\\left(\\theta_{2} \\right)} + \\frac{4 {p}'_{1} \\tau_{a 1} \\tau_{a 2} \\tau_{e 2} + 4 {p}'_{2} \\tau_{a 1} \\tau_{a 2} \\tau_{e 1} + \\tau_{a 1} \\tau_{e 1} \\tau_{e 2} \\left({\\Psi}' - 3 {p}'_{1} - 2 {p}'_{2} - 3\\right) + \\tau_{a 2} \\tau_{e 1} \\tau_{e 2} \\left(- {\\Psi}' + 3 {p}'_{1} + 2 {p}'_{2} + 2\\right)}{2 \\tau_{a 1} \\tau_{a 2} \\tau_{e 1} \\tau_{e 2}}\\\\- \\frac{{\\Psi}' \\left(4 {p}'_{1} \\tau_{a 1} \\tau_{a 2} \\tau_{e 2} + 4 {p}'_{2} \\tau_{a 1} \\tau_{a 2} \\tau_{e 1} - \\tau_{a 1} \\tau_{e 1} \\tau_{e 2} \\left(- {\\Psi}' + 3 {p}'_{1} + 2 {p}'_{2} + 3\\right) + \\tau_{a 2} \\tau_{e 1} \\tau_{e 2} \\left(- {\\Psi}' + 3 {p}'_{1} + 2 {p}'_{2} + 2\\right)\\right) + \\tau_{e 1} \\tau_{e 2} \\left(2 \\tau_{a 1} \\left(- {\\Psi}' + 3 {p}'_{1} + 3 {p}'_{2} + 3\\right) - 3 \\tau_{a 2} \\left(- {\\Psi}' + 2 {p}'_{1} + 2 {p}'_{2} + 2\\right)\\right)}{2 \\tau_{a 1} \\tau_{a 2} \\tau_{e 1} \\tau_{e 2}}\\end{matrix}\\right]$"
      ],
      "text/plain": [
       "⎡                                                                        3.637\n",
       "⎢                                                                    ─────────\n",
       "⎢                                                                             \n",
       "⎢                                                                    (-Ψ′ + 3⋅\n",
       "⎢                                                                             \n",
       "⎢                                                                        3.637\n",
       "⎢                                                                    ─────────\n",
       "⎢                                                                             \n",
       "⎢                                                                    (-Ψ′ + 3⋅\n",
       "⎢                                                                             \n",
       "⎢  p′₁⋅(4⋅p′₁⋅τₐ ₁⋅τₐ ₂⋅τₑ ₂ + 4⋅p′₂⋅τₐ ₁⋅τₐ ₂⋅τₑ ₁ - τₐ ₁⋅τₑ ₁⋅τₑ ₂⋅(-Ψ′ + 3⋅\n",
       "⎢- ───────────────────────────────────────────────────────────────────────────\n",
       "⎢                                                                         2⋅τₐ\n",
       "⎢                                                                             \n",
       "⎢                                                                             \n",
       "⎢                                  _____           p′₂⋅(4⋅p′₁⋅τₐ ₁⋅τₐ ₂⋅τₑ ₂ +\n",
       "⎢          1.3464169490854e-6⋅√2⋅╲╱ p′₁ ⋅sin(θ₁) - ───────────────────────────\n",
       "⎢                                                                             \n",
       "⎢                                                                             \n",
       "⎢                                                     _____           4⋅p′₁⋅τₐ\n",
       "⎢                          - 9.21445629094961e-7⋅√2⋅╲╱ p′₂ ⋅sin(θ₂) + ────────\n",
       "⎢                                                                             \n",
       "⎢                                                                             \n",
       "⎢ -(Ψ′⋅(4⋅p′₁⋅τₐ ₁⋅τₐ ₂⋅τₑ ₂ + 4⋅p′₂⋅τₐ ₁⋅τₐ ₂⋅τₑ ₁ - τₐ ₁⋅τₑ ₁⋅τₑ ₂⋅(-Ψ′ + 3⋅\n",
       "⎢ ────────────────────────────────────────────────────────────────────────────\n",
       "⎣                                                                             \n",
       "\n",
       "8726352881e-8          1.09158476074847e-9       6.732084745427e-7⋅√2⋅cos(θ₁) \n",
       "───────────────── + ────────────────────────── + ──────────────────────────── \n",
       "                3                            3               _____            \n",
       "p′₁ + 3⋅p′₂ + 3)    (-Ψ′ + 2⋅p′₁ + 2⋅p′₂ + 2)              ╲╱ p′₁             \n",
       "                                                                              \n",
       "8726352881e-8          1.09158476074847e-9       4.6072281454748e-7⋅√2⋅cos(θ₂)\n",
       "───────────────── + ────────────────────────── - ─────────────────────────────\n",
       "                3                            3                _____           \n",
       "p′₁ + 3⋅p′₂ + 3)    (-Ψ′ + 2⋅p′₁ + 2⋅p′₂ + 2)               ╲╱ p′₂            \n",
       "                                                                              \n",
       "p′₁ + 2⋅p′₂ + 3) + τₐ ₂⋅τₑ ₁⋅τₑ ₂⋅(-Ψ′ + 3⋅p′₁ + 2⋅p′₂ + 2) + τₐ ₂⋅τₑ ₂⋅(4⋅τₐ \n",
       "──────────────────────────────────────────────────────────────────────────────\n",
       " ₁⋅τₐ ₂⋅τₑ ₁⋅τₑ ₂                                                             \n",
       "                                                                              \n",
       "                                                                              \n",
       " 4⋅p′₂⋅τₐ ₁⋅τₐ ₂⋅τₑ ₁ - τₐ ₁⋅τₑ ₁⋅τₑ ₂⋅(-Ψ′ + 3⋅p′₁ + 2⋅p′₂ + 3) + τₐ ₁⋅τₑ ₁⋅(\n",
       "──────────────────────────────────────────────────────────────────────────────\n",
       "                                            2⋅τₐ ₁⋅τₐ ₂⋅τₑ ₁⋅τₑ ₂             \n",
       "                                                                              \n",
       " ₁⋅τₐ ₂⋅τₑ ₂ + 4⋅p′₂⋅τₐ ₁⋅τₐ ₂⋅τₑ ₁ + τₐ ₁⋅τₑ ₁⋅τₑ ₂⋅(Ψ′ - 3⋅p′₁ - 2⋅p′₂ - 3) \n",
       "──────────────────────────────────────────────────────────────────────────────\n",
       "                                             2⋅τₐ ₁⋅τₐ ₂⋅τₑ ₁⋅τₑ ₂            \n",
       "                                                                              \n",
       "p′₁ + 2⋅p′₂ + 3) + τₐ ₂⋅τₑ ₁⋅τₑ ₂⋅(-Ψ′ + 3⋅p′₁ + 2⋅p′₂ + 2)) + τₑ ₁⋅τₑ ₂⋅(2⋅τₐ\n",
       "──────────────────────────────────────────────────────────────────────────────\n",
       "                       2⋅τₐ ₁⋅τₐ ₂⋅τₑ ₁⋅τₑ ₂                                  \n",
       "\n",
       "                                                                    ⎤\n",
       "                                                                    ⎥\n",
       "                                                                    ⎥\n",
       "                                                                    ⎥\n",
       "                                                                    ⎥\n",
       "                                                                    ⎥\n",
       "                                                                    ⎥\n",
       "                                                                    ⎥\n",
       "                                                                    ⎥\n",
       "                                                                    ⎥\n",
       "₁ + τₑ ₁))       1.2126242117627e-8          5.45792380374233e-10   ⎥\n",
       "────────── - ────────────────────────── - ──────────────────────────⎥\n",
       "                                      3                            3⎥\n",
       "             (-Ψ′ + 3⋅p′₁ + 3⋅p′₂ + 3)    (-Ψ′ + 2⋅p′₁ + 2⋅p′₂ + 2) ⎥\n",
       "                                                                    ⎥\n",
       "4⋅τₐ ₂ + τₑ ₂) + τₐ ₂⋅τₑ ₁⋅τₑ ₂⋅(-Ψ′ + 3⋅p′₁ + 2⋅p′₂ + 2))          ⎥\n",
       "──────────────────────────────────────────────────────────          ⎥\n",
       "                                                                    ⎥\n",
       "                                                                    ⎥\n",
       "+ τₐ ₂⋅τₑ ₁⋅τₑ ₂⋅(-Ψ′ + 3⋅p′₁ + 2⋅p′₂ + 2)                          ⎥\n",
       "──────────────────────────────────────────                          ⎥\n",
       "                                                                    ⎥\n",
       "                                                                    ⎥\n",
       " ₁⋅(-Ψ′ + 3⋅p′₁ + 3⋅p′₂ + 3) - 3⋅τₐ ₂⋅(-Ψ′ + 2⋅p′₁ + 2⋅p′₂ + 2)))   ⎥\n",
       "──────────────────────────────────────────────────────────────────  ⎥\n",
       "                                                                    ⎦"
      ]
     },
     "execution_count": 36,
     "metadata": {},
     "output_type": "execute_result"
    }
   ],
   "source": [
    "zdot = zh_pb + tauprime_z_dissipative_normalized\n",
    "zdot"
   ]
  },
  {
   "cell_type": "markdown",
   "metadata": {},
   "source": [
    "Subsitute in $\\tau_a$, $\\tau_e$ values:"
   ]
  },
  {
   "cell_type": "code",
   "execution_count": 37,
   "metadata": {},
   "outputs": [
    {
     "data": {
      "text/latex": [
       "$\\displaystyle \\left( 16750637.9682341, \\  -35941314.3235509, \\  -2285130.53, \\  -2285130.53\\right)$"
      ],
      "text/plain": [
       "(16750637.968234083, -35941314.32355094, -2285130.5300000026, -2285130.5300000\n",
       "026)"
      ]
     },
     "execution_count": 37,
     "metadata": {},
     "output_type": "execute_result"
    }
   ],
   "source": [
    "times = np.linspace(0, 10000 * inner.P, 1000)\n",
    "\n",
    "def get_tau_alphas(tau_alpha, m_inner, m_outer, period_ratio):\n",
    "    # use Kepler's third law to compute the ratio of semi-major axes in resonance from the period ratio in resonance\n",
    "    sma_ratio = period_ratio ** (2/3)  # ratio of outer planet's semi-major axis to inner\n",
    "    # define matrix A\n",
    "    A = np.array([[-1, 1],\n",
    "                 [m_outer, m_inner * sma_ratio]])\n",
    "    # compute gamma_1 and gamma_2\n",
    "    gammas = np.matmul(np.linalg.inv(A), np.array([-1/tau_alpha, 0]))\n",
    "    # gamma = 1/tau\n",
    "    taus = 1/gammas\n",
    "    \n",
    "    return tuple(taus)  # returns (tau_alpha_outer, tau_alpha_inner) as a tuple\n",
    "\n",
    "tau_e_factor = 1\n",
    "# use K = 10\n",
    "K_test = 10\n",
    "resonant_period_ratio = 3/2\n",
    "\n",
    "# use tau_e values of timescale/3\n",
    "\n",
    "tau_e_1_val, tau_e_2_val = -times[-1]/tau_e_factor, -times[-1]/tau_e_factor\n",
    "tau_e_val = 1 / (1 / tau_e_1_val + 1 / tau_e_2_val)\n",
    "\n",
    "tau_a_val = tau_e_val * K_test  # use k value\n",
    "\n",
    "# compute tau_a values\n",
    "tau_a_2_val, tau_a_1_val = get_tau_alphas(tau_alpha = tau_a_val, m_inner=inner.m, m_outer = outer.m, period_ratio = resonant_period_ratio)\n",
    "tau_a_1_val, tau_a_2_val, tau_e_1_val, tau_e_2_val"
   ]
  },
  {
   "cell_type": "markdown",
   "metadata": {},
   "source": [
    "So the function to find the root of is:"
   ]
  },
  {
   "cell_type": "code",
   "execution_count": 38,
   "metadata": {},
   "outputs": [
    {
     "data": {
      "text/latex": [
       "$\\displaystyle \\left[\\begin{matrix}\\frac{3.6378726352881 \\cdot 10^{-8}}{\\left(- {\\Psi}' + 3 {p}'_{1} + 3 {p}'_{2} + 3\\right)^{3}} + \\frac{1.09158476074847 \\cdot 10^{-9}}{\\left(- {\\Psi}' + 2 {p}'_{1} + 2 {p}'_{2} + 2\\right)^{3}} + \\frac{6.732084745427 \\cdot 10^{-7} \\sqrt{2} \\cos{\\left(\\theta_{1} \\right)}}{\\sqrt{{p}'_{1}}}\\\\\\frac{3.6378726352881 \\cdot 10^{-8}}{\\left(- {\\Psi}' + 3 {p}'_{1} + 3 {p}'_{2} + 3\\right)^{3}} + \\frac{1.09158476074847 \\cdot 10^{-9}}{\\left(- {\\Psi}' + 2 {p}'_{1} + 2 {p}'_{2} + 2\\right)^{3}} - \\frac{4.6072281454748 \\cdot 10^{-7} \\sqrt{2} \\cos{\\left(\\theta_{2} \\right)}}{\\sqrt{{p}'_{2}}}\\\\1.59045971076161 \\cdot 10^{-28} {p}'_{1} \\left(2.7514797141648 \\cdot 10^{20} {\\Psi}' + 4.67751551408016 \\cdot 10^{21} {p}'_{1} + 4.95266348549664 \\cdot 10^{21} {p}'_{2} + 4.67751551408016 \\cdot 10^{21}\\right) - \\frac{1.2126242117627 \\cdot 10^{-8}}{\\left(- {\\Psi}' + 3 {p}'_{1} + 3 {p}'_{2} + 3\\right)^{3}} - \\frac{5.45792380374233 \\cdot 10^{-10}}{\\left(- {\\Psi}' + 2 {p}'_{1} + 2 {p}'_{2} + 2\\right)^{3}}\\\\1.3464169490854 \\cdot 10^{-6} \\sqrt{2} \\sqrt{{p}'_{1}} \\sin{\\left(\\theta_{1} \\right)} + 1.59045971076161 \\cdot 10^{-28} {p}'_{2} \\left(2.7514797141648 \\cdot 10^{20} {\\Psi}' + 4.67751551408016 \\cdot 10^{21} {p}'_{1} + 4.95266348549664 \\cdot 10^{21} {p}'_{2} + 4.95266348549664 \\cdot 10^{21}\\right)\\\\- 4.37611763035698 \\cdot 10^{-8} {\\Psi}' - 7.43939997160687 \\cdot 10^{-7} {p}'_{1} - 9.21445629094961 \\cdot 10^{-7} \\sqrt{2} \\sqrt{{p}'_{2}} \\sin{\\left(\\theta_{2} \\right)} - 7.87701173464256 \\cdot 10^{-7} {p}'_{2} + 1.01433919543699 \\cdot 10^{-7}\\\\1.59045971076161 \\cdot 10^{-28} {\\Psi}' \\left(2.7514797141648 \\cdot 10^{20} {\\Psi}' + 4.67751551408016 \\cdot 10^{21} {p}'_{1} + 4.95266348549664 \\cdot 10^{21} {p}'_{2} - 6.37764784969789 \\cdot 10^{20}\\right) - 1.1737196197415 \\cdot 10^{-7} {\\Psi}' + 2.62567057821419 \\cdot 10^{-7} {p}'_{1} + 2.62567057821419 \\cdot 10^{-7} {p}'_{2} + 2.62567057821419 \\cdot 10^{-7}\\end{matrix}\\right]$"
      ],
      "text/plain": [
       "⎡                                                                        3.637\n",
       "⎢                                                                    ─────────\n",
       "⎢                                                                             \n",
       "⎢                                                                    (-Ψ′ + 3⋅\n",
       "⎢                                                                             \n",
       "⎢                                                                        3.637\n",
       "⎢                                                                    ─────────\n",
       "⎢                                                                             \n",
       "⎢                                                                    (-Ψ′ + 3⋅\n",
       "⎢                                                                             \n",
       "⎢                                                                             \n",
       "⎢                   1.59045971076161e-28⋅p′₁⋅(2.7514797141648e+20⋅Ψ′ + 4.67751\n",
       "⎢                                                                             \n",
       "⎢                                                                             \n",
       "⎢                                                                             \n",
       "⎢                                                    _____                    \n",
       "⎢                            1.3464169490854e-6⋅√2⋅╲╱ p′₁ ⋅sin(θ₁) + 1.5904597\n",
       "⎢                                                                             \n",
       "⎢                                                                             \n",
       "⎢                                          -4.37611763035698e-8⋅Ψ′ - 7.4393999\n",
       "⎢                                                                             \n",
       "⎣1.59045971076161e-28⋅Ψ′⋅(2.7514797141648e+20⋅Ψ′ + 4.67751551408016e+21⋅p′₁ + \n",
       "\n",
       "8726352881e-8          1.09158476074847e-9       6.732084745427e-7⋅√2⋅cos(θ₁) \n",
       "───────────────── + ────────────────────────── + ──────────────────────────── \n",
       "                3                            3               _____            \n",
       "p′₁ + 3⋅p′₂ + 3)    (-Ψ′ + 2⋅p′₁ + 2⋅p′₂ + 2)              ╲╱ p′₁             \n",
       "                                                                              \n",
       "8726352881e-8          1.09158476074847e-9       4.6072281454748e-7⋅√2⋅cos(θ₂)\n",
       "───────────────── + ────────────────────────── - ─────────────────────────────\n",
       "                3                            3                _____           \n",
       "p′₁ + 3⋅p′₂ + 3)    (-Ψ′ + 2⋅p′₁ + 2⋅p′₂ + 2)               ╲╱ p′₂            \n",
       "                                                                              \n",
       "                                                                           1.2\n",
       "551408016e+21⋅p′₁ + 4.95266348549664e+21⋅p′₂ + 4.67751551408016e+21) - ───────\n",
       "                                                                              \n",
       "                                                                       (-Ψ′ + \n",
       "                                                                              \n",
       "                                                                              \n",
       "1076161e-28⋅p′₂⋅(2.7514797141648e+20⋅Ψ′ + 4.67751551408016e+21⋅p′₁ + 4.9526634\n",
       "                                                                              \n",
       "                                          _____                               \n",
       "7160687e-7⋅p′₁ - 9.21445629094961e-7⋅√2⋅╲╱ p′₂ ⋅sin(θ₂) - 7.87701173464256e-7⋅\n",
       "                                                                              \n",
       "4.95266348549664e+21⋅p′₂ - 6.37764784969789e+20) - 1.1737196197415e-7⋅Ψ′ + 2.6\n",
       "\n",
       "                                                                    ⎤\n",
       "                                                                    ⎥\n",
       "                                                                    ⎥\n",
       "                                                                    ⎥\n",
       "                                                                    ⎥\n",
       "                                                                    ⎥\n",
       "                                                                    ⎥\n",
       "                                                                    ⎥\n",
       "                                                                    ⎥\n",
       "                                                                    ⎥\n",
       "126242117627e-8          5.45792380374233e-10                       ⎥\n",
       "─────────────────── - ──────────────────────────                    ⎥\n",
       "                  3                            3                    ⎥\n",
       "3⋅p′₁ + 3⋅p′₂ + 3)    (-Ψ′ + 2⋅p′₁ + 2⋅p′₂ + 2)                     ⎥\n",
       "                                                                    ⎥\n",
       "                                                                    ⎥\n",
       "8549664e+21⋅p′₂ + 4.95266348549664e+21)                             ⎥\n",
       "                                                                    ⎥\n",
       "                                                                    ⎥\n",
       "p′₂ + 1.01433919543699e-7                                           ⎥\n",
       "                                                                    ⎥\n",
       "2567057821419e-7⋅p′₁ + 2.62567057821419e-7⋅p′₂ + 2.62567057821419e-7⎦"
      ]
     },
     "execution_count": 38,
     "metadata": {},
     "output_type": "execute_result"
    }
   ],
   "source": [
    "zdot_final = zdot.subs([(tau_a_1, tau_a_1_val), (tau_a_2, tau_a_2_val), (tau_e_1, tau_e_1_val), (tau_e_2, tau_e_2_val)])\n",
    "zdot_final"
   ]
  },
  {
   "cell_type": "markdown",
   "metadata": {},
   "source": [
    "Now lambdify $\\dot{\\mathbf{z}}$ and use Newton's method to solve for a root:"
   ]
  },
  {
   "cell_type": "code",
   "execution_count": 39,
   "metadata": {},
   "outputs": [
    {
     "data": {
      "text/plain": [
       "<function _lambdifygenerated(_Dummy_23)>"
      ]
     },
     "execution_count": 39,
     "metadata": {},
     "output_type": "execute_result"
    }
   ],
   "source": [
    "zdot_func = sp.lambdify([zprime_p], zdot_final)\n",
    "zdot_func"
   ]
  },
  {
   "cell_type": "markdown",
   "metadata": {},
   "source": [
    "Initial conditions are $\\mathbf{z}_0$:"
   ]
  },
  {
   "cell_type": "code",
   "execution_count": 40,
   "metadata": {},
   "outputs": [
    {
     "data": {
      "text/latex": [
       "$\\displaystyle \\left( 0.0114226152962005, \\  \\left[ \\theta_{1}, \\  \\theta_{2}, \\  \\psi, \\  p_{1}, \\  p_{2}, \\  \\Psi\\right], \\  \\left[ -2.21914995629782, \\  1.29244491830342, \\  1.809470542457, \\  1.53369437804248 \\cdot 10^{-6}, \\  3.13251109810695 \\cdot 10^{-6}, \\  0.025562539147177\\right]\\right)$"
      ],
      "text/plain": [
       "(0.011422615296200514, [θ₁, θ₂, ψ, p₁, p₂, Ψ], [-2.2191499562978163, 1.2924449\n",
       "183034192, 1.809470542456995, 1.533694378042483e-06, 3.1325110981069467e-06, 0\n",
       ".025562539147176995])"
      ]
     },
     "execution_count": 40,
     "metadata": {},
     "output_type": "execute_result"
    }
   ],
   "source": [
    "zs = [theta1, theta2, psi, p1, p2, Psi]\n",
    "# values for Z\n",
    "z_values = [new_ham.qp[val] for val in zs]\n",
    "# numerical value of L to transform\n",
    "L_val = new_ham.qp[L]\n",
    "\n",
    "L_val, zs, z_values"
   ]
  },
  {
   "cell_type": "markdown",
   "metadata": {},
   "source": [
    "Convert $\\mathbf{z}_0 \\to \\mathbf{z}_0'$ using the $L$ transformation: "
   ]
  },
  {
   "cell_type": "code",
   "execution_count": 41,
   "metadata": {},
   "outputs": [
    {
     "data": {
      "text/plain": [
       "array([-2.21914996e+00,  1.29244492e+00,  1.80947054e+00,  1.34268234e-04,\n",
       "        2.74237643e-04,  2.23788848e+00])"
      ]
     },
     "execution_count": 41,
     "metadata": {},
     "output_type": "execute_result"
    }
   ],
   "source": [
    "z_prime_values = np.array([z_values[i]/L_val if zs[i] in [p1, p2, Psi] else z_values[i] for i in range(0, len(zs))])\n",
    "z_prime_values"
   ]
  },
  {
   "cell_type": "markdown",
   "metadata": {},
   "source": [
    "Try using the equilibrum values from a `rebound` simulation:"
   ]
  },
  {
   "cell_type": "code",
   "execution_count": 42,
   "metadata": {},
   "outputs": [
    {
     "name": "stderr",
     "output_type": "stream",
     "text": [
      "10000it [02:45, 60.40it/s]\n"
     ]
    }
   ],
   "source": [
    "# set time base to median (mdipoint) of the data\n",
    "time_base = 0#np.median(hd_data.BJD)\n",
    "masses = np.array([sim.particles[1].m, sim.particles[2].m])/sim.particles[0].m\n",
    "\n",
    "# eq_sim = get_sim_from_params(fit_params, inclination=np.pi/2, integrator='ias15', time_base=time_base)\n",
    "eq_sim = get_simple_sim(masses, integrator = 'ias15')\n",
    "\n",
    "nsims = int(1e4)\n",
    "t_end = int(1e5)\n",
    "\n",
    "inner = eq_sim.particles[1]\n",
    "outer = eq_sim.particles[2]\n",
    "\n",
    "a_inner, a_outer, p_inner, p_outer = np.zeros(nsims), np.zeros(nsims), np.zeros(nsims), np.zeros(nsims)\n",
    "e_inner, e_outer = np.zeros(nsims), np.zeros(nsims)\n",
    "migration_times = np.linspace(time_base, time_base + t_end, nsims)\n",
    "\n",
    "# attach reboundx\n",
    "rebx = reboundx.Extras(eq_sim)\n",
    "rebx.add_force(rebx.load_force('modify_orbits_forces'))\n",
    "rebx.add_operator(rebx.load_operator('modify_orbits_direct'))\n",
    "\n",
    "tau_e_factor = 3\n",
    "K_test = 2\n",
    "resonant_period_ratio = 3/2\n",
    "\n",
    "inner.params['tau_e'], outer.params['tau_e'] = -t_end/tau_e_factor, -t_end/tau_e_factor  # eccentricity damping, these stay constant\n",
    "# outer.params['tau_e'] = -t_end/tau_e_factor\n",
    "\n",
    "tau_e_eq = 1 / (1 / inner.params['tau_e'] + 1 / outer.params['tau_e'])\n",
    "tau_a_eq = tau_e_eq * K_test \n",
    "\n",
    "outer.params['tau_a'], inner.params['tau_a'] = get_tau_alphas(tau_a_eq, inner.m, outer.m, period_ratio=resonant_period_ratio)\n",
    "\n",
    "from tqdm import tqdm\n",
    "\n",
    "for ind, t in tqdm(enumerate(migration_times)):\n",
    "    eq_sim.integrate(t)\n",
    "    a_inner[ind] = inner.a\n",
    "    a_outer[ind] = outer.a\n",
    "    p_inner[ind] = inner.P\n",
    "    p_outer[ind] = outer.P\n",
    "    e_inner[ind] = inner.e\n",
    "    e_outer[ind] = outer.e"
   ]
  },
  {
   "cell_type": "code",
   "execution_count": 43,
   "metadata": {},
   "outputs": [
    {
     "data": {
      "text/latex": [
       "$\\displaystyle \\left( 48868.5080883441, \\  -104855.612846329, \\  -33333.3333333333, \\  -33333.3333333333\\right)$"
      ],
      "text/plain": [
       "(48868.50808834412, -104855.61284632873, -33333.333333333336, -33333.333333333\n",
       "336)"
      ]
     },
     "execution_count": 43,
     "metadata": {},
     "output_type": "execute_result"
    }
   ],
   "source": [
    "inner.params['tau_a'], outer.params['tau_a'], inner.params['tau_e'], outer.params['tau_e']"
   ]
  },
  {
   "cell_type": "code",
   "execution_count": 44,
   "metadata": {},
   "outputs": [
    {
     "data": {
      "image/png": "[encoded data removed]",
      "text/plain": [
       "<Figure size 720x504 with 2 Axes>"
      ]
     },
     "metadata": {
      "needs_background": "light"
     },
     "output_type": "display_data"
    }
   ],
   "source": [
    "import matplotlib.pyplot as plt\n",
    "\n",
    "pr = p_outer/p_inner\n",
    "\n",
    "fig, axs = plt.subplots(2, 1, figsize=(10, 7))\n",
    "plt.rc('font', size=18)\n",
    "pr_fig, ecc_fig = axs[0], axs[1]# , axs[0, 1] (no sma fig required)\n",
    "# period ratio\n",
    "pr_fig.plot(migration_times, pr, label = 'Period ratio', color='red')\n",
    "pr_fig.set(xlabel=r'Time ($P_b$)', ylabel='Period ratio', title='Period Ratio')\n",
    "# pr_fig.set_xlim(right=20000)\n",
    "# eccentricity\n",
    "ecc_fig.plot(migration_times, e_inner, label = 'Inner')\n",
    "ecc_fig.plot(migration_times, e_outer, label = 'Outer')\n",
    "ecc_fig.set(xlabel = r'Time ($P_b$)', ylabel = 'Eccentricity', title = 'Eccentricity')\n",
    "# ecc_fig.set_xlim(right=20000)\n",
    "ecc_fig.legend()\n",
    "plt.tight_layout()\n",
    "# plt.savefig('pr_ecc_damping.png', fmt='png')\n",
    "plt.show()"
   ]
  },
  {
   "cell_type": "markdown",
   "metadata": {},
   "source": [
    "Take the equilibrium system status, and use that as the starting $\\mathbf{z}'$ values for our root-finding:"
   ]
  },
  {
   "cell_type": "code",
   "execution_count": 45,
   "metadata": {},
   "outputs": [
    {
     "data": {
      "text/latex": [
       "$\\displaystyle \\left[ 3.0306925129138, \\  4.94365554454887 \\cdot 10^{-5}, \\  0.0, \\  2.53067782527193, \\  -1.17604510909261 \\cdot 10^{-6}, \\  0.0, \\  0.000117826759477641, \\  6.56158082471623 \\cdot 10^{-5}, \\  0.0, \\  0.000382110187824641, \\  -6.13549980380923 \\cdot 10^{-5}, \\  0.0\\right]$"
      ],
      "text/plain": [
       "[3.0306925129138014, 4.9436555445488655e-05, -0.0, 2.5306778252719297, -1.1760\n",
       "451090926102e-06, -0.0, 0.00011782675947764135, 6.561580824716234e-05, 0.0, 0.\n",
       "00038211018782464084, -6.135499803809231e-05, 0.0]"
      ]
     },
     "execution_count": 45,
     "metadata": {},
     "output_type": "execute_result"
    }
   ],
   "source": [
    "eq_sim = get_simple_sim(masses, integrator = 'ias15')\n",
    "eq_sim.integrate(time_base + t_end)\n",
    "eq_sim_pvars = cm.poincare.Poincare.from_Simulation(eq_sim)\n",
    "eq_sim_pvars.values"
   ]
  },
  {
   "cell_type": "code",
   "execution_count": 46,
   "metadata": {},
   "outputs": [
    {
     "data": {
      "text/plain": [
       "<rebound.simulation.Simulation object at 0x7f23b275c3c0, N=3, t=100000.0>"
      ]
     },
     "execution_count": 46,
     "metadata": {},
     "output_type": "execute_result"
    }
   ],
   "source": [
    "eq_sim_pvars.to_Simulation()"
   ]
  },
  {
   "cell_type": "markdown",
   "metadata": {},
   "source": [
    "Convert from $\\left(\\eta, \\kappa\\right) \\to \\left(p, \\theta\\right)$ coordinates and get the $\\{\\theta_1, \\theta_2, p_1, p_2, \\Psi\\}$ values:"
   ]
  },
  {
   "cell_type": "code",
   "execution_count": 47,
   "metadata": {},
   "outputs": [
    {
     "data": {
      "text/plain": [
       "(array([ 2.17633762e+00, -1.59177867e+00,  1.53064845e+00,  5.00014688e-01,\n",
       "        -0.00000000e+00, -0.00000000e+00,  3.37470365e-09,  1.88290943e-09,\n",
       "         4.99931690e-04,  1.11770065e-03,  0.00000000e+00,  0.00000000e+00]),\n",
       " [theta_1, theta_2, l, psi, phi_1, phi_2, p_1, p_2, L, Psi, Phi_1, Phi_2])"
      ]
     },
     "execution_count": 47,
     "metadata": {},
     "output_type": "execute_result"
    }
   ],
   "source": [
    "ct.old_to_new_array(eq_sim_pvars.values), ct.new_qp_vars"
   ]
  },
  {
   "cell_type": "code",
   "execution_count": 48,
   "metadata": {},
   "outputs": [
    {
     "data": {
      "text/latex": [
       "$\\displaystyle \\left( \\left[ \\theta_{1}, \\  \\theta_{2}, \\  \\psi, \\  p_{1}, \\  p_{2}, \\  \\Psi\\right], \\  \\left[ 2.17633761843093, \\  -1.59177867268881, \\  0.500014687641872, \\  3.37470365312163 \\cdot 10^{-9}, \\  1.88290943317647 \\cdot 10^{-9}, \\  0.00111770065408221\\right]\\right)$"
      ],
      "text/plain": [
       "([θ₁, θ₂, ψ, p₁, p₂, Ψ], [2.176337618430932, -1.5917786726888075, 0.5000146876\n",
       "418716, 3.3747036531216256e-09, 1.882909433176466e-09, 0.0011177006540822056])"
      ]
     },
     "execution_count": 48,
     "metadata": {},
     "output_type": "execute_result"
    }
   ],
   "source": [
    "eq_vals = list(filter(None, [ct.old_to_new_array(eq_sim_pvars.values)[i] if ct.new_qp_vars[i] in zs else None for i in range(0, len(ct.new_qp_vars))]))\n",
    "zs, eq_vals"
   ]
  },
  {
   "cell_type": "markdown",
   "metadata": {},
   "source": [
    "Then convert from $(p, \\theta) \\to (p', \\theta')$ using the same $L$ transformation as earlier:"
   ]
  },
  {
   "cell_type": "code",
   "execution_count": 49,
   "metadata": {},
   "outputs": [
    {
     "data": {
      "text/plain": [
       "array([ 2.17633762e+00, -1.59177867e+00,  5.00014688e-01,  2.95440542e-07,\n",
       "        1.64840484e-07,  9.78498028e-02])"
      ]
     },
     "execution_count": 49,
     "metadata": {},
     "output_type": "execute_result"
    }
   ],
   "source": [
    "z_prime_eq_values = np.array([eq_vals[i]/L_val if zs[i] in [p1, p2, Psi] else eq_vals[i] for i in range(0, len(zs))])\n",
    "z_prime_eq_values"
   ]
  },
  {
   "cell_type": "markdown",
   "metadata": {},
   "source": [
    "Use `scipy.integrate.solve_ivp()`:"
   ]
  },
  {
   "cell_type": "markdown",
   "metadata": {},
   "source": [
    "Try only conservative `zh_pb()` part, and only dissipative `tauprime_z_dissipative_normalized()` part:"
   ]
  },
  {
   "cell_type": "code",
   "execution_count": 50,
   "metadata": {},
   "outputs": [],
   "source": [
    "tau_a_1_val, tau_a_2_val, tau_e_1_val, tau_e_2_val = inner.params['tau_a'], outer.params['tau_a'], inner.params['tau_e'], outer.params['tau_e']"
   ]
  },
  {
   "cell_type": "code",
   "execution_count": 51,
   "metadata": {},
   "outputs": [
    {
     "data": {
      "text/latex": [
       "$\\displaystyle \\left( \\left[\\begin{matrix}\\frac{3.6378726352881 \\cdot 10^{-8}}{\\left(- {\\Psi}' + 3 {p}'_{1} + 3 {p}'_{2} + 3\\right)^{3}} + \\frac{1.09158476074847 \\cdot 10^{-9}}{\\left(- {\\Psi}' + 2 {p}'_{1} + 2 {p}'_{2} + 2\\right)^{3}} + \\frac{6.732084745427 \\cdot 10^{-7} \\sqrt{2} \\cos{\\left(\\theta_{1} \\right)}}{\\sqrt{{p}'_{1}}}\\\\\\frac{3.6378726352881 \\cdot 10^{-8}}{\\left(- {\\Psi}' + 3 {p}'_{1} + 3 {p}'_{2} + 3\\right)^{3}} + \\frac{1.09158476074847 \\cdot 10^{-9}}{\\left(- {\\Psi}' + 2 {p}'_{1} + 2 {p}'_{2} + 2\\right)^{3}} - \\frac{4.6072281454748 \\cdot 10^{-7} \\sqrt{2} \\cos{\\left(\\theta_{2} \\right)}}{\\sqrt{{p}'_{2}}}\\\\- \\frac{1.2126242117627 \\cdot 10^{-8}}{\\left(- {\\Psi}' + 3 {p}'_{1} + 3 {p}'_{2} + 3\\right)^{3}} - \\frac{5.45792380374233 \\cdot 10^{-10}}{\\left(- {\\Psi}' + 2 {p}'_{1} + 2 {p}'_{2} + 2\\right)^{3}}\\\\1.3464169490854 \\cdot 10^{-6} \\sqrt{2} \\sqrt{{p}'_{1}} \\sin{\\left(\\theta_{1} \\right)}\\\\- 9.21445629094961 \\cdot 10^{-7} \\sqrt{2} \\sqrt{{p}'_{2}} \\sin{\\left(\\theta_{2} \\right)}\\\\0\\end{matrix}\\right], \\  \\left[\\begin{matrix}0\\\\0\\\\8.78196597769911 \\cdot 10^{-20} {p}'_{1} \\left(170804578816303.0 {\\Psi}' + 170804578816303.0 {p}'_{1} + 341609157632606.0 {p}'_{2} + 170804578816303.0\\right)\\\\8.78196597769911 \\cdot 10^{-20} {p}'_{2} \\left(170804578816303.0 {\\Psi}' + 170804578816303.0 {p}'_{1} + 341609157632606.0 {p}'_{2} + 341609157632606.0\\right)\\\\- 1.5 \\cdot 10^{-5} {\\Psi}' - 1.5 \\cdot 10^{-5} {p}'_{1} - 3.0 \\cdot 10^{-5} {p}'_{2} + 3.47684619490306 \\cdot 10^{-5}\\\\8.78196597769911 \\cdot 10^{-20} {\\Psi}' \\left(170804578816303.0 {\\Psi}' + 170804578816303.0 {p}'_{1} + 341609157632606.0 {p}'_{2} - 395907499952989.0\\right) - 4.02315380509694 \\cdot 10^{-5} {\\Psi}' + 9.0 \\cdot 10^{-5} {p}'_{1} + 9.0 \\cdot 10^{-5} {p}'_{2} + 9.0 \\cdot 10^{-5}\\end{matrix}\\right]\\right)$"
      ],
      "text/plain": [
       "⎛⎡    3.6378726352881e-8          1.09158476074847e-9       6.732084745427e-7⋅\n",
       "⎜⎢────────────────────────── + ────────────────────────── + ──────────────────\n",
       "⎜⎢                         3                            3               _____ \n",
       "⎜⎢(-Ψ′ + 3⋅p′₁ + 3⋅p′₂ + 3)    (-Ψ′ + 2⋅p′₁ + 2⋅p′₂ + 2)              ╲╱ p′₁  \n",
       "⎜⎢                                                                            \n",
       "⎜⎢    3.6378726352881e-8          1.09158476074847e-9       4.6072281454748e-7\n",
       "⎜⎢────────────────────────── + ────────────────────────── - ──────────────────\n",
       "⎜⎢                         3                            3                _____\n",
       "⎜⎢(-Ψ′ + 3⋅p′₁ + 3⋅p′₂ + 3)    (-Ψ′ + 2⋅p′₁ + 2⋅p′₂ + 2)               ╲╱ p′₂ \n",
       "⎜⎢                                                                            \n",
       "⎜⎢                     1.2126242117627e-8          5.45792380374233e-10       \n",
       "⎜⎢               - ────────────────────────── - ──────────────────────────    \n",
       "⎜⎢                                          3                            3    \n",
       "⎜⎢                 (-Ψ′ + 3⋅p′₁ + 3⋅p′₂ + 3)    (-Ψ′ + 2⋅p′₁ + 2⋅p′₂ + 2)     \n",
       "⎜⎢                                                                            \n",
       "⎜⎢                                                 _____                      \n",
       "⎜⎢                         1.3464169490854e-6⋅√2⋅╲╱ p′₁ ⋅sin(θ₁)              \n",
       "⎜⎢                                                                            \n",
       "⎜⎢                                                  _____                     \n",
       "⎜⎢                        -9.21445629094961e-7⋅√2⋅╲╱ p′₂ ⋅sin(θ₂)             \n",
       "⎜⎢                                                                            \n",
       "⎝⎣                                           0                                \n",
       "\n",
       "√2⋅cos(θ₁) ⎤                                                                  \n",
       "────────── ⎥                                                                  \n",
       "           ⎥                                                                  \n",
       "           ⎥                                                                  \n",
       "           ⎥                                                                  \n",
       "⋅√2⋅cos(θ₂)⎥                                                                  \n",
       "───────────⎥  ⎡                                                               \n",
       "           ⎥  ⎢                                                               \n",
       "           ⎥  ⎢                                                               \n",
       "           ⎥  ⎢                                                               \n",
       "           ⎥  ⎢                             8.78196597769911e-20⋅p′₁⋅(17080457\n",
       "           ⎥, ⎢                                                               \n",
       "           ⎥  ⎢                             8.78196597769911e-20⋅p′₂⋅(17080457\n",
       "           ⎥  ⎢                                                               \n",
       "           ⎥  ⎢                                                          -1.5e\n",
       "           ⎥  ⎢                                                               \n",
       "           ⎥  ⎣8.78196597769911e-20⋅Ψ′⋅(170804578816303.0⋅Ψ′ + 170804578816303\n",
       "           ⎥                                                                  \n",
       "           ⎥                                                                  \n",
       "           ⎥                                                                  \n",
       "           ⎥                                                                  \n",
       "           ⎦                                                                  \n",
       "\n",
       "                                                                              \n",
       "                                                                              \n",
       "                                                                              \n",
       "                                                                              \n",
       "                                                                              \n",
       "                                                                              \n",
       "                       0                                                      \n",
       "                                                                              \n",
       "                       0                                                      \n",
       "                                                                              \n",
       "8816303.0⋅Ψ′ + 170804578816303.0⋅p′₁ + 341609157632606.0⋅p′₂ + 170804578816303\n",
       "                                                                              \n",
       "8816303.0⋅Ψ′ + 170804578816303.0⋅p′₁ + 341609157632606.0⋅p′₂ + 341609157632606\n",
       "                                                                              \n",
       "-5⋅Ψ′ - 1.5e-5⋅p′₁ - 3.0e-5⋅p′₂ + 3.47684619490306e-5                         \n",
       "                                                                              \n",
       ".0⋅p′₁ + 341609157632606.0⋅p′₂ - 395907499952989.0) - 4.02315380509694e-5⋅Ψ′ +\n",
       "                                                                              \n",
       "                                                                              \n",
       "                                                                              \n",
       "                                                                              \n",
       "                                                                              \n",
       "\n",
       "                                  ⎞\n",
       "                                  ⎟\n",
       "                                  ⎟\n",
       "                                  ⎟\n",
       "                                  ⎟\n",
       "                                  ⎟\n",
       "                                 ⎤⎟\n",
       "                                 ⎥⎟\n",
       "                                 ⎥⎟\n",
       "                                 ⎥⎟\n",
       ".0)                              ⎥⎟\n",
       "                                 ⎥⎟\n",
       ".0)                              ⎥⎟\n",
       "                                 ⎥⎟\n",
       "                                 ⎥⎟\n",
       "                                 ⎥⎟\n",
       " 9.0e-5⋅p′₁ + 9.0e-5⋅p′₂ + 9.0e-5⎦⎟\n",
       "                                  ⎟\n",
       "                                  ⎟\n",
       "                                  ⎟\n",
       "                                  ⎟\n",
       "                                  ⎠"
      ]
     },
     "execution_count": 51,
     "metadata": {},
     "output_type": "execute_result"
    }
   ],
   "source": [
    "# zh_pb_final = zh_pb.subs([(tau_a_1, tau_a_1_val), (tau_a_2, tau_a_2_val), (tau_e_1, tau_e_1_val), (tau_e_2, tau_e_2_val)])\n",
    "tauprime_z_dissipative_normalized_final = tauprime_z_dissipative_normalized.subs([(tau_a_1, tau_a_1_val), (tau_a_2, tau_a_2_val), (tau_e_1, tau_e_1_val), (tau_e_2, tau_e_2_val)])\n",
    "\n",
    "zh_pb, tauprime_z_dissipative_normalized_final"
   ]
  },
  {
   "cell_type": "code",
   "execution_count": 52,
   "metadata": {},
   "outputs": [
    {
     "data": {
      "text/plain": [
       "(<function _lambdifygenerated(t, _Dummy_24)>,\n",
       " <function _lambdifygenerated(t, _Dummy_25)>,\n",
       " <function _lambdifygenerated(t, _Dummy_26)>)"
      ]
     },
     "execution_count": 52,
     "metadata": {},
     "output_type": "execute_result"
    }
   ],
   "source": [
    "t = sp.symbols('t')\n",
    "zdot_func_ivp = sp.lambdify([t, zprime_p], zdot_final)\n",
    "cons_func_ivp = sp.lambdify([t, zprime_p], zh_pb)\n",
    "dis_func_ivp = sp.lambdify([t, zprime_p], tauprime_z_dissipative_normalized_final)\n",
    "\n",
    "zdot_func_ivp, cons_func_ivp, dis_func_ivp"
   ]
  },
  {
   "cell_type": "code",
   "execution_count": 53,
   "metadata": {},
   "outputs": [
    {
     "data": {
      "text/latex": [
       "$\\displaystyle \\left( 48868.5080883441, \\  -104855.612846329, \\  -33333.3333333333, \\  -33333.3333333333\\right)$"
      ],
      "text/plain": [
       "(48868.50808834412, -104855.61284632873, -33333.333333333336, -33333.333333333\n",
       "336)"
      ]
     },
     "execution_count": 53,
     "metadata": {},
     "output_type": "execute_result"
    }
   ],
   "source": [
    "tau_a_1_val, tau_a_2_val, tau_e_1_val, tau_e_2_val"
   ]
  },
  {
   "cell_type": "code",
   "execution_count": 54,
   "metadata": {},
   "outputs": [
    {
     "data": {
      "text/plain": [
       "  message: 'The solver successfully reached the end of the integration interval.'\n",
       "     nfev: 62\n",
       "     njev: 0\n",
       "      nlu: 0\n",
       "      sol: None\n",
       "   status: 0\n",
       "  success: True\n",
       "        t: array([0.00000e+00, 1.00001e+00, 2.00002e+00, ..., 9.99980e+04,\n",
       "       9.99990e+04, 1.00000e+05])\n",
       " t_events: None\n",
       "        y: array([[ 2.17633762e+00,  2.17534203e+00,  2.17434931e+00, ...,\n",
       "         1.57421769e+00,  1.57421766e+00,  1.57421763e+00],\n",
       "       [-1.59177867e+00, -1.59174505e+00, -1.59171154e+00, ...,\n",
       "        -1.57084884e+00, -1.57084883e+00, -1.57084883e+00],\n",
       "       [ 5.00014688e-01,  5.00014687e-01,  5.00014686e-01, ...,\n",
       "         4.99957942e-01,  4.99957941e-01,  4.99957940e-01],\n",
       "       [ 2.95440542e-07,  2.96292407e-07,  2.97146084e-07, ...,\n",
       "         9.15185181e-03,  9.15203397e-03,  9.15221613e-03],\n",
       "       [ 1.64840484e-07,  1.65369872e-07,  1.65900108e-07, ...,\n",
       "         4.29888875e-03,  4.29897419e-03,  4.29905963e-03],\n",
       "       [ 9.78498028e-02,  9.78498028e-02,  9.78498028e-02, ...,\n",
       "         9.78498028e-02,  9.78498028e-02,  9.78498028e-02]])\n",
       " y_events: None"
      ]
     },
     "execution_count": 54,
     "metadata": {},
     "output_type": "execute_result"
    }
   ],
   "source": [
    "from scipy.integrate import solve_ivp\n",
    "# eq_ivp_sols = solve_ivp(fun=lambda t, z: zdot_func_ivp(t, z).flatten(), t_span=[0, t_end], t_eval = np.linspace(0, t_end, 100000), y0=z_prime_eq_values)\n",
    "\n",
    "# conservative part\n",
    "eq_ivp_sols = solve_ivp(fun=lambda t, z: cons_func_ivp(t, z).flatten(), t_span=[0, t_end], t_eval = np.linspace(0, t_end, 100000), y0=z_prime_eq_values)\n",
    "\n",
    "# dissipative part\n",
    "# eq_ivp_sols = solve_ivp(fun=lambda t, z: dis_func_ivp(t, z).flatten(), t_span=[0, t_end], t_eval = np.linspace(0, t_end, 100000), y0=z_prime_eq_values)\n",
    "eq_ivp_sols"
   ]
  },
  {
   "cell_type": "code",
   "execution_count": 55,
   "metadata": {},
   "outputs": [
    {
     "ename": "AttributeError",
     "evalue": "sGamma:0.15699690030824967, sLambda:0.07849797230769508, GbyL:2.000012174745811, val:-2.4349639846654725e-05",
     "output_type": "error",
     "traceback": [
      "\u001b[0;31m---------------------------------------------------------------------------\u001b[0m",
      "\u001b[0;31mAttributeError\u001b[0m                            Traceback (most recent call last)",
      "\u001b[0;32m<ipython-input-55-eacfc72e01e9>\u001b[0m in \u001b[0;36m<module>\u001b[0;34m\u001b[0m\n\u001b[1;32m     19\u001b[0m     \u001b[0meq_sim_pvars\u001b[0m\u001b[0;34m.\u001b[0m\u001b[0mvalues\u001b[0m \u001b[0;34m=\u001b[0m \u001b[0mct\u001b[0m\u001b[0;34m.\u001b[0m\u001b[0mnew_to_old_array\u001b[0m\u001b[0;34m(\u001b[0m\u001b[0my0\u001b[0m\u001b[0;34m)\u001b[0m\u001b[0;34m\u001b[0m\u001b[0;34m\u001b[0m\u001b[0m\n\u001b[1;32m     20\u001b[0m \u001b[0;34m\u001b[0m\u001b[0m\n\u001b[0;32m---> 21\u001b[0;31m     \u001b[0me_inner_eq\u001b[0m\u001b[0;34m[\u001b[0m\u001b[0mi\u001b[0m\u001b[0;34m]\u001b[0m \u001b[0;34m=\u001b[0m \u001b[0meq_sim_pvars\u001b[0m\u001b[0;34m.\u001b[0m\u001b[0mparticles\u001b[0m\u001b[0;34m[\u001b[0m\u001b[0;36m1\u001b[0m\u001b[0;34m]\u001b[0m\u001b[0;34m.\u001b[0m\u001b[0me\u001b[0m\u001b[0;34m\u001b[0m\u001b[0;34m\u001b[0m\u001b[0m\n\u001b[0m\u001b[1;32m     22\u001b[0m     \u001b[0me_outer_eq\u001b[0m\u001b[0;34m[\u001b[0m\u001b[0mi\u001b[0m\u001b[0;34m]\u001b[0m \u001b[0;34m=\u001b[0m \u001b[0meq_sim_pvars\u001b[0m\u001b[0;34m.\u001b[0m\u001b[0mparticles\u001b[0m\u001b[0;34m[\u001b[0m\u001b[0;36m2\u001b[0m\u001b[0;34m]\u001b[0m\u001b[0;34m.\u001b[0m\u001b[0me\u001b[0m\u001b[0;34m\u001b[0m\u001b[0;34m\u001b[0m\u001b[0m\n\u001b[1;32m     23\u001b[0m \u001b[0;34m\u001b[0m\u001b[0m\n",
      "\u001b[0;32m~/.local/lib/python3.8/site-packages/celmech/poincare.py\u001b[0m in \u001b[0;36me\u001b[0;34m(self)\u001b[0m\n\u001b[1;32m    344\u001b[0m         \u001b[0mGbyL\u001b[0m \u001b[0;34m=\u001b[0m \u001b[0mself\u001b[0m\u001b[0;34m.\u001b[0m\u001b[0msGamma\u001b[0m\u001b[0;34m/\u001b[0m\u001b[0mself\u001b[0m\u001b[0;34m.\u001b[0m\u001b[0msLambda\u001b[0m\u001b[0;34m\u001b[0m\u001b[0;34m\u001b[0m\u001b[0m\n\u001b[1;32m    345\u001b[0m         \u001b[0;32mif\u001b[0m \u001b[0;36m1\u001b[0m\u001b[0;34m-\u001b[0m\u001b[0;34m(\u001b[0m\u001b[0;36m1.\u001b[0m\u001b[0;34m-\u001b[0m\u001b[0mGbyL\u001b[0m\u001b[0;34m)\u001b[0m\u001b[0;34m*\u001b[0m\u001b[0;34m(\u001b[0m\u001b[0;36m1.\u001b[0m\u001b[0;34m-\u001b[0m\u001b[0mGbyL\u001b[0m\u001b[0;34m)\u001b[0m \u001b[0;34m<\u001b[0m \u001b[0;36m0\u001b[0m\u001b[0;34m:\u001b[0m\u001b[0;34m\u001b[0m\u001b[0;34m\u001b[0m\u001b[0m\n\u001b[0;32m--> 346\u001b[0;31m             \u001b[0;32mraise\u001b[0m \u001b[0mAttributeError\u001b[0m\u001b[0;34m(\u001b[0m\u001b[0;34m\"sGamma:{0}, sLambda:{1}, GbyL:{2}, val:{3}\"\u001b[0m\u001b[0;34m.\u001b[0m\u001b[0mformat\u001b[0m\u001b[0;34m(\u001b[0m\u001b[0mself\u001b[0m\u001b[0;34m.\u001b[0m\u001b[0msGamma\u001b[0m\u001b[0;34m,\u001b[0m \u001b[0mself\u001b[0m\u001b[0;34m.\u001b[0m\u001b[0msLambda\u001b[0m\u001b[0;34m,\u001b[0m \u001b[0mGbyL\u001b[0m\u001b[0;34m,\u001b[0m \u001b[0;36m1\u001b[0m\u001b[0;34m-\u001b[0m\u001b[0;34m(\u001b[0m\u001b[0;36m1.\u001b[0m\u001b[0;34m-\u001b[0m\u001b[0mGbyL\u001b[0m\u001b[0;34m)\u001b[0m\u001b[0;34m*\u001b[0m\u001b[0;34m(\u001b[0m\u001b[0;36m1.\u001b[0m\u001b[0;34m-\u001b[0m\u001b[0mGbyL\u001b[0m\u001b[0;34m)\u001b[0m\u001b[0;34m)\u001b[0m\u001b[0;34m)\u001b[0m\u001b[0;34m\u001b[0m\u001b[0;34m\u001b[0m\u001b[0m\n\u001b[0m\u001b[1;32m    347\u001b[0m         \u001b[0;32mreturn\u001b[0m \u001b[0mnp\u001b[0m\u001b[0;34m.\u001b[0m\u001b[0msqrt\u001b[0m\u001b[0;34m(\u001b[0m\u001b[0;36m1\u001b[0m \u001b[0;34m-\u001b[0m \u001b[0;34m(\u001b[0m\u001b[0;36m1\u001b[0m\u001b[0;34m-\u001b[0m\u001b[0mGbyL\u001b[0m\u001b[0;34m)\u001b[0m\u001b[0;34m*\u001b[0m\u001b[0;34m(\u001b[0m\u001b[0;36m1\u001b[0m\u001b[0;34m-\u001b[0m\u001b[0mGbyL\u001b[0m\u001b[0;34m)\u001b[0m\u001b[0;34m)\u001b[0m\u001b[0;34m\u001b[0m\u001b[0;34m\u001b[0m\u001b[0m\n\u001b[1;32m    348\u001b[0m     \u001b[0;34m@\u001b[0m\u001b[0mproperty\u001b[0m\u001b[0;34m\u001b[0m\u001b[0;34m\u001b[0m\u001b[0m\n",
      "\u001b[0;31mAttributeError\u001b[0m: sGamma:0.15699690030824967, sLambda:0.07849797230769508, GbyL:2.000012174745811, val:-2.4349639846654725e-05"
     ]
    }
   ],
   "source": [
    "e_inner_eq = np.zeros(len(eq_ivp_sols.y.T))\n",
    "e_outer_eq = np.zeros(len(eq_ivp_sols.y.T))\n",
    "# e_inner_rb, e_outer_rb = np.zeros(len(sols_xy.y.T)), np.zeros(len(sols_xy.y.T))\n",
    "\n",
    "p_inner_eq, p_outer_eq = np.zeros(len(eq_ivp_sols.y.T)), np.zeros(len(eq_ivp_sols.y.T))\n",
    "# p_inner_rb, p_outer_rb = np.zeros(len(sols_xy.y.T)), np.zeros(len(sols_xy.y.T))\n",
    "\n",
    "eq_sim = get_simple_sim(masses, integrator = 'ias15')\n",
    "eq_sim_pvars = cm.Poincare.from_Simulation(eq_sim)\n",
    "\n",
    "indices = np.array([ct.new_qp_vars.index(v) for v in zs])\n",
    "y0 = ct.old_to_new_array(eq_sim_pvars.values)\n",
    "    \n",
    "for i, val in enumerate(eq_ivp_sols.y.T):\n",
    "    # transfrom back from p' to p\n",
    "    transformed_val = np.array([val[i] * L_val if zs[i] in [p1, p2, Psi] else val[i] for i in range(0, len(zs))])\n",
    "    y0[indices] = transformed_val\n",
    "    # and then to eta, kappa\n",
    "    eq_sim_pvars.values = ct.new_to_old_array(y0)\n",
    "    \n",
    "    e_inner_eq[i] = eq_sim_pvars.particles[1].e\n",
    "    e_outer_eq[i] = eq_sim_pvars.particles[2].e\n",
    "    \n",
    "    p_inner_eq[i] = eq_sim_pvars.particles[1].P\n",
    "    p_outer_eq[i] = eq_sim_pvars.particles[2].P"
   ]
  },
  {
   "cell_type": "markdown",
   "metadata": {},
   "source": [
    "Plot:"
   ]
  },
  {
   "cell_type": "code",
   "execution_count": null,
   "metadata": {},
   "outputs": [],
   "source": [
    "e_inner_eq[0], e_outer_eq[0], get_simple_sim(masses).particles[1].e, get_simple_sim(masses).particles[2].e"
   ]
  },
  {
   "cell_type": "code",
   "execution_count": null,
   "metadata": {},
   "outputs": [],
   "source": [
    "plt.figure(figsize = (14, 10))\n",
    "# plt.plot(eq_ivp_sols.t, e_inner_eq, label = '')\n",
    "# plt.plot(eq_ivp_sols.t, e_outer_eq, label = '')\n",
    "plt.plot(eq_ivp_sols.t, e_inner_eq, label = 'inner eom') \n",
    "plt.plot(eq_ivp_sols.t, e_outer_eq, label = 'outer eom')\n",
    "plt.legend()\n"
   ]
  },
  {
   "cell_type": "markdown",
   "metadata": {},
   "source": [
    "Solve with Newton's, using the multivariate Newton's method rather than scipy's built-in `scipy.optimize.root()`:"
   ]
  },
  {
   "cell_type": "code",
   "execution_count": null,
   "metadata": {},
   "outputs": [],
   "source": [
    "from scipy.linalg import solve as lin_solve \n",
    "# newton's method\n",
    "def newton_solve(fun,Dfun,guess,max_iter=100,rtol=1e-6,atol=1e-12):\n",
    "    y = guess.copy()\n",
    "    for itr in range(max_iter):\n",
    "        f = fun(y)\n",
    "        Df = Dfun(y)\n",
    "        print(f, Df)\n",
    "        dy = -1 * lin_solve(Df,f)\n",
    "        y+=dy\n",
    "        print(y)\n",
    "        if np.alltrue( np.abs(dy) < rtol * np.abs(y) + atol ):\n",
    "            break\n",
    "    else:\n",
    "        print(\"did not converge\")\n",
    "    return y"
   ]
  },
  {
   "cell_type": "code",
   "execution_count": null,
   "metadata": {},
   "outputs": [],
   "source": [
    "jac_vars = [theta1, theta2, p1prime, p2prime, Psiprime]"
   ]
  },
  {
   "cell_type": "code",
   "execution_count": null,
   "metadata": {},
   "outputs": [],
   "source": [
    "jac_vars, zprime_p"
   ]
  },
  {
   "cell_type": "code",
   "execution_count": null,
   "metadata": {},
   "outputs": [],
   "source": [
    "zdot_final"
   ]
  },
  {
   "cell_type": "code",
   "execution_count": null,
   "metadata": {},
   "outputs": [],
   "source": [
    "zdot_deleted = zdot_final.row_del(2)\n",
    "zdot_deleted"
   ]
  },
  {
   "cell_type": "markdown",
   "metadata": {},
   "source": [
    "Compute the Jacobian and then solve:"
   ]
  },
  {
   "cell_type": "code",
   "execution_count": null,
   "metadata": {},
   "outputs": [],
   "source": [
    "zjac = zdot_deleted.jacobian(jac_vars)\n",
    "zjac"
   ]
  },
  {
   "cell_type": "markdown",
   "metadata": {},
   "source": [
    "Lambdify and solve:"
   ]
  },
  {
   "cell_type": "code",
   "execution_count": null,
   "metadata": {},
   "outputs": [],
   "source": [
    "zjac_func = sp.lambdify([jac_vars], zjac)  # lambdify\n",
    "zjac_func"
   ]
  },
  {
   "cell_type": "code",
   "execution_count": null,
   "metadata": {},
   "outputs": [],
   "source": [
    "zdot_deleted_func = sp.lambdify([jac_vars], zdot_deleted)\n",
    "zdot_deleted_func"
   ]
  },
  {
   "cell_type": "code",
   "execution_count": null,
   "metadata": {},
   "outputs": [],
   "source": [
    "np.linalg.solve(zjac_func(newton_guess), zdot_deleted_func(newton_guess).reshape(-1))"
   ]
  },
  {
   "cell_type": "code",
   "execution_count": null,
   "metadata": {},
   "outputs": [],
   "source": [
    "newton_guess = np.delete(z_prime_eq_values, 2)\n",
    "\n",
    "newton_solve(lambda z: zdot_deleted_func(z).reshape(-1), zjac_func, guess=newton_guess)"
   ]
  },
  {
   "cell_type": "code",
   "execution_count": null,
   "metadata": {},
   "outputs": [],
   "source": []
  },
  {
   "cell_type": "markdown",
   "metadata": {},
   "source": [
    "Compared to scipy's algorithm:"
   ]
  },
  {
   "cell_type": "code",
   "execution_count": null,
   "metadata": {},
   "outputs": [],
   "source": [
    "from scipy.optimize import fsolve, root\n",
    "# solve for root\n",
    "zeq_rb = root(lambda z: zdot_func(z).flatten(), x0=z_prime_eq_values)\n",
    "z_prime_eq_values, zeq_rb.x, zeq_rb.message\n"
   ]
  },
  {
   "cell_type": "code",
   "execution_count": null,
   "metadata": {},
   "outputs": [],
   "source": []
  },
  {
   "cell_type": "code",
   "execution_count": null,
   "metadata": {},
   "outputs": [],
   "source": []
  },
  {
   "cell_type": "markdown",
   "metadata": {},
   "source": [
    "Test to see if $f\\left(\\mathbf{z}_{eq}\\right) = 0$:"
   ]
  },
  {
   "cell_type": "code",
   "execution_count": null,
   "metadata": {},
   "outputs": [],
   "source": [
    "zdot_func(zeq_rb.x), zdot_func(z_prime_eq_values)"
   ]
  },
  {
   "cell_type": "markdown",
   "metadata": {},
   "source": [
    "Now use Newton's method to solve for a root:"
   ]
  },
  {
   "cell_type": "code",
   "execution_count": null,
   "metadata": {},
   "outputs": [],
   "source": [
    "z_prime_values, zdot_func(z_prime_values).flatten()"
   ]
  },
  {
   "cell_type": "code",
   "execution_count": null,
   "metadata": {},
   "outputs": [],
   "source": [
    "from scipy.optimize import fsolve, root\n",
    "# solve for root\n",
    "zeq = root(lambda z: zdot_func(z).flatten(), x0=z_prime_values)\n",
    "# zeq2 = fsolve(lambda z: zdot_func(z).flatten(), x0=z_prime_values)\n",
    "\n",
    "z_prime_values, zeq.x, zeq.message"
   ]
  },
  {
   "cell_type": "markdown",
   "metadata": {},
   "source": [
    "Confirm that $f\\left(\\mathbf{z^*}\\right) = 0$:"
   ]
  },
  {
   "cell_type": "code",
   "execution_count": null,
   "metadata": {},
   "outputs": [],
   "source": [
    "zdot_func(zeq.x), zdot_func(z_prime_values)"
   ]
  },
  {
   "cell_type": "markdown",
   "metadata": {},
   "source": [
    "norm:"
   ]
  },
  {
   "cell_type": "code",
   "execution_count": null,
   "metadata": {},
   "outputs": [],
   "source": [
    "np.linalg.norm(zdot_func(zeq.x)), np.linalg.norm(zdot_func(z_prime_values))"
   ]
  },
  {
   "cell_type": "code",
   "execution_count": null,
   "metadata": {},
   "outputs": [],
   "source": []
  },
  {
   "cell_type": "code",
   "execution_count": null,
   "metadata": {},
   "outputs": [],
   "source": [
    "new_flow = cons_flow + new_dissipative\n",
    "new_flow\n",
    "\n",
    "N = len(z)\n",
    "new_flow_jac = sp.Matrix(N, N, lambda i,j: sp.diff(new_flow[i], z[j])) "
   ]
  },
  {
   "cell_type": "code",
   "execution_count": null,
   "metadata": {},
   "outputs": [],
   "source": [
    "t = sp.symbols('t')\n",
    "new_flow_eom = sp.lambdify([t, z, tau_a_1, tau_a_2, tau_e_1, tau_e_2], new_flow)\n",
    "new_flow_jac_func = sp.lambdify([t, z, tau_a_1, tau_a_2, tau_e_1, tau_e_2], new_flow_jac)"
   ]
  },
  {
   "cell_type": "code",
   "execution_count": null,
   "metadata": {},
   "outputs": [],
   "source": [
    "times = np.linspace(0, 10000 * inner.P, 1000)\n",
    "\n",
    "def get_tau_alphas(tau_alpha, m_inner, m_outer, period_ratio):\n",
    "    # use Kepler's third law to compute the ratio of semi-major axes in resonance from the period ratio in resonance\n",
    "    sma_ratio = period_ratio ** (2/3)  # ratio of outer planet's semi-major axis to inner\n",
    "    # define matrix A\n",
    "    A = np.array([[-1, 1],\n",
    "                 [m_outer, m_inner * sma_ratio]])\n",
    "    # compute gamma_1 and gamma_2\n",
    "    gammas = np.matmul(np.linalg.inv(A), np.array([-1/tau_alpha, 0]))\n",
    "    # gamma = 1/tau\n",
    "    taus = 1/gammas\n",
    "    \n",
    "    return tuple(taus)  # returns (tau_alpha_outer, tau_alpha_inner) as a tuple\n",
    "\n",
    "tau_e_factor = 1\n",
    "K_test = 10\n",
    "resonant_period_ratio = 3/2\n",
    "\n",
    "# use tau_e values of timescale/3\n",
    "\n",
    "tau_e_1_val, tau_e_2_val = -times[-1]/tau_e_factor, -times[-1]/tau_e_factor\n",
    "tau_e_val = 1 / (1 / tau_e_1_val + 1 / tau_e_2_val)\n",
    "\n",
    "tau_a_val = tau_e_val * K_test  # use k value\n",
    "\n",
    "# compute tau_a values\n",
    "tau_a_2_val, tau_a_1_val = get_tau_alphas(tau_alpha = tau_a_val, m_inner=inner.m, m_outer = outer.m, period_ratio = resonant_period_ratio)\n",
    "tau_a_1_val, tau_a_2_val, tau_e_1_val, tau_e_2_val"
   ]
  },
  {
   "cell_type": "code",
   "execution_count": null,
   "metadata": {},
   "outputs": [],
   "source": [
    "times[-1]"
   ]
  },
  {
   "cell_type": "code",
   "execution_count": null,
   "metadata": {},
   "outputs": [],
   "source": [
    "[hamxy.qp]"
   ]
  },
  {
   "cell_type": "code",
   "execution_count": null,
   "metadata": {},
   "outputs": [],
   "source": [
    "from scipy.integrate import solve_ivp\n",
    "\n",
    "y0 = [hamxy.qp[v] for v in z]\n",
    "# y0[0] += 0.5\n",
    "\n",
    "# set to negative since reboundx has them as -tau timescales while our eom has them as positive\n",
    "params = (-tau_a_1_val, -tau_a_2_val, -tau_e_1_val, -tau_e_2_val)  # these are the tau_a and tau_e_params as a tuple\n",
    "\n",
    "# solving the ivp\n",
    "sols_xy = solve_ivp(lambda t,x: new_flow_eom(t,x,*params).reshape(-1), [times[0], times[-1]], y0 = y0, t_eval = times, jac = lambda t,x: new_flow_jac_func(t, x, *params), dense_output=True, method='Radau', atol=1e-13)"
   ]
  },
  {
   "cell_type": "code",
   "execution_count": null,
   "metadata": {},
   "outputs": [],
   "source": [
    "e_inner_eom = np.zeros(len(sols_xy.y.T))\n",
    "e_outer_eom = np.zeros(len(sols_xy.y.T))\n",
    "e_inner_rb, e_outer_rb = np.zeros(len(sols_xy.y.T)), np.zeros(len(sols_xy.y.T))\n",
    "\n",
    "p_inner_eom, p_outer_eom = np.zeros(len(sols_xy.y.T)), np.zeros(len(sols_xy.y.T))\n",
    "p_inner_rb, p_outer_rb = np.zeros(len(sols_xy.y.T)), np.zeros(len(sols_xy.y.T))\n",
    "\n",
    "indices = np.array([hamxy.qp_vars.index(v) for v in z])\n",
    "y0 = np.array(hamxy.values)\n",
    "    \n",
    "for i, val in enumerate(sols_xy.y.T):\n",
    "    y0[indices] = val\n",
    "    pvars.values = ctcomp.new_to_old_array(y0)\n",
    "    \n",
    "    e_inner_eom[i] = pvars.particles[1].e\n",
    "    e_outer_eom[i] = pvars.particles[2].e\n",
    "    \n",
    "    p_inner_eom[i] = pvars.particles[1].P\n",
    "    p_outer_eom[i] = pvars.particles[2].P\n",
    "    \n",
    "    \n",
    "# add reboundx to the simulation\n",
    "sim = get_sim_from_params(fit_params, inclination = np.pi/2, integrator = 'ias15', time_base = 0)\n",
    "rebx = reboundx.Extras(sim)\n",
    "rebx.add_force(rebx.load_force('modify_orbits_forces'))\n",
    "rebx.add_operator(rebx.load_operator('modify_orbits_direct'))\n",
    "\n",
    "inner = sim.particles[1]\n",
    "outer = sim.particles[2]\n",
    "\n",
    "inner.params['tau_e'] = tau_e_1_val  # eccentricity damping, these stay constant\n",
    "outer.params['tau_e'] = tau_e_2_val\n",
    "\n",
    "inner.params['tau_a'], outer.params['tau_a'] = tau_a_1_val, tau_a_2_val\n",
    "\n",
    "from tqdm import tqdm    \n",
    "\n",
    "for i, t in tqdm(enumerate(sols_xy.t)):\n",
    "    sim.integrate(t)\n",
    "    e_inner_rb[i] = inner.e\n",
    "    e_outer_rb[i] = outer.e\n",
    "    p_inner_rb[i] = inner.P\n",
    "    p_outer_rb[i] = outer.P"
   ]
  },
  {
   "cell_type": "code",
   "execution_count": null,
   "metadata": {},
   "outputs": [],
   "source": [
    "plt.figure(figsize = (14, 10))\n",
    "plt.plot(sols_xy.t, p_outer_rb/p_inner_rb, label = 'rebound')\n",
    "plt.plot(sols_xy.t, p_outer_eom/p_inner_eom, label = 'eom')\n",
    "plt.legend()"
   ]
  },
  {
   "cell_type": "code",
   "execution_count": null,
   "metadata": {},
   "outputs": [],
   "source": [
    "plt.figure(figsize = (14, 10))\n",
    "plt.plot(sols_xy.t, e_inner_rb, label = 'inner rebound')\n",
    "plt.plot(sols_xy.t, e_outer_rb, label = 'outer rebound')\n",
    "plt.plot(sols_xy.t, e_inner_eom, label = 'inner eom') \n",
    "plt.plot(sols_xy.t, e_outer_eom, label = 'outer eom')\n",
    "plt.legend()\n"
   ]
  },
  {
   "cell_type": "code",
   "execution_count": null,
   "metadata": {},
   "outputs": [],
   "source": []
  }
 ],
 "metadata": {
  "kernelspec": {
   "display_name": "Python 3",
   "language": "python",
   "name": "python3"
  },
  "language_info": {
   "codemirror_mode": {
    "name": "ipython",
    "version": 3
   },
   "file_extension": ".py",
   "mimetype": "text/x-python",
   "name": "python",
   "nbconvert_exporter": "python",
   "pygments_lexer": "ipython3",
   "version": "3.8.10"
  }
 },
 "nbformat": 4,
 "nbformat_minor": 4
}
