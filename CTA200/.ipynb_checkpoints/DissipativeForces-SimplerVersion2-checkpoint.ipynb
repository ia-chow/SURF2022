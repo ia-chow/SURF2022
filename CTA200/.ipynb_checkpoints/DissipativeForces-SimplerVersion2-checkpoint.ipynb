{
 "cells": [
  {
   "cell_type": "code",
   "execution_count": 1,
   "metadata": {},
   "outputs": [],
   "source": [
    "import rebound as rb\n",
    "from matplotlib import pyplot as plt\n",
    "import celmech as cm\n",
    "import numpy as np\n",
    "import sympy as sp"
   ]
  },
  {
   "cell_type": "code",
   "execution_count": 2,
   "metadata": {},
   "outputs": [],
   "source": [
    "sim=rb.Simulation()\n",
    "sim.add(m=1)\n",
    "sim.add(m=1e-4,P=1)\n",
    "sim.add(m=1e-4,P=1.5)\n",
    "pvars = cm.Poincare.from_Simulation(sim)\n",
    "pham = cm.PoincareHamiltonian(pvars)"
   ]
  },
  {
   "cell_type": "code",
   "execution_count": 3,
   "metadata": {},
   "outputs": [],
   "source": [
    "pham.add_MMR_terms(3,1)"
   ]
  },
  {
   "cell_type": "code",
   "execution_count": 4,
   "metadata": {},
   "outputs": [],
   "source": [
    "A = np.eye(pham.N_dof,dtype = int)\n",
    "A[0,:4] = [-2,3,1,0]\n",
    "A[1,:4] = [-2,3,0,1]\n",
    "A[2,:4] = [1,-1,0,0]\n",
    "A[3,:4] = [-2,3,0,0]\n",
    "angvars=sp.symbols(\"theta1,theta2,psi,l,phi1,phi2\",real=True)\n",
    "actions=sp.symbols(\"p1,p2,Psi,L,Phi1,Phi2\",positive=True)\n",
    "_,_,Psi,L,_,_=actions\n",
    "ct1 = cm.CanonicalTransformation.from_poincare_angles_matrix(pvars,A,new_qp_pairs=list(zip(angvars,actions)))"
   ]
  },
  {
   "cell_type": "markdown",
   "metadata": {},
   "source": [
    "'ham1' will be the Hamiltonian in the resonant variables you're used to"
   ]
  },
  {
   "cell_type": "code",
   "execution_count": 5,
   "metadata": {},
   "outputs": [
    {
     "data": {
      "text/latex": [
       "$\\displaystyle - \\frac{\\sqrt{2} C_{(3,-2,-1,0,0,0)}^{(0,0,0,0),(0,0)}(\\alpha_{1,2}) G m_{1} m_{2} \\sqrt{p_{1}} \\cos{\\left(\\theta_{1} \\right)}}{\\sqrt{\\Lambda_{1,0}} a_{2,0}} - \\frac{\\sqrt{2} C_{(3,-2,0,-1,0,0)}^{(0,0,0,0),(0,0)}(\\alpha_{1,2}) G m_{1} m_{2} \\sqrt{p_{2}} \\cos{\\left(\\theta_{2} \\right)}}{\\sqrt{\\Lambda_{2,0}} a_{2,0}} - \\frac{G^{2} M_{1}^{2} \\mu_{1}^{3}}{2 \\left(- 2 L + \\Psi - 2 p_{1} - 2 p_{2}\\right)^{2}} - \\frac{G^{2} M_{2}^{2} \\mu_{2}^{3}}{2 \\left(3 L - \\Psi + 3 p_{1} + 3 p_{2}\\right)^{2}}$"
      ],
      "text/plain": [
       "                                                                    ____      \n",
       "  √2⋅C_{(3,-2,-1,0,0,0)}_{1,2})__{(0,0,0,0),(0,0)}(\\alpha⋅G⋅m₁⋅m₂⋅╲╱ p₁ ⋅cos(θ\n",
       "- ────────────────────────────────────────────────────────────────────────────\n",
       "                              _______________                                 \n",
       "                            ╲╱ \\Lambda_{1,0} ⋅a_{2,0}                         \n",
       "\n",
       "                                                                       ____   \n",
       "₁)   √2⋅C_{(3,-2,0,-1,0,0)}_{1,2})__{(0,0,0,0),(0,0)}(\\alpha⋅G⋅m₁⋅m₂⋅╲╱ p₂ ⋅co\n",
       "── - ─────────────────────────────────────────────────────────────────────────\n",
       "                                 _______________                              \n",
       "                               ╲╱ \\Lambda_{2,0} ⋅a_{2,0}                      \n",
       "\n",
       "                  2   2   3                    2   2   3        \n",
       "s(θ₂)            G ⋅M₁ ⋅μ₁                    G ⋅M₂ ⋅μ₂         \n",
       "───── - ─────────────────────────── - ──────────────────────────\n",
       "                                  2                            2\n",
       "        2⋅(-2⋅L + Ψ - 2⋅p₁ - 2⋅p₂)    2⋅(3⋅L - Ψ + 3⋅p₁ + 3⋅p₂) "
      ]
     },
     "execution_count": 5,
     "metadata": {},
     "output_type": "execute_result"
    }
   ],
   "source": [
    "ham1=ct1.old_to_new_hamiltonian(pham,do_reduction=True)\n",
    "ham1.H"
   ]
  },
  {
   "cell_type": "markdown",
   "metadata": {},
   "source": [
    "'ham2' transforms from polar $(\\theta_i,p_i)$ variables to cartesian $(y_i,x_i)$ variables. These are usually more convenient for numerical integration and root-finding"
   ]
  },
  {
   "cell_type": "code",
   "execution_count": 6,
   "metadata": {},
   "outputs": [
    {
     "data": {
      "text/latex": [
       "$\\displaystyle - \\frac{C_{(3,-2,-1,0,0,0)}^{(0,0,0,0),(0,0)}(\\alpha_{1,2}) G m_{1} m_{2} x_{1}}{\\sqrt{\\Lambda_{1,0}} a_{2,0}} - \\frac{C_{(3,-2,0,-1,0,0)}^{(0,0,0,0),(0,0)}(\\alpha_{1,2}) G m_{1} m_{2} x_{2}}{\\sqrt{\\Lambda_{2,0}} a_{2,0}} - \\frac{G^{2} M_{1}^{2} \\mu_{1}^{3}}{8 L^{2} - 8 L \\Psi + 8 L x_{1}^{2} + 8 L x_{2}^{2} + 8 L y_{1}^{2} + 8 L y_{2}^{2} + 2 \\Psi^{2} - 4 \\Psi x_{1}^{2} - 4 \\Psi x_{2}^{2} - 4 \\Psi y_{1}^{2} - 4 \\Psi y_{2}^{2} + 2 x_{1}^{4} + 4 x_{1}^{2} x_{2}^{2} + 4 x_{1}^{2} y_{1}^{2} + 4 x_{1}^{2} y_{2}^{2} + 2 x_{2}^{4} + 4 x_{2}^{2} y_{1}^{2} + 4 x_{2}^{2} y_{2}^{2} + 2 y_{1}^{4} + 4 y_{1}^{2} y_{2}^{2} + 2 y_{2}^{4}} - \\frac{2 G^{2} M_{2}^{2} \\mu_{2}^{3}}{36 L^{2} - 24 L \\Psi + 36 L x_{1}^{2} + 36 L x_{2}^{2} + 36 L y_{1}^{2} + 36 L y_{2}^{2} + 4 \\Psi^{2} - 12 \\Psi x_{1}^{2} - 12 \\Psi x_{2}^{2} - 12 \\Psi y_{1}^{2} - 12 \\Psi y_{2}^{2} + 9 x_{1}^{4} + 18 x_{1}^{2} x_{2}^{2} + 18 x_{1}^{2} y_{1}^{2} + 18 x_{1}^{2} y_{2}^{2} + 9 x_{2}^{4} + 18 x_{2}^{2} y_{1}^{2} + 18 x_{2}^{2} y_{2}^{2} + 9 y_{1}^{4} + 18 y_{1}^{2} y_{2}^{2} + 9 y_{2}^{4}}$"
      ],
      "text/plain": [
       "                                                                              \n",
       "  C_{(3,-2,-1,0,0,0)}_{1,2})__{(0,0,0,0),(0,0)}(\\alpha⋅G⋅m₁⋅m₂⋅x₁   C_{(3,-2,0\n",
       "- ─────────────────────────────────────────────────────────────── - ──────────\n",
       "                       _______________                                        \n",
       "                     ╲╱ \\Lambda_{1,0} ⋅a_{2,0}                                \n",
       "\n",
       "                                                                              \n",
       ",-1,0,0)}_{1,2})__{(0,0,0,0),(0,0)}(\\alpha⋅G⋅m₁⋅m₂⋅x₂                         \n",
       "───────────────────────────────────────────────────── - ──────────────────────\n",
       "           _______________                                 2                 2\n",
       "         ╲╱ \\Lambda_{2,0} ⋅a_{2,0}                      8⋅L  - 8⋅L⋅Ψ + 8⋅L⋅x₁ \n",
       "\n",
       "                                                                            2 \n",
       "                                                                           G ⋅\n",
       "──────────────────────────────────────────────────────────────────────────────\n",
       "         2         2         2      2         2         2         2         2 \n",
       " + 8⋅L⋅x₂  + 8⋅L⋅y₁  + 8⋅L⋅y₂  + 2⋅Ψ  - 4⋅Ψ⋅x₁  - 4⋅Ψ⋅x₂  - 4⋅Ψ⋅y₁  - 4⋅Ψ⋅y₂  \n",
       "\n",
       "  2   3                                                                       \n",
       "M₁ ⋅μ₁                                                                        \n",
       "──────────────────────────────────────────────────────────────────────────────\n",
       "      4       2   2       2   2       2   2       4       2   2       2   2   \n",
       "+ 2⋅x₁  + 4⋅x₁ ⋅x₂  + 4⋅x₁ ⋅y₁  + 4⋅x₁ ⋅y₂  + 2⋅x₂  + 4⋅x₂ ⋅y₁  + 4⋅x₂ ⋅y₂  + \n",
       "\n",
       "                                                                              \n",
       "                                                                              \n",
       "───────────────────────── - ──────────────────────────────────────────────────\n",
       "    4       2   2       4       2                   2          2          2   \n",
       "2⋅y₁  + 4⋅y₁ ⋅y₂  + 2⋅y₂    36⋅L  - 24⋅L⋅Ψ + 36⋅L⋅x₁  + 36⋅L⋅x₂  + 36⋅L⋅y₁  + \n",
       "\n",
       "                                                         2   2   3            \n",
       "                                                      2⋅G ⋅M₂ ⋅μ₂             \n",
       "──────────────────────────────────────────────────────────────────────────────\n",
       "       2      2          2          2          2          2       4        2  \n",
       "36⋅L⋅y₂  + 4⋅Ψ  - 12⋅Ψ⋅x₁  - 12⋅Ψ⋅x₂  - 12⋅Ψ⋅y₁  - 12⋅Ψ⋅y₂  + 9⋅x₁  + 18⋅x₁ ⋅x\n",
       "\n",
       "                                                                              \n",
       "                                                                              \n",
       "──────────────────────────────────────────────────────────────────────────────\n",
       " 2        2   2        2   2       4        2   2        2   2       4        \n",
       "₂  + 18⋅x₁ ⋅y₁  + 18⋅x₁ ⋅y₂  + 9⋅x₂  + 18⋅x₂ ⋅y₁  + 18⋅x₂ ⋅y₂  + 9⋅y₁  + 18⋅y₁\n",
       "\n",
       "             \n",
       "             \n",
       "─────────────\n",
       "2   2       4\n",
       " ⋅y₂  + 9⋅y₂ "
      ]
     },
     "execution_count": 6,
     "metadata": {},
     "output_type": "execute_result"
    }
   ],
   "source": [
    "ct2 = cm.CanonicalTransformation.polar_to_cartesian(ham1.full_qp_vars,indices=[0,1])\n",
    "\n",
    "ham2=ct2.old_to_new_hamiltonian(ham1)\n",
    "ham2.H"
   ]
  },
  {
   "cell_type": "markdown",
   "metadata": {},
   "source": [
    "A composite transformation representing all the transformations so far"
   ]
  },
  {
   "cell_type": "code",
   "execution_count": 7,
   "metadata": {},
   "outputs": [],
   "source": [
    "ct_all = cm.CanonicalTransformation.composite([ct1,ct2])"
   ]
  },
  {
   "cell_type": "code",
   "execution_count": 8,
   "metadata": {},
   "outputs": [],
   "source": [
    "oldvars = ct_all.old_qp_vars\n",
    "_,eta1,_,_,eta2,_,L1,kappa1,_,L2,kappa2,_= oldvars\n",
    "newvars = ct_all.new_qp_vars\n",
    "y1,y2,_,_,_,_,x1,x2,Psi,L,_,_ = newvars"
   ]
  },
  {
   "cell_type": "markdown",
   "metadata": {},
   "source": [
    "Conserved quantities after transformation:"
   ]
  },
  {
   "cell_type": "code",
   "execution_count": 9,
   "metadata": {},
   "outputs": [
    {
     "data": {
      "text/latex": [
       "$\\displaystyle \\left( L, \\  \\Lambda_{1} + \\Lambda_{2} - \\frac{\\eta_{1}^{2}}{2} - \\frac{\\eta_{2}^{2}}{2} - \\frac{\\kappa_{1}^{2}}{2} - \\frac{\\kappa_{2}^{2}}{2}\\right)$"
      ],
      "text/plain": [
       "⎛               2     2     2     2⎞\n",
       "⎜             η₁    η₂    κ₁    κ₂ ⎟\n",
       "⎜L, Λ₁ + Λ₂ - ─── - ─── - ─── - ───⎟\n",
       "⎝              2     2     2     2 ⎠"
      ]
     },
     "execution_count": 9,
     "metadata": {},
     "output_type": "execute_result"
    }
   ],
   "source": [
    "L,ct_all.new_to_old(L)"
   ]
  },
  {
   "cell_type": "code",
   "execution_count": 10,
   "metadata": {},
   "outputs": [
    {
     "data": {
      "text/latex": [
       "$\\displaystyle \\left( \\Psi, \\  3 \\Lambda_{1} + 2 \\Lambda_{2}\\right)$"
      ],
      "text/plain": [
       "(Ψ, 3⋅Λ₁ + 2⋅Λ₂)"
      ]
     },
     "execution_count": 10,
     "metadata": {},
     "output_type": "execute_result"
    }
   ],
   "source": [
    "Psi,ct_all.new_to_old(Psi)"
   ]
  },
  {
   "cell_type": "markdown",
   "metadata": {},
   "source": [
    "## dissipation\n",
    "The effect of dissipation, written in terms of the original variables"
   ]
  },
  {
   "cell_type": "code",
   "execution_count": 11,
   "metadata": {},
   "outputs": [
    {
     "data": {
      "text/latex": [
       "$\\displaystyle \\left[\\begin{matrix}0\\\\- \\frac{\\eta_{1}}{\\tau_{e1}}\\\\0\\\\0\\\\- \\frac{\\eta_{2}}{\\tau_{e2}}\\\\0\\\\- \\frac{\\Lambda_{1}}{2 \\tau_{a1}}\\\\- \\frac{\\kappa_{1}}{\\tau_{e1}}\\\\0\\\\- \\frac{\\Lambda_{2}}{2 \\tau_{a2}}\\\\- \\frac{\\kappa_{2}}{\\tau_{e2}}\\\\0\\end{matrix}\\right]$"
      ],
      "text/plain": [
       "⎡  0  ⎤\n",
       "⎢     ⎥\n",
       "⎢-η₁  ⎥\n",
       "⎢──── ⎥\n",
       "⎢τₑ₁  ⎥\n",
       "⎢     ⎥\n",
       "⎢  0  ⎥\n",
       "⎢     ⎥\n",
       "⎢  0  ⎥\n",
       "⎢     ⎥\n",
       "⎢-η₂  ⎥\n",
       "⎢──── ⎥\n",
       "⎢τₑ₂  ⎥\n",
       "⎢     ⎥\n",
       "⎢  0  ⎥\n",
       "⎢     ⎥\n",
       "⎢ -Λ₁ ⎥\n",
       "⎢─────⎥\n",
       "⎢2⋅τₐ₁⎥\n",
       "⎢     ⎥\n",
       "⎢-κ₁  ⎥\n",
       "⎢──── ⎥\n",
       "⎢τₑ₁  ⎥\n",
       "⎢     ⎥\n",
       "⎢  0  ⎥\n",
       "⎢     ⎥\n",
       "⎢ -Λ₂ ⎥\n",
       "⎢─────⎥\n",
       "⎢2⋅τₐ₂⎥\n",
       "⎢     ⎥\n",
       "⎢-κ₂  ⎥\n",
       "⎢──── ⎥\n",
       "⎢τₑ₂  ⎥\n",
       "⎢     ⎥\n",
       "⎣  0  ⎦"
      ]
     },
     "execution_count": 11,
     "metadata": {},
     "output_type": "execute_result"
    }
   ],
   "source": [
    "tau_a1,tau_a2,tau_e1,tau_e2 = sp.symbols(\"tau_a1,tau_a2,tau_e1,tau_e2\")\n",
    "disflow = sp.Matrix(np.zeros(pham.N_dim))\n",
    "for hk,tau in zip([(eta1,kappa1),(eta2,kappa2)],(tau_e1,tau_e2)):\n",
    "    h,k = hk\n",
    "    disflow[oldvars.index(h)] = -h/tau\n",
    "    disflow[oldvars.index(k)] = -k/tau\n",
    "disflow[oldvars.index(L1)] = -L1/tau_a1/sp.S(2)\n",
    "disflow[oldvars.index(L2)] = -L2/tau_a2/sp.S(2)\n",
    "disflow"
   ]
  },
  {
   "cell_type": "markdown",
   "metadata": {},
   "source": [
    "Define $(D, L_2)$ new variables s.t.\n",
    "$$\n",
    "\\begin{pmatrix}\n",
    "L\\\\\n",
    "\\Psi\n",
    "\\end{pmatrix}\n",
    "= \n",
    "\\begin{pmatrix}\n",
    "-1 & 1+\\rho\\\\\n",
    "0 & j\\rho+(j-1)\n",
    "\\end{pmatrix}\n",
    "\\cdot\n",
    "\\begin{pmatrix}\n",
    "D\\\\\n",
    "L_2\n",
    "\\end{pmatrix}\n",
    "$$\n",
    "where $\\rho = \\left(\\frac{\\Lambda_1}{\\Lambda_2}\\right)_\\mathrm{res} \\approx \\frac{m_1}{m_2}\\left(\\frac{j-1}{j}\\right)^{1/3}$.\n",
    "\n",
    "In terms of old variables,\n",
    "$$\n",
    "L = \\Lambda_{1} + \\Lambda_{2} - \\frac{\\eta_{1}^{2}}{2} - \\frac{\\eta_{2}^{2}}{2} - \\frac{\\kappa_{1}^{2}}{2} - \\frac{\\kappa_{2}^{2}}{2} = (1 + \\rho)L_2 - D\\\\\n",
    "\\Psi = j \\Lambda_{1} + (j-1) \\Lambda_{2} = (j\\rho+(j-1))L_2~.\n",
    "$$\n",
    "In other words, $L_2$ represents the value of $\\Lambda_2$ when the planets' instantaneous period ratio is at the exact resonant value and $D$ is the value of $(p_1+p_2)$ when $\\Lambda_2 = L_2$.\n",
    "\n",
    "The planets' period ratio can be expressed in terms of \n",
    "$$\n",
    "\\Delta = \\frac{j-1}{j}\\frac{P_2}{P_1} - 1 \\approx 3\\left(\\frac{\\Lambda_2 - L_2}{L_2} - \\frac{\\Lambda_1 - \\rho L_2}{\\rho L_2}\\right) = 3\\frac{\\delta\\Lambda_2}{L_2}\\left(1+\\frac{j-1}{j\\rho}\\right)\n",
    "$$\n",
    "where $\\delta\\Lambda_2 = \\Lambda_2 - L_2$\n",
    "\n",
    "Therefore, we can write \n",
    "$$\n",
    "D = p_1+p_2+(1+\\rho)L_2-\\Lambda_1 - \\Lambda_2\n",
    "$$\n",
    "Or\n",
    "$$\n",
    "\\begin{eqnarray}\n",
    "D &=& p_1+p_2 - \\frac{1}{j}\\delta\\Lambda_2\\\\\n",
    "  &=& p_1+p_2 + \\frac{1}{3}\\left(\\frac{\\rho L_2}{j\\rho+j-1}\\right)\\Delta\n",
    "\\end{eqnarray}\n",
    "$$\n",
    "\n",
    "The dissipative evolution of $D$ is therefore\n",
    "$$\n",
    "\\begin{eqnarray}\n",
    "\\dot{D}\\big|_\\mathrm{dis} &=&-\\frac{p_1}{\\tau_{e1}}-\\frac{p_2}{\\tau_{e2}}- \\frac{1}{3}\\left(\\frac{\\rho L_2}{j\\rho+j-1}\\right)\\dot{\\Delta}\\big|_\\mathrm{dis}\\\\\n",
    "&=&\n",
    "-\\frac{p_1}{\\tau_{e1}}-\\frac{p_2}{\\tau_{e2}}-\\frac{1}{2}\\left(\\frac{\\rho L_2}{j\\rho+j-1}\\right)\\frac{1}{\\tau_\\alpha}\n",
    "\\end{eqnarray}\n",
    "$$\n",
    "where I've used $\\dot{\\Delta}\\big|_\\mathrm{dis}=\\frac{2}{3}\\frac{1}{\\tau_\\alpha}$ with $\\tau_\\alpha^{-1} = \\tau_{a,1}^{-1}- \\tau_{a,2}^{-1}$"
   ]
  },
  {
   "cell_type": "markdown",
   "metadata": {},
   "source": [
    "Convert from $L,\\Psi$ to $D,L_2$"
   ]
  },
  {
   "cell_type": "code",
   "execution_count": null,
   "metadata": {},
   "outputs": [],
   "source": []
  },
  {
   "cell_type": "code",
   "execution_count": null,
   "metadata": {},
   "outputs": [],
   "source": []
  },
  {
   "cell_type": "code",
   "execution_count": 13,
   "metadata": {},
   "outputs": [],
   "source": [
    "D,L2res,rho = sp.symbols(\"D,L2,rho\")\n",
    "rho_val = (pham.particles[1].m/pham.particles[2].m) * (2/3)**(1/3) \n",
    "mtrx = sp.Matrix([[-1,1+rho],[0,3*rho + 2]]) \n",
    "D_exprn,L2res_exprn = mtrx.inv() * sp.Matrix([L,Psi])\n",
    "Dval,L2val = [float(s.subs(ham2.full_qp).subs({rho:rho_val})) for s in (D_exprn,L2res_exprn)]\n",
    "newvars = [y1,y2,x1,x2,D_exprn]\n",
    "subsrule = dict(zip([L,Psi],mtrx * sp.Matrix([D,L2res])))\n"
   ]
  },
  {
   "cell_type": "markdown",
   "metadata": {},
   "source": [
    " Initial value of $D$"
   ]
  },
  {
   "cell_type": "code",
   "execution_count": 25,
   "metadata": {},
   "outputs": [
    {
     "data": {
      "text/latex": [
       "$\\displaystyle - \\frac{L_{2} \\rho \\left(- \\frac{1}{\\tau_{a2}} + \\frac{1}{\\tau_{a1}}\\right)}{2 \\left(3 \\rho + 2\\right)} - \\frac{\\frac{x_{2}^{2}}{2} + \\frac{y_{2}^{2}}{2}}{\\tau_{e2}} - \\frac{\\frac{x_{1}^{2}}{2} + \\frac{y_{1}^{2}}{2}}{\\tau_{e1}}$"
      ],
      "text/plain": [
       "                         2     2     2     2\n",
       "       ⎛   1     1 ⎞   x₂    y₂    x₁    y₁ \n",
       "  L₂⋅ρ⋅⎜- ─── + ───⎟   ─── + ───   ─── + ───\n",
       "       ⎝  τₐ₂   τₐ₁⎠    2     2     2     2 \n",
       "- ────────────────── - ───────── - ─────────\n",
       "     2⋅(3⋅ρ + 2)          τₑ₂         τₑ₁   "
      ]
     },
     "execution_count": 25,
     "metadata": {},
     "output_type": "execute_result"
    }
   ],
   "source": [
    "from sympy.simplify.fu import TR10,TR10i,TR11\n",
    "mtrx_func = lambda i,j: sp.simplify(TR10i(TR10(sp.diff(ct_all.new_to_old(newvars[i]),oldvars[j]))))\n",
    "jac_old = sp.Matrix(len(newvars),len(oldvars),mtrx_func)\n",
    "newdisflow = sp.simplify(ct_all.old_to_new(jac_old * disflow))\n",
    "\n",
    "newdisflow = newdisflow.subs(subsrule)\n",
    "\n",
    "p1 = (x1*x1 + y1*y1)/sp.S(2)\n",
    "p2 = (x2*x2 + y2*y2)/sp.S(2)\n",
    "factor = rho * L2res / (3*rho+2)\n",
    "tau_alpha = 1/(1/tau_a1 - 1/tau_a2)\n",
    "Ddot_dis = -1*factor *(1/sp.S(2))* 1/tau_alpha - p1/tau_e1 - p2/tau_e2\n",
    "newdisflow_approx = sp.Matrix([(newdisflow[i] if i<4 else Ddot_dis) for i in range(5)])\n",
    "\n",
    "Ddot_dis"
   ]
  },
  {
   "cell_type": "code",
   "execution_count": 15,
   "metadata": {},
   "outputs": [
    {
     "data": {
      "text/latex": [
       "$\\displaystyle \\left[\\begin{matrix}- \\frac{y_{1}}{\\tau_{e1}}\\\\- \\frac{y_{2}}{\\tau_{e2}}\\\\- \\frac{x_{1}}{\\tau_{e1}}\\\\- \\frac{x_{2}}{\\tau_{e2}}\\\\- \\frac{L_{2} \\rho \\left(- \\frac{1}{\\tau_{a2}} + \\frac{1}{\\tau_{a1}}\\right)}{2 \\left(3 \\rho + 2\\right)} - \\frac{\\frac{x_{2}^{2}}{2} + \\frac{y_{2}^{2}}{2}}{\\tau_{e2}} - \\frac{\\frac{x_{1}^{2}}{2} + \\frac{y_{1}^{2}}{2}}{\\tau_{e1}}\\end{matrix}\\right]$"
      ],
      "text/plain": [
       "⎡                    -y₁                     ⎤\n",
       "⎢                    ────                    ⎥\n",
       "⎢                    τₑ₁                     ⎥\n",
       "⎢                                            ⎥\n",
       "⎢                    -y₂                     ⎥\n",
       "⎢                    ────                    ⎥\n",
       "⎢                    τₑ₂                     ⎥\n",
       "⎢                                            ⎥\n",
       "⎢                    -x₁                     ⎥\n",
       "⎢                    ────                    ⎥\n",
       "⎢                    τₑ₁                     ⎥\n",
       "⎢                                            ⎥\n",
       "⎢                    -x₂                     ⎥\n",
       "⎢                    ────                    ⎥\n",
       "⎢                    τₑ₂                     ⎥\n",
       "⎢                                            ⎥\n",
       "⎢                         2     2     2     2⎥\n",
       "⎢       ⎛   1     1 ⎞   x₂    y₂    x₁    y₁ ⎥\n",
       "⎢  L₂⋅ρ⋅⎜- ─── + ───⎟   ─── + ───   ─── + ───⎥\n",
       "⎢       ⎝  τₐ₂   τₐ₁⎠    2     2     2     2 ⎥\n",
       "⎢- ────────────────── - ───────── - ─────────⎥\n",
       "⎣     2⋅(3⋅ρ + 2)          τₑ₂         τₑ₁   ⎦"
      ]
     },
     "execution_count": 15,
     "metadata": {},
     "output_type": "execute_result"
    }
   ],
   "source": [
    "newdisflow_approx"
   ]
  },
  {
   "cell_type": "markdown",
   "metadata": {},
   "source": [
    "We'll need to substitute the following numerical values into our equations of motion in a few places:"
   ]
  },
  {
   "cell_type": "code",
   "execution_count": 16,
   "metadata": {},
   "outputs": [
    {
     "data": {
      "text/latex": [
       "$\\displaystyle \\left\\{ L_{2} : 6.20337479499515 \\cdot 10^{-5}, \\  \\rho : 0.873580464736299\\right\\}$"
      ],
      "text/plain": [
       "{L₂: 6.203374794995148e-05, ρ: 0.8735804647362989}"
      ]
     },
     "execution_count": 16,
     "metadata": {},
     "output_type": "execute_result"
    }
   ],
   "source": [
    "newpars = {L2res:L2val,rho:rho_val}\n",
    "newpars"
   ]
  },
  {
   "cell_type": "markdown",
   "metadata": {},
   "source": [
    "conservative flow expressed in term of dynamical variables (need to augment with $\\dot{D}=0$)"
   ]
  },
  {
   "cell_type": "code",
   "execution_count": 17,
   "metadata": {},
   "outputs": [],
   "source": [
    "newflow = ham2.flow.subs(subsrule).subs(ham2.H_params).subs(newpars)"
   ]
  },
  {
   "cell_type": "markdown",
   "metadata": {},
   "source": [
    "dissipative flow in terms of new dynamical varaibles:"
   ]
  },
  {
   "cell_type": "code",
   "execution_count": 19,
   "metadata": {},
   "outputs": [],
   "source": [
    "fullflow = sp.Matrix(list(newflow) + [0]) + newdisflow_approx.subs(newpars) \n",
    "taus = [tau_a1,tau_a2,tau_e1,tau_e2]\n",
    "\n",
    "dyvars = [y1, y2, x1, x2, D]\n",
    "\n",
    "flow_fn=sp.lambdify(dyvars+taus,fullflow)\n",
    "\n",
    "jac_fn=sp.lambdify(\n",
    "    dyvars+taus,\n",
    "    sp.Matrix(5,5,lambda i,j : sp.diff(fullflow[i],dyvars[j]) )\n",
    ")\n",
    "\n",
    "tauvals = [-1e5,+1e5,1e3,1e3]"
   ]
  },
  {
   "cell_type": "code",
   "execution_count": 21,
   "metadata": {},
   "outputs": [],
   "source": [
    "from scipy.integrate import solve_ivp\n",
    "\n",
    "times = np.linspace(0,6e3,200)\n",
    "f=lambda t,x: flow_fn(*x,*tauvals).reshape(-1)\n",
    "Df = lambda t,x: jac_fn(*x,*tauvals)\n",
    "soln=solve_ivp(f,(times[0],times[-1]),[0,0,0,0,float(Dval)],method='Radau',t_eval=times,jac=Df)"
   ]
  },
  {
   "cell_type": "code",
   "execution_count": 22,
   "metadata": {},
   "outputs": [
    {
     "data": {
      "text/plain": [
       "[<matplotlib.lines.Line2D at 0x7f24b33b0100>]"
      ]
     },
     "execution_count": 22,
     "metadata": {},
     "output_type": "execute_result"
    },
    {
     "data": {
      "image/png": "[encoded data removed]",
      "text/plain": [
       "<Figure size 432x288 with 2 Axes>"
      ]
     },
     "metadata": {
      "needs_background": "light"
     },
     "output_type": "display_data"
    }
   ],
   "source": [
    "fig,ax= plt.subplots(2,1,sharex=True)\n",
    "ax[0].plot(times,soln.y[-1])\n",
    "ax[1].plot(soln.t,soln.y[0])\n",
    "ax[1].plot(soln.t,soln.y[1])\n",
    "ax[1].plot(soln.t,soln.y[2])\n",
    "ax[1].plot(soln.t,soln.y[3])"
   ]
  },
  {
   "cell_type": "code",
   "execution_count": 23,
   "metadata": {},
   "outputs": [],
   "source": [
    "import warnings\n",
    "#warnings.filterwarnings(\"ignore\")\n",
    "from scipy.linalg import solve as lin_solve\n",
    "def newton_solve(fun,Dfun,guess,max_iter=100,rtol=1e-6,atol=1e-12):\n",
    "    y = guess.copy()\n",
    "    for itr in range(max_iter):\n",
    "        f = fun(y)\n",
    "        Df = Dfun(y)\n",
    "        dy = -1 * lin_solve(Df,f)\n",
    "        y+=dy\n",
    "        if np.alltrue( np.abs(dy) < rtol * np.abs(y) + atol ):\n",
    "            break\n",
    "    else:\n",
    "        warnings.warn(\"did not converge\")\n",
    "    return y"
   ]
  },
  {
   "cell_type": "code",
   "execution_count": 24,
   "metadata": {},
   "outputs": [
    {
     "data": {
      "image/png": "[encoded data removed]",
      "text/plain": [
       "<Figure size 432x288 with 1 Axes>"
      ]
     },
     "metadata": {
      "needs_background": "light"
     },
     "output_type": "display_data"
    }
   ],
   "source": [
    "f=lambda x: flow_fn(*x,*tauvals).reshape(-1)\n",
    "Df = lambda x: jac_fn(*x,*tauvals)\n",
    "root=newton_solve(f,Df,soln.y.T[-1])\n",
    "\n",
    "plt.plot(soln.t,soln.y[0])\n",
    "plt.plot(soln.t,soln.y[1])\n",
    "plt.plot(soln.t,soln.y[2])\n",
    "plt.plot(soln.t,soln.y[3])\n",
    "for r in root[:4]:\n",
    "    plt.axhline(r,color='k')"
   ]
  },
  {
   "cell_type": "code",
   "execution_count": null,
   "metadata": {},
   "outputs": [],
   "source": []
  }
 ],
 "metadata": {
  "kernelspec": {
   "display_name": "Python 3",
   "language": "python",
   "name": "python3"
  },
  "language_info": {
   "codemirror_mode": {
    "name": "ipython",
    "version": 3
   },
   "file_extension": ".py",
   "mimetype": "text/x-python",
   "name": "python",
   "nbconvert_exporter": "python",
   "pygments_lexer": "ipython3",
   "version": "3.8.10"
  }
 },
 "nbformat": 4,
 "nbformat_minor": 5
}
