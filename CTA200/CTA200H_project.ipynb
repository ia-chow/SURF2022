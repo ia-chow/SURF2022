{
 "cells": [
  {
   "cell_type": "markdown",
   "metadata": {},
   "source": [
    "## Ian Chow\n",
    "\n",
    "## CTA200 Project"
   ]
  },
  {
   "cell_type": "markdown",
   "metadata": {},
   "source": [
    "### 1.2 Theory"
   ]
  },
  {
   "cell_type": "markdown",
   "metadata": {},
   "source": [
    "Finish this"
   ]
  },
  {
   "cell_type": "markdown",
   "metadata": {},
   "source": [
    "## 2 Conservative Dynamics"
   ]
  },
  {
   "cell_type": "markdown",
   "metadata": {},
   "source": [
    "### 2.1 Semi-analytic Equations of Motion"
   ]
  },
  {
   "cell_type": "markdown",
   "metadata": {},
   "source": [
    "Import `rebound` and `celmech` packages as well as other libraries used:"
   ]
  },
  {
   "cell_type": "code",
   "execution_count": 1,
   "metadata": {},
   "outputs": [],
   "source": [
    "import rebound as rb\n",
    "import celmech as cm\n",
    "import scipy\n",
    "import numpy as np\n",
    "import matplotlib.pyplot as plt\n",
    "import radvel\n",
    "import pandas as pd\n",
    "import reboundx\n",
    "\n",
    "# make font bigger\n",
    "plt.rc('font', size=16)"
   ]
  },
  {
   "cell_type": "markdown",
   "metadata": {},
   "source": [
    "Import data:"
   ]
  },
  {
   "cell_type": "code",
   "execution_count": 2,
   "metadata": {},
   "outputs": [],
   "source": [
    "hd_data = pd.read_csv('hd45364_rvs.csv', sep =';')\n",
    "hd_data.BJD -= 2.4e6"
   ]
  },
  {
   "cell_type": "markdown",
   "metadata": {},
   "source": [
    "Params:"
   ]
  },
  {
   "cell_type": "code",
   "execution_count": 3,
   "metadata": {},
   "outputs": [],
   "source": [
    "#Least squares fit: \n",
    "fit_params = [ 2.28513053e+02, 7.27743508e+00, 5.39371890e+04, -1.78110513e-01, \n",
    "              -4.66450116e-02, 3.43378023e+02, 1.78603199e+01, 5.40186750e+04,\n",
    "               1.32165040e-01, 9.73129308e-02, -5.29039776e-01] \n",
    "\n",
    "# star mass, g and auday to m/s conversion factor\n",
    "STAR_MASS = 920  # 920 jupiter masses\n",
    "G = 2.825e-7  # converting G to jupiter masses, au, and days\n",
    "AUDAY_MS = 1.731e6  # conversion factor for au/day to m/s"
   ]
  },
  {
   "cell_type": "markdown",
   "metadata": {},
   "source": [
    "Get sim using least squares params:"
   ]
  },
  {
   "cell_type": "code",
   "execution_count": 4,
   "metadata": {},
   "outputs": [],
   "source": [
    "def mass_to_semiamp(planet_mass, star_mass, period, eccentricity, inclination):\n",
    "    \"\"\"\n",
    "    planet mass (jupiter masses) to semi amplitude\n",
    "    \"\"\"\n",
    "    return ((2 * np.pi * G/period) ** (1/3) * (planet_mass * np.sin(inclination) / star_mass ** (2/3)) * (1/np.sqrt(1 - eccentricity ** 2)))\n",
    "\n",
    "def semiamp_to_mass(semiamp, star_mass, period, eccentricity, inclination):\n",
    "    \"\"\"\n",
    "    semi amplitude to planet mass (jupiter masses)\n",
    "    \"\"\"\n",
    "    return (((2 * np.pi * G/period) ** (-1/3)) * (semiamp / np.sin(inclination)) * np.sqrt(1 - eccentricity ** 2) * (star_mass ** (2/3)))\n",
    "\n",
    "\n",
    "def get_sim_from_params(params, inclination, integrator, time_base, star_mass = STAR_MASS, auday_ms = AUDAY_MS):\n",
    "    \"\"\"\n",
    "    takes in params array, returns a rebound Simulation object with those parameters\n",
    "    \n",
    "    param params: numpy array of params:\n",
    "    \n",
    "    for i in range(0, num_planets):\n",
    "    \n",
    "    params[i + 0] is period\n",
    "    params[i + 1] is semiamp\n",
    "    params[i + 2] is tc (time of conjunction)\n",
    "    params[i + 3] is sqrt(e) * cos(omega)\n",
    "    params[i + 4] is sqrt(e) * sin(omega)\n",
    "    \n",
    "    params[5 * num_planets] is rv offset\n",
    "    params[5 * num_planets + 1] is jit\n",
    "    \n",
    "    param inclination: inclination of system in the observation plane (pi/2 is in the plane of the sky, 0 is edge-on)\n",
    "    param integrator: integrator to use, one of 'whfast' or 'ias15'\n",
    "    param time_base: base time (to begin integration from) in the simulation\n",
    "    \"\"\"\n",
    "    \n",
    "    num_planets = int((len(params) - 1) / 5) # -2 because there are rv_offset and jit parameters:\n",
    "    \n",
    "    sim = rb.Simulation()\n",
    "    sim.integrator = integrator\n",
    "    sim.t = time_base  # keplerian and n-body models initialized at the same time offset\n",
    "    # print(sim.t)\n",
    "    if integrator == 'whfast':  # if using whfast integrator, set timestep\n",
    "        sim.dt = 1/50 * min(params[0::5][:-1])  # timestep is 1/20th of the shortest orbital period of any planet\n",
    "        # print(sim.dt)\n",
    "    sim.units = ('AU', 'Mjupiter', 'day')\n",
    "\n",
    "    sim.add(m = star_mass)  # star mass as a constant\n",
    "        \n",
    "    for i in range (0, num_planets):\n",
    "        # print(i)\n",
    "        # planet parameters\n",
    "        period = params[5*i]  # in days\n",
    "        semiamp = params[5*i + 1] / auday_ms # divide by auday_ms because semiamp given in m/s\n",
    "        eccentricity = params[5*i + 3] ** 2 + params[5*i + 4] ** 2  # eccentricity from secos, sesin\n",
    "        omega = np.arctan2(params[5*i + 3], params[5*i + 4])  # omega from arctan of sesin, secos\n",
    "        # get tp by converting from tc\n",
    "        tp = radvel.orbit.timetrans_to_timeperi(params[5*i + 2], per = period, ecc = eccentricity, omega = omega)\n",
    "        \n",
    "        # mass\n",
    "        mass = semiamp_to_mass(semiamp = semiamp, star_mass = star_mass, period = period, eccentricity = eccentricity, inclination = inclination)\n",
    "        \n",
    "        # adding to simulation\n",
    "        sim.add(m = mass, P = period, e = eccentricity, T = tp, omega = omega, inc = inclination)\n",
    "        \n",
    "    sim.move_to_com()  # move to center of mass\n",
    "    \n",
    "    return sim\n"
   ]
  },
  {
   "cell_type": "markdown",
   "metadata": {},
   "source": [
    "Create sim from params:"
   ]
  },
  {
   "cell_type": "code",
   "execution_count": 5,
   "metadata": {},
   "outputs": [],
   "source": [
    "time_base = np.median(hd_data.BJD)\n",
    "sim = get_sim_from_params(fit_params, inclination = np.pi/2, integrator = 'ias15', time_base = 0)\n",
    "cm.nbody_simulation_utilities.align_simulation(sim)"
   ]
  },
  {
   "cell_type": "markdown",
   "metadata": {},
   "source": [
    "Construct Hamiltonian for the system:"
   ]
  },
  {
   "cell_type": "code",
   "execution_count": 6,
   "metadata": {},
   "outputs": [
    {
     "data": {
      "text/latex": [
       "$\\displaystyle - \\frac{G^{2} M_{2}^{2} \\mu_{2}^{3}}{2 \\Lambda_{2}^{2}} - \\frac{G^{2} M_{1}^{2} \\mu_{1}^{3}}{2 \\Lambda_{1}^{2}}$"
      ],
      "text/plain": [
       "   2   2   3    2   2   3\n",
       "  G ⋅M₂ ⋅μ₂    G ⋅M₁ ⋅μ₁ \n",
       "- ────────── - ──────────\n",
       "        2            2   \n",
       "    2⋅Λ₂         2⋅Λ₁    "
      ]
     },
     "execution_count": 6,
     "metadata": {},
     "output_type": "execute_result"
    }
   ],
   "source": [
    "pvars = cm.Poincare.from_Simulation(sim)\n",
    "pham = cm.PoincareHamiltonian(pvars)\n",
    "pham.H"
   ]
  },
  {
   "cell_type": "markdown",
   "metadata": {},
   "source": [
    "Now add eccentricity MMR terms (no inclination):"
   ]
  },
  {
   "cell_type": "code",
   "execution_count": 7,
   "metadata": {},
   "outputs": [
    {
     "data": {
      "text/latex": [
       "$\\displaystyle - \\frac{C_{(3,-2,-1,0,0,0)}^{(0,0,0,0),(0,0)}(\\alpha_{1,2}) G m_{1} m_{2} \\left(\\frac{\\eta_{1} \\sin{\\left(2 \\lambda_{1} - 3 \\lambda_{2} \\right)}}{\\sqrt{\\Lambda_{1,0}}} + \\frac{\\kappa_{1} \\cos{\\left(2 \\lambda_{1} - 3 \\lambda_{2} \\right)}}{\\sqrt{\\Lambda_{1,0}}}\\right)}{a_{2,0}} - \\frac{C_{(3,-2,-1,0,0,0)}^{(0,0,0,1),(0,0)}(\\alpha_{1,2}) G m_{1} m_{2} \\left(\\eta_{2}^{2} + \\kappa_{2}^{2}\\right) \\left(\\frac{\\eta_{1} \\sin{\\left(2 \\lambda_{1} - 3 \\lambda_{2} \\right)}}{\\sqrt{\\Lambda_{1,0}}} + \\frac{\\kappa_{1} \\cos{\\left(2 \\lambda_{1} - 3 \\lambda_{2} \\right)}}{\\sqrt{\\Lambda_{1,0}}}\\right)}{\\Lambda_{2,0} a_{2,0}} - \\frac{C_{(3,-2,-1,0,0,0)}^{(0,0,1,0),(0,0)}(\\alpha_{1,2}) G m_{1} m_{2} \\left(\\eta_{1}^{2} + \\kappa_{1}^{2}\\right) \\left(\\frac{\\eta_{1} \\sin{\\left(2 \\lambda_{1} - 3 \\lambda_{2} \\right)}}{\\sqrt{\\Lambda_{1,0}}} + \\frac{\\kappa_{1} \\cos{\\left(2 \\lambda_{1} - 3 \\lambda_{2} \\right)}}{\\sqrt{\\Lambda_{1,0}}}\\right)}{\\Lambda_{1,0} a_{2,0}} - \\frac{C_{(3,-2,-2,1,0,0)}^{(0,0,0,0),(0,0)}(\\alpha_{1,2}) G m_{1} m_{2} \\left(\\left(- \\frac{\\eta_{2} \\left(- \\frac{\\eta_{1}^{2}}{\\Lambda_{1,0}} + \\frac{\\kappa_{1}^{2}}{\\Lambda_{1,0}}\\right)}{\\sqrt{\\Lambda_{2,0}}} + \\frac{2 \\eta_{1} \\kappa_{1} \\kappa_{2}}{\\Lambda_{1,0} \\sqrt{\\Lambda_{2,0}}}\\right) \\sin{\\left(2 \\lambda_{1} - 3 \\lambda_{2} \\right)} + \\left(\\frac{\\kappa_{2} \\left(- \\frac{\\eta_{1}^{2}}{\\Lambda_{1,0}} + \\frac{\\kappa_{1}^{2}}{\\Lambda_{1,0}}\\right)}{\\sqrt{\\Lambda_{2,0}}} + \\frac{2 \\eta_{1} \\eta_{2} \\kappa_{1}}{\\Lambda_{1,0} \\sqrt{\\Lambda_{2,0}}}\\right) \\cos{\\left(2 \\lambda_{1} - 3 \\lambda_{2} \\right)}\\right)}{a_{2,0}} - \\frac{C_{(3,-2,0,-1,0,0)}^{(0,0,0,0),(0,0)}(\\alpha_{1,2}) G m_{1} m_{2} \\left(\\frac{\\eta_{2} \\sin{\\left(2 \\lambda_{1} - 3 \\lambda_{2} \\right)}}{\\sqrt{\\Lambda_{2,0}}} + \\frac{\\kappa_{2} \\cos{\\left(2 \\lambda_{1} - 3 \\lambda_{2} \\right)}}{\\sqrt{\\Lambda_{2,0}}}\\right)}{a_{2,0}} - \\frac{C_{(3,-2,0,-1,0,0)}^{(0,0,0,1),(0,0)}(\\alpha_{1,2}) G m_{1} m_{2} \\left(\\eta_{2}^{2} + \\kappa_{2}^{2}\\right) \\left(\\frac{\\eta_{2} \\sin{\\left(2 \\lambda_{1} - 3 \\lambda_{2} \\right)}}{\\sqrt{\\Lambda_{2,0}}} + \\frac{\\kappa_{2} \\cos{\\left(2 \\lambda_{1} - 3 \\lambda_{2} \\right)}}{\\sqrt{\\Lambda_{2,0}}}\\right)}{\\Lambda_{2,0} a_{2,0}} - \\frac{C_{(3,-2,0,-1,0,0)}^{(0,0,1,0),(0,0)}(\\alpha_{1,2}) G m_{1} m_{2} \\left(\\eta_{1}^{2} + \\kappa_{1}^{2}\\right) \\left(\\frac{\\eta_{2} \\sin{\\left(2 \\lambda_{1} - 3 \\lambda_{2} \\right)}}{\\sqrt{\\Lambda_{2,0}}} + \\frac{\\kappa_{2} \\cos{\\left(2 \\lambda_{1} - 3 \\lambda_{2} \\right)}}{\\sqrt{\\Lambda_{2,0}}}\\right)}{\\Lambda_{1,0} a_{2,0}} - \\frac{C_{(3,-2,1,-2,0,0)}^{(0,0,0,0),(0,0)}(\\alpha_{1,2}) G m_{1} m_{2} \\left(\\left(- \\frac{\\eta_{1} \\left(- \\frac{\\eta_{2}^{2}}{\\Lambda_{2,0}} + \\frac{\\kappa_{2}^{2}}{\\Lambda_{2,0}}\\right)}{\\sqrt{\\Lambda_{1,0}}} + \\frac{2 \\eta_{2} \\kappa_{1} \\kappa_{2}}{\\sqrt{\\Lambda_{1,0}} \\Lambda_{2,0}}\\right) \\sin{\\left(2 \\lambda_{1} - 3 \\lambda_{2} \\right)} + \\left(\\frac{\\kappa_{1} \\left(- \\frac{\\eta_{2}^{2}}{\\Lambda_{2,0}} + \\frac{\\kappa_{2}^{2}}{\\Lambda_{2,0}}\\right)}{\\sqrt{\\Lambda_{1,0}}} + \\frac{2 \\eta_{1} \\eta_{2} \\kappa_{2}}{\\sqrt{\\Lambda_{1,0}} \\Lambda_{2,0}}\\right) \\cos{\\left(2 \\lambda_{1} - 3 \\lambda_{2} \\right)}\\right)}{a_{2,0}} - \\frac{C_{(6,-4,-1,-1,0,0)}^{(0,0,0,0),(0,0)}(\\alpha_{1,2}) G m_{1} m_{2} \\left(\\left(- \\frac{\\eta_{1} \\eta_{2}}{\\sqrt{\\Lambda_{1,0}} \\sqrt{\\Lambda_{2,0}}} + \\frac{\\kappa_{1} \\kappa_{2}}{\\sqrt{\\Lambda_{1,0}} \\sqrt{\\Lambda_{2,0}}}\\right) \\cos{\\left(4 \\lambda_{1} - 6 \\lambda_{2} \\right)} + \\left(\\frac{\\eta_{1} \\kappa_{2}}{\\sqrt{\\Lambda_{1,0}} \\sqrt{\\Lambda_{2,0}}} + \\frac{\\eta_{2} \\kappa_{1}}{\\sqrt{\\Lambda_{1,0}} \\sqrt{\\Lambda_{2,0}}}\\right) \\sin{\\left(4 \\lambda_{1} - 6 \\lambda_{2} \\right)}\\right)}{a_{2,0}} - \\frac{C_{(6,-4,-2,0,0,0)}^{(0,0,0,0),(0,0)}(\\alpha_{1,2}) G m_{1} m_{2} \\left(\\left(- \\frac{\\eta_{1}^{2}}{\\Lambda_{1,0}} + \\frac{\\kappa_{1}^{2}}{\\Lambda_{1,0}}\\right) \\cos{\\left(4 \\lambda_{1} - 6 \\lambda_{2} \\right)} + \\frac{2 \\eta_{1} \\kappa_{1} \\sin{\\left(4 \\lambda_{1} - 6 \\lambda_{2} \\right)}}{\\Lambda_{1,0}}\\right)}{a_{2,0}} - \\frac{C_{(6,-4,0,-2,0,0)}^{(0,0,0,0),(0,0)}(\\alpha_{1,2}) G m_{1} m_{2} \\left(\\left(- \\frac{\\eta_{2}^{2}}{\\Lambda_{2,0}} + \\frac{\\kappa_{2}^{2}}{\\Lambda_{2,0}}\\right) \\cos{\\left(4 \\lambda_{1} - 6 \\lambda_{2} \\right)} + \\frac{2 \\eta_{2} \\kappa_{2} \\sin{\\left(4 \\lambda_{1} - 6 \\lambda_{2} \\right)}}{\\Lambda_{2,0}}\\right)}{a_{2,0}} - \\frac{C_{(9,-6,-1,-2,0,0)}^{(0,0,0,0),(0,0)}(\\alpha_{1,2}) G m_{1} m_{2} \\left(\\left(\\frac{\\eta_{1} \\left(- \\frac{\\eta_{2}^{2}}{\\Lambda_{2,0}} + \\frac{\\kappa_{2}^{2}}{\\Lambda_{2,0}}\\right)}{\\sqrt{\\Lambda_{1,0}}} + \\frac{2 \\eta_{2} \\kappa_{1} \\kappa_{2}}{\\sqrt{\\Lambda_{1,0}} \\Lambda_{2,0}}\\right) \\sin{\\left(6 \\lambda_{1} - 9 \\lambda_{2} \\right)} + \\left(\\frac{\\kappa_{1} \\left(- \\frac{\\eta_{2}^{2}}{\\Lambda_{2,0}} + \\frac{\\kappa_{2}^{2}}{\\Lambda_{2,0}}\\right)}{\\sqrt{\\Lambda_{1,0}}} - \\frac{2 \\eta_{1} \\eta_{2} \\kappa_{2}}{\\sqrt{\\Lambda_{1,0}} \\Lambda_{2,0}}\\right) \\cos{\\left(6 \\lambda_{1} - 9 \\lambda_{2} \\right)}\\right)}{a_{2,0}} - \\frac{C_{(9,-6,-2,-1,0,0)}^{(0,0,0,0),(0,0)}(\\alpha_{1,2}) G m_{1} m_{2} \\left(\\left(\\frac{\\eta_{2} \\left(- \\frac{\\eta_{1}^{2}}{\\Lambda_{1,0}} + \\frac{\\kappa_{1}^{2}}{\\Lambda_{1,0}}\\right)}{\\sqrt{\\Lambda_{2,0}}} + \\frac{2 \\eta_{1} \\kappa_{1} \\kappa_{2}}{\\Lambda_{1,0} \\sqrt{\\Lambda_{2,0}}}\\right) \\sin{\\left(6 \\lambda_{1} - 9 \\lambda_{2} \\right)} + \\left(\\frac{\\kappa_{2} \\left(- \\frac{\\eta_{1}^{2}}{\\Lambda_{1,0}} + \\frac{\\kappa_{1}^{2}}{\\Lambda_{1,0}}\\right)}{\\sqrt{\\Lambda_{2,0}}} - \\frac{2 \\eta_{1} \\eta_{2} \\kappa_{1}}{\\Lambda_{1,0} \\sqrt{\\Lambda_{2,0}}}\\right) \\cos{\\left(6 \\lambda_{1} - 9 \\lambda_{2} \\right)}\\right)}{a_{2,0}} - \\frac{C_{(9,-6,-3,0,0,0)}^{(0,0,0,0),(0,0)}(\\alpha_{1,2}) G m_{1} m_{2} \\left(\\left(- \\frac{\\eta_{1}^{3}}{\\Lambda_{1,0}^{\\frac{3}{2}}} + \\frac{3 \\eta_{1} \\kappa_{1}^{2}}{\\Lambda_{1,0}^{\\frac{3}{2}}}\\right) \\sin{\\left(6 \\lambda_{1} - 9 \\lambda_{2} \\right)} + \\left(- \\frac{3 \\eta_{1}^{2} \\kappa_{1}}{\\Lambda_{1,0}^{\\frac{3}{2}}} + \\frac{\\kappa_{1}^{3}}{\\Lambda_{1,0}^{\\frac{3}{2}}}\\right) \\cos{\\left(6 \\lambda_{1} - 9 \\lambda_{2} \\right)}\\right)}{a_{2,0}} - \\frac{C_{(9,-6,0,-3,0,0)}^{(0,0,0,0),(0,0)}(\\alpha_{1,2}) G m_{1} m_{2} \\left(\\left(- \\frac{\\eta_{2}^{3}}{\\Lambda_{2,0}^{\\frac{3}{2}}} + \\frac{3 \\eta_{2} \\kappa_{2}^{2}}{\\Lambda_{2,0}^{\\frac{3}{2}}}\\right) \\sin{\\left(6 \\lambda_{1} - 9 \\lambda_{2} \\right)} + \\left(- \\frac{3 \\eta_{2}^{2} \\kappa_{2}}{\\Lambda_{2,0}^{\\frac{3}{2}}} + \\frac{\\kappa_{2}^{3}}{\\Lambda_{2,0}^{\\frac{3}{2}}}\\right) \\cos{\\left(6 \\lambda_{1} - 9 \\lambda_{2} \\right)}\\right)}{a_{2,0}} - \\frac{G^{2} M_{2}^{2} \\mu_{2}^{3}}{2 \\Lambda_{2}^{2}} - \\frac{G^{2} M_{1}^{2} \\mu_{1}^{3}}{2 \\Lambda_{1}^{2}}$"
      ],
      "text/plain": [
       "                                                                              \n",
       "                                                                              \n",
       "                                                                              \n",
       "                                                               ⎛η₁⋅sin(2⋅λ₁ - \n",
       "  C_{(3,-2,-1,0,0,0)}_{1,2})__{(0,0,0,0),(0,0)}(\\alpha⋅G⋅m₁⋅m₂⋅⎜──────────────\n",
       "                                                               ⎜   ___________\n",
       "                                                               ⎝ ╲╱ \\Lambda_{1\n",
       "- ────────────────────────────────────────────────────────────────────────────\n",
       "                                                  a_{2,0}                     \n",
       "                                                                              \n",
       "\n",
       "                                                                              \n",
       "                                                                              \n",
       "                                                                              \n",
       "3⋅λ₂)   κ₁⋅cos(2⋅λ₁ - 3⋅λ₂)⎞                                                  \n",
       "───── + ───────────────────⎟   C_{(3,-2,-1,0,0,0)}_{1,2})__{(0,0,0,1),(0,0)}(\\\n",
       "____       _______________ ⎟                                                  \n",
       ",0}      ╲╱ \\Lambda_{1,0}  ⎠                                                  \n",
       "──────────────────────────── - ───────────────────────────────────────────────\n",
       "                                                                              \n",
       "                                                                              \n",
       "\n",
       "                                                                              \n",
       "                                                                              \n",
       "                                                                              \n",
       "              ⎛  2     2⎞ ⎛η₁⋅sin(2⋅λ₁ - 3⋅λ₂)   κ₁⋅cos(2⋅λ₁ - 3⋅λ₂)⎞         \n",
       "alpha⋅G⋅m₁⋅m₂⋅⎝η₂  + κ₂ ⎠⋅⎜─────────────────── + ───────────────────⎟   C_{(3,\n",
       "                          ⎜   _______________       _______________ ⎟         \n",
       "                          ⎝ ╲╱ \\Lambda_{1,0}      ╲╱ \\Lambda_{1,0}  ⎠         \n",
       "───────────────────────────────────────────────────────────────────── - ──────\n",
       "\\Lambda_{2,0}⋅a_{2,0}                                                         \n",
       "                                                                              \n",
       "\n",
       "                                                                              \n",
       "                                                                              \n",
       "                                                                              \n",
       "                                                       ⎛  2     2⎞ ⎛η₁⋅sin(2⋅λ\n",
       "-2,-1,0,0,0)}_{1,2})__{(0,0,1,0),(0,0)}(\\alpha⋅G⋅m₁⋅m₂⋅⎝η₁  + κ₁ ⎠⋅⎜──────────\n",
       "                                                                   ⎜   _______\n",
       "                                                                   ⎝ ╲╱ \\Lambd\n",
       "──────────────────────────────────────────────────────────────────────────────\n",
       "                                         \\Lambda_{1,0}⋅a_{2,0}                \n",
       "                                                                              \n",
       "\n",
       "                                                                              \n",
       "                                                                              \n",
       "                                                                              \n",
       "₁ - 3⋅λ₂)   κ₁⋅cos(2⋅λ₁ - 3⋅λ₂)⎞                                              \n",
       "───────── + ───────────────────⎟   C_{(3,-2,-2,1,0,0)}_{1,2})__{(0,0,0,0),(0,0\n",
       "________       _______________ ⎟                                              \n",
       "a_{1,0}      ╲╱ \\Lambda_{1,0}  ⎠                                              \n",
       "──────────────────────────────── - ───────────────────────────────────────────\n",
       "                                                                              \n",
       "                                                                              \n",
       "\n",
       "                  ⎛⎛     ⎛         2               2     ⎞                    \n",
       "                  ⎜⎜     ⎜       η₁              κ₁      ⎟                    \n",
       "                  ⎜⎜  η₂⋅⎜- ───────────── + ─────────────⎟                    \n",
       "                  ⎜⎜     ⎝  \\Lambda_{1,0}   \\Lambda_{1,0}⎠              2⋅η₁⋅κ\n",
       ")}(\\alpha⋅G⋅m₁⋅m₂⋅⎜⎜- ──────────────────────────────────── + ─────────────────\n",
       "                  ⎜⎜             _______________                             _\n",
       "                  ⎝⎝           ╲╱ \\Lambda_{2,0}              \\Lambda_{1,0}⋅╲╱ \n",
       "──────────────────────────────────────────────────────────────────────────────\n",
       "                                                                            a_\n",
       "                                                                              \n",
       "\n",
       "              ⎞                    ⎛   ⎛         2               2     ⎞      \n",
       "              ⎟                    ⎜   ⎜       η₁              κ₁      ⎟      \n",
       "              ⎟                    ⎜κ₂⋅⎜- ───────────── + ─────────────⎟      \n",
       "₁⋅κ₂          ⎟                    ⎜   ⎝  \\Lambda_{1,0}   \\Lambda_{1,0}⎠      \n",
       "──────────────⎟⋅sin(2⋅λ₁ - 3⋅λ₂) + ⎜──────────────────────────────────── + ───\n",
       "______________⎟                    ⎜           _______________                \n",
       "\\Lambda_{2,0} ⎠                    ⎝         ╲╱ \\Lambda_{2,0}              \\La\n",
       "──────────────────────────────────────────────────────────────────────────────\n",
       "{2,0}                                                                         \n",
       "                                                                              \n",
       "\n",
       "                            ⎞                 ⎞                               \n",
       "                            ⎟                 ⎟                               \n",
       "                            ⎟                 ⎟                               \n",
       "        2⋅η₁⋅η₂⋅κ₁          ⎟                 ⎟                               \n",
       "────────────────────────────⎟⋅cos(2⋅λ₁ - 3⋅λ₂)⎟   C_{(3,-2,0,-1,0,0)}_{1,2})__\n",
       "             _______________⎟                 ⎟                               \n",
       "mbda_{1,0}⋅╲╱ \\Lambda_{2,0} ⎠                 ⎠                               \n",
       "─────────────────────────────────────────────── - ────────────────────────────\n",
       "                                                                              \n",
       "                                                                              \n",
       "\n",
       "                                                                              \n",
       "                                                                              \n",
       "                                                                              \n",
       "                                 ⎛η₂⋅sin(2⋅λ₁ - 3⋅λ₂)   κ₂⋅cos(2⋅λ₁ - 3⋅λ₂)⎞  \n",
       "{(0,0,0,0),(0,0)}(\\alpha⋅G⋅m₁⋅m₂⋅⎜─────────────────── + ───────────────────⎟  \n",
       "                                 ⎜   _______________       _______________ ⎟  \n",
       "                                 ⎝ ╲╱ \\Lambda_{2,0}      ╲╱ \\Lambda_{2,0}  ⎠  \n",
       "──────────────────────────────────────────────────────────────────────────── -\n",
       "                    a_{2,0}                                                   \n",
       "                                                                              \n",
       "\n",
       "                                                                              \n",
       "                                                                              \n",
       "                                                                              \n",
       "                                                              ⎛  2     2⎞ ⎛η₂⋅\n",
       " C_{(3,-2,0,-1,0,0)}_{1,2})__{(0,0,0,1),(0,0)}(\\alpha⋅G⋅m₁⋅m₂⋅⎝η₂  + κ₂ ⎠⋅⎜───\n",
       "                                                                          ⎜   \n",
       "                                                                          ⎝ ╲╱\n",
       " ─────────────────────────────────────────────────────────────────────────────\n",
       "                                                \\Lambda_{2,0}⋅a_{2,0}         \n",
       "                                                                              \n",
       "\n",
       "                                                                              \n",
       "                                                                              \n",
       "                                                                              \n",
       "sin(2⋅λ₁ - 3⋅λ₂)   κ₂⋅cos(2⋅λ₁ - 3⋅λ₂)⎞                                       \n",
       "──────────────── + ───────────────────⎟   C_{(3,-2,0,-1,0,0)}_{1,2})__{(0,0,1,\n",
       "_______________       _______________ ⎟                                       \n",
       " \\Lambda_{2,0}      ╲╱ \\Lambda_{2,0}  ⎠                                       \n",
       "─────────────────────────────────────── - ────────────────────────────────────\n",
       "                                                                              \n",
       "                                                                              \n",
       "\n",
       "                                                                              \n",
       "                                                                              \n",
       "                                                                              \n",
       "                         ⎛  2     2⎞ ⎛η₂⋅sin(2⋅λ₁ - 3⋅λ₂)   κ₂⋅cos(2⋅λ₁ - 3⋅λ₂\n",
       "0),(0,0)}(\\alpha⋅G⋅m₁⋅m₂⋅⎝η₁  + κ₁ ⎠⋅⎜─────────────────── + ──────────────────\n",
       "                                     ⎜   _______________       _______________\n",
       "                                     ⎝ ╲╱ \\Lambda_{2,0}      ╲╱ \\Lambda_{2,0} \n",
       "──────────────────────────────────────────────────────────────────────────────\n",
       "           \\Lambda_{1,0}⋅a_{2,0}                                              \n",
       "                                                                              \n",
       "\n",
       "                                                                  ⎛⎛     ⎛    \n",
       "                                                                  ⎜⎜     ⎜    \n",
       "                                                                  ⎜⎜  η₁⋅⎜- ──\n",
       ")⎞                                                                ⎜⎜     ⎝  \\L\n",
       "─⎟   C_{(3,-2,1,-2,0,0)}_{1,2})__{(0,0,0,0),(0,0)}(\\alpha⋅G⋅m₁⋅m₂⋅⎜⎜- ────────\n",
       " ⎟                                                                ⎜⎜          \n",
       " ⎠                                                                ⎝⎝          \n",
       "── - ─────────────────────────────────────────────────────────────────────────\n",
       "                                                                              \n",
       "                                                                              \n",
       "\n",
       "     2               2     ⎞                                  ⎞               \n",
       "   η₂              κ₂      ⎟                                  ⎟               \n",
       "─────────── + ─────────────⎟                                  ⎟               \n",
       "ambda_{2,0}   \\Lambda_{2,0}⎠              2⋅η₂⋅κ₁⋅κ₂          ⎟               \n",
       "──────────────────────────── + ───────────────────────────────⎟⋅sin(2⋅λ₁ - 3⋅λ\n",
       "   _______________               _______________              ⎟               \n",
       " ╲╱ \\Lambda_{1,0}              ╲╱ \\Lambda_{1,0} ⋅\\Lambda_{2,0}⎠               \n",
       "──────────────────────────────────────────────────────────────────────────────\n",
       "                                              a_{2,0}                         \n",
       "                                                                              \n",
       "\n",
       "     ⎛   ⎛         2               2     ⎞                                  ⎞ \n",
       "     ⎜   ⎜       η₂              κ₂      ⎟                                  ⎟ \n",
       "     ⎜κ₁⋅⎜- ───────────── + ─────────────⎟                                  ⎟ \n",
       "     ⎜   ⎝  \\Lambda_{2,0}   \\Lambda_{2,0}⎠              2⋅η₁⋅η₂⋅κ₂          ⎟ \n",
       "₂) + ⎜──────────────────────────────────── + ───────────────────────────────⎟⋅\n",
       "     ⎜           _______________               _______________              ⎟ \n",
       "     ⎝         ╲╱ \\Lambda_{1,0}              ╲╱ \\Lambda_{1,0} ⋅\\Lambda_{2,0}⎠ \n",
       "──────────────────────────────────────────────────────────────────────────────\n",
       "                                                                              \n",
       "                                                                              \n",
       "\n",
       "                ⎞                                                             \n",
       "                ⎟                                                             \n",
       "                ⎟                                                             \n",
       "                ⎟                                                             \n",
       "cos(2⋅λ₁ - 3⋅λ₂)⎟   C_{(6,-4,-1,-1,0,0)}_{1,2})__{(0,0,0,0),(0,0)}(\\alpha⋅G⋅m₁\n",
       "                ⎟                                                             \n",
       "                ⎠                                                             \n",
       "───────────────── - ──────────────────────────────────────────────────────────\n",
       "                                                                              \n",
       "                                                                              \n",
       "\n",
       "                                                                              \n",
       "                                                                              \n",
       "                                                                              \n",
       "    ⎛⎛                 η₁⋅η₂                                 κ₁⋅κ₂            \n",
       "⋅m₂⋅⎜⎜- ─────────────────────────────────── + ────────────────────────────────\n",
       "    ⎜⎜    _______________   _______________     _______________   ____________\n",
       "    ⎝⎝  ╲╱ \\Lambda_{1,0} ⋅╲╱ \\Lambda_{2,0}    ╲╱ \\Lambda_{1,0} ⋅╲╱ \\Lambda_{2,\n",
       "──────────────────────────────────────────────────────────────────────────────\n",
       "                                                                 a_{2,0}      \n",
       "                                                                              \n",
       "\n",
       "                                                                              \n",
       "                                                                              \n",
       "                                                                              \n",
       "   ⎞                    ⎛               η₁⋅κ₂                                 \n",
       "───⎟⋅cos(4⋅λ₁ - 6⋅λ₂) + ⎜─────────────────────────────────── + ───────────────\n",
       "___⎟                    ⎜  _______________   _______________     _____________\n",
       "0} ⎠                    ⎝╲╱ \\Lambda_{1,0} ⋅╲╱ \\Lambda_{2,0}    ╲╱ \\Lambda_{1,0\n",
       "──────────────────────────────────────────────────────────────────────────────\n",
       "                                                                              \n",
       "                                                                              \n",
       "\n",
       "                                                                              \n",
       "                                                                              \n",
       "                                                                              \n",
       "η₂⋅κ₁               ⎞                 ⎞                                       \n",
       "────────────────────⎟⋅sin(4⋅λ₁ - 6⋅λ₂)⎟                                       \n",
       "__   _______________⎟                 ⎟   C_{(6,-4,-2,0,0,0)}_{1,2})__{(0,0,0,\n",
       "} ⋅╲╱ \\Lambda_{2,0} ⎠                 ⎠                                       \n",
       "─────────────────────────────────────── - ────────────────────────────────────\n",
       "                                                                              \n",
       "                                                                              \n",
       "\n",
       "                                                                              \n",
       "                                                                              \n",
       "                                                                              \n",
       "                         ⎛⎛         2               2     ⎞                   \n",
       "                         ⎜⎜       η₁              κ₁      ⎟                   \n",
       "0),(0,0)}(\\alpha⋅G⋅m₁⋅m₂⋅⎜⎜- ───────────── + ─────────────⎟⋅cos(4⋅λ₁ - 6⋅λ₂) +\n",
       "                         ⎝⎝  \\Lambda_{1,0}   \\Lambda_{1,0}⎠                   \n",
       "──────────────────────────────────────────────────────────────────────────────\n",
       "                              a_{2,0}                                         \n",
       "                                                                              \n",
       "\n",
       "                                                                              \n",
       "                                                                              \n",
       "                                                                              \n",
       "                         ⎞                                                    \n",
       " 2⋅η₁⋅κ₁⋅sin(4⋅λ₁ - 6⋅λ₂)⎟                                                    \n",
       " ────────────────────────⎟   C_{(6,-4,0,-2,0,0)}_{1,2})__{(0,0,0,0),(0,0)}(\\al\n",
       "      \\Lambda_{1,0}      ⎠                                                    \n",
       "────────────────────────── - ─────────────────────────────────────────────────\n",
       "                                                                              \n",
       "                                                                              \n",
       "\n",
       "                                                                              \n",
       "                                                                              \n",
       "                                                                              \n",
       "            ⎛⎛         2               2     ⎞                                \n",
       "            ⎜⎜       η₂              κ₂      ⎟                    2⋅η₂⋅κ₂⋅sin(\n",
       "pha⋅G⋅m₁⋅m₂⋅⎜⎜- ───────────── + ─────────────⎟⋅cos(4⋅λ₁ - 6⋅λ₂) + ────────────\n",
       "            ⎝⎝  \\Lambda_{2,0}   \\Lambda_{2,0}⎠                         \\Lambda\n",
       "──────────────────────────────────────────────────────────────────────────────\n",
       "                 a_{2,0}                                                      \n",
       "                                                                              \n",
       "\n",
       "                                                                              \n",
       "                                                                              \n",
       "                                                                              \n",
       "            ⎞                                                                 \n",
       "4⋅λ₁ - 6⋅λ₂)⎟   C_{(9,-6,-1,-2,0,0)}_{1,2})__{(0,0,0,0),(0,0)}(\\alpha⋅G⋅m₁⋅m₂⋅\n",
       "────────────⎟                                                                 \n",
       "_{2,0}      ⎠                                                                 \n",
       "───────────── - ──────────────────────────────────────────────────────────────\n",
       "                                                                              \n",
       "                                                                              \n",
       "\n",
       "⎛⎛   ⎛         2               2     ⎞                                  ⎞     \n",
       "⎜⎜   ⎜       η₂              κ₂      ⎟                                  ⎟     \n",
       "⎜⎜η₁⋅⎜- ───────────── + ─────────────⎟                                  ⎟     \n",
       "⎜⎜   ⎝  \\Lambda_{2,0}   \\Lambda_{2,0}⎠              2⋅η₂⋅κ₁⋅κ₂          ⎟     \n",
       "⎜⎜──────────────────────────────────── + ───────────────────────────────⎟⋅sin(\n",
       "⎜⎜           _______________               _______________              ⎟     \n",
       "⎝⎝         ╲╱ \\Lambda_{1,0}              ╲╱ \\Lambda_{1,0} ⋅\\Lambda_{2,0}⎠     \n",
       "──────────────────────────────────────────────────────────────────────────────\n",
       "                                                         a_{2,0}              \n",
       "                                                                              \n",
       "\n",
       "               ⎛   ⎛         2               2     ⎞                          \n",
       "               ⎜   ⎜       η₂              κ₂      ⎟                          \n",
       "               ⎜κ₁⋅⎜- ───────────── + ─────────────⎟                          \n",
       "               ⎜   ⎝  \\Lambda_{2,0}   \\Lambda_{2,0}⎠              2⋅η₁⋅η₂⋅κ₂  \n",
       "6⋅λ₁ - 9⋅λ₂) + ⎜──────────────────────────────────── - ───────────────────────\n",
       "               ⎜           _______________               _______________      \n",
       "               ⎝         ╲╱ \\Lambda_{1,0}              ╲╱ \\Lambda_{1,0} ⋅\\Lamb\n",
       "──────────────────────────────────────────────────────────────────────────────\n",
       "                                                                              \n",
       "                                                                              \n",
       "\n",
       "        ⎞                 ⎞                                                   \n",
       "        ⎟                 ⎟                                                   \n",
       "        ⎟                 ⎟                                                   \n",
       "        ⎟                 ⎟                                                   \n",
       "────────⎟⋅cos(6⋅λ₁ - 9⋅λ₂)⎟   C_{(9,-6,-2,-1,0,0)}_{1,2})__{(0,0,0,0),(0,0)}(\\\n",
       "        ⎟                 ⎟                                                   \n",
       "da_{2,0}⎠                 ⎠                                                   \n",
       "─────────────────────────── - ────────────────────────────────────────────────\n",
       "                                                                              \n",
       "                                                                              \n",
       "\n",
       "              ⎛⎛   ⎛         2               2     ⎞                          \n",
       "              ⎜⎜   ⎜       η₁              κ₁      ⎟                          \n",
       "              ⎜⎜η₂⋅⎜- ───────────── + ─────────────⎟                          \n",
       "              ⎜⎜   ⎝  \\Lambda_{1,0}   \\Lambda_{1,0}⎠              2⋅η₁⋅κ₁⋅κ₂  \n",
       "alpha⋅G⋅m₁⋅m₂⋅⎜⎜──────────────────────────────────── + ───────────────────────\n",
       "              ⎜⎜           _______________                             _______\n",
       "              ⎝⎝         ╲╱ \\Lambda_{2,0}              \\Lambda_{1,0}⋅╲╱ \\Lambd\n",
       "──────────────────────────────────────────────────────────────────────────────\n",
       "                                                                       a_{2,0}\n",
       "                                                                              \n",
       "\n",
       "        ⎞                    ⎛   ⎛         2               2     ⎞            \n",
       "        ⎟                    ⎜   ⎜       η₁              κ₁      ⎟            \n",
       "        ⎟                    ⎜κ₂⋅⎜- ───────────── + ─────────────⎟            \n",
       "        ⎟                    ⎜   ⎝  \\Lambda_{1,0}   \\Lambda_{1,0}⎠            \n",
       "────────⎟⋅sin(6⋅λ₁ - 9⋅λ₂) + ⎜──────────────────────────────────── - ─────────\n",
       "________⎟                    ⎜           _______________                      \n",
       "a_{2,0} ⎠                    ⎝         ╲╱ \\Lambda_{2,0}              \\Lambda_{\n",
       "──────────────────────────────────────────────────────────────────────────────\n",
       "                                                                              \n",
       "                                                                              \n",
       "\n",
       "                      ⎞                 ⎞                                     \n",
       "                      ⎟                 ⎟                                     \n",
       "                      ⎟                 ⎟                                     \n",
       "  2⋅η₁⋅η₂⋅κ₁          ⎟                 ⎟                                     \n",
       "──────────────────────⎟⋅cos(6⋅λ₁ - 9⋅λ₂)⎟   C_{(9,-6,-3,0,0,0)}_{1,2})__{(0,0,\n",
       "       _______________⎟                 ⎟                                     \n",
       "1,0}⋅╲╱ \\Lambda_{2,0} ⎠                 ⎠                                     \n",
       "───────────────────────────────────────── - ──────────────────────────────────\n",
       "                                                                              \n",
       "                                                                              \n",
       "\n",
       "                                                                              \n",
       "                                                                              \n",
       "                           ⎛⎛          3                     2    ⎞           \n",
       "                           ⎜⎜        η₁               3⋅η₁⋅κ₁     ⎟           \n",
       "0,0),(0,0)}(\\alpha⋅G⋅m₁⋅m₂⋅⎜⎜- ──────────────── + ────────────────⎟⋅sin(6⋅λ₁ -\n",
       "                           ⎜⎜               3/2                3/2⎟           \n",
       "                           ⎝⎝  \\Lambda_{1,0}      \\Lambda_{1,0}   ⎠           \n",
       "──────────────────────────────────────────────────────────────────────────────\n",
       "                                                   a_{2,0}                    \n",
       "                                                                              \n",
       "\n",
       "                                                                              \n",
       "                                                                              \n",
       "         ⎛          2                  3       ⎞                 ⎞            \n",
       "         ⎜      3⋅η₁ ⋅κ₁             κ₁        ⎟                 ⎟            \n",
       " 9⋅λ₂) + ⎜- ──────────────── + ────────────────⎟⋅cos(6⋅λ₁ - 9⋅λ₂)⎟   C_{(9,-6,\n",
       "         ⎜               3/2                3/2⎟                 ⎟            \n",
       "         ⎝  \\Lambda_{1,0}      \\Lambda_{1,0}   ⎠                 ⎠            \n",
       "────────────────────────────────────────────────────────────────── - ─────────\n",
       "                                                                              \n",
       "                                                                              \n",
       "\n",
       "                                                                              \n",
       "                                                                              \n",
       "                                                    ⎛⎛          3             \n",
       "                                                    ⎜⎜        η₂              \n",
       "0,-3,0,0)}_{1,2})__{(0,0,0,0),(0,0)}(\\alpha⋅G⋅m₁⋅m₂⋅⎜⎜- ──────────────── + ───\n",
       "                                                    ⎜⎜               3/2      \n",
       "                                                    ⎝⎝  \\Lambda_{2,0}      \\La\n",
       "──────────────────────────────────────────────────────────────────────────────\n",
       "                                                                            a_\n",
       "                                                                              \n",
       "\n",
       "                                                                              \n",
       "                                                                              \n",
       "        2    ⎞                    ⎛          2                  3       ⎞     \n",
       " 3⋅η₂⋅κ₂     ⎟                    ⎜      3⋅η₂ ⋅κ₂             κ₂        ⎟     \n",
       "─────────────⎟⋅sin(6⋅λ₁ - 9⋅λ₂) + ⎜- ──────────────── + ────────────────⎟⋅cos(\n",
       "          3/2⎟                    ⎜               3/2                3/2⎟     \n",
       "mbda_{2,0}   ⎠                    ⎝  \\Lambda_{2,0}      \\Lambda_{2,0}   ⎠     \n",
       "──────────────────────────────────────────────────────────────────────────────\n",
       "{2,0}                                                                         \n",
       "                                                                              \n",
       "\n",
       "                                       \n",
       "                                       \n",
       "            ⎞                          \n",
       "            ⎟                          \n",
       "6⋅λ₁ - 9⋅λ₂)⎟                          \n",
       "            ⎟    2   2   3    2   2   3\n",
       "            ⎠   G ⋅M₂ ⋅μ₂    G ⋅M₁ ⋅μ₁ \n",
       "───────────── - ────────── - ──────────\n",
       "                      2            2   \n",
       "                  2⋅Λ₂         2⋅Λ₁    "
      ]
     },
     "execution_count": 7,
     "metadata": {},
     "output_type": "execute_result"
    }
   ],
   "source": [
    "pham.add_MMR_terms(3, 1, max_order=3, inclinations=False)\n",
    "pham.H"
   ]
  },
  {
   "cell_type": "markdown",
   "metadata": {},
   "source": [
    "Now we want to compare $\\theta_1$, $\\theta_2$, $e_1$, $e_2$ and $P_2/P_1$ so we integrate over a series of times starting at $0$:"
   ]
  },
  {
   "cell_type": "code",
   "execution_count": 8,
   "metadata": {},
   "outputs": [],
   "source": [
    "# inner and outer particles for rebound versus celmech\n",
    "\n",
    "inner_rb = sim.particles[1]\n",
    "outer_rb = sim.particles[2]\n",
    "\n",
    "# defining times\n",
    "Nout = 1000  # 1000 values\n",
    "times = np.linspace(0, 0 + 300, Nout) * inner_rb.P  # 300 times the orbital period of teh inner planet\n",
    "# defining parameters of interest\n",
    "l1_rb, l2_rb, pomega1_rb, pomega2_rb, e1_rb, e2_rb, p1_rb, p2_rb = np.zeros(Nout), np.zeros(Nout), np.zeros(Nout), np.zeros(Nout), np.zeros(Nout), np.zeros(Nout), np.zeros(Nout), np.zeros(Nout)\n",
    "l1_cm, l2_cm, pomega1_cm, pomega2_cm, e1_cm, e2_cm, p1_cm, p2_cm = np.zeros(Nout), np.zeros(Nout), np.zeros(Nout), np.zeros(Nout), np.zeros(Nout), np.zeros(Nout), np.zeros(Nout), np.zeros(Nout) "
   ]
  },
  {
   "cell_type": "markdown",
   "metadata": {},
   "source": [
    "Performing the integration and recording all the paramters required:"
   ]
  },
  {
   "cell_type": "code",
   "execution_count": 9,
   "metadata": {},
   "outputs": [],
   "source": [
    "for i,t in enumerate(times):\n",
    "    sim.integrate(t) # advance N-body\n",
    "    pham.integrate(t) # advance celmech\n",
    "    # inner, outer planets\n",
    "    inner_cm = pvars.particles[1]\n",
    "    outer_cm = pvars.particles[2]\n",
    "    # mean longitude angles\n",
    "    l1_rb[i] = inner_rb.l\n",
    "    l2_rb[i] = outer_rb.l\n",
    "    l1_cm[i] = inner_cm.l\n",
    "    l2_cm[i] = outer_cm.l\n",
    "    # pomegas\n",
    "    pomega1_rb[i] = inner_rb.pomega\n",
    "    pomega2_rb[i] = outer_rb.pomega\n",
    "    pomega1_cm[i] = inner_cm.pomega\n",
    "    pomega2_cm[i] = outer_cm.pomega\n",
    "    # eccentricities\n",
    "    e1_rb[i] = inner_rb.e\n",
    "    e2_rb[i] = outer_rb.e\n",
    "    e1_cm[i] = inner_cm.e\n",
    "    e2_cm[i] = outer_cm.e\n",
    "    # periods\n",
    "    p1_rb[i] = inner_rb.P\n",
    "    p2_rb[i] = outer_rb.P\n",
    "    p1_cm[i] = inner_cm.P\n",
    "    p2_cm[i]= outer_cm.P"
   ]
  },
  {
   "cell_type": "markdown",
   "metadata": {},
   "source": [
    "Compute period ratio and resonant angles $\\theta_i$:"
   ]
  },
  {
   "cell_type": "code",
   "execution_count": 10,
   "metadata": {},
   "outputs": [],
   "source": [
    "# period ratio\n",
    "pr_rb, pr_cm = p2_rb/p1_rb, p2_cm/p1_cm\n",
    "# resonant angles\n",
    "theta1_rb, theta1_cm = np.mod(3 * l2_rb - 2 * l1_rb - pomega1_rb, 2 * np.pi), np.mod(3 * l2_cm - 2 * l1_cm - pomega1_cm, 2 * np.pi)\n",
    "theta2_rb, theta2_cm = np.mod(3 * l2_rb - 2 * l1_rb - pomega2_rb, 2 * np.pi), np.mod(3 * l2_cm - 2 * l1_cm - pomega2_cm, 2 * np.pi)"
   ]
  },
  {
   "cell_type": "markdown",
   "metadata": {},
   "source": [
    "Plotting:"
   ]
  },
  {
   "cell_type": "code",
   "execution_count": 11,
   "metadata": {},
   "outputs": [
    {
     "data": {
      "text/plain": [
       "<matplotlib.legend.Legend at 0x7fea37456e20>"
      ]
     },
     "execution_count": 11,
     "metadata": {},
     "output_type": "execute_result"
    },
    {
     "data": {
      "image/png": "[encoded data removed]",
      "text/plain": [
       "<Figure size 1440x1008 with 6 Axes>"
      ]
     },
     "metadata": {
      "needs_background": "light"
     },
     "output_type": "display_data"
    }
   ],
   "source": [
    "# Plotting:\n",
    "fig, ((ax_theta1, ax_theta2), (ax_e1, ax_e2), (ax_pr, _ )) = plt.subplots(3, 2, sharex=True, figsize = (20, 14))\n",
    "# theta1\n",
    "ax_theta1.plot(times, theta1_rb, 'k.', label = r'$N$-body')\n",
    "ax_theta1.plot(times, theta1_cm, 'r.', label = r'celmech')\n",
    "ax_theta1.legend()\n",
    "ax_theta1.set_ylabel(r'$\\theta_1$')\n",
    "# theta2\n",
    "ax_theta2.plot(times, theta2_rb, 'k.', label = r'$N$-body')\n",
    "ax_theta2.plot(times, theta2_cm, 'r.', label = r'celmech')\n",
    "ax_theta2.legend()\n",
    "ax_theta2.set_ylabel(r'$\\theta_2$')\n",
    "# e1\n",
    "ax_e1.plot(times, e1_rb, 'k.', label = r'$N$-body')\n",
    "ax_e1.plot(times, e1_cm, 'r.', label = r'celmech')\n",
    "ax_e1.legend()\n",
    "ax_e1.set_ylabel(r'$e_1$')\n",
    "# e2\n",
    "ax_e2.plot(times, e2_rb, 'k.', label = r'$N$-body')\n",
    "ax_e2.plot(times, e2_cm, 'r.', label = r'celmech')\n",
    "ax_e2.legend()\n",
    "ax_e2.set_ylabel(r'$e_2$')\n",
    "# period ratio\n",
    "ax_pr.plot(times, pr_rb, 'k.', label = r'$N$-body')\n",
    "ax_pr.plot(times, pr_cm, 'r.', label = r'celmech')\n",
    "ax_pr.legend()"
   ]
  },
  {
   "cell_type": "markdown",
   "metadata": {},
   "source": [
    "## 2.2 A simpler model through canonical transformations"
   ]
  },
  {
   "cell_type": "markdown",
   "metadata": {},
   "source": [
    "## 2.2.1"
   ]
  },
  {
   "cell_type": "markdown",
   "metadata": {},
   "source": [
    "We have canonical conjugate variables $(q_i, p_i)$ and we want to show that $Q_i = \\sum_j A_{ij} q_j$ and $P_i = \\sum_j \\left(A^{-1}\\right)_{ij}p_j$ are a canonical pair as well if $A$ is invertible:\n",
    "\n",
    "We can do this by showing that $J = \\mathcal{J}^T J \\mathcal{J}$, where $J$ is the block matrix $J = \\begin{bmatrix} 0 & I \\\\ -I & 0  \\end{bmatrix}$, and $\\mathcal{J}$ is the Jacobian of the transformation."
   ]
  },
  {
   "cell_type": "markdown",
   "metadata": {},
   "source": [
    "Computing the Jacobian $\\mathcal{J}$, we have: $\\frac{dQ}{dq} = \\sum_j A_{ij}$, $\\frac{dQ}{dp} = \\frac{dP}{dq} = 0$, $\\frac{dP}{dp} = \\sum_j \\left(A^{-1}\\right)_{ij}$, so:\n",
    "\n",
    "\\begin{equation}\n",
    "    \\mathcal{J} = \\begin{bmatrix} \\sum_j A_{ij} & 0 \\\\ 0 & \\sum_j A^{-1}_{ij} \\end{bmatrix} \\nonumber\n",
    "\\end{equation}\n",
    "Which gives us:\n",
    "\n",
    "\\begin{align}\n",
    "    \\mathcal{J}^T J \\mathcal{J} &= \\begin{bmatrix} \\sum_j A_{ij} & 0 \\\\ 0 & \\sum_j A^{-1}_{ij} \\end{bmatrix} \\begin{bmatrix} 0 & I \\\\ -I & 0  \\end{bmatrix} \\begin{bmatrix} \\sum_j A_{ij} & 0 \\\\ 0 & \\sum_j A^{-1}_{ij} \\end{bmatrix} \\\\\n",
    "    \\mathcal{J}^T J \\mathcal{J} &= \\begin{bmatrix} \\sum_j A_{ij} & 0 \\\\ 0 & \\sum_j A^{-1}_{ij} \\end{bmatrix} \\begin{bmatrix} 0 & \\sum_j A_{ij} \\\\ -\\sum_j A^{-1}_{ij} & 0 \\end{bmatrix} \\\\\n",
    "    \\mathcal{J}^T J \\mathcal{J} &= \\begin{bmatrix} 0 & \\sum_j A_{ij} \\sum_j A^{-1}_{ij} \\\\ -\\sum_j A^{-1}_{ij} \\sum_j A_{ij} & 0 \\end{bmatrix} \\\\\n",
    "    \\mathcal{J}^T J \\mathcal{J} &= \\begin{bmatrix} 0 & I \\\\ -I & 0  \\end{bmatrix} & \\text{$AA^{-1} = A^{-1}A = I$} \\\\\n",
    "    \\mathcal{J}^T J \\mathcal{J} &= J \\nonumber\n",
    "\\end{align}\n",
    "\n",
    "and therefore $Q_i$, $P_i$ are a canonical pair."
   ]
  },
  {
   "cell_type": "markdown",
   "metadata": {},
   "source": [
    "## 2.2.2"
   ]
  },
  {
   "cell_type": "markdown",
   "metadata": {},
   "source": [
    "We now want to show that if $(q, p)$ are a pair of canonical variables, then $y = \\sqrt{2p}\\sin{q}$, $x = \\sqrt{2p}\\cos{q}$ are a pair of canonical variables as well. We will do so in the same way as in $2.2.1$ (showing that $J = \\mathcal{J}^T J \\mathcal{J}$):"
   ]
  },
  {
   "cell_type": "markdown",
   "metadata": {},
   "source": [
    "Computing the Jacobian $\\mathcal{J}$, we have: $\\frac{dy}{dq} = \\sqrt{2p}\\cos{q}$, $\\frac{dy}{dp} = \\frac{\\sin{q}}{\\sqrt{2p}}$, $\\frac{dx}{dq} = -\\sqrt{2p}\\sin{q}$, $\\frac{dx}{dp} = \\frac{\\cos{q}}{\\sqrt{2p}}$, so:\n",
    "\n",
    "\\begin{equation}\n",
    "    \\mathcal{J} = \\begin{bmatrix} \\sqrt{2p}\\cos{q} & \\frac{\\sin{q}}{\\sqrt{2p}} \\\\ -\\sqrt{2p}\\sin{q} & \\frac{\\cos{q}}{\\sqrt{2p}} \\end{bmatrix} \\nonumber\n",
    "\\end{equation}\n",
    "Then we have:\n",
    "\\begin{align}\n",
    "    \\mathcal{J}^T J \\mathcal{J} &= \\begin{bmatrix} \\sqrt{2p}\\cos{q} & -\\sqrt{2p}\\sin{q} \\\\ \\frac{\\sin{q}}{\\sqrt{2p}} & \\frac{\\cos{q}}{\\sqrt{2p}} \\end{bmatrix} \\begin{bmatrix} 0 & I \\\\ -I & 0  \\end{bmatrix} \\begin{bmatrix} \\sqrt{2p}\\cos{q} & \\frac{\\sin{q}}{\\sqrt{2p}} \\\\ -\\sqrt{2p}\\sin{q} & \\frac{\\cos{q}}{\\sqrt{2p}} \\end{bmatrix}  \\\\\n",
    "    \\mathcal{J}^T J \\mathcal{J} &= \\begin{bmatrix} \\sqrt{2p}\\cos{q} & -\\sqrt{2p}\\sin{q} \\\\ \\frac{\\sin{q}}{\\sqrt{2p}} & \\frac{\\cos{q}}{\\sqrt{2p}} \\end{bmatrix} \\begin{bmatrix} -\\sqrt{2p}\\sin{q} & \\frac{\\cos{q}}{\\sqrt{2p}} \\\\ -\\sqrt{2p}\\cos{q} & -\\frac{\\sin{q}}{\\sqrt{2p}} \\end{bmatrix} \\\\\n",
    "    \\mathcal{J}^T J \\mathcal{J} &= \\begin{bmatrix} -2p \\sin{q}\\cos{q} + 2p \\sin{q}\\cos{q} & \\cos^2{q} + \\sin^2{q} \\\\ -\\sin^2{q} - \\cos^2{q} & \\frac{\\sin{q} \\cos{q}}{2p} - \\frac{\\sin{q}\\cos{q}}{2p} \\end{bmatrix} \\\\\n",
    "    \\mathcal{J}^T J \\mathcal{J} &= \\begin{bmatrix} 0 & 1 \\\\ -1 & 0  \\end{bmatrix} & \\text{$\\cos^2{q} + \\sin^2{q} = 1$} \\\\\n",
    "    \\mathcal{J}^T J \\mathcal{J} &= J \\nonumber\n",
    "\\end{align}\n",
    "\n",
    "and therefore $y, x$ are a canonical pair."
   ]
  },
  {
   "cell_type": "markdown",
   "metadata": {},
   "source": [
    "### 2.2.3"
   ]
  },
  {
   "cell_type": "markdown",
   "metadata": {},
   "source": [
    "Re-create the simulation, this time using only $1$st order MMR terms (still no inclination):"
   ]
  },
  {
   "cell_type": "code",
   "execution_count": 12,
   "metadata": {
    "scrolled": true
   },
   "outputs": [
    {
     "data": {
      "text/latex": [
       "$\\displaystyle - \\frac{C_{(3,-2,-1,0,0,0)}^{(0,0,0,0),(0,0)}(\\alpha_{1,2}) G m_{1} m_{2} \\left(\\frac{\\eta_{1} \\sin{\\left(2 \\lambda_{1} - 3 \\lambda_{2} \\right)}}{\\sqrt{\\Lambda_{1,0}}} + \\frac{\\kappa_{1} \\cos{\\left(2 \\lambda_{1} - 3 \\lambda_{2} \\right)}}{\\sqrt{\\Lambda_{1,0}}}\\right)}{a_{2,0}} - \\frac{C_{(3,-2,0,-1,0,0)}^{(0,0,0,0),(0,0)}(\\alpha_{1,2}) G m_{1} m_{2} \\left(\\frac{\\eta_{2} \\sin{\\left(2 \\lambda_{1} - 3 \\lambda_{2} \\right)}}{\\sqrt{\\Lambda_{2,0}}} + \\frac{\\kappa_{2} \\cos{\\left(2 \\lambda_{1} - 3 \\lambda_{2} \\right)}}{\\sqrt{\\Lambda_{2,0}}}\\right)}{a_{2,0}} - \\frac{G^{2} M_{2}^{2} \\mu_{2}^{3}}{2 \\Lambda_{2}^{2}} - \\frac{G^{2} M_{1}^{2} \\mu_{1}^{3}}{2 \\Lambda_{1}^{2}}$"
      ],
      "text/plain": [
       "                                                               ⎛η₁⋅sin(2⋅λ₁ - \n",
       "  C_{(3,-2,-1,0,0,0)}_{1,2})__{(0,0,0,0),(0,0)}(\\alpha⋅G⋅m₁⋅m₂⋅⎜──────────────\n",
       "                                                               ⎜   ___________\n",
       "                                                               ⎝ ╲╱ \\Lambda_{1\n",
       "- ────────────────────────────────────────────────────────────────────────────\n",
       "                                                  a_{2,0}                     \n",
       "                                                                              \n",
       "\n",
       "3⋅λ₂)   κ₁⋅cos(2⋅λ₁ - 3⋅λ₂)⎞                                                  \n",
       "───── + ───────────────────⎟   C_{(3,-2,0,-1,0,0)}_{1,2})__{(0,0,0,0),(0,0)}(\\\n",
       "____       _______________ ⎟                                                  \n",
       ",0}      ╲╱ \\Lambda_{1,0}  ⎠                                                  \n",
       "──────────────────────────── - ───────────────────────────────────────────────\n",
       "                                                                              \n",
       "                                                                              \n",
       "\n",
       "              ⎛η₂⋅sin(2⋅λ₁ - 3⋅λ₂)   κ₂⋅cos(2⋅λ₁ - 3⋅λ₂)⎞                     \n",
       "alpha⋅G⋅m₁⋅m₂⋅⎜─────────────────── + ───────────────────⎟                     \n",
       "              ⎜   _______________       _______________ ⎟    2   2   3    2   \n",
       "              ⎝ ╲╱ \\Lambda_{2,0}      ╲╱ \\Lambda_{2,0}  ⎠   G ⋅M₂ ⋅μ₂    G ⋅M₁\n",
       "───────────────────────────────────────────────────────── - ────────── - ─────\n",
       " a_{2,0}                                                          2           \n",
       "                                                              2⋅Λ₂         2⋅Λ\n",
       "\n",
       "     \n",
       "     \n",
       "2   3\n",
       " ⋅μ₁ \n",
       "─────\n",
       " 2   \n",
       "₁    "
      ]
     },
     "execution_count": 12,
     "metadata": {},
     "output_type": "execute_result"
    }
   ],
   "source": [
    "# time_base = np.median(hd_data.BJD)\n",
    "\n",
    "# make simulation\n",
    "sim = get_sim_from_params(fit_params, inclination = np.pi/2, integrator = 'ias15', time_base = 0)\n",
    "cm.nbody_simulation_utilities.align_simulation(sim)\n",
    "# convert to poincarehamiltonian\n",
    "pvars = cm.Poincare.from_Simulation(sim)\n",
    "pham = cm.PoincareHamiltonian(pvars)\n",
    "pham.add_MMR_terms(3, 1, max_order=1, inclinations=False)\n",
    "pham.H"
   ]
  },
  {
   "cell_type": "markdown",
   "metadata": {},
   "source": [
    "Create canonical transformation from poincare angles matrix:"
   ]
  },
  {
   "cell_type": "code",
   "execution_count": 13,
   "metadata": {},
   "outputs": [
    {
     "data": {
      "text/latex": [
       "$\\displaystyle \\left( \\left[ \\lambda_{1}, \\  \\eta_{1}, \\  \\rho_{1}, \\  \\lambda_{2}, \\  \\eta_{2}, \\  \\rho_{2}, \\  \\Lambda_{1}, \\  \\kappa_{1}, \\  \\sigma_{1}, \\  \\Lambda_{2}, \\  \\kappa_{2}, \\  \\sigma_{2}\\right], \\  \\left[ \\theta_{1}, \\  \\theta_{2}, \\  l, \\  \\psi, \\  \\phi_{1}, \\  \\phi_{2}, \\  p_{1}, \\  p_{2}, \\  L, \\  \\Psi, \\  \\Phi_{1}, \\  \\Phi_{2}\\right]\\right)$"
      ],
      "text/plain": [
       "([λ₁, η₁, ρ₁, λ₂, η₂, ρ₂, Λ₁, κ₁, σ₁, Λ₂, κ₂, σ₂], [θ₁, θ₂, l, ψ, φ₁, φ₂, p₁, \n",
       "p₂, L, Ψ, Φ₁, Φ₂])"
      ]
     },
     "execution_count": 13,
     "metadata": {},
     "output_type": "execute_result"
    }
   ],
   "source": [
    "import sympy as sp\n",
    "# defining stuff:\n",
    "\n",
    "# action variables\n",
    "# Lambda1, Lambda2, Gamma1, Gamma2, Q1, Q2 = sp.symbols('Lambda_1, Lambda_2, Gamma_1, Gamma_2, Q_1, Q_2')\n",
    "# old angle coordinates\n",
    "lambda1, lambda2, pomega1, pomega2, Omega1, Omega2 = sp.symbols('lambda_1, lambda_2, varpi_1, varpi_2, Omega_1, Omega_2')\n",
    "# new angle coordinates\n",
    "theta1, theta2, l, psi, phi1, phi2 = sp.symbols('theta_1, theta_2, l, psi, phi_1, phi_2')\n",
    "p1, p2, L, Psi, Phi1, Phi2 = sp.symbols('p_1, p_2, L, Psi, Phi_1, Phi_2')\n",
    "\n",
    "# converts\n",
    "# lambda_1, lambda_2, pomega_1, pomega_2, Omega_1, Omega_2 to\n",
    "# theta_1, theta_2, l, psi, phi_1, phi_2\n",
    "pmatrix = [[-2, 3, 1, 0, 0, 0], [-2, 3, 0, 1, 0, 0], [-2, 3, 0, 0, 0, 0], \n",
    "           [1, -1, 0, 0, 0, 0], [0, 0, 0, 0, 1, 0], [0, 0, 0, 0, 0, 1]]\n",
    "\n",
    "ct = cm.CanonicalTransformation.from_poincare_angles_matrix(pvars, pmatrix, \n",
    "                                                            new_qp_pairs = [(theta1, p1), (theta2, p2), \n",
    "                                                                            (l, L), (psi, Psi), \n",
    "                                                                            (phi1, Phi1), (phi2, Phi2)])\n",
    "ct.old_qp_vars, ct.new_qp_vars"
   ]
  },
  {
   "cell_type": "markdown",
   "metadata": {},
   "source": [
    "Create new Hamiltonian:"
   ]
  },
  {
   "cell_type": "code",
   "execution_count": 14,
   "metadata": {},
   "outputs": [
    {
     "data": {
      "text/latex": [
       "$\\displaystyle - \\frac{\\sqrt{2} C_{(3,-2,-1,0,0,0)}^{(0,0,0,0),(0,0)}(\\alpha_{1,2}) G m_{1} m_{2} \\sqrt{p_{1}} \\cos{\\left(\\theta_{1} \\right)}}{\\sqrt{\\Lambda_{1,0}} a_{2,0}} - \\frac{\\sqrt{2} C_{(3,-2,0,-1,0,0)}^{(0,0,0,0),(0,0)}(\\alpha_{1,2}) G m_{1} m_{2} \\sqrt{p_{2}} \\cos{\\left(\\theta_{2} \\right)}}{\\sqrt{\\Lambda_{2,0}} a_{2,0}} - \\frac{G^{2} M_{1}^{2} \\mu_{1}^{3}}{2 \\left(- 2 L + \\Psi - 2 p_{1} - 2 p_{2}\\right)^{2}} - \\frac{G^{2} M_{2}^{2} \\mu_{2}^{3}}{2 \\left(3 L - \\Psi + 3 p_{1} + 3 p_{2}\\right)^{2}}$"
      ],
      "text/plain": [
       "                                                                    ____      \n",
       "  √2⋅C_{(3,-2,-1,0,0,0)}_{1,2})__{(0,0,0,0),(0,0)}(\\alpha⋅G⋅m₁⋅m₂⋅╲╱ p₁ ⋅cos(θ\n",
       "- ────────────────────────────────────────────────────────────────────────────\n",
       "                              _______________                                 \n",
       "                            ╲╱ \\Lambda_{1,0} ⋅a_{2,0}                         \n",
       "\n",
       "                                                                       ____   \n",
       "₁)   √2⋅C_{(3,-2,0,-1,0,0)}_{1,2})__{(0,0,0,0),(0,0)}(\\alpha⋅G⋅m₁⋅m₂⋅╲╱ p₂ ⋅co\n",
       "── - ─────────────────────────────────────────────────────────────────────────\n",
       "                                 _______________                              \n",
       "                               ╲╱ \\Lambda_{2,0} ⋅a_{2,0}                      \n",
       "\n",
       "                  2   2   3                    2   2   3        \n",
       "s(θ₂)            G ⋅M₁ ⋅μ₁                    G ⋅M₂ ⋅μ₂         \n",
       "───── - ─────────────────────────── - ──────────────────────────\n",
       "                                  2                            2\n",
       "        2⋅(-2⋅L + Ψ - 2⋅p₁ - 2⋅p₂)    2⋅(3⋅L - Ψ + 3⋅p₁ + 3⋅p₂) "
      ]
     },
     "execution_count": 14,
     "metadata": {},
     "output_type": "execute_result"
    }
   ],
   "source": [
    "new_ham = ct.old_to_new_hamiltonian(pham, do_reduction=True)\n",
    "new_ham.H"
   ]
  },
  {
   "cell_type": "markdown",
   "metadata": {},
   "source": [
    "Now note that $(l, L)$ and $(\\psi, \\Psi)$ are conjugate pairs. In the reduced Hamiltonian above, we can see that $l$ and $\\psi$ are cyclic coordinates. Thus, Hamilton's equations give:\n",
    "\n",
    "\\begin{align}\n",
    "    \\dot L &= \\frac{dL}{dt} = -\\frac{dH}{dl} = 0 \\nonumber \\\\\n",
    "    \\dot \\Psi &= \\frac{d\\Psi}{dt} = -\\frac{dH}{d\\psi} = 0 \\nonumber\n",
    "\\end{align}\n",
    "\n",
    "So $L$ (the total angular momentum) and $\\Psi$ are conserved quantities in the new Hamiltonian."
   ]
  },
  {
   "cell_type": "code",
   "execution_count": 15,
   "metadata": {},
   "outputs": [
    {
     "data": {
      "text/latex": [
       "$\\displaystyle \\left( 0, \\  0\\right)$"
      ],
      "text/plain": [
       "(0, 0)"
      ]
     },
     "execution_count": 15,
     "metadata": {},
     "output_type": "execute_result"
    }
   ],
   "source": [
    "sp.diff(new_ham.H, l), sp.diff(new_ham.H, psi)"
   ]
  },
  {
   "cell_type": "markdown",
   "metadata": {},
   "source": [
    "### 2.2.4"
   ]
  },
  {
   "cell_type": "markdown",
   "metadata": {},
   "source": [
    "Use root-finding method (multivariate Newton's method in this case) to solve for $\\dot\\theta_i = \\dot p_i = 0$. Check the flow and Jacobian of the Hamilotnian given the current values for the qp pairs:"
   ]
  },
  {
   "cell_type": "code",
   "execution_count": 16,
   "metadata": {},
   "outputs": [
    {
     "data": {
      "text/plain": [
       "(array([[-5.55439389e-04, -1.92352891e-04, -1.87959981e-09,\n",
       "         -2.21760762e-09]]),\n",
       " array([[ 6.12768695e-04,  0.00000000e+00, -2.70932554e+01,\n",
       "         -1.78440090e+02],\n",
       "        [ 0.00000000e+00,  3.53966442e-04, -1.78440090e+02,\n",
       "         -1.62294404e+02],\n",
       "        [-1.42400327e-09,  0.00000000e+00, -6.12768695e-04,\n",
       "          0.00000000e+00],\n",
       "        [ 0.00000000e+00, -6.33726306e-10,  0.00000000e+00,\n",
       "         -3.53966442e-04]]))"
      ]
     },
     "execution_count": 16,
     "metadata": {},
     "output_type": "execute_result"
    }
   ],
   "source": [
    "vals = new_ham.values\n",
    "new_ham.flow_func(*vals).T, new_ham.jacobian_func(*vals)  # transpose flow so it's a row vector"
   ]
  },
  {
   "cell_type": "markdown",
   "metadata": {},
   "source": [
    "Coordinate transform $(p, \\theta) \\to (x, y)$ so Newton's method works:"
   ]
  },
  {
   "cell_type": "code",
   "execution_count": 17,
   "metadata": {},
   "outputs": [],
   "source": [
    "ctxy = cm.CanonicalTransformation.polar_to_cartesian(new_ham.full_qp_vars,[0,1])\n",
    "hamxy = ctxy.old_to_new_hamiltonian(new_ham)"
   ]
  },
  {
   "cell_type": "markdown",
   "metadata": {},
   "source": [
    "Solve for the root using Newton's method:"
   ]
  },
  {
   "cell_type": "code",
   "execution_count": 18,
   "metadata": {},
   "outputs": [],
   "source": [
    "from scipy.linalg import solve as lin_solve \n",
    "\n",
    "y = hamxy.values\n",
    "fun = lambda x: hamxy.flow_func(*x).reshape(-1)\n",
    "dfun = lambda x: hamxy.jacobian_func(*x)\n",
    "\n",
    "# newton's method\n",
    "def newton_solve(fun,Dfun,guess,max_iter=100,rtol=1e-6,atol=1e-12):\n",
    "    y = guess.copy()\n",
    "    for itr in range(max_iter):\n",
    "        f = fun(y)\n",
    "        Df = Dfun(y)\n",
    "        dy = -1 * lin_solve(Df,f)\n",
    "        y+=dy\n",
    "        if np.alltrue( np.abs(dy) < rtol * np.abs(y) + atol ):\n",
    "            break\n",
    "    else:\n",
    "        print(\"did not converge\")\n",
    "    return y\n",
    "\n",
    "# solve \n",
    "solution = newton_solve(fun, dfun, y)"
   ]
  },
  {
   "cell_type": "markdown",
   "metadata": {},
   "source": [
    "Compare Newton's method solution to the original values to check that it does result in $\\dot x_i = \\dot y_i \\approx 0$ as required:"
   ]
  },
  {
   "cell_type": "code",
   "execution_count": 19,
   "metadata": {},
   "outputs": [
    {
     "data": {
      "text/plain": [
       "(array([ 1.44287208e-06, -9.84168503e-07, -1.27315052e-07,  2.19487059e-07]),\n",
       " array([-1.63053842e-20, -2.22346149e-21,  2.42188291e-38,  1.26476108e-37]))"
      ]
     },
     "execution_count": 19,
     "metadata": {},
     "output_type": "execute_result"
    }
   ],
   "source": [
    "fun(y), fun(solution)  # solution is pretty close to 0"
   ]
  },
  {
   "cell_type": "markdown",
   "metadata": {},
   "source": [
    "Put these values back into the Hamiltonian, and then convert from $(x, y)$ back to $(p, \\theta)$:"
   ]
  },
  {
   "cell_type": "code",
   "execution_count": 20,
   "metadata": {},
   "outputs": [],
   "source": [
    "hamxy.state.values = solution  # put these values back into the Hamiltonian\n",
    "# convert all the values of Hamiltonian in the xy coordinates back to theta p coordinates\n",
    "theta_p_full_values = ctxy.new_to_old_array(hamxy.full_values)\n",
    "# then put the theta and p values back into the theta p hamiltonian\n",
    "theta_p_values = np.concatenate((theta_p_full_values[0:2], theta_p_full_values[6:8]))\n",
    "new_ham.state.values = theta_p_values"
   ]
  },
  {
   "cell_type": "markdown",
   "metadata": {},
   "source": [
    "And showing that $\\dot\\theta_i = \\dot p_i \\approx 0$ in the $(\\theta, p)$ coordinates as well by comparing the flow function evaluated at the new values compared to the old ones:"
   ]
  },
  {
   "cell_type": "code",
   "execution_count": 21,
   "metadata": {},
   "outputs": [
    {
     "data": {
      "text/plain": [
       "(array([[-5.55439389e-04, -1.92352891e-04, -1.87959981e-09,\n",
       "         -2.21760762e-09]]),\n",
       " array([[ 1.46475714e-16,  1.53523028e-16,  7.29310702e-41,\n",
       "         -2.32557395e-25]]))"
      ]
     },
     "execution_count": 21,
     "metadata": {},
     "output_type": "execute_result"
    }
   ],
   "source": [
    "new_ham.flow_func(*vals).T, new_ham.flow_func(*new_ham.values).T  # new values much closer to 0"
   ]
  },
  {
   "cell_type": "markdown",
   "metadata": {},
   "source": [
    "So the values of $p_1, p_2, \\theta_1, \\theta_2$ are thus: "
   ]
  },
  {
   "cell_type": "code",
   "execution_count": 22,
   "metadata": {},
   "outputs": [
    {
     "data": {
      "text/latex": [
       "$\\displaystyle \\left( \\left[ 1.7987614557527 \\cdot 10^{-32}, \\  3.14159265358979, \\  4.53407700939835 \\cdot 10^{-6}, \\  2.1235827099579 \\cdot 10^{-6}\\right], \\  \\left[ \\theta_{1}, \\  \\theta_{2}, \\  p_{1}, \\  p_{2}\\right]\\right)$"
      ],
      "text/plain": [
       "([1.798761455752695e-32, 3.141592653589793, 4.534077009398353e-06, 2.123582709\n",
       "9578995e-06], [θ₁, θ₂, p₁, p₂])"
      ]
     },
     "execution_count": 22,
     "metadata": {},
     "output_type": "execute_result"
    }
   ],
   "source": [
    "new_ham.values, new_ham.qp_vars"
   ]
  },
  {
   "cell_type": "markdown",
   "metadata": {},
   "source": [
    "### 2.2.5"
   ]
  },
  {
   "cell_type": "markdown",
   "metadata": {},
   "source": [
    "Now turn the Hamiltonian we found at the equilibrium value into a `rebound` simulation. First convert from $(p, \\theta)$ back to the default $\\eta, \\kappa$ variables used by `PoincareHamiltonian` to convert to a `rebound` simulation:"
   ]
  },
  {
   "cell_type": "code",
   "execution_count": 23,
   "metadata": {},
   "outputs": [],
   "source": [
    "# convert from p, theta back to the default poincare variables\n",
    "pvars.values = ct.new_to_old_array(new_ham.full_values)\n",
    "# convert to a rebound simulation\n",
    "sim_eq = cm.Poincare.to_Simulation(pvars)\n",
    "inner = sim_eq.particles[1]\n",
    "outer = sim_eq.particles[2]"
   ]
  },
  {
   "cell_type": "markdown",
   "metadata": {},
   "source": [
    "Now, compute the time evolution of $\\theta_i(t)$ in the `rebound` simulation:"
   ]
  },
  {
   "cell_type": "code",
   "execution_count": null,
   "metadata": {},
   "outputs": [],
   "source": [
    "t_end = 3e3\n",
    "ntimes = 5000\n",
    "\n",
    "# create times array and empty array to track the resonance angles theta\n",
    "times_eq = np.linspace(sim_eq.t, sim_eq.t + t_end, ntimes) * inner.P  # 3e3 times the orbital period of the inner planet\n",
    "theta1_eq, theta2_eq = np.zeros(ntimes), np.zeros(ntimes)\n",
    "\n",
    "# integrate over times and record theta_1, theta_2\n",
    "for i,t in enumerate(times_eq):\n",
    "    sim_eq.integrate(t)  # advance simulation\n",
    "    # record theta1, theta2\n",
    "    theta1_eq[i] = np.mod(3 * outer.l - 2 * inner.l - inner.pomega, 2 * np.pi)\n",
    "    theta2_eq[i] = np.mod(3 * outer.l - 2 * inner.l - outer.pomega, 2 * np.pi)"
   ]
  },
  {
   "cell_type": "markdown",
   "metadata": {},
   "source": [
    "And plot our results:"
   ]
  },
  {
   "cell_type": "code",
   "execution_count": null,
   "metadata": {},
   "outputs": [],
   "source": [
    "plt.figure(figsize = (14, 7))\n",
    "plt.plot(times_eq, theta1_eq, 'r.', label = r'$\\theta_1$')\n",
    "plt.plot(times_eq, theta2_eq, 'g.', label = r'$\\theta_2$')\n",
    "plt.xlabel(r'Time $(P_1)$'), plt.ylabel(r'$\\theta$')\n",
    "plt.legend()\n",
    "plt.show()"
   ]
  },
  {
   "cell_type": "markdown",
   "metadata": {},
   "source": [
    "The graph visually appears quite close to the actual equilibrium value (taking $\\theta \\mod 2 \\pi$) for $\\theta_i$), as expected."
   ]
  },
  {
   "cell_type": "markdown",
   "metadata": {},
   "source": [
    "## 3 Dissipative dynamics"
   ]
  },
  {
   "cell_type": "markdown",
   "metadata": {},
   "source": [
    "## 3.1"
   ]
  },
  {
   "cell_type": "markdown",
   "metadata": {},
   "source": [
    "Deriving the equations for $\\frac{d\\Lambda_i}{dt}$, $\\frac{d\\eta_i}{dt}$, and $\\frac{d\\kappa_i}{dt}$ under the effects of dissipative forces given by:\n",
    "\n",
    "\\begin{align}\n",
    "    \\frac{d\\ln{e_i}}{dt} = -\\frac{1}{\\tau_{e,i}} \\nonumber \\\\\n",
    "    \\frac{d\\ln{a_i}}{dt} = -\\frac{1}{\\tau_{a, i}} \\nonumber\n",
    "\\end{align}\n",
    "\n",
    "and the $\\tau_{e, i}$ expression can be rearranged to (using the chain rule)\n",
    "\n",
    "\\begin{align}\n",
    "    \\frac{1}{e_i} \\frac{d e_i}{dt} &= -\\frac{1}{\\tau_{e,i}} \\nonumber \\\\\n",
    "    \\frac{d e_i}{dt} &= -\\frac{e_i}{\\tau_{e, i}} \\nonumber\n",
    "\\end{align}\n",
    "\n",
    "and similarly with $\\tau_{a, i}$."
   ]
  },
  {
   "cell_type": "markdown",
   "metadata": {},
   "source": [
    "Now start with the equation for $\\Lambda$:\n",
    "\\begin{equation}\n",
    "    \\Lambda_i = \\mu_i \\sqrt{G\\left(M_\\star + m_i\\right) a_i} \\nonumber\n",
    "\\end{equation}\n",
    "\n",
    "Differentiate it to get:\n",
    "\n",
    "\\begin{align}\n",
    "    \\frac{d}{dt}\\Lambda_i &= \\frac{\\mu_i \\sqrt{G\\left(M_\\star + m_i\\right)}}{2\\sqrt{a_i}} \\frac{da_i}{dt} & \\text{chain rule since $a_i = a_i(t)$} \\nonumber \\\\\n",
    "    \\frac{d}{dt}\\Lambda_i &= \\frac{\\mu_i \\sqrt{G\\left(M_\\star + m_i\\right)}}{2\\sqrt{a_i}}\\,\\frac{-a_i}{\\tau_{a, i}} \\nonumber & \\text{since  $\\frac{da_i}{dt} = -\\frac{a_i}{\\tau_{a, i}}$} \\\\\n",
    "    \\frac{d}{dt}\\Lambda_i &= -\\frac{\\mu_i \\sqrt{G\\left(M_\\star + m_i\\right) a_i}}{2\\tau_{a,i}} \\\\\n",
    "    \\frac{d}{dt}\\Lambda_i &= -\\frac{\\Lambda_i}{2 \\tau_{a, i}} \\nonumber\n",
    "\\end{align}\n",
    "So $\\dot\\Lambda_i = -\\frac{\\Lambda_i}{2 \\tau_{a, i}}$."
   ]
  },
  {
   "cell_type": "markdown",
   "metadata": {},
   "source": [
    "Now since $\\eta = \\sqrt{2 \\Gamma} \\sin{\\gamma}$ and $\\kappa = \\sqrt{2 \\Gamma}\\cos{\\gamma}$, we have, substituting $\\Gamma$ into $\\eta$:\n",
    "\n",
    "\\begin{equation}\n",
    "    \\eta = \\sqrt{2 \\mu_i \\sqrt{G\\left(M_\\star + m_i\\right)a_i} \\left(1 - \\sqrt{1 - e_i^2}\\right)}\\sin{\\gamma}\n",
    "\\end{equation}\n",
    "\n",
    "Then using a Taylor approximation for $\\sqrt{1 - e_i^2} \\approx 1 - \\frac{e_i^2}{2} + \\mathcal{O\\left(e_i\\right)}^4$:\n",
    "\\begin{align}\n",
    "    \\eta &= \\sqrt{2 \\mu_i \\sqrt{G\\left(M_\\star + m_i\\right)a_i} \\left(\\frac{e_i^2}{2}\\right)}\\sin{\\gamma} \\nonumber \\\\\n",
    "    \\eta &= \\sqrt{\\Lambda_i}\\ \\ e_i \\sin{\\gamma} & \\text{substituting $\\Lambda_i$ from earlier} \\nonumber\n",
    "\\end{align}"
   ]
  },
  {
   "cell_type": "markdown",
   "metadata": {},
   "source": [
    "We then differentiate, using the chain and product rule to get:\n",
    "\n",
    "\\begin{align}\n",
    "    \\frac{d\\eta}{dt} &= \\sqrt{\\Lambda_i}\\sin\\gamma \\frac{de_i}{dt} + \\frac{e_i}{2\\sqrt{\\Lambda_i}}\\, \\cdot \\frac{d\\Lambda_i}{dt} \\sin\\gamma \\nonumber & \\text{since $\\dot \\gamma = 0$, the $\\frac{d\\gamma}{dt}$ term disappears}  \\\\\n",
    "    \\frac{d\\eta}{dt} &= \\sqrt{\\Lambda_i}\\sin\\gamma \\cdot -\\frac{e_i}{\\tau_{e, i}} + \\frac{e_i}{2\\sqrt{\\Lambda_i}}\\, \\cdot \\frac{-\\Lambda_i}{2\\tau_{a, i}} \\sin\\gamma \\nonumber  & \\text{using $\\frac{de_i}{dt} = -\\frac{e_i}{\\tau_{e, i}}$ and $\\frac{d\\Lambda_i}{dt} = -\\frac{\\Lambda_i}{2\\tau_{a, i}}$} \\\\\n",
    "    \\frac{d\\eta}{dt} &= -\\sqrt{\\Lambda_i}\\ \\ e_i \\sin\\gamma \\left(\\frac{1}{\\tau_{e, i}} + \\frac{1}{4 \\tau_{a, i}}\\right) \\nonumber \\\\\n",
    "    \\frac{d\\eta}{dt} &= -\\eta \\left(\\frac{1}{\\tau_{e, i}} + \\frac{1}{4 \\tau_{a, i}}\\right) \\nonumber\n",
    "\\end{align}\n",
    "\n",
    "So $\\dot\\eta = -\\eta \\left(\\frac{1}{\\tau_{e, i}} + \\frac{1}{4 \\tau_{a, i}}\\right)$.\n",
    "\n",
    "Finally, since $\\gamma$ is a free parameter in the above calculation ($\\dot \\gamma = 0$) we use the same method as for $\\eta$ to obtain an expression for $\\frac{d\\kappa}{dt}$ as $\\dot\\kappa = -\\kappa \\left(\\frac{1}{\\tau_{e, i}} + \\frac{1}{4 \\tau_{a, i}}\\right)$, as required."
   ]
  },
  {
   "cell_type": "markdown",
   "metadata": {},
   "source": [
    "## 3.2"
   ]
  },
  {
   "cell_type": "markdown",
   "metadata": {},
   "source": [
    "Create a new Keplerian Hamiltonian using the equilibrium values from before, adding the interaction terms to first order:"
   ]
  },
  {
   "cell_type": "code",
   "execution_count": null,
   "metadata": {},
   "outputs": [],
   "source": [
    "pham_eq = cm.PoincareHamiltonian(pvars)\n",
    "pham_eq.add_MMR_terms(3, 1, max_order=1, inclinations=False)"
   ]
  },
  {
   "cell_type": "markdown",
   "metadata": {},
   "source": [
    "Define the equations for $\\frac{d\\Lambda_i}{dt}$, $\\frac{d\\eta_i}{dt}$, and $\\frac{d\\kappa_i}{dt}$ as determined in section 3.1:"
   ]
  },
  {
   "cell_type": "code",
   "execution_count": null,
   "metadata": {},
   "outputs": [],
   "source": [
    "# symbols\n",
    "\n",
    "tau_a_1, tau_e_1 = sp.symbols('tau_a_1, tau_e_1')\n",
    "tau_a_2, tau_e_2 = sp.symbols('tau_a_2, tau_e_2')\n",
    "Lambda1 = pham_eq.qp_vars[6]\n",
    "Lambda2 = pham_eq.qp_vars[9]\n",
    "eta_1 = pham_eq.qp_vars[1]\n",
    "eta_2 = pham_eq.qp_vars[4]\n",
    "kappa_1 = pham_eq.qp_vars[7]\n",
    "kappa_2 = pham_eq.qp_vars[10]\n",
    "t = sp.symbols('t')\n",
    "\n",
    "# dLambda, deta, dkappa equations:\n",
    "\n",
    "dLambda_1 = -Lambda1/(2 * tau_a_1)\n",
    "dLambda_2 = -Lambda2/(2 * tau_a_2)\n",
    "\n",
    "deta_1 = -eta_1 * (1/(4 * tau_a_1) + 1/tau_e_1)\n",
    "deta_2 = -eta_2 * (1/(4 * tau_a_2) + 1/tau_e_2)\n",
    "\n",
    "dkappa_1 = -kappa_1 * (1/(4 * tau_a_1) + 1/tau_e_1)\n",
    "dkappa_2 = -kappa_2 * (1/(4 * tau_a_2) + 1/tau_e_2)\n",
    "\n",
    "dLambda_1, deta_1, dkappa_1"
   ]
  },
  {
   "cell_type": "markdown",
   "metadata": {},
   "source": [
    "Create a matrix for the dissipative terms:"
   ]
  },
  {
   "cell_type": "code",
   "execution_count": null,
   "metadata": {},
   "outputs": [],
   "source": [
    "dissipative = sp.zeros(len(pham_eq.values), 1)\n",
    "\n",
    "# add lambda, eta, kappa dissipative terms\n",
    "dissipative[6] = dLambda_1\n",
    "dissipative[9] = dLambda_2\n",
    "\n",
    "dissipative[1] = deta_1\n",
    "dissipative[4] = deta_2\n",
    "\n",
    "dissipative[7] = dkappa_1\n",
    "dissipative[10] = dkappa_2"
   ]
  },
  {
   "cell_type": "markdown",
   "metadata": {},
   "source": [
    "Turn the new Hamiltonian plus the dissipative terms into a function for the equations of motion including dissipative terms:"
   ]
  },
  {
   "cell_type": "code",
   "execution_count": null,
   "metadata": {},
   "outputs": [],
   "source": [
    "ham_eom = sp.lambdify([t, pham_eq.qp_vars, tau_a_1, tau_a_2, tau_e_1, tau_e_2], dissipative + pham_eq.N_flow)"
   ]
  },
  {
   "cell_type": "markdown",
   "metadata": {},
   "source": [
    "Define the $\\tau_{\\alpha_i}$ and $\\tau_{e_i}$ values required for the equations of motion:"
   ]
  },
  {
   "cell_type": "code",
   "execution_count": null,
   "metadata": {},
   "outputs": [],
   "source": [
    "def get_tau_alphas(tau_alpha, m_inner, m_outer, period_ratio):\n",
    "    # use Kepler's third law to compute the ratio of semi-major axes in resonance from the period ratio in resonance\n",
    "    sma_ratio = period_ratio ** (2/3)  # ratio of outer planet's semi-major axis to inner\n",
    "    # define matrix A\n",
    "    A = np.array([[-1, 1],\n",
    "                 [m_outer, m_inner * sma_ratio]])\n",
    "    # compute gamma_1 and gamma_2\n",
    "    gammas = np.matmul(np.linalg.inv(A), np.array([-1/tau_alpha, 0]))\n",
    "    # gamma = 1/tau\n",
    "    taus = 1/gammas\n",
    "    \n",
    "    return tuple(taus)  # returns (tau_alpha_outer, tau_alpha_inner) as a tuple\n",
    "\n",
    "tau_e_factor = 3\n",
    "K_test = 10\n",
    "resonant_period_ratio = 3/2\n",
    "\n",
    "# use tau_e values of timescale/3\n",
    "\n",
    "tau_e_1_val, tau_e_2_val = -times_eq[-1]/tau_e_factor, -times_eq[-1]/tau_e_factor\n",
    "tau_e_val = 1 / (1 / tau_e_1_val + 1 / tau_e_2_val)\n",
    "\n",
    "tau_a_val = tau_e_val * K_test  # use k value\n",
    "\n",
    "# compute tau_a values\n",
    "tau_a_2_val, tau_a_1_val = get_tau_alphas(tau_alpha = tau_a_val, m_inner=inner.m, m_outer = outer.m, period_ratio = resonant_period_ratio)\n",
    "tau_a_1_val, tau_a_2_val, tau_e_1_val, tau_e_2_val"
   ]
  },
  {
   "cell_type": "markdown",
   "metadata": {},
   "source": [
    "Use `scipy.integrate.solve_ivp()` with the `DOP853` method to numerically integrate the equations of motion:"
   ]
  },
  {
   "cell_type": "code",
   "execution_count": null,
   "metadata": {},
   "outputs": [],
   "source": [
    "from scipy.integrate import solve_ivp\n",
    "\n",
    "y0 = pham_eq.values\n",
    "# set to negative since reboundx has them as -tau timescales while our eom has them as positive\n",
    "params = (-tau_a_1_val, -tau_a_2_val, -tau_e_1_val, -tau_e_2_val)  # these are the tau_a and tau_e_params as a tuple\n",
    "\n",
    "# solving the ivp\n",
    "sols = solve_ivp(lambda t,x: ham_eom(t,x,*params).reshape(-1), [times_eq[0], times_eq[-1]], y0 = y0, dense_output=True, method='DOP853')"
   ]
  },
  {
   "cell_type": "code",
   "execution_count": null,
   "metadata": {},
   "outputs": [],
   "source": [
    "sols.message, sols.y.shape"
   ]
  },
  {
   "cell_type": "markdown",
   "metadata": {},
   "source": [
    "Create a simulation using `REBOUND` and `REBOUNDx` (using the earlier `sim_eq` simulation)"
   ]
  },
  {
   "cell_type": "code",
   "execution_count": null,
   "metadata": {},
   "outputs": [],
   "source": [
    "sim_eq = cm.Poincare.to_Simulation(pvars)\n",
    "pvars2 = pvars.copy()  # copy for later\n",
    "\n",
    "inner = sim_eq.particles[1]\n",
    "outer = sim_eq.particles[2]\n",
    "# reboundx\n",
    "rebx = reboundx.Extras(sim_eq)\n",
    "rebx.add_force(rebx.load_force('modify_orbits_forces'))\n",
    "rebx.add_operator(rebx.load_operator('modify_orbits_direct'))\n",
    "\n",
    "inner.params['tau_e'] = tau_e_1_val  # eccentricity damping, these stay constant\n",
    "outer.params['tau_e'] = tau_e_2_val\n",
    "\n",
    "inner.params['tau_a'], outer.params['tau_a'] = tau_a_1_val, tau_a_2_val"
   ]
  },
  {
   "cell_type": "markdown",
   "metadata": {},
   "source": [
    " Now compare `sim_eq` to the results obtained by numerically integrating over the equations of motion:"
   ]
  },
  {
   "cell_type": "code",
   "execution_count": null,
   "metadata": {},
   "outputs": [],
   "source": [
    "e_inner_eom = np.zeros(len(sols.y.T))\n",
    "e_outer_eom = np.zeros(len(sols.y.T))\n",
    "e_inner_rb, e_outer_rb = np.zeros(len(sols.y.T)), np.zeros(len(sols.y.T))\n",
    "\n",
    "p_inner_eom, p_outer_eom = np.zeros(len(sols.y.T)), np.zeros(len(sols.y.T))\n",
    "p_inner_rb, p_outer_rb = np.zeros(len(sols.y.T)), np.zeros(len(sols.y.T))\n",
    "\n",
    "for i, val in enumerate(sols.y.T):\n",
    "    pvars.values = val\n",
    "    e_inner_eom[i] = pvars.particles[1].e\n",
    "    e_outer_eom[i] = pvars.particles[2].e\n",
    "    \n",
    "    p_inner_eom[i] = pvars.particles[1].P\n",
    "    p_outer_eom[i] = pvars.particles[2].P\n",
    "    \n",
    "from tqdm import tqdm    \n",
    "\n",
    "for i, t in tqdm(enumerate(sols.t)):\n",
    "    sim_eq.integrate(t)\n",
    "    e_inner_rb[i] = inner.e\n",
    "    e_outer_rb[i] = outer.e\n",
    "    p_inner_rb[i] = inner.P\n",
    "    p_outer_rb[i] = outer.P"
   ]
  },
  {
   "cell_type": "markdown",
   "metadata": {},
   "source": [
    "And plot:"
   ]
  },
  {
   "cell_type": "code",
   "execution_count": null,
   "metadata": {},
   "outputs": [],
   "source": [
    "plt.figure(figsize = (14, 10))\n",
    "plt.plot(sols.t, e_inner_rb, label = 'inner rebound')\n",
    "plt.plot(sols.t, e_inner_eom, label = 'inner eom')\n",
    "plt.plot(sols.t, e_outer_rb, label = 'outer rebound')\n",
    "plt.plot(sols.t, e_outer_eom, label = 'outer eom')\n",
    "plt.legend()\n"
   ]
  },
  {
   "cell_type": "code",
   "execution_count": null,
   "metadata": {},
   "outputs": [],
   "source": [
    "plt.figure(figsize = (14, 10))\n",
    "plt.plot(sols.t, p_outer_rb/p_inner_rb, label = 'rebound')\n",
    "plt.plot(sols.t, p_outer_eom/p_inner_eom, label = 'eom')\n",
    "plt.legend()"
   ]
  },
  {
   "cell_type": "markdown",
   "metadata": {},
   "source": [
    "## 3.3 "
   ]
  },
  {
   "cell_type": "markdown",
   "metadata": {},
   "source": [
    "Add dissipative dynamics to the Hamiltonian from section $2.2$ (using $(p, \\theta)$ and have $L$, $\\Psi$ as explicit parameters in the flow:"
   ]
  },
  {
   "cell_type": "code",
   "execution_count": null,
   "metadata": {},
   "outputs": [],
   "source": [
    "# get dynamics variables from new_ham (the hamiltonian from section 2.2):\n",
    "dyvars = new_ham.qp_vars  # qp variables\n",
    "# add L and Psi to the qp variables since we want those too\n",
    "L = new_ham.full_qp_vars[-4]\n",
    "Psi = new_ham.full_qp_vars[-3]\n",
    "# add L and Psi to the qp variables\n",
    "dyvars += [L,Psi]\n",
    "\n",
    "# make a new flow matrix that's 1x6 and has l and Psi added to dyvars \n",
    "newflow = sp.Matrix(np.zeros(len(dyvars)))\n",
    "# L and Psi are 0 since they are conserved\n",
    "for i,val in enumerate(new_ham.N_flow):\n",
    "    newflow[i] = val\n",
    "\n",
    "newflow"
   ]
  },
  {
   "cell_type": "markdown",
   "metadata": {},
   "source": [
    "Reinitialize the `rebound` simulation to get the `pvars` from:"
   ]
  },
  {
   "cell_type": "code",
   "execution_count": null,
   "metadata": {},
   "outputs": [],
   "source": [
    "def get_simple_sim(masses, integrator = 'ias15', period_ratio = 3/2, epsilon=0.01):\n",
    "    \"\"\"\n",
    "    gets simple sim (for eccentricity track stuff)\n",
    "    param masses: array of planet masses, normalized to fraction of the star's mass\n",
    "    param integrator: integrator\n",
    "    param epsilon: amount by which the resonant period ratio should be offset from the equilibrium in the simulation\n",
    "    \"\"\"\n",
    "    sim = rb.Simulation()\n",
    "    sim.integrator = integrator\n",
    "    # central star\n",
    "    sim.add(m = 1)\n",
    "    \n",
    "    sim.add(m = masses[0], P = 1)\n",
    "    sim.add(m = masses[1], P = period_ratio * (1 + epsilon))\n",
    "\n",
    "    sim.move_to_com()\n",
    "    if integrator == 'whfast':\n",
    "        sim.dt = 1/50 * 1  # dy default use 1/50th of the inner planet's orbital period for the timestep if using whfast\n",
    "    return sim"
   ]
  },
  {
   "cell_type": "code",
   "execution_count": null,
   "metadata": {},
   "outputs": [],
   "source": [
    "# # best-fit params\n",
    "# best_fit_sim = get_sim_from_params(fit_params, inclination = np.pi/2, integrator = 'ias15', time_base = 0)\n",
    "# cm.nbody_simulation_utilities.align_simulation(sim)\n",
    "# # inner, outer planet masses\n",
    "# m1 = best_fit_sim.particles[1].m/best_fit_sim.particles[0].m  # normalized to fraction of the star's mass\n",
    "# m2 = best_fit_sim.particles[2].m/best_fit_sim.particles[0].m\n",
    "# # simple sim masses\n",
    "# sim = get_simple_sim(masses = [m1, m2], integrator = 'ias15', period_ratio = resonant_period_ratio, epsilon = 0.01)\n",
    "\n",
    "# # convert to poincarehamiltonian\n",
    "\n",
    "# use the same pvars as before\n",
    "sim = cm.Poincare.to_Simulation(pvars2)\n",
    "# masses\n",
    "m1 = sim.particles[1].m/sim.particles[0].m\n",
    "m2 = sim.particles[2].m/sim.particles[0].m\n",
    "# pvars\n",
    "pvars = cm.Poincare.from_Simulation(sim)"
   ]
  },
  {
   "cell_type": "markdown",
   "metadata": {},
   "source": [
    "To find the dissipative term in the flow we transform from $\\Gamma$, $\\eta$, $\\kappa$ back to the 2.25 $p, \\theta$ Hamiltonian and compute the Jacobian of the coordinate transform:"
   ]
  },
  {
   "cell_type": "code",
   "execution_count": null,
   "metadata": {},
   "outputs": [],
   "source": [
    "ct_jac = sp.Matrix([[sp.diff(ct.new_to_old(dyvar), var) for var in pham_eq.qp_vars] for dyvar in dyvars])\n",
    "ct_jac"
   ]
  },
  {
   "cell_type": "markdown",
   "metadata": {},
   "source": [
    "Then we transform the dissipative term computed in 2.2.5 to $p, \\theta$ coordinates using the Jacobian, and add the flow term (with $L$, $\\Psi$ as explicit variables):"
   ]
  },
  {
   "cell_type": "code",
   "execution_count": null,
   "metadata": {},
   "outputs": [],
   "source": [
    "f_prime = sp.simplify(sp.Matrix([ct.old_to_new(val) for val in ct_jac @ dissipative])) + newflow\n",
    "f_prime"
   ]
  },
  {
   "cell_type": "markdown",
   "metadata": {},
   "source": [
    "Now we solve the equations of motion using `scipy.integrate.solve_ivp()` for the flow:"
   ]
  },
  {
   "cell_type": "code",
   "execution_count": null,
   "metadata": {},
   "outputs": [],
   "source": [
    "tau_e_factor = 3\n",
    "K_test = 10  # use some K value\n",
    "resonant_period_ratio = 3/2\n",
    "\n",
    "# use tau_e values of timescale/3\n",
    "\n",
    "tau_e_1_val, tau_e_2_val = -times_eq[-1]/tau_e_factor, -times_eq[-1]/tau_e_factor\n",
    "tau_e_val = 1 / (1 / tau_e_1_val + 1 / tau_e_2_val)\n",
    "tau_a_val = tau_e_val * K_test\n",
    "\n",
    "# compute tau_a values\n",
    "tau_a_2_val, tau_a_1_val = get_tau_alphas(tau_alpha = tau_a_val, m_inner = m1, m_outer = m2, period_ratio = resonant_period_ratio)\n",
    "\n",
    "# tau_a_1 > 0, other 3 timescales < 0\n",
    "tau_a_1_val, tau_a_2_val, tau_e_1_val, tau_e_2_val"
   ]
  },
  {
   "cell_type": "code",
   "execution_count": null,
   "metadata": {},
   "outputs": [],
   "source": [
    "# lambdify f prime to solve the hamiltonian eom\n",
    "t = sp.symbols('t')\n",
    "ham_eom_ptheta = sp.lambdify([t, dyvars, tau_a_1, tau_a_2, tau_e_1, tau_e_2], f_prime)\n",
    "\n",
    "# starting conditions for the ivp y0 and timescales tau_a and tau_e\n",
    "y0 = [new_ham.full_qp[v] for v in dyvars]\n",
    "# y0[0] += 0.5  # move it slightly away from equilibrium\n",
    "\n",
    "# set to negative since reboundx has them as -tau timescale wihle our equations of motion havepositive tau\n",
    "params = (-tau_a_1_val, -tau_a_2_val, -tau_e_1_val, -tau_e_2_val)  # these are the tau_a and tau_e_params as a tuple\n",
    "\n",
    "# solving the ivp\n",
    "sols = solve_ivp(lambda t,x: ham_eom_ptheta(t,x,*params).reshape(-1), [times_eq[0], times_eq[-1]], y0 = y0, dense_output=True, method='DOP853',atol=1e-13)"
   ]
  },
  {
   "cell_type": "code",
   "execution_count": null,
   "metadata": {},
   "outputs": [],
   "source": [
    "sols.message, sols.y.shape"
   ]
  },
  {
   "cell_type": "markdown",
   "metadata": {},
   "source": [
    "Grab values of $e$, $P$ from the `pvars` by solving the Hamiltonian, and compare to `rebound` simulation:"
   ]
  },
  {
   "cell_type": "code",
   "execution_count": null,
   "metadata": {},
   "outputs": [],
   "source": [
    "e_inner_arr = np.zeros(len(sols.y.T))\n",
    "e_outer_arr = np.zeros(len(sols.y.T))\n",
    "\n",
    "p_inner_arr = np.zeros(len(sols.y.T))\n",
    "p_outer_arr = np.zeros(len(sols.y.T))\n",
    "\n",
    "e_inner_rb, e_outer_rb = np.zeros(len(sols.t)), np.zeros(len(sols.t))\n",
    "p_inner_rb, p_outer_rb = np.zeros(len(sols.t)), np.zeros(len(sols.t))\n",
    "\n",
    "# indices of the dynamical variables\n",
    "dyvar_indices = np.array([0, 1, 6, 7, 8, 9])\n",
    "values = np.array(new_ham.full_values)\n",
    "\n",
    "for i, val in enumerate(sols.y.T):\n",
    "    values[dyvar_indices] = val\n",
    "    pvars.values = ct.new_to_old_array(values)\n",
    "    # pvars.values = ct.new_to_old_array(val)\n",
    "    e_inner_arr[i] = pvars.particles[1].e\n",
    "    e_outer_arr[i] = pvars.particles[2].e\n",
    "    \n",
    "    p_inner_arr[i] = pvars.particles[1].P\n",
    "    p_outer_arr[i] = pvars.particles[2].P\n",
    "\n",
    "    \n",
    "# add reboundx to the simulation    \n",
    "rebx = reboundx.Extras(sim)\n",
    "rebx.add_force(rebx.load_force('modify_orbits_forces'))\n",
    "rebx.add_operator(rebx.load_operator('modify_orbits_direct'))\n",
    "\n",
    "inner = sim.particles[1]\n",
    "outer = sim.particles[2]\n",
    "\n",
    "inner.params['tau_e'] = tau_e_1_val  # eccentricity damping, these stay constant\n",
    "outer.params['tau_e'] = tau_e_2_val\n",
    "\n",
    "# since the tau_a_values computed earlier were not negative, make them negative here\n",
    "inner.params['tau_a'], outer.params['tau_a'] = tau_a_1_val, tau_a_2_val\n",
    "    \n",
    "for i, t in tqdm(enumerate(sols.t)):\n",
    "    sim.integrate(t)\n",
    "    e_inner_rb[i] = inner.e\n",
    "    e_outer_rb[i] = outer.e\n",
    "    p_inner_rb[i] = inner.P\n",
    "    p_outer_rb[i] = outer.P\n",
    "    "
   ]
  },
  {
   "cell_type": "markdown",
   "metadata": {},
   "source": [
    "Plotting the results of Hamiltonian EOM:"
   ]
  },
  {
   "cell_type": "code",
   "execution_count": null,
   "metadata": {},
   "outputs": [],
   "source": [
    "plt.figure(figsize = (14, 8))\n",
    "plt.plot(sols.t, e_inner_arr, label = 'inner')\n",
    "plt.plot(sols.t, e_outer_arr, label = 'outer')\n",
    "plt.legend()"
   ]
  },
  {
   "cell_type": "code",
   "execution_count": null,
   "metadata": {},
   "outputs": [],
   "source": [
    "plt.figure(figsize = (14, 8))\n",
    "plt.plot(sols.t, p_outer_arr/p_inner_arr)"
   ]
  },
  {
   "cell_type": "code",
   "execution_count": null,
   "metadata": {},
   "outputs": [],
   "source": [
    "plt.figure(figsize = (14, 8))\n",
    "plt.plot(sols.t, np.mod(sols.y[1],2*np.pi))\n",
    "plt.ylim(0,2*np.pi)"
   ]
  },
  {
   "cell_type": "markdown",
   "metadata": {},
   "source": [
    "Plotting the results from REBOUND:"
   ]
  },
  {
   "cell_type": "code",
   "execution_count": null,
   "metadata": {},
   "outputs": [],
   "source": [
    "plt.figure(figsize = (14, 8))\n",
    "plt.plot(sols.t, e_inner_rb, label = 'inner')\n",
    "plt.plot(sols.t, e_outer_rb, label = 'outer')\n",
    "plt.legend()"
   ]
  },
  {
   "cell_type": "code",
   "execution_count": null,
   "metadata": {},
   "outputs": [],
   "source": [
    "plt.figure(figsize = (14, 8))\n",
    "plt.plot(sols.t, p_outer_rb/p_inner_rb)"
   ]
  }
 ],
 "metadata": {
  "kernelspec": {
   "display_name": "Python 3",
   "language": "python",
   "name": "python3"
  },
  "language_info": {
   "codemirror_mode": {
    "name": "ipython",
    "version": 3
   },
   "file_extension": ".py",
   "mimetype": "text/x-python",
   "name": "python",
   "nbconvert_exporter": "python",
   "pygments_lexer": "ipython3",
   "version": "3.8.10"
  }
 },
 "nbformat": 4,
 "nbformat_minor": 4
}
