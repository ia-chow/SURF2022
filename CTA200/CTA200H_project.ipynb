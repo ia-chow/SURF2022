{
 "cells": [
  {
   "cell_type": "markdown",
   "metadata": {},
   "source": [
    "## Conservative Dynamics"
   ]
  },
  {
   "cell_type": "markdown",
   "metadata": {},
   "source": [
    "### Semi-analytic Equations of Motion"
   ]
  },
  {
   "cell_type": "markdown",
   "metadata": {},
   "source": [
    "Import `rebound` and `celmech` packages as well as other packages:"
   ]
  },
  {
   "cell_type": "code",
   "execution_count": 22,
   "metadata": {},
   "outputs": [],
   "source": [
    "import rebound as rb\n",
    "import celmech as cm\n",
    "import scipy\n",
    "import numpy as np\n",
    "import matplotlib.pyplot as plt\n",
    "import radvel\n",
    "import pandas as pd"
   ]
  },
  {
   "cell_type": "markdown",
   "metadata": {},
   "source": [
    "Import data:"
   ]
  },
  {
   "cell_type": "code",
   "execution_count": 25,
   "metadata": {},
   "outputs": [],
   "source": [
    "hd_data = pd.read_csv('hd45364_rvs.csv', sep =';')\n",
    "hd_data.BJD -= 2.4e6"
   ]
  },
  {
   "cell_type": "markdown",
   "metadata": {},
   "source": [
    "Params:"
   ]
  },
  {
   "cell_type": "code",
   "execution_count": 26,
   "metadata": {},
   "outputs": [],
   "source": [
    "#Least squares fit: \n",
    "fit_params = [ 2.28513053e+02, 7.27743508e+00, 5.39371890e+04, -1.78110513e-01, \n",
    "              -4.66450116e-02, 3.43378023e+02, 1.78603199e+01, 5.40186750e+04,\n",
    "               1.32165040e-01, 9.73129308e-02, -5.29039776e-01] \n",
    "\n",
    "# star mass, g and auday to m/s conversion factor\n",
    "STAR_MASS = 920  # 920 jupiter masses\n",
    "G = 2.825e-7  # converting G to jupiter masses, au, and days\n",
    "AUDAY_MS = 1.731e6  # conversion factor for au/day to m/s"
   ]
  },
  {
   "cell_type": "markdown",
   "metadata": {},
   "source": [
    "Get sim using least squares params:"
   ]
  },
  {
   "cell_type": "code",
   "execution_count": 27,
   "metadata": {},
   "outputs": [],
   "source": [
    "def mass_to_semiamp(planet_mass, star_mass, period, eccentricity, inclination):\n",
    "    \"\"\"\n",
    "    planet mass (jupiter masses) to semi amplitude\n",
    "    \"\"\"\n",
    "    return ((2 * np.pi * G/period) ** (1/3) * (planet_mass * np.sin(inclination) / star_mass ** (2/3)) * (1/np.sqrt(1 - eccentricity ** 2)))\n",
    "\n",
    "def semiamp_to_mass(semiamp, star_mass, period, eccentricity, inclination):\n",
    "    \"\"\"\n",
    "    semi amplitude to planet mass (jupiter masses)\n",
    "    \"\"\"\n",
    "    return (((2 * np.pi * G/period) ** (-1/3)) * (semiamp / np.sin(inclination)) * np.sqrt(1 - eccentricity ** 2) * (star_mass ** (2/3)))\n",
    "\n",
    "\n",
    "def get_sim_from_params(params, inclination, integrator, time_base, star_mass = STAR_MASS, auday_ms = AUDAY_MS):\n",
    "    \"\"\"\n",
    "    takes in params array, returns a rebound Simulation object with those parameters\n",
    "    \n",
    "    param params: numpy array of params:\n",
    "    \n",
    "    for i in range(0, num_planets):\n",
    "    \n",
    "    params[i + 0] is period\n",
    "    params[i + 1] is semiamp\n",
    "    params[i + 2] is tc (time of conjunction)\n",
    "    params[i + 3] is sqrt(e) * cos(omega)\n",
    "    params[i + 4] is sqrt(e) * sin(omega)\n",
    "    \n",
    "    params[5 * num_planets] is rv offset\n",
    "    params[5 * num_planets + 1] is jit\n",
    "    \n",
    "    param inclination: inclination of system in the observation plane (pi/2 is in the plane of the sky, 0 is edge-on)\n",
    "    param integrator: integrator to use, one of 'whfast' or 'ias15'\n",
    "    param time_base: base time (to begin integration from) in the simulation\n",
    "    \"\"\"\n",
    "    \n",
    "    num_planets = int((len(params) - 1) / 5) # -2 because there are rv_offset and jit parameters:\n",
    "    \n",
    "    sim = rb.Simulation()\n",
    "    sim.integrator = integrator\n",
    "    sim.t = time_base  # keplerian and n-body models initialized at the same time offset\n",
    "    # print(sim.t)\n",
    "    if integrator == 'whfast':  # if using whfast integrator, set timestep\n",
    "        sim.dt = 1/50 * min(params[0::5][:-1])  # timestep is 1/20th of the shortest orbital period of any planet\n",
    "        # print(sim.dt)\n",
    "    sim.units = ('AU', 'Mjupiter', 'day')\n",
    "\n",
    "    sim.add(m = star_mass)  # star mass as a constant\n",
    "        \n",
    "    for i in range (0, num_planets):\n",
    "        # print(i)\n",
    "        # planet parameters\n",
    "        period = params[5*i]  # in days\n",
    "        semiamp = params[5*i + 1] / auday_ms # divide by auday_ms because semiamp given in m/s\n",
    "        eccentricity = params[5*i + 3] ** 2 + params[5*i + 4] ** 2  # eccentricity from secos, sesin\n",
    "        omega = np.arctan2(params[5*i + 3], params[5*i + 4])  # omega from arctan of sesin, secos\n",
    "        # get tp by converting from tc\n",
    "        tp = radvel.orbit.timetrans_to_timeperi(params[5*i + 2], per = period, ecc = eccentricity, omega = omega)\n",
    "        \n",
    "        # mass\n",
    "        mass = semiamp_to_mass(semiamp = semiamp, star_mass = star_mass, period = period, eccentricity = eccentricity, inclination = inclination)\n",
    "        \n",
    "        # adding to simulation\n",
    "        sim.add(m = mass, P = period, e = eccentricity, T = tp, omega = omega, inc = inclination)\n",
    "        \n",
    "    sim.move_to_com()  # move to center of mass\n",
    "    \n",
    "    return sim\n"
   ]
  },
  {
   "cell_type": "markdown",
   "metadata": {},
   "source": [
    "Create sim from params:"
   ]
  },
  {
   "cell_type": "code",
   "execution_count": 95,
   "metadata": {},
   "outputs": [],
   "source": [
    "sim = get_sim_from_params(fit_params, inclination = np.pi/2, integrator = 'ias15', time_base = np.median(hd_data.BJD))\n",
    "inner = sim.particles[1]\n",
    "outer = sim.particles[2]"
   ]
  },
  {
   "cell_type": "markdown",
   "metadata": {},
   "source": [
    "Construct Hamiltonian for the system:"
   ]
  },
  {
   "cell_type": "code",
   "execution_count": 96,
   "metadata": {},
   "outputs": [],
   "source": [
    "pvars = cm.Poincare.from_Simulation(sim)\n",
    "pham = cm.PoincareHamiltonian(pvars)"
   ]
  },
  {
   "cell_type": "code",
   "execution_count": 97,
   "metadata": {},
   "outputs": [
    {
     "data": {
      "text/latex": [
       "$\\displaystyle - \\frac{G^{2} M_{2}^{2} \\mu_{2}^{3}}{2 \\Lambda_{2}^{2}} - \\frac{G^{2} M_{1}^{2} \\mu_{1}^{3}}{2 \\Lambda_{1}^{2}}$"
      ],
      "text/plain": [
       "-G**2*M2**2*mu2**3/(2*Lambda2**2) - G**2*M1**2*mu1**3/(2*Lambda1**2)"
      ]
     },
     "execution_count": 97,
     "metadata": {},
     "output_type": "execute_result"
    }
   ],
   "source": [
    "pham.H"
   ]
  },
  {
   "cell_type": "code",
   "execution_count": 98,
   "metadata": {},
   "outputs": [],
   "source": [
    "pham.add_eccentricity_MMR_terms(3, 1, max_order=3)"
   ]
  },
  {
   "cell_type": "code",
   "execution_count": 99,
   "metadata": {},
   "outputs": [
    {
     "data": {
      "text/latex": [
       "$\\displaystyle - \\frac{C^{0,0,0,0;(1,2)}_{3,-2,-1,0,0,0} G^{2} M_{2} m_{1} m_{2} \\mu_{2}^{2} \\left(\\frac{\\eta_{1} \\sin{\\left(2 \\lambda_{1} - 3 \\lambda_{2} \\right)}}{\\sqrt{\\Lambda_{1}}} + \\frac{\\kappa_{1} \\cos{\\left(2 \\lambda_{1} - 3 \\lambda_{2} \\right)}}{\\sqrt{\\Lambda_{1}}}\\right)}{\\Lambda_{2}^{2}} - \\frac{C^{0,0,0,1;(1,2)}_{3,-2,-1,0,0,0} G^{2} M_{2} m_{1} m_{2} \\mu_{2}^{2} \\left(\\eta_{2}^{2} + \\kappa_{2}^{2}\\right) \\left(\\frac{\\eta_{1} \\sin{\\left(2 \\lambda_{1} - 3 \\lambda_{2} \\right)}}{\\sqrt{\\Lambda_{1}}} + \\frac{\\kappa_{1} \\cos{\\left(2 \\lambda_{1} - 3 \\lambda_{2} \\right)}}{\\sqrt{\\Lambda_{1}}}\\right)}{\\Lambda_{2}^{3}} - \\frac{C^{0,0,1,0;(1,2)}_{3,-2,-1,0,0,0} G^{2} M_{2} m_{1} m_{2} \\mu_{2}^{2} \\left(\\eta_{1}^{2} + \\kappa_{1}^{2}\\right) \\left(\\frac{\\eta_{1} \\sin{\\left(2 \\lambda_{1} - 3 \\lambda_{2} \\right)}}{\\sqrt{\\Lambda_{1}}} + \\frac{\\kappa_{1} \\cos{\\left(2 \\lambda_{1} - 3 \\lambda_{2} \\right)}}{\\sqrt{\\Lambda_{1}}}\\right)}{\\Lambda_{1} \\Lambda_{2}^{2}} - \\frac{C^{0,1,0,0;(1,2)}_{3,-2,-1,0,0,0} G^{2} M_{2} m_{1} m_{2} \\mu_{2}^{2} \\left(\\frac{\\rho_{2}^{2}}{2} + \\frac{\\sigma_{2}^{2}}{2}\\right) \\left(\\frac{\\eta_{1} \\sin{\\left(2 \\lambda_{1} - 3 \\lambda_{2} \\right)}}{\\sqrt{\\Lambda_{1}}} + \\frac{\\kappa_{1} \\cos{\\left(2 \\lambda_{1} - 3 \\lambda_{2} \\right)}}{\\sqrt{\\Lambda_{1}}}\\right)}{2 \\Lambda_{2}^{3}} - \\frac{C^{1,0,0,0;(1,2)}_{3,-2,-1,0,0,0} G^{2} M_{2} m_{1} m_{2} \\mu_{2}^{2} \\left(\\frac{\\rho_{1}^{2}}{2} + \\frac{\\sigma_{1}^{2}}{2}\\right) \\left(\\frac{\\eta_{1} \\sin{\\left(2 \\lambda_{1} - 3 \\lambda_{2} \\right)}}{\\sqrt{\\Lambda_{1}}} + \\frac{\\kappa_{1} \\cos{\\left(2 \\lambda_{1} - 3 \\lambda_{2} \\right)}}{\\sqrt{\\Lambda_{1}}}\\right)}{2 \\Lambda_{1} \\Lambda_{2}^{2}} - \\frac{C^{0,0,0,0;(1,2)}_{3,-2,0,-1,0,0} G^{2} M_{2} m_{1} m_{2} \\mu_{2}^{2} \\left(\\frac{\\eta_{2} \\sin{\\left(2 \\lambda_{1} - 3 \\lambda_{2} \\right)}}{\\sqrt{\\Lambda_{2}}} + \\frac{\\kappa_{2} \\cos{\\left(2 \\lambda_{1} - 3 \\lambda_{2} \\right)}}{\\sqrt{\\Lambda_{2}}}\\right)}{\\Lambda_{2}^{2}} - \\frac{C^{0,0,0,1;(1,2)}_{3,-2,0,-1,0,0} G^{2} M_{2} m_{1} m_{2} \\mu_{2}^{2} \\left(\\eta_{2}^{2} + \\kappa_{2}^{2}\\right) \\left(\\frac{\\eta_{2} \\sin{\\left(2 \\lambda_{1} - 3 \\lambda_{2} \\right)}}{\\sqrt{\\Lambda_{2}}} + \\frac{\\kappa_{2} \\cos{\\left(2 \\lambda_{1} - 3 \\lambda_{2} \\right)}}{\\sqrt{\\Lambda_{2}}}\\right)}{\\Lambda_{2}^{3}} - \\frac{C^{0,0,1,0;(1,2)}_{3,-2,0,-1,0,0} G^{2} M_{2} m_{1} m_{2} \\mu_{2}^{2} \\left(\\eta_{1}^{2} + \\kappa_{1}^{2}\\right) \\left(\\frac{\\eta_{2} \\sin{\\left(2 \\lambda_{1} - 3 \\lambda_{2} \\right)}}{\\sqrt{\\Lambda_{2}}} + \\frac{\\kappa_{2} \\cos{\\left(2 \\lambda_{1} - 3 \\lambda_{2} \\right)}}{\\sqrt{\\Lambda_{2}}}\\right)}{\\Lambda_{1} \\Lambda_{2}^{2}} - \\frac{C^{0,1,0,0;(1,2)}_{3,-2,0,-1,0,0} G^{2} M_{2} m_{1} m_{2} \\mu_{2}^{2} \\left(\\frac{\\rho_{2}^{2}}{2} + \\frac{\\sigma_{2}^{2}}{2}\\right) \\left(\\frac{\\eta_{2} \\sin{\\left(2 \\lambda_{1} - 3 \\lambda_{2} \\right)}}{\\sqrt{\\Lambda_{2}}} + \\frac{\\kappa_{2} \\cos{\\left(2 \\lambda_{1} - 3 \\lambda_{2} \\right)}}{\\sqrt{\\Lambda_{2}}}\\right)}{2 \\Lambda_{2}^{3}} - \\frac{C^{1,0,0,0;(1,2)}_{3,-2,0,-1,0,0} G^{2} M_{2} m_{1} m_{2} \\mu_{2}^{2} \\left(\\frac{\\rho_{1}^{2}}{2} + \\frac{\\sigma_{1}^{2}}{2}\\right) \\left(\\frac{\\eta_{2} \\sin{\\left(2 \\lambda_{1} - 3 \\lambda_{2} \\right)}}{\\sqrt{\\Lambda_{2}}} + \\frac{\\kappa_{2} \\cos{\\left(2 \\lambda_{1} - 3 \\lambda_{2} \\right)}}{\\sqrt{\\Lambda_{2}}}\\right)}{2 \\Lambda_{1} \\Lambda_{2}^{2}} - \\frac{C^{0,0,0,0;(1,2)}_{6,-4,-1,-1,0,0} G^{2} M_{2} m_{1} m_{2} \\mu_{2}^{2} \\left(\\left(- \\frac{\\eta_{1} \\eta_{2}}{\\sqrt{\\Lambda_{1}} \\sqrt{\\Lambda_{2}}} + \\frac{\\kappa_{1} \\kappa_{2}}{\\sqrt{\\Lambda_{1}} \\sqrt{\\Lambda_{2}}}\\right) \\cos{\\left(4 \\lambda_{1} - 6 \\lambda_{2} \\right)} + \\left(\\frac{\\eta_{1} \\kappa_{2}}{\\sqrt{\\Lambda_{1}} \\sqrt{\\Lambda_{2}}} + \\frac{\\eta_{2} \\kappa_{1}}{\\sqrt{\\Lambda_{1}} \\sqrt{\\Lambda_{2}}}\\right) \\sin{\\left(4 \\lambda_{1} - 6 \\lambda_{2} \\right)}\\right)}{\\Lambda_{2}^{2}} - \\frac{C^{0,0,0,0;(1,2)}_{6,-4,-2,0,0,0} G^{2} M_{2} m_{1} m_{2} \\mu_{2}^{2} \\left(\\left(- \\frac{\\eta_{1}^{2}}{\\Lambda_{1}} + \\frac{\\kappa_{1}^{2}}{\\Lambda_{1}}\\right) \\cos{\\left(4 \\lambda_{1} - 6 \\lambda_{2} \\right)} + \\frac{2 \\eta_{1} \\kappa_{1} \\sin{\\left(4 \\lambda_{1} - 6 \\lambda_{2} \\right)}}{\\Lambda_{1}}\\right)}{\\Lambda_{2}^{2}} - \\frac{C^{0,0,0,0;(1,2)}_{6,-4,0,-2,0,0} G^{2} M_{2} m_{1} m_{2} \\mu_{2}^{2} \\left(\\left(- \\frac{\\eta_{2}^{2}}{\\Lambda_{2}} + \\frac{\\kappa_{2}^{2}}{\\Lambda_{2}}\\right) \\cos{\\left(4 \\lambda_{1} - 6 \\lambda_{2} \\right)} + \\frac{2 \\eta_{2} \\kappa_{2} \\sin{\\left(4 \\lambda_{1} - 6 \\lambda_{2} \\right)}}{\\Lambda_{2}}\\right)}{\\Lambda_{2}^{2}} - \\frac{C^{0,0,0,0;(1,2)}_{9,-6,-1,-2,0,0} G^{2} M_{2} m_{1} m_{2} \\mu_{2}^{2} \\left(\\left(\\frac{\\eta_{1} \\left(- \\frac{\\eta_{2}^{2}}{\\Lambda_{2}} + \\frac{\\kappa_{2}^{2}}{\\Lambda_{2}}\\right)}{\\sqrt{\\Lambda_{1}}} + \\frac{2 \\eta_{2} \\kappa_{1} \\kappa_{2}}{\\sqrt{\\Lambda_{1}} \\Lambda_{2}}\\right) \\sin{\\left(6 \\lambda_{1} - 9 \\lambda_{2} \\right)} + \\left(\\frac{\\kappa_{1} \\left(- \\frac{\\eta_{2}^{2}}{\\Lambda_{2}} + \\frac{\\kappa_{2}^{2}}{\\Lambda_{2}}\\right)}{\\sqrt{\\Lambda_{1}}} - \\frac{2 \\eta_{1} \\eta_{2} \\kappa_{2}}{\\sqrt{\\Lambda_{1}} \\Lambda_{2}}\\right) \\cos{\\left(6 \\lambda_{1} - 9 \\lambda_{2} \\right)}\\right)}{\\Lambda_{2}^{2}} - \\frac{C^{0,0,0,0;(1,2)}_{9,-6,-2,-1,0,0} G^{2} M_{2} m_{1} m_{2} \\mu_{2}^{2} \\left(\\left(\\frac{\\eta_{2} \\left(- \\frac{\\eta_{1}^{2}}{\\Lambda_{1}} + \\frac{\\kappa_{1}^{2}}{\\Lambda_{1}}\\right)}{\\sqrt{\\Lambda_{2}}} + \\frac{2 \\eta_{1} \\kappa_{1} \\kappa_{2}}{\\Lambda_{1} \\sqrt{\\Lambda_{2}}}\\right) \\sin{\\left(6 \\lambda_{1} - 9 \\lambda_{2} \\right)} + \\left(\\frac{\\kappa_{2} \\left(- \\frac{\\eta_{1}^{2}}{\\Lambda_{1}} + \\frac{\\kappa_{1}^{2}}{\\Lambda_{1}}\\right)}{\\sqrt{\\Lambda_{2}}} - \\frac{2 \\eta_{1} \\eta_{2} \\kappa_{1}}{\\Lambda_{1} \\sqrt{\\Lambda_{2}}}\\right) \\cos{\\left(6 \\lambda_{1} - 9 \\lambda_{2} \\right)}\\right)}{\\Lambda_{2}^{2}} - \\frac{C^{0,0,0,0;(1,2)}_{9,-6,-3,0,0,0} G^{2} M_{2} m_{1} m_{2} \\mu_{2}^{2} \\left(\\left(- \\frac{\\eta_{1}^{3}}{\\Lambda_{1}^{\\frac{3}{2}}} + \\frac{3 \\eta_{1} \\kappa_{1}^{2}}{\\Lambda_{1}^{\\frac{3}{2}}}\\right) \\sin{\\left(6 \\lambda_{1} - 9 \\lambda_{2} \\right)} + \\left(- \\frac{3 \\eta_{1}^{2} \\kappa_{1}}{\\Lambda_{1}^{\\frac{3}{2}}} + \\frac{\\kappa_{1}^{3}}{\\Lambda_{1}^{\\frac{3}{2}}}\\right) \\cos{\\left(6 \\lambda_{1} - 9 \\lambda_{2} \\right)}\\right)}{\\Lambda_{2}^{2}} - \\frac{C^{0,0,0,0;(1,2)}_{9,-6,0,-3,0,0} G^{2} M_{2} m_{1} m_{2} \\mu_{2}^{2} \\left(\\left(- \\frac{\\eta_{2}^{3}}{\\Lambda_{2}^{\\frac{3}{2}}} + \\frac{3 \\eta_{2} \\kappa_{2}^{2}}{\\Lambda_{2}^{\\frac{3}{2}}}\\right) \\sin{\\left(6 \\lambda_{1} - 9 \\lambda_{2} \\right)} + \\left(- \\frac{3 \\eta_{2}^{2} \\kappa_{2}}{\\Lambda_{2}^{\\frac{3}{2}}} + \\frac{\\kappa_{2}^{3}}{\\Lambda_{2}^{\\frac{3}{2}}}\\right) \\cos{\\left(6 \\lambda_{1} - 9 \\lambda_{2} \\right)}\\right)}{\\Lambda_{2}^{2}} - \\frac{G^{2} M_{2}^{2} \\mu_{2}^{3}}{2 \\Lambda_{2}^{2}} - \\frac{G^{2} M_{1}^{2} \\mu_{1}^{3}}{2 \\Lambda_{1}^{2}}$"
      ],
      "text/plain": [
       "-C_3,-2,-1,0,0,0^0,0,0,0;(1,2)*G**2*M2*m1*m2*mu2**2*(eta1*sin(2*lambda1 - 3*lambda2)/sqrt(Lambda1) + kappa1*cos(2*lambda1 - 3*lambda2)/sqrt(Lambda1))/Lambda2**2 - C_3,-2,-1,0,0,0^0,0,0,1;(1,2)*G**2*M2*m1*m2*mu2**2*(eta2**2 + kappa2**2)*(eta1*sin(2*lambda1 - 3*lambda2)/sqrt(Lambda1) + kappa1*cos(2*lambda1 - 3*lambda2)/sqrt(Lambda1))/Lambda2**3 - C_3,-2,-1,0,0,0^0,0,1,0;(1,2)*G**2*M2*m1*m2*mu2**2*(eta1**2 + kappa1**2)*(eta1*sin(2*lambda1 - 3*lambda2)/sqrt(Lambda1) + kappa1*cos(2*lambda1 - 3*lambda2)/sqrt(Lambda1))/(Lambda1*Lambda2**2) - C_3,-2,-1,0,0,0^0,1,0,0;(1,2)*G**2*M2*m1*m2*mu2**2*(rho2**2/2 + sigma2**2/2)*(eta1*sin(2*lambda1 - 3*lambda2)/sqrt(Lambda1) + kappa1*cos(2*lambda1 - 3*lambda2)/sqrt(Lambda1))/(2*Lambda2**3) - C_3,-2,-1,0,0,0^1,0,0,0;(1,2)*G**2*M2*m1*m2*mu2**2*(rho1**2/2 + sigma1**2/2)*(eta1*sin(2*lambda1 - 3*lambda2)/sqrt(Lambda1) + kappa1*cos(2*lambda1 - 3*lambda2)/sqrt(Lambda1))/(2*Lambda1*Lambda2**2) - C_3,-2,0,-1,0,0^0,0,0,0;(1,2)*G**2*M2*m1*m2*mu2**2*(eta2*sin(2*lambda1 - 3*lambda2)/sqrt(Lambda2) + kappa2*cos(2*lambda1 - 3*lambda2)/sqrt(Lambda2))/Lambda2**2 - C_3,-2,0,-1,0,0^0,0,0,1;(1,2)*G**2*M2*m1*m2*mu2**2*(eta2**2 + kappa2**2)*(eta2*sin(2*lambda1 - 3*lambda2)/sqrt(Lambda2) + kappa2*cos(2*lambda1 - 3*lambda2)/sqrt(Lambda2))/Lambda2**3 - C_3,-2,0,-1,0,0^0,0,1,0;(1,2)*G**2*M2*m1*m2*mu2**2*(eta1**2 + kappa1**2)*(eta2*sin(2*lambda1 - 3*lambda2)/sqrt(Lambda2) + kappa2*cos(2*lambda1 - 3*lambda2)/sqrt(Lambda2))/(Lambda1*Lambda2**2) - C_3,-2,0,-1,0,0^0,1,0,0;(1,2)*G**2*M2*m1*m2*mu2**2*(rho2**2/2 + sigma2**2/2)*(eta2*sin(2*lambda1 - 3*lambda2)/sqrt(Lambda2) + kappa2*cos(2*lambda1 - 3*lambda2)/sqrt(Lambda2))/(2*Lambda2**3) - C_3,-2,0,-1,0,0^1,0,0,0;(1,2)*G**2*M2*m1*m2*mu2**2*(rho1**2/2 + sigma1**2/2)*(eta2*sin(2*lambda1 - 3*lambda2)/sqrt(Lambda2) + kappa2*cos(2*lambda1 - 3*lambda2)/sqrt(Lambda2))/(2*Lambda1*Lambda2**2) - C_6,-4,-1,-1,0,0^0,0,0,0;(1,2)*G**2*M2*m1*m2*mu2**2*((-eta1*eta2/(sqrt(Lambda1)*sqrt(Lambda2)) + kappa1*kappa2/(sqrt(Lambda1)*sqrt(Lambda2)))*cos(4*lambda1 - 6*lambda2) + (eta1*kappa2/(sqrt(Lambda1)*sqrt(Lambda2)) + eta2*kappa1/(sqrt(Lambda1)*sqrt(Lambda2)))*sin(4*lambda1 - 6*lambda2))/Lambda2**2 - C_6,-4,-2,0,0,0^0,0,0,0;(1,2)*G**2*M2*m1*m2*mu2**2*((-eta1**2/Lambda1 + kappa1**2/Lambda1)*cos(4*lambda1 - 6*lambda2) + 2*eta1*kappa1*sin(4*lambda1 - 6*lambda2)/Lambda1)/Lambda2**2 - C_6,-4,0,-2,0,0^0,0,0,0;(1,2)*G**2*M2*m1*m2*mu2**2*((-eta2**2/Lambda2 + kappa2**2/Lambda2)*cos(4*lambda1 - 6*lambda2) + 2*eta2*kappa2*sin(4*lambda1 - 6*lambda2)/Lambda2)/Lambda2**2 - C_9,-6,-1,-2,0,0^0,0,0,0;(1,2)*G**2*M2*m1*m2*mu2**2*((eta1*(-eta2**2/Lambda2 + kappa2**2/Lambda2)/sqrt(Lambda1) + 2*eta2*kappa1*kappa2/(sqrt(Lambda1)*Lambda2))*sin(6*lambda1 - 9*lambda2) + (kappa1*(-eta2**2/Lambda2 + kappa2**2/Lambda2)/sqrt(Lambda1) - 2*eta1*eta2*kappa2/(sqrt(Lambda1)*Lambda2))*cos(6*lambda1 - 9*lambda2))/Lambda2**2 - C_9,-6,-2,-1,0,0^0,0,0,0;(1,2)*G**2*M2*m1*m2*mu2**2*((eta2*(-eta1**2/Lambda1 + kappa1**2/Lambda1)/sqrt(Lambda2) + 2*eta1*kappa1*kappa2/(Lambda1*sqrt(Lambda2)))*sin(6*lambda1 - 9*lambda2) + (kappa2*(-eta1**2/Lambda1 + kappa1**2/Lambda1)/sqrt(Lambda2) - 2*eta1*eta2*kappa1/(Lambda1*sqrt(Lambda2)))*cos(6*lambda1 - 9*lambda2))/Lambda2**2 - C_9,-6,-3,0,0,0^0,0,0,0;(1,2)*G**2*M2*m1*m2*mu2**2*((-eta1**3/Lambda1**(3/2) + 3*eta1*kappa1**2/Lambda1**(3/2))*sin(6*lambda1 - 9*lambda2) + (-3*eta1**2*kappa1/Lambda1**(3/2) + kappa1**3/Lambda1**(3/2))*cos(6*lambda1 - 9*lambda2))/Lambda2**2 - C_9,-6,0,-3,0,0^0,0,0,0;(1,2)*G**2*M2*m1*m2*mu2**2*((-eta2**3/Lambda2**(3/2) + 3*eta2*kappa2**2/Lambda2**(3/2))*sin(6*lambda1 - 9*lambda2) + (-3*eta2**2*kappa2/Lambda2**(3/2) + kappa2**3/Lambda2**(3/2))*cos(6*lambda1 - 9*lambda2))/Lambda2**2 - G**2*M2**2*mu2**3/(2*Lambda2**2) - G**2*M1**2*mu1**3/(2*Lambda1**2)"
      ]
     },
     "execution_count": 99,
     "metadata": {},
     "output_type": "execute_result"
    }
   ],
   "source": [
    "pham.H"
   ]
  },
  {
   "cell_type": "markdown",
   "metadata": {},
   "source": [
    "Integrate:"
   ]
  },
  {
   "cell_type": "code",
   "execution_count": 100,
   "metadata": {},
   "outputs": [],
   "source": [
    "# Here we define the times at which we'll get simulation outputs\n",
    "Nout = 150\n",
    "times = np.linspace(0 , 3e3, Nout) * inner.P  # 3000 times the orbital period of teh inner planet\n",
    "\n",
    "# These are the quantites we'll track in our rebound and celmech integrations\n",
    "keys = ['l1','l2','pomega1','pomega2','e1','e2','a1','a2']\n",
    "\n",
    "# These dictionaries will hold our results\n",
    "rebound_results= {key:np.zeros(Nout) for key in keys}\n",
    "celmech_results= {key:np.zeros(Nout) for key in keys}\n",
    "\n",
    "# These are the lists of particles in both simulations\n",
    "# for which we'll save quantities.\n",
    "rb_particles = sim.particles\n",
    "cm_particles = pvars.particles"
   ]
  },
  {
   "cell_type": "code",
   "execution_count": null,
   "metadata": {},
   "outputs": [],
   "source": [
    "for i,t in enumerate(times):\n",
    "    sim.integrate(t) # advance N-body\n",
    "    pham.integrate(t) # advance celmech\n",
    "    for j,p_rb,p_cm in zip([1,2],rb_particles[1:],cm_particles[1:]):\n",
    "        # store N-body results\n",
    "        rebound_results[\"l{}\".format(j)][i] = p_rb.l\n",
    "        rebound_results[\"pomega{}\".format(j)][i] = p_rb.pomega\n",
    "        rebound_results[\"e{}\".format(j)][i] = p_rb.e\n",
    "        rebound_results[\"a{}\".format(j)][i] = p_rb.a\n",
    "\n",
    "        # store celmech results\n",
    "        celmech_results[\"l{}\".format(j)][i] = p_cm.l\n",
    "        celmech_results[\"pomega{}\".format(j)][i] = p_cm.pomega\n",
    "        celmech_results[\"e{}\".format(j)][i] = p_cm.e\n",
    "        celmech_results[\"a{}\".format(j)][i] = p_cm.a\n"
   ]
  },
  {
   "cell_type": "code",
   "execution_count": null,
   "metadata": {},
   "outputs": [],
   "source": [
    "# First, we compute resonant angles for both sets of results\n",
    "for d in [celmech_results,rebound_results]:\n",
    "    d['theta1'] = np.mod(3 * d['l2'] - 2 * d['l1'] - d['pomega1'],2*np.pi)\n",
    "    d['theta2'] = np.mod(3 * d['l2'] - 2 * d['l1'] - d['pomega2'],2*np.pi)\n",
    "\n",
    "# Now we'll create a figure...\n",
    "import matplotlib.pyplot as plt\n",
    "fig,ax = plt.subplots(3,2,sharex = True,figsize = (12,8))\n",
    "for i,q in enumerate(['theta','e','a']):\n",
    "    for j in range(2):\n",
    "        key = \"{:s}{:d}\".format(q,j+1)\n",
    "        ax[i,j].plot(times,rebound_results[key],'k.',label='$N$-body')\n",
    "        ax[i,j].plot(times,celmech_results[key],'r.',label='celmech')\n",
    "        ax[i,j].set_ylabel(key,fontsize=15)\n",
    "        ax[i,j].legend(loc='upper left')\n",
    "\n",
    "#... and make it pretty\n",
    "ax[0,0].set_ylim(0,2*np.pi);\n",
    "ax[0,1].set_ylim(0,2*np.pi);\n",
    "ax[2,0].set_xlabel(r\"$t/P_1$\",fontsize=15);\n",
    "ax[2,1].set_xlabel(r\"$t/P_1$\",fontsize=15);"
   ]
  },
  {
   "cell_type": "code",
   "execution_count": null,
   "metadata": {},
   "outputs": [],
   "source": []
  }
 ],
 "metadata": {
  "kernelspec": {
   "display_name": "Python 3",
   "language": "python",
   "name": "python3"
  },
  "language_info": {
   "codemirror_mode": {
    "name": "ipython",
    "version": 3
   },
   "file_extension": ".py",
   "mimetype": "text/x-python",
   "name": "python",
   "nbconvert_exporter": "python",
   "pygments_lexer": "ipython3",
   "version": "3.8.10"
  }
 },
 "nbformat": 4,
 "nbformat_minor": 4
}
